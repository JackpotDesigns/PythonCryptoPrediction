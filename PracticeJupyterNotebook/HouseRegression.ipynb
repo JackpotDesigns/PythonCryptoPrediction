{
 "cells": [
  {
   "cell_type": "markdown",
   "id": "773febc0",
   "metadata": {},
   "source": [
    "<Strong> Boston Housing Regression Problem</Strong>"
   ]
  },
  {
   "cell_type": "code",
   "execution_count": 59,
   "id": "ce29170b",
   "metadata": {},
   "outputs": [],
   "source": [
    "from keras.datasets import boston_housing\n",
    "from tensorflow.keras import optimizers\n",
    "import numpy as np\n",
    "from keras import models\n",
    "from keras import layers"
   ]
  },
  {
   "cell_type": "code",
   "execution_count": 62,
   "id": "1b8c830c",
   "metadata": {},
   "outputs": [],
   "source": [
    "(train_data, train_targets), (test_data, test_targets) = boston_housing.load_data()"
   ]
  },
  {
   "cell_type": "code",
   "execution_count": 68,
   "id": "a537ec76",
   "metadata": {},
   "outputs": [
    {
     "name": "stdout",
     "output_type": "stream",
     "text": [
      "(404, 13)\n"
     ]
    },
    {
     "data": {
      "text/plain": [
       "(102, 13)"
      ]
     },
     "execution_count": 68,
     "metadata": {},
     "output_type": "execute_result"
    }
   ],
   "source": [
    "print(train_data.shape)\n",
    "test_data.shape"
   ]
  },
  {
   "cell_type": "markdown",
   "id": "a8f1bcda",
   "metadata": {},
   "source": [
    "<Strong> Each one of the examples has 13 features such as crime rate , temperature </Strong>"
   ]
  },
  {
   "cell_type": "code",
   "execution_count": 69,
   "id": "f162a9a8",
   "metadata": {},
   "outputs": [
    {
     "data": {
      "text/plain": [
       "array([ 7.2, 18.8, 19. , 27. , 22.2, 24.5, 31.2, 22.9, 20.5, 23.2, 18.6,\n",
       "       14.5, 17.8, 50. , 20.8, 24.3, 24.2, 19.8, 19.1, 22.7, 12. , 10.2,\n",
       "       20. , 18.5, 20.9, 23. , 27.5, 30.1,  9.5, 22. , 21.2, 14.1, 33.1,\n",
       "       23.4, 20.1,  7.4, 15.4, 23.8, 20.1, 24.5, 33. , 28.4, 14.1, 46.7,\n",
       "       32.5, 29.6, 28.4, 19.8, 20.2, 25. , 35.4, 20.3,  9.7, 14.5, 34.9,\n",
       "       26.6,  7.2, 50. , 32.4, 21.6, 29.8, 13.1, 27.5, 21.2, 23.1, 21.9,\n",
       "       13. , 23.2,  8.1,  5.6, 21.7, 29.6, 19.6,  7. , 26.4, 18.9, 20.9,\n",
       "       28.1, 35.4, 10.2, 24.3, 43.1, 17.6, 15.4, 16.2, 27.1, 21.4, 21.5,\n",
       "       22.4, 25. , 16.6, 18.6, 22. , 42.8, 35.1, 21.5, 36. , 21.9, 24.1,\n",
       "       50. , 26.7, 25. ])"
      ]
     },
     "execution_count": 69,
     "metadata": {},
     "output_type": "execute_result"
    }
   ],
   "source": [
    "#Avg is 10,000 - 50,000\n",
    "train_targets\n",
    "test_targets"
   ]
  },
  {
   "cell_type": "markdown",
   "id": "aa28745f",
   "metadata": {},
   "source": [
    "<Strong> Feature-wise normalization , else it will make learning more difficult </Strong>"
   ]
  },
  {
   "cell_type": "markdown",
   "id": "e3884523",
   "metadata": {},
   "source": [
    "<Strong> axis=0 (columns) , subtract mean / standard deviation </Strong>"
   ]
  },
  {
   "cell_type": "markdown",
   "id": "64345d45",
   "metadata": {},
   "source": [
    "<Strong> s.t = How spread out the numbers are. Mean , (each no. - mean)^2 , mean of all them , square root that </Strong>"
   ]
  },
  {
   "cell_type": "markdown",
   "id": "fd747f7b",
   "metadata": {},
   "source": [
    "<Strong> Use training data for normalizing the test data. </Strong>"
   ]
  },
  {
   "cell_type": "code",
   "execution_count": 70,
   "id": "346dd874",
   "metadata": {},
   "outputs": [],
   "source": [
    "mean = train_data.mean(axis=0)\n",
    "train_data -= mean\n",
    "\n",
    "std = train_data.std(axis=0)\n",
    "train_data /= std\n",
    "\n",
    "test_data -= mean\n",
    "test_data /= std"
   ]
  },
  {
   "cell_type": "code",
   "execution_count": 71,
   "id": "61d02b2f",
   "metadata": {},
   "outputs": [],
   "source": [
    "def build_model():\n",
    "    model = models.Sequential()\n",
    "    model.add(layers.Dense(64, activation='relu',\n",
    "                           input_shape=(train_data.shape[1],)))\n",
    "    model.add(layers.Dense(64, activation='relu'))\n",
    "    model.add(layers.Dense(1))\n",
    "    model.compile(optimizer='rmsprop', loss='mse', metrics=['mae'])\n",
    "    return model"
   ]
  },
  {
   "cell_type": "markdown",
   "id": "03959002",
   "metadata": {},
   "source": [
    "<Strong>  Applying an activation function would constrain the range the out- put can take </Strong>"
   ]
  },
  {
   "cell_type": "markdown",
   "id": "70301678",
   "metadata": {},
   "source": [
    "<Strong> mse - difference between predicted and actual </Strong>"
   ]
  },
  {
   "cell_type": "markdown",
   "id": "d47b91eb",
   "metadata": {},
   "source": [
    "<Strong> K-Fold for if we have a small number of training exampes . the validation scores might change a lot depending on which data points you chose to use for validation and which you chose for training.</Strong>"
   ]
  },
  {
   "cell_type": "code",
   "execution_count": 79,
   "id": "3cd4b63c",
   "metadata": {},
   "outputs": [
    {
     "name": "stdout",
     "output_type": "stream",
     "text": [
      "processing fold # 0\n",
      "4/4 [==============================] - 0s 1ms/step - loss: 10.3395 - mae: 2.3813\n",
      "processing fold # 1\n",
      "4/4 [==============================] - 0s 1ms/step - loss: 10.2430 - mae: 2.3189\n",
      "processing fold # 2\n",
      "4/4 [==============================] - 0s 1ms/step - loss: 17.4403 - mae: 2.8781\n",
      "processing fold # 3\n",
      "4/4 [==============================] - 0s 2ms/step - loss: 12.5452 - mae: 2.5178\n"
     ]
    }
   ],
   "source": [
    "k=4\n",
    "num_val_samples = len(train_data) // k \n",
    "num_epochs = 100\n",
    "all_scores = []\n",
    "\n",
    "for i in range(k):\n",
    "    \n",
    "    print('processing fold #', i)\n",
    "    \n",
    "    #Setting the k-fold for validation , first round validation is the first fold\n",
    "    #0 - 101 , 101 - 202 , 202 - 303 , 303 - 404\n",
    "    val_data = train_data[i * num_val_samples: (i + 1) * num_val_samples] \n",
    "    val_targets = train_targets[i * num_val_samples: (i + 1) * num_val_samples]\n",
    "    \n",
    "    #Skipping the k-fold validation fold .\n",
    "    # upto 0 and 101 - \n",
    "    partial_train_data = np.concatenate( [train_data[:i * num_val_samples] , train_data[(i + 1) * num_val_samples:]], axis=0)\n",
    "    partial_train_targets = np.concatenate([train_targets[:i * num_val_samples] , train_targets[(i + 1) * num_val_samples:]], axis=0)\n",
    "    \n",
    "    #Instantiating the model with different training folds for the loop\n",
    "    model = build_model()\n",
    "    history = model.fit(partial_train_data, partial_train_targets,\n",
    "              epochs=num_epochs, batch_size=1, verbose=0)\n",
    "    \n",
    "    #evaluating on each validation fold after training on the other folds\n",
    "    val_mse, val_mae = model.evaluate(val_data, val_targets, verbose=1)\n",
    "    all_scores.append(val_mae)"
   ]
  },
  {
   "cell_type": "code",
   "execution_count": 80,
   "id": "1b8fc9cd",
   "metadata": {},
   "outputs": [
    {
     "data": {
      "text/plain": [
       "[2.3812813758850098, 2.3188724517822266, 2.8781075477600098, 2.517775058746338]"
      ]
     },
     "execution_count": 80,
     "metadata": {},
     "output_type": "execute_result"
    }
   ],
   "source": [
    "all_scores"
   ]
  },
  {
   "cell_type": "code",
   "execution_count": 81,
   "id": "a886c363",
   "metadata": {},
   "outputs": [
    {
     "data": {
      "text/plain": [
       "2.524009108543396"
      ]
     },
     "execution_count": 81,
     "metadata": {},
     "output_type": "execute_result"
    }
   ],
   "source": [
    "np.mean(all_scores)"
   ]
  },
  {
   "cell_type": "code",
   "execution_count": 47,
   "id": "d18b1873",
   "metadata": {},
   "outputs": [
    {
     "name": "stdout",
     "output_type": "stream",
     "text": [
      "[[3]\n",
      " [4]]\n"
     ]
    }
   ],
   "source": []
  },
  {
   "cell_type": "code",
   "execution_count": null,
   "id": "811d9740",
   "metadata": {},
   "outputs": [],
   "source": []
  },
  {
   "cell_type": "code",
   "execution_count": null,
   "id": "e53fe792",
   "metadata": {},
   "outputs": [],
   "source": []
  },
  {
   "cell_type": "code",
   "execution_count": null,
   "id": "c88e85df",
   "metadata": {},
   "outputs": [],
   "source": []
  },
  {
   "cell_type": "code",
   "execution_count": null,
   "id": "6d35ef1d",
   "metadata": {},
   "outputs": [],
   "source": []
  },
  {
   "cell_type": "code",
   "execution_count": 5,
   "id": "71f5dede",
   "metadata": {},
   "outputs": [
    {
     "data": {
      "text/plain": [
       "(102, 13)"
      ]
     },
     "execution_count": 5,
     "metadata": {},
     "output_type": "execute_result"
    }
   ],
   "source": []
  },
  {
   "cell_type": "code",
   "execution_count": null,
   "id": "3739c0fb",
   "metadata": {},
   "outputs": [],
   "source": []
  },
  {
   "cell_type": "code",
   "execution_count": null,
   "id": "6d418bd0",
   "metadata": {},
   "outputs": [],
   "source": []
  }
 ],
 "metadata": {
  "kernelspec": {
   "display_name": "Python 3 (ipykernel)",
   "language": "python",
   "name": "python3"
  },
  "language_info": {
   "codemirror_mode": {
    "name": "ipython",
    "version": 3
   },
   "file_extension": ".py",
   "mimetype": "text/x-python",
   "name": "python",
   "nbconvert_exporter": "python",
   "pygments_lexer": "ipython3",
   "version": "3.10.0"
  }
 },
 "nbformat": 4,
 "nbformat_minor": 5
}
