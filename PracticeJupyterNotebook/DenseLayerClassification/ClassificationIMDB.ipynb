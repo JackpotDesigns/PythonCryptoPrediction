{
 "cells": [
  {
   "cell_type": "markdown",
   "id": "3751a8d3",
   "metadata": {},
   "source": [
    "<Strong> Reading in the data </Strong>"
   ]
  },
  {
   "cell_type": "code",
   "execution_count": 261,
   "id": "f37e9785",
   "metadata": {},
   "outputs": [
    {
     "name": "stdout",
     "output_type": "stream",
     "text": [
      "The autoreload extension is already loaded. To reload it, use:\n",
      "  %reload_ext autoreload\n"
     ]
    }
   ],
   "source": [
    "%load_ext autoreload\n",
    "%autoreload 2\n",
    "%matplotlib inline"
   ]
  },
  {
   "cell_type": "code",
   "execution_count": 262,
   "id": "a2599f56",
   "metadata": {},
   "outputs": [],
   "source": [
    "\n",
    "from keras.datasets import imdb\n",
    "import numpy as np\n",
    "from keras import models\n",
    "from keras import layers\n",
    "import matplotlib.pyplot as plt\n",
    "from keras import optimizers\n",
    "from tensorflow.keras import optimizers\n",
    "\n",
    "\n",
    "# Load the data, keeping only 10,000 of the most frequently occuring words\n",
    "(train_data, train_labels), (test_data, test_labels) = imdb.load_data(num_words = 10000)"
   ]
  },
  {
   "cell_type": "markdown",
   "id": "44c8fed4",
   "metadata": {},
   "source": [
    "<Strong> train data = reviews (indx's of words) , train labels = 0/1 1 = positive class (positive)</Strong>"
   ]
  },
  {
   "cell_type": "markdown",
   "id": "9b4147f8",
   "metadata": {},
   "source": [
    "<Strong> Training and Test have 25000 Examples each. </Strong>"
   ]
  },
  {
   "cell_type": "code",
   "execution_count": 263,
   "id": "0f76a06e",
   "metadata": {},
   "outputs": [
    {
     "name": "stdout",
     "output_type": "stream",
     "text": [
      "1\n",
      "[1, 194, 1153, 194, 8255, 78, 228, 5, 6, 1463, 4369, 5012, 134, 26, 4, 715, 8, 118, 1634, 14, 394, 20, 13, 119, 954, 189, 102, 5, 207, 110, 3103, 21, 14, 69, 188, 8, 30, 23, 7, 4, 249, 126, 93, 4, 114, 9, 2300, 1523, 5, 647, 4, 116, 9, 35, 8163, 4, 229, 9, 340, 1322, 4, 118, 9, 4, 130, 4901, 19, 4, 1002, 5, 89, 29, 952, 46, 37, 4, 455, 9, 45, 43, 38, 1543, 1905, 398, 4, 1649, 26, 6853, 5, 163, 11, 3215, 2, 4, 1153, 9, 194, 775, 7, 8255, 2, 349, 2637, 148, 605, 2, 8003, 15, 123, 125, 68, 2, 6853, 15, 349, 165, 4362, 98, 5, 4, 228, 9, 43, 2, 1157, 15, 299, 120, 5, 120, 174, 11, 220, 175, 136, 50, 9, 4373, 228, 8255, 5, 2, 656, 245, 2350, 5, 4, 9837, 131, 152, 491, 18, 2, 32, 7464, 1212, 14, 9, 6, 371, 78, 22, 625, 64, 1382, 9, 8, 168, 145, 23, 4, 1690, 15, 16, 4, 1355, 5, 28, 6, 52, 154, 462, 33, 89, 78, 285, 16, 145, 95]\n"
     ]
    }
   ],
   "source": [
    "print(train_labels[0])\n",
    "print(train_data[1])"
   ]
  },
  {
   "cell_type": "markdown",
   "id": "dfffecac",
   "metadata": {},
   "source": [
    "<Strong> Word for each index .</Strong>"
   ]
  },
  {
   "cell_type": "code",
   "execution_count": 264,
   "id": "fefe192f",
   "metadata": {},
   "outputs": [
    {
     "name": "stdout",
     "output_type": "stream",
     "text": [
      "the\n"
     ]
    }
   ],
   "source": [
    "word_index = imdb.get_word_index()\n",
    "\n",
    "for key, value in word_index.items():\n",
    "    if 1 == value:\n",
    "        print (key)"
   ]
  },
  {
   "cell_type": "markdown",
   "id": "e26691b9",
   "metadata": {},
   "source": [
    "<Strong> Have to Change to <i>Tensors</i> to feed to Network </Strong>"
   ]
  },
  {
   "cell_type": "code",
   "execution_count": 265,
   "id": "d71704fd",
   "metadata": {},
   "outputs": [],
   "source": [
    "def vectorize_sequences(sequences, dimension=10000):\n",
    "    \n",
    "    # List with 25,000 Rows and 10,000 Columns (Max no. of words)\n",
    "    results = np.zeros((len(sequences), dimension))\n",
    "    \n",
    "    #enum and each review (0,[1,2,3,1,23,...])\n",
    "    for i, sequence in enumerate(sequences):\n",
    "        \n",
    "        #Sets specific indices of results[i] to 1 (indices of each sequence (columns of matrix))\n",
    "        results[i, sequence] = 1.\n",
    "                \n",
    "    return results"
   ]
  },
  {
   "cell_type": "code",
   "execution_count": 266,
   "id": "d01319a7",
   "metadata": {},
   "outputs": [],
   "source": [
    "x_train = vectorize_sequences(train_data)\n",
    "x_test = vectorize_sequences(test_data)"
   ]
  },
  {
   "cell_type": "markdown",
   "id": "ce26bb36",
   "metadata": {},
   "source": [
    "<Strong> Converting labels (y) to an array (floats). </Strong>"
   ]
  },
  {
   "cell_type": "code",
   "execution_count": 267,
   "id": "b4530fa7",
   "metadata": {},
   "outputs": [],
   "source": [
    "y_train = np.asarray(train_labels).astype('float32')\n",
    "y_test = test_labels.astype('float32')"
   ]
  },
  {
   "cell_type": "code",
   "execution_count": 268,
   "id": "d1317fa4",
   "metadata": {},
   "outputs": [
    {
     "data": {
      "text/plain": [
       "(25000, 10000)"
      ]
     },
     "execution_count": 268,
     "metadata": {},
     "output_type": "execute_result"
    }
   ],
   "source": [
    "x_train.shape"
   ]
  },
  {
   "cell_type": "markdown",
   "id": "2326f0f0",
   "metadata": {},
   "source": [
    "<p>\n",
    "A type of network that performs well on such a problem is a simple stack of fully connected (Dense) layers with relu activations: Dense(16, activation='relu').\n",
    "</p>\n"
   ]
  },
  {
   "cell_type": "markdown",
   "id": "434a000c",
   "metadata": {},
   "source": [
    "<Strong> Sigmoid as we are using classification with two options , so if neg produces results (0,1)"
   ]
  },
  {
   "cell_type": "code",
   "execution_count": 269,
   "id": "fac80f00",
   "metadata": {},
   "outputs": [],
   "source": [
    "model = models.Sequential()\n",
    "model.add(layers.Dense(16, activation='relu', input_shape=(10000,)))\n",
    "model.add(layers.Dense(16, activation='relu'))\n",
    "model.add(layers.Dense(1, activation='sigmoid'))"
   ]
  },
  {
   "cell_type": "markdown",
   "id": "9d9d1882",
   "metadata": {},
   "source": [
    "<Strong> Loss Func is Log Loss (binary_crossentropy) , error = accuracy (no.correct predics / all predics) , optimizer = like g.d </Strong></Strong>"
   ]
  },
  {
   "cell_type": "code",
   "execution_count": 270,
   "id": "a367e32c",
   "metadata": {},
   "outputs": [],
   "source": [
    "model.compile(optimizer=optimizers.RMSprop(learning_rate=0.001),\n",
    "                      loss='binary_crossentropy',\n",
    "                      metrics=['accuracy'])"
   ]
  },
  {
   "cell_type": "markdown",
   "id": "5da0d724",
   "metadata": {},
   "source": [
    "<Strong> Setting aside 10,000 examples for testing on unseen data , using for hyper-parameter selection. </Strong>"
   ]
  },
  {
   "cell_type": "code",
   "execution_count": 271,
   "id": "3d2d3bc8",
   "metadata": {},
   "outputs": [],
   "source": [
    "x_val = x_train[:10000]\n",
    "y_val = y_train[:10000]\n",
    "\n",
    "partial_x_train = x_train[10000:]\n",
    "partial_y_train = y_train[10000:]"
   ]
  },
  {
   "cell_type": "markdown",
   "id": "1c13705f",
   "metadata": {},
   "source": [
    "<p> After every batch (512), calculate the average loss for the batch (Performance L(yˆ, y) = How much ˆy differs from the true y). Goal of the optimizer is to optimize the loss function (find the best values for ) Calulate the gradient for each example in batch , then average for all 512  </p>"
   ]
  },
  {
   "cell_type": "code",
   "execution_count": 272,
   "id": "0be64a8b",
   "metadata": {},
   "outputs": [
    {
     "name": "stdout",
     "output_type": "stream",
     "text": [
      "Epoch 1/5\n",
      "30/30 [==============================] - 1s 31ms/step - loss: 0.5113 - accuracy: 0.7943 - val_loss: 0.3883 - val_accuracy: 0.8738\n",
      "Epoch 2/5\n",
      "30/30 [==============================] - 0s 16ms/step - loss: 0.3072 - accuracy: 0.9031 - val_loss: 0.3199 - val_accuracy: 0.8771\n",
      "Epoch 3/5\n",
      "30/30 [==============================] - 0s 16ms/step - loss: 0.2276 - accuracy: 0.9271 - val_loss: 0.2860 - val_accuracy: 0.8878\n",
      "Epoch 4/5\n",
      "30/30 [==============================] - 0s 15ms/step - loss: 0.1806 - accuracy: 0.9417 - val_loss: 0.2737 - val_accuracy: 0.8916\n",
      "Epoch 5/5\n",
      "30/30 [==============================] - 0s 16ms/step - loss: 0.1477 - accuracy: 0.9521 - val_loss: 0.2877 - val_accuracy: 0.8855\n"
     ]
    }
   ],
   "source": [
    "epoch = 5\n",
    "history = model.fit(partial_x_train,\n",
    "                    partial_y_train,\n",
    "                    epochs=epoch,\n",
    "                    batch_size=512,\n",
    "                    validation_data=(x_val, y_val))"
   ]
  },
  {
   "cell_type": "code",
   "execution_count": 273,
   "id": "db044c24",
   "metadata": {},
   "outputs": [
    {
     "name": "stdout",
     "output_type": "stream",
     "text": [
      "dict_keys(['loss', 'accuracy', 'val_loss', 'val_accuracy'])\n"
     ]
    },
    {
     "data": {
      "image/png": "[encoded data removed]",
      "text/plain": [
       "<Figure size 432x288 with 1 Axes>"
      ]
     },
     "metadata": {
      "needs_background": "light"
     },
     "output_type": "display_data"
    }
   ],
   "source": [
    "history_dict = history.history\n",
    "print(history_dict.keys())\n",
    "\n",
    "loss_values = history_dict['loss']\n",
    "val_loss_values = history_dict['val_loss']\n",
    "\n",
    "epochs = range(1, epoch + 1)\n",
    "\n",
    "\n",
    "plt.plot(epochs, loss_values, 'bo', label='Training loss')\n",
    "plt.plot(epochs, val_loss_values, 'b', label='Validation loss')\n",
    "plt.title('Training and validation loss')\n",
    "plt.xlabel('Epochs')\n",
    "plt.ylabel('Loss')\n",
    "plt.legend()\n",
    "plt.show()"
   ]
  },
  {
   "cell_type": "code",
   "execution_count": 277,
   "id": "010a50e7",
   "metadata": {},
   "outputs": [
    {
     "data": {
      "image/png": "[encoded data removed]",
      "text/plain": [
       "<Figure size 432x288 with 1 Axes>"
      ]
     },
     "metadata": {
      "needs_background": "light"
     },
     "output_type": "display_data"
    }
   ],
   "source": [
    "training_accuracy = history_dict['accuracy']\n",
    "val_accuracy = history_dict['val_accuracy']\n",
    "\n",
    "plt.clf() \n",
    "plt.plot(epochs, training_accuracy, 'bo', label='Training acc')\n",
    "plt.plot(epochs, val_accuracy, 'b', label='Validation acc')\n",
    "plt.title('Training and validation accuracy')\n",
    "plt.xlabel('Epochs')\n",
    "plt.ylabel('Accuracy')\n",
    "plt.legend()\n",
    "plt.show()"
   ]
  },
  {
   "cell_type": "markdown",
   "id": "38bdff1b",
   "metadata": {},
   "source": [
    "<Strong> Final Results </Strong>"
   ]
  },
  {
   "cell_type": "code",
   "execution_count": 279,
   "id": "87ece4fe",
   "metadata": {},
   "outputs": [
    {
     "name": "stdout",
     "output_type": "stream",
     "text": [
      "782/782 [==============================] - 1s 1ms/step - loss: 0.3125 - accuracy: 0.8746\n"
     ]
    },
    {
     "data": {
      "text/plain": [
       "array([[0.20500097],\n",
       "       [0.99797916],\n",
       "       [0.8444837 ],\n",
       "       ...,\n",
       "       [0.06203622],\n",
       "       [0.10679251],\n",
       "       [0.4179142 ]], dtype=float32)"
      ]
     },
     "execution_count": 279,
     "metadata": {},
     "output_type": "execute_result"
    }
   ],
   "source": [
    "results = model.evaluate(x_test, y_test)"
   ]
  },
  {
   "cell_type": "markdown",
   "id": "2dff1bbb",
   "metadata": {},
   "source": [
    "<Strong> Predicting if reviews to be Positive </Strong>"
   ]
  },
  {
   "cell_type": "code",
   "execution_count": 280,
   "id": "4a882db6",
   "metadata": {},
   "outputs": [
    {
     "data": {
      "text/plain": [
       "array([[0.20500097],\n",
       "       [0.99797916],\n",
       "       [0.8444837 ],\n",
       "       ...,\n",
       "       [0.06203622],\n",
       "       [0.10679251],\n",
       "       [0.4179142 ]], dtype=float32)"
      ]
     },
     "execution_count": 280,
     "metadata": {},
     "output_type": "execute_result"
    }
   ],
   "source": [
    "model.predict(x_test)"
   ]
  },
  {
   "cell_type": "code",
   "execution_count": null,
   "id": "de288d60",
   "metadata": {},
   "outputs": [],
   "source": []
  },
  {
   "cell_type": "code",
   "execution_count": null,
   "id": "46f32852",
   "metadata": {},
   "outputs": [],
   "source": []
  }
 ],
 "metadata": {
  "kernelspec": {
   "display_name": "Python 3 (ipykernel)",
   "language": "python",
   "name": "python3"
  },
  "language_info": {
   "codemirror_mode": {
    "name": "ipython",
    "version": 3
   },
   "file_extension": ".py",
   "mimetype": "text/x-python",
   "name": "python",
   "nbconvert_exporter": "python",
   "pygments_lexer": "ipython3",
   "version": "3.10.0"
  }
 },
 "nbformat": 4,
 "nbformat_minor": 5
}
