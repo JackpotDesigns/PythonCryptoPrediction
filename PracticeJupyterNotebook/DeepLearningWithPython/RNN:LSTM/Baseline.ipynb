{
 "cells": [
  {
   "cell_type": "code",
   "execution_count": 3,
   "id": "469e6e3e",
   "metadata": {},
   "outputs": [
    {
     "name": "stderr",
     "output_type": "stream",
     "text": [
      "/var/folders/cv/9wyhthmx21d7ylr5zx17lfmr0000gn/T/ipykernel_4321/946583044.py:10: FutureWarning: The pandas.datetime class is deprecated and will be removed from pandas in a future version. Import from datetime module instead.\n",
      "  from pandas import datetime\n"
     ]
    }
   ],
   "source": [
    "from sklearn.metrics import mean_squared_error\n",
    "import os \n",
    "import numpy as np\n",
    "from matplotlib import pyplot as plt \n",
    "import pandas as pd\n",
    "from sklearn import preprocessing\n",
    "from pandas import read_csv\n",
    "from sklearn.metrics import mean_absolute_error\n",
    "from pandas import read_csv\n",
    "from pandas import datetime"
   ]
  },
  {
   "cell_type": "markdown",
   "id": "7f1f61f4",
   "metadata": {},
   "source": [
    "<Strong> Computing the common sense model </Strong>"
   ]
  },
  {
   "cell_type": "code",
   "execution_count": 4,
   "id": "89f46fd1",
   "metadata": {},
   "outputs": [],
   "source": [
    "df = pd.read_csv('shampoo.csv')"
   ]
  },
  {
   "cell_type": "code",
   "execution_count": 5,
   "id": "d0734d7c",
   "metadata": {},
   "outputs": [
    {
     "data": {
      "text/html": [
       "<div>\n",
       "<style scoped>\n",
       "    .dataframe tbody tr th:only-of-type {\n",
       "        vertical-align: middle;\n",
       "    }\n",
       "\n",
       "    .dataframe tbody tr th {\n",
       "        vertical-align: top;\n",
       "    }\n",
       "\n",
       "    .dataframe thead th {\n",
       "        text-align: right;\n",
       "    }\n",
       "</style>\n",
       "<table border=\"1\" class=\"dataframe\">\n",
       "  <thead>\n",
       "    <tr style=\"text-align: right;\">\n",
       "      <th></th>\n",
       "      <th>t-1</th>\n",
       "      <th>t+1</th>\n",
       "    </tr>\n",
       "  </thead>\n",
       "  <tbody>\n",
       "    <tr>\n",
       "      <th>0</th>\n",
       "      <td>NaN</td>\n",
       "      <td>266.0</td>\n",
       "    </tr>\n",
       "    <tr>\n",
       "      <th>1</th>\n",
       "      <td>266.0</td>\n",
       "      <td>145.9</td>\n",
       "    </tr>\n",
       "    <tr>\n",
       "      <th>2</th>\n",
       "      <td>145.9</td>\n",
       "      <td>183.1</td>\n",
       "    </tr>\n",
       "    <tr>\n",
       "      <th>3</th>\n",
       "      <td>183.1</td>\n",
       "      <td>119.3</td>\n",
       "    </tr>\n",
       "    <tr>\n",
       "      <th>4</th>\n",
       "      <td>119.3</td>\n",
       "      <td>180.3</td>\n",
       "    </tr>\n",
       "  </tbody>\n",
       "</table>\n",
       "</div>"
      ],
      "text/plain": [
       "     t-1    t+1\n",
       "0    NaN  266.0\n",
       "1  266.0  145.9\n",
       "2  145.9  183.1\n",
       "3  183.1  119.3\n",
       "4  119.3  180.3"
      ]
     },
     "execution_count": 5,
     "metadata": {},
     "output_type": "execute_result"
    }
   ],
   "source": [
    "dfValues = df.values[:,1]\n",
    "\n",
    "shiftedData = pd.Series(dfValues).shift(1)\n",
    "Data=pd.Series(dfValues)\n",
    "dataframe = pd.DataFrame({'t-1':shiftedData, 't+1' : Data})\n",
    "dataframe.head()"
   ]
  },
  {
   "cell_type": "markdown",
   "id": "5f68521b",
   "metadata": {},
   "source": [
    "<Strong> So we want to predicts tomorrows weather , by predicting it will be todays. </Strong>"
   ]
  },
  {
   "cell_type": "code",
   "execution_count": 7,
   "id": "5aa26213",
   "metadata": {},
   "outputs": [],
   "source": [
    "X = dataframe.values"
   ]
  },
  {
   "cell_type": "code",
   "execution_count": 8,
   "id": "9cbdf264",
   "metadata": {},
   "outputs": [],
   "source": [
    "train_size = int(len(X) * 0.66)"
   ]
  },
  {
   "cell_type": "code",
   "execution_count": 9,
   "id": "02f965cc",
   "metadata": {},
   "outputs": [],
   "source": [
    "train, test = X[1:train_size] , X[train_size:]\n",
    "\n",
    "#Bacially t-1 is in train_X and t+1's in train_y\n",
    "train_X, train_y = train[:,0], train[:,1]\n",
    "test_X, test_y = test[:,0], test[:,1]"
   ]
  },
  {
   "cell_type": "code",
   "execution_count": 13,
   "id": "92779742",
   "metadata": {},
   "outputs": [
    {
     "data": {
      "text/plain": [
       "array([266.0, 145.9, 183.1, 119.3, 180.3, 168.5, 231.8, 224.5, 192.8,\n",
       "       122.9, 336.5, 185.9, 194.3, 149.5, 210.1, 273.3, 191.4, 287.0,\n",
       "       226.0, 303.6, 289.9, 421.6], dtype=object)"
      ]
     },
     "execution_count": 13,
     "metadata": {},
     "output_type": "execute_result"
    }
   ],
   "source": [
    "train_X"
   ]
  },
  {
   "cell_type": "code",
   "execution_count": 11,
   "id": "a309baed",
   "metadata": {},
   "outputs": [],
   "source": [
    "# persistence model\n",
    "def model_persistence(x):\n",
    "\treturn x"
   ]
  },
  {
   "cell_type": "code",
   "execution_count": 12,
   "id": "7255f1c3",
   "metadata": {},
   "outputs": [
    {
     "name": "stdout",
     "output_type": "stream",
     "text": [
      "Test MSE: 112.446\n"
     ]
    }
   ],
   "source": [
    "# walk-forward validation\n",
    "\n",
    "predictions = list()\n",
    "\n",
    "for x in test_X:\n",
    "    \n",
    "\tyhat = model_persistence(x)\n",
    "\tpredictions.append(yhat)\n",
    "    \n",
    "test_score = mean_absolute_error(test_y, predictions)\n",
    "\n",
    "print('Test MSE: %.3f' % test_score)"
   ]
  },
  {
   "cell_type": "code",
   "execution_count": null,
   "id": "8954f0ec",
   "metadata": {},
   "outputs": [],
   "source": []
  }
 ],
 "metadata": {
  "kernelspec": {
   "display_name": "Python 3 (ipykernel)",
   "language": "python",
   "name": "python3"
  },
  "language_info": {
   "codemirror_mode": {
    "name": "ipython",
    "version": 3
   },
   "file_extension": ".py",
   "mimetype": "text/x-python",
   "name": "python",
   "nbconvert_exporter": "python",
   "pygments_lexer": "ipython3",
   "version": "3.9.10"
  }
 },
 "nbformat": 4,
 "nbformat_minor": 5
}
