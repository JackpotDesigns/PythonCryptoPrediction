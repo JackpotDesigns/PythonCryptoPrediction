{
 "cells": [
  {
   "cell_type": "markdown",
   "id": "6e655ee7",
   "metadata": {},
   "source": [
    "<Strong> Gradually going to introduce more training data , and forecast further on in the future. </Strong>"
   ]
  },
  {
   "cell_type": "code",
   "execution_count": 89,
   "id": "d452dd29",
   "metadata": {},
   "outputs": [],
   "source": [
    "import pandas as pd\n",
    "import numpy as np"
   ]
  },
  {
   "cell_type": "code",
   "execution_count": 90,
   "id": "7413cae8",
   "metadata": {},
   "outputs": [],
   "source": [
    "df = pd.read_csv(\"../../../cryptoData/BTC_15m_data.csv\")"
   ]
  },
  {
   "cell_type": "code",
   "execution_count": 91,
   "id": "7c9b34bc",
   "metadata": {},
   "outputs": [
    {
     "data": {
      "text/plain": [
       "['date', 'open', 'high', 'low', 'close', 'volume']"
      ]
     },
     "execution_count": 91,
     "metadata": {},
     "output_type": "execute_result"
    }
   ],
   "source": [
    "df_headers = list(df.columns)\n",
    "df_headers"
   ]
  },
  {
   "cell_type": "code",
   "execution_count": 92,
   "id": "064946f6",
   "metadata": {},
   "outputs": [
    {
     "name": "stdout",
     "output_type": "stream",
     "text": [
      "[[4.26148000e+03 4.28056000e+03 4.26148000e+03 4.26148000e+03\n",
      "  2.18906100e+00]\n",
      " [4.26148000e+03 4.27041000e+03 4.26132000e+03 4.26145000e+03\n",
      "  9.11986500e+00]\n",
      " [4.28000000e+03 4.31007000e+03 4.26799000e+03 4.31007000e+03\n",
      "  2.19235520e+01]\n",
      " ...\n",
      " [3.71500000e+04 3.73000000e+04 3.69258900e+04 3.69889100e+04\n",
      "  1.06111392e+03]\n",
      " [3.69854300e+04 3.71153200e+04 3.68744600e+04 3.70224200e+04\n",
      "  4.52420950e+02]\n",
      " [3.70238600e+04 3.72715400e+04 3.70003400e+04 3.72310200e+04\n",
      "  2.54796250e+02]]\n"
     ]
    }
   ],
   "source": [
    "float_data = df.values[:, 1: ,].astype(float)\n",
    "print(float_data)"
   ]
  },
  {
   "cell_type": "markdown",
   "id": "551d045c",
   "metadata": {},
   "source": [
    "<p>Grabbing the closing price.</p>"
   ]
  },
  {
   "cell_type": "code",
   "execution_count": 93,
   "id": "751dca0d",
   "metadata": {},
   "outputs": [],
   "source": [
    "data = float_data[:,3,]"
   ]
  },
  {
   "cell_type": "markdown",
   "id": "113d0613",
   "metadata": {},
   "source": [
    "<Strong> Normalizing and Splitting. <Strong>"
   ]
  },
  {
   "cell_type": "markdown",
   "id": "f95cd02a",
   "metadata": {},
   "source": [
    "<p> Generator which allows us to return chunks of the returning data as a split of training and validation data. </p>"
   ]
  },
  {
   "cell_type": "code",
   "execution_count": 94,
   "id": "d25c9178",
   "metadata": {},
   "outputs": [],
   "source": [
    "def rolling_origin(train_data , min_train , predict_future_steps):\n",
    "\n",
    "    for i in range(len(train_data) - min_train - predict_future_steps + 1):\n",
    "    \n",
    "        \n",
    "        split_train = train_data[:min_train + i]\n",
    "        split_val = train_data[min_train + i : min_train + i + predict_future_steps]\n",
    "        \n",
    "        #Yields every i \n",
    "        yield split_train , split_val\n",
    "        "
   ]
  },
  {
   "cell_type": "code",
   "execution_count": 95,
   "id": "f23412d1",
   "metadata": {},
   "outputs": [],
   "source": [
    "#Predicting one in the future , using train size of 4\n",
    "rolling = rolling_origin(data , 10 , 1)"
   ]
  },
  {
   "cell_type": "code",
   "execution_count": 96,
   "id": "58eeeea8",
   "metadata": {},
   "outputs": [
    {
     "name": "stdout",
     "output_type": "stream",
     "text": [
      "[4261.48 4261.45 4310.07 4308.83 4304.31 4320.   4291.37 4315.32 4330.\n",
      " 4311.02]\n",
      "vals\n",
      "[4345.45]\n"
     ]
    }
   ],
   "source": [
    "for train , val in rolling:\n",
    "    print(train)\n",
    "    print('vals')\n",
    "    print(val)\n",
    "    break"
   ]
  },
  {
   "cell_type": "code",
   "execution_count": null,
   "id": "1fe5ede7",
   "metadata": {},
   "outputs": [],
   "source": []
  },
  {
   "cell_type": "code",
   "execution_count": null,
   "id": "48bc14aa",
   "metadata": {},
   "outputs": [],
   "source": []
  },
  {
   "cell_type": "code",
   "execution_count": null,
   "id": "1c83b138",
   "metadata": {},
   "outputs": [],
   "source": []
  }
 ],
 "metadata": {
  "kernelspec": {
   "display_name": "Python 3 (ipykernel)",
   "language": "python",
   "name": "python3"
  },
  "language_info": {
   "codemirror_mode": {
    "name": "ipython",
    "version": 3
   },
   "file_extension": ".py",
   "mimetype": "text/x-python",
   "name": "python",
   "nbconvert_exporter": "python",
   "pygments_lexer": "ipython3",
   "version": "3.9.10"
  }
 },
 "nbformat": 4,
 "nbformat_minor": 5
}
