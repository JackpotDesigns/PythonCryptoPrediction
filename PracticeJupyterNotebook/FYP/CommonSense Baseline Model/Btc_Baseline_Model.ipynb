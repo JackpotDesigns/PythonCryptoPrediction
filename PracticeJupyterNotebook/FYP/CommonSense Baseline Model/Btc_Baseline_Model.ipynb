{
 "cells": [
  {
   "cell_type": "code",
   "execution_count": 7,
   "id": "1782c5cd",
   "metadata": {},
   "outputs": [],
   "source": [
    "import pandas as pd\n",
    "import numpy as np\n",
    "from matplotlib import pyplot as plt\n",
    "from tensorflow.keras.models import Sequential \n",
    "from tensorflow.keras import layers\n",
    "from tensorflow.keras.optimizers import RMSprop\n",
    "import os"
   ]
  },
  {
   "cell_type": "code",
   "execution_count": 3,
   "id": "eb850e17",
   "metadata": {},
   "outputs": [],
   "source": [
    "df = pd.read_csv(\"../../../cryptoData/BTC_15m_data.csv\")"
   ]
  },
  {
   "cell_type": "code",
   "execution_count": 4,
   "id": "af4abb7b",
   "metadata": {},
   "outputs": [
    {
     "data": {
      "text/html": [
       "<div>\n",
       "<style scoped>\n",
       "    .dataframe tbody tr th:only-of-type {\n",
       "        vertical-align: middle;\n",
       "    }\n",
       "\n",
       "    .dataframe tbody tr th {\n",
       "        vertical-align: top;\n",
       "    }\n",
       "\n",
       "    .dataframe thead th {\n",
       "        text-align: right;\n",
       "    }\n",
       "</style>\n",
       "<table border=\"1\" class=\"dataframe\">\n",
       "  <thead>\n",
       "    <tr style=\"text-align: right;\">\n",
       "      <th></th>\n",
       "      <th>date</th>\n",
       "      <th>open</th>\n",
       "      <th>high</th>\n",
       "      <th>low</th>\n",
       "      <th>close</th>\n",
       "      <th>volume</th>\n",
       "    </tr>\n",
       "  </thead>\n",
       "  <tbody>\n",
       "    <tr>\n",
       "      <th>0</th>\n",
       "      <td>2017-08-17 04:00:00</td>\n",
       "      <td>4261.48</td>\n",
       "      <td>4280.56</td>\n",
       "      <td>4261.48</td>\n",
       "      <td>4261.48</td>\n",
       "      <td>2.189061</td>\n",
       "    </tr>\n",
       "    <tr>\n",
       "      <th>1</th>\n",
       "      <td>2017-08-17 04:15:00</td>\n",
       "      <td>4261.48</td>\n",
       "      <td>4270.41</td>\n",
       "      <td>4261.32</td>\n",
       "      <td>4261.45</td>\n",
       "      <td>9.119865</td>\n",
       "    </tr>\n",
       "    <tr>\n",
       "      <th>2</th>\n",
       "      <td>2017-08-17 04:30:00</td>\n",
       "      <td>4280.00</td>\n",
       "      <td>4310.07</td>\n",
       "      <td>4267.99</td>\n",
       "      <td>4310.07</td>\n",
       "      <td>21.923552</td>\n",
       "    </tr>\n",
       "    <tr>\n",
       "      <th>3</th>\n",
       "      <td>2017-08-17 04:45:00</td>\n",
       "      <td>4310.07</td>\n",
       "      <td>4313.62</td>\n",
       "      <td>4291.37</td>\n",
       "      <td>4308.83</td>\n",
       "      <td>13.948531</td>\n",
       "    </tr>\n",
       "    <tr>\n",
       "      <th>4</th>\n",
       "      <td>2017-08-17 05:00:00</td>\n",
       "      <td>4308.83</td>\n",
       "      <td>4328.69</td>\n",
       "      <td>4304.31</td>\n",
       "      <td>4304.31</td>\n",
       "      <td>5.101153</td>\n",
       "    </tr>\n",
       "    <tr>\n",
       "      <th>...</th>\n",
       "      <td>...</td>\n",
       "      <td>...</td>\n",
       "      <td>...</td>\n",
       "      <td>...</td>\n",
       "      <td>...</td>\n",
       "      <td>...</td>\n",
       "    </tr>\n",
       "    <tr>\n",
       "      <th>155486</th>\n",
       "      <td>2022-01-28 14:45:00</td>\n",
       "      <td>36684.11</td>\n",
       "      <td>36828.38</td>\n",
       "      <td>36600.00</td>\n",
       "      <td>36759.65</td>\n",
       "      <td>560.007760</td>\n",
       "    </tr>\n",
       "    <tr>\n",
       "      <th>155487</th>\n",
       "      <td>2022-01-28 15:00:00</td>\n",
       "      <td>36759.65</td>\n",
       "      <td>37198.00</td>\n",
       "      <td>36682.24</td>\n",
       "      <td>37149.99</td>\n",
       "      <td>649.317780</td>\n",
       "    </tr>\n",
       "    <tr>\n",
       "      <th>155488</th>\n",
       "      <td>2022-01-28 15:15:00</td>\n",
       "      <td>37150.00</td>\n",
       "      <td>37300.00</td>\n",
       "      <td>36925.89</td>\n",
       "      <td>36988.91</td>\n",
       "      <td>1061.113920</td>\n",
       "    </tr>\n",
       "    <tr>\n",
       "      <th>155489</th>\n",
       "      <td>2022-01-28 15:30:00</td>\n",
       "      <td>36985.43</td>\n",
       "      <td>37115.32</td>\n",
       "      <td>36874.46</td>\n",
       "      <td>37022.42</td>\n",
       "      <td>452.420950</td>\n",
       "    </tr>\n",
       "    <tr>\n",
       "      <th>155490</th>\n",
       "      <td>2022-01-28 15:45:00</td>\n",
       "      <td>37023.86</td>\n",
       "      <td>37271.54</td>\n",
       "      <td>37000.34</td>\n",
       "      <td>37231.02</td>\n",
       "      <td>254.796250</td>\n",
       "    </tr>\n",
       "  </tbody>\n",
       "</table>\n",
       "<p>155491 rows × 6 columns</p>\n",
       "</div>"
      ],
      "text/plain": [
       "                       date      open      high       low     close  \\\n",
       "0       2017-08-17 04:00:00   4261.48   4280.56   4261.48   4261.48   \n",
       "1       2017-08-17 04:15:00   4261.48   4270.41   4261.32   4261.45   \n",
       "2       2017-08-17 04:30:00   4280.00   4310.07   4267.99   4310.07   \n",
       "3       2017-08-17 04:45:00   4310.07   4313.62   4291.37   4308.83   \n",
       "4       2017-08-17 05:00:00   4308.83   4328.69   4304.31   4304.31   \n",
       "...                     ...       ...       ...       ...       ...   \n",
       "155486  2022-01-28 14:45:00  36684.11  36828.38  36600.00  36759.65   \n",
       "155487  2022-01-28 15:00:00  36759.65  37198.00  36682.24  37149.99   \n",
       "155488  2022-01-28 15:15:00  37150.00  37300.00  36925.89  36988.91   \n",
       "155489  2022-01-28 15:30:00  36985.43  37115.32  36874.46  37022.42   \n",
       "155490  2022-01-28 15:45:00  37023.86  37271.54  37000.34  37231.02   \n",
       "\n",
       "             volume  \n",
       "0          2.189061  \n",
       "1          9.119865  \n",
       "2         21.923552  \n",
       "3         13.948531  \n",
       "4          5.101153  \n",
       "...             ...  \n",
       "155486   560.007760  \n",
       "155487   649.317780  \n",
       "155488  1061.113920  \n",
       "155489   452.420950  \n",
       "155490   254.796250  \n",
       "\n",
       "[155491 rows x 6 columns]"
      ]
     },
     "execution_count": 4,
     "metadata": {},
     "output_type": "execute_result"
    }
   ],
   "source": [
    "df"
   ]
  },
  {
   "cell_type": "code",
   "execution_count": 5,
   "id": "1c0c9075",
   "metadata": {},
   "outputs": [],
   "source": [
    "df_headers = df.columns"
   ]
  },
  {
   "cell_type": "markdown",
   "id": "cbf48f52",
   "metadata": {},
   "source": [
    "<p> Removing the date column </p> "
   ]
  },
  {
   "cell_type": "code",
   "execution_count": 8,
   "id": "9e642889",
   "metadata": {},
   "outputs": [],
   "source": [
    "float_data = df.values[:, 1: ,].astype(float)"
   ]
  },
  {
   "cell_type": "markdown",
   "id": "2f0b1307",
   "metadata": {},
   "source": [
    "<Strong> Creating A Plot For Open Prices. </Strong>"
   ]
  },
  {
   "cell_type": "code",
   "execution_count": 9,
   "id": "fda46f4d",
   "metadata": {},
   "outputs": [
    {
     "data": {
      "text/plain": [
       "[<matplotlib.lines.Line2D at 0x118ae81c0>]"
      ]
     },
     "execution_count": 9,
     "metadata": {},
     "output_type": "execute_result"
    },
    {
     "data": {
      "image/png": "[encoded data removed]",
      "text/plain": [
       "<Figure size 432x288 with 1 Axes>"
      ]
     },
     "metadata": {
      "needs_background": "light"
     },
     "output_type": "display_data"
    }
   ],
   "source": [
    "openPrice = float_data[:,1]\n",
    "plt.plot( range ( len (openPrice) ) , openPrice )"
   ]
  },
  {
   "cell_type": "markdown",
   "id": "495129e1",
   "metadata": {},
   "source": [
    "<p> From the graph we can see that the mean is not constant over time , standard deviation is not constant either.End of the series is more variable than the beginning.  Non stationary data. As the stock grows it increases in volitility. <p>"
   ]
  },
  {
   "cell_type": "markdown",
   "id": "c70b8d15",
   "metadata": {},
   "source": [
    "<Strong> Plot of the first 120 hours on launch on Binance.</Strong>"
   ]
  },
  {
   "cell_type": "code",
   "execution_count": 10,
   "id": "851a2231",
   "metadata": {},
   "outputs": [
    {
     "data": {
      "text/plain": [
       "[<matplotlib.lines.Line2D at 0x118b97e80>]"
      ]
     },
     "execution_count": 10,
     "metadata": {},
     "output_type": "execute_result"
    },
    {
     "data": {
      "image/png": "[encoded data removed]",
      "text/plain": [
       "<Figure size 432x288 with 1 Axes>"
      ]
     },
     "metadata": {
      "needs_background": "light"
     },
     "output_type": "display_data"
    }
   ],
   "source": [
    "plt.plot(range(120) , openPrice[:120])"
   ]
  },
  {
   "cell_type": "markdown",
   "id": "864ff546",
   "metadata": {},
   "source": [
    "<Strong> Breaking off into Training , Validation and Test sets. <Strong>"
   ]
  },
  {
   "cell_type": "code",
   "execution_count": 12,
   "id": "049a063d",
   "metadata": {},
   "outputs": [],
   "source": [
    "array = df.to_numpy()[:,1:]"
   ]
  },
  {
   "cell_type": "code",
   "execution_count": 14,
   "id": "a8a2a7ca",
   "metadata": {},
   "outputs": [],
   "source": [
    "training = array[:105000]\n",
    "validation = array[105000:135000]\n",
    "test = array[135000:]"
   ]
  },
  {
   "cell_type": "markdown",
   "id": "16bf6ef3",
   "metadata": {},
   "source": [
    "<Strong> Creating The Prediction and Actual Target Values From Validation Set.</Strong>"
   ]
  },
  {
   "cell_type": "markdown",
   "id": "843ae24c",
   "metadata": {},
   "source": [
    "<p> \n",
    "We have to move the target numpy array up one , as the result is the prediction for the timeseries (n+1) . Ex(If price is going up today and we predict it will go up tomorrow , result is found out tomorrow).\n",
    "    \n",
    "We have to delete the the first and last index of actual_targets , as this would be the same as shifting the whole array up one. \n",
    "\n",
    "The reason for deleting the last column in validation_prediction is because we cannot get the actual value (tomorrow) for a prediction we made today .\n",
    "</p>"
   ]
  },
  {
   "cell_type": "code",
   "execution_count": 15,
   "id": "f7f45579",
   "metadata": {},
   "outputs": [],
   "source": [
    "#Taking the last one off prediction for ^ reason\n",
    "validation_predictions = (validation[:,0] > validation[:,3])[:-1].astype(int)\n",
    "\n",
    "#Actual targets are the timeslot after , so if \n",
    "validation_targets = (validation[:,0] > validation[:,3])[1:].astype(int)"
   ]
  },
  {
   "cell_type": "code",
   "execution_count": 16,
   "id": "33096a71",
   "metadata": {},
   "outputs": [],
   "source": [
    "def naive_method(prediction , targets):\n",
    "    \n",
    "    length = len(prediction)\n",
    "    correct = 0\n",
    "    \n",
    "    for i , pred in enumerate(prediction):\n",
    "        \n",
    "        if pred == targets[i]:\n",
    "            \n",
    "            correct = correct + 1\n",
    "    \n",
    "    print ((correct/length) * 100 )"
   ]
  },
  {
   "cell_type": "code",
   "execution_count": 17,
   "id": "bddbe4c9",
   "metadata": {},
   "outputs": [
    {
     "name": "stdout",
     "output_type": "stream",
     "text": [
      "47.451581719390646\n"
     ]
    }
   ],
   "source": [
    "naive_method(validation_predictions, validation_targets)"
   ]
  },
  {
   "cell_type": "markdown",
   "id": "f666949a",
   "metadata": {},
   "source": [
    "<p> Out of the 29,999 examples in validation_data , we got a little over 47% correct . This is no good as we could just use a constant class prediction as below that would achieve better results. </p>"
   ]
  },
  {
   "cell_type": "code",
   "execution_count": 21,
   "id": "3ad46ecd",
   "metadata": {},
   "outputs": [
    {
     "name": "stdout",
     "output_type": "stream",
     "text": [
      "Model that predicts price will always go up = 49.668322277409246.\n",
      "Model that predicts price will always go down = 50.331677722590754.\n"
     ]
    }
   ],
   "source": [
    "predict_up = validation_targets == 1 \n",
    "predict_down = validation_targets == 0\n",
    "\n",
    "percent_up = ((predict_up.sum() / len(validation_targets)) * 100)\n",
    "percent_down = ((predict_down.sum()/ len(validation_targets)) * 100)\n",
    "\n",
    "print(\"Model that predicts price will always go up = \" + str(percent_up) + \".\")\n",
    "print(\"Model that predicts price will always go down = \" + str(percent_down) + \".\")"
   ]
  },
  {
   "cell_type": "markdown",
   "id": "1443ce60",
   "metadata": {},
   "source": [
    "<Strong> A basic machine learning approach. </Strong>"
   ]
  },
  {
   "cell_type": "markdown",
   "id": "67968588",
   "metadata": {},
   "source": [
    "<p> I am going to look into cheap machine learning models such as this small densley connected netowrk before looking into complicated and computationally expensive TCN models. </p>"
   ]
  },
  {
   "cell_type": "code",
   "execution_count": 8,
   "id": "ed04d93d",
   "metadata": {},
   "outputs": [
    {
     "ename": "NameError",
     "evalue": "name 'lookback' is not defined",
     "output_type": "error",
     "traceback": [
      "\u001b[0;31m---------------------------------------------------------------------------\u001b[0m",
      "\u001b[0;31mNameError\u001b[0m                                 Traceback (most recent call last)",
      "Input \u001b[0;32mIn [8]\u001b[0m, in \u001b[0;36m<module>\u001b[0;34m\u001b[0m\n\u001b[1;32m      1\u001b[0m model \u001b[38;5;241m=\u001b[39m Sequential()\n\u001b[0;32m----> 2\u001b[0m model\u001b[38;5;241m.\u001b[39madd(layers\u001b[38;5;241m.\u001b[39mFlatten(input_shape\u001b[38;5;241m=\u001b[39m(\u001b[43mlookback\u001b[49m \u001b[38;5;241m/\u001b[39m\u001b[38;5;241m/\u001b[39m step, float_data\u001b[38;5;241m.\u001b[39mshape[\u001b[38;5;241m-\u001b[39m\u001b[38;5;241m1\u001b[39m]))) \n\u001b[1;32m      3\u001b[0m model\u001b[38;5;241m.\u001b[39madd(layers\u001b[38;5;241m.\u001b[39mDense(\u001b[38;5;241m32\u001b[39m, activation\u001b[38;5;241m=\u001b[39m\u001b[38;5;124m'\u001b[39m\u001b[38;5;124mrelu\u001b[39m\u001b[38;5;124m'\u001b[39m))\n\u001b[1;32m      4\u001b[0m model\u001b[38;5;241m.\u001b[39madd(layers\u001b[38;5;241m.\u001b[39mDense(\u001b[38;5;241m1\u001b[39m))\n",
      "\u001b[0;31mNameError\u001b[0m: name 'lookback' is not defined"
     ]
    }
   ],
   "source": [
    "model = Sequential()\n",
    "model.add(layers.Flatten(input_shape=(lookback // step, float_data.shape[-1]))) \n",
    "model.add(layers.Dense(32, activation='relu'))\n",
    "model.add(layers.Dense(1))"
   ]
  },
  {
   "cell_type": "code",
   "execution_count": null,
   "id": "9c426449",
   "metadata": {},
   "outputs": [],
   "source": []
  }
 ],
 "metadata": {
  "kernelspec": {
   "display_name": "Python 3 (ipykernel)",
   "language": "python",
   "name": "python3"
  },
  "language_info": {
   "codemirror_mode": {
    "name": "ipython",
    "version": 3
   },
   "file_extension": ".py",
   "mimetype": "text/x-python",
   "name": "python",
   "nbconvert_exporter": "python",
   "pygments_lexer": "ipython3",
   "version": "3.10.0"
  }
 },
 "nbformat": 4,
 "nbformat_minor": 5
}
