{
 "cells": [
  {
   "cell_type": "code",
   "execution_count": 175,
   "id": "16b4ad9a",
   "metadata": {},
   "outputs": [],
   "source": [
    "from tensorflow.keras.models import Sequential \n",
    "from tensorflow.keras import layers\n",
    "from tensorflow.keras.optimizers import RMSprop\n",
    "from sklearn.model_selection import train_test_split\n",
    "from sktime.forecasting.model_selection import temporal_train_test_split\n",
    "from sklearn.metrics import mean_absolute_error"
   ]
  },
  {
   "cell_type": "markdown",
   "id": "4b6b1c59",
   "metadata": {},
   "source": [
    "<Strong> A basic machine learning approach. </Strong>"
   ]
  },
  {
   "cell_type": "markdown",
   "id": "dc79d332",
   "metadata": {},
   "source": [
    "<p> I am going to look into cheap machine learning models such as this small densley connected netowrk before looking into complicated and computationally expensive TCN models. </p>"
   ]
  },
  {
   "cell_type": "code",
   "execution_count": 155,
   "id": "50206558",
   "metadata": {},
   "outputs": [],
   "source": [
    "import pandas as pd\n",
    "import numpy as np"
   ]
  },
  {
   "cell_type": "code",
   "execution_count": 156,
   "id": "12feaaa9",
   "metadata": {},
   "outputs": [],
   "source": [
    "df = pd.read_csv(\"../../../cryptoData/BTC_15m_data.csv\")"
   ]
  },
  {
   "cell_type": "code",
   "execution_count": 157,
   "id": "22c48ac4",
   "metadata": {},
   "outputs": [
    {
     "data": {
      "text/html": [
       "<div>\n",
       "<style scoped>\n",
       "    .dataframe tbody tr th:only-of-type {\n",
       "        vertical-align: middle;\n",
       "    }\n",
       "\n",
       "    .dataframe tbody tr th {\n",
       "        vertical-align: top;\n",
       "    }\n",
       "\n",
       "    .dataframe thead th {\n",
       "        text-align: right;\n",
       "    }\n",
       "</style>\n",
       "<table border=\"1\" class=\"dataframe\">\n",
       "  <thead>\n",
       "    <tr style=\"text-align: right;\">\n",
       "      <th></th>\n",
       "      <th>date</th>\n",
       "      <th>open</th>\n",
       "      <th>high</th>\n",
       "      <th>low</th>\n",
       "      <th>close</th>\n",
       "      <th>volume</th>\n",
       "    </tr>\n",
       "  </thead>\n",
       "  <tbody>\n",
       "    <tr>\n",
       "      <th>0</th>\n",
       "      <td>2017-08-17 04:00:00</td>\n",
       "      <td>4261.48</td>\n",
       "      <td>4280.56</td>\n",
       "      <td>4261.48</td>\n",
       "      <td>4261.48</td>\n",
       "      <td>2.189061</td>\n",
       "    </tr>\n",
       "    <tr>\n",
       "      <th>1</th>\n",
       "      <td>2017-08-17 04:15:00</td>\n",
       "      <td>4261.48</td>\n",
       "      <td>4270.41</td>\n",
       "      <td>4261.32</td>\n",
       "      <td>4261.45</td>\n",
       "      <td>9.119865</td>\n",
       "    </tr>\n",
       "    <tr>\n",
       "      <th>2</th>\n",
       "      <td>2017-08-17 04:30:00</td>\n",
       "      <td>4280.00</td>\n",
       "      <td>4310.07</td>\n",
       "      <td>4267.99</td>\n",
       "      <td>4310.07</td>\n",
       "      <td>21.923552</td>\n",
       "    </tr>\n",
       "    <tr>\n",
       "      <th>3</th>\n",
       "      <td>2017-08-17 04:45:00</td>\n",
       "      <td>4310.07</td>\n",
       "      <td>4313.62</td>\n",
       "      <td>4291.37</td>\n",
       "      <td>4308.83</td>\n",
       "      <td>13.948531</td>\n",
       "    </tr>\n",
       "    <tr>\n",
       "      <th>4</th>\n",
       "      <td>2017-08-17 05:00:00</td>\n",
       "      <td>4308.83</td>\n",
       "      <td>4328.69</td>\n",
       "      <td>4304.31</td>\n",
       "      <td>4304.31</td>\n",
       "      <td>5.101153</td>\n",
       "    </tr>\n",
       "    <tr>\n",
       "      <th>...</th>\n",
       "      <td>...</td>\n",
       "      <td>...</td>\n",
       "      <td>...</td>\n",
       "      <td>...</td>\n",
       "      <td>...</td>\n",
       "      <td>...</td>\n",
       "    </tr>\n",
       "    <tr>\n",
       "      <th>155486</th>\n",
       "      <td>2022-01-28 14:45:00</td>\n",
       "      <td>36684.11</td>\n",
       "      <td>36828.38</td>\n",
       "      <td>36600.00</td>\n",
       "      <td>36759.65</td>\n",
       "      <td>560.007760</td>\n",
       "    </tr>\n",
       "    <tr>\n",
       "      <th>155487</th>\n",
       "      <td>2022-01-28 15:00:00</td>\n",
       "      <td>36759.65</td>\n",
       "      <td>37198.00</td>\n",
       "      <td>36682.24</td>\n",
       "      <td>37149.99</td>\n",
       "      <td>649.317780</td>\n",
       "    </tr>\n",
       "    <tr>\n",
       "      <th>155488</th>\n",
       "      <td>2022-01-28 15:15:00</td>\n",
       "      <td>37150.00</td>\n",
       "      <td>37300.00</td>\n",
       "      <td>36925.89</td>\n",
       "      <td>36988.91</td>\n",
       "      <td>1061.113920</td>\n",
       "    </tr>\n",
       "    <tr>\n",
       "      <th>155489</th>\n",
       "      <td>2022-01-28 15:30:00</td>\n",
       "      <td>36985.43</td>\n",
       "      <td>37115.32</td>\n",
       "      <td>36874.46</td>\n",
       "      <td>37022.42</td>\n",
       "      <td>452.420950</td>\n",
       "    </tr>\n",
       "    <tr>\n",
       "      <th>155490</th>\n",
       "      <td>2022-01-28 15:45:00</td>\n",
       "      <td>37023.86</td>\n",
       "      <td>37271.54</td>\n",
       "      <td>37000.34</td>\n",
       "      <td>37231.02</td>\n",
       "      <td>254.796250</td>\n",
       "    </tr>\n",
       "  </tbody>\n",
       "</table>\n",
       "<p>155491 rows × 6 columns</p>\n",
       "</div>"
      ],
      "text/plain": [
       "                       date      open      high       low     close  \\\n",
       "0       2017-08-17 04:00:00   4261.48   4280.56   4261.48   4261.48   \n",
       "1       2017-08-17 04:15:00   4261.48   4270.41   4261.32   4261.45   \n",
       "2       2017-08-17 04:30:00   4280.00   4310.07   4267.99   4310.07   \n",
       "3       2017-08-17 04:45:00   4310.07   4313.62   4291.37   4308.83   \n",
       "4       2017-08-17 05:00:00   4308.83   4328.69   4304.31   4304.31   \n",
       "...                     ...       ...       ...       ...       ...   \n",
       "155486  2022-01-28 14:45:00  36684.11  36828.38  36600.00  36759.65   \n",
       "155487  2022-01-28 15:00:00  36759.65  37198.00  36682.24  37149.99   \n",
       "155488  2022-01-28 15:15:00  37150.00  37300.00  36925.89  36988.91   \n",
       "155489  2022-01-28 15:30:00  36985.43  37115.32  36874.46  37022.42   \n",
       "155490  2022-01-28 15:45:00  37023.86  37271.54  37000.34  37231.02   \n",
       "\n",
       "             volume  \n",
       "0          2.189061  \n",
       "1          9.119865  \n",
       "2         21.923552  \n",
       "3         13.948531  \n",
       "4          5.101153  \n",
       "...             ...  \n",
       "155486   560.007760  \n",
       "155487   649.317780  \n",
       "155488  1061.113920  \n",
       "155489   452.420950  \n",
       "155490   254.796250  \n",
       "\n",
       "[155491 rows x 6 columns]"
      ]
     },
     "execution_count": 157,
     "metadata": {},
     "output_type": "execute_result"
    }
   ],
   "source": [
    "df"
   ]
  },
  {
   "cell_type": "code",
   "execution_count": 158,
   "id": "76415abc",
   "metadata": {},
   "outputs": [],
   "source": [
    "float_data = df.values[:, 1: ,].astype(float)\n",
    "closing_data = float_data[:,3,]"
   ]
  },
  {
   "cell_type": "markdown",
   "id": "7589f82d",
   "metadata": {},
   "source": [
    "<Strong> Just grabbing the Closing price , using Omnivariable Prediction.</Strong>"
   ]
  },
  {
   "cell_type": "code",
   "execution_count": 159,
   "id": "251db316",
   "metadata": {},
   "outputs": [
    {
     "name": "stdout",
     "output_type": "stream",
     "text": [
      "155491\n"
     ]
    }
   ],
   "source": [
    "mean = closing_data[:200000].mean(axis=0)\n",
    "closing_data -= mean\n",
    "std = closing_data[:200000].std(axis=0)\n",
    "closing_data /= std\n",
    "\n",
    "print(closing_data.shape[-1])"
   ]
  },
  {
   "cell_type": "markdown",
   "id": "a3c41905",
   "metadata": {},
   "source": [
    "<Strong> Temporal so doesn't shuffle (avoids leakage). </Strong>"
   ]
  },
  {
   "cell_type": "code",
   "execution_count": 160,
   "id": "7a283be9",
   "metadata": {},
   "outputs": [],
   "source": [
    "train, test = temporal_train_test_split(closing_data, test_size = 25491)"
   ]
  },
  {
   "cell_type": "markdown",
   "id": "a2c110dd",
   "metadata": {},
   "source": [
    "<p> Implementing my rolling window technique as suggested in towardsdatascience article. </p>"
   ]
  },
  {
   "cell_type": "code",
   "execution_count": 142,
   "id": "a8f4446c",
   "metadata": {},
   "outputs": [],
   "source": [
    "#Found this code on Kaggle "
   ]
  },
  {
   "cell_type": "code",
   "execution_count": 143,
   "id": "930047f5",
   "metadata": {},
   "outputs": [
    {
     "data": {
      "text/plain": [
       "array([    1,     2,     3, ..., 25489, 25490, 25491])"
      ]
     },
     "execution_count": 143,
     "metadata": {},
     "output_type": "execute_result"
    }
   ],
   "source": [
    "fh = np.arange(1 , len(test) + 1)\n",
    "fh"
   ]
  },
  {
   "cell_type": "code",
   "execution_count": 144,
   "id": "c51983e0",
   "metadata": {},
   "outputs": [],
   "source": [
    "#Takes in single series , window length , and forecasting horizon\n",
    "def split_into_train_test(data , in_num , fh):\n",
    "    train,test = data[:-fh] , data[-(fh+ in_num):]\n",
    "    x_train,y_train = train[:-1] , np.roll(train , -in_num)[:-in_num]\n",
    "    x_test , y_test = test[:-1] , np.roll(test,-in_num)[:-in_num]\n",
    "    \n",
    "    x_train = np.reshape(x_train , (-1 ,1))\n",
    "    x_test = np.reshape(x_test , (-1 , 1))\n",
    "    temp_test = np.roll(x_test , -1)\n",
    "    temp_train = np.roll(x_train , -1)\n",
    "    \n",
    "    for x in range (1 , in_num):\n",
    "        x_train = np.concatenate((x_train[:-1] , temp_train[:-1]) , 1)\n",
    "        x_test = np.concatenate((x_test[:-1] , temp_test[:-1]) , 1)\n",
    "        temp_test = np.roll(temp_test, -1)[:-1]\n",
    "        temp_train=np.roll(temp_train , -1)[:-1]\n",
    "        \n",
    "    return x_train , y_train , x_test , y_test"
   ]
  },
  {
   "cell_type": "code",
   "execution_count": 145,
   "id": "2f944501",
   "metadata": {},
   "outputs": [],
   "source": [
    "x_train , y_train , x_test , y_test = split_into_train_test(closing_data , 10 , len(fh))"
   ]
  },
  {
   "cell_type": "code",
   "execution_count": 146,
   "id": "b6252839",
   "metadata": {},
   "outputs": [
    {
     "name": "stdout",
     "output_type": "stream",
     "text": [
      "(129990, 10) (129990,)\n",
      "(25491, 10) (25491,)\n"
     ]
    }
   ],
   "source": [
    "print(x_train.shape , y_train.shape)\n",
    "print(x_test.shape , y_test.shape)"
   ]
  },
  {
   "cell_type": "code",
   "execution_count": 197,
   "id": "b9aa4ffb",
   "metadata": {},
   "outputs": [
    {
     "name": "stdout",
     "output_type": "stream",
     "text": [
      "WARNING:tensorflow:Model was constructed with shape (None, 10, 1) for input KerasTensor(type_spec=TensorSpec(shape=(None, 10, 1), dtype=tf.float32, name='flatten_3_input'), name='flatten_3_input', description=\"created by layer 'flatten_3_input'\"), but it was called on an input with incompatible shape (None,).\n"
     ]
    },
    {
     "ename": "ValueError",
     "evalue": "in user code:\n\n    File \"/Users/jackyboy/Desktop/PythonCryptoPrediction/PracticeJupyterNotebook/venv/lib/python3.9/site-packages/keras/engine/training.py\", line 878, in train_function  *\n        return step_function(self, iterator)\n    File \"/Users/jackyboy/Desktop/PythonCryptoPrediction/PracticeJupyterNotebook/venv/lib/python3.9/site-packages/keras/engine/training.py\", line 867, in step_function  **\n        outputs = model.distribute_strategy.run(run_step, args=(data,))\n    File \"/Users/jackyboy/Desktop/PythonCryptoPrediction/PracticeJupyterNotebook/venv/lib/python3.9/site-packages/keras/engine/training.py\", line 860, in run_step  **\n        outputs = model.train_step(data)\n    File \"/Users/jackyboy/Desktop/PythonCryptoPrediction/PracticeJupyterNotebook/venv/lib/python3.9/site-packages/keras/engine/training.py\", line 808, in train_step\n        y_pred = self(x, training=True)\n    File \"/Users/jackyboy/Desktop/PythonCryptoPrediction/PracticeJupyterNotebook/venv/lib/python3.9/site-packages/keras/utils/traceback_utils.py\", line 67, in error_handler\n        raise e.with_traceback(filtered_tb) from None\n    File \"/Users/jackyboy/Desktop/PythonCryptoPrediction/PracticeJupyterNotebook/venv/lib/python3.9/site-packages/keras/engine/input_spec.py\", line 247, in assert_input_compatibility\n        raise ValueError(\n\n    ValueError: Exception encountered when calling layer \"sequential_3\" (type Sequential).\n    \n    Input 0 of layer \"dense_6\" is incompatible with the layer: expected axis -1of input shape to have value 10, but received input with shape (None, 1)\n    \n    Call arguments received:\n      • inputs=tf.Tensor(shape=(None,), dtype=float32)\n      • training=True\n      • mask=None\n",
     "output_type": "error",
     "traceback": [
      "\u001b[0;31m---------------------------------------------------------------------------\u001b[0m",
      "\u001b[0;31mValueError\u001b[0m                                Traceback (most recent call last)",
      "Input \u001b[0;32mIn [197]\u001b[0m, in \u001b[0;36m<module>\u001b[0;34m\u001b[0m\n\u001b[1;32m      1\u001b[0m scores \u001b[38;5;241m=\u001b[39m []\n\u001b[1;32m      3\u001b[0m \u001b[38;5;28;01mfor\u001b[39;00m train \u001b[38;5;129;01min\u001b[39;00m \u001b[38;5;28menumerate\u001b[39m(x_train):\n\u001b[0;32m----> 4\u001b[0m     \u001b[43mmodel\u001b[49m\u001b[38;5;241;43m.\u001b[39;49m\u001b[43mfit\u001b[49m\u001b[43m(\u001b[49m\u001b[43mtrain\u001b[49m\u001b[43m[\u001b[49m\u001b[38;5;241;43m1\u001b[39;49m\u001b[43m]\u001b[49m\u001b[43m)\u001b[49m\n",
      "File \u001b[0;32m~/Desktop/PythonCryptoPrediction/PracticeJupyterNotebook/venv/lib/python3.9/site-packages/keras/utils/traceback_utils.py:67\u001b[0m, in \u001b[0;36mfilter_traceback.<locals>.error_handler\u001b[0;34m(*args, **kwargs)\u001b[0m\n\u001b[1;32m     65\u001b[0m \u001b[38;5;28;01mexcept\u001b[39;00m \u001b[38;5;167;01mException\u001b[39;00m \u001b[38;5;28;01mas\u001b[39;00m e:  \u001b[38;5;66;03m# pylint: disable=broad-except\u001b[39;00m\n\u001b[1;32m     66\u001b[0m   filtered_tb \u001b[38;5;241m=\u001b[39m _process_traceback_frames(e\u001b[38;5;241m.\u001b[39m__traceback__)\n\u001b[0;32m---> 67\u001b[0m   \u001b[38;5;28;01mraise\u001b[39;00m e\u001b[38;5;241m.\u001b[39mwith_traceback(filtered_tb) \u001b[38;5;28;01mfrom\u001b[39;00m \u001b[38;5;28mNone\u001b[39m\n\u001b[1;32m     68\u001b[0m \u001b[38;5;28;01mfinally\u001b[39;00m:\n\u001b[1;32m     69\u001b[0m   \u001b[38;5;28;01mdel\u001b[39;00m filtered_tb\n",
      "File \u001b[0;32m~/Desktop/PythonCryptoPrediction/PracticeJupyterNotebook/venv/lib/python3.9/site-packages/tensorflow/python/framework/func_graph.py:1129\u001b[0m, in \u001b[0;36mfunc_graph_from_py_func.<locals>.autograph_handler\u001b[0;34m(*args, **kwargs)\u001b[0m\n\u001b[1;32m   1127\u001b[0m \u001b[38;5;28;01mexcept\u001b[39;00m \u001b[38;5;167;01mException\u001b[39;00m \u001b[38;5;28;01mas\u001b[39;00m e:  \u001b[38;5;66;03m# pylint:disable=broad-except\u001b[39;00m\n\u001b[1;32m   1128\u001b[0m   \u001b[38;5;28;01mif\u001b[39;00m \u001b[38;5;28mhasattr\u001b[39m(e, \u001b[38;5;124m\"\u001b[39m\u001b[38;5;124mag_error_metadata\u001b[39m\u001b[38;5;124m\"\u001b[39m):\n\u001b[0;32m-> 1129\u001b[0m     \u001b[38;5;28;01mraise\u001b[39;00m e\u001b[38;5;241m.\u001b[39mag_error_metadata\u001b[38;5;241m.\u001b[39mto_exception(e)\n\u001b[1;32m   1130\u001b[0m   \u001b[38;5;28;01melse\u001b[39;00m:\n\u001b[1;32m   1131\u001b[0m     \u001b[38;5;28;01mraise\u001b[39;00m\n",
      "\u001b[0;31mValueError\u001b[0m: in user code:\n\n    File \"/Users/jackyboy/Desktop/PythonCryptoPrediction/PracticeJupyterNotebook/venv/lib/python3.9/site-packages/keras/engine/training.py\", line 878, in train_function  *\n        return step_function(self, iterator)\n    File \"/Users/jackyboy/Desktop/PythonCryptoPrediction/PracticeJupyterNotebook/venv/lib/python3.9/site-packages/keras/engine/training.py\", line 867, in step_function  **\n        outputs = model.distribute_strategy.run(run_step, args=(data,))\n    File \"/Users/jackyboy/Desktop/PythonCryptoPrediction/PracticeJupyterNotebook/venv/lib/python3.9/site-packages/keras/engine/training.py\", line 860, in run_step  **\n        outputs = model.train_step(data)\n    File \"/Users/jackyboy/Desktop/PythonCryptoPrediction/PracticeJupyterNotebook/venv/lib/python3.9/site-packages/keras/engine/training.py\", line 808, in train_step\n        y_pred = self(x, training=True)\n    File \"/Users/jackyboy/Desktop/PythonCryptoPrediction/PracticeJupyterNotebook/venv/lib/python3.9/site-packages/keras/utils/traceback_utils.py\", line 67, in error_handler\n        raise e.with_traceback(filtered_tb) from None\n    File \"/Users/jackyboy/Desktop/PythonCryptoPrediction/PracticeJupyterNotebook/venv/lib/python3.9/site-packages/keras/engine/input_spec.py\", line 247, in assert_input_compatibility\n        raise ValueError(\n\n    ValueError: Exception encountered when calling layer \"sequential_3\" (type Sequential).\n    \n    Input 0 of layer \"dense_6\" is incompatible with the layer: expected axis -1of input shape to have value 10, but received input with shape (None, 1)\n    \n    Call arguments received:\n      • inputs=tf.Tensor(shape=(None,), dtype=float32)\n      • training=True\n      • mask=None\n"
     ]
    }
   ],
   "source": [
    "scores = []\n",
    "\n",
    "for train in enumerate(x_train):\n",
    "    model.fit(train[1])"
   ]
  },
  {
   "cell_type": "code",
   "execution_count": 192,
   "id": "e59f3cc0",
   "metadata": {},
   "outputs": [],
   "source": [
    "model = Sequential()\n",
    "\n",
    "#We are recieving a vector with 100 rows and 1 column per batch.\n",
    "model.add(layers.Flatten(input_shape=(10, 1))) \n",
    "model.add(layers.Dense(32, activation='relu'))\n",
    "model.add(layers.Dense(1))"
   ]
  },
  {
   "cell_type": "code",
   "execution_count": 193,
   "id": "d0933603",
   "metadata": {},
   "outputs": [
    {
     "name": "stdout",
     "output_type": "stream",
     "text": [
      "Model: \"sequential_3\"\n",
      "_________________________________________________________________\n",
      " Layer (type)                Output Shape              Param #   \n",
      "=================================================================\n",
      " flatten_3 (Flatten)         (None, 10)                0         \n",
      "                                                                 \n",
      " dense_6 (Dense)             (None, 32)                352       \n",
      "                                                                 \n",
      " dense_7 (Dense)             (None, 1)                 33        \n",
      "                                                                 \n",
      "=================================================================\n",
      "Total params: 385\n",
      "Trainable params: 385\n",
      "Non-trainable params: 0\n",
      "_________________________________________________________________\n"
     ]
    }
   ],
   "source": [
    "model.summary()"
   ]
  },
  {
   "cell_type": "code",
   "execution_count": 195,
   "id": "6be0426f",
   "metadata": {},
   "outputs": [],
   "source": [
    "model.compile(optimizer=RMSprop() , loss = 'mae')"
   ]
  },
  {
   "cell_type": "code",
   "execution_count": null,
   "id": "1f118ca3",
   "metadata": {},
   "outputs": [],
   "source": []
  },
  {
   "cell_type": "code",
   "execution_count": 184,
   "id": "bf902795",
   "metadata": {},
   "outputs": [],
   "source": [
    "def rolling_window(train_data , window_size , predict_future_steps):\n",
    "    \n",
    "    for i in range (len(train_data) - window_size - predict_future_steps + 1):\n",
    "        \n",
    "        split_train = train_data[i:window_size+i]\n",
    "        split_val = train_data[i+window_size:window_size+i+predict_future_steps]\n",
    "        \n",
    "        yield split_train , split_val"
   ]
  },
  {
   "cell_type": "code",
   "execution_count": 185,
   "id": "e7017b90",
   "metadata": {},
   "outputs": [],
   "source": [
    "window_size = 10\n",
    "size_of_prediction = 1\n",
    "rolling = rolling_window(train , window_size , size_of_prediction)"
   ]
  },
  {
   "cell_type": "code",
   "execution_count": 186,
   "id": "6d1f2abe",
   "metadata": {},
   "outputs": [],
   "source": [
    "for train , val in rolling:\n",
    "    print(train.shape)\n"
   ]
  },
  {
   "cell_type": "code",
   "execution_count": null,
   "id": "efefd8c2",
   "metadata": {},
   "outputs": [],
   "source": []
  },
  {
   "cell_type": "code",
   "execution_count": null,
   "id": "ef7d493b",
   "metadata": {},
   "outputs": [],
   "source": []
  }
 ],
 "metadata": {
  "kernelspec": {
   "display_name": "Python 3 (ipykernel)",
   "language": "python",
   "name": "python3"
  },
  "language_info": {
   "codemirror_mode": {
    "name": "ipython",
    "version": 3
   },
   "file_extension": ".py",
   "mimetype": "text/x-python",
   "name": "python",
   "nbconvert_exporter": "python",
   "pygments_lexer": "ipython3",
   "version": "3.9.10"
  }
 },
 "nbformat": 4,
 "nbformat_minor": 5
}
