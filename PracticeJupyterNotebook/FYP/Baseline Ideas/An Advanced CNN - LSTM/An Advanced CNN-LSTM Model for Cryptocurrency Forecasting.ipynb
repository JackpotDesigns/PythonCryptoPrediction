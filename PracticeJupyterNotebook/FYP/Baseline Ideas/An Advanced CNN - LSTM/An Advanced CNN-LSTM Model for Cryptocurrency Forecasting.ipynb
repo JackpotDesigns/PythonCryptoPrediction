{
 "cells": [
  {
   "cell_type": "markdown",
   "id": "aa8e4cda",
   "metadata": {},
   "source": [
    "<Strong> Citations = 16 , Year of Publish = 13/10/2021 </Strong>"
   ]
  },
  {
   "cell_type": "markdown",
   "id": "fae23742",
   "metadata": {},
   "source": [
    "<ul>\n",
    "    \n",
    "<li> Doesn't mention if uses univariate or multi-variate (i assume closing price). </li>\n",
    "    \n",
    "    \n",
    "<li> The cryptocurrency data is processed and handled independently and then the processed\n",
    "data from each cryptocurrency are merged and further processed. </li>\n",
    "    \n",
    "    \n",
    "<li> N convolutional layers (N being number of cryptocurrencies being used) -> max-pooling layer -> LSTM . </li>\n",
    "<li> Use train , validation and test set. </li>\n",
    "<li> Training for 1 week and 2 weeks in advanced .</li>\n",
    "<li> What the paper is going to use. (Convolutional and LSTM's)</li>\n",
    "</ul>"
   ]
  },
  {
   "cell_type": "code",
   "execution_count": null,
   "id": "c34f3f08",
   "metadata": {},
   "outputs": [],
   "source": []
  }
 ],
 "metadata": {
  "kernelspec": {
   "display_name": "Python 3 (ipykernel)",
   "language": "python",
   "name": "python3"
  },
  "language_info": {
   "codemirror_mode": {
    "name": "ipython",
    "version": 3
   },
   "file_extension": ".py",
   "mimetype": "text/x-python",
   "name": "python",
   "nbconvert_exporter": "python",
   "pygments_lexer": "ipython3",
   "version": "3.10.0"
  }
 },
 "nbformat": 4,
 "nbformat_minor": 5
}
