{
 "cells": [
  {
   "cell_type": "markdown",
   "id": "031b99d4",
   "metadata": {},
   "source": [
    "<Strong> ** From my reading of Deep Learning-Based Cryptocurrency Price Prediction Scheme For Financial Institutions. ** </Strong>"
   ]
  },
  {
   "cell_type": "markdown",
   "id": "4c36e10e",
   "metadata": {},
   "source": [
    "<Strong> Abstract </Strong>"
   ]
  },
  {
   "cell_type": "markdown",
   "id": "c0f6428a",
   "metadata": {},
   "source": [
    "<ul>\n",
    "    <li> Brief description of cryptocurrency , blockchain. </li>\n",
    "    <li> Why it gained so much popularity. </li>\n",
    "    <li> The fact its volitile. </li>\n",
    "    <li> Emergence of Crypto Price Prediction. Examples of deep learning algorithms.</li>\n",
    "    <li> What the paper is going to use. (LSTM / GRU combined)</li>\n",
    "    <li> Results.</li>\n",
    "</ul>"
   ]
  },
  {
   "cell_type": "markdown",
   "id": "90b6c8e2",
   "metadata": {},
   "source": [
    "<Strong> Introduction </Strong>"
   ]
  },
  {
   "cell_type": "markdown",
   "id": "e86aa1f1",
   "metadata": {},
   "source": [
    "<ul>\n",
    "    <li> Background on blockchain and Crypto and what issues it fixes. </li>\n",
    "    <li> 3 types of crypto (Currency , Platform - eleminate middlemen Eth smart contracts , Application - used in specific industries). </li>\n",
    "    <li> Why is crypto so volitile. - why this is a problem .</li>\n",
    "    <li> What network we are proposing in this network.</li>\n",
    "</ul>\n",
    "\n",
    "\n"
   ]
  },
  {
   "cell_type": "markdown",
   "id": "fec1f005",
   "metadata": {},
   "source": [
    "<Strong> Sub-Heading : Motivation </Strong>"
   ]
  },
  {
   "cell_type": "markdown",
   "id": "2bfe5d5c",
   "metadata": {},
   "source": [
    "<ul>\n",
    "    <li> Use Cases of crypto. </li>\n",
    "    <li> What other papers you have read have focused on. </li>\n",
    "    <li> Figure to show growth of users inversting in Crypto. Figure showing capitalization</li>\n",
    "    <li> Crypto we are going to use and why.</li>\n",
    "</ul>"
   ]
  },
  {
   "cell_type": "code",
   "execution_count": null,
   "id": "5827c312",
   "metadata": {},
   "outputs": [],
   "source": []
  }
 ],
 "metadata": {
  "kernelspec": {
   "display_name": "Python 3 (ipykernel)",
   "language": "python",
   "name": "python3"
  },
  "language_info": {
   "codemirror_mode": {
    "name": "ipython",
    "version": 3
   },
   "file_extension": ".py",
   "mimetype": "text/x-python",
   "name": "python",
   "nbconvert_exporter": "python",
   "pygments_lexer": "ipython3",
   "version": "3.9.10"
  }
 },
 "nbformat": 4,
 "nbformat_minor": 5
}
