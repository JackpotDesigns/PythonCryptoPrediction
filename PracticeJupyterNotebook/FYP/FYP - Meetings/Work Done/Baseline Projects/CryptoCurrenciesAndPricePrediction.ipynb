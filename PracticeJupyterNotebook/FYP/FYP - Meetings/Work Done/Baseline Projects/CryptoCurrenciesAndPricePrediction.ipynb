{
 "cells": [
  {
   "cell_type": "markdown",
   "id": "f1dd8f6a",
   "metadata": {},
   "source": [
    "<Strong> ** From my reading of Cryptocurrencies and Price Prediction ** </Strong>"
   ]
  },
  {
   "cell_type": "markdown",
   "id": "cf7e7c53",
   "metadata": {},
   "source": [
    "<Strong> Intro </Strong>"
   ]
  },
  {
   "cell_type": "markdown",
   "id": "7d01edcc",
   "metadata": {},
   "source": [
    "<ul>\n",
    "    <li> Describes the outer symptoms of crytpocurrency. </li>\n",
    "    <li> A little information about the cause of cryptocurrency fluctuation and the goal of understanding the patterns through use of machine learning. </li>\n",
    "</ul>"
   ]
  },
  {
   "cell_type": "markdown",
   "id": "27c738db",
   "metadata": {},
   "source": [
    "<Strong> Theoretical Context </Strong>"
   ]
  },
  {
   "cell_type": "markdown",
   "id": "bb09d002",
   "metadata": {},
   "source": [
    "<ul>\n",
    "    <li> Here the authors go in debth in describing the forementioned cryptocurrency dynamics , blockchain , and smart contracts. </li>\n",
    "</ul>"
   ]
  },
  {
   "cell_type": "markdown",
   "id": "cfab03de",
   "metadata": {},
   "source": [
    "<Strong> Literature Review </Strong>"
   ]
  },
  {
   "cell_type": "markdown",
   "id": "5dba6221",
   "metadata": {},
   "source": [
    "\n",
    "<ul>\n",
    "    \n",
    "<li>     Perdana, A., Robb, A., Balachandran, V., Rohde, F.: Distributed ledger technology: Its evolutionary path and the road ahead <Strong>and </Strong>Kraaijeveld, O., De Smedt, J.: The predictive power of public twitter sentiment for forecasting cryptocurrency prices.</li>\n",
    "    \n",
    "<Strong> Influence of news and social networks have on emerging technology </Strong>\n",
    "    \n",
    "<p> Favourable sentiment is less likely than unfavourable sentiment (BTC), using twitter and sentiment analysis helped predict the price of BTC , BHC , LTC. </p>\n",
    "<br></br>\n",
    "\n",
    "<li>Chokor, A., Alfieri, E.: Long and short-term impacts of regulation in the cryptocurrency market. </li>\n",
    "    \n",
    "<Strong> Regulatory news and events that have affected returns in crypto market. </Strong>\n",
    "<p> Events that increase the probability of a regulation adoption are associated with a negative abnormal return for the concerning cryptocurrency. Investors reacted less negatively to illiquid crypto. </p>\n",
    "<br> </br>\n",
    "\n",
    "<li> Hamrick, J., Rouhi, F., Mukherjee, A., Feder, A., Gandal, N., Moore, T., Vasek, M.: An examination of the cryptocurrency pump-and-dump ecosystem. </li>\n",
    "\n",
    "<Strong> Pump and Dump Schemes <Strong>\n",
    "    \n",
    "<p> Pumped coins experience a modest price increase but higher for less popular coins. More brazen pumps are more successful than obscuring the corrupt nature.  </p>\n",
    "<br> </br>\n",
    "    \n",
    "<li> Patel, M.M., Tanwar, S., Gupta, R., Kumar, N.: A deep learning-based cryptocurrency price prediction scheme for financial institutions. </li>\n",
    "    \n",
    "<Strong> Using LSTM and a GRU hybrid cryptocurrency prediction. </Strong>\n",
    "    \n",
    "<p> Gave accurate results while predicting Litecoin and Monero , can be applied to various crypto-currency price predictions. </p>\n",
    "<br> </br>\n",
    "    \n",
    "<li> Poongodi, M., Sharma, A., Vijayakumar, V., Bhardwaj, V., Sharma, A.P., Iqbal, R., Kumar, R.: Prediction of the price of ethereum blockchain cryptocurrency in an industrial finance system. </li>\n",
    "\n",
    "<Strong> Using Two seperate models LR , SVM with ETH closing prices. </Strong>\n",
    "\n",
    "<p> SVM had a higher model accuracy. </p>\n",
    "\n",
    "</ul>\n"
   ]
  },
  {
   "cell_type": "markdown",
   "id": "ba4e570d",
   "metadata": {},
   "source": [
    "<Strong> Conclusion </Strong>"
   ]
  },
  {
   "cell_type": "markdown",
   "id": "cbbeef64",
   "metadata": {},
   "source": [
    "<p> We have models that are very good at predicting the market closing price , with high accuracy. Although if social factors (regulatory and community sentiment in social networks) are not taken into account its not possible to identify prediction patterns. </p>"
   ]
  }
 ],
 "metadata": {
  "kernelspec": {
   "display_name": "Python 3 (ipykernel)",
   "language": "python",
   "name": "python3"
  },
  "language_info": {
   "codemirror_mode": {
    "name": "ipython",
    "version": 3
   },
   "file_extension": ".py",
   "mimetype": "text/x-python",
   "name": "python",
   "nbconvert_exporter": "python",
   "pygments_lexer": "ipython3",
   "version": "3.9.10"
  }
 },
 "nbformat": 4,
 "nbformat_minor": 5
}
