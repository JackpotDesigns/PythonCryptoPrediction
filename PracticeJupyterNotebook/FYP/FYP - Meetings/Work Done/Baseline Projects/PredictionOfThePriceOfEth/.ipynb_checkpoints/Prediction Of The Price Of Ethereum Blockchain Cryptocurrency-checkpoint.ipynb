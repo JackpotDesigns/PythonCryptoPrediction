{
 "cells": [
  {
   "cell_type": "markdown",
   "id": "e24afa3e",
   "metadata": {},
   "source": [
    "<Strong> Abstract </Strong>"
   ]
  },
  {
   "cell_type": "markdown",
   "id": "62a6d699",
   "metadata": {},
   "source": [
    "<ul>\n",
    "    <li> Increased popularity , advantages. </li>\n",
    "    <li> What we will doing in this study. - what data we will be using  </li>\n",
    "    <li> Results. </li>\n",
    "</ul>"
   ]
  },
  {
   "cell_type": "markdown",
   "id": "dea6f3bb",
   "metadata": {},
   "source": [
    "<Strong> Introduction </Strong>"
   ]
  },
  {
   "cell_type": "markdown",
   "id": "186f8006",
   "metadata": {},
   "source": [
    "<ul>\n",
    "    <li> Major tech advances . </li>\n",
    "    <li> Changes in e-commerce and e-payments.  </li>\n",
    "    <li> Emergence of cryptocurrency. - Printed to Virtual </li>\n",
    "    <li> Idea of Bitcoin. - How it works , Figure </li>\n",
    "    <li> Type of Crytocurrency is. </li>\n",
    "</ul>"
   ]
  },
  {
   "cell_type": "markdown",
   "id": "61ba7311",
   "metadata": {},
   "source": [
    "<Strong> Related Architecture </Strong>"
   ]
  },
  {
   "cell_type": "markdown",
   "id": "8ffdd094",
   "metadata": {},
   "source": [
    "<ul>\n",
    "    <li> Developmnet of country depends on its economy ,thus role of currency in the economy cannot be ignored. </li>\n",
    "    <li> Blockchain has attracted a vast range of people of differing instutions.  </li>\n",
    "    <li> Major issues with transaction and cryptocurrenccy - Loss of wallet file / loss in public + private key / social engineering </li>\n",
    "\n",
    "</ul>"
   ]
  },
  {
   "cell_type": "markdown",
   "id": "9456748d",
   "metadata": {},
   "source": [
    "<Strong> Proposed System Model </Strong>"
   ]
  },
  {
   "cell_type": "markdown",
   "id": "e5d9c915",
   "metadata": {},
   "source": [
    "<ul>\n",
    "    <li> Crypto will be predicting on. </li>\n",
    "    <li> Model you will be predicting on.  </li>\n",
    "    <li> Figure of mind map </li>\n",
    "</ul>"
   ]
  },
  {
   "cell_type": "markdown",
   "id": "025989d5",
   "metadata": {},
   "source": [
    "<Strong> Dataset and preprocessing </Strong>"
   ]
  },
  {
   "cell_type": "markdown",
   "id": "c40515a4",
   "metadata": {},
   "source": [
    "<ul>\n",
    "    <li> Website used to get data. How data is stored and transferred to Model. </li>\n",
    "    <li> 80% training and 20% test. </li>\n",
    "</ul>"
   ]
  },
  {
   "cell_type": "markdown",
   "id": "2b865de4",
   "metadata": {},
   "source": [
    "<Strong> Feature Extraction </Strong>"
   ]
  },
  {
   "cell_type": "markdown",
   "id": "8aec95c2",
   "metadata": {},
   "source": [
    "<ul>\n",
    "    <li> What features were offered on website. </li>\n",
    "</ul>"
   ]
  },
  {
   "cell_type": "markdown",
   "id": "d85d3094",
   "metadata": {},
   "source": [
    "<Strong> Feature Selection </Strong>"
   ]
  },
  {
   "cell_type": "markdown",
   "id": "47a85455",
   "metadata": {},
   "source": [
    "<ul>\n",
    "    <li> <Strong> Eliminate data that is irrelevant</Strong> - Only keep the most important features. Correlation Matrix (0.6 - 0.8) </li>\n",
    "    <li> Fig closing price of Eth / lowest price - What you can take from the graph.</li>\n",
    "    <li> Figure of mind map </li>\n",
    "</ul>"
   ]
  },
  {
   "cell_type": "markdown",
   "id": "febc8646",
   "metadata": {},
   "source": [
    "<Strong> Experimental Setup </Strong>"
   ]
  },
  {
   "cell_type": "markdown",
   "id": "b4fea0c2",
   "metadata": {},
   "source": [
    "<ul>\n",
    "    <li> Running on jupyer. </li>\n",
    "    <li> Pc computer specs </li>\n",
    "    <li> Time-taken , graphs generated , amount of data. </li>\n",
    "</ul>"
   ]
  },
  {
   "cell_type": "markdown",
   "id": "6815454a",
   "metadata": {},
   "source": [
    "<Strong> Improve upon </Strong>"
   ]
  },
  {
   "cell_type": "code",
   "execution_count": null,
   "id": "95413cd0",
   "metadata": {},
   "outputs": [],
   "source": [
    "<ul>\n",
    "    <li> Feature Engineering. - Include mean , mode , median </li>\n",
    "    <li> Pc computer specs </li>\n",
    "    <li> Time-taken , graphs generated , amount of data. </li>\n",
    "</ul>"
   ]
  },
  {
   "cell_type": "markdown",
   "id": "de20354a",
   "metadata": {},
   "source": [
    "<Strong> Conclusion </Strong>"
   ]
  },
  {
   "cell_type": "markdown",
   "id": "078f9a49",
   "metadata": {},
   "source": [
    "<ul>\n",
    "    <li> If trained model produces accurate results , the model can then be deployed in the real time. </li>\n",
    "    <li> Stock broker and investors will have the upperhand in the market .</li>\n",
    "</ul>"
   ]
  }
 ],
 "metadata": {
  "kernelspec": {
   "display_name": "Python 3 (ipykernel)",
   "language": "python",
   "name": "python3"
  },
  "language_info": {
   "codemirror_mode": {
    "name": "ipython",
    "version": 3
   },
   "file_extension": ".py",
   "mimetype": "text/x-python",
   "name": "python",
   "nbconvert_exporter": "python",
   "pygments_lexer": "ipython3",
   "version": "3.10.0"
  }
 },
 "nbformat": 4,
 "nbformat_minor": 5
}
