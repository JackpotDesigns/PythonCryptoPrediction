{
 "cells": [
  {
   "cell_type": "markdown",
   "id": "e4b45d60",
   "metadata": {},
   "source": [
    "<Strong> Work Done as of 02/02/2022 </Strong>"
   ]
  },
  {
   "cell_type": "markdown",
   "id": "737cc41d",
   "metadata": {},
   "source": [
    "<Strong> 1.) Coverred following material in Deep Learning With Python. </Strong>\n",
    "\n",
    "<ol> \n",
    "    <li> Convolutional Networks </li>\n",
    "    <li> Densed Layer Classification Networks </li>\n",
    "    <li> Densed Layer Regression </li>\n",
    "    <li> RNN / LSTM Networks </li>\n",
    "    <li> Moving onto Convolutional Networks for Sequence Data. </li>\n",
    "</ol>"
   ]
  },
  {
   "cell_type": "markdown",
   "id": "c75c196c",
   "metadata": {},
   "source": [
    "<Strong> 2.) Stationary / Non - Stationary Data </Strong>"
   ]
  },
  {
   "cell_type": "markdown",
   "id": "601c6150",
   "metadata": {},
   "source": [
    "<ul> \n",
    "    <li> \n",
    "        Identified what makes data stationary and the tests you can take to test whether data is non-stationary.\n",
    "    </li>\n",
    "    \n",
    "\n",
    "</ul>"
   ]
  },
  {
   "cell_type": "markdown",
   "id": "b9773715",
   "metadata": {},
   "source": [
    "<Strong> 3.) Created Baselines for FYP </Strong>"
   ]
  },
  {
   "cell_type": "markdown",
   "id": "ba1af1ba",
   "metadata": {},
   "source": [
    "<ul>\n",
    "    <li> Created a common sense Baseline Model - If todays closing price > opening price of today , then tomorrows opening price will increase , else it will decrease. </li>\n",
    "</ul>"
   ]
  },
  {
   "cell_type": "markdown",
   "id": "0e3ae584",
   "metadata": {},
   "source": [
    "<Strong> 4.) Data Shuffling Methods </Strong>"
   ]
  },
  {
   "cell_type": "markdown",
   "id": "5ace9632",
   "metadata": {},
   "source": [
    "<ol> \n",
    "    <li> Fixed Origin Method </li>\n",
    "    <li> Rolling Origin </li>\n",
    "    <li> Rolling Window - trouble implementing.  </li>\n",
    "\n",
    "</ol>"
   ]
  },
  {
   "cell_type": "markdown",
   "id": "f7d0dc2a",
   "metadata": {},
   "source": [
    "<Strong> 5.) Temporal Convolutional Network </Strong>"
   ]
  },
  {
   "cell_type": "markdown",
   "id": "169ed8b4",
   "metadata": {},
   "source": [
    "<li> Currently on casual convolutions. </li>"
   ]
  },
  {
   "cell_type": "markdown",
   "id": "70f15083",
   "metadata": {},
   "source": [
    "<Strong> To-Do : 02/02/2022 - 09/02/2022  </Strong>"
   ]
  },
  {
   "cell_type": "markdown",
   "id": "e917e658",
   "metadata": {},
   "source": [
    "<ul>\n",
    "    <li> I want to get my Data shuffling working with a custom network. </li>\n",
    "       <li> Denoise my dataset , make it stationary. </li>\n",
    "    <li> Research how casual convolutions will work with my data. </li>\n",
    "</ul>"
   ]
  },
  {
   "cell_type": "code",
   "execution_count": null,
   "id": "c7b3430a",
   "metadata": {},
   "outputs": [],
   "source": []
  }
 ],
 "metadata": {
  "kernelspec": {
   "display_name": "Python 3 (ipykernel)",
   "language": "python",
   "name": "python3"
  },
  "language_info": {
   "codemirror_mode": {
    "name": "ipython",
    "version": 3
   },
   "file_extension": ".py",
   "mimetype": "text/x-python",
   "name": "python",
   "nbconvert_exporter": "python",
   "pygments_lexer": "ipython3",
   "version": "3.10.0"
  }
 },
 "nbformat": 4,
 "nbformat_minor": 5
}
