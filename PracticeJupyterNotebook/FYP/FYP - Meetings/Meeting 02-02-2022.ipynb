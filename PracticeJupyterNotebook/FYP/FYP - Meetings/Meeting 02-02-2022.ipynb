{
 "cells": [
  {
   "cell_type": "code",
   "execution_count": 62,
   "id": "ce04a0cc",
   "metadata": {},
   "outputs": [],
   "source": [
    "import pandas as pd\n",
    "import numpy as np\n",
    "from matplotlib import pyplot as plt\n",
    "from tensorflow.keras.models import Sequential \n",
    "from tensorflow.keras import layers\n",
    "from tensorflow.keras.optimizers import RMSprop\n",
    "import os"
   ]
  },
  {
   "cell_type": "code",
   "execution_count": 63,
   "id": "7d3968f4",
   "metadata": {},
   "outputs": [],
   "source": [
    "df = pd.read_csv(\"../../../cryptoData/BTC_15m_data.csv\")"
   ]
  },
  {
   "cell_type": "code",
   "execution_count": 64,
   "id": "337f6782",
   "metadata": {},
   "outputs": [],
   "source": [
    "float_data = df.values[:, 1: ,].astype(float)\n",
    "closing_price = float_data[:,1]"
   ]
  },
  {
   "cell_type": "markdown",
   "id": "a3b33ad3",
   "metadata": {},
   "source": [
    "<Strong> 1** </Strong>"
   ]
  },
  {
   "cell_type": "markdown",
   "id": "28628f96",
   "metadata": {},
   "source": [
    "<Strong> Univariate or Multivariate ? <Strong>"
   ]
  },
  {
   "cell_type": "markdown",
   "id": "5c1d9374",
   "metadata": {},
   "source": [
    "<p> Why do Univariate models perform better , linear regression (like cutting out parameters that might be important).  </p>\n",
    "\n"
   ]
  },
  {
   "cell_type": "markdown",
   "id": "400aacb4",
   "metadata": {},
   "source": [
    "<Strong> 2 ****** </Strong>"
   ]
  },
  {
   "cell_type": "markdown",
   "id": "8c0ffd8d",
   "metadata": {},
   "source": [
    "<Strong> Techniques To Convert Non - Stationary Data To Stationary? </Strong>"
   ]
  },
  {
   "cell_type": "markdown",
   "id": "8b9e118e",
   "metadata": {},
   "source": [
    "<p> Non-Stationary Data patterns we cannot predict , will not work well in model. Making sure the data is stationary is critical in making sure out model works effectively.  </p>"
   ]
  },
  {
   "cell_type": "markdown",
   "id": "07011433",
   "metadata": {},
   "source": [
    "<p> This is only using univariate data (closing_price). </p>"
   ]
  },
  {
   "cell_type": "code",
   "execution_count": 65,
   "id": "3e6d0d96",
   "metadata": {},
   "outputs": [
    {
     "data": {
      "text/plain": [
       "[<matplotlib.lines.Line2D at 0x12fad0580>]"
      ]
     },
     "execution_count": 65,
     "metadata": {},
     "output_type": "execute_result"
    },
    {
     "data": {
      "image/png": "[encoded data removed]",
      "text/plain": [
       "<Figure size 432x288 with 1 Axes>"
      ]
     },
     "metadata": {
      "needs_background": "light"
     },
     "output_type": "display_data"
    }
   ],
   "source": [
    "plt.plot( range ( len (closing_price) ) , closing_price )"
   ]
  },
  {
   "cell_type": "markdown",
   "id": "e44cc9e0",
   "metadata": {},
   "source": [
    "<p> From the graph we can see that the mean is not constant over time , standard deviation is not constant either.End of the series is more variable than the beginning.  Non stationary data. As the stock grows it increases in volitility. <p>"
   ]
  },
  {
   "cell_type": "markdown",
   "id": "ec8a7acb",
   "metadata": {},
   "source": [
    "<Strong> 3 ** </Strong>"
   ]
  },
  {
   "cell_type": "markdown",
   "id": "c9713529",
   "metadata": {},
   "source": [
    "<Strong> Normalize if using Univariate ? </Strong>"
   ]
  },
  {
   "cell_type": "markdown",
   "id": "0937decb",
   "metadata": {},
   "source": [
    "<p> I thought the point of normalizing was so that all the different ranges of variable , in each feature reads the same , but if we only have one featue , why do we have to normalize ? </p>"
   ]
  },
  {
   "cell_type": "code",
   "execution_count": 66,
   "id": "18bd109c",
   "metadata": {},
   "outputs": [],
   "source": [
    "mean = closing_price[:200000].mean(axis=0)\n",
    "closing_price -= mean\n",
    "std = closing_price[:200000].std(axis=0)\n",
    "closing_price /= std"
   ]
  },
  {
   "cell_type": "markdown",
   "id": "62d4b873",
   "metadata": {},
   "source": [
    "<Strong> 4 ** </Strong>"
   ]
  },
  {
   "cell_type": "markdown",
   "id": "55f78a8f",
   "metadata": {},
   "source": [
    "<Strong> Rolling Window or Rolling Origin ? <Strong>"
   ]
  },
  {
   "cell_type": "markdown",
   "id": "0f67b734",
   "metadata": {},
   "source": [
    "<p> Why is Rolling Window prefered over Rolling Origin , I would of thought as Rolling Origin takes in more samples per prediction , it would do better ?  </p>"
   ]
  },
  {
   "cell_type": "markdown",
   "id": "5863cd9c",
   "metadata": {},
   "source": [
    "<Strong> 5** </Strong>"
   ]
  },
  {
   "cell_type": "markdown",
   "id": "5b9c4789",
   "metadata": {},
   "source": [
    "<Strong> Optimum lag value. </Strong>"
   ]
  },
  {
   "cell_type": "markdown",
   "id": "6fc7f711",
   "metadata": {},
   "source": [
    "<p> Is there a standard or is just trial and error ? </p>"
   ]
  },
  {
   "cell_type": "markdown",
   "id": "1013014c",
   "metadata": {},
   "source": [
    "<Strong> 6 ** <Strong>"
   ]
  },
  {
   "cell_type": "markdown",
   "id": "92b8c611",
   "metadata": {},
   "source": [
    "<Strong> Rolling Window -  Fixed size time-series which we slide in time to predict into future . </Strong>"
   ]
  },
  {
   "cell_type": "markdown",
   "id": "20dcdbfc",
   "metadata": {},
   "source": [
    "<p> What I pictured Rolling Window would be. </p>"
   ]
  },
  {
   "cell_type": "code",
   "execution_count": 67,
   "id": "826dd099",
   "metadata": {},
   "outputs": [
    {
     "data": {
      "text/plain": [
       "array([ 1,  2,  3,  4,  5,  6,  7,  8,  9, 10, 11, 12, 13, 14])"
      ]
     },
     "execution_count": 67,
     "metadata": {},
     "output_type": "execute_result"
    }
   ],
   "source": [
    "dummy = np.arange(1, 15)\n",
    "dummy"
   ]
  },
  {
   "cell_type": "code",
   "execution_count": 68,
   "id": "2a8375c4",
   "metadata": {},
   "outputs": [],
   "source": [
    "# window_size = 4 \n",
    "# We want 2 validation samples and the rest training\n",
    "# Not worrying about splitting off a test set in this example.\n",
    "\n",
    "# 1st iteration - training : x = [1,2,3,4] y = [5]\n",
    "# 2nd iteration - training : x = [2,3,4,5] y = [6]\n",
    "# 3rd iteration - training : x = [3,4,5,6] y = [7]\n",
    "# 4th iteration - training : x = [4,5,6,7] y = [8]\n",
    "\n",
    "# 5th iteration - validation : x = [5,6,7,8] y = [9]\n",
    "\n",
    "# 6th iteration - training : x = [6,7,8,9] y = [10]\n",
    "# 7th iteration - training : x = [7,8,9,10] y = [6]\n",
    "# 8th iteration - training : x = [8,9,10,11] y = [7]\n",
    "# 9th iteration - training : x = [9,10,11,12] y = [13]\n",
    "\n",
    "# 10th iteration - validation : x = [10,11,12,13] y = [14] "
   ]
  },
  {
   "cell_type": "markdown",
   "id": "a8ee0ac4",
   "metadata": {},
   "source": [
    "<p> So from above we have 8 samples in training data and 2 samples in validation data. </p>"
   ]
  },
  {
   "cell_type": "code",
   "execution_count": 75,
   "id": "b2531f90",
   "metadata": {},
   "outputs": [
    {
     "name": "stdout",
     "output_type": "stream",
     "text": [
      "[1 2 3 4]\n",
      "[5]\n",
      "[2 3 4 5]\n",
      "[6]\n",
      "[3 4 5 6]\n",
      "[7]\n",
      "[4 5 6 7]\n",
      "[8]\n",
      "[5 6 7 8]\n",
      "[9]\n",
      "[6 7 8 9]\n",
      "[10]\n",
      "[ 7  8  9 10]\n",
      "[11]\n",
      "[ 8  9 10 11]\n",
      "[12]\n",
      "[ 9 10 11 12]\n",
      "[13]\n",
      "[10 11 12 13]\n",
      "[14]\n"
     ]
    }
   ],
   "source": [
    "def rolling_window(train_data , window_size , predict_future_steps):\n",
    "    for i in range (len(train_data) - window_size - predict_future_steps + 1):\n",
    "\n",
    "        split_train = train_data[i:window_size+i]\n",
    "        split_val = train_data[i+window_size:window_size+i+predict_future_steps]\n",
    "\n",
    "        yield split_train , split_val\n",
    "            \n",
    "rolling = rolling_window(dummy , 4 , 1)\n",
    "\n",
    "for train , val in rolling:\n",
    "    print(train)\n",
    "    print(val)\n",
    "\n",
    "    "
   ]
  },
  {
   "cell_type": "markdown",
   "id": "19667d0d",
   "metadata": {},
   "source": [
    "<p> From above , is val not just y_train ? So where is the validation data coming from ? </p>"
   ]
  },
  {
   "cell_type": "code",
   "execution_count": null,
   "id": "21098caa",
   "metadata": {},
   "outputs": [],
   "source": []
  }
 ],
 "metadata": {
  "kernelspec": {
   "display_name": "Python 3 (ipykernel)",
   "language": "python",
   "name": "python3"
  },
  "language_info": {
   "codemirror_mode": {
    "name": "ipython",
    "version": 3
   },
   "file_extension": ".py",
   "mimetype": "text/x-python",
   "name": "python",
   "nbconvert_exporter": "python",
   "pygments_lexer": "ipython3",
   "version": "3.9.10"
  }
 },
 "nbformat": 4,
 "nbformat_minor": 5
}
