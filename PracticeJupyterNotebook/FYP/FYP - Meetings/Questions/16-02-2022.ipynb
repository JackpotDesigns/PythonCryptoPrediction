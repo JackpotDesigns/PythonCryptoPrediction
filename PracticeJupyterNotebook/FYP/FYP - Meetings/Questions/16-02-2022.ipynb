{
 "cells": [
  {
   "cell_type": "markdown",
   "id": "c0bf8e40",
   "metadata": {},
   "source": [
    "<li> Do LSTM and CNN network's work in the same way as regards to the layers? So the first layers you put in they find small patterns and representations , the more layers you put in the bigger the patterns (via combining the smaller patterns and representations). </li>\n",
    "\n",
    "<br></br>\n",
    "\n",
    "<li> I remember reading on one of the articles last week that btc presented more consistent long-memory behavior\".\n",
    " What tells you from the results that it consisted of more long-memory behaviour? Is it just better accuracy results?\n",
    "</li>\n",
    "\n",
    "<br></br>\n",
    "\n",
    "<li> Should I be merging all the crypto data ?\n",
    "</li>"
   ]
  },
  {
   "cell_type": "code",
   "execution_count": null,
   "id": "cb0b43ab",
   "metadata": {},
   "outputs": [],
   "source": []
  }
 ],
 "metadata": {
  "kernelspec": {
   "display_name": "Python 3 (ipykernel)",
   "language": "python",
   "name": "python3"
  },
  "language_info": {
   "codemirror_mode": {
    "name": "ipython",
    "version": 3
   },
   "file_extension": ".py",
   "mimetype": "text/x-python",
   "name": "python",
   "nbconvert_exporter": "python",
   "pygments_lexer": "ipython3",
   "version": "3.9.10"
  }
 },
 "nbformat": 4,
 "nbformat_minor": 5
}
