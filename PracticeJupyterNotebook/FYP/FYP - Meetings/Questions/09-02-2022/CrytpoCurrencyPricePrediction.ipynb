{
 "cells": [
  {
   "cell_type": "markdown",
   "id": "2ab5f6ba",
   "metadata": {},
   "source": [
    "<Strong> Questions From CryptoCurrencies And PricePrediction , first article read </Strong>"
   ]
  },
  {
   "cell_type": "markdown",
   "id": "4cf5055e",
   "metadata": {},
   "source": [
    "<ul> \n",
    "    <li> At the top of the 5th page : \"It made an attempt to apply machine learning techniques on the index and constituents of cryptocurrency\".</li>  \n",
    "    \n",
    "<p> What does this mean? </p>  \n",
    "<br> </br>\n",
    "    \n",
    "<li> The project below ^ it says  \"The BTC was the only cryptocurrency that presented more consistent long-memory behavior\".</li>\n",
    "\n",
    "<p> how can you tell results from being long term as opposed to short term behaviour? Is it just better accuracy results?</p>\n",
    "<br></br>\n",
    "\n",
    "<li> In the conclustion he basically says if you dont take into account the social factors such as regulatory and community sentiment in social networks its not possible to identify prediction patterns.</li>\n",
    "\n",
    "<p> Would pump and dump schemes be clasified as a social factor , or would you say thats somethign different?  </p>\n",
    "\n",
    "<br> </br>\n",
    "</ul>"
   ]
  },
  {
   "cell_type": "code",
   "execution_count": null,
   "id": "cc70c940",
   "metadata": {},
   "outputs": [],
   "source": []
  }
 ],
 "metadata": {
  "kernelspec": {
   "display_name": "Python 3 (ipykernel)",
   "language": "python",
   "name": "python3"
  },
  "language_info": {
   "codemirror_mode": {
    "name": "ipython",
    "version": 3
   },
   "file_extension": ".py",
   "mimetype": "text/x-python",
   "name": "python",
   "nbconvert_exporter": "python",
   "pygments_lexer": "ipython3",
   "version": "3.9.10"
  }
 },
 "nbformat": 4,
 "nbformat_minor": 5
}
