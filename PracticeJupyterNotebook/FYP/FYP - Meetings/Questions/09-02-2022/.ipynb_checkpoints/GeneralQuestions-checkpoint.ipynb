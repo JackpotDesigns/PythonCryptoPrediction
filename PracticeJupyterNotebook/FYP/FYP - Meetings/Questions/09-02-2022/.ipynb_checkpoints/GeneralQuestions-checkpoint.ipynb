{
 "cells": [
  {
   "cell_type": "markdown",
   "id": "3a982cc3",
   "metadata": {},
   "source": [
    "<p> Should 5 page just be an abridged version on fyp?? </p>"
   ]
  },
  {
   "cell_type": "code",
   "execution_count": null,
   "id": "710ad8af",
   "metadata": {},
   "outputs": [],
   "source": []
  }
 ],
 "metadata": {
  "kernelspec": {
   "display_name": "Python 3 (ipykernel)",
   "language": "python",
   "name": "python3"
  },
  "language_info": {
   "codemirror_mode": {
    "name": "ipython",
    "version": 3
   },
   "file_extension": ".py",
   "mimetype": "text/x-python",
   "name": "python",
   "nbconvert_exporter": "python",
   "pygments_lexer": "ipython3",
   "version": "3.9.10"
  }
 },
 "nbformat": 4,
 "nbformat_minor": 5
}
