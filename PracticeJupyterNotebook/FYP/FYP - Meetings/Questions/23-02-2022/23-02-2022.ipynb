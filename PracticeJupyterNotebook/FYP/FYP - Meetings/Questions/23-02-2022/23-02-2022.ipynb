{
 "cells": [
  {
   "cell_type": "markdown",
   "id": "a54a3600",
   "metadata": {},
   "source": [
    "<Strong> To Do : <Strong>"
   ]
  },
  {
   "cell_type": "markdown",
   "id": "48665a1f",
   "metadata": {},
   "source": [
    "<Strong> Batch size is not divisible by total training data </Strong>\n",
    "<p> e.g training data = 1100 and batch_size = 150 : (7 * batches of 150) = 1050 + (1 batch of 50) </p>\n"
   ]
  },
  {
   "cell_type": "markdown",
   "id": "b95f7889",
   "metadata": {},
   "source": [
    "<Strong> Extended Abstract <Strong>"
   ]
  },
  {
   "cell_type": "markdown",
   "id": "a44fa5e3",
   "metadata": {},
   "source": [
    "<p> So the deliverable wants a 5 page document on the most important findings undertaken. So from what I've done so far  </p>"
   ]
  },
  {
   "cell_type": "markdown",
   "id": "8845bf86",
   "metadata": {},
   "source": [
    "<p> Is it soley stuff youve learned within the parameters of the project , or is anything youve learned\n",
    "during your time doing the project .I've learned alot of stuff not directly related to the project (Ex. LSTM cells , pre-trained conv networks)  </p>"
   ]
  },
  {
   "cell_type": "markdown",
   "id": "10d43a7f",
   "metadata": {},
   "source": [
    "<Strong> Testing Using A combined feature (all crypto-currencies) data-set as input </Strong>"
   ]
  },
  {
   "cell_type": "markdown",
   "id": "1de6c952",
   "metadata": {},
   "source": [
    "<p> \n",
    "\n",
    "From the baseline model , they are using seperate models for each cryptocurrency , \n",
    "now im going to do that and see the results of each inparticular model.\n",
    "\n",
    "If I wanted to train one model with all the crypto data , should I change the model to a classification problem ,\n",
    "where the positive case would be , crypto will increase in price and the negative case will be that it will decrease.\n",
    "\n",
    "</p>\n"
   ]
  },
  {
   "cell_type": "code",
   "execution_count": null,
   "id": "b5b57833",
   "metadata": {},
   "outputs": [],
   "source": []
  }
 ],
 "metadata": {
  "kernelspec": {
   "display_name": "Python 3 (ipykernel)",
   "language": "python",
   "name": "python3"
  },
  "language_info": {
   "codemirror_mode": {
    "name": "ipython",
    "version": 3
   },
   "file_extension": ".py",
   "mimetype": "text/x-python",
   "name": "python",
   "nbconvert_exporter": "python",
   "pygments_lexer": "ipython3",
   "version": "3.7.0"
  }
 },
 "nbformat": 4,
 "nbformat_minor": 5
}
