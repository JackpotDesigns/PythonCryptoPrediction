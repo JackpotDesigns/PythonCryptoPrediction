{
 "cells": [
  {
   "cell_type": "markdown",
   "id": "a54a3600",
   "metadata": {},
   "source": [
    "<Strong> To Do : <Strong>"
   ]
  },
  {
   "cell_type": "markdown",
   "id": "48665a1f",
   "metadata": {},
   "source": [
    "<Strong> Batch size is not divisible by total training data </Strong>\n",
    "<p> e.g training data = 1100 and batch_size = 150 : (7 * batches of 150) = 1050 + (1 batch of 50) </p>\n"
   ]
  },
  {
   "cell_type": "markdown",
   "id": "0182f7c1",
   "metadata": {},
   "source": [
    "<Strong> Extended Abstract <Strong>"
   ]
  },
  {
   "cell_type": "markdown",
   "id": "31d718b9",
   "metadata": {},
   "source": [
    "<p> So the deliverable wants a 5 page document on the most important findings undertaken.  </p>"
   ]
  },
  {
   "cell_type": "markdown",
   "id": "b56eaa98",
   "metadata": {},
   "source": [
    "<p> I know I havent do much so far in terms of testing the models because Ive been trying to cloud working. </p>"
   ]
  },
  {
   "cell_type": "markdown",
   "id": "e88abae5",
   "metadata": {},
   "source": [
    "<p> What I have done I want to get that wrote down , so I was thinking of this layout. </p>"
   ]
  },
  {
   "cell_type": "code",
   "execution_count": null,
   "id": "35c98c77",
   "metadata": {},
   "outputs": [],
   "source": []
  }
 ],
 "metadata": {
  "kernelspec": {
   "display_name": "Python 3 (ipykernel)",
   "language": "python",
   "name": "python3"
  },
  "language_info": {
   "codemirror_mode": {
    "name": "ipython",
    "version": 3
   },
   "file_extension": ".py",
   "mimetype": "text/x-python",
   "name": "python",
   "nbconvert_exporter": "python",
   "pygments_lexer": "ipython3",
   "version": "3.7.0"
  }
 },
 "nbformat": 4,
 "nbformat_minor": 5
}
