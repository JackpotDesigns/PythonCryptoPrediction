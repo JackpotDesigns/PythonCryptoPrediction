{
 "cells": [
  {
   "cell_type": "markdown",
   "id": "c861dbf5",
   "metadata": {},
   "source": [
    "<Strong> To do :  <Strong>"
   ]
  },
  {
   "cell_type": "markdown",
   "id": "92db0255",
   "metadata": {},
   "source": [
    "<li> Change the data to andreas format - thats the data that we'll learn the most from  </li>\n",
    "<li> Best Values for our basline model. - 1 day window </li>\n",
    "<li> </li>\n",
    "<li> </li>\n",
    "<li> </li>\n",
    "<li> </li>"
   ]
  },
  {
   "cell_type": "code",
   "execution_count": null,
   "id": "b8c49bad",
   "metadata": {},
   "outputs": [],
   "source": []
  }
 ],
 "metadata": {
  "kernelspec": {
   "display_name": "Python 3 (ipykernel)",
   "language": "python",
   "name": "python3"
  },
  "language_info": {
   "codemirror_mode": {
    "name": "ipython",
    "version": 3
   },
   "file_extension": ".py",
   "mimetype": "text/x-python",
   "name": "python",
   "nbconvert_exporter": "python",
   "pygments_lexer": "ipython3",
   "version": "3.7.0"
  }
 },
 "nbformat": 4,
 "nbformat_minor": 5
}
