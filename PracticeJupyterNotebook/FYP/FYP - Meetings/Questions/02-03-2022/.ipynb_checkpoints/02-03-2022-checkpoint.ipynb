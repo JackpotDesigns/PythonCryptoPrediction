{
 "cells": [
  {
   "cell_type": "markdown",
   "id": "812f63b1",
   "metadata": {},
   "source": [
    "<Strong> To do :  <Strong>"
   ]
  },
  {
   "cell_type": "markdown",
   "id": "bf74f383",
   "metadata": {},
   "source": [
    "<li> Change the data to  </li>\n",
    "<li> Best Values for our basline model. - 1 day window </li>\n",
    "<li> </li>\n",
    "<li> </li>\n",
    "<li> </li>\n",
    "<li> </li>"
   ]
  },
  {
   "cell_type": "markdown",
   "id": "94166db0",
   "metadata": {},
   "source": [
    "<Strong> Why are the values that we save by using the window sized matrix instead of splitting first so influential? Is it not leakage , because some of the data points you used in trainnig are carried over in test ? </Strong>"
   ]
  },
  {
   "cell_type": "markdown",
   "id": "28a89e78",
   "metadata": {},
   "source": [
    "<p> Example : window_size 2 , 50 % training -  50 % test split , array : 16 timepoints </p>"
   ]
  },
  {
   "cell_type": "code",
   "execution_count": 3,
   "id": "b3f787f1",
   "metadata": {},
   "outputs": [],
   "source": [
    "#array = [1,2,3,4,5,6,7,8,9,10,11,12,13,14,15,16]\n",
    "\n",
    "#sliding window of array - window_size = 14\n",
    "\n",
    "#TRAINING\n",
    "\n",
    "#[1,2] y : 3\n",
    "#[2,3] y : 4\n",
    "#[3,4] Y : 5\n",
    "#[4,5] y : 6\n",
    "#[5,6] y : 7\n",
    "#[6,7] y : 8\n",
    "#[7,8] y : 9\n",
    "\n",
    "#TEST\n",
    "\n",
    "#LEAKAGE by using a timepoint from the training set in the test set ?\n",
    "#[8,9] y : 10\n",
    "#[9,10] y : 11\n",
    "\n",
    "#[10,11] y : 12 \n",
    "#[11,12] y : 13\n",
    "#[12,13] y : 14\n",
    "#[13,14] y : 15\n",
    "#[14,15] y : 16\n",
    "\n",
    "# Are the timepoints you save from creating matrix before splitting not leakage ?"
   ]
  },
  {
   "cell_type": "code",
   "execution_count": null,
   "id": "fea6288b",
   "metadata": {},
   "outputs": [],
   "source": []
  },
  {
   "cell_type": "code",
   "execution_count": null,
   "id": "17998fdf",
   "metadata": {},
   "outputs": [],
   "source": []
  },
  {
   "cell_type": "code",
   "execution_count": null,
   "id": "c6e15fc8",
   "metadata": {},
   "outputs": [],
   "source": [
    "#"
   ]
  }
 ],
 "metadata": {
  "kernelspec": {
   "display_name": "Python 3 (ipykernel)",
   "language": "python",
   "name": "python3"
  },
  "language_info": {
   "codemirror_mode": {
    "name": "ipython",
    "version": 3
   },
   "file_extension": ".py",
   "mimetype": "text/x-python",
   "name": "python",
   "nbconvert_exporter": "python",
   "pygments_lexer": "ipython3",
   "version": "3.7.0"
  }
 },
 "nbformat": 4,
 "nbformat_minor": 5
}
