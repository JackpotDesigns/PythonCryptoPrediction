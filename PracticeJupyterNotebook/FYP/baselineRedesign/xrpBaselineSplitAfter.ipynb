{
 "cells": [
  {
   "cell_type": "code",
   "execution_count": 35,
   "id": "56f0a547",
   "metadata": {},
   "outputs": [],
   "source": [
    "import pandas as pd\n",
    "import numpy as np\n",
    "import math\n",
    "import tensorflow as tf\n",
    "from tensorflow.keras.utils import plot_model\n",
    "from matplotlib import pyplot as plt\n",
    "from tensorflow.keras.models import Sequential \n",
    "from tensorflow.keras import layers\n",
    "from tensorflow.keras.optimizers import RMSprop\n",
    "import os\n",
    "from sklearn.metrics import mean_squared_error\n",
    "from sklearn.preprocessing import MinMaxScaler\n",
    "from tensorflow.keras.preprocessing.sequence import TimeseriesGenerator\n",
    "from tensorflow.keras.layers import LSTM , Dense , Dropout , GRU , Concatenate , Input , Conv1D , InputLayer\n",
    "from tensorflow.keras import models"
   ]
  },
  {
   "cell_type": "markdown",
   "id": "947652df",
   "metadata": {},
   "source": [
    "<Strong> Grabbing the data from stored files (originally pulled from Binance) </Strong>"
   ]
  },
  {
   "cell_type": "code",
   "execution_count": 36,
   "id": "1fe63049",
   "metadata": {},
   "outputs": [],
   "source": [
    "df_xrp = pd.read_csv(\"../../../cryptoData/XRP_1h_data.csv\")"
   ]
  },
  {
   "cell_type": "code",
   "execution_count": 37,
   "id": "63c93ce3",
   "metadata": {},
   "outputs": [
    {
     "data": {
      "text/html": [
       "<div>\n",
       "<style scoped>\n",
       "    .dataframe tbody tr th:only-of-type {\n",
       "        vertical-align: middle;\n",
       "    }\n",
       "\n",
       "    .dataframe tbody tr th {\n",
       "        vertical-align: top;\n",
       "    }\n",
       "\n",
       "    .dataframe thead th {\n",
       "        text-align: right;\n",
       "    }\n",
       "</style>\n",
       "<table border=\"1\" class=\"dataframe\">\n",
       "  <thead>\n",
       "    <tr style=\"text-align: right;\">\n",
       "      <th></th>\n",
       "      <th>date</th>\n",
       "      <th>open</th>\n",
       "      <th>high</th>\n",
       "      <th>low</th>\n",
       "      <th>close</th>\n",
       "      <th>volume</th>\n",
       "    </tr>\n",
       "  </thead>\n",
       "  <tbody>\n",
       "    <tr>\n",
       "      <th>0</th>\n",
       "      <td>2018-05-04 08:00:00</td>\n",
       "      <td>0.50000</td>\n",
       "      <td>1.50000</td>\n",
       "      <td>0.5000</td>\n",
       "      <td>0.92300</td>\n",
       "      <td>5090857.33</td>\n",
       "    </tr>\n",
       "    <tr>\n",
       "      <th>1</th>\n",
       "      <td>2018-05-04 09:00:00</td>\n",
       "      <td>0.92300</td>\n",
       "      <td>0.92850</td>\n",
       "      <td>0.9010</td>\n",
       "      <td>0.90199</td>\n",
       "      <td>3326696.10</td>\n",
       "    </tr>\n",
       "    <tr>\n",
       "      <th>2</th>\n",
       "      <td>2018-05-04 10:00:00</td>\n",
       "      <td>0.90199</td>\n",
       "      <td>0.91027</td>\n",
       "      <td>0.8951</td>\n",
       "      <td>0.90128</td>\n",
       "      <td>1176810.48</td>\n",
       "    </tr>\n",
       "    <tr>\n",
       "      <th>3</th>\n",
       "      <td>2018-05-04 11:00:00</td>\n",
       "      <td>0.90128</td>\n",
       "      <td>0.92130</td>\n",
       "      <td>0.8800</td>\n",
       "      <td>0.91596</td>\n",
       "      <td>1714233.92</td>\n",
       "    </tr>\n",
       "    <tr>\n",
       "      <th>4</th>\n",
       "      <td>2018-05-04 12:00:00</td>\n",
       "      <td>0.91596</td>\n",
       "      <td>0.92450</td>\n",
       "      <td>0.9000</td>\n",
       "      <td>0.90098</td>\n",
       "      <td>1323800.17</td>\n",
       "    </tr>\n",
       "    <tr>\n",
       "      <th>...</th>\n",
       "      <td>...</td>\n",
       "      <td>...</td>\n",
       "      <td>...</td>\n",
       "      <td>...</td>\n",
       "      <td>...</td>\n",
       "      <td>...</td>\n",
       "    </tr>\n",
       "    <tr>\n",
       "      <th>33012</th>\n",
       "      <td>2022-02-11 10:00:00</td>\n",
       "      <td>0.81860</td>\n",
       "      <td>0.82180</td>\n",
       "      <td>0.8105</td>\n",
       "      <td>0.81860</td>\n",
       "      <td>13705481.00</td>\n",
       "    </tr>\n",
       "    <tr>\n",
       "      <th>33013</th>\n",
       "      <td>2022-02-11 11:00:00</td>\n",
       "      <td>0.81850</td>\n",
       "      <td>0.82080</td>\n",
       "      <td>0.8138</td>\n",
       "      <td>0.81510</td>\n",
       "      <td>7748847.00</td>\n",
       "    </tr>\n",
       "    <tr>\n",
       "      <th>33014</th>\n",
       "      <td>2022-02-11 12:00:00</td>\n",
       "      <td>0.81510</td>\n",
       "      <td>0.82120</td>\n",
       "      <td>0.8125</td>\n",
       "      <td>0.81660</td>\n",
       "      <td>16123801.00</td>\n",
       "    </tr>\n",
       "    <tr>\n",
       "      <th>33015</th>\n",
       "      <td>2022-02-11 13:00:00</td>\n",
       "      <td>0.81650</td>\n",
       "      <td>0.83390</td>\n",
       "      <td>0.8147</td>\n",
       "      <td>0.82320</td>\n",
       "      <td>24000643.00</td>\n",
       "    </tr>\n",
       "    <tr>\n",
       "      <th>33016</th>\n",
       "      <td>2022-02-11 14:00:00</td>\n",
       "      <td>0.82320</td>\n",
       "      <td>0.82750</td>\n",
       "      <td>0.8167</td>\n",
       "      <td>0.82160</td>\n",
       "      <td>9893424.00</td>\n",
       "    </tr>\n",
       "  </tbody>\n",
       "</table>\n",
       "<p>33017 rows × 6 columns</p>\n",
       "</div>"
      ],
      "text/plain": [
       "                      date     open     high     low    close       volume\n",
       "0      2018-05-04 08:00:00  0.50000  1.50000  0.5000  0.92300   5090857.33\n",
       "1      2018-05-04 09:00:00  0.92300  0.92850  0.9010  0.90199   3326696.10\n",
       "2      2018-05-04 10:00:00  0.90199  0.91027  0.8951  0.90128   1176810.48\n",
       "3      2018-05-04 11:00:00  0.90128  0.92130  0.8800  0.91596   1714233.92\n",
       "4      2018-05-04 12:00:00  0.91596  0.92450  0.9000  0.90098   1323800.17\n",
       "...                    ...      ...      ...     ...      ...          ...\n",
       "33012  2022-02-11 10:00:00  0.81860  0.82180  0.8105  0.81860  13705481.00\n",
       "33013  2022-02-11 11:00:00  0.81850  0.82080  0.8138  0.81510   7748847.00\n",
       "33014  2022-02-11 12:00:00  0.81510  0.82120  0.8125  0.81660  16123801.00\n",
       "33015  2022-02-11 13:00:00  0.81650  0.83390  0.8147  0.82320  24000643.00\n",
       "33016  2022-02-11 14:00:00  0.82320  0.82750  0.8167  0.82160   9893424.00\n",
       "\n",
       "[33017 rows x 6 columns]"
      ]
     },
     "execution_count": 37,
     "metadata": {},
     "output_type": "execute_result"
    }
   ],
   "source": [
    "df_xrp"
   ]
  },
  {
   "cell_type": "code",
   "execution_count": 38,
   "id": "9bde6969",
   "metadata": {},
   "outputs": [],
   "source": [
    "df_headers = df_xrp.columns"
   ]
  },
  {
   "cell_type": "markdown",
   "id": "c68634f1",
   "metadata": {},
   "source": [
    "<Strong> Grabbing the closing price (univariate) </Strong>"
   ]
  },
  {
   "cell_type": "code",
   "execution_count": 39,
   "id": "512d2ff6",
   "metadata": {},
   "outputs": [
    {
     "data": {
      "text/plain": [
       "33017"
      ]
     },
     "execution_count": 39,
     "metadata": {},
     "output_type": "execute_result"
    }
   ],
   "source": [
    "# Removing everything but the closing price\n",
    "xrp_data = df_xrp.values[:, 4 ,].astype(float)\n",
    "\n",
    "len(xrp_data)"
   ]
  },
  {
   "cell_type": "markdown",
   "id": "0ff079aa",
   "metadata": {},
   "source": [
    "<Strong> Scaling the data  </Strong>"
   ]
  },
  {
   "cell_type": "code",
   "execution_count": 40,
   "id": "d604e42f",
   "metadata": {},
   "outputs": [],
   "source": [
    "percTrain = 70\n",
    "percVal = 20 "
   ]
  },
  {
   "cell_type": "code",
   "execution_count": 41,
   "id": "81b6f812",
   "metadata": {},
   "outputs": [],
   "source": [
    "onePercent = len(xrp_data) // 100\n",
    "numberTraining = onePercent * percTrain\n",
    "\n",
    "scaler = MinMaxScaler()\n",
    "reshaped_data = xrp_data.reshape(-1,1)\n",
    "\n",
    "#Just scaling on training data otherwise it would be leakage\n",
    "scaler.fit(reshaped_data[:numberTraining])\n",
    "scaled_xrp = scaler.transform(reshaped_data)"
   ]
  },
  {
   "cell_type": "markdown",
   "id": "2a6a4ccd",
   "metadata": {},
   "source": [
    "<Strong> Creating Matrix in Sliding window form <Strong>"
   ]
  },
  {
   "cell_type": "code",
   "execution_count": 42,
   "id": "ddf6b3da",
   "metadata": {},
   "outputs": [],
   "source": [
    "def sliding_window(elements, window_size):\n",
    "    \n",
    "    data = [] \n",
    "    targets = []\n",
    "    \n",
    "    if len(elements) <= window_size:\n",
    "        return elements\n",
    "    \n",
    "    for i in range(len(elements) - window_size ):\n",
    "        \n",
    "        data.append(elements[i:i+window_size])\n",
    "        targets.append(elements[i+window_size])\n",
    "        \n",
    "    return np.array(data) , np.array(targets)"
   ]
  },
  {
   "cell_type": "code",
   "execution_count": 43,
   "id": "71ddaa81",
   "metadata": {},
   "outputs": [],
   "source": [
    "window_length = 24\n",
    "features = 1\n",
    "\n",
    "sliding_winda_xrp = sliding_window(scaled_xrp , window_length)"
   ]
  },
  {
   "cell_type": "markdown",
   "id": "82fef525",
   "metadata": {},
   "source": [
    "<Strong> Splitting the data after we create Sliding Window matrix (more data) </Strong>"
   ]
  },
  {
   "cell_type": "code",
   "execution_count": 44,
   "id": "1731b98f",
   "metadata": {},
   "outputs": [],
   "source": [
    "# Splitting the data after creating the sliding window data\n",
    "\n",
    "def splitting_train_test(data):\n",
    "        \n",
    "    onePercent = len(data[1]) // 100\n",
    "    \n",
    "    numberTraining = onePercent * percTrain\n",
    "    numberValidation = onePercent * percVal\n",
    "    \n",
    "    trainingData = data[0][:numberTraining] , data[1][:numberTraining]\n",
    "    validationData = data[0][numberTraining : numberTraining + numberValidation] , data[1][numberTraining : numberTraining + numberValidation]\n",
    "    testData = data[0][numberTraining + numberValidation:] , data[1][numberTraining + numberValidation:] \n",
    "    \n",
    "    #Returning tuples of (sliding-window , target_values)\n",
    "    return trainingData , validationData , testData"
   ]
  },
  {
   "cell_type": "code",
   "execution_count": 45,
   "id": "05f85f5e",
   "metadata": {},
   "outputs": [
    {
     "name": "stdout",
     "output_type": "stream",
     "text": [
      "(23030, 24, 1)\n"
     ]
    }
   ],
   "source": [
    "#Reshaping the data so we can use min-max a\n",
    "xrp_train , xrp_val , xrp_test = splitting_train_test(sliding_winda_xrp)\n",
    "\n",
    "print(xrp_train[0].shape)"
   ]
  },
  {
   "cell_type": "markdown",
   "id": "c9a800f1",
   "metadata": {},
   "source": [
    "<Strong> Creating the model </Strong>"
   ]
  },
  {
   "cell_type": "code",
   "execution_count": 46,
   "id": "844b2b39",
   "metadata": {},
   "outputs": [],
   "source": [
    "inputs = Input(shape = (window_length , features) )\n",
    "\n",
    "#From deep learning in python -- better to use recurrent dropout so error propergates correctly\n",
    "x = LSTM(30 , return_sequences = True)(inputs)\n",
    "x = Dropout(0.2)(x) \n",
    "x = LSTM(50)(x)\n",
    "x = Dropout(0.2)(x) \n",
    "x = Dense(16)(x)\n",
    "\n",
    "y = GRU(30 , input_shape=(window_length , features))(inputs)\n",
    "y = Dropout(0.5)(y)\n",
    "y = Dense(16)(y)\n",
    "\n",
    "final = Concatenate()([x,y])\n",
    "final = Dense(1)(final)\n",
    "\n",
    "model = tf.keras.Model(inputs=inputs, outputs= final)"
   ]
  },
  {
   "cell_type": "code",
   "execution_count": 47,
   "id": "5cbad829",
   "metadata": {},
   "outputs": [
    {
     "name": "stdout",
     "output_type": "stream",
     "text": [
      "Model: \"model_1\"\n",
      "__________________________________________________________________________________________________\n",
      " Layer (type)                   Output Shape         Param #     Connected to                     \n",
      "==================================================================================================\n",
      " input_2 (InputLayer)           [(None, 24, 1)]      0           []                               \n",
      "                                                                                                  \n",
      " lstm_2 (LSTM)                  (None, 24, 30)       3840        ['input_2[0][0]']                \n",
      "                                                                                                  \n",
      " dropout_3 (Dropout)            (None, 24, 30)       0           ['lstm_2[0][0]']                 \n",
      "                                                                                                  \n",
      " lstm_3 (LSTM)                  (None, 50)           16200       ['dropout_3[0][0]']              \n",
      "                                                                                                  \n",
      " gru_1 (GRU)                    (None, 30)           2970        ['input_2[0][0]']                \n",
      "                                                                                                  \n",
      " dropout_4 (Dropout)            (None, 50)           0           ['lstm_3[0][0]']                 \n",
      "                                                                                                  \n",
      " dropout_5 (Dropout)            (None, 30)           0           ['gru_1[0][0]']                  \n",
      "                                                                                                  \n",
      " dense_3 (Dense)                (None, 16)           816         ['dropout_4[0][0]']              \n",
      "                                                                                                  \n",
      " dense_4 (Dense)                (None, 16)           496         ['dropout_5[0][0]']              \n",
      "                                                                                                  \n",
      " concatenate_1 (Concatenate)    (None, 32)           0           ['dense_3[0][0]',                \n",
      "                                                                  'dense_4[0][0]']                \n",
      "                                                                                                  \n",
      " dense_5 (Dense)                (None, 1)            33          ['concatenate_1[0][0]']          \n",
      "                                                                                                  \n",
      "==================================================================================================\n",
      "Total params: 24,355\n",
      "Trainable params: 24,355\n",
      "Non-trainable params: 0\n",
      "__________________________________________________________________________________________________\n"
     ]
    },
    {
     "data": {
      "image/png": "[encoded data removed]",
      "text/plain": [
       "<IPython.core.display.Image object>"
      ]
     },
     "execution_count": 47,
     "metadata": {},
     "output_type": "execute_result"
    }
   ],
   "source": [
    "model.summary()\n",
    "plot_model(model)"
   ]
  },
  {
   "cell_type": "code",
   "execution_count": 48,
   "id": "924e1f60",
   "metadata": {},
   "outputs": [
    {
     "name": "stdout",
     "output_type": "stream",
     "text": [
      "Epoch 1/100\n",
      "45/45 [==============================] - 6s 42ms/step - loss: 0.0056 - val_loss: 0.0016\n",
      "Epoch 2/100\n",
      "45/45 [==============================] - 0s 9ms/step - loss: 0.0011 - val_loss: 0.0035\n",
      "Epoch 3/100\n",
      "45/45 [==============================] - 0s 9ms/step - loss: 7.3990e-04 - val_loss: 0.0034\n",
      "Epoch 4/100\n",
      "45/45 [==============================] - 0s 9ms/step - loss: 5.8138e-04 - val_loss: 0.0052\n",
      "Epoch 5/100\n",
      "45/45 [==============================] - 0s 9ms/step - loss: 4.7458e-04 - val_loss: 0.0073\n",
      "Epoch 6/100\n",
      "45/45 [==============================] - 0s 9ms/step - loss: 4.3389e-04 - val_loss: 0.0076\n",
      "Epoch 7/100\n",
      "45/45 [==============================] - 0s 9ms/step - loss: 3.6763e-04 - val_loss: 0.0056\n",
      "Epoch 8/100\n",
      "45/45 [==============================] - 0s 9ms/step - loss: 3.5032e-04 - val_loss: 0.0060\n",
      "Epoch 9/100\n",
      "45/45 [==============================] - 0s 9ms/step - loss: 3.2140e-04 - val_loss: 0.0056\n",
      "Epoch 10/100\n",
      "45/45 [==============================] - 0s 9ms/step - loss: 2.9528e-04 - val_loss: 0.0032\n",
      "Epoch 11/100\n",
      "45/45 [==============================] - 0s 9ms/step - loss: 2.8452e-04 - val_loss: 0.0057\n",
      "Epoch 12/100\n",
      "45/45 [==============================] - 0s 9ms/step - loss: 2.5195e-04 - val_loss: 0.0032\n",
      "Epoch 13/100\n",
      "45/45 [==============================] - 0s 9ms/step - loss: 2.4751e-04 - val_loss: 0.0037\n",
      "Epoch 14/100\n",
      "45/45 [==============================] - 0s 9ms/step - loss: 2.3421e-04 - val_loss: 0.0015\n",
      "Epoch 15/100\n",
      "45/45 [==============================] - 0s 9ms/step - loss: 2.3008e-04 - val_loss: 0.0013\n",
      "Epoch 16/100\n",
      "45/45 [==============================] - 0s 9ms/step - loss: 2.1595e-04 - val_loss: 0.0013\n",
      "Epoch 17/100\n",
      "45/45 [==============================] - 0s 9ms/step - loss: 2.1087e-04 - val_loss: 0.0011\n",
      "Epoch 18/100\n",
      "45/45 [==============================] - 0s 9ms/step - loss: 2.0615e-04 - val_loss: 0.0013\n",
      "Epoch 19/100\n",
      "45/45 [==============================] - 0s 9ms/step - loss: 2.0544e-04 - val_loss: 8.9599e-04\n",
      "Epoch 20/100\n",
      "45/45 [==============================] - 0s 9ms/step - loss: 2.0448e-04 - val_loss: 9.2546e-04\n",
      "Epoch 21/100\n",
      "45/45 [==============================] - 0s 9ms/step - loss: 2.0154e-04 - val_loss: 0.0010\n",
      "Epoch 22/100\n",
      "45/45 [==============================] - 0s 9ms/step - loss: 2.0046e-04 - val_loss: 9.4178e-04\n",
      "Epoch 23/100\n",
      "45/45 [==============================] - 0s 9ms/step - loss: 1.8281e-04 - val_loss: 8.2373e-04\n",
      "Epoch 24/100\n",
      "45/45 [==============================] - 0s 9ms/step - loss: 1.8056e-04 - val_loss: 0.0011\n",
      "Epoch 25/100\n",
      "45/45 [==============================] - 0s 9ms/step - loss: 1.8155e-04 - val_loss: 0.0011\n",
      "Epoch 26/100\n",
      "45/45 [==============================] - 0s 9ms/step - loss: 1.8391e-04 - val_loss: 0.0012\n",
      "Epoch 27/100\n",
      "45/45 [==============================] - 0s 9ms/step - loss: 1.8207e-04 - val_loss: 0.0015\n",
      "Epoch 28/100\n",
      "45/45 [==============================] - 0s 9ms/step - loss: 1.8452e-04 - val_loss: 0.0012\n",
      "Epoch 29/100\n",
      "45/45 [==============================] - 0s 9ms/step - loss: 1.8901e-04 - val_loss: 0.0011\n",
      "Epoch 30/100\n",
      "45/45 [==============================] - 0s 9ms/step - loss: 1.7756e-04 - val_loss: 0.0012\n",
      "Epoch 31/100\n",
      "45/45 [==============================] - 0s 9ms/step - loss: 1.7752e-04 - val_loss: 0.0014\n",
      "Epoch 32/100\n",
      "45/45 [==============================] - 0s 9ms/step - loss: 1.7259e-04 - val_loss: 9.2255e-04\n",
      "Epoch 33/100\n",
      "45/45 [==============================] - 0s 9ms/step - loss: 1.7499e-04 - val_loss: 9.8548e-04\n",
      "Epoch 34/100\n",
      "45/45 [==============================] - 0s 9ms/step - loss: 1.7472e-04 - val_loss: 7.8613e-04\n",
      "Epoch 35/100\n",
      "45/45 [==============================] - 0s 9ms/step - loss: 1.7480e-04 - val_loss: 0.0012\n",
      "Epoch 36/100\n",
      "45/45 [==============================] - 0s 9ms/step - loss: 1.7333e-04 - val_loss: 0.0011\n",
      "Epoch 37/100\n",
      "45/45 [==============================] - 0s 9ms/step - loss: 1.6951e-04 - val_loss: 8.2810e-04\n",
      "Epoch 38/100\n",
      "45/45 [==============================] - 0s 9ms/step - loss: 1.7196e-04 - val_loss: 7.7235e-04\n",
      "Epoch 39/100\n",
      "45/45 [==============================] - 0s 9ms/step - loss: 1.7419e-04 - val_loss: 8.2526e-04\n",
      "Epoch 40/100\n",
      "45/45 [==============================] - 0s 9ms/step - loss: 1.6802e-04 - val_loss: 8.8564e-04\n",
      "Epoch 41/100\n",
      "45/45 [==============================] - 0s 9ms/step - loss: 1.7486e-04 - val_loss: 8.4571e-04\n",
      "Epoch 42/100\n",
      "45/45 [==============================] - 0s 9ms/step - loss: 1.7853e-04 - val_loss: 6.8703e-04\n",
      "Epoch 43/100\n",
      "45/45 [==============================] - 0s 9ms/step - loss: 1.7517e-04 - val_loss: 6.7321e-04\n",
      "Epoch 44/100\n",
      "45/45 [==============================] - 0s 9ms/step - loss: 1.7359e-04 - val_loss: 7.0272e-04\n",
      "Epoch 45/100\n",
      "45/45 [==============================] - 0s 9ms/step - loss: 1.7045e-04 - val_loss: 0.0012\n",
      "Epoch 46/100\n",
      "45/45 [==============================] - 0s 9ms/step - loss: 1.6460e-04 - val_loss: 0.0011\n",
      "Epoch 47/100\n",
      "45/45 [==============================] - 0s 9ms/step - loss: 1.6899e-04 - val_loss: 0.0010\n",
      "Epoch 48/100\n",
      "45/45 [==============================] - 0s 9ms/step - loss: 1.7769e-04 - val_loss: 7.7284e-04\n",
      "Epoch 49/100\n",
      "45/45 [==============================] - 0s 9ms/step - loss: 1.7449e-04 - val_loss: 8.3205e-04\n",
      "Epoch 50/100\n",
      "45/45 [==============================] - 0s 9ms/step - loss: 1.7721e-04 - val_loss: 7.6251e-04\n",
      "Epoch 51/100\n",
      "45/45 [==============================] - 0s 9ms/step - loss: 1.6210e-04 - val_loss: 7.0685e-04\n",
      "Epoch 52/100\n",
      "45/45 [==============================] - 0s 9ms/step - loss: 1.6609e-04 - val_loss: 6.4296e-04\n",
      "Epoch 53/100\n",
      "45/45 [==============================] - 0s 9ms/step - loss: 1.6969e-04 - val_loss: 6.2004e-04\n",
      "Epoch 54/100\n",
      "45/45 [==============================] - 0s 9ms/step - loss: 1.6365e-04 - val_loss: 5.9491e-04\n",
      "Epoch 55/100\n",
      "45/45 [==============================] - 0s 9ms/step - loss: 1.6801e-04 - val_loss: 8.4554e-04\n",
      "Epoch 56/100\n",
      "45/45 [==============================] - 0s 9ms/step - loss: 1.8329e-04 - val_loss: 6.7151e-04\n",
      "Epoch 57/100\n",
      "45/45 [==============================] - 0s 9ms/step - loss: 1.6632e-04 - val_loss: 9.3064e-04\n",
      "Epoch 58/100\n",
      "45/45 [==============================] - 0s 9ms/step - loss: 1.7172e-04 - val_loss: 0.0022\n",
      "Epoch 59/100\n",
      "45/45 [==============================] - 0s 9ms/step - loss: 1.6691e-04 - val_loss: 5.6262e-04\n",
      "Epoch 60/100\n",
      "45/45 [==============================] - 0s 9ms/step - loss: 1.5795e-04 - val_loss: 5.7525e-04\n",
      "Epoch 61/100\n",
      "45/45 [==============================] - 0s 9ms/step - loss: 1.7715e-04 - val_loss: 5.7038e-04\n",
      "Epoch 62/100\n",
      "45/45 [==============================] - 0s 9ms/step - loss: 1.7023e-04 - val_loss: 5.4366e-04\n",
      "Epoch 63/100\n",
      "45/45 [==============================] - 0s 9ms/step - loss: 1.6747e-04 - val_loss: 6.4471e-04\n",
      "Epoch 64/100\n",
      "45/45 [==============================] - 0s 9ms/step - loss: 1.6984e-04 - val_loss: 0.0012\n",
      "Epoch 65/100\n",
      "45/45 [==============================] - 0s 9ms/step - loss: 1.6336e-04 - val_loss: 5.5096e-04\n",
      "Epoch 66/100\n",
      "45/45 [==============================] - 0s 9ms/step - loss: 1.6334e-04 - val_loss: 5.4602e-04\n",
      "Epoch 67/100\n",
      "45/45 [==============================] - 0s 9ms/step - loss: 1.6909e-04 - val_loss: 5.3322e-04\n",
      "Epoch 68/100\n",
      "45/45 [==============================] - 0s 9ms/step - loss: 1.7219e-04 - val_loss: 6.3803e-04\n",
      "Epoch 69/100\n",
      "45/45 [==============================] - 0s 9ms/step - loss: 1.5860e-04 - val_loss: 7.5609e-04\n",
      "Epoch 70/100\n",
      "45/45 [==============================] - 0s 9ms/step - loss: 1.6751e-04 - val_loss: 5.4777e-04\n",
      "Epoch 71/100\n",
      "45/45 [==============================] - 0s 9ms/step - loss: 1.6088e-04 - val_loss: 6.2225e-04\n",
      "Epoch 72/100\n",
      "45/45 [==============================] - 0s 9ms/step - loss: 1.5860e-04 - val_loss: 9.0820e-04\n",
      "Epoch 73/100\n",
      "45/45 [==============================] - 0s 9ms/step - loss: 1.6538e-04 - val_loss: 9.5675e-04\n",
      "Epoch 74/100\n",
      "45/45 [==============================] - 0s 9ms/step - loss: 1.5430e-04 - val_loss: 8.5740e-04\n",
      "Epoch 75/100\n",
      "45/45 [==============================] - 0s 9ms/step - loss: 1.5218e-04 - val_loss: 4.9442e-04\n",
      "Epoch 76/100\n",
      "45/45 [==============================] - 0s 9ms/step - loss: 1.7458e-04 - val_loss: 4.9423e-04\n",
      "Epoch 77/100\n",
      "45/45 [==============================] - 0s 9ms/step - loss: 1.5717e-04 - val_loss: 4.6909e-04\n",
      "Epoch 78/100\n",
      "45/45 [==============================] - 0s 9ms/step - loss: 1.7669e-04 - val_loss: 5.1561e-04\n",
      "Epoch 79/100\n",
      "45/45 [==============================] - 0s 9ms/step - loss: 1.6832e-04 - val_loss: 5.6679e-04\n",
      "Epoch 80/100\n",
      "45/45 [==============================] - 0s 9ms/step - loss: 1.6012e-04 - val_loss: 4.9569e-04\n",
      "Epoch 81/100\n",
      "45/45 [==============================] - 0s 9ms/step - loss: 1.6639e-04 - val_loss: 6.1376e-04\n",
      "Epoch 82/100\n",
      "45/45 [==============================] - 0s 9ms/step - loss: 1.6256e-04 - val_loss: 4.7985e-04\n",
      "Epoch 83/100\n",
      "45/45 [==============================] - 0s 9ms/step - loss: 1.5844e-04 - val_loss: 7.2404e-04\n",
      "Epoch 84/100\n",
      "45/45 [==============================] - 0s 9ms/step - loss: 1.6067e-04 - val_loss: 4.9733e-04\n",
      "Epoch 85/100\n",
      "45/45 [==============================] - 0s 9ms/step - loss: 1.5616e-04 - val_loss: 0.0011\n",
      "Epoch 86/100\n",
      "45/45 [==============================] - 0s 9ms/step - loss: 1.5966e-04 - val_loss: 0.0018\n",
      "Epoch 87/100\n",
      "45/45 [==============================] - 0s 9ms/step - loss: 1.5968e-04 - val_loss: 4.7237e-04\n",
      "Epoch 88/100\n",
      "45/45 [==============================] - 0s 9ms/step - loss: 1.6637e-04 - val_loss: 0.0016\n",
      "Epoch 89/100\n",
      "45/45 [==============================] - 0s 9ms/step - loss: 1.6518e-04 - val_loss: 4.9489e-04\n",
      "Epoch 90/100\n",
      "45/45 [==============================] - 0s 9ms/step - loss: 1.6554e-04 - val_loss: 5.2434e-04\n",
      "Epoch 91/100\n",
      "45/45 [==============================] - 0s 9ms/step - loss: 1.7340e-04 - val_loss: 4.7951e-04\n",
      "Epoch 92/100\n",
      "45/45 [==============================] - 0s 9ms/step - loss: 1.5951e-04 - val_loss: 5.7775e-04\n",
      "Epoch 93/100\n",
      "45/45 [==============================] - 0s 9ms/step - loss: 1.5968e-04 - val_loss: 0.0017\n",
      "Epoch 94/100\n",
      "45/45 [==============================] - 0s 9ms/step - loss: 1.5925e-04 - val_loss: 6.7053e-04\n",
      "Epoch 95/100\n",
      "45/45 [==============================] - 0s 9ms/step - loss: 1.5730e-04 - val_loss: 5.4450e-04\n",
      "Epoch 96/100\n",
      "45/45 [==============================] - 0s 9ms/step - loss: 1.6690e-04 - val_loss: 7.7649e-04\n",
      "Epoch 97/100\n",
      "45/45 [==============================] - 0s 9ms/step - loss: 1.6210e-04 - val_loss: 5.7162e-04\n",
      "Epoch 98/100\n",
      "45/45 [==============================] - 0s 9ms/step - loss: 1.6015e-04 - val_loss: 5.9794e-04\n",
      "Epoch 99/100\n",
      "45/45 [==============================] - 0s 9ms/step - loss: 1.6117e-04 - val_loss: 6.1032e-04\n",
      "Epoch 100/100\n",
      "45/45 [==============================] - 0s 9ms/step - loss: 1.5772e-04 - val_loss: 9.8685e-04\n"
     ]
    }
   ],
   "source": [
    "#If use validation in this part , then leakage as we are using the normalized values of the training set which in this case would include validation set.\n",
    "#Validation set needs to be in a tuple with x , y\n",
    "\n",
    "model.compile(optimizer='adam' , loss = 'mse')\n",
    "\n",
    "history = model.fit(xrp_train[0] , xrp_train[1] , validation_data = xrp_val  , batch_size = 512  , epochs =100 , verbose = 1 )"
   ]
  },
  {
   "cell_type": "code",
   "execution_count": 50,
   "id": "c1b6a246",
   "metadata": {},
   "outputs": [
    {
     "data": {
      "image/png": "[encoded data removed]",
      "text/plain": [
       "<Figure size 432x288 with 1 Axes>"
      ]
     },
     "metadata": {
      "needs_background": "light"
     },
     "output_type": "display_data"
    }
   ],
   "source": [
    "plt.plot(history.history['loss'])\n",
    "plt.plot(history.history['val_loss'])\n",
    "plt.title('model loss')\n",
    "plt.ylabel('loss')\n",
    "plt.xlabel('epoch')\n",
    "plt.legend(['train', 'val'], loc='upper left')\n",
    "plt.show()"
   ]
  },
  {
   "cell_type": "markdown",
   "id": "e5c0bac5",
   "metadata": {},
   "source": [
    "<Strong> Testing on the validation data once again , hyper-parameter adjustment. <Strong>"
   ]
  },
  {
   "cell_type": "code",
   "execution_count": null,
   "id": "4bda98c7",
   "metadata": {},
   "outputs": [],
   "source": [
    "validation_predict = model.predict(xrp_val[0])\n",
    "validation_predict = scaler.inverse_transform(validation_predict)\n",
    "print(validation_predict)"
   ]
  },
  {
   "cell_type": "code",
   "execution_count": null,
   "id": "50a8adfe",
   "metadata": {},
   "outputs": [],
   "source": [
    "validation_actual = scaler.inverse_transform(xrp_val[1])\n",
    "validation_actual"
   ]
  },
  {
   "cell_type": "code",
   "execution_count": null,
   "id": "8467d9b0",
   "metadata": {},
   "outputs": [],
   "source": [
    "math.sqrt(mean_squared_error(validation_actual , validation_predict))"
   ]
  },
  {
   "cell_type": "markdown",
   "id": "979fa2e0",
   "metadata": {},
   "source": [
    "<Strong> Only do this last , once perfected hyper-parameters. <Strong>"
   ]
  },
  {
   "cell_type": "markdown",
   "id": "1262b553",
   "metadata": {},
   "source": [
    "<Strong> Train on both training and validation , then finnaly test on test set. </Strong>"
   ]
  },
  {
   "cell_type": "code",
   "execution_count": null,
   "id": "96f38d25",
   "metadata": {},
   "outputs": [],
   "source": [
    "train_and_val = np.concatenate([xrp_train[0] , xrp_val[0]] )\n",
    "train_and_val_targets = np.concatenate([xrp_train[1] , xrp_val[1] ])"
   ]
  },
  {
   "cell_type": "code",
   "execution_count": null,
   "id": "e300ef3f",
   "metadata": {},
   "outputs": [],
   "source": [
    "final = model.fit(train_and_val , train_and_val_targets , batch_size = 512  , epochs =100 , verbose = 1 )"
   ]
  },
  {
   "cell_type": "code",
   "execution_count": null,
   "id": "f632d93e",
   "metadata": {},
   "outputs": [],
   "source": [
    "test_predict = model.predict(xrp_test[0])"
   ]
  },
  {
   "cell_type": "code",
   "execution_count": null,
   "id": "5ac13f0d",
   "metadata": {},
   "outputs": [],
   "source": [
    "#Scalling back to the original values \n",
    "test_predict = scaler.inverse_transform(test_predict)\n",
    "test_actual = scaler.inverse_transform(xrp_test[1])"
   ]
  },
  {
   "cell_type": "code",
   "execution_count": null,
   "id": "22395dfd",
   "metadata": {},
   "outputs": [],
   "source": [
    "math.sqrt(mean_squared_error(test_actual , test_predict))"
   ]
  }
 ],
 "metadata": {
  "kernelspec": {
   "display_name": "Python 3",
   "language": "python",
   "name": "python3"
  },
  "language_info": {
   "codemirror_mode": {
    "name": "ipython",
    "version": 3
   },
   "file_extension": ".py",
   "mimetype": "text/x-python",
   "name": "python",
   "nbconvert_exporter": "python",
   "pygments_lexer": "ipython3",
   "version": "3.7.12"
  }
 },
 "nbformat": 4,
 "nbformat_minor": 5
}
