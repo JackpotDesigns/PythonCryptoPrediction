{
 "cells": [
  {
   "cell_type": "code",
   "execution_count": 40,
   "id": "56f0a547",
   "metadata": {},
   "outputs": [],
   "source": [
    "import pandas as pd\n",
    "import numpy as np\n",
    "import tensorflow as tf\n",
    "import math\n",
    "from tensorflow.keras.utils import plot_model\n",
    "from matplotlib import pyplot as plt\n",
    "from tensorflow.keras.models import Sequential \n",
    "from tensorflow.keras import layers\n",
    "from tensorflow.keras.optimizers import RMSprop\n",
    "import os\n",
    "from sklearn.metrics import mean_squared_error\n",
    "from sklearn.preprocessing import MinMaxScaler\n",
    "from tensorflow.keras.preprocessing.sequence import TimeseriesGenerator\n",
    "from tensorflow.keras.layers import LSTM , Dense , Dropout , GRU , Concatenate , Input , Conv1D , InputLayer\n",
    "from tensorflow.keras import models"
   ]
  },
  {
   "cell_type": "markdown",
   "id": "947652df",
   "metadata": {},
   "source": [
    "<Strong> Grabbing the data from stored files (originally pulled from Binance) </Strong>"
   ]
  },
  {
   "cell_type": "code",
   "execution_count": 19,
   "id": "1fe63049",
   "metadata": {},
   "outputs": [],
   "source": [
    "df_eth = pd.read_csv(\"../../../cryptoData/ETH_1h_data.csv\")"
   ]
  },
  {
   "cell_type": "code",
   "execution_count": 20,
   "id": "63c93ce3",
   "metadata": {},
   "outputs": [
    {
     "data": {
      "text/html": [
       "<div>\n",
       "<style scoped>\n",
       "    .dataframe tbody tr th:only-of-type {\n",
       "        vertical-align: middle;\n",
       "    }\n",
       "\n",
       "    .dataframe tbody tr th {\n",
       "        vertical-align: top;\n",
       "    }\n",
       "\n",
       "    .dataframe thead th {\n",
       "        text-align: right;\n",
       "    }\n",
       "</style>\n",
       "<table border=\"1\" class=\"dataframe\">\n",
       "  <thead>\n",
       "    <tr style=\"text-align: right;\">\n",
       "      <th></th>\n",
       "      <th>date</th>\n",
       "      <th>open</th>\n",
       "      <th>high</th>\n",
       "      <th>low</th>\n",
       "      <th>close</th>\n",
       "      <th>volume</th>\n",
       "    </tr>\n",
       "  </thead>\n",
       "  <tbody>\n",
       "    <tr>\n",
       "      <th>0</th>\n",
       "      <td>2017-08-17 04:00:00.000</td>\n",
       "      <td>301.13</td>\n",
       "      <td>302.57</td>\n",
       "      <td>298.00</td>\n",
       "      <td>301.61</td>\n",
       "      <td>125.66877</td>\n",
       "    </tr>\n",
       "    <tr>\n",
       "      <th>1</th>\n",
       "      <td>2017-08-17 05:00:00.000</td>\n",
       "      <td>301.61</td>\n",
       "      <td>303.28</td>\n",
       "      <td>300.00</td>\n",
       "      <td>303.10</td>\n",
       "      <td>377.67246</td>\n",
       "    </tr>\n",
       "    <tr>\n",
       "      <th>2</th>\n",
       "      <td>2017-08-17 06:00:00.000</td>\n",
       "      <td>302.40</td>\n",
       "      <td>304.44</td>\n",
       "      <td>301.90</td>\n",
       "      <td>302.68</td>\n",
       "      <td>303.86672</td>\n",
       "    </tr>\n",
       "    <tr>\n",
       "      <th>3</th>\n",
       "      <td>2017-08-17 07:00:00.000</td>\n",
       "      <td>302.68</td>\n",
       "      <td>307.96</td>\n",
       "      <td>302.60</td>\n",
       "      <td>307.96</td>\n",
       "      <td>754.74510</td>\n",
       "    </tr>\n",
       "    <tr>\n",
       "      <th>4</th>\n",
       "      <td>2017-08-17 08:00:00.000</td>\n",
       "      <td>307.95</td>\n",
       "      <td>309.97</td>\n",
       "      <td>307.00</td>\n",
       "      <td>308.62</td>\n",
       "      <td>150.75029</td>\n",
       "    </tr>\n",
       "    <tr>\n",
       "      <th>...</th>\n",
       "      <td>...</td>\n",
       "      <td>...</td>\n",
       "      <td>...</td>\n",
       "      <td>...</td>\n",
       "      <td>...</td>\n",
       "      <td>...</td>\n",
       "    </tr>\n",
       "    <tr>\n",
       "      <th>39216</th>\n",
       "      <td>2022-02-11 10:00:00</td>\n",
       "      <td>3102.22</td>\n",
       "      <td>3115.98</td>\n",
       "      <td>3075.24</td>\n",
       "      <td>3106.33</td>\n",
       "      <td>12865.43100</td>\n",
       "    </tr>\n",
       "    <tr>\n",
       "      <th>39217</th>\n",
       "      <td>2022-02-11 11:00:00</td>\n",
       "      <td>3106.34</td>\n",
       "      <td>3109.86</td>\n",
       "      <td>3083.93</td>\n",
       "      <td>3088.30</td>\n",
       "      <td>7796.24450</td>\n",
       "    </tr>\n",
       "    <tr>\n",
       "      <th>39218</th>\n",
       "      <td>2022-02-11 12:00:00</td>\n",
       "      <td>3088.30</td>\n",
       "      <td>3122.00</td>\n",
       "      <td>3079.16</td>\n",
       "      <td>3102.23</td>\n",
       "      <td>13475.38960</td>\n",
       "    </tr>\n",
       "    <tr>\n",
       "      <th>39219</th>\n",
       "      <td>2022-02-11 13:00:00</td>\n",
       "      <td>3102.22</td>\n",
       "      <td>3127.00</td>\n",
       "      <td>3095.00</td>\n",
       "      <td>3121.64</td>\n",
       "      <td>13585.96880</td>\n",
       "    </tr>\n",
       "    <tr>\n",
       "      <th>39220</th>\n",
       "      <td>2022-02-11 14:00:00</td>\n",
       "      <td>3121.65</td>\n",
       "      <td>3128.20</td>\n",
       "      <td>3104.56</td>\n",
       "      <td>3110.51</td>\n",
       "      <td>5450.64810</td>\n",
       "    </tr>\n",
       "  </tbody>\n",
       "</table>\n",
       "<p>39221 rows × 6 columns</p>\n",
       "</div>"
      ],
      "text/plain": [
       "                          date     open     high      low    close  \\\n",
       "0      2017-08-17 04:00:00.000   301.13   302.57   298.00   301.61   \n",
       "1      2017-08-17 05:00:00.000   301.61   303.28   300.00   303.10   \n",
       "2      2017-08-17 06:00:00.000   302.40   304.44   301.90   302.68   \n",
       "3      2017-08-17 07:00:00.000   302.68   307.96   302.60   307.96   \n",
       "4      2017-08-17 08:00:00.000   307.95   309.97   307.00   308.62   \n",
       "...                        ...      ...      ...      ...      ...   \n",
       "39216      2022-02-11 10:00:00  3102.22  3115.98  3075.24  3106.33   \n",
       "39217      2022-02-11 11:00:00  3106.34  3109.86  3083.93  3088.30   \n",
       "39218      2022-02-11 12:00:00  3088.30  3122.00  3079.16  3102.23   \n",
       "39219      2022-02-11 13:00:00  3102.22  3127.00  3095.00  3121.64   \n",
       "39220      2022-02-11 14:00:00  3121.65  3128.20  3104.56  3110.51   \n",
       "\n",
       "            volume  \n",
       "0        125.66877  \n",
       "1        377.67246  \n",
       "2        303.86672  \n",
       "3        754.74510  \n",
       "4        150.75029  \n",
       "...            ...  \n",
       "39216  12865.43100  \n",
       "39217   7796.24450  \n",
       "39218  13475.38960  \n",
       "39219  13585.96880  \n",
       "39220   5450.64810  \n",
       "\n",
       "[39221 rows x 6 columns]"
      ]
     },
     "execution_count": 20,
     "metadata": {},
     "output_type": "execute_result"
    }
   ],
   "source": [
    "df_eth"
   ]
  },
  {
   "cell_type": "code",
   "execution_count": 21,
   "id": "9bde6969",
   "metadata": {},
   "outputs": [],
   "source": [
    "df_headers = df_eth.columns"
   ]
  },
  {
   "cell_type": "markdown",
   "id": "c68634f1",
   "metadata": {},
   "source": [
    "<Strong> Grabbing the closing price (univariate) </Strong>"
   ]
  },
  {
   "cell_type": "code",
   "execution_count": 22,
   "id": "512d2ff6",
   "metadata": {},
   "outputs": [
    {
     "data": {
      "text/plain": [
       "39221"
      ]
     },
     "execution_count": 22,
     "metadata": {},
     "output_type": "execute_result"
    }
   ],
   "source": [
    "# Removing everything but the closing price\n",
    "eth_data = df_eth.values[:, 4 ,].astype(float)\n",
    "\n",
    "len(eth_data)"
   ]
  },
  {
   "cell_type": "markdown",
   "id": "0ff079aa",
   "metadata": {},
   "source": [
    "<Strong> Scaling the data  </Strong>"
   ]
  },
  {
   "cell_type": "code",
   "execution_count": 23,
   "id": "81b6f812",
   "metadata": {},
   "outputs": [],
   "source": [
    "percTrain = 70\n",
    "percVal = 20\n",
    "\n",
    "onePercent = len(eth_data) // 100\n",
    "numberTraining = onePercent * percTrain\n",
    "\n",
    "scaler = MinMaxScaler()\n",
    "reshaped_data = eth_data.reshape(-1,1)\n",
    "\n",
    "#Just scaling on training data otherwise it would be leakage\n",
    "scaler.fit(reshaped_data[:numberTraining])\n",
    "scaled_eth = scaler.transform(reshaped_data)"
   ]
  },
  {
   "cell_type": "markdown",
   "id": "2a6a4ccd",
   "metadata": {},
   "source": [
    "<Strong> Creating Matrix in Sliding window form <Strong>"
   ]
  },
  {
   "cell_type": "code",
   "execution_count": 24,
   "id": "ddf6b3da",
   "metadata": {},
   "outputs": [],
   "source": [
    "def sliding_window(elements, window_size):\n",
    "    \n",
    "    data = [] \n",
    "    targets = []\n",
    "    \n",
    "    if len(elements) <= window_size:\n",
    "        return elements\n",
    "    \n",
    "    for i in range(len(elements) - window_size ):\n",
    "        \n",
    "        data.append(elements[i:i+window_size])\n",
    "        targets.append(elements[i+window_size])\n",
    "        \n",
    "    return np.array(data) , np.array(targets)"
   ]
  },
  {
   "cell_type": "code",
   "execution_count": 25,
   "id": "71ddaa81",
   "metadata": {},
   "outputs": [],
   "source": [
    "window_length = 24\n",
    "features = 1\n",
    "\n",
    "\n",
    "sliding_winda_eth = sliding_window(scaled_eth , window_length)"
   ]
  },
  {
   "cell_type": "markdown",
   "id": "82fef525",
   "metadata": {},
   "source": [
    "<Strong> Splitting the data after we create Sliding Window matrix (more data) </Strong>"
   ]
  },
  {
   "cell_type": "code",
   "execution_count": 26,
   "id": "1731b98f",
   "metadata": {},
   "outputs": [],
   "source": [
    "# Splitting the data after creating the sliding window data\n",
    "\n",
    "def splitting_train_test(data):\n",
    "        \n",
    "    onePercent = len(data[1]) // 100\n",
    "    \n",
    "    numberTraining = onePercent * percTrain\n",
    "    numberValidation = onePercent * percVal\n",
    "    \n",
    "    trainingData = data[0][:numberTraining] , data[1][:numberTraining]\n",
    "    validationData = data[0][numberTraining : numberTraining + numberValidation] , data[1][numberTraining : numberTraining + numberValidation]\n",
    "    testData = data[0][numberTraining + numberValidation:] , data[1][numberTraining + numberValidation:] \n",
    "    \n",
    "    #Returning tuples of (sliding-window , target_values)\n",
    "    return trainingData , validationData , testData"
   ]
  },
  {
   "cell_type": "code",
   "execution_count": 27,
   "id": "05f85f5e",
   "metadata": {},
   "outputs": [
    {
     "name": "stdout",
     "output_type": "stream",
     "text": [
      "(27370, 24, 1)\n"
     ]
    }
   ],
   "source": [
    "#Reshaping the data so we can use min-max a\n",
    "eth_train , eth_val , eth_test = splitting_train_test(sliding_winda_eth)\n",
    "\n",
    "print(eth_train[0].shape)"
   ]
  },
  {
   "cell_type": "markdown",
   "id": "c9a800f1",
   "metadata": {},
   "source": [
    "<Strong> Creating the model </Strong>"
   ]
  },
  {
   "cell_type": "code",
   "execution_count": 28,
   "id": "844b2b39",
   "metadata": {},
   "outputs": [],
   "source": [
    "inputs = Input(shape = (window_length , features) )\n",
    "\n",
    "#From deep learning in python -- better to use recurrent dropout so error propergates correctly\n",
    "x = LSTM(30 , return_sequences = True)(inputs)\n",
    "x = Dropout(0.2)(x) \n",
    "x = LSTM(50)(x)\n",
    "x = Dropout(0.2)(x) \n",
    "x = Dense(16)(x)\n",
    "\n",
    "y = GRU(30 , input_shape=(window_length , features))(inputs)\n",
    "y = Dropout(0.5)(y)\n",
    "y = Dense(16)(y)\n",
    "\n",
    "final = Concatenate()([x,y])\n",
    "final = Dense(1)(final)\n",
    "\n",
    "model = tf.keras.Model(inputs=inputs, outputs= final)"
   ]
  },
  {
   "cell_type": "code",
   "execution_count": 29,
   "id": "5cbad829",
   "metadata": {},
   "outputs": [
    {
     "name": "stdout",
     "output_type": "stream",
     "text": [
      "Model: \"model_1\"\n",
      "__________________________________________________________________________________________________\n",
      " Layer (type)                   Output Shape         Param #     Connected to                     \n",
      "==================================================================================================\n",
      " input_2 (InputLayer)           [(None, 24, 1)]      0           []                               \n",
      "                                                                                                  \n",
      " lstm_2 (LSTM)                  (None, 24, 30)       3840        ['input_2[0][0]']                \n",
      "                                                                                                  \n",
      " dropout_3 (Dropout)            (None, 24, 30)       0           ['lstm_2[0][0]']                 \n",
      "                                                                                                  \n",
      " lstm_3 (LSTM)                  (None, 50)           16200       ['dropout_3[0][0]']              \n",
      "                                                                                                  \n",
      " gru_1 (GRU)                    (None, 30)           2970        ['input_2[0][0]']                \n",
      "                                                                                                  \n",
      " dropout_4 (Dropout)            (None, 50)           0           ['lstm_3[0][0]']                 \n",
      "                                                                                                  \n",
      " dropout_5 (Dropout)            (None, 30)           0           ['gru_1[0][0]']                  \n",
      "                                                                                                  \n",
      " dense_3 (Dense)                (None, 16)           816         ['dropout_4[0][0]']              \n",
      "                                                                                                  \n",
      " dense_4 (Dense)                (None, 16)           496         ['dropout_5[0][0]']              \n",
      "                                                                                                  \n",
      " concatenate_1 (Concatenate)    (None, 32)           0           ['dense_3[0][0]',                \n",
      "                                                                  'dense_4[0][0]']                \n",
      "                                                                                                  \n",
      " dense_5 (Dense)                (None, 1)            33          ['concatenate_1[0][0]']          \n",
      "                                                                                                  \n",
      "==================================================================================================\n",
      "Total params: 24,355\n",
      "Trainable params: 24,355\n",
      "Non-trainable params: 0\n",
      "__________________________________________________________________________________________________\n"
     ]
    },
    {
     "data": {
      "image/png": "[encoded data removed]",
      "text/plain": [
       "<IPython.core.display.Image object>"
      ]
     },
     "execution_count": 29,
     "metadata": {},
     "output_type": "execute_result"
    }
   ],
   "source": [
    "model.summary()\n",
    "plot_model(model)"
   ]
  },
  {
   "cell_type": "code",
   "execution_count": 30,
   "id": "924e1f60",
   "metadata": {},
   "outputs": [
    {
     "name": "stdout",
     "output_type": "stream",
     "text": [
      "Epoch 1/100\n",
      "54/54 [==============================] - 5s 28ms/step - loss: 0.0057 - val_loss: 0.0668\n",
      "Epoch 2/100\n",
      "54/54 [==============================] - 0s 9ms/step - loss: 7.5838e-04 - val_loss: 0.0710\n",
      "Epoch 3/100\n",
      "54/54 [==============================] - 0s 9ms/step - loss: 5.4852e-04 - val_loss: 0.0827\n",
      "Epoch 4/100\n",
      "54/54 [==============================] - 0s 9ms/step - loss: 4.4221e-04 - val_loss: 0.0704\n",
      "Epoch 5/100\n",
      "54/54 [==============================] - 1s 9ms/step - loss: 3.8937e-04 - val_loss: 0.0671\n",
      "Epoch 6/100\n",
      "54/54 [==============================] - 0s 9ms/step - loss: 3.4929e-04 - val_loss: 0.0732\n",
      "Epoch 7/100\n",
      "54/54 [==============================] - 0s 9ms/step - loss: 3.1957e-04 - val_loss: 0.0634\n",
      "Epoch 8/100\n",
      "54/54 [==============================] - 0s 9ms/step - loss: 2.9742e-04 - val_loss: 0.0688\n",
      "Epoch 9/100\n",
      "54/54 [==============================] - 0s 9ms/step - loss: 2.7743e-04 - val_loss: 0.0627\n",
      "Epoch 10/100\n",
      "54/54 [==============================] - 0s 9ms/step - loss: 2.6129e-04 - val_loss: 0.0539\n",
      "Epoch 11/100\n",
      "54/54 [==============================] - 0s 9ms/step - loss: 2.6675e-04 - val_loss: 0.0544\n",
      "Epoch 12/100\n",
      "54/54 [==============================] - 0s 9ms/step - loss: 2.4075e-04 - val_loss: 0.0573\n",
      "Epoch 13/100\n",
      "54/54 [==============================] - 0s 9ms/step - loss: 2.3418e-04 - val_loss: 0.0494\n",
      "Epoch 14/100\n",
      "54/54 [==============================] - 0s 9ms/step - loss: 2.2417e-04 - val_loss: 0.0437\n",
      "Epoch 15/100\n",
      "54/54 [==============================] - 0s 9ms/step - loss: 2.2085e-04 - val_loss: 0.0421\n",
      "Epoch 16/100\n",
      "54/54 [==============================] - 0s 9ms/step - loss: 2.3584e-04 - val_loss: 0.0550\n",
      "Epoch 17/100\n",
      "54/54 [==============================] - 1s 10ms/step - loss: 2.2138e-04 - val_loss: 0.0324\n",
      "Epoch 18/100\n",
      "54/54 [==============================] - 0s 9ms/step - loss: 2.1801e-04 - val_loss: 0.0321\n",
      "Epoch 19/100\n",
      "54/54 [==============================] - 0s 9ms/step - loss: 2.0641e-04 - val_loss: 0.0334\n",
      "Epoch 20/100\n",
      "54/54 [==============================] - 0s 9ms/step - loss: 2.2410e-04 - val_loss: 0.0293\n",
      "Epoch 21/100\n",
      "54/54 [==============================] - 0s 9ms/step - loss: 2.1179e-04 - val_loss: 0.0268\n",
      "Epoch 22/100\n",
      "54/54 [==============================] - 0s 9ms/step - loss: 2.0484e-04 - val_loss: 0.0247\n",
      "Epoch 23/100\n",
      "54/54 [==============================] - 0s 9ms/step - loss: 1.9800e-04 - val_loss: 0.0271\n",
      "Epoch 24/100\n",
      "54/54 [==============================] - 1s 9ms/step - loss: 2.0022e-04 - val_loss: 0.0182\n",
      "Epoch 25/100\n",
      "54/54 [==============================] - 0s 9ms/step - loss: 1.9418e-04 - val_loss: 0.0224\n",
      "Epoch 26/100\n",
      "54/54 [==============================] - 0s 9ms/step - loss: 1.9850e-04 - val_loss: 0.0220\n",
      "Epoch 27/100\n",
      "54/54 [==============================] - 0s 9ms/step - loss: 2.0047e-04 - val_loss: 0.0211\n",
      "Epoch 28/100\n",
      "54/54 [==============================] - 0s 9ms/step - loss: 1.9344e-04 - val_loss: 0.0155\n",
      "Epoch 29/100\n",
      "54/54 [==============================] - 0s 9ms/step - loss: 1.9736e-04 - val_loss: 0.0124\n",
      "Epoch 30/100\n",
      "54/54 [==============================] - 0s 9ms/step - loss: 1.9091e-04 - val_loss: 0.0099\n",
      "Epoch 31/100\n",
      "54/54 [==============================] - 0s 9ms/step - loss: 1.9603e-04 - val_loss: 0.0103\n",
      "Epoch 32/100\n",
      "54/54 [==============================] - 0s 9ms/step - loss: 1.9060e-04 - val_loss: 0.0063\n",
      "Epoch 33/100\n",
      "54/54 [==============================] - 0s 9ms/step - loss: 1.9371e-04 - val_loss: 0.0120\n",
      "Epoch 34/100\n",
      "54/54 [==============================] - 0s 9ms/step - loss: 1.9503e-04 - val_loss: 0.0043\n",
      "Epoch 35/100\n",
      "54/54 [==============================] - 0s 9ms/step - loss: 1.8927e-04 - val_loss: 0.0030\n",
      "Epoch 36/100\n",
      "54/54 [==============================] - 1s 9ms/step - loss: 1.8208e-04 - val_loss: 0.0043\n",
      "Epoch 37/100\n",
      "54/54 [==============================] - 0s 9ms/step - loss: 1.8305e-04 - val_loss: 0.0067\n",
      "Epoch 38/100\n",
      "54/54 [==============================] - 0s 9ms/step - loss: 1.8909e-04 - val_loss: 0.0159\n",
      "Epoch 39/100\n",
      "54/54 [==============================] - 0s 9ms/step - loss: 1.8945e-04 - val_loss: 0.0094\n",
      "Epoch 40/100\n",
      "54/54 [==============================] - 0s 9ms/step - loss: 1.8422e-04 - val_loss: 0.0074\n",
      "Epoch 41/100\n",
      "54/54 [==============================] - 0s 9ms/step - loss: 2.0074e-04 - val_loss: 0.0100\n",
      "Epoch 42/100\n",
      "54/54 [==============================] - 0s 9ms/step - loss: 1.8772e-04 - val_loss: 0.0044\n",
      "Epoch 43/100\n",
      "54/54 [==============================] - 0s 9ms/step - loss: 1.9861e-04 - val_loss: 0.0037\n",
      "Epoch 44/100\n",
      "54/54 [==============================] - 0s 9ms/step - loss: 1.7502e-04 - val_loss: 0.0069\n",
      "Epoch 45/100\n",
      "54/54 [==============================] - 0s 9ms/step - loss: 1.7794e-04 - val_loss: 0.0044\n",
      "Epoch 46/100\n",
      "54/54 [==============================] - 0s 9ms/step - loss: 1.9316e-04 - val_loss: 0.0025\n",
      "Epoch 47/100\n",
      "54/54 [==============================] - 0s 9ms/step - loss: 1.8497e-04 - val_loss: 0.0034\n",
      "Epoch 48/100\n",
      "54/54 [==============================] - 0s 9ms/step - loss: 1.7414e-04 - val_loss: 0.0037\n",
      "Epoch 49/100\n",
      "54/54 [==============================] - 0s 9ms/step - loss: 1.7632e-04 - val_loss: 0.0019\n",
      "Epoch 50/100\n",
      "54/54 [==============================] - 0s 9ms/step - loss: 1.8895e-04 - val_loss: 7.6979e-04\n",
      "Epoch 51/100\n",
      "54/54 [==============================] - 0s 9ms/step - loss: 1.7975e-04 - val_loss: 0.0013\n",
      "Epoch 52/100\n",
      "54/54 [==============================] - 0s 9ms/step - loss: 1.7899e-04 - val_loss: 0.0020\n",
      "Epoch 53/100\n",
      "54/54 [==============================] - 0s 9ms/step - loss: 1.7700e-04 - val_loss: 9.6186e-04\n",
      "Epoch 54/100\n",
      "54/54 [==============================] - 0s 9ms/step - loss: 1.9235e-04 - val_loss: 7.6382e-04\n",
      "Epoch 55/100\n",
      "54/54 [==============================] - 0s 9ms/step - loss: 1.8693e-04 - val_loss: 5.9587e-04\n",
      "Epoch 56/100\n",
      "54/54 [==============================] - 0s 9ms/step - loss: 1.8312e-04 - val_loss: 0.0018\n",
      "Epoch 57/100\n",
      "54/54 [==============================] - 0s 9ms/step - loss: 1.6915e-04 - val_loss: 0.0028\n",
      "Epoch 58/100\n",
      "54/54 [==============================] - 0s 9ms/step - loss: 1.7726e-04 - val_loss: 5.1679e-04\n",
      "Epoch 59/100\n",
      "54/54 [==============================] - 0s 9ms/step - loss: 1.6916e-04 - val_loss: 5.3798e-04\n",
      "Epoch 60/100\n",
      "54/54 [==============================] - 0s 9ms/step - loss: 1.7944e-04 - val_loss: 6.0601e-04\n",
      "Epoch 61/100\n",
      "54/54 [==============================] - 0s 9ms/step - loss: 1.7559e-04 - val_loss: 0.0020\n",
      "Epoch 62/100\n",
      "54/54 [==============================] - 0s 9ms/step - loss: 1.7282e-04 - val_loss: 6.4528e-04\n",
      "Epoch 63/100\n",
      "54/54 [==============================] - 0s 9ms/step - loss: 1.7999e-04 - val_loss: 0.0046\n",
      "Epoch 64/100\n",
      "54/54 [==============================] - 0s 9ms/step - loss: 1.6808e-04 - val_loss: 5.8637e-04\n",
      "Epoch 65/100\n",
      "54/54 [==============================] - 0s 9ms/step - loss: 1.7412e-04 - val_loss: 0.0011\n",
      "Epoch 66/100\n",
      "54/54 [==============================] - 0s 9ms/step - loss: 1.8709e-04 - val_loss: 0.0016\n",
      "Epoch 67/100\n",
      "54/54 [==============================] - 0s 9ms/step - loss: 1.7450e-04 - val_loss: 0.0032\n",
      "Epoch 68/100\n",
      "54/54 [==============================] - 0s 9ms/step - loss: 1.6674e-04 - val_loss: 0.0012\n",
      "Epoch 69/100\n",
      "54/54 [==============================] - 0s 9ms/step - loss: 1.8118e-04 - val_loss: 5.2506e-04\n",
      "Epoch 70/100\n",
      "54/54 [==============================] - 0s 9ms/step - loss: 1.7156e-04 - val_loss: 0.0010\n",
      "Epoch 71/100\n",
      "54/54 [==============================] - 0s 9ms/step - loss: 1.7526e-04 - val_loss: 0.0010\n",
      "Epoch 72/100\n",
      "54/54 [==============================] - 1s 12ms/step - loss: 1.7656e-04 - val_loss: 0.0018\n",
      "Epoch 73/100\n",
      "54/54 [==============================] - 0s 9ms/step - loss: 1.7336e-04 - val_loss: 7.9922e-04\n",
      "Epoch 74/100\n",
      "54/54 [==============================] - 0s 9ms/step - loss: 1.7381e-04 - val_loss: 0.0037\n",
      "Epoch 75/100\n",
      "54/54 [==============================] - 0s 9ms/step - loss: 1.7573e-04 - val_loss: 4.5404e-04\n",
      "Epoch 76/100\n",
      "54/54 [==============================] - 0s 9ms/step - loss: 1.7824e-04 - val_loss: 0.0013\n",
      "Epoch 77/100\n",
      "54/54 [==============================] - 0s 9ms/step - loss: 1.6850e-04 - val_loss: 6.9069e-04\n",
      "Epoch 78/100\n",
      "54/54 [==============================] - 0s 9ms/step - loss: 1.6997e-04 - val_loss: 0.0012\n",
      "Epoch 79/100\n",
      "54/54 [==============================] - 0s 9ms/step - loss: 1.6954e-04 - val_loss: 4.7734e-04\n",
      "Epoch 80/100\n",
      "54/54 [==============================] - 0s 9ms/step - loss: 1.7029e-04 - val_loss: 9.3704e-04\n",
      "Epoch 81/100\n",
      "54/54 [==============================] - 0s 9ms/step - loss: 1.7061e-04 - val_loss: 6.3528e-04\n",
      "Epoch 82/100\n",
      "54/54 [==============================] - 0s 9ms/step - loss: 1.6218e-04 - val_loss: 6.0934e-04\n",
      "Epoch 83/100\n",
      "54/54 [==============================] - 0s 9ms/step - loss: 1.7079e-04 - val_loss: 0.0030\n",
      "Epoch 84/100\n",
      "54/54 [==============================] - 0s 9ms/step - loss: 1.8009e-04 - val_loss: 6.5066e-04\n",
      "Epoch 85/100\n",
      "54/54 [==============================] - 0s 9ms/step - loss: 1.6491e-04 - val_loss: 0.0016\n",
      "Epoch 86/100\n",
      "54/54 [==============================] - 0s 9ms/step - loss: 1.7503e-04 - val_loss: 0.0025\n",
      "Epoch 87/100\n",
      "54/54 [==============================] - 0s 9ms/step - loss: 1.6992e-04 - val_loss: 4.7484e-04\n",
      "Epoch 88/100\n",
      "54/54 [==============================] - 0s 9ms/step - loss: 1.7919e-04 - val_loss: 7.2713e-04\n",
      "Epoch 89/100\n",
      "54/54 [==============================] - 0s 9ms/step - loss: 1.7793e-04 - val_loss: 0.0014\n",
      "Epoch 90/100\n",
      "54/54 [==============================] - 0s 9ms/step - loss: 1.6788e-04 - val_loss: 4.7185e-04\n",
      "Epoch 91/100\n",
      "54/54 [==============================] - 0s 9ms/step - loss: 1.7101e-04 - val_loss: 8.1729e-04\n",
      "Epoch 92/100\n",
      "54/54 [==============================] - 0s 9ms/step - loss: 1.7757e-04 - val_loss: 0.0028\n",
      "Epoch 93/100\n",
      "54/54 [==============================] - 0s 9ms/step - loss: 1.7484e-04 - val_loss: 4.3681e-04\n",
      "Epoch 94/100\n",
      "54/54 [==============================] - 0s 9ms/step - loss: 1.7378e-04 - val_loss: 0.0021\n",
      "Epoch 95/100\n",
      "54/54 [==============================] - 0s 9ms/step - loss: 1.7488e-04 - val_loss: 4.6132e-04\n",
      "Epoch 96/100\n",
      "54/54 [==============================] - 0s 9ms/step - loss: 1.7567e-04 - val_loss: 7.4686e-04\n",
      "Epoch 97/100\n",
      "54/54 [==============================] - 0s 9ms/step - loss: 1.6993e-04 - val_loss: 6.1425e-04\n",
      "Epoch 98/100\n",
      "54/54 [==============================] - 0s 9ms/step - loss: 1.7461e-04 - val_loss: 0.0021\n",
      "Epoch 99/100\n",
      "54/54 [==============================] - 0s 9ms/step - loss: 1.6297e-04 - val_loss: 0.0068\n",
      "Epoch 100/100\n",
      "54/54 [==============================] - 0s 9ms/step - loss: 1.7311e-04 - val_loss: 0.0018\n"
     ]
    }
   ],
   "source": [
    "#If use validation in this part , then leakage as we are using the normalized values of the training set which in this case would include validation set.\n",
    "#Validation set needs to be in a tuple with x , y\n",
    "\n",
    "model.compile(optimizer='adam' , loss = 'mse')\n",
    "\n",
    "history = model.fit(eth_train[0] , eth_train[1] , validation_data = eth_val  , batch_size = 512  , epochs =100 , verbose = 1 )"
   ]
  },
  {
   "cell_type": "code",
   "execution_count": 32,
   "id": "429869ae",
   "metadata": {},
   "outputs": [
    {
     "data": {
      "image/png": "[encoded data removed]",
      "text/plain": [
       "<Figure size 432x288 with 1 Axes>"
      ]
     },
     "metadata": {
      "needs_background": "light"
     },
     "output_type": "display_data"
    }
   ],
   "source": [
    "plt.plot(history.history['loss'])\n",
    "plt.plot(history.history['val_loss'])\n",
    "plt.title('model loss')\n",
    "plt.ylabel('loss')\n",
    "plt.xlabel('epoch')\n",
    "plt.legend(['train', 'val'], loc='upper left')\n",
    "plt.show()"
   ]
  },
  {
   "cell_type": "markdown",
   "id": "562b1eed",
   "metadata": {},
   "source": [
    "<Strong> Testing on the validation data once again , hyper-parameter adjustment. <Strong>"
   ]
  },
  {
   "cell_type": "code",
   "execution_count": 1,
   "id": "4efa5083",
   "metadata": {},
   "outputs": [
    {
     "ename": "NameError",
     "evalue": "name 'model' is not defined",
     "output_type": "error",
     "traceback": [
      "\u001b[0;31m---------------------------------------------------------------------------\u001b[0m",
      "\u001b[0;31mNameError\u001b[0m                                 Traceback (most recent call last)",
      "\u001b[0;32m/tmp/ipykernel_2725/1421736894.py\u001b[0m in \u001b[0;36m<module>\u001b[0;34m\u001b[0m\n\u001b[0;32m----> 1\u001b[0;31m \u001b[0mvalidation_predict\u001b[0m \u001b[0;34m=\u001b[0m \u001b[0mmodel\u001b[0m\u001b[0;34m.\u001b[0m\u001b[0mpredict\u001b[0m\u001b[0;34m(\u001b[0m\u001b[0meth_val\u001b[0m\u001b[0;34m[\u001b[0m\u001b[0;36m0\u001b[0m\u001b[0;34m]\u001b[0m\u001b[0;34m)\u001b[0m\u001b[0;34m\u001b[0m\u001b[0;34m\u001b[0m\u001b[0m\n\u001b[0m",
      "\u001b[0;31mNameError\u001b[0m: name 'model' is not defined"
     ]
    }
   ],
   "source": [
    "validation_predict = model.predict(eth_val[0])"
   ]
  },
  {
   "cell_type": "code",
   "execution_count": null,
   "id": "ef216a8b",
   "metadata": {},
   "outputs": [],
   "source": [
    "validation_predict = scaler.inverse_transform(validation_predict)"
   ]
  },
  {
   "cell_type": "code",
   "execution_count": null,
   "id": "2ac7521d",
   "metadata": {},
   "outputs": [],
   "source": [
    "print(validation_predict)"
   ]
  },
  {
   "cell_type": "code",
   "execution_count": null,
   "id": "3696cfe6",
   "metadata": {},
   "outputs": [],
   "source": [
    "validation_actual = scaler.inverse_transform(eth_val[1])\n",
    "validation_actual"
   ]
  },
  {
   "cell_type": "code",
   "execution_count": null,
   "id": "50a54405",
   "metadata": {},
   "outputs": [],
   "source": [
    "math.sqrt(mean_squared_error(validation_actual , validation_predict))"
   ]
  },
  {
   "cell_type": "markdown",
   "id": "fdf6a601",
   "metadata": {},
   "source": [
    "<Strong> Only do this last , once perfected hyper-parameters. <Strong>"
   ]
  },
  {
   "cell_type": "markdown",
   "id": "803449f7",
   "metadata": {},
   "source": [
    "<Strong> Train on both training and validation , then finnaly test on test set. </Strong>"
   ]
  },
  {
   "cell_type": "code",
   "execution_count": null,
   "id": "8683c955",
   "metadata": {},
   "outputs": [],
   "source": [
    "train_and_val = np.concatenate([eth_train[0] , eth_val[0]] )\n",
    "train_and_val_targets = np.concatenate([eth_train[1] , eth_val[1] ])"
   ]
  },
  {
   "cell_type": "code",
   "execution_count": null,
   "id": "1dee34ee",
   "metadata": {},
   "outputs": [],
   "source": [
    "final = model.fit(train_and_val , train_and_val_targets , batch_size = 512  , epochs =100 , verbose = 1 )"
   ]
  },
  {
   "cell_type": "code",
   "execution_count": null,
   "id": "ac71a0cd",
   "metadata": {},
   "outputs": [],
   "source": [
    "test_predict = model.predict(eth_test[0])"
   ]
  },
  {
   "cell_type": "code",
   "execution_count": null,
   "id": "3208fe4b",
   "metadata": {},
   "outputs": [],
   "source": [
    "#Scalling back to the original values \n",
    "test_predict = scaler.inverse_transform(test_predict)\n",
    "test_actual = scaler.inverse_transform(eth_test[1])"
   ]
  },
  {
   "cell_type": "code",
   "execution_count": null,
   "id": "1f959fd2",
   "metadata": {},
   "outputs": [],
   "source": [
    "math.sqrt(mean_squared_error(test_actual , test_predict))"
   ]
  }
 ],
 "metadata": {
  "kernelspec": {
   "display_name": "Python 3",
   "language": "python",
   "name": "python3"
  },
  "language_info": {
   "codemirror_mode": {
    "name": "ipython",
    "version": 3
   },
   "file_extension": ".py",
   "mimetype": "text/x-python",
   "name": "python",
   "nbconvert_exporter": "python",
   "pygments_lexer": "ipython3",
   "version": "3.7.12"
  }
 },
 "nbformat": 4,
 "nbformat_minor": 5
}
