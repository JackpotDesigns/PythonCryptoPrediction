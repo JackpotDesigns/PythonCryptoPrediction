{
 "cells": [
  {
   "cell_type": "code",
   "execution_count": 1,
   "id": "b632c9e9",
   "metadata": {},
   "outputs": [],
   "source": [
    "import pandas as pd\n",
    "import numpy as np\n",
    "import tensorflow as tf\n",
    "from tensorflow.keras.utils import plot_model\n",
    "from matplotlib import pyplot as plt\n",
    "from tensorflow.keras.models import Sequential \n",
    "from tensorflow.keras import layers\n",
    "from tensorflow.keras.optimizers import RMSprop\n",
    "import os\n",
    "from sklearn.preprocessing import MinMaxScaler\n",
    "from tensorflow.keras.preprocessing.sequence import TimeseriesGenerator\n",
    "from tensorflow.keras.layers import LSTM , Dense , Dropout , GRU , Concatenate , Input , Conv1D , InputLayer\n",
    "from tensorflow.keras import models"
   ]
  },
  {
   "cell_type": "code",
   "execution_count": 16,
   "id": "51545dcc",
   "metadata": {},
   "outputs": [
    {
     "name": "stdout",
     "output_type": "stream",
     "text": [
      "100\n"
     ]
    }
   ],
   "source": [
    "list = range(1,101)\n",
    "print(len(list))"
   ]
  },
  {
   "cell_type": "code",
   "execution_count": 19,
   "id": "d546face",
   "metadata": {},
   "outputs": [],
   "source": [
    "# Splitting off training , validation ,  test sets , 70% , 20% , 10%\n",
    "\n",
    "def splitting_train_test(data , percTrain , percVal):\n",
    "    onePercent = len(data) // 100\n",
    "    \n",
    "    numberTraining = onePercent * percTrain\n",
    "    numberValidation = onePercent * percVal\n",
    "    \n",
    "    trainingData = data[:numberTraining]\n",
    "    validationData = data[numberTraining : numberTraining + numberValidation]\n",
    "    testData = data[numberTraining + numberValidation:] \n",
    "    \n",
    "    return trainingData , validationData , testData"
   ]
  },
  {
   "cell_type": "code",
   "execution_count": 24,
   "id": "13d4a8dd",
   "metadata": {},
   "outputs": [],
   "source": [
    "#Reshaping the data so we can use min-max a\n",
    "btc_train , btc_val ,  btc_test = splitting_train_test(list , 80 , 10 )"
   ]
  },
  {
   "cell_type": "code",
   "execution_count": 30,
   "id": "cfdfd58f",
   "metadata": {},
   "outputs": [],
   "source": [
    "def sliding_window(elements, window_size):\n",
    "    \n",
    "    data = [] \n",
    "    targets = []\n",
    "    \n",
    "    if len(elements) <= window_size:\n",
    "        return elements\n",
    "    \n",
    "    \n",
    "    for i in range(len(elements) - window_size ):\n",
    "        \n",
    "        data.append(elements[i:i+window_size])\n",
    "        targets.append(elements[i+window_size])\n",
    "        \n",
    "    return np.array(data) , np.array(targets)"
   ]
  },
  {
   "cell_type": "code",
   "execution_count": 31,
   "id": "cea69609",
   "metadata": {},
   "outputs": [],
   "source": [
    "window_length = 5\n",
    "features = 1\n",
    "\n",
    "sliding_winda_train = sliding_window(btc_train , window_length)\n",
    "sliding_winda_val = sliding_window(btc_val, window_length)\n",
    "sliding_winda_test = sliding_window(btc_test , window_length)"
   ]
  },
  {
   "cell_type": "code",
   "execution_count": 47,
   "id": "79aeea66",
   "metadata": {},
   "outputs": [
    {
     "data": {
      "text/plain": [
       "array([ 96,  97,  98,  99, 100])"
      ]
     },
     "execution_count": 47,
     "metadata": {},
     "output_type": "execute_result"
    }
   ],
   "source": [
    "sliding_winda_test[1]"
   ]
  },
  {
   "cell_type": "code",
   "execution_count": null,
   "id": "bc7ef311",
   "metadata": {},
   "outputs": [],
   "source": []
  }
 ],
 "metadata": {
  "kernelspec": {
   "display_name": "Python 3 (ipykernel)",
   "language": "python",
   "name": "python3"
  },
  "language_info": {
   "codemirror_mode": {
    "name": "ipython",
    "version": 3
   },
   "file_extension": ".py",
   "mimetype": "text/x-python",
   "name": "python",
   "nbconvert_exporter": "python",
   "pygments_lexer": "ipython3",
   "version": "3.7.0"
  }
 },
 "nbformat": 4,
 "nbformat_minor": 5
}
