{
 "cells": [
  {
   "cell_type": "markdown",
   "id": "2b5d95d4",
   "metadata": {},
   "source": [
    "# Goals of this page :\n",
    "    # Baseline : A Deep Learning-based Cryptocurrency Price Prediction Scheme for Financial Institutions\n",
    "    # In keras redesign the model with ( 30 mins / 1 hr ) data points and compare the results we get.\n",
    "    # Once we have duplicated model in the baseline article , we can then experiment :\n",
    "        # Add more LSTM layers.\n",
    "        # Try multi-variate.\n",
    "        # TCN instead of LSTM Layers."
   ]
  },
  {
   "cell_type": "code",
   "execution_count": 2,
   "id": "95674502",
   "metadata": {},
   "outputs": [],
   "source": [
    "# Pulling BTC , XRP , ETH (1 hour) data "
   ]
  },
  {
   "cell_type": "code",
   "execution_count": 4,
   "id": "b515bbc2",
   "metadata": {},
   "outputs": [],
   "source": [
    "import pandas as pd\n",
    "import numpy as np\n",
    "import tensorflow as tf\n",
    "from tensorflow.keras.utils import plot_model\n",
    "from matplotlib import pyplot as plt\n",
    "from tensorflow.keras.models import Sequential \n",
    "from tensorflow.keras import layers\n",
    "from tensorflow.keras.optimizers import RMSprop\n",
    "import os\n",
    "from sklearn.preprocessing import MinMaxScaler\n",
    "from tensorflow.keras.preprocessing.sequence import TimeseriesGenerator\n",
    "from tensorflow.keras.layers import LSTM , Dense , Dropout , GRU , Concatenate , Input , Conv1D\n",
    "from tensorflow.keras import models"
   ]
  },
  {
   "cell_type": "code",
   "execution_count": 5,
   "id": "7c335b0b",
   "metadata": {},
   "outputs": [],
   "source": [
    "df_btc = pd.read_csv(\"../../../cryptoData/BTC_1h_data.csv\")\n",
    "df_xrp = pd.read_csv(\"../../../cryptoData/XRP_1h_data.csv\")\n",
    "df_eth = pd.read_csv(\"../../../cryptoData/ETH_1h_data.csv\")"
   ]
  },
  {
   "cell_type": "code",
   "execution_count": 6,
   "id": "1342f0f1",
   "metadata": {},
   "outputs": [
    {
     "data": {
      "text/html": [
       "<div>\n",
       "<style scoped>\n",
       "    .dataframe tbody tr th:only-of-type {\n",
       "        vertical-align: middle;\n",
       "    }\n",
       "\n",
       "    .dataframe tbody tr th {\n",
       "        vertical-align: top;\n",
       "    }\n",
       "\n",
       "    .dataframe thead th {\n",
       "        text-align: right;\n",
       "    }\n",
       "</style>\n",
       "<table border=\"1\" class=\"dataframe\">\n",
       "  <thead>\n",
       "    <tr style=\"text-align: right;\">\n",
       "      <th></th>\n",
       "      <th>date</th>\n",
       "      <th>open</th>\n",
       "      <th>high</th>\n",
       "      <th>low</th>\n",
       "      <th>close</th>\n",
       "      <th>volume</th>\n",
       "    </tr>\n",
       "  </thead>\n",
       "  <tbody>\n",
       "    <tr>\n",
       "      <th>0</th>\n",
       "      <td>2017-08-17 04:00:00.000</td>\n",
       "      <td>4261.48</td>\n",
       "      <td>4313.62</td>\n",
       "      <td>4261.32</td>\n",
       "      <td>4308.83</td>\n",
       "      <td>47.181009</td>\n",
       "    </tr>\n",
       "    <tr>\n",
       "      <th>1</th>\n",
       "      <td>2017-08-17 05:00:00.000</td>\n",
       "      <td>4308.83</td>\n",
       "      <td>4328.69</td>\n",
       "      <td>4291.37</td>\n",
       "      <td>4315.32</td>\n",
       "      <td>23.234916</td>\n",
       "    </tr>\n",
       "    <tr>\n",
       "      <th>2</th>\n",
       "      <td>2017-08-17 06:00:00.000</td>\n",
       "      <td>4330.29</td>\n",
       "      <td>4345.45</td>\n",
       "      <td>4309.37</td>\n",
       "      <td>4324.35</td>\n",
       "      <td>7.229691</td>\n",
       "    </tr>\n",
       "    <tr>\n",
       "      <th>3</th>\n",
       "      <td>2017-08-17 07:00:00.000</td>\n",
       "      <td>4316.62</td>\n",
       "      <td>4349.99</td>\n",
       "      <td>4287.41</td>\n",
       "      <td>4349.99</td>\n",
       "      <td>4.443249</td>\n",
       "    </tr>\n",
       "    <tr>\n",
       "      <th>4</th>\n",
       "      <td>2017-08-17 08:00:00.000</td>\n",
       "      <td>4333.32</td>\n",
       "      <td>4377.85</td>\n",
       "      <td>4333.32</td>\n",
       "      <td>4360.69</td>\n",
       "      <td>0.972807</td>\n",
       "    </tr>\n",
       "    <tr>\n",
       "      <th>...</th>\n",
       "      <td>...</td>\n",
       "      <td>...</td>\n",
       "      <td>...</td>\n",
       "      <td>...</td>\n",
       "      <td>...</td>\n",
       "      <td>...</td>\n",
       "    </tr>\n",
       "    <tr>\n",
       "      <th>39216</th>\n",
       "      <td>2022-02-11 10:00:00</td>\n",
       "      <td>43492.63</td>\n",
       "      <td>43569.67</td>\n",
       "      <td>43233.67</td>\n",
       "      <td>43443.77</td>\n",
       "      <td>1305.626920</td>\n",
       "    </tr>\n",
       "    <tr>\n",
       "      <th>39217</th>\n",
       "      <td>2022-02-11 11:00:00</td>\n",
       "      <td>43443.78</td>\n",
       "      <td>43523.42</td>\n",
       "      <td>43320.00</td>\n",
       "      <td>43357.53</td>\n",
       "      <td>744.524180</td>\n",
       "    </tr>\n",
       "    <tr>\n",
       "      <th>39218</th>\n",
       "      <td>2022-02-11 12:00:00</td>\n",
       "      <td>43357.53</td>\n",
       "      <td>43700.78</td>\n",
       "      <td>43253.31</td>\n",
       "      <td>43570.77</td>\n",
       "      <td>1317.546940</td>\n",
       "    </tr>\n",
       "    <tr>\n",
       "      <th>39219</th>\n",
       "      <td>2022-02-11 13:00:00</td>\n",
       "      <td>43570.77</td>\n",
       "      <td>43826.00</td>\n",
       "      <td>43503.01</td>\n",
       "      <td>43765.14</td>\n",
       "      <td>1564.251800</td>\n",
       "    </tr>\n",
       "    <tr>\n",
       "      <th>39220</th>\n",
       "      <td>2022-02-11 14:00:00</td>\n",
       "      <td>43765.15</td>\n",
       "      <td>43814.17</td>\n",
       "      <td>43450.01</td>\n",
       "      <td>43534.54</td>\n",
       "      <td>880.790640</td>\n",
       "    </tr>\n",
       "  </tbody>\n",
       "</table>\n",
       "<p>39221 rows × 6 columns</p>\n",
       "</div>"
      ],
      "text/plain": [
       "                          date      open      high       low     close  \\\n",
       "0      2017-08-17 04:00:00.000   4261.48   4313.62   4261.32   4308.83   \n",
       "1      2017-08-17 05:00:00.000   4308.83   4328.69   4291.37   4315.32   \n",
       "2      2017-08-17 06:00:00.000   4330.29   4345.45   4309.37   4324.35   \n",
       "3      2017-08-17 07:00:00.000   4316.62   4349.99   4287.41   4349.99   \n",
       "4      2017-08-17 08:00:00.000   4333.32   4377.85   4333.32   4360.69   \n",
       "...                        ...       ...       ...       ...       ...   \n",
       "39216      2022-02-11 10:00:00  43492.63  43569.67  43233.67  43443.77   \n",
       "39217      2022-02-11 11:00:00  43443.78  43523.42  43320.00  43357.53   \n",
       "39218      2022-02-11 12:00:00  43357.53  43700.78  43253.31  43570.77   \n",
       "39219      2022-02-11 13:00:00  43570.77  43826.00  43503.01  43765.14   \n",
       "39220      2022-02-11 14:00:00  43765.15  43814.17  43450.01  43534.54   \n",
       "\n",
       "            volume  \n",
       "0        47.181009  \n",
       "1        23.234916  \n",
       "2         7.229691  \n",
       "3         4.443249  \n",
       "4         0.972807  \n",
       "...            ...  \n",
       "39216  1305.626920  \n",
       "39217   744.524180  \n",
       "39218  1317.546940  \n",
       "39219  1564.251800  \n",
       "39220   880.790640  \n",
       "\n",
       "[39221 rows x 6 columns]"
      ]
     },
     "execution_count": 6,
     "metadata": {},
     "output_type": "execute_result"
    }
   ],
   "source": [
    "df_btc"
   ]
  },
  {
   "cell_type": "code",
   "execution_count": 7,
   "id": "91c4b1b0",
   "metadata": {},
   "outputs": [],
   "source": [
    "df_headers = df_btc.columns"
   ]
  },
  {
   "cell_type": "code",
   "execution_count": 8,
   "id": "83028602",
   "metadata": {},
   "outputs": [],
   "source": [
    "# Removing the date column\n",
    "btc_data = df_btc.values[:, 1: ,].astype(float)\n",
    "eth_data = df_eth.values[:, 1: ,].astype(float)\n",
    "xrp_data = df_xrp.values[:, 1: ,].astype(float)"
   ]
  },
  {
   "cell_type": "markdown",
   "id": "453cf27e",
   "metadata": {},
   "source": [
    "<Strong> Here I am testing using a standard split.<Strong>"
   ]
  },
  {
   "cell_type": "code",
   "execution_count": 9,
   "id": "c0dad32b",
   "metadata": {},
   "outputs": [],
   "source": [
    "# Splitting off training , validation ,  test sets , 70% , 20% , 10%\n",
    "\n",
    "def splitting_train_test(data , percTrain , percVal):\n",
    "    onePercent = len(data) // 100\n",
    "    \n",
    "    numberTraining = onePercent * percTrain\n",
    "    numberValidation = onePercent * percVal\n",
    "    \n",
    "    trainingData = data[:numberTraining]\n",
    "    validationData = data[numberTraining : numberTraining + numberValidation]\n",
    "    testData = data[numberTraining + numberValidation:] \n",
    "    \n",
    "    return trainingData , validationData , testData"
   ]
  },
  {
   "cell_type": "code",
   "execution_count": 10,
   "id": "d1074159",
   "metadata": {},
   "outputs": [
    {
     "data": {
      "text/plain": [
       "((27440, 5), (7840, 5), (3941, 5))"
      ]
     },
     "execution_count": 10,
     "metadata": {},
     "output_type": "execute_result"
    }
   ],
   "source": [
    "btc_train , btc_val ,  btc_test = splitting_train_test(btc_data , 70 , 20 )\n",
    "eth_train , eth_val , eth_test = splitting_train_test(eth_data , 70 , 20 )\n",
    "xrp_train , xrp_val , xrp_test = splitting_train_test(xrp_data , 70 , 20 )\n",
    "\n",
    "(btc_train.shape , btc_val.shape , btc_test.shape)"
   ]
  },
  {
   "cell_type": "markdown",
   "id": "515633dd",
   "metadata": {},
   "source": [
    "<Strong> Scaling the data only on the training set to avoid leakage . </Strong>"
   ]
  },
  {
   "cell_type": "code",
   "execution_count": 11,
   "id": "4c4e118c",
   "metadata": {},
   "outputs": [],
   "source": [
    "def scaling_data(train , validation , test):\n",
    "\n",
    "    scaler = MinMaxScaler()\n",
    "    scaler.fit(train)\n",
    "    \n",
    "    return scaler.transform(train) , scaler.transform(validation) , scaler.transform(test)"
   ]
  },
  {
   "cell_type": "code",
   "execution_count": 12,
   "id": "82b89eab",
   "metadata": {},
   "outputs": [],
   "source": [
    "# Scaling the data after we split to avoid leakage, transforming validation and test from training set for the same reason.\n",
    "\n",
    "scaled_train_btc , scaled_val_btc , scaled_test_btc = scaling_data(btc_train , btc_val , btc_test)\n",
    "scaled_train_eth , scaled_val_eth , scaled_test_eth = scaling_data(eth_train , eth_val , eth_test)\n",
    "scaled_train_xrp , scaled_val_xrp , scaled_test_xrp = scaling_data(xrp_train , xrp_val , xrp_test) \n"
   ]
  },
  {
   "cell_type": "markdown",
   "id": "e5cbf0e4",
   "metadata": {},
   "source": [
    "<Strong> Here I am testing Univariant. Closing Price. </Strong>"
   ]
  },
  {
   "cell_type": "markdown",
   "id": "e8786dee",
   "metadata": {},
   "source": [
    "<Strong> Window - Length == 24 </Strong>"
   ]
  },
  {
   "cell_type": "code",
   "execution_count": 13,
   "id": "d02f060f",
   "metadata": {},
   "outputs": [],
   "source": [
    "# Data needs to be suitable for input into model \n",
    "# Multiple (input = sequence of past values / output = mapped to the past values) pairs\n",
    "# In Their scheme they use window length of 30 days , as their data was daily , ours in hourly.\n",
    "\n",
    "# *** Hyper-Parameter *** \n",
    "\n",
    "window_length = 24\n",
    "horizon = 1\n",
    "batch_size = 1\n",
    "features = 1\n",
    "\n",
    "def createTrainValTestGenny(train , val , test , window_length , horizon , batch_size):\n",
    "        \n",
    "        train = TimeseriesGenerator(train[:,3] , train[:,3] , length = window_length , sampling_rate = horizon , batch_size = batch_size)\n",
    "        val = TimeseriesGenerator(val[:,3] , val[:,3] , length = window_length , sampling_rate = horizon , batch_size = batch_size)\n",
    "        test = TimeseriesGenerator(test[:,3] , test[:,3] , length = window_length , sampling_rate = horizon , batch_size = batch_size)\n",
    "        \n",
    "        return train , val , test\n"
   ]
  },
  {
   "cell_type": "code",
   "execution_count": 14,
   "id": "d5ac7253",
   "metadata": {},
   "outputs": [
    {
     "name": "stdout",
     "output_type": "stream",
     "text": [
      "<keras.preprocessing.sequence.TimeseriesGenerator object at 0x7f93c1a93c88>\n"
     ]
    }
   ],
   "source": [
    "\n",
    "# Creating train , val , test generators\n",
    "\n",
    "btcTrainGenny , btcValGenny , btcTestGenny  = createTrainValTestGenny(scaled_train_btc , scaled_val_btc , scaled_test_btc , window_length , horizon , batch_size)\n",
    "ethTrainGenny , ethValGenny , ethTestGenny  = createTrainValTestGenny(scaled_train_eth , scaled_val_eth , scaled_test_eth , window_length , horizon , batch_size)\n",
    "xrpTrainGenny , xrpValGenny , xrpTestGenny  = createTrainValTestGenny(scaled_train_xrp , scaled_val_xrp , scaled_test_xrp , window_length , horizon , batch_size)\n",
    "\n",
    "print(btcTrainGenny)"
   ]
  },
  {
   "cell_type": "code",
   "execution_count": 15,
   "id": "d4d40b94",
   "metadata": {},
   "outputs": [
    {
     "data": {
      "text/plain": [
       "(1, 24)"
      ]
     },
     "execution_count": 15,
     "metadata": {},
     "output_type": "execute_result"
    }
   ],
   "source": [
    "np.array([[0.08277478, 0.08316131, 0.08369912, 0.08522617, 0.08586343,\n",
    "        0.09082517, 0.09177809, 0.08983056, 0.08885977, 0.09171853,\n",
    "        0.0924225 , 0.08536613, 0.08547572, 0.08160805, 0.07968613,\n",
    "        0.08375153, 0.08503261, 0.08424704, 0.08444061, 0.08136029,\n",
    "        0.08144665, 0.07888925, 0.08031863, 0.08179566]]).shape"
   ]
  },
  {
   "cell_type": "markdown",
   "id": "8558dd96",
   "metadata": {},
   "source": [
    "<Strong> Creating the Hybrid Model. Dense Layer 16 </Strong>"
   ]
  },
  {
   "cell_type": "code",
   "execution_count": 16,
   "id": "383e9035",
   "metadata": {},
   "outputs": [
    {
     "name": "stderr",
     "output_type": "stream",
     "text": [
      "2022-02-19 17:02:11.700017: I tensorflow/core/platform/cpu_feature_guard.cc:151] This TensorFlow binary is optimized with oneAPI Deep Neural Network Library (oneDNN) to use the following CPU instructions in performance-critical operations:  AVX2 FMA\n",
      "To enable them in other operations, rebuild TensorFlow with the appropriate compiler flags.\n"
     ]
    }
   ],
   "source": [
    "inputs = Input(shape = (window_length , features) )\n",
    "\n",
    "#From deep learning in python -- better to use recurrent dropout so error propergates correctly\n",
    "x = LSTM(30 , dropout = 0.5 , recurrent_dropout = 0.5 , activation = 'relu' , return_sequences = True)(inputs)\n",
    "x = LSTM(50 , activation = 'relu')(x)\n",
    "x = Dense(16)(x)\n",
    "\n",
    "y = GRU(30 , dropout = 0.5 , recurrent_dropout = 0.5 , activation='relu' , input_shape=(window_length , features))(inputs)\n",
    "y = Dropout(0.5)(y)\n",
    "y = Dense(16)(y)\n",
    "\n",
    "final = Concatenate()([x,y])\n",
    "final = Dense(1)(final)\n",
    "\n",
    "model = tf.keras.Model(inputs=inputs, outputs= final)"
   ]
  },
  {
   "cell_type": "code",
   "execution_count": 17,
   "id": "47ac9075",
   "metadata": {},
   "outputs": [
    {
     "name": "stdout",
     "output_type": "stream",
     "text": [
      "Model: \"model\"\n",
      "__________________________________________________________________________________________________\n",
      " Layer (type)                   Output Shape         Param #     Connected to                     \n",
      "==================================================================================================\n",
      " input_1 (InputLayer)           [(None, 24, 1)]      0           []                               \n",
      "                                                                                                  \n",
      " lstm (LSTM)                    (None, 24, 30)       3840        ['input_1[0][0]']                \n",
      "                                                                                                  \n",
      " gru (GRU)                      (None, 30)           2970        ['input_1[0][0]']                \n",
      "                                                                                                  \n",
      " lstm_1 (LSTM)                  (None, 50)           16200       ['lstm[0][0]']                   \n",
      "                                                                                                  \n",
      " dropout (Dropout)              (None, 30)           0           ['gru[0][0]']                    \n",
      "                                                                                                  \n",
      " dense (Dense)                  (None, 16)           816         ['lstm_1[0][0]']                 \n",
      "                                                                                                  \n",
      " dense_1 (Dense)                (None, 16)           496         ['dropout[0][0]']                \n",
      "                                                                                                  \n",
      " concatenate (Concatenate)      (None, 32)           0           ['dense[0][0]',                  \n",
      "                                                                  'dense_1[0][0]']                \n",
      "                                                                                                  \n",
      " dense_2 (Dense)                (None, 1)            33          ['concatenate[0][0]']            \n",
      "                                                                                                  \n",
      "==================================================================================================\n",
      "Total params: 24,355\n",
      "Trainable params: 24,355\n",
      "Non-trainable params: 0\n",
      "__________________________________________________________________________________________________\n"
     ]
    },
    {
     "data": {
      "image/png": "[encoded data removed]",
      "text/plain": [
       "<IPython.core.display.Image object>"
      ]
     },
     "execution_count": 17,
     "metadata": {},
     "output_type": "execute_result"
    }
   ],
   "source": [
    "model.summary()\n",
    "plot_model(model)"
   ]
  },
  {
   "cell_type": "code",
   "execution_count": null,
   "id": "ce5e163e",
   "metadata": {},
   "outputs": [],
   "source": [
    "model.compile(optimizer='adam' , loss = 'mse')\n",
    "model.fit(btcTrainGenny, validation_data = btcValGenny , epochs =100 , verbose = 1 )"
   ]
  },
  {
   "cell_type": "markdown",
   "id": "1e8f0411",
   "metadata": {},
   "source": [
    "<Strong> Temporal Neural Network </Strong>"
   ]
  },
  {
   "cell_type": "code",
   "execution_count": 18,
   "id": "3dce3954",
   "metadata": {},
   "outputs": [
    {
     "name": "stdout",
     "output_type": "stream",
     "text": [
      "Model: \"sequential\"\n",
      "_________________________________________________________________\n",
      " Layer (type)                Output Shape              Param #   \n",
      "=================================================================\n",
      " conv1d (Conv1D)             (None, 24, 4)             16        \n",
      "                                                                 \n",
      " conv1d_1 (Conv1D)           (None, 24, 4)             52        \n",
      "                                                                 \n",
      " conv1d_2 (Conv1D)           (None, 24, 4)             52        \n",
      "                                                                 \n",
      " conv1d_3 (Conv1D)           (None, 24, 4)             52        \n",
      "                                                                 \n",
      " dense_3 (Dense)             (None, 24, 16)            80        \n",
      "                                                                 \n",
      " dense_4 (Dense)             (None, 24, 1)             17        \n",
      "                                                                 \n",
      "=================================================================\n",
      "Total params: 269\n",
      "Trainable params: 269\n",
      "Non-trainable params: 0\n",
      "_________________________________________________________________\n"
     ]
    }
   ],
   "source": [
    "#Filters perform the convolutions on the data\n",
    "#We dont have to change out input data for the temporal neural network\n",
    "#TCN implementation has the shape (batch_size, input_length, input_size) \n",
    "#conv1d vs conv2d\n",
    "\n",
    "#We want the output to depend on all of the inputs in the input vector , so the receptive field has to be size of input for a specific output\n",
    "#Zero padding is applied so the input and output are the same length , apply the padding to the lest of input\n",
    "#padding = dilation base ^ layers below . (kernel - 1)\n",
    "#Using dilation in our convolutional layers , allows us to achivece full coverage quicker than just stacking (casual) layers , which increase debth exponentially \n",
    "#which will result in networks that become very deep very fast, leading to models with a very large number of parameters that take longer to train. Furthermore, a high number of layers has been shown to lead to degradation problems related to the gradient of the loss function\n",
    "#We increase the dilation each layer , to make this fact even more so.\n",
    "\n",
    "#We need padding so we dont use future data to predict a date prior to training data used.\n",
    "\n",
    "# For full coverage we need 4 layers (we are using a base of 2)\n",
    "model = models.Sequential()\n",
    "\n",
    "# Casual adds padding to the start of input sequence\n",
    "model.add(Conv1D(filters=4, kernel_size=3, activation='relu', input_shape=(window_length, 1), dilation_rate=1 , padding = 'causal'))\n",
    "\n",
    "model.add(Conv1D(filters=4, kernel_size=3, activation='relu' , padding = 'causal', dilation_rate=2))\n",
    "\n",
    "# For full coverage we need 4 layers \n",
    "model.add(Conv1D(filters=4, kernel_size=3, activation='relu' , padding = 'causal' , dilation_rate=4))\n",
    "\n",
    "# For full coverage we need 4 layers \n",
    "model.add(Conv1D(filters=4, kernel_size=3, activation='relu' , padding = 'causal', dilation_rate= 8))\n",
    "\n",
    "model.add(Dense(16))\n",
    "\n",
    "model.add(Dense(1))\n",
    "\n",
    "model.summary()"
   ]
  },
  {
   "cell_type": "code",
   "execution_count": 19,
   "id": "b1778914",
   "metadata": {},
   "outputs": [
    {
     "data": {
      "image/png": "[encoded data removed]",
      "text/plain": [
       "<IPython.core.display.Image object>"
      ]
     },
     "execution_count": 19,
     "metadata": {},
     "output_type": "execute_result"
    }
   ],
   "source": [
    "plot_model(model)"
   ]
  },
  {
   "cell_type": "code",
   "execution_count": null,
   "id": "d09b757f",
   "metadata": {},
   "outputs": [],
   "source": []
  },
  {
   "cell_type": "code",
   "execution_count": null,
   "id": "1e3b22cb",
   "metadata": {},
   "outputs": [],
   "source": []
  }
 ],
 "metadata": {
  "kernelspec": {
   "display_name": "Python 3 (ipykernel)",
   "language": "python",
   "name": "python3"
  },
  "language_info": {
   "codemirror_mode": {
    "name": "ipython",
    "version": 3
   },
   "file_extension": ".py",
   "mimetype": "text/x-python",
   "name": "python",
   "nbconvert_exporter": "python",
   "pygments_lexer": "ipython3",
   "version": "3.7.0"
  }
 },
 "nbformat": 4,
 "nbformat_minor": 5
}
