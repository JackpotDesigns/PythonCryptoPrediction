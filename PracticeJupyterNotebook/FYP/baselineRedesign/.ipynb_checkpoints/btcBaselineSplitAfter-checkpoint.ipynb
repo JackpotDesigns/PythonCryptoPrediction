{
 "cells": [
  {
   "cell_type": "code",
   "execution_count": 2,
   "id": "56f0a547",
   "metadata": {},
   "outputs": [],
   "source": [
    "import pandas as pd\n",
    "import numpy as np\n",
    "import tensorflow as tf\n",
    "from tensorflow.keras.utils import plot_model\n",
    "from matplotlib import pyplot as plt\n",
    "from tensorflow.keras.models import Sequential \n",
    "from tensorflow.keras import layers\n",
    "from tensorflow.keras.optimizers import RMSprop\n",
    "import os\n",
    "from sklearn.preprocessing import MinMaxScaler\n",
    "from sklearn.metrics import mean_squared_error\n",
    "from tensorflow.keras.preprocessing.sequence import TimeseriesGenerator\n",
    "from tensorflow.keras.layers import LSTM , Dense , Dropout , GRU , Concatenate , Input , Conv1D , InputLayer\n",
    "from tensorflow.keras import models\n",
    "import math\n",
    "from tensorflow.keras.callbacks import EarlyStopping"
   ]
  },
  {
   "cell_type": "markdown",
   "id": "947652df",
   "metadata": {},
   "source": [
    "<Strong> Grabbing the data from stored files (originally pulled from Binance) </Strong>"
   ]
  },
  {
   "cell_type": "code",
   "execution_count": 394,
   "id": "1fe63049",
   "metadata": {},
   "outputs": [],
   "source": [
    "df_btc = pd.read_csv(\"../../../cryptoData/BTC_1h_data.csv\")"
   ]
  },
  {
   "cell_type": "code",
   "execution_count": 395,
   "id": "63c93ce3",
   "metadata": {},
   "outputs": [
    {
     "data": {
      "text/html": [
       "<div>\n",
       "<style scoped>\n",
       "    .dataframe tbody tr th:only-of-type {\n",
       "        vertical-align: middle;\n",
       "    }\n",
       "\n",
       "    .dataframe tbody tr th {\n",
       "        vertical-align: top;\n",
       "    }\n",
       "\n",
       "    .dataframe thead th {\n",
       "        text-align: right;\n",
       "    }\n",
       "</style>\n",
       "<table border=\"1\" class=\"dataframe\">\n",
       "  <thead>\n",
       "    <tr style=\"text-align: right;\">\n",
       "      <th></th>\n",
       "      <th>date</th>\n",
       "      <th>open</th>\n",
       "      <th>high</th>\n",
       "      <th>low</th>\n",
       "      <th>close</th>\n",
       "      <th>volume</th>\n",
       "    </tr>\n",
       "  </thead>\n",
       "  <tbody>\n",
       "    <tr>\n",
       "      <th>0</th>\n",
       "      <td>2017-08-17 04:00:00.000</td>\n",
       "      <td>4261.48</td>\n",
       "      <td>4313.62</td>\n",
       "      <td>4261.32</td>\n",
       "      <td>4308.83</td>\n",
       "      <td>47.181009</td>\n",
       "    </tr>\n",
       "    <tr>\n",
       "      <th>1</th>\n",
       "      <td>2017-08-17 05:00:00.000</td>\n",
       "      <td>4308.83</td>\n",
       "      <td>4328.69</td>\n",
       "      <td>4291.37</td>\n",
       "      <td>4315.32</td>\n",
       "      <td>23.234916</td>\n",
       "    </tr>\n",
       "    <tr>\n",
       "      <th>2</th>\n",
       "      <td>2017-08-17 06:00:00.000</td>\n",
       "      <td>4330.29</td>\n",
       "      <td>4345.45</td>\n",
       "      <td>4309.37</td>\n",
       "      <td>4324.35</td>\n",
       "      <td>7.229691</td>\n",
       "    </tr>\n",
       "    <tr>\n",
       "      <th>3</th>\n",
       "      <td>2017-08-17 07:00:00.000</td>\n",
       "      <td>4316.62</td>\n",
       "      <td>4349.99</td>\n",
       "      <td>4287.41</td>\n",
       "      <td>4349.99</td>\n",
       "      <td>4.443249</td>\n",
       "    </tr>\n",
       "    <tr>\n",
       "      <th>4</th>\n",
       "      <td>2017-08-17 08:00:00.000</td>\n",
       "      <td>4333.32</td>\n",
       "      <td>4377.85</td>\n",
       "      <td>4333.32</td>\n",
       "      <td>4360.69</td>\n",
       "      <td>0.972807</td>\n",
       "    </tr>\n",
       "    <tr>\n",
       "      <th>...</th>\n",
       "      <td>...</td>\n",
       "      <td>...</td>\n",
       "      <td>...</td>\n",
       "      <td>...</td>\n",
       "      <td>...</td>\n",
       "      <td>...</td>\n",
       "    </tr>\n",
       "    <tr>\n",
       "      <th>39216</th>\n",
       "      <td>2022-02-11 10:00:00</td>\n",
       "      <td>43492.63</td>\n",
       "      <td>43569.67</td>\n",
       "      <td>43233.67</td>\n",
       "      <td>43443.77</td>\n",
       "      <td>1305.626920</td>\n",
       "    </tr>\n",
       "    <tr>\n",
       "      <th>39217</th>\n",
       "      <td>2022-02-11 11:00:00</td>\n",
       "      <td>43443.78</td>\n",
       "      <td>43523.42</td>\n",
       "      <td>43320.00</td>\n",
       "      <td>43357.53</td>\n",
       "      <td>744.524180</td>\n",
       "    </tr>\n",
       "    <tr>\n",
       "      <th>39218</th>\n",
       "      <td>2022-02-11 12:00:00</td>\n",
       "      <td>43357.53</td>\n",
       "      <td>43700.78</td>\n",
       "      <td>43253.31</td>\n",
       "      <td>43570.77</td>\n",
       "      <td>1317.546940</td>\n",
       "    </tr>\n",
       "    <tr>\n",
       "      <th>39219</th>\n",
       "      <td>2022-02-11 13:00:00</td>\n",
       "      <td>43570.77</td>\n",
       "      <td>43826.00</td>\n",
       "      <td>43503.01</td>\n",
       "      <td>43765.14</td>\n",
       "      <td>1564.251800</td>\n",
       "    </tr>\n",
       "    <tr>\n",
       "      <th>39220</th>\n",
       "      <td>2022-02-11 14:00:00</td>\n",
       "      <td>43765.15</td>\n",
       "      <td>43814.17</td>\n",
       "      <td>43450.01</td>\n",
       "      <td>43534.54</td>\n",
       "      <td>880.790640</td>\n",
       "    </tr>\n",
       "  </tbody>\n",
       "</table>\n",
       "<p>39221 rows × 6 columns</p>\n",
       "</div>"
      ],
      "text/plain": [
       "                          date      open      high       low     close  \\\n",
       "0      2017-08-17 04:00:00.000   4261.48   4313.62   4261.32   4308.83   \n",
       "1      2017-08-17 05:00:00.000   4308.83   4328.69   4291.37   4315.32   \n",
       "2      2017-08-17 06:00:00.000   4330.29   4345.45   4309.37   4324.35   \n",
       "3      2017-08-17 07:00:00.000   4316.62   4349.99   4287.41   4349.99   \n",
       "4      2017-08-17 08:00:00.000   4333.32   4377.85   4333.32   4360.69   \n",
       "...                        ...       ...       ...       ...       ...   \n",
       "39216      2022-02-11 10:00:00  43492.63  43569.67  43233.67  43443.77   \n",
       "39217      2022-02-11 11:00:00  43443.78  43523.42  43320.00  43357.53   \n",
       "39218      2022-02-11 12:00:00  43357.53  43700.78  43253.31  43570.77   \n",
       "39219      2022-02-11 13:00:00  43570.77  43826.00  43503.01  43765.14   \n",
       "39220      2022-02-11 14:00:00  43765.15  43814.17  43450.01  43534.54   \n",
       "\n",
       "            volume  \n",
       "0        47.181009  \n",
       "1        23.234916  \n",
       "2         7.229691  \n",
       "3         4.443249  \n",
       "4         0.972807  \n",
       "...            ...  \n",
       "39216  1305.626920  \n",
       "39217   744.524180  \n",
       "39218  1317.546940  \n",
       "39219  1564.251800  \n",
       "39220   880.790640  \n",
       "\n",
       "[39221 rows x 6 columns]"
      ]
     },
     "execution_count": 395,
     "metadata": {},
     "output_type": "execute_result"
    }
   ],
   "source": [
    "df_btc"
   ]
  },
  {
   "cell_type": "code",
   "execution_count": 396,
   "id": "9bde6969",
   "metadata": {},
   "outputs": [],
   "source": [
    "df_headers = df_btc.columns"
   ]
  },
  {
   "cell_type": "markdown",
   "id": "c68634f1",
   "metadata": {},
   "source": [
    "<Strong> Grabbing the closing price (univariate) </Strong>"
   ]
  },
  {
   "cell_type": "code",
   "execution_count": 397,
   "id": "512d2ff6",
   "metadata": {},
   "outputs": [
    {
     "data": {
      "text/plain": [
       "43534.54"
      ]
     },
     "execution_count": 397,
     "metadata": {},
     "output_type": "execute_result"
    }
   ],
   "source": [
    "# Removing everything but the closing price\n",
    "btc_data = df_btc.values[:, 4 ,].astype(float)\n",
    "\n",
    "btc_data[-1]"
   ]
  },
  {
   "cell_type": "markdown",
   "id": "0ff079aa",
   "metadata": {},
   "source": [
    "<Strong> Scaling the data  </Strong>"
   ]
  },
  {
   "cell_type": "code",
   "execution_count": 398,
   "id": "d604e42f",
   "metadata": {},
   "outputs": [],
   "source": [
    "percTrain = 70\n",
    "percVal = 20 "
   ]
  },
  {
   "cell_type": "code",
   "execution_count": 399,
   "id": "81b6f812",
   "metadata": {},
   "outputs": [],
   "source": [
    "scaler = MinMaxScaler()\n",
    "    \n",
    "onePercent = len(btc_data) // 100\n",
    "numberTraining = onePercent * percTrain\n",
    "\n",
    "reshaped_data = btc_data.reshape(-1,1)\n",
    "\n",
    "#Just scaling on training data otherwise it would be leakage\n",
    "scaler.fit(reshaped_data[:numberTraining])\n",
    "scaled_btc = scaler.transform(reshaped_data)"
   ]
  },
  {
   "cell_type": "markdown",
   "id": "2a6a4ccd",
   "metadata": {},
   "source": [
    "<Strong> Creating Matrix in Sliding window form <Strong>"
   ]
  },
  {
   "cell_type": "code",
   "execution_count": 400,
   "id": "ddf6b3da",
   "metadata": {},
   "outputs": [],
   "source": [
    "def sliding_window(elements, window_size):\n",
    "    \n",
    "    data = [] \n",
    "    targets = []\n",
    "    \n",
    "    if len(elements) <= window_size:\n",
    "        return elements\n",
    "    \n",
    "    for i in range(len(elements) - window_size ):\n",
    "        \n",
    "        data.append(elements[i:i+window_size])\n",
    "        targets.append(elements[i+window_size])\n",
    "        \n",
    "    return np.array(data) , np.array(targets)"
   ]
  },
  {
   "cell_type": "code",
   "execution_count": 401,
   "id": "71ddaa81",
   "metadata": {},
   "outputs": [],
   "source": [
    "window_length = 24\n",
    "features = 1\n",
    "\n",
    "sliding_winda_btc = sliding_window(scaled_btc , window_length)"
   ]
  },
  {
   "cell_type": "markdown",
   "id": "82fef525",
   "metadata": {},
   "source": [
    "<Strong> Splitting the data after we create Sliding Window matrix (more data) </Strong>"
   ]
  },
  {
   "cell_type": "code",
   "execution_count": 402,
   "id": "1731b98f",
   "metadata": {},
   "outputs": [],
   "source": [
    "# Splitting the data after creating the sliding window data\n",
    "def splitting_train_test(data):\n",
    "        \n",
    "    onePercent = len(data[1]) // 100\n",
    "    \n",
    "    numberTraining = onePercent * percTrain\n",
    "    numberValidation = onePercent * percVal\n",
    "    \n",
    "    trainingData = data[0][:numberTraining] , data[1][:numberTraining]\n",
    "    validationData = data[0][numberTraining : numberTraining + numberValidation] , data[1][numberTraining : numberTraining + numberValidation]\n",
    "    testData = data[0][numberTraining + numberValidation:] , data[1][numberTraining + numberValidation:] \n",
    "    \n",
    "    #Returning tuples of (sliding-window , target_values)\n",
    "    return trainingData , validationData , testData"
   ]
  },
  {
   "cell_type": "code",
   "execution_count": 403,
   "id": "05f85f5e",
   "metadata": {},
   "outputs": [
    {
     "name": "stdout",
     "output_type": "stream",
     "text": [
      "(27370, 24, 1)\n"
     ]
    }
   ],
   "source": [
    "#Reshaping the data so we can use min-max a\n",
    "btc_train , btc_val , btc_test = splitting_train_test(sliding_winda_btc)\n",
    "\n",
    "print(btc_train[0].shape)"
   ]
  },
  {
   "cell_type": "markdown",
   "id": "c9a800f1",
   "metadata": {},
   "source": [
    "<Strong> Creating the model </Strong>"
   ]
  },
  {
   "cell_type": "markdown",
   "id": "f743d90a",
   "metadata": {},
   "source": [
    "<Strong> Dropout / Desnse layers <Strong>"
   ]
  },
  {
   "cell_type": "code",
   "execution_count": 404,
   "id": "f90ddefa",
   "metadata": {},
   "outputs": [],
   "source": [
    "inputs = Input(shape = (window_length , features) )\n",
    "\n",
    "#From deep learning in python -- better to use recurrent dropout so error propergates correctly\n",
    "x = LSTM(30 , return_sequences = True )(inputs)\n",
    "x = Dropout(0.2)(x) \n",
    "x = LSTM(50)(x)\n",
    "x = Dense(16)(x)\n",
    "\n",
    "y = GRU(30,input_shape=(window_length , features))(inputs)\n",
    "y = Dropout(0.2)(y)\n",
    "y = Dense(16)(y)\n",
    "\n",
    "final = Concatenate()([x,y])\n",
    "final = Dense(1)(final)\n",
    "\n",
    "model = tf.keras.Model(inputs=inputs, outputs= final)"
   ]
  },
  {
   "cell_type": "code",
   "execution_count": 405,
   "id": "5cbad829",
   "metadata": {},
   "outputs": [
    {
     "name": "stdout",
     "output_type": "stream",
     "text": [
      "Model: \"model_27\"\n",
      "__________________________________________________________________________________________________\n",
      " Layer (type)                   Output Shape         Param #     Connected to                     \n",
      "==================================================================================================\n",
      " input_28 (InputLayer)          [(None, 24, 1)]      0           []                               \n",
      "                                                                                                  \n",
      " lstm_54 (LSTM)                 (None, 24, 30)       3840        ['input_28[0][0]']               \n",
      "                                                                                                  \n",
      " dropout_58 (Dropout)           (None, 24, 30)       0           ['lstm_54[0][0]']                \n",
      "                                                                                                  \n",
      " gru_27 (GRU)                   (None, 30)           2970        ['input_28[0][0]']               \n",
      "                                                                                                  \n",
      " lstm_55 (LSTM)                 (None, 50)           16200       ['dropout_58[0][0]']             \n",
      "                                                                                                  \n",
      " dropout_59 (Dropout)           (None, 30)           0           ['gru_27[0][0]']                 \n",
      "                                                                                                  \n",
      " dense_81 (Dense)               (None, 16)           816         ['lstm_55[0][0]']                \n",
      "                                                                                                  \n",
      " dense_82 (Dense)               (None, 16)           496         ['dropout_59[0][0]']             \n",
      "                                                                                                  \n",
      " concatenate_27 (Concatenate)   (None, 32)           0           ['dense_81[0][0]',               \n",
      "                                                                  'dense_82[0][0]']               \n",
      "                                                                                                  \n",
      " dense_83 (Dense)               (None, 1)            33          ['concatenate_27[0][0]']         \n",
      "                                                                                                  \n",
      "==================================================================================================\n",
      "Total params: 24,355\n",
      "Trainable params: 24,355\n",
      "Non-trainable params: 0\n",
      "__________________________________________________________________________________________________\n"
     ]
    },
    {
     "data": {
      "image/png": "[encoded data removed]",
      "text/plain": [
       "<IPython.core.display.Image object>"
      ]
     },
     "execution_count": 405,
     "metadata": {},
     "output_type": "execute_result"
    }
   ],
   "source": [
    "model.summary()\n",
    "plot_model(model)"
   ]
  },
  {
   "cell_type": "code",
   "execution_count": 406,
   "id": "924e1f60",
   "metadata": {},
   "outputs": [
    {
     "name": "stdout",
     "output_type": "stream",
     "text": [
      "Epoch 1/100\n",
      "54/54 [==============================] - 5s 26ms/step - loss: 0.0073 - val_loss: 0.1442\n",
      "Epoch 2/100\n",
      "54/54 [==============================] - 0s 8ms/step - loss: 8.4825e-04 - val_loss: 0.2026\n",
      "Epoch 3/100\n",
      "54/54 [==============================] - 0s 8ms/step - loss: 5.7278e-04 - val_loss: 0.2262\n",
      "Epoch 4/100\n",
      "54/54 [==============================] - 0s 8ms/step - loss: 4.4516e-04 - val_loss: 0.2382\n",
      "Epoch 5/100\n",
      "54/54 [==============================] - 0s 8ms/step - loss: 3.4397e-04 - val_loss: 0.2439\n",
      "Epoch 6/100\n",
      "54/54 [==============================] - 0s 8ms/step - loss: 2.9126e-04 - val_loss: 0.2482\n",
      "Epoch 7/100\n",
      "54/54 [==============================] - 0s 8ms/step - loss: 2.5954e-04 - val_loss: 0.2530\n",
      "Epoch 8/100\n",
      "54/54 [==============================] - 0s 8ms/step - loss: 2.3147e-04 - val_loss: 0.2557\n",
      "Epoch 9/100\n",
      "54/54 [==============================] - 0s 8ms/step - loss: 2.1835e-04 - val_loss: 0.2434\n",
      "Epoch 10/100\n",
      "54/54 [==============================] - 0s 8ms/step - loss: 2.0318e-04 - val_loss: 0.2332\n",
      "Epoch 11/100\n",
      "54/54 [==============================] - 0s 8ms/step - loss: 1.8864e-04 - val_loss: 0.2121\n",
      "Epoch 12/100\n",
      "54/54 [==============================] - 0s 8ms/step - loss: 1.7475e-04 - val_loss: 0.1862\n",
      "Epoch 13/100\n",
      "54/54 [==============================] - 0s 8ms/step - loss: 1.7358e-04 - val_loss: 0.1770\n",
      "Epoch 14/100\n",
      "54/54 [==============================] - 0s 8ms/step - loss: 1.6659e-04 - val_loss: 0.1559\n",
      "Epoch 15/100\n",
      "54/54 [==============================] - 0s 8ms/step - loss: 1.5669e-04 - val_loss: 0.1353\n",
      "Epoch 16/100\n",
      "54/54 [==============================] - 0s 8ms/step - loss: 1.4664e-04 - val_loss: 0.1217\n",
      "Epoch 17/100\n",
      "54/54 [==============================] - 0s 8ms/step - loss: 1.4575e-04 - val_loss: 0.1017\n",
      "Epoch 18/100\n",
      "54/54 [==============================] - 0s 8ms/step - loss: 1.3890e-04 - val_loss: 0.0803\n",
      "Epoch 19/100\n",
      "54/54 [==============================] - 0s 8ms/step - loss: 1.3111e-04 - val_loss: 0.0589\n",
      "Epoch 20/100\n",
      "54/54 [==============================] - 0s 8ms/step - loss: 1.2603e-04 - val_loss: 0.0456\n",
      "Epoch 21/100\n",
      "54/54 [==============================] - 0s 8ms/step - loss: 1.2803e-04 - val_loss: 0.0422\n",
      "Epoch 22/100\n",
      "54/54 [==============================] - 0s 8ms/step - loss: 1.2493e-04 - val_loss: 0.0228\n",
      "Epoch 23/100\n",
      "54/54 [==============================] - 0s 8ms/step - loss: 1.1542e-04 - val_loss: 0.0156\n",
      "Epoch 24/100\n",
      "54/54 [==============================] - 0s 8ms/step - loss: 1.1999e-04 - val_loss: 0.0131\n",
      "Epoch 25/100\n",
      "54/54 [==============================] - 0s 8ms/step - loss: 1.0529e-04 - val_loss: 0.0133\n",
      "Epoch 26/100\n",
      "54/54 [==============================] - 0s 8ms/step - loss: 1.0182e-04 - val_loss: 0.0154\n",
      "Epoch 27/100\n",
      "54/54 [==============================] - 0s 8ms/step - loss: 1.1170e-04 - val_loss: 0.0137\n",
      "Epoch 28/100\n",
      "54/54 [==============================] - 0s 8ms/step - loss: 1.0028e-04 - val_loss: 0.0238\n",
      "Epoch 29/100\n",
      "54/54 [==============================] - 0s 8ms/step - loss: 9.8255e-05 - val_loss: 0.0370\n",
      "Epoch 30/100\n",
      "54/54 [==============================] - 0s 8ms/step - loss: 9.5200e-05 - val_loss: 0.0365\n",
      "Epoch 31/100\n",
      "54/54 [==============================] - 0s 8ms/step - loss: 9.7118e-05 - val_loss: 0.0485\n",
      "Epoch 32/100\n",
      "54/54 [==============================] - 0s 8ms/step - loss: 9.0820e-05 - val_loss: 0.0527\n",
      "Epoch 33/100\n",
      "54/54 [==============================] - 0s 8ms/step - loss: 9.1468e-05 - val_loss: 0.0660\n",
      "Epoch 34/100\n",
      "54/54 [==============================] - 0s 8ms/step - loss: 8.6690e-05 - val_loss: 0.0530\n",
      "Epoch 35/100\n",
      "54/54 [==============================] - 0s 8ms/step - loss: 9.0965e-05 - val_loss: 0.0632\n",
      "Epoch 36/100\n",
      "54/54 [==============================] - 0s 8ms/step - loss: 9.3950e-05 - val_loss: 0.0519\n",
      "Epoch 37/100\n",
      "54/54 [==============================] - 0s 8ms/step - loss: 8.3500e-05 - val_loss: 0.0585\n",
      "Epoch 38/100\n",
      "54/54 [==============================] - 0s 8ms/step - loss: 7.9284e-05 - val_loss: 0.0589\n",
      "Epoch 39/100\n",
      "54/54 [==============================] - 0s 8ms/step - loss: 8.5406e-05 - val_loss: 0.0671\n",
      "Epoch 40/100\n",
      "54/54 [==============================] - 0s 8ms/step - loss: 8.6183e-05 - val_loss: 0.0543\n",
      "Epoch 41/100\n",
      "54/54 [==============================] - 0s 8ms/step - loss: 7.6323e-05 - val_loss: 0.0609\n",
      "Epoch 42/100\n",
      "54/54 [==============================] - 0s 8ms/step - loss: 7.6169e-05 - val_loss: 0.0672\n",
      "Epoch 43/100\n",
      "54/54 [==============================] - 0s 8ms/step - loss: 7.7329e-05 - val_loss: 0.0471\n",
      "Epoch 44/100\n",
      "54/54 [==============================] - 0s 8ms/step - loss: 7.5796e-05 - val_loss: 0.0714\n",
      "Epoch 45/100\n",
      "54/54 [==============================] - 0s 8ms/step - loss: 7.9583e-05 - val_loss: 0.0615\n",
      "Epoch 46/100\n",
      "54/54 [==============================] - 0s 8ms/step - loss: 7.3038e-05 - val_loss: 0.0599\n",
      "Epoch 47/100\n",
      "54/54 [==============================] - 0s 8ms/step - loss: 7.4358e-05 - val_loss: 0.0599\n",
      "Epoch 48/100\n",
      "54/54 [==============================] - 0s 8ms/step - loss: 7.6255e-05 - val_loss: 0.0485\n",
      "Epoch 49/100\n",
      "54/54 [==============================] - 0s 8ms/step - loss: 7.2803e-05 - val_loss: 0.0541\n",
      "Epoch 50/100\n",
      "54/54 [==============================] - 0s 8ms/step - loss: 7.0450e-05 - val_loss: 0.0495\n",
      "Epoch 51/100\n",
      "54/54 [==============================] - 0s 8ms/step - loss: 6.6623e-05 - val_loss: 0.0471\n",
      "Epoch 52/100\n",
      "54/54 [==============================] - 0s 8ms/step - loss: 6.9519e-05 - val_loss: 0.0405\n",
      "Epoch 53/100\n",
      "54/54 [==============================] - 0s 8ms/step - loss: 6.6255e-05 - val_loss: 0.0477\n",
      "Epoch 54/100\n",
      "54/54 [==============================] - 0s 8ms/step - loss: 6.2961e-05 - val_loss: 0.0412\n",
      "Epoch 55/100\n",
      "54/54 [==============================] - 0s 8ms/step - loss: 6.9005e-05 - val_loss: 0.0480\n",
      "Epoch 56/100\n",
      "54/54 [==============================] - 0s 8ms/step - loss: 6.2603e-05 - val_loss: 0.0460\n",
      "Epoch 57/100\n",
      "54/54 [==============================] - 0s 8ms/step - loss: 6.4051e-05 - val_loss: 0.0496\n",
      "Epoch 58/100\n",
      "54/54 [==============================] - 0s 8ms/step - loss: 5.7739e-05 - val_loss: 0.0531\n",
      "Epoch 59/100\n",
      "54/54 [==============================] - 0s 8ms/step - loss: 6.4142e-05 - val_loss: 0.0568\n",
      "Epoch 60/100\n",
      "54/54 [==============================] - 0s 8ms/step - loss: 6.7770e-05 - val_loss: 0.0404\n",
      "Epoch 61/100\n",
      "54/54 [==============================] - 0s 8ms/step - loss: 5.9150e-05 - val_loss: 0.0464\n",
      "Epoch 62/100\n",
      "54/54 [==============================] - 0s 8ms/step - loss: 6.0269e-05 - val_loss: 0.0413\n",
      "Epoch 63/100\n",
      "54/54 [==============================] - 0s 8ms/step - loss: 5.6902e-05 - val_loss: 0.0352\n",
      "Epoch 64/100\n",
      "54/54 [==============================] - 0s 8ms/step - loss: 5.8465e-05 - val_loss: 0.0497\n",
      "Epoch 65/100\n",
      "54/54 [==============================] - 0s 8ms/step - loss: 5.6753e-05 - val_loss: 0.0369\n",
      "Epoch 66/100\n",
      "54/54 [==============================] - 0s 8ms/step - loss: 6.2363e-05 - val_loss: 0.0250\n",
      "Epoch 67/100\n",
      "54/54 [==============================] - 0s 8ms/step - loss: 6.1401e-05 - val_loss: 0.0315\n",
      "Epoch 68/100\n",
      "54/54 [==============================] - 0s 8ms/step - loss: 5.8171e-05 - val_loss: 0.0386\n",
      "Epoch 69/100\n",
      "54/54 [==============================] - 0s 8ms/step - loss: 5.4771e-05 - val_loss: 0.0369\n",
      "Epoch 70/100\n",
      "54/54 [==============================] - 0s 8ms/step - loss: 6.2936e-05 - val_loss: 0.0346\n",
      "Epoch 71/100\n",
      "54/54 [==============================] - 0s 8ms/step - loss: 5.5898e-05 - val_loss: 0.0321\n",
      "Epoch 72/100\n",
      "54/54 [==============================] - 0s 8ms/step - loss: 5.6091e-05 - val_loss: 0.0349\n",
      "Epoch 73/100\n",
      "54/54 [==============================] - 0s 8ms/step - loss: 5.4383e-05 - val_loss: 0.0225\n",
      "Epoch 74/100\n",
      "54/54 [==============================] - 0s 8ms/step - loss: 6.4269e-05 - val_loss: 0.0322\n",
      "Epoch 75/100\n",
      "54/54 [==============================] - 0s 8ms/step - loss: 5.3945e-05 - val_loss: 0.0292\n",
      "Epoch 76/100\n",
      "54/54 [==============================] - 0s 8ms/step - loss: 5.0175e-05 - val_loss: 0.0257\n",
      "Epoch 77/100\n",
      "54/54 [==============================] - 0s 8ms/step - loss: 5.9459e-05 - val_loss: 0.0176\n",
      "Epoch 78/100\n",
      "54/54 [==============================] - 0s 8ms/step - loss: 5.7933e-05 - val_loss: 0.0203\n",
      "Epoch 79/100\n",
      "54/54 [==============================] - 0s 8ms/step - loss: 6.0359e-05 - val_loss: 0.0194\n",
      "Epoch 80/100\n",
      "54/54 [==============================] - 0s 8ms/step - loss: 5.1740e-05 - val_loss: 0.0178\n",
      "Epoch 81/100\n",
      "54/54 [==============================] - 0s 8ms/step - loss: 5.2237e-05 - val_loss: 0.0124\n",
      "Epoch 82/100\n",
      "54/54 [==============================] - 0s 8ms/step - loss: 5.0103e-05 - val_loss: 0.0151\n",
      "Epoch 83/100\n",
      "54/54 [==============================] - 0s 8ms/step - loss: 5.0537e-05 - val_loss: 0.0119\n",
      "Epoch 84/100\n",
      "54/54 [==============================] - 0s 8ms/step - loss: 4.9890e-05 - val_loss: 0.0099\n",
      "Epoch 85/100\n",
      "54/54 [==============================] - 0s 8ms/step - loss: 5.0916e-05 - val_loss: 0.0138\n",
      "Epoch 86/100\n",
      "54/54 [==============================] - 0s 8ms/step - loss: 5.2361e-05 - val_loss: 0.0087\n",
      "Epoch 87/100\n",
      "54/54 [==============================] - 0s 8ms/step - loss: 5.1509e-05 - val_loss: 0.0135\n",
      "Epoch 88/100\n",
      "54/54 [==============================] - 0s 8ms/step - loss: 5.1334e-05 - val_loss: 0.0079\n",
      "Epoch 89/100\n",
      "54/54 [==============================] - 0s 8ms/step - loss: 5.0459e-05 - val_loss: 0.0047\n",
      "Epoch 90/100\n",
      "54/54 [==============================] - 0s 8ms/step - loss: 4.8110e-05 - val_loss: 0.0081\n",
      "Epoch 91/100\n",
      "54/54 [==============================] - 0s 8ms/step - loss: 5.8775e-05 - val_loss: 0.0048\n",
      "Epoch 92/100\n",
      "54/54 [==============================] - 0s 8ms/step - loss: 4.9422e-05 - val_loss: 0.0051\n",
      "Epoch 93/100\n",
      "54/54 [==============================] - 0s 8ms/step - loss: 5.3904e-05 - val_loss: 0.0019\n",
      "Epoch 94/100\n",
      "54/54 [==============================] - 0s 8ms/step - loss: 5.5759e-05 - val_loss: 0.0013\n",
      "Epoch 95/100\n",
      "54/54 [==============================] - 0s 8ms/step - loss: 5.2034e-05 - val_loss: 0.0019\n",
      "Epoch 96/100\n",
      "54/54 [==============================] - 0s 8ms/step - loss: 5.3262e-05 - val_loss: 0.0019\n",
      "Epoch 97/100\n",
      "54/54 [==============================] - 0s 8ms/step - loss: 5.3962e-05 - val_loss: 0.0011\n",
      "Epoch 98/100\n",
      "54/54 [==============================] - 0s 8ms/step - loss: 5.4452e-05 - val_loss: 0.0013\n",
      "Epoch 99/100\n",
      "54/54 [==============================] - 0s 8ms/step - loss: 4.9435e-05 - val_loss: 0.0013\n",
      "Epoch 100/100\n",
      "54/54 [==============================] - 0s 8ms/step - loss: 4.9652e-05 - val_loss: 0.0016\n"
     ]
    }
   ],
   "source": [
    "#If use validation in this part , then leakage as we are using the normalized values of the training set which in this case would include validation set.\n",
    "#Validation set needs to be in a tuple with x , y\n",
    "\n",
    "model.compile(optimizer='adam' , loss = 'mse')\n",
    "\n",
    "history = model.fit(btc_train[0] , btc_train[1] , validation_data = btc_val  , batch_size = 512  , epochs =100 , verbose = 1 )"
   ]
  },
  {
   "cell_type": "code",
   "execution_count": 407,
   "id": "6b6928d5",
   "metadata": {},
   "outputs": [
    {
     "data": {
      "image/png": "[encoded data removed]",
      "text/plain": [
       "<Figure size 432x288 with 1 Axes>"
      ]
     },
     "metadata": {
      "needs_background": "light"
     },
     "output_type": "display_data"
    }
   ],
   "source": [
    "plt.plot(history.history['loss'])\n",
    "plt.plot(history.history['val_loss'])\n",
    "plt.title('model loss')\n",
    "plt.ylabel('loss')\n",
    "plt.xlabel('epoch')\n",
    "plt.yrange=(0, 0.02)\n",
    "plt.legend(['train', 'val'], loc='upper left')\n",
    "plt.ylim([0, 0.02])\n",
    "plt.show()"
   ]
  },
  {
   "cell_type": "markdown",
   "id": "5de2f3a6",
   "metadata": {},
   "source": [
    "<Strong> Testing on the validation data once again , hyper-parameter adjustment. <Strong>"
   ]
  },
  {
   "cell_type": "code",
   "execution_count": 300,
   "id": "ee10ac50",
   "metadata": {},
   "outputs": [],
   "source": [
    "validation_predict = model.predict(btc_val[0])"
   ]
  },
  {
   "cell_type": "code",
   "execution_count": 301,
   "id": "7fcd46c1",
   "metadata": {},
   "outputs": [],
   "source": [
    "validation_predict = scaler.inverse_transform(validation_predict)"
   ]
  },
  {
   "cell_type": "code",
   "execution_count": 302,
   "id": "234e1a29",
   "metadata": {},
   "outputs": [
    {
     "name": "stdout",
     "output_type": "stream",
     "text": [
      "[[10822.215]\n",
      " [10820.856]\n",
      " [10825.687]\n",
      " ...\n",
      " [47066.652]\n",
      " [46938.434]\n",
      " [47092.617]]\n"
     ]
    }
   ],
   "source": [
    "print(validation_predict)"
   ]
  },
  {
   "cell_type": "code",
   "execution_count": 146,
   "id": "b225bbb8",
   "metadata": {},
   "outputs": [
    {
     "data": {
      "text/plain": [
       "array([[10759.79],\n",
       "       [10765.29],\n",
       "       [10766.35],\n",
       "       ...,\n",
       "       [48674.72],\n",
       "       [48866.  ],\n",
       "       [48732.71]])"
      ]
     },
     "execution_count": 146,
     "metadata": {},
     "output_type": "execute_result"
    }
   ],
   "source": [
    "validation_actual = scaler.inverse_transform(btc_val[1])\n",
    "validation_actual"
   ]
  },
  {
   "cell_type": "code",
   "execution_count": 147,
   "id": "dc1e7661",
   "metadata": {},
   "outputs": [
    {
     "data": {
      "text/plain": [
       "451.75807607446956"
      ]
     },
     "execution_count": 147,
     "metadata": {},
     "output_type": "execute_result"
    }
   ],
   "source": [
    "math.sqrt(mean_squared_error(validation_actual , validation_predict))"
   ]
  },
  {
   "cell_type": "markdown",
   "id": "745b0f81",
   "metadata": {},
   "source": [
    "<Strong> Only do this last , once perfected hyper-parameters. <Strong>"
   ]
  },
  {
   "cell_type": "markdown",
   "id": "e709843b",
   "metadata": {},
   "source": [
    "<Strong> Train on both training and validation , then finnaly test on test set. </Strong>"
   ]
  },
  {
   "cell_type": "code",
   "execution_count": 171,
   "id": "26d7cd74",
   "metadata": {},
   "outputs": [],
   "source": [
    "train_and_val = np.concatenate([btc_train[0] , btc_val[0]] )\n",
    "train_and_val_targets = np.concatenate([btc_train[1] , btc_val[1] ])"
   ]
  },
  {
   "cell_type": "code",
   "execution_count": 173,
   "id": "f5d1e5ab",
   "metadata": {
    "scrolled": false
   },
   "outputs": [
    {
     "name": "stdout",
     "output_type": "stream",
     "text": [
      "Epoch 1/100\n",
      "69/69 [==============================] - 1s 8ms/step - loss: 0.0037\n",
      "Epoch 2/100\n",
      "69/69 [==============================] - 0s 7ms/step - loss: 0.0036\n",
      "Epoch 3/100\n",
      "69/69 [==============================] - 0s 7ms/step - loss: 0.0038\n",
      "Epoch 4/100\n",
      "69/69 [==============================] - 0s 7ms/step - loss: 0.0037\n",
      "Epoch 5/100\n",
      "69/69 [==============================] - 0s 7ms/step - loss: 0.0037\n",
      "Epoch 6/100\n",
      "69/69 [==============================] - 0s 7ms/step - loss: 0.0039\n",
      "Epoch 7/100\n",
      "69/69 [==============================] - 0s 7ms/step - loss: 0.0037\n",
      "Epoch 8/100\n",
      "69/69 [==============================] - 0s 7ms/step - loss: 0.0036\n",
      "Epoch 9/100\n",
      "69/69 [==============================] - 0s 7ms/step - loss: 0.0037\n",
      "Epoch 10/100\n",
      "69/69 [==============================] - 0s 7ms/step - loss: 0.0036\n",
      "Epoch 11/100\n",
      "69/69 [==============================] - 0s 7ms/step - loss: 0.0036\n",
      "Epoch 12/100\n",
      "69/69 [==============================] - 0s 7ms/step - loss: 0.0036\n",
      "Epoch 13/100\n",
      "69/69 [==============================] - 0s 7ms/step - loss: 0.0037\n",
      "Epoch 14/100\n",
      "69/69 [==============================] - 0s 7ms/step - loss: 0.0036\n",
      "Epoch 15/100\n",
      "69/69 [==============================] - 0s 7ms/step - loss: 0.0036\n",
      "Epoch 16/100\n",
      "69/69 [==============================] - 0s 7ms/step - loss: 0.0034\n",
      "Epoch 17/100\n",
      "69/69 [==============================] - 0s 7ms/step - loss: 0.0036\n",
      "Epoch 18/100\n",
      "69/69 [==============================] - 1s 7ms/step - loss: 0.0038\n",
      "Epoch 19/100\n",
      "69/69 [==============================] - 1s 7ms/step - loss: 0.0036\n",
      "Epoch 20/100\n",
      "69/69 [==============================] - 0s 7ms/step - loss: 0.0036\n",
      "Epoch 21/100\n",
      "69/69 [==============================] - 0s 7ms/step - loss: 0.0038\n",
      "Epoch 22/100\n",
      "69/69 [==============================] - 1s 7ms/step - loss: 0.0036\n",
      "Epoch 23/100\n",
      "69/69 [==============================] - 0s 7ms/step - loss: 0.0037\n",
      "Epoch 24/100\n",
      "69/69 [==============================] - 0s 7ms/step - loss: 0.0037\n",
      "Epoch 25/100\n",
      "69/69 [==============================] - 0s 7ms/step - loss: 0.0038\n",
      "Epoch 26/100\n",
      "69/69 [==============================] - 0s 7ms/step - loss: 0.0037\n",
      "Epoch 27/100\n",
      "69/69 [==============================] - 0s 7ms/step - loss: 0.0036\n",
      "Epoch 28/100\n",
      "69/69 [==============================] - 0s 7ms/step - loss: 0.0037\n",
      "Epoch 29/100\n",
      "69/69 [==============================] - 0s 7ms/step - loss: 0.0037\n",
      "Epoch 30/100\n",
      "69/69 [==============================] - 0s 7ms/step - loss: 0.0037\n",
      "Epoch 31/100\n",
      "69/69 [==============================] - 0s 7ms/step - loss: 0.0037\n",
      "Epoch 32/100\n",
      "69/69 [==============================] - 0s 7ms/step - loss: 0.0036\n",
      "Epoch 33/100\n",
      "69/69 [==============================] - 0s 7ms/step - loss: 0.0037\n",
      "Epoch 34/100\n",
      "69/69 [==============================] - 0s 7ms/step - loss: 0.0037\n",
      "Epoch 35/100\n",
      "69/69 [==============================] - 0s 7ms/step - loss: 0.0037\n",
      "Epoch 36/100\n",
      "69/69 [==============================] - 0s 7ms/step - loss: 0.0036\n",
      "Epoch 37/100\n",
      "69/69 [==============================] - 0s 7ms/step - loss: 0.0036\n",
      "Epoch 38/100\n",
      "69/69 [==============================] - 0s 7ms/step - loss: 0.0035\n",
      "Epoch 39/100\n",
      "69/69 [==============================] - 0s 7ms/step - loss: 0.0036\n",
      "Epoch 40/100\n",
      "69/69 [==============================] - 0s 7ms/step - loss: 0.0035\n",
      "Epoch 41/100\n",
      "69/69 [==============================] - 0s 7ms/step - loss: 0.0037\n",
      "Epoch 42/100\n",
      "69/69 [==============================] - 0s 7ms/step - loss: 0.0036\n",
      "Epoch 43/100\n",
      "69/69 [==============================] - 1s 7ms/step - loss: 0.0036\n",
      "Epoch 44/100\n",
      "69/69 [==============================] - 0s 7ms/step - loss: 0.0036\n",
      "Epoch 45/100\n",
      "69/69 [==============================] - 1s 7ms/step - loss: 0.0036\n",
      "Epoch 46/100\n",
      "69/69 [==============================] - 1s 7ms/step - loss: 0.0038\n",
      "Epoch 47/100\n",
      "69/69 [==============================] - 0s 7ms/step - loss: 0.0036\n",
      "Epoch 48/100\n",
      "69/69 [==============================] - 0s 7ms/step - loss: 0.0037\n",
      "Epoch 49/100\n",
      "69/69 [==============================] - 0s 7ms/step - loss: 0.0037\n",
      "Epoch 50/100\n",
      "69/69 [==============================] - 0s 7ms/step - loss: 0.0037\n",
      "Epoch 51/100\n",
      "69/69 [==============================] - 0s 7ms/step - loss: 0.0035\n",
      "Epoch 52/100\n",
      "69/69 [==============================] - 0s 7ms/step - loss: 0.0036\n",
      "Epoch 53/100\n",
      "69/69 [==============================] - 0s 7ms/step - loss: 0.0036\n",
      "Epoch 54/100\n",
      "69/69 [==============================] - 0s 7ms/step - loss: 0.0035\n",
      "Epoch 55/100\n",
      "69/69 [==============================] - 0s 7ms/step - loss: 0.0036\n",
      "Epoch 56/100\n",
      "69/69 [==============================] - 0s 7ms/step - loss: 0.0036\n",
      "Epoch 57/100\n",
      "69/69 [==============================] - 1s 10ms/step - loss: 0.0036\n",
      "Epoch 58/100\n",
      "69/69 [==============================] - 0s 7ms/step - loss: 0.0039\n",
      "Epoch 59/100\n",
      "69/69 [==============================] - 0s 7ms/step - loss: 0.0036\n",
      "Epoch 60/100\n",
      "69/69 [==============================] - 0s 7ms/step - loss: 0.0037\n",
      "Epoch 61/100\n",
      "69/69 [==============================] - 0s 7ms/step - loss: 0.0036\n",
      "Epoch 62/100\n",
      "69/69 [==============================] - 1s 7ms/step - loss: 0.0035\n",
      "Epoch 63/100\n",
      "69/69 [==============================] - 0s 7ms/step - loss: 0.0036\n",
      "Epoch 64/100\n",
      "69/69 [==============================] - 0s 7ms/step - loss: 0.0036\n",
      "Epoch 65/100\n",
      "69/69 [==============================] - 0s 7ms/step - loss: 0.0037\n",
      "Epoch 66/100\n",
      "69/69 [==============================] - 0s 7ms/step - loss: 0.0037\n",
      "Epoch 67/100\n",
      "69/69 [==============================] - 0s 7ms/step - loss: 0.0035\n",
      "Epoch 68/100\n",
      "69/69 [==============================] - 0s 7ms/step - loss: 0.0039\n",
      "Epoch 69/100\n",
      "69/69 [==============================] - 0s 7ms/step - loss: 0.0036\n",
      "Epoch 70/100\n",
      "69/69 [==============================] - 0s 7ms/step - loss: 0.0036\n",
      "Epoch 71/100\n",
      "69/69 [==============================] - 0s 7ms/step - loss: 0.0037\n",
      "Epoch 72/100\n",
      "69/69 [==============================] - 0s 7ms/step - loss: 0.0035\n",
      "Epoch 73/100\n",
      "69/69 [==============================] - 0s 7ms/step - loss: 0.0036\n",
      "Epoch 74/100\n",
      "69/69 [==============================] - 0s 7ms/step - loss: 0.0035\n",
      "Epoch 75/100\n",
      "69/69 [==============================] - 0s 7ms/step - loss: 0.0036\n",
      "Epoch 76/100\n",
      "69/69 [==============================] - 0s 7ms/step - loss: 0.0035\n",
      "Epoch 77/100\n",
      "69/69 [==============================] - 0s 7ms/step - loss: 0.0036\n",
      "Epoch 78/100\n",
      "69/69 [==============================] - 0s 7ms/step - loss: 0.0035\n",
      "Epoch 79/100\n",
      "69/69 [==============================] - 0s 7ms/step - loss: 0.0036\n",
      "Epoch 80/100\n",
      "69/69 [==============================] - 0s 7ms/step - loss: 0.0035\n",
      "Epoch 81/100\n",
      "69/69 [==============================] - 0s 7ms/step - loss: 0.0035\n",
      "Epoch 82/100\n",
      "69/69 [==============================] - 0s 7ms/step - loss: 0.0036\n",
      "Epoch 83/100\n",
      "69/69 [==============================] - 0s 7ms/step - loss: 0.0038\n",
      "Epoch 84/100\n",
      "69/69 [==============================] - 0s 7ms/step - loss: 0.0036\n",
      "Epoch 85/100\n",
      "69/69 [==============================] - 0s 7ms/step - loss: 0.0038\n",
      "Epoch 86/100\n",
      "69/69 [==============================] - 0s 7ms/step - loss: 0.0037\n",
      "Epoch 87/100\n",
      "69/69 [==============================] - 0s 7ms/step - loss: 0.0034\n",
      "Epoch 88/100\n",
      "69/69 [==============================] - 0s 7ms/step - loss: 0.0036\n",
      "Epoch 89/100\n",
      "69/69 [==============================] - 0s 7ms/step - loss: 0.0037\n",
      "Epoch 90/100\n",
      "69/69 [==============================] - 0s 7ms/step - loss: 0.0035\n",
      "Epoch 91/100\n",
      "69/69 [==============================] - 0s 7ms/step - loss: 0.0037\n",
      "Epoch 92/100\n",
      "69/69 [==============================] - 0s 7ms/step - loss: 0.0037\n",
      "Epoch 93/100\n",
      "69/69 [==============================] - 0s 7ms/step - loss: 0.0036\n",
      "Epoch 94/100\n",
      "69/69 [==============================] - 0s 7ms/step - loss: 0.0038\n",
      "Epoch 95/100\n",
      "69/69 [==============================] - 0s 7ms/step - loss: 0.0036\n",
      "Epoch 96/100\n",
      "69/69 [==============================] - 0s 7ms/step - loss: 0.0037\n",
      "Epoch 97/100\n",
      "69/69 [==============================] - 0s 7ms/step - loss: 0.0035\n",
      "Epoch 98/100\n",
      "69/69 [==============================] - 0s 7ms/step - loss: 0.0036\n",
      "Epoch 99/100\n",
      "69/69 [==============================] - 0s 7ms/step - loss: 0.0036\n",
      "Epoch 100/100\n",
      "69/69 [==============================] - 0s 7ms/step - loss: 0.0037\n"
     ]
    }
   ],
   "source": [
    "final = model.fit(train_and_val , train_and_val_targets , batch_size = 512  , epochs =100 , verbose = 1 )"
   ]
  },
  {
   "cell_type": "code",
   "execution_count": 3,
   "id": "db196183",
   "metadata": {},
   "outputs": [],
   "source": [
    "es = EarlyStopping(patience = 50 , monitor='val_loss' , verbose = 1 , mode='min')"
   ]
  },
  {
   "cell_type": "code",
   "execution_count": null,
   "id": "2b1273fd",
   "metadata": {},
   "outputs": [],
   "source": [
    "test_predict = model.predict(btc_test[0])"
   ]
  },
  {
   "cell_type": "code",
   "execution_count": 50,
   "id": "e6448c71",
   "metadata": {},
   "outputs": [],
   "source": [
    "#Scalling back to the original values \n",
    "test_predict = scaler.inverse_transform(test_predict)\n",
    "test_actual = scaler.inverse_transform(btc_test[1])"
   ]
  },
  {
   "cell_type": "code",
   "execution_count": 51,
   "id": "9ab2e832",
   "metadata": {},
   "outputs": [
    {
     "data": {
      "text/plain": [
       "1501.7589646880276"
      ]
     },
     "execution_count": 51,
     "metadata": {},
     "output_type": "execute_result"
    }
   ],
   "source": [
    "math.sqrt(mean_squared_error(test_actual , test_predict)) "
   ]
  },
  {
   "cell_type": "code",
   "execution_count": null,
   "id": "18d47936",
   "metadata": {},
   "outputs": [],
   "source": []
  }
 ],
 "metadata": {
  "kernelspec": {
   "display_name": "Python 3 (ipykernel)",
   "language": "python",
   "name": "python3"
  },
  "language_info": {
   "codemirror_mode": {
    "name": "ipython",
    "version": 3
   },
   "file_extension": ".py",
   "mimetype": "text/x-python",
   "name": "python",
   "nbconvert_exporter": "python",
   "pygments_lexer": "ipython3",
   "version": "3.7.0"
  }
 },
 "nbformat": 4,
 "nbformat_minor": 5
}
