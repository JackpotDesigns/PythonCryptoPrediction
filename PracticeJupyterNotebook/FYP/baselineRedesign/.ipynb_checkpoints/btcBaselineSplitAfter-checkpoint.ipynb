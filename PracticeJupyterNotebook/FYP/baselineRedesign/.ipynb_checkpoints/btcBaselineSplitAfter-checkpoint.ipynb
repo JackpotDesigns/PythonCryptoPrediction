{
 "cells": [
  {
   "cell_type": "code",
   "execution_count": 149,
   "id": "56f0a547",
   "metadata": {},
   "outputs": [],
   "source": [
    "import pandas as pd\n",
    "import numpy as np\n",
    "import tensorflow as tf\n",
    "from tensorflow.keras.utils import plot_model\n",
    "from matplotlib import pyplot as plt\n",
    "from tensorflow.keras.models import Sequential \n",
    "from tensorflow.keras import layers\n",
    "from tensorflow.keras.optimizers import RMSprop\n",
    "import os\n",
    "from sklearn.preprocessing import MinMaxScaler\n",
    "from sklearn.metrics import mean_squared_error\n",
    "from tensorflow.keras.preprocessing.sequence import TimeseriesGenerator\n",
    "from tensorflow.keras.layers import LSTM , Dense , Dropout , GRU , Concatenate , Input , Conv1D , InputLayer\n",
    "from tensorflow.keras import models\n",
    "import math"
   ]
  },
  {
   "cell_type": "markdown",
   "id": "947652df",
   "metadata": {},
   "source": [
    "<Strong> Grabbing the data from stored files (originally pulled from Binance) </Strong>"
   ]
  },
  {
   "cell_type": "code",
   "execution_count": 150,
   "id": "1fe63049",
   "metadata": {},
   "outputs": [],
   "source": [
    "df_btc = pd.read_csv(\"../../../cryptoData/BTC_1h_data.csv\")"
   ]
  },
  {
   "cell_type": "code",
   "execution_count": 151,
   "id": "63c93ce3",
   "metadata": {},
   "outputs": [
    {
     "data": {
      "text/html": [
       "<div>\n",
       "<style scoped>\n",
       "    .dataframe tbody tr th:only-of-type {\n",
       "        vertical-align: middle;\n",
       "    }\n",
       "\n",
       "    .dataframe tbody tr th {\n",
       "        vertical-align: top;\n",
       "    }\n",
       "\n",
       "    .dataframe thead th {\n",
       "        text-align: right;\n",
       "    }\n",
       "</style>\n",
       "<table border=\"1\" class=\"dataframe\">\n",
       "  <thead>\n",
       "    <tr style=\"text-align: right;\">\n",
       "      <th></th>\n",
       "      <th>date</th>\n",
       "      <th>open</th>\n",
       "      <th>high</th>\n",
       "      <th>low</th>\n",
       "      <th>close</th>\n",
       "      <th>volume</th>\n",
       "    </tr>\n",
       "  </thead>\n",
       "  <tbody>\n",
       "    <tr>\n",
       "      <th>0</th>\n",
       "      <td>2017-08-17 04:00:00.000</td>\n",
       "      <td>4261.48</td>\n",
       "      <td>4313.62</td>\n",
       "      <td>4261.32</td>\n",
       "      <td>4308.83</td>\n",
       "      <td>47.181009</td>\n",
       "    </tr>\n",
       "    <tr>\n",
       "      <th>1</th>\n",
       "      <td>2017-08-17 05:00:00.000</td>\n",
       "      <td>4308.83</td>\n",
       "      <td>4328.69</td>\n",
       "      <td>4291.37</td>\n",
       "      <td>4315.32</td>\n",
       "      <td>23.234916</td>\n",
       "    </tr>\n",
       "    <tr>\n",
       "      <th>2</th>\n",
       "      <td>2017-08-17 06:00:00.000</td>\n",
       "      <td>4330.29</td>\n",
       "      <td>4345.45</td>\n",
       "      <td>4309.37</td>\n",
       "      <td>4324.35</td>\n",
       "      <td>7.229691</td>\n",
       "    </tr>\n",
       "    <tr>\n",
       "      <th>3</th>\n",
       "      <td>2017-08-17 07:00:00.000</td>\n",
       "      <td>4316.62</td>\n",
       "      <td>4349.99</td>\n",
       "      <td>4287.41</td>\n",
       "      <td>4349.99</td>\n",
       "      <td>4.443249</td>\n",
       "    </tr>\n",
       "    <tr>\n",
       "      <th>4</th>\n",
       "      <td>2017-08-17 08:00:00.000</td>\n",
       "      <td>4333.32</td>\n",
       "      <td>4377.85</td>\n",
       "      <td>4333.32</td>\n",
       "      <td>4360.69</td>\n",
       "      <td>0.972807</td>\n",
       "    </tr>\n",
       "    <tr>\n",
       "      <th>...</th>\n",
       "      <td>...</td>\n",
       "      <td>...</td>\n",
       "      <td>...</td>\n",
       "      <td>...</td>\n",
       "      <td>...</td>\n",
       "      <td>...</td>\n",
       "    </tr>\n",
       "    <tr>\n",
       "      <th>39216</th>\n",
       "      <td>2022-02-11 10:00:00</td>\n",
       "      <td>43492.63</td>\n",
       "      <td>43569.67</td>\n",
       "      <td>43233.67</td>\n",
       "      <td>43443.77</td>\n",
       "      <td>1305.626920</td>\n",
       "    </tr>\n",
       "    <tr>\n",
       "      <th>39217</th>\n",
       "      <td>2022-02-11 11:00:00</td>\n",
       "      <td>43443.78</td>\n",
       "      <td>43523.42</td>\n",
       "      <td>43320.00</td>\n",
       "      <td>43357.53</td>\n",
       "      <td>744.524180</td>\n",
       "    </tr>\n",
       "    <tr>\n",
       "      <th>39218</th>\n",
       "      <td>2022-02-11 12:00:00</td>\n",
       "      <td>43357.53</td>\n",
       "      <td>43700.78</td>\n",
       "      <td>43253.31</td>\n",
       "      <td>43570.77</td>\n",
       "      <td>1317.546940</td>\n",
       "    </tr>\n",
       "    <tr>\n",
       "      <th>39219</th>\n",
       "      <td>2022-02-11 13:00:00</td>\n",
       "      <td>43570.77</td>\n",
       "      <td>43826.00</td>\n",
       "      <td>43503.01</td>\n",
       "      <td>43765.14</td>\n",
       "      <td>1564.251800</td>\n",
       "    </tr>\n",
       "    <tr>\n",
       "      <th>39220</th>\n",
       "      <td>2022-02-11 14:00:00</td>\n",
       "      <td>43765.15</td>\n",
       "      <td>43814.17</td>\n",
       "      <td>43450.01</td>\n",
       "      <td>43534.54</td>\n",
       "      <td>880.790640</td>\n",
       "    </tr>\n",
       "  </tbody>\n",
       "</table>\n",
       "<p>39221 rows × 6 columns</p>\n",
       "</div>"
      ],
      "text/plain": [
       "                          date      open      high       low     close  \\\n",
       "0      2017-08-17 04:00:00.000   4261.48   4313.62   4261.32   4308.83   \n",
       "1      2017-08-17 05:00:00.000   4308.83   4328.69   4291.37   4315.32   \n",
       "2      2017-08-17 06:00:00.000   4330.29   4345.45   4309.37   4324.35   \n",
       "3      2017-08-17 07:00:00.000   4316.62   4349.99   4287.41   4349.99   \n",
       "4      2017-08-17 08:00:00.000   4333.32   4377.85   4333.32   4360.69   \n",
       "...                        ...       ...       ...       ...       ...   \n",
       "39216      2022-02-11 10:00:00  43492.63  43569.67  43233.67  43443.77   \n",
       "39217      2022-02-11 11:00:00  43443.78  43523.42  43320.00  43357.53   \n",
       "39218      2022-02-11 12:00:00  43357.53  43700.78  43253.31  43570.77   \n",
       "39219      2022-02-11 13:00:00  43570.77  43826.00  43503.01  43765.14   \n",
       "39220      2022-02-11 14:00:00  43765.15  43814.17  43450.01  43534.54   \n",
       "\n",
       "            volume  \n",
       "0        47.181009  \n",
       "1        23.234916  \n",
       "2         7.229691  \n",
       "3         4.443249  \n",
       "4         0.972807  \n",
       "...            ...  \n",
       "39216  1305.626920  \n",
       "39217   744.524180  \n",
       "39218  1317.546940  \n",
       "39219  1564.251800  \n",
       "39220   880.790640  \n",
       "\n",
       "[39221 rows x 6 columns]"
      ]
     },
     "execution_count": 151,
     "metadata": {},
     "output_type": "execute_result"
    }
   ],
   "source": [
    "df_btc"
   ]
  },
  {
   "cell_type": "code",
   "execution_count": 152,
   "id": "9bde6969",
   "metadata": {},
   "outputs": [],
   "source": [
    "df_headers = df_btc.columns"
   ]
  },
  {
   "cell_type": "markdown",
   "id": "c68634f1",
   "metadata": {},
   "source": [
    "<Strong> Grabbing the closing price (univariate) </Strong>"
   ]
  },
  {
   "cell_type": "code",
   "execution_count": 153,
   "id": "512d2ff6",
   "metadata": {},
   "outputs": [
    {
     "data": {
      "text/plain": [
       "43534.54"
      ]
     },
     "execution_count": 153,
     "metadata": {},
     "output_type": "execute_result"
    }
   ],
   "source": [
    "# Removing everything but the closing price\n",
    "btc_data = df_btc.values[:, 4 ,].astype(float)\n",
    "\n",
    "btc_data[-1]"
   ]
  },
  {
   "cell_type": "markdown",
   "id": "0ff079aa",
   "metadata": {},
   "source": [
    "<Strong> Scaling the data  </Strong>"
   ]
  },
  {
   "cell_type": "code",
   "execution_count": 154,
   "id": "d604e42f",
   "metadata": {},
   "outputs": [],
   "source": [
    "percTrain = 70\n",
    "percVal = 20 "
   ]
  },
  {
   "cell_type": "code",
   "execution_count": 155,
   "id": "81b6f812",
   "metadata": {},
   "outputs": [],
   "source": [
    "scaler = MinMaxScaler()\n",
    "    \n",
    "onePercent = len(btc_data) // 100\n",
    "numberTraining = onePercent * percTrain\n",
    "\n",
    "reshaped_data = btc_data.reshape(-1,1)\n",
    "\n",
    "#Just scaling on training data otherwise it would be leakage\n",
    "scaler.fit(reshaped_data[:numberTraining])\n",
    "scaled_btc = scaler.transform(reshaped_data)"
   ]
  },
  {
   "cell_type": "markdown",
   "id": "2a6a4ccd",
   "metadata": {},
   "source": [
    "<Strong> Creating Matrix in Sliding window form <Strong>"
   ]
  },
  {
   "cell_type": "code",
   "execution_count": 156,
   "id": "ddf6b3da",
   "metadata": {},
   "outputs": [],
   "source": [
    "def sliding_window(elements, window_size):\n",
    "    \n",
    "    data = [] \n",
    "    targets = []\n",
    "    \n",
    "    if len(elements) <= window_size:\n",
    "        return elements\n",
    "    \n",
    "    for i in range(len(elements) - window_size ):\n",
    "        \n",
    "        data.append(elements[i:i+window_size])\n",
    "        targets.append(elements[i+window_size])\n",
    "        \n",
    "    return np.array(data) , np.array(targets)"
   ]
  },
  {
   "cell_type": "code",
   "execution_count": 157,
   "id": "71ddaa81",
   "metadata": {},
   "outputs": [],
   "source": [
    "window_length = 24\n",
    "features = 1\n",
    "\n",
    "sliding_winda_btc = sliding_window(scaled_btc , window_length)"
   ]
  },
  {
   "cell_type": "markdown",
   "id": "82fef525",
   "metadata": {},
   "source": [
    "<Strong> Splitting the data after we create Sliding Window matrix (more data) </Strong>"
   ]
  },
  {
   "cell_type": "code",
   "execution_count": 158,
   "id": "1731b98f",
   "metadata": {},
   "outputs": [],
   "source": [
    "# Splitting the data after creating the sliding window data\n",
    "def splitting_train_test(data):\n",
    "        \n",
    "    onePercent = len(data[1]) // 100\n",
    "    \n",
    "    numberTraining = onePercent * percTrain\n",
    "    numberValidation = onePercent * percVal\n",
    "    \n",
    "    trainingData = data[0][:numberTraining] , data[1][:numberTraining]\n",
    "    validationData = data[0][numberTraining : numberTraining + numberValidation] , data[1][numberTraining : numberTraining + numberValidation]\n",
    "    testData = data[0][numberTraining + numberValidation:] , data[1][numberTraining + numberValidation:] \n",
    "    \n",
    "    #Returning tuples of (sliding-window , target_values)\n",
    "    return trainingData , validationData , testData"
   ]
  },
  {
   "cell_type": "code",
   "execution_count": 159,
   "id": "05f85f5e",
   "metadata": {},
   "outputs": [
    {
     "name": "stdout",
     "output_type": "stream",
     "text": [
      "(27370, 24, 1)\n"
     ]
    }
   ],
   "source": [
    "#Reshaping the data so we can use min-max a\n",
    "btc_train , btc_val , btc_test = splitting_train_test(sliding_winda_btc)\n",
    "\n",
    "print(btc_train[0].shape)"
   ]
  },
  {
   "cell_type": "markdown",
   "id": "c9a800f1",
   "metadata": {},
   "source": [
    "<Strong> Creating the model </Strong>"
   ]
  },
  {
   "cell_type": "markdown",
   "id": "f743d90a",
   "metadata": {},
   "source": [
    "<Strong> Dropout / Desnse layers <Strong>"
   ]
  },
  {
   "cell_type": "code",
   "execution_count": 160,
   "id": "844b2b39",
   "metadata": {},
   "outputs": [],
   "source": [
    "inputs = Input(shape = (window_length , features) )\n",
    "\n",
    "#From deep learning in python -- better to use recurrent dropout so error propergates correctly\n",
    "x = LSTM(30 , return_sequences = True)(inputs)\n",
    "x = Dropout(0.2)(x) \n",
    "x = LSTM(50)(x)\n",
    "x = Dropout(0.2)(x) \n",
    "x = Dense(16)(x)\n",
    "\n",
    "y = GRU(30 , input_shape=(window_length , features))(inputs)\n",
    "y = Dropout(0.5)(y)\n",
    "y = Dense(16)(y)\n",
    "\n",
    "final = Concatenate()([x,y])\n",
    "final = Dense(1)(final)\n",
    "\n",
    "model = tf.keras.Model(inputs=inputs, outputs= final)"
   ]
  },
  {
   "cell_type": "code",
   "execution_count": 161,
   "id": "5cbad829",
   "metadata": {},
   "outputs": [
    {
     "name": "stdout",
     "output_type": "stream",
     "text": [
      "Model: \"model_4\"\n",
      "__________________________________________________________________________________________________\n",
      " Layer (type)                   Output Shape         Param #     Connected to                     \n",
      "==================================================================================================\n",
      " input_5 (InputLayer)           [(None, 24, 1)]      0           []                               \n",
      "                                                                                                  \n",
      " lstm_8 (LSTM)                  (None, 24, 30)       3840        ['input_5[0][0]']                \n",
      "                                                                                                  \n",
      " dropout_6 (Dropout)            (None, 24, 30)       0           ['lstm_8[0][0]']                 \n",
      "                                                                                                  \n",
      " lstm_9 (LSTM)                  (None, 50)           16200       ['dropout_6[0][0]']              \n",
      "                                                                                                  \n",
      " gru_4 (GRU)                    (None, 30)           2970        ['input_5[0][0]']                \n",
      "                                                                                                  \n",
      " dropout_7 (Dropout)            (None, 50)           0           ['lstm_9[0][0]']                 \n",
      "                                                                                                  \n",
      " dropout_8 (Dropout)            (None, 30)           0           ['gru_4[0][0]']                  \n",
      "                                                                                                  \n",
      " dense_12 (Dense)               (None, 16)           816         ['dropout_7[0][0]']              \n",
      "                                                                                                  \n",
      " dense_13 (Dense)               (None, 16)           496         ['dropout_8[0][0]']              \n",
      "                                                                                                  \n",
      " concatenate_4 (Concatenate)    (None, 32)           0           ['dense_12[0][0]',               \n",
      "                                                                  'dense_13[0][0]']               \n",
      "                                                                                                  \n",
      " dense_14 (Dense)               (None, 1)            33          ['concatenate_4[0][0]']          \n",
      "                                                                                                  \n",
      "==================================================================================================\n",
      "Total params: 24,355\n",
      "Trainable params: 24,355\n",
      "Non-trainable params: 0\n",
      "__________________________________________________________________________________________________\n"
     ]
    },
    {
     "data": {
      "image/png": "[encoded data removed]",
      "text/plain": [
       "<IPython.core.display.Image object>"
      ]
     },
     "execution_count": 161,
     "metadata": {},
     "output_type": "execute_result"
    }
   ],
   "source": [
    "model.summary()\n",
    "plot_model(model)"
   ]
  },
  {
   "cell_type": "code",
   "execution_count": 162,
   "id": "924e1f60",
   "metadata": {},
   "outputs": [
    {
     "name": "stdout",
     "output_type": "stream",
     "text": [
      "Epoch 1/100\n",
      "54/54 [==============================] - 5s 26ms/step - loss: 0.0140 - val_loss: 0.2020\n",
      "Epoch 2/100\n",
      "54/54 [==============================] - 0s 9ms/step - loss: 0.0016 - val_loss: 0.2483\n",
      "Epoch 3/100\n",
      "54/54 [==============================] - 0s 9ms/step - loss: 0.0011 - val_loss: 0.2180\n",
      "Epoch 4/100\n",
      "54/54 [==============================] - 0s 9ms/step - loss: 8.9587e-04 - val_loss: 0.1926\n",
      "Epoch 5/100\n",
      "54/54 [==============================] - 0s 9ms/step - loss: 7.7397e-04 - val_loss: 0.2039\n",
      "Epoch 6/100\n",
      "54/54 [==============================] - 0s 9ms/step - loss: 6.7748e-04 - val_loss: 0.2171\n",
      "Epoch 7/100\n",
      "54/54 [==============================] - 0s 9ms/step - loss: 6.0609e-04 - val_loss: 0.1944\n",
      "Epoch 8/100\n",
      "54/54 [==============================] - 0s 9ms/step - loss: 5.4380e-04 - val_loss: 0.2046\n",
      "Epoch 9/100\n",
      "54/54 [==============================] - 0s 9ms/step - loss: 4.9826e-04 - val_loss: 0.1578\n",
      "Epoch 10/100\n",
      "54/54 [==============================] - 0s 9ms/step - loss: 4.5496e-04 - val_loss: 0.1442\n",
      "Epoch 11/100\n",
      "54/54 [==============================] - 0s 9ms/step - loss: 4.2602e-04 - val_loss: 0.1369\n",
      "Epoch 12/100\n",
      "54/54 [==============================] - 0s 8ms/step - loss: 4.0563e-04 - val_loss: 0.1535\n",
      "Epoch 13/100\n",
      "54/54 [==============================] - 0s 9ms/step - loss: 3.7068e-04 - val_loss: 0.1242\n",
      "Epoch 14/100\n",
      "54/54 [==============================] - 0s 9ms/step - loss: 3.4010e-04 - val_loss: 0.1178\n",
      "Epoch 15/100\n",
      "54/54 [==============================] - 0s 8ms/step - loss: 3.2869e-04 - val_loss: 0.1003\n",
      "Epoch 16/100\n",
      "54/54 [==============================] - 0s 9ms/step - loss: 3.0916e-04 - val_loss: 0.1167\n",
      "Epoch 17/100\n",
      "54/54 [==============================] - 0s 8ms/step - loss: 3.0476e-04 - val_loss: 0.0634\n",
      "Epoch 18/100\n",
      "54/54 [==============================] - 0s 8ms/step - loss: 2.8909e-04 - val_loss: 0.0897\n",
      "Epoch 19/100\n",
      "54/54 [==============================] - 0s 8ms/step - loss: 2.7638e-04 - val_loss: 0.0747\n",
      "Epoch 20/100\n",
      "54/54 [==============================] - 0s 9ms/step - loss: 2.6984e-04 - val_loss: 0.0421\n",
      "Epoch 21/100\n",
      "54/54 [==============================] - 0s 9ms/step - loss: 2.5977e-04 - val_loss: 0.0385\n",
      "Epoch 22/100\n",
      "54/54 [==============================] - 1s 12ms/step - loss: 2.6361e-04 - val_loss: 0.0510\n",
      "Epoch 23/100\n",
      "54/54 [==============================] - 0s 9ms/step - loss: 2.4650e-04 - val_loss: 0.0597\n",
      "Epoch 24/100\n",
      "54/54 [==============================] - 0s 9ms/step - loss: 2.4152e-04 - val_loss: 0.0330\n",
      "Epoch 25/100\n",
      "54/54 [==============================] - 0s 8ms/step - loss: 2.3836e-04 - val_loss: 0.0352\n",
      "Epoch 26/100\n",
      "54/54 [==============================] - 0s 9ms/step - loss: 2.3976e-04 - val_loss: 0.0337\n",
      "Epoch 27/100\n",
      "54/54 [==============================] - 0s 9ms/step - loss: 2.3725e-04 - val_loss: 0.0204\n",
      "Epoch 28/100\n",
      "54/54 [==============================] - 0s 9ms/step - loss: 2.2823e-04 - val_loss: 0.0124\n",
      "Epoch 29/100\n",
      "54/54 [==============================] - 0s 9ms/step - loss: 2.3032e-04 - val_loss: 0.0178\n",
      "Epoch 30/100\n",
      "54/54 [==============================] - 0s 9ms/step - loss: 2.2985e-04 - val_loss: 0.0059\n",
      "Epoch 31/100\n",
      "54/54 [==============================] - 0s 9ms/step - loss: 2.2692e-04 - val_loss: 0.0033\n",
      "Epoch 32/100\n",
      "54/54 [==============================] - 0s 9ms/step - loss: 2.2245e-04 - val_loss: 0.0020\n",
      "Epoch 33/100\n",
      "54/54 [==============================] - 0s 9ms/step - loss: 2.1909e-04 - val_loss: 0.0017\n",
      "Epoch 34/100\n",
      "54/54 [==============================] - 0s 8ms/step - loss: 2.1888e-04 - val_loss: 0.0028\n",
      "Epoch 35/100\n",
      "54/54 [==============================] - 0s 9ms/step - loss: 2.2259e-04 - val_loss: 0.0080\n",
      "Epoch 36/100\n",
      "54/54 [==============================] - 0s 9ms/step - loss: 2.2801e-04 - val_loss: 0.0031\n",
      "Epoch 37/100\n",
      "54/54 [==============================] - 0s 9ms/step - loss: 2.2122e-04 - val_loss: 0.0022\n",
      "Epoch 38/100\n",
      "54/54 [==============================] - 0s 9ms/step - loss: 2.0828e-04 - val_loss: 0.0026\n",
      "Epoch 39/100\n",
      "54/54 [==============================] - 0s 9ms/step - loss: 2.0769e-04 - val_loss: 0.0062\n",
      "Epoch 40/100\n",
      "54/54 [==============================] - 0s 9ms/step - loss: 2.0446e-04 - val_loss: 0.0038\n",
      "Epoch 41/100\n",
      "54/54 [==============================] - 0s 9ms/step - loss: 2.1284e-04 - val_loss: 0.0030\n",
      "Epoch 42/100\n",
      "54/54 [==============================] - 0s 9ms/step - loss: 2.0899e-04 - val_loss: 0.0016\n",
      "Epoch 43/100\n",
      "54/54 [==============================] - 0s 9ms/step - loss: 2.0706e-04 - val_loss: 0.0028\n",
      "Epoch 44/100\n",
      "54/54 [==============================] - 0s 9ms/step - loss: 2.0503e-04 - val_loss: 0.0034\n",
      "Epoch 45/100\n",
      "54/54 [==============================] - 0s 9ms/step - loss: 2.0328e-04 - val_loss: 0.0027\n",
      "Epoch 46/100\n",
      "54/54 [==============================] - 0s 9ms/step - loss: 1.9863e-04 - val_loss: 0.0033\n",
      "Epoch 47/100\n",
      "54/54 [==============================] - 0s 9ms/step - loss: 1.9831e-04 - val_loss: 0.0019\n",
      "Epoch 48/100\n",
      "54/54 [==============================] - 0s 9ms/step - loss: 2.1378e-04 - val_loss: 0.0078\n",
      "Epoch 49/100\n",
      "54/54 [==============================] - 0s 9ms/step - loss: 1.9543e-04 - val_loss: 0.0021\n",
      "Epoch 50/100\n",
      "54/54 [==============================] - 0s 9ms/step - loss: 1.9424e-04 - val_loss: 0.0208\n",
      "Epoch 51/100\n",
      "54/54 [==============================] - 0s 8ms/step - loss: 1.9745e-04 - val_loss: 0.0021\n",
      "Epoch 52/100\n",
      "54/54 [==============================] - 0s 9ms/step - loss: 1.9470e-04 - val_loss: 0.0052\n",
      "Epoch 53/100\n",
      "54/54 [==============================] - 0s 8ms/step - loss: 1.8842e-04 - val_loss: 0.0013\n",
      "Epoch 54/100\n",
      "54/54 [==============================] - 0s 9ms/step - loss: 1.8992e-04 - val_loss: 0.0023\n",
      "Epoch 55/100\n",
      "54/54 [==============================] - 0s 8ms/step - loss: 1.8594e-04 - val_loss: 0.0076\n",
      "Epoch 56/100\n",
      "54/54 [==============================] - 0s 8ms/step - loss: 2.0023e-04 - val_loss: 0.0035\n",
      "Epoch 57/100\n",
      "54/54 [==============================] - 0s 8ms/step - loss: 1.8845e-04 - val_loss: 0.0010\n",
      "Epoch 58/100\n",
      "54/54 [==============================] - 0s 9ms/step - loss: 1.8543e-04 - val_loss: 0.0064\n",
      "Epoch 59/100\n",
      "54/54 [==============================] - 0s 8ms/step - loss: 1.8875e-04 - val_loss: 0.0028\n",
      "Epoch 60/100\n",
      "54/54 [==============================] - 0s 8ms/step - loss: 1.8668e-04 - val_loss: 0.0043\n",
      "Epoch 61/100\n",
      "54/54 [==============================] - 0s 8ms/step - loss: 1.7945e-04 - val_loss: 0.0066\n",
      "Epoch 62/100\n",
      "54/54 [==============================] - 0s 8ms/step - loss: 1.7648e-04 - val_loss: 0.0039\n",
      "Epoch 63/100\n",
      "54/54 [==============================] - 0s 8ms/step - loss: 1.9693e-04 - val_loss: 8.3361e-04\n",
      "Epoch 64/100\n",
      "54/54 [==============================] - 0s 8ms/step - loss: 1.9483e-04 - val_loss: 0.0047\n",
      "Epoch 65/100\n",
      "54/54 [==============================] - 0s 8ms/step - loss: 1.7895e-04 - val_loss: 0.0036\n",
      "Epoch 66/100\n",
      "54/54 [==============================] - 0s 9ms/step - loss: 1.8070e-04 - val_loss: 0.0030\n",
      "Epoch 67/100\n",
      "54/54 [==============================] - 0s 9ms/step - loss: 1.7916e-04 - val_loss: 9.2849e-04\n",
      "Epoch 68/100\n",
      "54/54 [==============================] - 0s 9ms/step - loss: 1.8219e-04 - val_loss: 0.0044\n",
      "Epoch 69/100\n",
      "54/54 [==============================] - 0s 8ms/step - loss: 1.8451e-04 - val_loss: 0.0016\n",
      "Epoch 70/100\n",
      "54/54 [==============================] - 0s 9ms/step - loss: 1.8300e-04 - val_loss: 0.0012\n",
      "Epoch 71/100\n",
      "54/54 [==============================] - 0s 8ms/step - loss: 1.8457e-04 - val_loss: 7.8706e-04\n",
      "Epoch 72/100\n",
      "54/54 [==============================] - 0s 9ms/step - loss: 1.7914e-04 - val_loss: 0.0021\n",
      "Epoch 73/100\n",
      "54/54 [==============================] - 0s 9ms/step - loss: 1.7580e-04 - val_loss: 0.0014\n",
      "Epoch 74/100\n",
      "54/54 [==============================] - 0s 9ms/step - loss: 1.7931e-04 - val_loss: 0.0017\n",
      "Epoch 75/100\n",
      "54/54 [==============================] - 0s 8ms/step - loss: 1.7056e-04 - val_loss: 0.0020\n",
      "Epoch 76/100\n",
      "54/54 [==============================] - 0s 9ms/step - loss: 1.7405e-04 - val_loss: 0.0045\n",
      "Epoch 77/100\n",
      "54/54 [==============================] - 0s 8ms/step - loss: 1.8185e-04 - val_loss: 7.7534e-04\n",
      "Epoch 78/100\n",
      "54/54 [==============================] - 0s 8ms/step - loss: 1.7899e-04 - val_loss: 0.0013\n",
      "Epoch 79/100\n",
      "54/54 [==============================] - 0s 9ms/step - loss: 1.7032e-04 - val_loss: 0.0017\n",
      "Epoch 80/100\n",
      "54/54 [==============================] - 0s 8ms/step - loss: 1.7601e-04 - val_loss: 0.0015\n",
      "Epoch 81/100\n",
      "54/54 [==============================] - 0s 9ms/step - loss: 1.8051e-04 - val_loss: 0.0027\n",
      "Epoch 82/100\n",
      "54/54 [==============================] - 0s 8ms/step - loss: 1.7896e-04 - val_loss: 0.0013\n",
      "Epoch 83/100\n",
      "54/54 [==============================] - 0s 8ms/step - loss: 1.7445e-04 - val_loss: 0.0066\n",
      "Epoch 84/100\n",
      "54/54 [==============================] - 0s 9ms/step - loss: 1.7493e-04 - val_loss: 7.6334e-04\n",
      "Epoch 85/100\n",
      "54/54 [==============================] - 0s 8ms/step - loss: 1.7305e-04 - val_loss: 0.0059\n",
      "Epoch 86/100\n",
      "54/54 [==============================] - 0s 8ms/step - loss: 1.7163e-04 - val_loss: 0.0038\n",
      "Epoch 87/100\n",
      "54/54 [==============================] - 0s 8ms/step - loss: 1.7795e-04 - val_loss: 0.0029\n",
      "Epoch 88/100\n",
      "54/54 [==============================] - 0s 9ms/step - loss: 1.9130e-04 - val_loss: 7.0620e-04\n",
      "Epoch 89/100\n",
      "54/54 [==============================] - 0s 9ms/step - loss: 1.7834e-04 - val_loss: 0.0036\n",
      "Epoch 90/100\n",
      "54/54 [==============================] - 0s 8ms/step - loss: 1.7705e-04 - val_loss: 0.0103\n",
      "Epoch 91/100\n",
      "54/54 [==============================] - 0s 8ms/step - loss: 1.7226e-04 - val_loss: 0.0080\n",
      "Epoch 92/100\n",
      "54/54 [==============================] - 0s 8ms/step - loss: 1.8265e-04 - val_loss: 0.0028\n",
      "Epoch 93/100\n",
      "54/54 [==============================] - 0s 9ms/step - loss: 1.6991e-04 - val_loss: 0.0054\n",
      "Epoch 94/100\n",
      "54/54 [==============================] - 0s 8ms/step - loss: 1.8123e-04 - val_loss: 0.0042\n",
      "Epoch 95/100\n",
      "54/54 [==============================] - 0s 9ms/step - loss: 1.7823e-04 - val_loss: 6.7255e-04\n",
      "Epoch 96/100\n",
      "54/54 [==============================] - 0s 9ms/step - loss: 1.7984e-04 - val_loss: 0.0060\n",
      "Epoch 97/100\n",
      "54/54 [==============================] - 0s 9ms/step - loss: 1.7551e-04 - val_loss: 0.0113\n",
      "Epoch 98/100\n",
      "54/54 [==============================] - 0s 9ms/step - loss: 1.7523e-04 - val_loss: 0.0040\n",
      "Epoch 99/100\n",
      "54/54 [==============================] - 0s 8ms/step - loss: 1.7007e-04 - val_loss: 0.0090\n",
      "Epoch 100/100\n",
      "54/54 [==============================] - 0s 9ms/step - loss: 1.6979e-04 - val_loss: 0.0023\n"
     ]
    }
   ],
   "source": [
    "#If use validation in this part , then leakage as we are using the normalized values of the training set which in this case would include validation set.\n",
    "#Validation set needs to be in a tuple with x , y\n",
    "\n",
    "model.compile(optimizer='adam' , loss = 'mse')\n",
    "\n",
    "history = model.fit(btc_train[0] , btc_train[1] , validation_data = btc_val  , batch_size = 512  , epochs =100 , verbose = 1 )"
   ]
  },
  {
   "cell_type": "code",
   "execution_count": 163,
   "id": "6b6928d5",
   "metadata": {},
   "outputs": [
    {
     "data": {
      "image/png": "[encoded data removed]",
      "text/plain": [
       "<Figure size 432x288 with 1 Axes>"
      ]
     },
     "metadata": {
      "needs_background": "light"
     },
     "output_type": "display_data"
    }
   ],
   "source": [
    "plt.plot(history.history['loss'])\n",
    "plt.plot(history.history['val_loss'])\n",
    "plt.title('model loss')\n",
    "plt.ylabel('loss')\n",
    "plt.xlabel('epoch')\n",
    "plt.legend(['train', 'val'], loc='upper left')\n",
    "plt.show()"
   ]
  },
  {
   "cell_type": "markdown",
   "id": "5de2f3a6",
   "metadata": {},
   "source": [
    "<Strong> Testing on the validation data once again , hyper-parameter adjustment. <Strong>"
   ]
  },
  {
   "cell_type": "code",
   "execution_count": 164,
   "id": "ee10ac50",
   "metadata": {},
   "outputs": [],
   "source": [
    "validation_predict = model.predict(btc_val[0])"
   ]
  },
  {
   "cell_type": "code",
   "execution_count": 165,
   "id": "7fcd46c1",
   "metadata": {},
   "outputs": [],
   "source": [
    "validation_predict = scaler.inverse_transform(validation_predict)"
   ]
  },
  {
   "cell_type": "code",
   "execution_count": 166,
   "id": "234e1a29",
   "metadata": {},
   "outputs": [
    {
     "name": "stdout",
     "output_type": "stream",
     "text": [
      "[[10820.414]\n",
      " [10819.165]\n",
      " [10822.856]\n",
      " ...\n",
      " [47920.938]\n",
      " [47783.246]\n",
      " [47876.48 ]]\n"
     ]
    }
   ],
   "source": [
    "print(validation_predict)"
   ]
  },
  {
   "cell_type": "code",
   "execution_count": 168,
   "id": "b225bbb8",
   "metadata": {},
   "outputs": [
    {
     "data": {
      "text/plain": [
       "array([[10759.79],\n",
       "       [10765.29],\n",
       "       [10766.35],\n",
       "       ...,\n",
       "       [48674.72],\n",
       "       [48866.  ],\n",
       "       [48732.71]])"
      ]
     },
     "execution_count": 168,
     "metadata": {},
     "output_type": "execute_result"
    }
   ],
   "source": [
    "validation_actual = scaler.inverse_transform(btc_val[1])\n",
    "validation_actual"
   ]
  },
  {
   "cell_type": "code",
   "execution_count": 169,
   "id": "dc1e7661",
   "metadata": {},
   "outputs": [
    {
     "data": {
      "text/plain": [
       "798.352662935126"
      ]
     },
     "execution_count": 169,
     "metadata": {},
     "output_type": "execute_result"
    }
   ],
   "source": [
    "math.sqrt(mean_squared_error(validation_actual , validation_predict))"
   ]
  },
  {
   "cell_type": "markdown",
   "id": "745b0f81",
   "metadata": {},
   "source": [
    "<Strong> Only do this last , once perfected hyper-parameters. <Strong>"
   ]
  },
  {
   "cell_type": "markdown",
   "id": "e709843b",
   "metadata": {},
   "source": [
    "<Strong> Train on both training and validation , then finnaly test on test set. </Strong>"
   ]
  },
  {
   "cell_type": "code",
   "execution_count": 171,
   "id": "26d7cd74",
   "metadata": {},
   "outputs": [],
   "source": [
    "train_and_val = np.concatenate([btc_train[0] , btc_val[0]] )\n",
    "train_and_val_targets = np.concatenate([btc_train[1] , btc_val[1] ])"
   ]
  },
  {
   "cell_type": "code",
   "execution_count": 173,
   "id": "f5d1e5ab",
   "metadata": {
    "scrolled": false
   },
   "outputs": [
    {
     "name": "stdout",
     "output_type": "stream",
     "text": [
      "Epoch 1/100\n",
      "69/69 [==============================] - 1s 8ms/step - loss: 0.0037\n",
      "Epoch 2/100\n",
      "69/69 [==============================] - 0s 7ms/step - loss: 0.0036\n",
      "Epoch 3/100\n",
      "69/69 [==============================] - 0s 7ms/step - loss: 0.0038\n",
      "Epoch 4/100\n",
      "69/69 [==============================] - 0s 7ms/step - loss: 0.0037\n",
      "Epoch 5/100\n",
      "69/69 [==============================] - 0s 7ms/step - loss: 0.0037\n",
      "Epoch 6/100\n",
      "69/69 [==============================] - 0s 7ms/step - loss: 0.0039\n",
      "Epoch 7/100\n",
      "69/69 [==============================] - 0s 7ms/step - loss: 0.0037\n",
      "Epoch 8/100\n",
      "69/69 [==============================] - 0s 7ms/step - loss: 0.0036\n",
      "Epoch 9/100\n",
      "69/69 [==============================] - 0s 7ms/step - loss: 0.0037\n",
      "Epoch 10/100\n",
      "69/69 [==============================] - 0s 7ms/step - loss: 0.0036\n",
      "Epoch 11/100\n",
      "69/69 [==============================] - 0s 7ms/step - loss: 0.0036\n",
      "Epoch 12/100\n",
      "69/69 [==============================] - 0s 7ms/step - loss: 0.0036\n",
      "Epoch 13/100\n",
      "69/69 [==============================] - 0s 7ms/step - loss: 0.0037\n",
      "Epoch 14/100\n",
      "69/69 [==============================] - 0s 7ms/step - loss: 0.0036\n",
      "Epoch 15/100\n",
      "69/69 [==============================] - 0s 7ms/step - loss: 0.0036\n",
      "Epoch 16/100\n",
      "69/69 [==============================] - 0s 7ms/step - loss: 0.0034\n",
      "Epoch 17/100\n",
      "69/69 [==============================] - 0s 7ms/step - loss: 0.0036\n",
      "Epoch 18/100\n",
      "69/69 [==============================] - 1s 7ms/step - loss: 0.0038\n",
      "Epoch 19/100\n",
      "69/69 [==============================] - 1s 7ms/step - loss: 0.0036\n",
      "Epoch 20/100\n",
      "69/69 [==============================] - 0s 7ms/step - loss: 0.0036\n",
      "Epoch 21/100\n",
      "69/69 [==============================] - 0s 7ms/step - loss: 0.0038\n",
      "Epoch 22/100\n",
      "69/69 [==============================] - 1s 7ms/step - loss: 0.0036\n",
      "Epoch 23/100\n",
      "69/69 [==============================] - 0s 7ms/step - loss: 0.0037\n",
      "Epoch 24/100\n",
      "69/69 [==============================] - 0s 7ms/step - loss: 0.0037\n",
      "Epoch 25/100\n",
      "69/69 [==============================] - 0s 7ms/step - loss: 0.0038\n",
      "Epoch 26/100\n",
      "69/69 [==============================] - 0s 7ms/step - loss: 0.0037\n",
      "Epoch 27/100\n",
      "69/69 [==============================] - 0s 7ms/step - loss: 0.0036\n",
      "Epoch 28/100\n",
      "69/69 [==============================] - 0s 7ms/step - loss: 0.0037\n",
      "Epoch 29/100\n",
      "69/69 [==============================] - 0s 7ms/step - loss: 0.0037\n",
      "Epoch 30/100\n",
      "69/69 [==============================] - 0s 7ms/step - loss: 0.0037\n",
      "Epoch 31/100\n",
      "69/69 [==============================] - 0s 7ms/step - loss: 0.0037\n",
      "Epoch 32/100\n",
      "69/69 [==============================] - 0s 7ms/step - loss: 0.0036\n",
      "Epoch 33/100\n",
      "69/69 [==============================] - 0s 7ms/step - loss: 0.0037\n",
      "Epoch 34/100\n",
      "69/69 [==============================] - 0s 7ms/step - loss: 0.0037\n",
      "Epoch 35/100\n",
      "69/69 [==============================] - 0s 7ms/step - loss: 0.0037\n",
      "Epoch 36/100\n",
      "69/69 [==============================] - 0s 7ms/step - loss: 0.0036\n",
      "Epoch 37/100\n",
      "69/69 [==============================] - 0s 7ms/step - loss: 0.0036\n",
      "Epoch 38/100\n",
      "69/69 [==============================] - 0s 7ms/step - loss: 0.0035\n",
      "Epoch 39/100\n",
      "69/69 [==============================] - 0s 7ms/step - loss: 0.0036\n",
      "Epoch 40/100\n",
      "69/69 [==============================] - 0s 7ms/step - loss: 0.0035\n",
      "Epoch 41/100\n",
      "69/69 [==============================] - 0s 7ms/step - loss: 0.0037\n",
      "Epoch 42/100\n",
      "69/69 [==============================] - 0s 7ms/step - loss: 0.0036\n",
      "Epoch 43/100\n",
      "69/69 [==============================] - 1s 7ms/step - loss: 0.0036\n",
      "Epoch 44/100\n",
      "69/69 [==============================] - 0s 7ms/step - loss: 0.0036\n",
      "Epoch 45/100\n",
      "69/69 [==============================] - 1s 7ms/step - loss: 0.0036\n",
      "Epoch 46/100\n",
      "69/69 [==============================] - 1s 7ms/step - loss: 0.0038\n",
      "Epoch 47/100\n",
      "69/69 [==============================] - 0s 7ms/step - loss: 0.0036\n",
      "Epoch 48/100\n",
      "69/69 [==============================] - 0s 7ms/step - loss: 0.0037\n",
      "Epoch 49/100\n",
      "69/69 [==============================] - 0s 7ms/step - loss: 0.0037\n",
      "Epoch 50/100\n",
      "69/69 [==============================] - 0s 7ms/step - loss: 0.0037\n",
      "Epoch 51/100\n",
      "69/69 [==============================] - 0s 7ms/step - loss: 0.0035\n",
      "Epoch 52/100\n",
      "69/69 [==============================] - 0s 7ms/step - loss: 0.0036\n",
      "Epoch 53/100\n",
      "69/69 [==============================] - 0s 7ms/step - loss: 0.0036\n",
      "Epoch 54/100\n",
      "69/69 [==============================] - 0s 7ms/step - loss: 0.0035\n",
      "Epoch 55/100\n",
      "69/69 [==============================] - 0s 7ms/step - loss: 0.0036\n",
      "Epoch 56/100\n",
      "69/69 [==============================] - 0s 7ms/step - loss: 0.0036\n",
      "Epoch 57/100\n",
      "69/69 [==============================] - 1s 10ms/step - loss: 0.0036\n",
      "Epoch 58/100\n",
      "69/69 [==============================] - 0s 7ms/step - loss: 0.0039\n",
      "Epoch 59/100\n",
      "69/69 [==============================] - 0s 7ms/step - loss: 0.0036\n",
      "Epoch 60/100\n",
      "69/69 [==============================] - 0s 7ms/step - loss: 0.0037\n",
      "Epoch 61/100\n",
      "69/69 [==============================] - 0s 7ms/step - loss: 0.0036\n",
      "Epoch 62/100\n",
      "69/69 [==============================] - 1s 7ms/step - loss: 0.0035\n",
      "Epoch 63/100\n",
      "69/69 [==============================] - 0s 7ms/step - loss: 0.0036\n",
      "Epoch 64/100\n",
      "69/69 [==============================] - 0s 7ms/step - loss: 0.0036\n",
      "Epoch 65/100\n",
      "69/69 [==============================] - 0s 7ms/step - loss: 0.0037\n",
      "Epoch 66/100\n",
      "69/69 [==============================] - 0s 7ms/step - loss: 0.0037\n",
      "Epoch 67/100\n",
      "69/69 [==============================] - 0s 7ms/step - loss: 0.0035\n",
      "Epoch 68/100\n",
      "69/69 [==============================] - 0s 7ms/step - loss: 0.0039\n",
      "Epoch 69/100\n",
      "69/69 [==============================] - 0s 7ms/step - loss: 0.0036\n",
      "Epoch 70/100\n",
      "69/69 [==============================] - 0s 7ms/step - loss: 0.0036\n",
      "Epoch 71/100\n",
      "69/69 [==============================] - 0s 7ms/step - loss: 0.0037\n",
      "Epoch 72/100\n",
      "69/69 [==============================] - 0s 7ms/step - loss: 0.0035\n",
      "Epoch 73/100\n",
      "69/69 [==============================] - 0s 7ms/step - loss: 0.0036\n",
      "Epoch 74/100\n",
      "69/69 [==============================] - 0s 7ms/step - loss: 0.0035\n",
      "Epoch 75/100\n",
      "69/69 [==============================] - 0s 7ms/step - loss: 0.0036\n",
      "Epoch 76/100\n",
      "69/69 [==============================] - 0s 7ms/step - loss: 0.0035\n",
      "Epoch 77/100\n",
      "69/69 [==============================] - 0s 7ms/step - loss: 0.0036\n",
      "Epoch 78/100\n",
      "69/69 [==============================] - 0s 7ms/step - loss: 0.0035\n",
      "Epoch 79/100\n",
      "69/69 [==============================] - 0s 7ms/step - loss: 0.0036\n",
      "Epoch 80/100\n",
      "69/69 [==============================] - 0s 7ms/step - loss: 0.0035\n",
      "Epoch 81/100\n",
      "69/69 [==============================] - 0s 7ms/step - loss: 0.0035\n",
      "Epoch 82/100\n",
      "69/69 [==============================] - 0s 7ms/step - loss: 0.0036\n",
      "Epoch 83/100\n",
      "69/69 [==============================] - 0s 7ms/step - loss: 0.0038\n",
      "Epoch 84/100\n",
      "69/69 [==============================] - 0s 7ms/step - loss: 0.0036\n",
      "Epoch 85/100\n",
      "69/69 [==============================] - 0s 7ms/step - loss: 0.0038\n",
      "Epoch 86/100\n",
      "69/69 [==============================] - 0s 7ms/step - loss: 0.0037\n",
      "Epoch 87/100\n",
      "69/69 [==============================] - 0s 7ms/step - loss: 0.0034\n",
      "Epoch 88/100\n",
      "69/69 [==============================] - 0s 7ms/step - loss: 0.0036\n",
      "Epoch 89/100\n",
      "69/69 [==============================] - 0s 7ms/step - loss: 0.0037\n",
      "Epoch 90/100\n",
      "69/69 [==============================] - 0s 7ms/step - loss: 0.0035\n",
      "Epoch 91/100\n",
      "69/69 [==============================] - 0s 7ms/step - loss: 0.0037\n",
      "Epoch 92/100\n",
      "69/69 [==============================] - 0s 7ms/step - loss: 0.0037\n",
      "Epoch 93/100\n",
      "69/69 [==============================] - 0s 7ms/step - loss: 0.0036\n",
      "Epoch 94/100\n",
      "69/69 [==============================] - 0s 7ms/step - loss: 0.0038\n",
      "Epoch 95/100\n",
      "69/69 [==============================] - 0s 7ms/step - loss: 0.0036\n",
      "Epoch 96/100\n",
      "69/69 [==============================] - 0s 7ms/step - loss: 0.0037\n",
      "Epoch 97/100\n",
      "69/69 [==============================] - 0s 7ms/step - loss: 0.0035\n",
      "Epoch 98/100\n",
      "69/69 [==============================] - 0s 7ms/step - loss: 0.0036\n",
      "Epoch 99/100\n",
      "69/69 [==============================] - 0s 7ms/step - loss: 0.0036\n",
      "Epoch 100/100\n",
      "69/69 [==============================] - 0s 7ms/step - loss: 0.0037\n"
     ]
    }
   ],
   "source": [
    "final = model.fit(train_and_val , train_and_val_targets , batch_size = 512  , epochs =100 , verbose = 1 )"
   ]
  },
  {
   "cell_type": "code",
   "execution_count": null,
   "id": "2b1273fd",
   "metadata": {},
   "outputs": [],
   "source": [
    "test_predict = model.predict(btc_test[0])"
   ]
  },
  {
   "cell_type": "code",
   "execution_count": 50,
   "id": "e6448c71",
   "metadata": {},
   "outputs": [],
   "source": [
    "#Scalling back to the original values \n",
    "test_predict = scaler.inverse_transform(test_predict)\n",
    "test_actual = scaler.inverse_transform(btc_test[1])"
   ]
  },
  {
   "cell_type": "code",
   "execution_count": 51,
   "id": "9ab2e832",
   "metadata": {},
   "outputs": [
    {
     "data": {
      "text/plain": [
       "1501.7589646880276"
      ]
     },
     "execution_count": 51,
     "metadata": {},
     "output_type": "execute_result"
    }
   ],
   "source": [
    "math.sqrt(mean_squared_error(test_actual , test_predict))"
   ]
  }
 ],
 "metadata": {
  "kernelspec": {
   "display_name": "Python 3 (ipykernel)",
   "language": "python",
   "name": "python3"
  },
  "language_info": {
   "codemirror_mode": {
    "name": "ipython",
    "version": 3
   },
   "file_extension": ".py",
   "mimetype": "text/x-python",
   "name": "python",
   "nbconvert_exporter": "python",
   "pygments_lexer": "ipython3",
   "version": "3.7.0"
  }
 },
 "nbformat": 4,
 "nbformat_minor": 5
}
