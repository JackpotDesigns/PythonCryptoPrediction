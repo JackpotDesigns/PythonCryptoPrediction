{
 "cells": [
  {
   "cell_type": "code",
   "execution_count": 188,
   "id": "6c5d76ab",
   "metadata": {},
   "outputs": [],
   "source": [
    "import pandas as pd\n",
    "import numpy as np\n",
    "from matplotlib import pyplot as plt\n",
    "import os"
   ]
  },
  {
   "cell_type": "code",
   "execution_count": 189,
   "id": "793840f4",
   "metadata": {},
   "outputs": [],
   "source": [
    "df = pd.read_csv(\"../../cryptoData/XRP_15m_data.csv\")"
   ]
  },
  {
   "cell_type": "code",
   "execution_count": 190,
   "id": "bc0cf7d7",
   "metadata": {},
   "outputs": [
    {
     "data": {
      "text/html": [
       "<div>\n",
       "<style scoped>\n",
       "    .dataframe tbody tr th:only-of-type {\n",
       "        vertical-align: middle;\n",
       "    }\n",
       "\n",
       "    .dataframe tbody tr th {\n",
       "        vertical-align: top;\n",
       "    }\n",
       "\n",
       "    .dataframe thead th {\n",
       "        text-align: right;\n",
       "    }\n",
       "</style>\n",
       "<table border=\"1\" class=\"dataframe\">\n",
       "  <thead>\n",
       "    <tr style=\"text-align: right;\">\n",
       "      <th></th>\n",
       "      <th>date</th>\n",
       "      <th>open</th>\n",
       "      <th>high</th>\n",
       "      <th>low</th>\n",
       "      <th>close</th>\n",
       "      <th>volume</th>\n",
       "    </tr>\n",
       "  </thead>\n",
       "  <tbody>\n",
       "    <tr>\n",
       "      <th>0</th>\n",
       "      <td>2018-05-04 08:00:00</td>\n",
       "      <td>0.50000</td>\n",
       "      <td>1.50000</td>\n",
       "      <td>0.50000</td>\n",
       "      <td>0.92999</td>\n",
       "      <td>454626.05</td>\n",
       "    </tr>\n",
       "    <tr>\n",
       "      <th>1</th>\n",
       "      <td>2018-05-04 08:15:00</td>\n",
       "      <td>0.92999</td>\n",
       "      <td>0.95001</td>\n",
       "      <td>0.90800</td>\n",
       "      <td>0.91809</td>\n",
       "      <td>1840797.36</td>\n",
       "    </tr>\n",
       "    <tr>\n",
       "      <th>2</th>\n",
       "      <td>2018-05-04 08:30:00</td>\n",
       "      <td>0.91809</td>\n",
       "      <td>0.93505</td>\n",
       "      <td>0.90190</td>\n",
       "      <td>0.93500</td>\n",
       "      <td>1412154.54</td>\n",
       "    </tr>\n",
       "    <tr>\n",
       "      <th>3</th>\n",
       "      <td>2018-05-04 08:45:00</td>\n",
       "      <td>0.93180</td>\n",
       "      <td>0.93600</td>\n",
       "      <td>0.91600</td>\n",
       "      <td>0.92300</td>\n",
       "      <td>1383279.38</td>\n",
       "    </tr>\n",
       "    <tr>\n",
       "      <th>4</th>\n",
       "      <td>2018-05-04 09:00:00</td>\n",
       "      <td>0.92300</td>\n",
       "      <td>0.92850</td>\n",
       "      <td>0.91111</td>\n",
       "      <td>0.92300</td>\n",
       "      <td>974622.16</td>\n",
       "    </tr>\n",
       "    <tr>\n",
       "      <th>...</th>\n",
       "      <td>...</td>\n",
       "      <td>...</td>\n",
       "      <td>...</td>\n",
       "      <td>...</td>\n",
       "      <td>...</td>\n",
       "      <td>...</td>\n",
       "    </tr>\n",
       "    <tr>\n",
       "      <th>130684</th>\n",
       "      <td>2022-01-28 14:45:00</td>\n",
       "      <td>0.59670</td>\n",
       "      <td>0.59800</td>\n",
       "      <td>0.59560</td>\n",
       "      <td>0.59760</td>\n",
       "      <td>2413516.00</td>\n",
       "    </tr>\n",
       "    <tr>\n",
       "      <th>130685</th>\n",
       "      <td>2022-01-28 15:00:00</td>\n",
       "      <td>0.59750</td>\n",
       "      <td>0.60190</td>\n",
       "      <td>0.59600</td>\n",
       "      <td>0.60060</td>\n",
       "      <td>2872059.00</td>\n",
       "    </tr>\n",
       "    <tr>\n",
       "      <th>130686</th>\n",
       "      <td>2022-01-28 15:15:00</td>\n",
       "      <td>0.60060</td>\n",
       "      <td>0.60190</td>\n",
       "      <td>0.59810</td>\n",
       "      <td>0.59900</td>\n",
       "      <td>3413062.00</td>\n",
       "    </tr>\n",
       "    <tr>\n",
       "      <th>130687</th>\n",
       "      <td>2022-01-28 15:30:00</td>\n",
       "      <td>0.59900</td>\n",
       "      <td>0.60180</td>\n",
       "      <td>0.59730</td>\n",
       "      <td>0.60120</td>\n",
       "      <td>1584064.00</td>\n",
       "    </tr>\n",
       "    <tr>\n",
       "      <th>130688</th>\n",
       "      <td>2022-01-28 15:45:00</td>\n",
       "      <td>0.60120</td>\n",
       "      <td>0.60360</td>\n",
       "      <td>0.60110</td>\n",
       "      <td>0.60270</td>\n",
       "      <td>797147.00</td>\n",
       "    </tr>\n",
       "  </tbody>\n",
       "</table>\n",
       "<p>130689 rows × 6 columns</p>\n",
       "</div>"
      ],
      "text/plain": [
       "                       date     open     high      low    close      volume\n",
       "0       2018-05-04 08:00:00  0.50000  1.50000  0.50000  0.92999   454626.05\n",
       "1       2018-05-04 08:15:00  0.92999  0.95001  0.90800  0.91809  1840797.36\n",
       "2       2018-05-04 08:30:00  0.91809  0.93505  0.90190  0.93500  1412154.54\n",
       "3       2018-05-04 08:45:00  0.93180  0.93600  0.91600  0.92300  1383279.38\n",
       "4       2018-05-04 09:00:00  0.92300  0.92850  0.91111  0.92300   974622.16\n",
       "...                     ...      ...      ...      ...      ...         ...\n",
       "130684  2022-01-28 14:45:00  0.59670  0.59800  0.59560  0.59760  2413516.00\n",
       "130685  2022-01-28 15:00:00  0.59750  0.60190  0.59600  0.60060  2872059.00\n",
       "130686  2022-01-28 15:15:00  0.60060  0.60190  0.59810  0.59900  3413062.00\n",
       "130687  2022-01-28 15:30:00  0.59900  0.60180  0.59730  0.60120  1584064.00\n",
       "130688  2022-01-28 15:45:00  0.60120  0.60360  0.60110  0.60270   797147.00\n",
       "\n",
       "[130689 rows x 6 columns]"
      ]
     },
     "execution_count": 190,
     "metadata": {},
     "output_type": "execute_result"
    }
   ],
   "source": [
    "df"
   ]
  },
  {
   "cell_type": "code",
   "execution_count": 191,
   "id": "1e3cfdd6",
   "metadata": {},
   "outputs": [],
   "source": [
    "df_headers = df.columns"
   ]
  },
  {
   "cell_type": "markdown",
   "id": "990a4a76",
   "metadata": {},
   "source": [
    "<p> Removing the date column </p> "
   ]
  },
  {
   "cell_type": "code",
   "execution_count": 192,
   "id": "a89d93a0",
   "metadata": {},
   "outputs": [
    {
     "name": "stdout",
     "output_type": "stream",
     "text": [
      "[9.05000e-01 9.13200e-01 9.04900e-01 9.10050e-01 1.64551e+05]\n"
     ]
    }
   ],
   "source": [
    "float_data = df.values[:, 1: ,].astype(float)\n",
    "print(float_data[120])"
   ]
  },
  {
   "cell_type": "markdown",
   "id": "353bff44",
   "metadata": {},
   "source": [
    "<Strong> Creating A Plot For Open Prices. </Strong>"
   ]
  },
  {
   "cell_type": "code",
   "execution_count": 193,
   "id": "5f35717e",
   "metadata": {},
   "outputs": [
    {
     "data": {
      "text/plain": [
       "[<matplotlib.lines.Line2D at 0x12326a820>]"
      ]
     },
     "execution_count": 193,
     "metadata": {},
     "output_type": "execute_result"
    },
    {
     "data": {
      "image/png": "[encoded data removed]",
      "text/plain": [
       "<Figure size 432x288 with 1 Axes>"
      ]
     },
     "metadata": {
      "needs_background": "light"
     },
     "output_type": "display_data"
    }
   ],
   "source": [
    "openPrice = float_data[:,1]\n",
    "plt.plot( range ( len (openPrice) ) , openPrice )"
   ]
  },
  {
   "cell_type": "markdown",
   "id": "aeba8420",
   "metadata": {},
   "source": [
    "<Strong> Plot of the first 120 hours on launch on Binance.</Strong>"
   ]
  },
  {
   "cell_type": "code",
   "execution_count": 194,
   "id": "5634c49b",
   "metadata": {},
   "outputs": [
    {
     "data": {
      "text/plain": [
       "[<matplotlib.lines.Line2D at 0x1216c80a0>]"
      ]
     },
     "execution_count": 194,
     "metadata": {},
     "output_type": "execute_result"
    },
    {
     "data": {
      "image/png": "[encoded data removed]",
      "text/plain": [
       "<Figure size 432x288 with 1 Axes>"
      ]
     },
     "metadata": {
      "needs_background": "light"
     },
     "output_type": "display_data"
    }
   ],
   "source": [
    "plt.plot(range(120) , openPrice[:120])"
   ]
  },
  {
   "cell_type": "markdown",
   "id": "f48516ed",
   "metadata": {},
   "source": [
    "<Strong> </Strong>"
   ]
  },
  {
   "cell_type": "markdown",
   "id": "a37726ea",
   "metadata": {},
   "source": [
    "<Strong> Breaking off into Training , Validation and Test sets. <Strong>"
   ]
  },
  {
   "cell_type": "code",
   "execution_count": 195,
   "id": "96b4cff6",
   "metadata": {},
   "outputs": [],
   "source": [
    "array = df.to_numpy()[:,1:]"
   ]
  },
  {
   "cell_type": "code",
   "execution_count": 196,
   "id": "499cfa03",
   "metadata": {},
   "outputs": [],
   "source": [
    "training = array[:91000]\n",
    "validation = array[91000:117000]\n",
    "test = array[117000:]"
   ]
  },
  {
   "cell_type": "markdown",
   "id": "a3394c3a",
   "metadata": {},
   "source": [
    "<Strong> Creating The Prediction and Actual Target Values From Validation Set.</Strong>"
   ]
  },
  {
   "cell_type": "markdown",
   "id": "c322dcfd",
   "metadata": {},
   "source": [
    "<p> \n",
    "We have to move the target numpy array up one , as the result is the prediction for the timeseries (n+1) . Ex(If price is going up today and we predict it will go up tomorrow , result is found out tomorrow).\n",
    "    \n",
    "We have to delete the the first and last index of actual_targets , as this would be the same as shifting the whole array up one. \n",
    "\n",
    "The reason for deleting the last column in validation_prediction is because we cannot get the actual value (tomorrow) for a prediction we made today .\n",
    "</p>"
   ]
  },
  {
   "cell_type": "code",
   "execution_count": 197,
   "id": "4dc8eaa1",
   "metadata": {},
   "outputs": [],
   "source": [
    "#Taking the last one off prediction for ^ reason\n",
    "validation_predictions = (validation[:,0] > validation[:,3])[:-1].astype(int)\n",
    "\n",
    "#Actual targets are the timeslot after , so if \n",
    "validation_targets = (validation[:,0] > validation[:,3])[1:].astype(int)"
   ]
  },
  {
   "cell_type": "code",
   "execution_count": 198,
   "id": "5c15ff93",
   "metadata": {},
   "outputs": [],
   "source": [
    "def naive_method(prediction , targets):\n",
    "    \n",
    "    length = len(prediction)\n",
    "    correct = 0\n",
    "    \n",
    "    for i , pred in enumerate(prediction):\n",
    "        \n",
    "        if pred == targets[i]:\n",
    "            \n",
    "            correct = correct + 1\n",
    "    \n",
    "    print ((correct/length) * 100 )"
   ]
  },
  {
   "cell_type": "code",
   "execution_count": 199,
   "id": "2437fe5c",
   "metadata": {},
   "outputs": [
    {
     "name": "stdout",
     "output_type": "stream",
     "text": [
      "48.686487941843914\n"
     ]
    }
   ],
   "source": [
    "naive_method(validation_predictions, validation_targets)"
   ]
  },
  {
   "cell_type": "markdown",
   "id": "e74b8d46",
   "metadata": {},
   "source": [
    "<p> Out of the 25,999 examples in validation_data , we got a little over 48% correct . This is no good as we could just use a constant class prediction as below that would achieve better results. </p>"
   ]
  },
  {
   "cell_type": "code",
   "execution_count": 212,
   "id": "d2a7cd85",
   "metadata": {},
   "outputs": [
    {
     "name": "stdout",
     "output_type": "stream",
     "text": [
      "Model that predicts price will always go up = 49.282664717873764.\n",
      "Model that predicts price will always go down = 50.71733528212623.\n"
     ]
    }
   ],
   "source": [
    "predict_up = validation_targets == 1 \n",
    "predict_down = validation_targets == 0\n",
    "\n",
    "percent_up = ((predict_up.sum() / len(validation_targets)) * 100)\n",
    "percent_down = ((predict_down.sum()/ len(validation_targets)) * 100)\n",
    "\n",
    "print(\"Model that predicts price will always go up = \" + str(percent_up) + \".\")\n",
    "print(\"Model that predicts price will always go down = \" + str(percent_down) + \".\")"
   ]
  },
  {
   "cell_type": "code",
   "execution_count": null,
   "id": "d50b97fb",
   "metadata": {},
   "outputs": [],
   "source": []
  }
 ],
 "metadata": {
  "kernelspec": {
   "display_name": "Python 3 (ipykernel)",
   "language": "python",
   "name": "python3"
  },
  "language_info": {
   "codemirror_mode": {
    "name": "ipython",
    "version": 3
   },
   "file_extension": ".py",
   "mimetype": "text/x-python",
   "name": "python",
   "nbconvert_exporter": "python",
   "pygments_lexer": "ipython3",
   "version": "3.9.10"
  }
 },
 "nbformat": 4,
 "nbformat_minor": 5
}
