{
 "cells": [
  {
   "cell_type": "code",
   "execution_count": 1,
   "id": "5b90f332",
   "metadata": {},
   "outputs": [],
   "source": [
    "import pandas as pd\n",
    "import numpy as np\n",
    "from matplotlib import pyplot as plt\n",
    "import os"
   ]
  },
  {
   "cell_type": "code",
   "execution_count": 2,
   "id": "2ff06515",
   "metadata": {},
   "outputs": [],
   "source": [
    "df = pd.read_csv(\"../../cryptoData/ETH_15m_data.csv\")"
   ]
  },
  {
   "cell_type": "code",
   "execution_count": 3,
   "id": "033469d3",
   "metadata": {},
   "outputs": [
    {
     "data": {
      "text/html": [
       "<div>\n",
       "<style scoped>\n",
       "    .dataframe tbody tr th:only-of-type {\n",
       "        vertical-align: middle;\n",
       "    }\n",
       "\n",
       "    .dataframe tbody tr th {\n",
       "        vertical-align: top;\n",
       "    }\n",
       "\n",
       "    .dataframe thead th {\n",
       "        text-align: right;\n",
       "    }\n",
       "</style>\n",
       "<table border=\"1\" class=\"dataframe\">\n",
       "  <thead>\n",
       "    <tr style=\"text-align: right;\">\n",
       "      <th></th>\n",
       "      <th>date</th>\n",
       "      <th>open</th>\n",
       "      <th>high</th>\n",
       "      <th>low</th>\n",
       "      <th>close</th>\n",
       "      <th>volume</th>\n",
       "    </tr>\n",
       "  </thead>\n",
       "  <tbody>\n",
       "    <tr>\n",
       "      <th>0</th>\n",
       "      <td>2017-08-17 04:00:00</td>\n",
       "      <td>301.13</td>\n",
       "      <td>301.13</td>\n",
       "      <td>298.00</td>\n",
       "      <td>298.00</td>\n",
       "      <td>5.80167</td>\n",
       "    </tr>\n",
       "    <tr>\n",
       "      <th>1</th>\n",
       "      <td>2017-08-17 04:15:00</td>\n",
       "      <td>298.00</td>\n",
       "      <td>300.80</td>\n",
       "      <td>298.00</td>\n",
       "      <td>299.39</td>\n",
       "      <td>31.44065</td>\n",
       "    </tr>\n",
       "    <tr>\n",
       "      <th>2</th>\n",
       "      <td>2017-08-17 04:30:00</td>\n",
       "      <td>299.39</td>\n",
       "      <td>300.79</td>\n",
       "      <td>299.39</td>\n",
       "      <td>299.60</td>\n",
       "      <td>52.93579</td>\n",
       "    </tr>\n",
       "    <tr>\n",
       "      <th>3</th>\n",
       "      <td>2017-08-17 04:45:00</td>\n",
       "      <td>299.60</td>\n",
       "      <td>302.57</td>\n",
       "      <td>299.60</td>\n",
       "      <td>301.61</td>\n",
       "      <td>35.49066</td>\n",
       "    </tr>\n",
       "    <tr>\n",
       "      <th>4</th>\n",
       "      <td>2017-08-17 05:00:00</td>\n",
       "      <td>301.61</td>\n",
       "      <td>302.57</td>\n",
       "      <td>300.95</td>\n",
       "      <td>302.01</td>\n",
       "      <td>81.69235</td>\n",
       "    </tr>\n",
       "    <tr>\n",
       "      <th>...</th>\n",
       "      <td>...</td>\n",
       "      <td>...</td>\n",
       "      <td>...</td>\n",
       "      <td>...</td>\n",
       "      <td>...</td>\n",
       "      <td>...</td>\n",
       "    </tr>\n",
       "    <tr>\n",
       "      <th>155487</th>\n",
       "      <td>2022-01-28 15:00:00</td>\n",
       "      <td>2395.83</td>\n",
       "      <td>2433.32</td>\n",
       "      <td>2390.00</td>\n",
       "      <td>2428.19</td>\n",
       "      <td>7506.79910</td>\n",
       "    </tr>\n",
       "    <tr>\n",
       "      <th>155488</th>\n",
       "      <td>2022-01-28 15:15:00</td>\n",
       "      <td>2428.19</td>\n",
       "      <td>2440.00</td>\n",
       "      <td>2412.44</td>\n",
       "      <td>2417.46</td>\n",
       "      <td>6967.48990</td>\n",
       "    </tr>\n",
       "    <tr>\n",
       "      <th>155489</th>\n",
       "      <td>2022-01-28 15:30:00</td>\n",
       "      <td>2417.45</td>\n",
       "      <td>2431.03</td>\n",
       "      <td>2407.19</td>\n",
       "      <td>2424.56</td>\n",
       "      <td>4173.46990</td>\n",
       "    </tr>\n",
       "    <tr>\n",
       "      <th>155490</th>\n",
       "      <td>2022-01-28 15:45:00</td>\n",
       "      <td>2424.23</td>\n",
       "      <td>2448.60</td>\n",
       "      <td>2424.19</td>\n",
       "      <td>2442.94</td>\n",
       "      <td>10039.09640</td>\n",
       "    </tr>\n",
       "    <tr>\n",
       "      <th>155491</th>\n",
       "      <td>2022-01-28 16:00:00</td>\n",
       "      <td>2442.94</td>\n",
       "      <td>2445.37</td>\n",
       "      <td>2441.76</td>\n",
       "      <td>2441.83</td>\n",
       "      <td>188.71210</td>\n",
       "    </tr>\n",
       "  </tbody>\n",
       "</table>\n",
       "<p>155492 rows × 6 columns</p>\n",
       "</div>"
      ],
      "text/plain": [
       "                       date     open     high      low    close       volume\n",
       "0       2017-08-17 04:00:00   301.13   301.13   298.00   298.00      5.80167\n",
       "1       2017-08-17 04:15:00   298.00   300.80   298.00   299.39     31.44065\n",
       "2       2017-08-17 04:30:00   299.39   300.79   299.39   299.60     52.93579\n",
       "3       2017-08-17 04:45:00   299.60   302.57   299.60   301.61     35.49066\n",
       "4       2017-08-17 05:00:00   301.61   302.57   300.95   302.01     81.69235\n",
       "...                     ...      ...      ...      ...      ...          ...\n",
       "155487  2022-01-28 15:00:00  2395.83  2433.32  2390.00  2428.19   7506.79910\n",
       "155488  2022-01-28 15:15:00  2428.19  2440.00  2412.44  2417.46   6967.48990\n",
       "155489  2022-01-28 15:30:00  2417.45  2431.03  2407.19  2424.56   4173.46990\n",
       "155490  2022-01-28 15:45:00  2424.23  2448.60  2424.19  2442.94  10039.09640\n",
       "155491  2022-01-28 16:00:00  2442.94  2445.37  2441.76  2441.83    188.71210\n",
       "\n",
       "[155492 rows x 6 columns]"
      ]
     },
     "execution_count": 3,
     "metadata": {},
     "output_type": "execute_result"
    }
   ],
   "source": [
    "df"
   ]
  },
  {
   "cell_type": "code",
   "execution_count": 4,
   "id": "5ac84803",
   "metadata": {},
   "outputs": [],
   "source": [
    "df_headers = df.columns"
   ]
  },
  {
   "cell_type": "markdown",
   "id": "d5e10233",
   "metadata": {},
   "source": [
    "<p> Removing the date column </p> "
   ]
  },
  {
   "cell_type": "code",
   "execution_count": 6,
   "id": "beb8ea2a",
   "metadata": {},
   "outputs": [],
   "source": [
    "float_data = df.values[:, 1: ,].astype(float)"
   ]
  },
  {
   "cell_type": "markdown",
   "id": "3b275309",
   "metadata": {},
   "source": [
    "<Strong> Creating A Plot For Open Prices. </Strong>"
   ]
  },
  {
   "cell_type": "code",
   "execution_count": 8,
   "id": "c3b1a2b1",
   "metadata": {},
   "outputs": [
    {
     "data": {
      "text/plain": [
       "[<matplotlib.lines.Line2D at 0x117790130>]"
      ]
     },
     "execution_count": 8,
     "metadata": {},
     "output_type": "execute_result"
    },
    {
     "data": {
      "image/png": "[encoded data removed]",
      "text/plain": [
       "<Figure size 432x288 with 1 Axes>"
      ]
     },
     "metadata": {
      "needs_background": "light"
     },
     "output_type": "display_data"
    }
   ],
   "source": [
    "openPrice = float_data[:,1]\n",
    "plt.plot( range ( len (openPrice) ) , openPrice )"
   ]
  },
  {
   "cell_type": "markdown",
   "id": "d88efd4a",
   "metadata": {},
   "source": [
    "<Strong> Plot of the first 120 hours on launch on Binance.</Strong>"
   ]
  },
  {
   "cell_type": "code",
   "execution_count": 9,
   "id": "ad4066db",
   "metadata": {},
   "outputs": [
    {
     "data": {
      "text/plain": [
       "[<matplotlib.lines.Line2D at 0x117842280>]"
      ]
     },
     "execution_count": 9,
     "metadata": {},
     "output_type": "execute_result"
    },
    {
     "data": {
      "image/png": "[encoded data removed]",
      "text/plain": [
       "<Figure size 432x288 with 1 Axes>"
      ]
     },
     "metadata": {
      "needs_background": "light"
     },
     "output_type": "display_data"
    }
   ],
   "source": [
    "plt.plot(range(120) , openPrice[:120])"
   ]
  },
  {
   "cell_type": "markdown",
   "id": "6b8f7845",
   "metadata": {},
   "source": [
    "<Strong> Breaking off into Training , Validation and Test sets. <Strong>"
   ]
  },
  {
   "cell_type": "code",
   "execution_count": 13,
   "id": "9aa8eb9b",
   "metadata": {},
   "outputs": [],
   "source": [
    "array = df.to_numpy()[:,1:]"
   ]
  },
  {
   "cell_type": "code",
   "execution_count": 14,
   "id": "4f118183",
   "metadata": {},
   "outputs": [],
   "source": [
    "training = array[:105000]\n",
    "validation = array[105000:135000]\n",
    "test = array[135000:]"
   ]
  },
  {
   "cell_type": "markdown",
   "id": "80afab93",
   "metadata": {},
   "source": [
    "<Strong> Creating The Prediction and Actual Target Values From Validation Set.</Strong>"
   ]
  },
  {
   "cell_type": "markdown",
   "id": "0b927b17",
   "metadata": {},
   "source": [
    "<p> \n",
    "We have to move the target numpy array up one , as the result is the prediction for the timeseries (n+1) . Ex(If price is going up today and we predict it will go up tomorrow , result is found out tomorrow).\n",
    "    \n",
    "We have to delete the the first and last index of actual_targets , as this would be the same as shifting the whole array up one. \n",
    "\n",
    "The reason for deleting the last column in validation_prediction is because we cannot get the actual value (tomorrow) for a prediction we made today .\n",
    "</p>"
   ]
  },
  {
   "cell_type": "code",
   "execution_count": 15,
   "id": "8b31431f",
   "metadata": {},
   "outputs": [],
   "source": [
    "#Taking the last one off prediction for ^ reason\n",
    "validation_predictions = (validation[:,0] > validation[:,3])[:-1].astype(int)\n",
    "\n",
    "#Actual targets are the timeslot after , so if \n",
    "validation_targets = (validation[:,0] > validation[:,3])[1:].astype(int)"
   ]
  },
  {
   "cell_type": "code",
   "execution_count": 16,
   "id": "6a8ad659",
   "metadata": {},
   "outputs": [],
   "source": [
    "def naive_method(prediction , targets):\n",
    "    \n",
    "    length = len(prediction)\n",
    "    correct = 0\n",
    "    \n",
    "    for i , pred in enumerate(prediction):\n",
    "        \n",
    "        if pred == targets[i]:\n",
    "            \n",
    "            correct = correct + 1\n",
    "    \n",
    "    print ( (correct/length) * 100 )"
   ]
  },
  {
   "cell_type": "code",
   "execution_count": 17,
   "id": "7f1bb34b",
   "metadata": {},
   "outputs": [
    {
     "name": "stdout",
     "output_type": "stream",
     "text": [
      "48.21827394246475\n"
     ]
    }
   ],
   "source": [
    "naive_method(validation_predictions, validation_targets)"
   ]
  },
  {
   "cell_type": "markdown",
   "id": "f77a6442",
   "metadata": {},
   "source": [
    "<p> Out of the 29,999 examples in validation_data , we got a little over 48% correct . This is no good as we could just use a constant class prediction as below that would achieve better results. </p>"
   ]
  },
  {
   "cell_type": "code",
   "execution_count": 19,
   "id": "bbb3dafc",
   "metadata": {},
   "outputs": [
    {
     "name": "stdout",
     "output_type": "stream",
     "text": [
      "Model that predicts price will always go up = 49.011633721124035.\n",
      "Model that predicts price will always go down = 50.988366278875965.\n"
     ]
    }
   ],
   "source": [
    "predict_up = validation_targets == 1 \n",
    "predict_down = validation_targets == 0\n",
    "\n",
    "percent_up = ((predict_up.sum() / len(validation_targets)) * 100)\n",
    "percent_down = ((predict_down.sum()/ len(validation_targets)) * 100)\n",
    "\n",
    "print(\"Model that predicts price will always go up = \" + str(percent_up) + \".\")\n",
    "print(\"Model that predicts price will always go down = \" + str(percent_down) + \".\")"
   ]
  },
  {
   "cell_type": "code",
   "execution_count": null,
   "id": "7c66bae4",
   "metadata": {},
   "outputs": [],
   "source": []
  },
  {
   "cell_type": "code",
   "execution_count": null,
   "id": "3f4f72ae",
   "metadata": {},
   "outputs": [],
   "source": []
  }
 ],
 "metadata": {
  "kernelspec": {
   "display_name": "Python 3 (ipykernel)",
   "language": "python",
   "name": "python3"
  },
  "language_info": {
   "codemirror_mode": {
    "name": "ipython",
    "version": 3
   },
   "file_extension": ".py",
   "mimetype": "text/x-python",
   "name": "python",
   "nbconvert_exporter": "python",
   "pygments_lexer": "ipython3",
   "version": "3.9.10"
  }
 },
 "nbformat": 4,
 "nbformat_minor": 5
}
