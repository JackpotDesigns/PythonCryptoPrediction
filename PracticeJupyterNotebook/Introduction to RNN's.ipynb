{
 "cells": [
  {
   "cell_type": "markdown",
   "id": "1497bedd",
   "metadata": {},
   "source": [
    "<Strong> SimpleRNN can be run in two different modes: it can return either the full sequences of successive outputs for each timestep or only the last output for each input sequence  </Strong>"
   ]
  },
  {
   "cell_type": "code",
   "execution_count": 28,
   "id": "96594e40",
   "metadata": {},
   "outputs": [
    {
     "name": "stdout",
     "output_type": "stream",
     "text": [
      "Model: \"sequential_6\"\n",
      "_________________________________________________________________\n",
      " Layer (type)                Output Shape              Param #   \n",
      "=================================================================\n",
      " embedding_4 (Embedding)     (None, 500, 32)           320000    \n",
      "                                                                 \n",
      " simple_rnn_12 (SimpleRNN)   (None, 500, 32)           2080      \n",
      "                                                                 \n",
      " simple_rnn_13 (SimpleRNN)   (None, 500, 32)           2080      \n",
      "                                                                 \n",
      " simple_rnn_14 (SimpleRNN)   (None, 500, 32)           2080      \n",
      "                                                                 \n",
      " simple_rnn_15 (SimpleRNN)   (None, 32)                2080      \n",
      "                                                                 \n",
      "=================================================================\n",
      "Total params: 328,320\n",
      "Trainable params: 328,320\n",
      "Non-trainable params: 0\n",
      "_________________________________________________________________\n"
     ]
    }
   ],
   "source": [
    "from keras.models import Sequential\n",
    "from keras.layers import Embedding, SimpleRNN\n",
    "\n",
    "model = Sequential()\n",
    "model.add(Embedding(10000, 32 , input_length = 500))\n",
    "model.add(SimpleRNN(32, return_sequences=True))\n",
    "model.add(SimpleRNN(32, return_sequences=True))\n",
    "model.add(SimpleRNN(32, return_sequences=True))\n",
    "model.add(SimpleRNN(32))\n",
    "model.summary()"
   ]
  },
  {
   "cell_type": "markdown",
   "id": "4e4f4176",
   "metadata": {},
   "source": [
    "<Strong>\n",
    "    \n",
    "It’s sometimes useful to stack several recurrent layers one after the other in order to increase the representational power of a network. In such a setup, you have to get all of the intermediate layers to return full sequence of outputs:\n",
    "    \n",
    " </Strong>"
   ]
  },
  {
   "cell_type": "code",
   "execution_count": 29,
   "id": "60058de0",
   "metadata": {},
   "outputs": [],
   "source": [
    "from keras.datasets import imdb\n",
    "from keras.preprocessing import sequence\n",
    "from keras.layers import Dense\n",
    "\n",
    "max_features = 10000\n",
    "maxlen = 500\n",
    "batch_size = 32"
   ]
  },
  {
   "cell_type": "code",
   "execution_count": 30,
   "id": "ed6920f0",
   "metadata": {},
   "outputs": [],
   "source": [
    "(input_train, y_train), (input_test, y_test) = imdb.load_data(num_words=max_features)"
   ]
  },
  {
   "cell_type": "code",
   "execution_count": 31,
   "id": "66ae3b73",
   "metadata": {},
   "outputs": [],
   "source": [
    "input_train = sequence.pad_sequences(input_train, maxlen=maxlen)\n",
    "input_test = sequence.pad_sequences(input_test, maxlen=maxlen)"
   ]
  },
  {
   "cell_type": "code",
   "execution_count": 32,
   "id": "52810e1f",
   "metadata": {},
   "outputs": [
    {
     "name": "stdout",
     "output_type": "stream",
     "text": [
      "Epoch 1/10\n",
      "157/157 [==============================] - 17s 104ms/step - loss: 0.6011 - acc: 0.6679 - val_loss: 0.5385 - val_acc: 0.7272\n",
      "Epoch 2/10\n",
      "157/157 [==============================] - 16s 101ms/step - loss: 0.4025 - acc: 0.8343 - val_loss: 0.3761 - val_acc: 0.8492\n",
      "Epoch 3/10\n",
      "157/157 [==============================] - 15s 99ms/step - loss: 0.2919 - acc: 0.8845 - val_loss: 0.3772 - val_acc: 0.8354\n",
      "Epoch 4/10\n",
      "157/157 [==============================] - 15s 98ms/step - loss: 0.2335 - acc: 0.9123 - val_loss: 0.3419 - val_acc: 0.8592\n",
      "Epoch 5/10\n",
      "157/157 [==============================] - 16s 102ms/step - loss: 0.1701 - acc: 0.9374 - val_loss: 0.4347 - val_acc: 0.8110\n",
      "Epoch 6/10\n",
      "157/157 [==============================] - 15s 99ms/step - loss: 0.1299 - acc: 0.9538 - val_loss: 0.7494 - val_acc: 0.7916\n",
      "Epoch 7/10\n",
      "157/157 [==============================] - 15s 97ms/step - loss: 0.0935 - acc: 0.9674 - val_loss: 0.4315 - val_acc: 0.8648\n",
      "Epoch 8/10\n",
      "157/157 [==============================] - 16s 100ms/step - loss: 0.0625 - acc: 0.9796 - val_loss: 0.4939 - val_acc: 0.8358\n",
      "Epoch 9/10\n",
      "157/157 [==============================] - 16s 104ms/step - loss: 0.0454 - acc: 0.9860 - val_loss: 0.8170 - val_acc: 0.7352\n",
      "Epoch 10/10\n",
      "157/157 [==============================] - 15s 98ms/step - loss: 0.0275 - acc: 0.9913 - val_loss: 0.8170 - val_acc: 0.7164\n"
     ]
    }
   ],
   "source": [
    "model = Sequential() \n",
    "model.add(Embedding(max_features, 32 ,  name='embedding')) \n",
    "model.add(SimpleRNN(32)) \n",
    "model.add(Dense(1, activation='sigmoid'))\n",
    "\n",
    "model.compile(optimizer='rmsprop', loss='binary_crossentropy', metrics=['acc'])\n",
    "\n",
    "history = model.fit(input_train, y_train,epochs=10, batch_size=128,validation_split=0.2)"
   ]
  },
  {
   "cell_type": "code",
   "execution_count": 27,
   "id": "2d35d855",
   "metadata": {},
   "outputs": [
    {
     "name": "stdout",
     "output_type": "stream",
     "text": [
      "10000\n"
     ]
    }
   ],
   "source": [
    "#We create weights for all 10,000 word in vocab\n",
    "weights = model.get_layer('embedding').get_weights()\n",
    "print(len(weights[0]))"
   ]
  },
  {
   "cell_type": "code",
   "execution_count": 24,
   "id": "1fdaa43b",
   "metadata": {},
   "outputs": [
    {
     "data": {
      "image/png": "[encoded data removed]",
      "text/plain": [
       "<Figure size 432x288 with 1 Axes>"
      ]
     },
     "metadata": {
      "needs_background": "light"
     },
     "output_type": "display_data"
    },
    {
     "data": {
      "image/png": "[encoded data removed]",
      "text/plain": [
       "<Figure size 432x288 with 1 Axes>"
      ]
     },
     "metadata": {
      "needs_background": "light"
     },
     "output_type": "display_data"
    }
   ],
   "source": [
    "import matplotlib.pyplot as plt\n",
    "acc = history.history['acc']\n",
    "val_acc = history.history['val_acc']\n",
    "loss = history.history['loss']\n",
    "val_loss = history.history['val_loss']\n",
    "epochs = range(1, len(acc) + 1)\n",
    "plt.plot(epochs, acc, 'bo', label='Training acc')\n",
    "plt.plot(epochs, val_acc, 'b', label='Validation acc')\n",
    "plt.title('Training and validation accuracy')\n",
    "plt.legend()\n",
    "plt.figure()\n",
    "plt.plot(epochs, loss, 'bo', label='Training loss')\n",
    "plt.plot(epochs, val_loss, 'b', label='Validation loss')\n",
    "plt.title('Training and validation loss')\n",
    "plt.legend()\n",
    "plt.show()"
   ]
  },
  {
   "cell_type": "code",
   "execution_count": null,
   "id": "9dffb86a",
   "metadata": {},
   "outputs": [],
   "source": []
  },
  {
   "cell_type": "code",
   "execution_count": null,
   "id": "3b4dcf22",
   "metadata": {},
   "outputs": [],
   "source": []
  }
 ],
 "metadata": {
  "kernelspec": {
   "display_name": "Python 3 (ipykernel)",
   "language": "python",
   "name": "python3"
  },
  "language_info": {
   "codemirror_mode": {
    "name": "ipython",
    "version": 3
   },
   "file_extension": ".py",
   "mimetype": "text/x-python",
   "name": "python",
   "nbconvert_exporter": "python",
   "pygments_lexer": "ipython3",
   "version": "3.10.0"
  }
 },
 "nbformat": 4,
 "nbformat_minor": 5
}
