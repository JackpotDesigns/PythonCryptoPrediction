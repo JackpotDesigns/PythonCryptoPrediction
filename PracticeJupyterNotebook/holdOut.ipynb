{
 "cells": [
  {
   "cell_type": "code",
   "execution_count": 16,
   "id": "e5f9f9fe",
   "metadata": {},
   "outputs": [],
   "source": [
    "import pandas as pd\n",
    "import numpy as np\n",
    "\n",
    "from sklearn.linear_model import LinearRegression\n",
    "from sklearn.neighbors import KNeighborsRegressor\n",
    "\n",
    "from sklearn.metrics import mean_squared_error\n",
    "from sklearn.metrics import mean_absolute_error\n",
    "from sklearn.model_selection import train_test_split\n",
    "from sklearn.model_selection import cross_val_score\n",
    "from sklearn.model_selection import ShuffleSplit\n",
    "from sklearn.model_selection import KFold\n",
    "\n",
    "from sklearn.compose import ColumnTransformer\n",
    "from sklearn.pipeline import Pipeline\n",
    "from sklearn.preprocessing import StandardScaler\n",
    "\n",
    "from joblib import dump, load"
   ]
  },
  {
   "cell_type": "code",
   "execution_count": 17,
   "id": "ca92849f",
   "metadata": {},
   "outputs": [],
   "source": [
    "# Use pandas to read the CSV file into a DataFrame\n",
    "df = pd.read_csv(\"artificial_intelligence/ai1/datasets/dataset_corkA.csv\")\n",
    "\n",
    "# Shuffle the dataset\n",
    "df = df.sample(frac=1, random_state=2)\n",
    "df.reset_index(drop=True, inplace=True)"
   ]
  },
  {
   "cell_type": "code",
   "execution_count": 18,
   "id": "fdaa7070",
   "metadata": {},
   "outputs": [],
   "source": [
    "# Split off the test set: 20% of the dataset.\n",
    "dev_df, test_df = train_test_split(df, train_size=0.8, random_state=2)"
   ]
  },
  {
   "cell_type": "code",
   "execution_count": 19,
   "id": "ffcb4ee3",
   "metadata": {},
   "outputs": [],
   "source": [
    "# The features we want to select\n",
    "features = [\"flarea\", \"bdrms\", \"bthrms\"]\n",
    "\n",
    "# Extract the features but leave as a DataFrame\n",
    "dev_X = dev_df[features]\n",
    "test_X = test_df[features]\n",
    "\n",
    "# Target values, converted to a 1D numpy array\n",
    "dev_y = dev_df[\"price\"].values\n",
    "test_y = test_df[\"price\"].values"
   ]
  },
  {
   "cell_type": "code",
   "execution_count": 20,
   "id": "3f2af4e2",
   "metadata": {},
   "outputs": [],
   "source": [
    "num_validation_samples = 100"
   ]
  },
  {
   "cell_type": "code",
   "execution_count": 21,
   "id": "abe0c2b4",
   "metadata": {},
   "outputs": [
    {
     "data": {
      "text/plain": [
       "59.61541931127915"
      ]
     },
     "execution_count": 21,
     "metadata": {},
     "output_type": "execute_result"
    }
   ],
   "source": [
    "#Defining validation set\n",
    "validation_data = dev_X[:num_validation_samples]\n",
    "validation_labels = dev_y[:num_validation_samples]\n",
    "\n",
    "training_data = dev_X[num_validation_samples:]\n",
    "training_labels = dev_y[num_validation_samples:]\n",
    "\n",
    "#Creating Model\n",
    "linear_model = LinearRegression()\n",
    "linear_model.fit(training_data , training_labels)\n",
    "\n",
    "#Displays predicted validation score vs actual validation results\n",
    "validation_score = linear_model.predict(validation_data)\n",
    "\n",
    "#Display error of combined pvs vs avr\n",
    "mean_absolute_error(validation_score, validation_labels)"
   ]
  },
  {
   "cell_type": "code",
   "execution_count": 15,
   "id": "f3c490d1",
   "metadata": {},
   "outputs": [
    {
     "data": {
      "text/plain": [
       "66.01046377907333"
      ]
     },
     "execution_count": 15,
     "metadata": {},
     "output_type": "execute_result"
    }
   ],
   "source": [
    "linear_model = LinearRegression()\n",
    "linear_model.fit(np.concatenate([training_data,\n",
    "                            validation_data]) , np.concatenate ([training_labels , validation_labels]) )\n",
    "\n",
    "predicted = linear_model.predict(test_X.values)\n",
    "mean_absolute_error(test_y , predicted )"
   ]
  },
  {
   "cell_type": "markdown",
   "id": "ab3ff859",
   "metadata": {},
   "source": []
  },
  {
   "cell_type": "code",
   "execution_count": null,
   "id": "a2e35c3c",
   "metadata": {},
   "outputs": [],
   "source": []
  },
  {
   "cell_type": "code",
   "execution_count": 22,
   "id": "605f4911",
   "metadata": {},
   "outputs": [],
   "source": []
  },
  {
   "cell_type": "markdown",
   "id": "dbbcc0dd",
   "metadata": {},
   "source": []
  },
  {
   "cell_type": "code",
   "execution_count": 23,
   "id": "7e21fbaf",
   "metadata": {},
   "outputs": [],
   "source": []
  },
  {
   "cell_type": "code",
   "execution_count": 24,
   "id": "448bfca1",
   "metadata": {},
   "outputs": [
    {
     "data": {
      "text/plain": [
       "array([-54.03163302])"
      ]
     },
     "execution_count": 24,
     "metadata": {},
     "output_type": "execute_result"
    }
   ],
   "source": []
  },
  {
   "cell_type": "markdown",
   "id": "b5d439ff",
   "metadata": {},
   "source": []
  },
  {
   "cell_type": "code",
   "execution_count": null,
   "id": "405025f5",
   "metadata": {},
   "outputs": [],
   "source": []
  },
  {
   "cell_type": "code",
   "execution_count": null,
   "id": "9e759273",
   "metadata": {},
   "outputs": [],
   "source": []
  },
  {
   "cell_type": "code",
   "execution_count": null,
   "id": "03764ded",
   "metadata": {},
   "outputs": [],
   "source": []
  },
  {
   "cell_type": "code",
   "execution_count": null,
   "id": "2f9cf9fe",
   "metadata": {},
   "outputs": [],
   "source": []
  },
  {
   "cell_type": "code",
   "execution_count": null,
   "id": "70658999",
   "metadata": {},
   "outputs": [],
   "source": []
  },
  {
   "cell_type": "code",
   "execution_count": null,
   "id": "f147cf97",
   "metadata": {},
   "outputs": [],
   "source": []
  }
 ],
 "metadata": {
  "kernelspec": {
   "display_name": "Python 3 (ipykernel)",
   "language": "python",
   "name": "python3"
  },
  "language_info": {
   "codemirror_mode": {
    "name": "ipython",
    "version": 3
   },
   "file_extension": ".py",
   "mimetype": "text/x-python",
   "name": "python",
   "nbconvert_exporter": "python",
   "pygments_lexer": "ipython3",
   "version": "3.10.0"
  }
 },
 "nbformat": 4,
 "nbformat_minor": 5
}
