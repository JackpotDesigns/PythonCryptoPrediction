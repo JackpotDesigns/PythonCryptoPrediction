{
 "cells": [
  {
   "cell_type": "markdown",
   "id": "2b6d1341",
   "metadata": {},
   "source": [
    "<Strong> Start with a few ,  layers and amonut of neurons in each layer  -> Increase till we see diminishing returns.  </Strong>"
   ]
  },
  {
   "cell_type": "code",
   "execution_count": 112,
   "id": "396b3ea9",
   "metadata": {},
   "outputs": [
    {
     "name": "stdout",
     "output_type": "stream",
     "text": [
      "The autoreload extension is already loaded. To reload it, use:\n",
      "  %reload_ext autoreload\n"
     ]
    }
   ],
   "source": [
    "%load_ext autoreload\n",
    "%autoreload 2\n",
    "%matplotlib inline"
   ]
  },
  {
   "cell_type": "code",
   "execution_count": 113,
   "id": "f3b71961",
   "metadata": {},
   "outputs": [],
   "source": [
    "from keras.datasets import imdb\n",
    "import numpy as np\n",
    "from keras import models\n",
    "from keras import layers\n",
    "import matplotlib.pyplot as plt\n",
    "from keras import optimizers\n",
    "from tensorflow.keras import optimizers\n",
    "from keras import regularizers\n",
    "\n",
    "\n",
    "# Load the data, keeping only 10,000 of the most frequently occuring words\n",
    "(train_data, train_labels), (test_data, test_labels) = imdb.load_data(num_words = 10000)"
   ]
  },
  {
   "cell_type": "code",
   "execution_count": 114,
   "id": "fdd86d0a",
   "metadata": {},
   "outputs": [],
   "source": [
    "def vectorize_sequences(sequences, dimension=10000):\n",
    "    \n",
    "    # List with 25,000 Rows and 10,000 Columns (Max no. of words)\n",
    "    results = np.zeros((len(sequences), dimension))\n",
    "    \n",
    "    #enum and each review (0,[1,2,3,1,23,...])\n",
    "    for i, sequence in enumerate(sequences):\n",
    "        \n",
    "        #Sets specific indices of results[i] to 1 (indices of each sequence (columns of matrix))\n",
    "        results[i, sequence] = 1.\n",
    "                \n",
    "    return results\n",
    "\n",
    "x_train = vectorize_sequences(train_data)\n",
    "x_test = vectorize_sequences(test_data)\n",
    "\n",
    "y_train = np.asarray(train_labels).astype('float32')\n",
    "y_test = test_labels.astype('float32')"
   ]
  },
  {
   "cell_type": "code",
   "execution_count": 115,
   "id": "67db735f",
   "metadata": {},
   "outputs": [],
   "source": [
    "x_val = x_train[:10000]\n",
    "y_val = y_train[:10000]\n",
    "\n",
    "partial_x_train = x_train[10000:]\n",
    "partial_y_train = y_train[10000:]"
   ]
  },
  {
   "cell_type": "markdown",
   "id": "756522e8",
   "metadata": {},
   "source": [
    "<Strong> Start off with a small network :) </Strong>"
   ]
  },
  {
   "cell_type": "code",
   "execution_count": 94,
   "id": "76ce02fd",
   "metadata": {},
   "outputs": [],
   "source": [
    "model = models.Sequential()\n",
    "model.add(layers.Dense(4, activation='relu', input_shape=(10000,)))\n",
    "model.add(layers.Dense(4, activation='relu'))\n",
    "model.add(layers.Dense(1, activation='sigmoid'))"
   ]
  },
  {
   "cell_type": "code",
   "execution_count": 95,
   "id": "d83ea054",
   "metadata": {},
   "outputs": [],
   "source": [
    "model.compile(optimizer=optimizers.RMSprop(learning_rate=0.001),\n",
    "                      loss='binary_crossentropy',\n",
    "                      metrics=['accuracy'])"
   ]
  },
  {
   "cell_type": "code",
   "execution_count": 96,
   "id": "cc97897f",
   "metadata": {},
   "outputs": [
    {
     "name": "stdout",
     "output_type": "stream",
     "text": [
      "Epoch 1/20\n",
      "30/30 [==============================] - 2s 37ms/step - loss: 0.6291 - accuracy: 0.7262 - val_loss: 0.5718 - val_accuracy: 0.8294\n",
      "Epoch 2/20\n",
      "30/30 [==============================] - 1s 17ms/step - loss: 0.5181 - accuracy: 0.8603 - val_loss: 0.4902 - val_accuracy: 0.8634\n",
      "Epoch 3/20\n",
      "30/30 [==============================] - 0s 15ms/step - loss: 0.4321 - accuracy: 0.8957 - val_loss: 0.4238 - val_accuracy: 0.8714\n",
      "Epoch 4/20\n",
      "30/30 [==============================] - 1s 17ms/step - loss: 0.3635 - accuracy: 0.9075 - val_loss: 0.3774 - val_accuracy: 0.8758\n",
      "Epoch 5/20\n",
      "30/30 [==============================] - 0s 15ms/step - loss: 0.3112 - accuracy: 0.9177 - val_loss: 0.3407 - val_accuracy: 0.8834\n",
      "Epoch 6/20\n",
      "30/30 [==============================] - 0s 16ms/step - loss: 0.2697 - accuracy: 0.9248 - val_loss: 0.3137 - val_accuracy: 0.8869\n",
      "Epoch 7/20\n",
      "30/30 [==============================] - 0s 15ms/step - loss: 0.2373 - accuracy: 0.9319 - val_loss: 0.2986 - val_accuracy: 0.8884\n",
      "Epoch 8/20\n",
      "30/30 [==============================] - 0s 16ms/step - loss: 0.2111 - accuracy: 0.9389 - val_loss: 0.2848 - val_accuracy: 0.8903\n",
      "Epoch 9/20\n",
      "30/30 [==============================] - 0s 15ms/step - loss: 0.1897 - accuracy: 0.9443 - val_loss: 0.2776 - val_accuracy: 0.8900\n",
      "Epoch 10/20\n",
      "30/30 [==============================] - 0s 16ms/step - loss: 0.1723 - accuracy: 0.9487 - val_loss: 0.2742 - val_accuracy: 0.8904\n",
      "Epoch 11/20\n",
      "30/30 [==============================] - 0s 15ms/step - loss: 0.1567 - accuracy: 0.9539 - val_loss: 0.2743 - val_accuracy: 0.8905\n",
      "Epoch 12/20\n",
      "30/30 [==============================] - 0s 15ms/step - loss: 0.1434 - accuracy: 0.9585 - val_loss: 0.2740 - val_accuracy: 0.8891\n",
      "Epoch 13/20\n",
      "30/30 [==============================] - 0s 17ms/step - loss: 0.1314 - accuracy: 0.9611 - val_loss: 0.2771 - val_accuracy: 0.8905\n",
      "Epoch 14/20\n",
      "30/30 [==============================] - 0s 15ms/step - loss: 0.1205 - accuracy: 0.9661 - val_loss: 0.2900 - val_accuracy: 0.8849\n",
      "Epoch 15/20\n",
      "30/30 [==============================] - 0s 15ms/step - loss: 0.1105 - accuracy: 0.9699 - val_loss: 0.2857 - val_accuracy: 0.8871\n",
      "Epoch 16/20\n",
      "30/30 [==============================] - 0s 15ms/step - loss: 0.1019 - accuracy: 0.9724 - val_loss: 0.2960 - val_accuracy: 0.8847\n",
      "Epoch 17/20\n",
      "30/30 [==============================] - 0s 15ms/step - loss: 0.0938 - accuracy: 0.9739 - val_loss: 0.2981 - val_accuracy: 0.8842\n",
      "Epoch 18/20\n",
      "30/30 [==============================] - 0s 15ms/step - loss: 0.0862 - accuracy: 0.9775 - val_loss: 0.3080 - val_accuracy: 0.8844\n",
      "Epoch 19/20\n",
      "30/30 [==============================] - 1s 17ms/step - loss: 0.0791 - accuracy: 0.9809 - val_loss: 0.3202 - val_accuracy: 0.8826\n",
      "Epoch 20/20\n",
      "30/30 [==============================] - 1s 17ms/step - loss: 0.0726 - accuracy: 0.9825 - val_loss: 0.3279 - val_accuracy: 0.8795\n"
     ]
    }
   ],
   "source": [
    "epoch = 20\n",
    "history = model.fit(partial_x_train,\n",
    "                    partial_y_train,\n",
    "                    epochs=epoch,\n",
    "                    batch_size=512,\n",
    "                    validation_data=(x_val, y_val))"
   ]
  },
  {
   "cell_type": "code",
   "execution_count": 97,
   "id": "afb523ad",
   "metadata": {},
   "outputs": [
    {
     "name": "stdout",
     "output_type": "stream",
     "text": [
      "dict_keys(['loss', 'accuracy', 'val_loss', 'val_accuracy'])\n"
     ]
    },
    {
     "data": {
      "image/png": "[encoded data removed]",
      "text/plain": [
       "<Figure size 432x288 with 1 Axes>"
      ]
     },
     "metadata": {
      "needs_background": "light"
     },
     "output_type": "display_data"
    }
   ],
   "source": [
    "history_dict = history.history\n",
    "print(history_dict.keys())\n",
    "\n",
    "loss_values = history_dict['loss']\n",
    "val_loss_values = history_dict['val_loss']\n",
    "\n",
    "epochs = range(1, epoch + 1)\n",
    "\n",
    "\n",
    "plt.plot(epochs, loss_values, 'bo', label='Training loss')\n",
    "plt.plot(epochs, val_loss_values, 'b', label='Validation loss')\n",
    "plt.title('Training and validation loss')\n",
    "plt.xlabel('Epochs')\n",
    "plt.ylabel('Loss')\n",
    "plt.legend()\n",
    "plt.show()"
   ]
  },
  {
   "cell_type": "code",
   "execution_count": 98,
   "id": "51623ec1",
   "metadata": {},
   "outputs": [],
   "source": [
    "model = models.Sequential()\n",
    "model.add(layers.Dense(16, activation='relu', input_shape=(10000,)))\n",
    "model.add(layers.Dense(16, activation='relu'))\n",
    "model.add(layers.Dense(1, activation='sigmoid'))"
   ]
  },
  {
   "cell_type": "code",
   "execution_count": 99,
   "id": "ee239cb3",
   "metadata": {},
   "outputs": [],
   "source": [
    "model.compile(optimizer=optimizers.RMSprop(learning_rate=0.001),\n",
    "                      loss='binary_crossentropy',\n",
    "                      metrics=['accuracy'])"
   ]
  },
  {
   "cell_type": "code",
   "execution_count": 100,
   "id": "bbcf4b58",
   "metadata": {},
   "outputs": [
    {
     "name": "stdout",
     "output_type": "stream",
     "text": [
      "Epoch 1/20\n",
      "30/30 [==============================] - 1s 34ms/step - loss: 0.5189 - accuracy: 0.7806 - val_loss: 0.4146 - val_accuracy: 0.8361\n",
      "Epoch 2/20\n",
      "30/30 [==============================] - 0s 16ms/step - loss: 0.3085 - accuracy: 0.9020 - val_loss: 0.3060 - val_accuracy: 0.8846\n",
      "Epoch 3/20\n",
      "30/30 [==============================] - 0s 16ms/step - loss: 0.2259 - accuracy: 0.9259 - val_loss: 0.2773 - val_accuracy: 0.8906\n",
      "Epoch 4/20\n",
      "30/30 [==============================] - 1s 17ms/step - loss: 0.1780 - accuracy: 0.9421 - val_loss: 0.2940 - val_accuracy: 0.8825\n",
      "Epoch 5/20\n",
      "30/30 [==============================] - 1s 18ms/step - loss: 0.1413 - accuracy: 0.9538 - val_loss: 0.2932 - val_accuracy: 0.8847\n",
      "Epoch 6/20\n",
      "30/30 [==============================] - 1s 18ms/step - loss: 0.1134 - accuracy: 0.9644 - val_loss: 0.3546 - val_accuracy: 0.8692\n",
      "Epoch 7/20\n",
      "30/30 [==============================] - 0s 16ms/step - loss: 0.0955 - accuracy: 0.9698 - val_loss: 0.3328 - val_accuracy: 0.8813\n",
      "Epoch 8/20\n",
      "30/30 [==============================] - 0s 16ms/step - loss: 0.0798 - accuracy: 0.9775 - val_loss: 0.3376 - val_accuracy: 0.8821\n",
      "Epoch 9/20\n",
      "30/30 [==============================] - 0s 17ms/step - loss: 0.0644 - accuracy: 0.9821 - val_loss: 0.3913 - val_accuracy: 0.8696\n",
      "Epoch 10/20\n",
      "30/30 [==============================] - 0s 17ms/step - loss: 0.0551 - accuracy: 0.9847 - val_loss: 0.3893 - val_accuracy: 0.8776\n",
      "Epoch 11/20\n",
      "30/30 [==============================] - 1s 18ms/step - loss: 0.0449 - accuracy: 0.9892 - val_loss: 0.4201 - val_accuracy: 0.8727\n",
      "Epoch 12/20\n",
      "30/30 [==============================] - 0s 17ms/step - loss: 0.0359 - accuracy: 0.9917 - val_loss: 0.4516 - val_accuracy: 0.8712\n",
      "Epoch 13/20\n",
      "30/30 [==============================] - 0s 16ms/step - loss: 0.0290 - accuracy: 0.9938 - val_loss: 0.4818 - val_accuracy: 0.8702\n",
      "Epoch 14/20\n",
      "30/30 [==============================] - 1s 17ms/step - loss: 0.0243 - accuracy: 0.9949 - val_loss: 0.5059 - val_accuracy: 0.8715\n",
      "Epoch 15/20\n",
      "30/30 [==============================] - 1s 17ms/step - loss: 0.0180 - accuracy: 0.9973 - val_loss: 0.6020 - val_accuracy: 0.8600\n",
      "Epoch 16/20\n",
      "30/30 [==============================] - 1s 17ms/step - loss: 0.0158 - accuracy: 0.9979 - val_loss: 0.5795 - val_accuracy: 0.8656\n",
      "Epoch 17/20\n",
      "30/30 [==============================] - 1s 17ms/step - loss: 0.0121 - accuracy: 0.9984 - val_loss: 0.6085 - val_accuracy: 0.8687\n",
      "Epoch 18/20\n",
      "30/30 [==============================] - 1s 17ms/step - loss: 0.0132 - accuracy: 0.9973 - val_loss: 0.6428 - val_accuracy: 0.8671\n",
      "Epoch 19/20\n",
      "30/30 [==============================] - 1s 18ms/step - loss: 0.0054 - accuracy: 0.9998 - val_loss: 0.6777 - val_accuracy: 0.8659\n",
      "Epoch 20/20\n",
      "30/30 [==============================] - 1s 17ms/step - loss: 0.0087 - accuracy: 0.9979 - val_loss: 0.6973 - val_accuracy: 0.8667\n"
     ]
    }
   ],
   "source": [
    "epoch = 20\n",
    "history = model.fit(partial_x_train,\n",
    "                    partial_y_train,\n",
    "                    epochs=epoch,\n",
    "                    batch_size=512,\n",
    "                    validation_data=(x_val, y_val))"
   ]
  },
  {
   "cell_type": "code",
   "execution_count": 101,
   "id": "61a7a0a0",
   "metadata": {},
   "outputs": [
    {
     "name": "stdout",
     "output_type": "stream",
     "text": [
      "dict_keys(['loss', 'accuracy', 'val_loss', 'val_accuracy'])\n"
     ]
    },
    {
     "data": {
      "image/png": "[encoded data removed]",
      "text/plain": [
       "<Figure size 432x288 with 1 Axes>"
      ]
     },
     "metadata": {
      "needs_background": "light"
     },
     "output_type": "display_data"
    }
   ],
   "source": [
    "history_dict = history.history\n",
    "print(history_dict.keys())\n",
    "\n",
    "loss_values = history_dict['loss']\n",
    "val_loss_values = history_dict['val_loss']\n",
    "\n",
    "epochs = range(1, epoch + 1)\n",
    "\n",
    "\n",
    "plt.plot(epochs, loss_values, 'bo', label='Training loss')\n",
    "plt.plot(epochs, val_loss_values, 'b', label='Validation loss')\n",
    "plt.title('Training and validation loss')\n",
    "plt.xlabel('Epochs')\n",
    "plt.ylabel('Loss')\n",
    "plt.legend()\n",
    "plt.show()"
   ]
  },
  {
   "cell_type": "markdown",
   "id": "a700e969",
   "metadata": {},
   "source": [
    "<Strong> The smaller network starts over-fitting later than the larger network </Strong>"
   ]
  },
  {
   "cell_type": "code",
   "execution_count": 102,
   "id": "58a98144",
   "metadata": {},
   "outputs": [],
   "source": [
    "model = models.Sequential()\n",
    "model.add(layers.Dense(512, activation='relu', input_shape=(10000,)))\n",
    "model.add(layers.Dense(512, activation='relu'))\n",
    "model.add(layers.Dense(1, activation='sigmoid'))"
   ]
  },
  {
   "cell_type": "code",
   "execution_count": 103,
   "id": "fe37f416",
   "metadata": {},
   "outputs": [],
   "source": [
    "model.compile(optimizer=optimizers.RMSprop(learning_rate=0.001),\n",
    "                      loss='binary_crossentropy',\n",
    "                      metrics=['accuracy'])"
   ]
  },
  {
   "cell_type": "code",
   "execution_count": 104,
   "id": "ecd8577f",
   "metadata": {},
   "outputs": [
    {
     "name": "stdout",
     "output_type": "stream",
     "text": [
      "Epoch 1/20\n",
      "30/30 [==============================] - 4s 129ms/step - loss: 0.5394 - accuracy: 0.7593 - val_loss: 0.3610 - val_accuracy: 0.8360\n",
      "Epoch 2/20\n",
      "30/30 [==============================] - 3s 116ms/step - loss: 0.2456 - accuracy: 0.9008 - val_loss: 0.2763 - val_accuracy: 0.8870\n",
      "Epoch 3/20\n",
      "30/30 [==============================] - 3s 106ms/step - loss: 0.1324 - accuracy: 0.9499 - val_loss: 0.3290 - val_accuracy: 0.8849\n",
      "Epoch 4/20\n",
      "30/30 [==============================] - 3s 107ms/step - loss: 0.0787 - accuracy: 0.9725 - val_loss: 0.4924 - val_accuracy: 0.8623\n",
      "Epoch 5/20\n",
      "30/30 [==============================] - 3s 100ms/step - loss: 0.1305 - accuracy: 0.9781 - val_loss: 0.4171 - val_accuracy: 0.8574\n",
      "Epoch 6/20\n",
      "30/30 [==============================] - 4s 134ms/step - loss: 0.0063 - accuracy: 0.9997 - val_loss: 0.4821 - val_accuracy: 0.8860\n",
      "Epoch 7/20\n",
      "30/30 [==============================] - 3s 115ms/step - loss: 7.3040e-04 - accuracy: 0.9999 - val_loss: 0.5803 - val_accuracy: 0.8850\n",
      "Epoch 8/20\n",
      "30/30 [==============================] - 3s 107ms/step - loss: 1.1784e-04 - accuracy: 1.0000 - val_loss: 0.7050 - val_accuracy: 0.8847\n",
      "Epoch 9/20\n",
      "30/30 [==============================] - 3s 98ms/step - loss: 2.2068e-05 - accuracy: 1.0000 - val_loss: 0.7984 - val_accuracy: 0.8845\n",
      "Epoch 10/20\n",
      "30/30 [==============================] - 3s 90ms/step - loss: 4.9168e-06 - accuracy: 1.0000 - val_loss: 0.9119 - val_accuracy: 0.8846\n",
      "Epoch 11/20\n",
      "30/30 [==============================] - 3s 99ms/step - loss: 1.1965e-06 - accuracy: 1.0000 - val_loss: 1.0430 - val_accuracy: 0.8807\n",
      "Epoch 12/20\n",
      "30/30 [==============================] - 3s 100ms/step - loss: 4.0661e-07 - accuracy: 1.0000 - val_loss: 1.0784 - val_accuracy: 0.8838\n",
      "Epoch 13/20\n",
      "30/30 [==============================] - 3s 100ms/step - loss: 1.3124e-07 - accuracy: 1.0000 - val_loss: 1.1437 - val_accuracy: 0.8837\n",
      "Epoch 14/20\n",
      "30/30 [==============================] - 3s 99ms/step - loss: 5.7879e-08 - accuracy: 1.0000 - val_loss: 1.1973 - val_accuracy: 0.8830\n",
      "Epoch 15/20\n",
      "30/30 [==============================] - 3s 100ms/step - loss: 3.1192e-08 - accuracy: 1.0000 - val_loss: 1.2277 - val_accuracy: 0.8839\n",
      "Epoch 16/20\n",
      "30/30 [==============================] - 3s 99ms/step - loss: 2.0558e-08 - accuracy: 1.0000 - val_loss: 1.2515 - val_accuracy: 0.8841\n",
      "Epoch 17/20\n",
      "30/30 [==============================] - 3s 102ms/step - loss: 1.5218e-08 - accuracy: 1.0000 - val_loss: 1.2696 - val_accuracy: 0.8841\n",
      "Epoch 18/20\n",
      "30/30 [==============================] - 3s 109ms/step - loss: 1.2073e-08 - accuracy: 1.0000 - val_loss: 1.2830 - val_accuracy: 0.8842\n",
      "Epoch 19/20\n",
      "30/30 [==============================] - 3s 105ms/step - loss: 1.0029e-08 - accuracy: 1.0000 - val_loss: 1.2945 - val_accuracy: 0.8840\n",
      "Epoch 20/20\n",
      "30/30 [==============================] - 3s 108ms/step - loss: 8.5619e-09 - accuracy: 1.0000 - val_loss: 1.3051 - val_accuracy: 0.8842\n"
     ]
    }
   ],
   "source": [
    "epoch = 20\n",
    "history = model.fit(partial_x_train,\n",
    "                    partial_y_train,\n",
    "                    epochs=epoch,\n",
    "                    batch_size=512,\n",
    "                    validation_data=(x_val, y_val))"
   ]
  },
  {
   "cell_type": "code",
   "execution_count": 105,
   "id": "5bcbdda9",
   "metadata": {},
   "outputs": [
    {
     "name": "stdout",
     "output_type": "stream",
     "text": [
      "dict_keys(['loss', 'accuracy', 'val_loss', 'val_accuracy'])\n"
     ]
    },
    {
     "data": {
      "image/png": "[encoded data removed]",
      "text/plain": [
       "<Figure size 432x288 with 1 Axes>"
      ]
     },
     "metadata": {
      "needs_background": "light"
     },
     "output_type": "display_data"
    }
   ],
   "source": [
    "history_dict = history.history\n",
    "print(history_dict.keys())\n",
    "\n",
    "loss_values = history_dict['loss']\n",
    "val_loss_values = history_dict['val_loss']\n",
    "\n",
    "epochs = range(1, epoch + 1)\n",
    "\n",
    "\n",
    "plt.plot(epochs, loss_values, 'bo', label='Training loss')\n",
    "plt.plot(epochs, val_loss_values, 'b', label='Validation loss')\n",
    "plt.title('Training and validation loss')\n",
    "plt.xlabel('Epochs')\n",
    "plt.ylabel('Loss')\n",
    "plt.legend()\n",
    "plt.show()"
   ]
  },
  {
   "cell_type": "code",
   "execution_count": 106,
   "id": "7d2a9efd",
   "metadata": {},
   "outputs": [],
   "source": [
    "model = models.Sequential()\n",
    "\n",
    "model.add(layers.Dense(16, kernel_regularizer=regularizers.l2(0.001) , activation='relu', input_shape=(10000,))) \n",
    "\n",
    "model.add(layers.Dense(16, kernel_regularizer=regularizers.l2(0.001), activation='relu'))\n",
    "\n",
    "model.add(layers.Dense(1, activation='sigmoid'))"
   ]
  },
  {
   "cell_type": "code",
   "execution_count": 107,
   "id": "90d71b95",
   "metadata": {},
   "outputs": [],
   "source": [
    "model.compile(optimizer=optimizers.RMSprop(learning_rate=0.001),\n",
    "                      loss='binary_crossentropy',\n",
    "                      metrics=['accuracy'])"
   ]
  },
  {
   "cell_type": "code",
   "execution_count": 108,
   "id": "a07095f4",
   "metadata": {},
   "outputs": [
    {
     "name": "stdout",
     "output_type": "stream",
     "text": [
      "Epoch 1/20\n",
      "30/30 [==============================] - 2s 39ms/step - loss: 0.5618 - accuracy: 0.7875 - val_loss: 0.4555 - val_accuracy: 0.8529\n",
      "Epoch 2/20\n",
      "30/30 [==============================] - 0s 16ms/step - loss: 0.3703 - accuracy: 0.8964 - val_loss: 0.3692 - val_accuracy: 0.8798\n",
      "Epoch 3/20\n",
      "30/30 [==============================] - 1s 17ms/step - loss: 0.2923 - accuracy: 0.9195 - val_loss: 0.3379 - val_accuracy: 0.8874\n",
      "Epoch 4/20\n",
      "30/30 [==============================] - 1s 19ms/step - loss: 0.2549 - accuracy: 0.9332 - val_loss: 0.3296 - val_accuracy: 0.8880\n",
      "Epoch 5/20\n",
      "30/30 [==============================] - 1s 20ms/step - loss: 0.2339 - accuracy: 0.9415 - val_loss: 0.3317 - val_accuracy: 0.8869\n",
      "Epoch 6/20\n",
      "30/30 [==============================] - 1s 19ms/step - loss: 0.2158 - accuracy: 0.9469 - val_loss: 0.3349 - val_accuracy: 0.8875\n",
      "Epoch 7/20\n",
      "30/30 [==============================] - 1s 18ms/step - loss: 0.2000 - accuracy: 0.9535 - val_loss: 0.3412 - val_accuracy: 0.8877\n",
      "Epoch 8/20\n",
      "30/30 [==============================] - 1s 17ms/step - loss: 0.1937 - accuracy: 0.9553 - val_loss: 0.3559 - val_accuracy: 0.8831\n",
      "Epoch 9/20\n",
      "30/30 [==============================] - 1s 19ms/step - loss: 0.1856 - accuracy: 0.9585 - val_loss: 0.3633 - val_accuracy: 0.8829\n",
      "Epoch 10/20\n",
      "30/30 [==============================] - 1s 18ms/step - loss: 0.1767 - accuracy: 0.9639 - val_loss: 0.3712 - val_accuracy: 0.8806\n",
      "Epoch 11/20\n",
      "30/30 [==============================] - 1s 19ms/step - loss: 0.1738 - accuracy: 0.9633 - val_loss: 0.3722 - val_accuracy: 0.8827\n",
      "Epoch 12/20\n",
      "30/30 [==============================] - 1s 21ms/step - loss: 0.1688 - accuracy: 0.9663 - val_loss: 0.4058 - val_accuracy: 0.8667\n",
      "Epoch 13/20\n",
      "30/30 [==============================] - 1s 17ms/step - loss: 0.1625 - accuracy: 0.9685 - val_loss: 0.3930 - val_accuracy: 0.8789\n",
      "Epoch 14/20\n",
      "30/30 [==============================] - 1s 19ms/step - loss: 0.1623 - accuracy: 0.9685 - val_loss: 0.4054 - val_accuracy: 0.8700\n",
      "Epoch 15/20\n",
      "30/30 [==============================] - 1s 18ms/step - loss: 0.1539 - accuracy: 0.9733 - val_loss: 0.3974 - val_accuracy: 0.8784\n",
      "Epoch 16/20\n",
      "30/30 [==============================] - 1s 17ms/step - loss: 0.1529 - accuracy: 0.9720 - val_loss: 0.4069 - val_accuracy: 0.8731\n",
      "Epoch 17/20\n",
      "30/30 [==============================] - 0s 16ms/step - loss: 0.1541 - accuracy: 0.9709 - val_loss: 0.4110 - val_accuracy: 0.8759\n",
      "Epoch 18/20\n",
      "30/30 [==============================] - 1s 17ms/step - loss: 0.1477 - accuracy: 0.9733 - val_loss: 0.4150 - val_accuracy: 0.8754\n",
      "Epoch 19/20\n",
      "30/30 [==============================] - 1s 17ms/step - loss: 0.1441 - accuracy: 0.9748 - val_loss: 0.4831 - val_accuracy: 0.8531\n",
      "Epoch 20/20\n",
      "30/30 [==============================] - 0s 16ms/step - loss: 0.1416 - accuracy: 0.9762 - val_loss: 0.4279 - val_accuracy: 0.8744\n"
     ]
    }
   ],
   "source": [
    "epoch = 20\n",
    "history = model.fit(partial_x_train,\n",
    "                    partial_y_train,\n",
    "                    epochs=epoch,\n",
    "                    batch_size=512,\n",
    "                    validation_data=(x_val, y_val))"
   ]
  },
  {
   "cell_type": "code",
   "execution_count": 109,
   "id": "6ddc305f",
   "metadata": {},
   "outputs": [
    {
     "name": "stdout",
     "output_type": "stream",
     "text": [
      "dict_keys(['loss', 'accuracy', 'val_loss', 'val_accuracy'])\n"
     ]
    },
    {
     "data": {
      "image/png": "[encoded data removed]",
      "text/plain": [
       "<Figure size 432x288 with 1 Axes>"
      ]
     },
     "metadata": {
      "needs_background": "light"
     },
     "output_type": "display_data"
    }
   ],
   "source": [
    "history_dict = history.history\n",
    "print(history_dict.keys())\n",
    "\n",
    "loss_values = history_dict['loss']\n",
    "val_loss_values = history_dict['val_loss']\n",
    "\n",
    "epochs = range(1, epoch + 1)\n",
    "\n",
    "\n",
    "plt.plot(epochs, loss_values, 'bo', label='Training loss')\n",
    "plt.plot(epochs, val_loss_values, 'b', label='Validation loss')\n",
    "plt.title('Training and validation loss')\n",
    "plt.xlabel('Epochs')\n",
    "plt.ylabel('Loss')\n",
    "plt.legend()\n",
    "plt.show()"
   ]
  },
  {
   "cell_type": "markdown",
   "id": "bc2d9cdd",
   "metadata": {},
   "source": [
    "<Strong> Using dropout! </Strong>"
   ]
  },
  {
   "cell_type": "code",
   "execution_count": 116,
   "id": "4cf7a3f0",
   "metadata": {},
   "outputs": [],
   "source": [
    "model = models.Sequential()\n",
    "model.add(layers.Dense(16, activation='relu', input_shape=(10000,)))\n",
    "model.add(layers.Dropout(0.5))\n",
    "model.add(layers.Dense(16, activation='relu'))\n",
    "model.add(layers.Dropout(0.5))\n",
    "model.add(layers.Dense(1, activation='sigmoid'))"
   ]
  },
  {
   "cell_type": "code",
   "execution_count": 117,
   "id": "4becdb70",
   "metadata": {},
   "outputs": [],
   "source": [
    "model.compile(optimizer=optimizers.RMSprop(learning_rate=0.001),\n",
    "                      loss='binary_crossentropy',\n",
    "                      metrics=['accuracy'])"
   ]
  },
  {
   "cell_type": "code",
   "execution_count": 118,
   "id": "c47b0d69",
   "metadata": {},
   "outputs": [
    {
     "name": "stdout",
     "output_type": "stream",
     "text": [
      "Epoch 1/20\n",
      "30/30 [==============================] - 2s 37ms/step - loss: 0.6411 - accuracy: 0.6217 - val_loss: 0.5348 - val_accuracy: 0.8486\n",
      "Epoch 2/20\n",
      "30/30 [==============================] - 0s 16ms/step - loss: 0.5357 - accuracy: 0.7457 - val_loss: 0.4274 - val_accuracy: 0.8756\n",
      "Epoch 3/20\n",
      "30/30 [==============================] - 0s 17ms/step - loss: 0.4614 - accuracy: 0.7980 - val_loss: 0.3535 - val_accuracy: 0.8844\n",
      "Epoch 4/20\n",
      "30/30 [==============================] - 0s 17ms/step - loss: 0.3978 - accuracy: 0.8333 - val_loss: 0.3110 - val_accuracy: 0.8878\n",
      "Epoch 5/20\n",
      "30/30 [==============================] - 1s 17ms/step - loss: 0.3536 - accuracy: 0.8598 - val_loss: 0.2977 - val_accuracy: 0.8855\n",
      "Epoch 6/20\n",
      "30/30 [==============================] - 1s 18ms/step - loss: 0.3030 - accuracy: 0.8872 - val_loss: 0.2769 - val_accuracy: 0.8897\n",
      "Epoch 7/20\n",
      "30/30 [==============================] - 1s 18ms/step - loss: 0.2720 - accuracy: 0.9003 - val_loss: 0.2760 - val_accuracy: 0.8892\n",
      "Epoch 8/20\n",
      "30/30 [==============================] - 1s 18ms/step - loss: 0.2403 - accuracy: 0.9155 - val_loss: 0.2819 - val_accuracy: 0.8871\n",
      "Epoch 9/20\n",
      "30/30 [==============================] - 1s 18ms/step - loss: 0.2196 - accuracy: 0.9241 - val_loss: 0.2850 - val_accuracy: 0.8881\n",
      "Epoch 10/20\n",
      "30/30 [==============================] - 1s 18ms/step - loss: 0.1983 - accuracy: 0.9297 - val_loss: 0.3018 - val_accuracy: 0.8888\n",
      "Epoch 11/20\n",
      "30/30 [==============================] - 1s 17ms/step - loss: 0.1805 - accuracy: 0.9377 - val_loss: 0.3053 - val_accuracy: 0.8907\n",
      "Epoch 12/20\n",
      "30/30 [==============================] - 1s 18ms/step - loss: 0.1654 - accuracy: 0.9381 - val_loss: 0.3347 - val_accuracy: 0.8888\n",
      "Epoch 13/20\n",
      "30/30 [==============================] - 1s 18ms/step - loss: 0.1556 - accuracy: 0.9450 - val_loss: 0.3444 - val_accuracy: 0.8884\n",
      "Epoch 14/20\n",
      "30/30 [==============================] - 1s 18ms/step - loss: 0.1409 - accuracy: 0.9493 - val_loss: 0.3787 - val_accuracy: 0.8869\n",
      "Epoch 15/20\n",
      "30/30 [==============================] - 1s 18ms/step - loss: 0.1294 - accuracy: 0.9521 - val_loss: 0.3875 - val_accuracy: 0.8884\n",
      "Epoch 16/20\n",
      "30/30 [==============================] - 0s 17ms/step - loss: 0.1201 - accuracy: 0.9570 - val_loss: 0.4288 - val_accuracy: 0.8869\n",
      "Epoch 17/20\n",
      "30/30 [==============================] - 1s 18ms/step - loss: 0.1147 - accuracy: 0.9579 - val_loss: 0.4316 - val_accuracy: 0.8839\n",
      "Epoch 18/20\n",
      "30/30 [==============================] - 1s 18ms/step - loss: 0.1097 - accuracy: 0.9584 - val_loss: 0.4575 - val_accuracy: 0.8840\n",
      "Epoch 19/20\n",
      "30/30 [==============================] - 0s 17ms/step - loss: 0.1043 - accuracy: 0.9604 - val_loss: 0.4803 - val_accuracy: 0.8838\n",
      "Epoch 20/20\n",
      "30/30 [==============================] - 1s 17ms/step - loss: 0.0986 - accuracy: 0.9620 - val_loss: 0.4876 - val_accuracy: 0.8815\n"
     ]
    }
   ],
   "source": [
    "epoch = 20\n",
    "history = model.fit(partial_x_train,\n",
    "                    partial_y_train,\n",
    "                    epochs=epoch,\n",
    "                    batch_size=512,\n",
    "                    validation_data=(x_val, y_val))"
   ]
  },
  {
   "cell_type": "code",
   "execution_count": 119,
   "id": "97a14323",
   "metadata": {},
   "outputs": [
    {
     "name": "stdout",
     "output_type": "stream",
     "text": [
      "dict_keys(['loss', 'accuracy', 'val_loss', 'val_accuracy'])\n"
     ]
    },
    {
     "data": {
      "image/png": "[encoded data removed]",
      "text/plain": [
       "<Figure size 432x288 with 1 Axes>"
      ]
     },
     "metadata": {
      "needs_background": "light"
     },
     "output_type": "display_data"
    }
   ],
   "source": [
    "history_dict = history.history\n",
    "print(history_dict.keys())\n",
    "\n",
    "loss_values = history_dict['loss']\n",
    "val_loss_values = history_dict['val_loss']\n",
    "\n",
    "epochs = range(1, epoch + 1)\n",
    "\n",
    "\n",
    "plt.plot(epochs, loss_values, 'bo', label='Training loss')\n",
    "plt.plot(epochs, val_loss_values, 'b', label='Validation loss')\n",
    "plt.title('Training and validation loss')\n",
    "plt.xlabel('Epochs')\n",
    "plt.ylabel('Loss')\n",
    "plt.legend()\n",
    "plt.show()"
   ]
  },
  {
   "cell_type": "code",
   "execution_count": null,
   "id": "403353d3",
   "metadata": {},
   "outputs": [],
   "source": []
  },
  {
   "cell_type": "code",
   "execution_count": null,
   "id": "71e4afb6",
   "metadata": {},
   "outputs": [],
   "source": [
    "$"
   ]
  }
 ],
 "metadata": {
  "kernelspec": {
   "display_name": "Python 3 (ipykernel)",
   "language": "python",
   "name": "python3"
  },
  "language_info": {
   "codemirror_mode": {
    "name": "ipython",
    "version": 3
   },
   "file_extension": ".py",
   "mimetype": "text/x-python",
   "name": "python",
   "nbconvert_exporter": "python",
   "pygments_lexer": "ipython3",
   "version": "3.10.0"
  }
 },
 "nbformat": 4,
 "nbformat_minor": 5
}
