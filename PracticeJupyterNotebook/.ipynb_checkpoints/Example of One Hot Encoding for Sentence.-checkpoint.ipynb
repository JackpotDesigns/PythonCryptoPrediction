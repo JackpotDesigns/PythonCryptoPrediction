{
 "cells": [
  {
   "cell_type": "code",
   "execution_count": 1,
   "id": "eb10948c",
   "metadata": {},
   "outputs": [],
   "source": [
    "import numpy as np"
   ]
  },
  {
   "cell_type": "markdown",
   "id": "e650fec9",
   "metadata": {},
   "source": [
    "<Strong> Here is the data we want to encode (encode each word) , could be size of document per sample. </Strong>"
   ]
  },
  {
   "cell_type": "code",
   "execution_count": 2,
   "id": "e18291bb",
   "metadata": {},
   "outputs": [],
   "source": [
    "samples = ['The cat sat on the mat.', 'The dog ate my homework.' ]"
   ]
  },
  {
   "cell_type": "code",
   "execution_count": 3,
   "id": "ed25ed7d",
   "metadata": {},
   "outputs": [],
   "source": [
    "#Making a dictionary with all the words in our examples.\n",
    "token_index = {}"
   ]
  },
  {
   "cell_type": "code",
   "execution_count": 4,
   "id": "c37855d9",
   "metadata": {},
   "outputs": [
    {
     "name": "stdout",
     "output_type": "stream",
     "text": [
      "[[[0. 1. 0. 0. 0. 0. 0. 0. 0. 0. 0.]\n",
      "  [0. 0. 1. 0. 0. 0. 0. 0. 0. 0. 0.]\n",
      "  [0. 0. 0. 1. 0. 0. 0. 0. 0. 0. 0.]\n",
      "  [0. 0. 0. 0. 1. 0. 0. 0. 0. 0. 0.]\n",
      "  [0. 0. 0. 0. 0. 1. 0. 0. 0. 0. 0.]\n",
      "  [0. 0. 0. 0. 0. 0. 1. 0. 0. 0. 0.]\n",
      "  [0. 0. 0. 0. 0. 0. 0. 0. 0. 0. 0.]\n",
      "  [0. 0. 0. 0. 0. 0. 0. 0. 0. 0. 0.]\n",
      "  [0. 0. 0. 0. 0. 0. 0. 0. 0. 0. 0.]\n",
      "  [0. 0. 0. 0. 0. 0. 0. 0. 0. 0. 0.]]\n",
      "\n",
      " [[0. 1. 0. 0. 0. 0. 0. 0. 0. 0. 0.]\n",
      "  [0. 0. 0. 0. 0. 0. 0. 1. 0. 0. 0.]\n",
      "  [0. 0. 0. 0. 0. 0. 0. 0. 1. 0. 0.]\n",
      "  [0. 0. 0. 0. 0. 0. 0. 0. 0. 1. 0.]\n",
      "  [0. 0. 0. 0. 0. 0. 0. 0. 0. 0. 1.]\n",
      "  [0. 0. 0. 0. 0. 0. 0. 0. 0. 0. 0.]\n",
      "  [0. 0. 0. 0. 0. 0. 0. 0. 0. 0. 0.]\n",
      "  [0. 0. 0. 0. 0. 0. 0. 0. 0. 0. 0.]\n",
      "  [0. 0. 0. 0. 0. 0. 0. 0. 0. 0. 0.]\n",
      "  [0. 0. 0. 0. 0. 0. 0. 0. 0. 0. 0.]]]\n"
     ]
    }
   ],
   "source": [
    "for sample in samples:\n",
    "    for word in sample.split():\n",
    "        if word not in token_index:\n",
    "            token_index[word] = len(token_index) + 1\n",
    "\n",
    "max_length = 10\n",
    "\n",
    "#A matrix for every scentence in samples , each has a row for word , each column for word in token_index\n",
    "results = np.zeros(shape=(len(samples), max_length, max(token_index.values()) + 1))\n",
    "\n",
    "for i, sample in enumerate(samples):\n",
    "    \n",
    "    #each word in each result with max word = 10 \n",
    "    for j, word in list(enumerate(sample.split()))[:max_length]:\n",
    "        \n",
    "        #index = column word goes into in each matrix\n",
    "        index = token_index.get(word)\n",
    "        \n",
    "        #i = sample j = row (what word in sentence) index = where word is situated in token_index\n",
    "        results[i, j, index] = 1.\n",
    "\n",
    "print(results)"
   ]
  },
  {
   "cell_type": "markdown",
   "id": "95579c14",
   "metadata": {},
   "source": [
    "<Strong> Encode each letter </Strong>"
   ]
  },
  {
   "cell_type": "code",
   "execution_count": 5,
   "id": "6124128b",
   "metadata": {},
   "outputs": [],
   "source": [
    "import string"
   ]
  },
  {
   "cell_type": "code",
   "execution_count": 6,
   "id": "c86278e8",
   "metadata": {},
   "outputs": [],
   "source": [
    "samples = ['The cat sat on the mat.', 'The dog ate my homework.']\n",
    "characters = string.printable"
   ]
  },
  {
   "cell_type": "code",
   "execution_count": 7,
   "id": "47fa2c0f",
   "metadata": {},
   "outputs": [
    {
     "name": "stdout",
     "output_type": "stream",
     "text": [
      "{'0': 1, '1': 2, '2': 3, '3': 4, '4': 5, '5': 6, '6': 7, '7': 8, '8': 9, '9': 10, 'a': 11, 'b': 12, 'c': 13, 'd': 14, 'e': 15, 'f': 16, 'g': 17, 'h': 18, 'i': 19, 'j': 20, 'k': 21, 'l': 22, 'm': 23, 'n': 24, 'o': 25, 'p': 26, 'q': 27, 'r': 28, 's': 29, 't': 30, 'u': 31, 'v': 32, 'w': 33, 'x': 34, 'y': 35, 'z': 36, 'A': 37, 'B': 38, 'C': 39, 'D': 40, 'E': 41, 'F': 42, 'G': 43, 'H': 44, 'I': 45, 'J': 46, 'K': 47, 'L': 48, 'M': 49, 'N': 50, 'O': 51, 'P': 52, 'Q': 53, 'R': 54, 'S': 55, 'T': 56, 'U': 57, 'V': 58, 'W': 59, 'X': 60, 'Y': 61, 'Z': 62, '!': 63, '\"': 64, '#': 65, '$': 66, '%': 67, '&': 68, \"'\": 69, '(': 70, ')': 71, '*': 72, '+': 73, ',': 74, '-': 75, '.': 76, '/': 77, ':': 78, ';': 79, '<': 80, '=': 81, '>': 82, '?': 83, '@': 84, '[': 85, '\\\\': 86, ']': 87, '^': 88, '_': 89, '`': 90, '{': 91, '|': 92, '}': 93, '~': 94, ' ': 95, '\\t': 96, '\\n': 97, '\\r': 98, '\\x0b': 99, '\\x0c': 100}\n"
     ]
    }
   ],
   "source": [
    "#Creates a dictionary with all the string characters\n",
    "token_index = dict(zip(characters , range(1, len(characters) + 1),))\n",
    "print(token_index)"
   ]
  },
  {
   "cell_type": "code",
   "execution_count": 8,
   "id": "6a4eff3e",
   "metadata": {},
   "outputs": [],
   "source": [
    "max_length = 50\n",
    "results = np.zeros((len(samples), max_length, max(token_index.values()) + 1))"
   ]
  },
  {
   "cell_type": "code",
   "execution_count": 9,
   "id": "47b670ab",
   "metadata": {},
   "outputs": [],
   "source": [
    "for i, sample in enumerate(samples):\n",
    "    \n",
    "    for j, character in enumerate(sample):\n",
    "        index = token_index.get(character)\n",
    "        results[i, j, index] = 1."
   ]
  },
  {
   "cell_type": "markdown",
   "id": "494f0ebd",
   "metadata": {},
   "source": [
    "<Strong> Keras Dealing With Word Matrix's </Strong>"
   ]
  },
  {
   "cell_type": "code",
   "execution_count": 10,
   "id": "0a788065",
   "metadata": {},
   "outputs": [],
   "source": [
    "from keras.preprocessing.text import Tokenizer"
   ]
  },
  {
   "cell_type": "code",
   "execution_count": 11,
   "id": "6f002540",
   "metadata": {},
   "outputs": [],
   "source": [
    "samples = ['The cat sat on the mat.', 'The dog ate my homework.']"
   ]
  },
  {
   "cell_type": "code",
   "execution_count": 12,
   "id": "eb5688bc",
   "metadata": {},
   "outputs": [
    {
     "name": "stdout",
     "output_type": "stream",
     "text": [
      "Found 9 unique tokens.\n"
     ]
    }
   ],
   "source": [
    "#Only take the most 1000 common words\n",
    "tokenizer = Tokenizer(num_words=1000)\n",
    "#Builds the word index\n",
    "tokenizer.fit_on_texts(samples)\n",
    "\n",
    "#pipes samples in the word index and returns list of index's \n",
    "sequences = tokenizer.texts_to_sequences(samples)\n",
    "\n",
    "#Can pipe samples in to return binary matrix's\n",
    "one_hot_results = tokenizer.texts_to_matrix(samples, mode='binary')\n",
    "\n",
    "word_index = tokenizer.word_index\n",
    "print('Found %s unique tokens.' % len(word_index))"
   ]
  },
  {
   "cell_type": "markdown",
   "id": "c951f3a2",
   "metadata": {},
   "source": [
    "<Strong> One Hot Encoding With Hashes </Strong>"
   ]
  },
  {
   "cell_type": "markdown",
   "id": "a372ee57",
   "metadata": {},
   "source": [
    "<Strong> When the number of unique tokens in vocabulary is too large. Hashing words in samples without having a dictionary of all words in vocab. </Strong>"
   ]
  },
  {
   "cell_type": "code",
   "execution_count": 13,
   "id": "69de17f9",
   "metadata": {},
   "outputs": [],
   "source": [
    "samples = ['The cat sat on the mat.', 'The dog ate my homework.']"
   ]
  },
  {
   "cell_type": "code",
   "execution_count": 14,
   "id": "43d64e49",
   "metadata": {},
   "outputs": [],
   "source": [
    "dimensionality = 1000\n",
    "max_length = 10"
   ]
  },
  {
   "cell_type": "code",
   "execution_count": 15,
   "id": "72796a21",
   "metadata": {},
   "outputs": [],
   "source": [
    "results = np.zeros((len(samples), max_length, dimensionality))"
   ]
  },
  {
   "cell_type": "code",
   "execution_count": 16,
   "id": "5dbcd017",
   "metadata": {},
   "outputs": [],
   "source": [
    "for i, sample in enumerate(samples):\n",
    "    for j, word in list(enumerate(sample.split()))[:max_length]:\n",
    "        index = abs(hash(word)) % dimensionality\n",
    "        results[i, j, index] = 1."
   ]
  },
  {
   "cell_type": "markdown",
   "id": "e35aa619",
   "metadata": {},
   "source": [
    "<Strong> Word Embeddings - Embedding Layer. More information in smaller space. </Strong>"
   ]
  },
  {
   "cell_type": "code",
   "execution_count": 17,
   "id": "7226fc17",
   "metadata": {},
   "outputs": [],
   "source": [
    "from keras.layers import Embedding\n",
    "from keras.datasets import imdb\n",
    "from keras import preprocessing\n",
    "from keras.models import Sequential \n",
    "from keras.layers import Flatten, Dense"
   ]
  },
  {
   "cell_type": "markdown",
   "id": "cf2ac162",
   "metadata": {},
   "source": [
    "<Strong> Limitting each (25,000) review to 20 words. </Strong>"
   ]
  },
  {
   "cell_type": "code",
   "execution_count": 18,
   "id": "d896453e",
   "metadata": {},
   "outputs": [],
   "source": [
    "max_features = 10000\n",
    "maxlen = 20\n",
    "\n",
    "(x_train, y_train), (x_test, y_test) = imdb.load_data( num_words = max_features)\n",
    "\n",
    "#Padding the data so output of flatten is 160\n",
    "x_train = preprocessing.sequence.pad_sequences(x_train, maxlen=maxlen)\n",
    "x_test = preprocessing.sequence.pad_sequences(x_test, maxlen=maxlen)\n",
    "                "
   ]
  },
  {
   "cell_type": "code",
   "execution_count": 19,
   "id": "3b908930",
   "metadata": {},
   "outputs": [
    {
     "name": "stdout",
     "output_type": "stream",
     "text": [
      "[  23    4 1690   15   16    4 1355    5   28    6   52  154  462   33\n",
      "   89   78  285   16  145   95]\n",
      "False\n"
     ]
    }
   ],
   "source": [
    "is_in = False\n",
    "\n",
    "for i in range (25000):\n",
    "\n",
    "    if 3 in x_train[i]:\n",
    "        is_in = True\n",
    "\n",
    "print(x_train[1])\n",
    "print(is_in)"
   ]
  },
  {
   "cell_type": "code",
   "execution_count": 21,
   "id": "7ca1a647",
   "metadata": {},
   "outputs": [
    {
     "name": "stdout",
     "output_type": "stream",
     "text": [
      "Model: \"sequential_1\"\n",
      "_________________________________________________________________\n",
      " Layer (type)                Output Shape              Param #   \n",
      "=================================================================\n",
      " embedding (Embedding)       (None, 20, 8)             80000     \n",
      "                                                                 \n",
      " flatten_1 (Flatten)         (None, 160)               0         \n",
      "                                                                 \n",
      " dense_1 (Dense)             (None, 1)                 161       \n",
      "                                                                 \n",
      "=================================================================\n",
      "Total params: 80,161\n",
      "Trainable params: 80,161\n",
      "Non-trainable params: 0\n",
      "_________________________________________________________________\n",
      "[-0.01460366 -0.018453    0.01069881  0.0389916  -0.03847711  0.03245271\n",
      " -0.01783032 -0.02705706]\n",
      "[-0.00914289 -0.03688369  0.0366738   0.01429914  0.04475195  0.0402208\n",
      " -0.03055966  0.00807568]\n",
      "[ 0.04448454  0.04932742  0.02863828  0.04292106  0.02525959 -0.04874728\n",
      " -0.03675281 -0.01348206]\n"
     ]
    }
   ],
   "source": [
    "model = Sequential()\n",
    "\n",
    "#Maximum input length . After embedding layer activations have shape 8\n",
    "model.add(Embedding(10000, 8, input_length=maxlen , name='embedding'))\n",
    "model.add(Flatten())\n",
    "model.add(Dense(1, activation='sigmoid'))\n",
    "model.compile(optimizer='rmsprop', loss='binary_crossentropy', metrics=['acc']) \n",
    "model.summary()\n",
    "\n",
    "#We create weights for all 10,000 word in vocab\n",
    "weights = model.get_layer('embedding').get_weights()"
   ]
  },
  {
   "cell_type": "code",
   "execution_count": 22,
   "id": "3e0cab3d",
   "metadata": {},
   "outputs": [
    {
     "name": "stdout",
     "output_type": "stream",
     "text": [
      "Epoch 1/10\n",
      "625/625 [==============================] - 1s 1ms/step - loss: 0.6630 - acc: 0.6328 - val_loss: 0.6034 - val_acc: 0.7058\n",
      "Epoch 2/10\n",
      "625/625 [==============================] - 1s 1ms/step - loss: 0.5288 - acc: 0.7538 - val_loss: 0.5186 - val_acc: 0.7304\n",
      "Epoch 3/10\n",
      "625/625 [==============================] - 1s 1ms/step - loss: 0.4569 - acc: 0.7883 - val_loss: 0.4976 - val_acc: 0.7412\n",
      "Epoch 4/10\n",
      "625/625 [==============================] - 1s 1ms/step - loss: 0.4220 - acc: 0.8077 - val_loss: 0.4914 - val_acc: 0.7520\n",
      "Epoch 5/10\n",
      "625/625 [==============================] - 1s 1ms/step - loss: 0.3973 - acc: 0.8224 - val_loss: 0.4926 - val_acc: 0.7560\n",
      "Epoch 6/10\n",
      "625/625 [==============================] - 1s 1ms/step - loss: 0.3787 - acc: 0.8307 - val_loss: 0.4962 - val_acc: 0.7566\n",
      "Epoch 7/10\n",
      "625/625 [==============================] - 1s 1ms/step - loss: 0.3612 - acc: 0.8412 - val_loss: 0.5009 - val_acc: 0.7560\n",
      "Epoch 8/10\n",
      "625/625 [==============================] - 1s 1ms/step - loss: 0.3439 - acc: 0.8503 - val_loss: 0.5066 - val_acc: 0.7562\n",
      "Epoch 9/10\n",
      "625/625 [==============================] - 1s 1ms/step - loss: 0.3291 - acc: 0.8590 - val_loss: 0.5143 - val_acc: 0.7520\n",
      "Epoch 10/10\n",
      "625/625 [==============================] - 1s 1ms/step - loss: 0.3130 - acc: 0.8684 - val_loss: 0.5181 - val_acc: 0.7556\n"
     ]
    }
   ],
   "source": [
    "history = model.fit(x_train, y_train, epochs=10,batch_size=32, validation_split=0.2)"
   ]
  },
  {
   "cell_type": "code",
   "execution_count": 24,
   "id": "36b87f5c",
   "metadata": {},
   "outputs": [],
   "source": [
    "#The words used in training have updated weights , we can then compare weights of particular words to see if they are similar.\n",
    "weighties = model.get_layer('embedding').get_weights()"
   ]
  },
  {
   "cell_type": "code",
   "execution_count": null,
   "id": "df71cb3c",
   "metadata": {},
   "outputs": [],
   "source": []
  }
 ],
 "metadata": {
  "kernelspec": {
   "display_name": "Python 3 (ipykernel)",
   "language": "python",
   "name": "python3"
  },
  "language_info": {
   "codemirror_mode": {
    "name": "ipython",
    "version": 3
   },
   "file_extension": ".py",
   "mimetype": "text/x-python",
   "name": "python",
   "nbconvert_exporter": "python",
   "pygments_lexer": "ipython3",
   "version": "3.10.0"
  }
 },
 "nbformat": 4,
 "nbformat_minor": 5
}
