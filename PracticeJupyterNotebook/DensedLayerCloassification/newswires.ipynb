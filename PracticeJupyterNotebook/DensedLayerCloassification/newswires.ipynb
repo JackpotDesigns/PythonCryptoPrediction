{
 "cells": [
  {
   "cell_type": "markdown",
   "id": "b3855a7f",
   "metadata": {},
   "source": [
    "<Strong> Multi-Class Classification </Strong>"
   ]
  },
  {
   "cell_type": "markdown",
   "id": "721f542d",
   "metadata": {},
   "source": [
    "<Strong> The dimensionality of the output space is much Larger. </Strong>"
   ]
  },
  {
   "cell_type": "code",
   "execution_count": 1,
   "id": "ea4037c5",
   "metadata": {},
   "outputs": [],
   "source": [
    "from keras.datasets import reuters\n",
    "import numpy as np\n",
    "from keras import models\n",
    "from keras import layers\n",
    "from tensorflow.keras import optimizers\n",
    "import matplotlib.pyplot as plt"
   ]
  },
  {
   "cell_type": "code",
   "execution_count": 2,
   "id": "a42651f1",
   "metadata": {},
   "outputs": [
    {
     "name": "stdout",
     "output_type": "stream",
     "text": [
      "Downloading data from https://storage.googleapis.com/tensorflow/tf-keras-datasets/reuters.npz\n",
      "2113536/2110848 [==============================] - 0s 0us/step\n",
      "2121728/2110848 [==============================] - 0s 0us/step\n"
     ]
    }
   ],
   "source": [
    "(train_data, train_labels), (test_data, test_labels) = reuters.load_data(\n",
    "    num_words=10000)"
   ]
  },
  {
   "cell_type": "markdown",
   "id": "420d9c05",
   "metadata": {},
   "source": [
    "<p> Train Data is filled with news articles in the form of lists filled with index , corrosponding to words. Restricting to 10000 most common words. </p>"
   ]
  },
  {
   "cell_type": "code",
   "execution_count": 3,
   "id": "9d0b6583",
   "metadata": {},
   "outputs": [
    {
     "name": "stdout",
     "output_type": "stream",
     "text": [
      "Downloading data from https://storage.googleapis.com/tensorflow/tf-keras-datasets/reuters_word_index.json\n",
      "557056/550378 [==============================] - 0s 0us/step\n",
      "565248/550378 [==============================] - 0s 0us/step\n",
      "? seton co said its board has received a proposal from chairman and chief executive officer philip d ? to acquire seton for 15 75 dlrs per share in cash seton said the acquisition bid is subject to ? arranging the necessary financing it said he intends to ask other members of senior management to participate the company said ? owns 30 pct of seton stock and other management members another 7 5 pct seton said it has formed an independent board committee to consider the offer and has deferred the annual meeting it had scheduled for march 31 reuter 3\n"
     ]
    }
   ],
   "source": [
    "word_index = reuters.get_word_index()\n",
    "\n",
    "reverse_word_index = dict([(value, key) for (key, value) in word_index.items()]) \n",
    "decoded_newswire = ' '.join([reverse_word_index.get(i - 3, '?') for i in train_data[4]])\n",
    "\n",
    "print(decoded_newswire)\n"
   ]
  },
  {
   "cell_type": "markdown",
   "id": "b7c55307",
   "metadata": {},
   "source": [
    "<Strong> Labels are integers between 0 - 45 (Multi-class) </Strong>"
   ]
  },
  {
   "cell_type": "code",
   "execution_count": 4,
   "id": "13f42a56",
   "metadata": {},
   "outputs": [
    {
     "data": {
      "text/plain": [
       "8982"
      ]
     },
     "execution_count": 4,
     "metadata": {},
     "output_type": "execute_result"
    }
   ],
   "source": [
    "len(train_labels)"
   ]
  },
  {
   "cell_type": "code",
   "execution_count": 5,
   "id": "8c40c8e2",
   "metadata": {},
   "outputs": [],
   "source": [
    "def vectorize_sequences(sequences , dimension = 10000):\n",
    "    \n",
    "    # List with 8982 / 2246 Rows and 10,000 Columns (Max no. of words)\n",
    "    results = np.zeros((len(sequences), dimension))\n",
    "    \n",
    "    for i , sequence in enumerate(sequences):\n",
    "        results[i,sequence] = 1.\n",
    "        \n",
    "    return results"
   ]
  },
  {
   "cell_type": "markdown",
   "id": "c55a3ad8",
   "metadata": {},
   "source": [
    "<Strong> train + test are now a matrix with (8982 / 2246) rows and 10,000 cols respectively </Strong>"
   ]
  },
  {
   "cell_type": "code",
   "execution_count": 6,
   "id": "e08b9939",
   "metadata": {},
   "outputs": [
    {
     "name": "stdout",
     "output_type": "stream",
     "text": [
      "[[0. 1. 1. ... 0. 0. 0.]\n",
      " [0. 1. 1. ... 0. 0. 0.]\n",
      " [0. 1. 1. ... 0. 0. 0.]\n",
      " ...\n",
      " [0. 1. 1. ... 0. 0. 0.]\n",
      " [0. 1. 1. ... 0. 0. 0.]\n",
      " [0. 1. 1. ... 0. 0. 0.]]\n"
     ]
    }
   ],
   "source": [
    "x_train = vectorize_sequences(train_data)\n",
    "x_test = vectorize_sequences(test_data) \n",
    "\n",
    "print(x_train)"
   ]
  },
  {
   "cell_type": "code",
   "execution_count": 7,
   "id": "c8a3491e",
   "metadata": {},
   "outputs": [],
   "source": [
    "def oneHot(labels , dimensions = 46):\n",
    "    \n",
    "    # List with 8982 / 2246 rows and 46 cols (one for each class)\n",
    "    results = np.zeros((len(labels) , dimensions))\n",
    "    \n",
    "    for i , label in enumerate (labels):\n",
    "        results[i,label] = 1.\n",
    "        \n",
    "    return results"
   ]
  },
  {
   "cell_type": "markdown",
   "id": "0eb77a91",
   "metadata": {},
   "source": [
    "<Strong> Train + Tests labels are now a matrix with (8982/2246) rows and 46 cols (one for each class) respectively. </Strong>"
   ]
  },
  {
   "cell_type": "code",
   "execution_count": 8,
   "id": "1d605c43",
   "metadata": {},
   "outputs": [
    {
     "name": "stdout",
     "output_type": "stream",
     "text": [
      "[[0. 0. 0. ... 0. 0. 0.]\n",
      " [0. 0. 0. ... 0. 0. 0.]\n",
      " [0. 0. 0. ... 0. 0. 0.]\n",
      " ...\n",
      " [0. 0. 0. ... 0. 0. 0.]\n",
      " [0. 0. 0. ... 0. 0. 0.]\n",
      " [0. 0. 0. ... 0. 0. 0.]]\n"
     ]
    }
   ],
   "source": [
    "one_hot_train_labels = oneHot(train_labels)\n",
    "one_hot_test_labels = oneHot(test_labels)\n",
    "\n",
    "print(one_hot_train_labels)"
   ]
  },
  {
   "cell_type": "markdown",
   "id": "0624c870",
   "metadata": {},
   "source": [
    "<Strong> For each input, we output a 46-dimensional vector. Softmax function , distributes probability of 46 output classes. Sum to 1. </Strong>"
   ]
  },
  {
   "cell_type": "code",
   "execution_count": 9,
   "id": "ec646874",
   "metadata": {},
   "outputs": [
    {
     "name": "stderr",
     "output_type": "stream",
     "text": [
      "2022-01-24 10:47:37.315976: I tensorflow/core/platform/cpu_feature_guard.cc:151] This TensorFlow binary is optimized with oneAPI Deep Neural Network Library (oneDNN) to use the following CPU instructions in performance-critical operations:  AVX2 FMA\n",
      "To enable them in other operations, rebuild TensorFlow with the appropriate compiler flags.\n"
     ]
    }
   ],
   "source": [
    "model = models.Sequential()\n",
    "model.add(layers.Dense(64, activation='relu', input_shape=(10000,)))\n",
    "model.add(layers.Dense(64, activation='relu'))\n",
    "model.add(layers.Dense(46, activation='softmax'))"
   ]
  },
  {
   "cell_type": "code",
   "execution_count": 10,
   "id": "a3bdb5c5",
   "metadata": {},
   "outputs": [],
   "source": [
    "model.compile(optimizer='rmsprop',\n",
    "              loss='categorical_crossentropy',\n",
    "              metrics=['accuracy'])"
   ]
  },
  {
   "cell_type": "code",
   "execution_count": 11,
   "id": "a2df6538",
   "metadata": {},
   "outputs": [],
   "source": [
    "x_val = x_train[:1000]\n",
    "partial_x_train = x_train[1000:]\n",
    "\n",
    "y_val = one_hot_train_labels[:1000]\n",
    "partial_y_train = one_hot_train_labels[1000:]"
   ]
  },
  {
   "cell_type": "code",
   "execution_count": null,
   "id": "26b51b76",
   "metadata": {},
   "outputs": [
    {
     "name": "stdout",
     "output_type": "stream",
     "text": [
      "Epoch 1/9\n",
      "16/16 [==============================] - 1s 33ms/step - loss: 2.6646 - accuracy: 0.5430 - val_loss: 1.7811 - val_accuracy: 0.6280\n",
      "Epoch 2/9\n",
      "16/16 [==============================] - 0s 24ms/step - loss: 1.4693 - accuracy: 0.6999 - val_loss: 1.3211 - val_accuracy: 0.7110\n",
      "Epoch 3/9\n",
      "15/16 [===========================>..] - ETA: 0s - loss: 1.0816 - accuracy: 0.7714"
     ]
    }
   ],
   "source": [
    "history = model.fit(partial_x_train,\n",
    "                    partial_y_train,\n",
    "                    epochs=9,\n",
    "                    batch_size=512,\n",
    "                    validation_data=(x_val, y_val))"
   ]
  },
  {
   "cell_type": "code",
   "execution_count": 153,
   "id": "edd26d5d",
   "metadata": {},
   "outputs": [
    {
     "data": {
      "image/png": "[encoded data removed]",
      "text/plain": [
       "<Figure size 432x288 with 1 Axes>"
      ]
     },
     "metadata": {
      "needs_background": "light"
     },
     "output_type": "display_data"
    }
   ],
   "source": [
    "loss = history.history['loss']\n",
    "val_loss = history.history['val_loss']\n",
    "epochs = range(1, len(loss) + 1)\n",
    "plt.plot(epochs, loss, 'bo', label='Training loss')\n",
    "plt.plot(epochs, val_loss, 'b', label='Validation loss')\n",
    "plt.title('Training and validation loss')\n",
    "plt.xlabel('Epochs')\n",
    "plt.ylabel('Loss')\n",
    "plt.legend()\n",
    "plt.show()"
   ]
  },
  {
   "cell_type": "code",
   "execution_count": 154,
   "id": "97fcd0bb",
   "metadata": {},
   "outputs": [
    {
     "data": {
      "image/png": "[encoded data removed]",
      "text/plain": [
       "<Figure size 432x288 with 1 Axes>"
      ]
     },
     "metadata": {
      "needs_background": "light"
     },
     "output_type": "display_data"
    }
   ],
   "source": [
    "plt.clf()\n",
    "acc = history.history['accuracy']\n",
    "val_acc = history.history['val_accuracy']\n",
    "plt.plot(epochs, acc, 'bo', label='Training acc')\n",
    "plt.plot(epochs, val_acc, 'b', label='Validation acc')\n",
    "plt.title('Training and validation accuracy')\n",
    "plt.xlabel('Epochs')\n",
    "plt.ylabel('Loss')\n",
    "plt.legend()\n",
    "plt.show()"
   ]
  },
  {
   "cell_type": "code",
   "execution_count": 166,
   "id": "60002ca7",
   "metadata": {},
   "outputs": [
    {
     "name": "stdout",
     "output_type": "stream",
     "text": [
      "Epoch 1/9\n",
      "16/16 [==============================] - 1s 31ms/step - loss: 2.4966 - accuracy: 0.4989 - val_loss: 1.6842 - val_accuracy: 0.6200\n",
      "Epoch 2/9\n",
      "16/16 [==============================] - 0s 21ms/step - loss: 1.3949 - accuracy: 0.6976 - val_loss: 1.2977 - val_accuracy: 0.7160\n",
      "Epoch 3/9\n",
      "16/16 [==============================] - 0s 20ms/step - loss: 1.0416 - accuracy: 0.7734 - val_loss: 1.1288 - val_accuracy: 0.7540\n",
      "Epoch 4/9\n",
      "16/16 [==============================] - 0s 20ms/step - loss: 0.8158 - accuracy: 0.8222 - val_loss: 1.0220 - val_accuracy: 0.7770\n",
      "Epoch 5/9\n",
      "16/16 [==============================] - 0s 19ms/step - loss: 0.6509 - accuracy: 0.8622 - val_loss: 0.9564 - val_accuracy: 0.8000\n",
      "Epoch 6/9\n",
      "16/16 [==============================] - 0s 22ms/step - loss: 0.5204 - accuracy: 0.8935 - val_loss: 0.9195 - val_accuracy: 0.7990\n",
      "Epoch 7/9\n",
      "16/16 [==============================] - 0s 21ms/step - loss: 0.4211 - accuracy: 0.9143 - val_loss: 0.9030 - val_accuracy: 0.8030\n",
      "Epoch 8/9\n",
      "16/16 [==============================] - 0s 24ms/step - loss: 0.3404 - accuracy: 0.9277 - val_loss: 0.9280 - val_accuracy: 0.7990\n",
      "Epoch 9/9\n",
      "16/16 [==============================] - 0s 20ms/step - loss: 0.2827 - accuracy: 0.9379 - val_loss: 0.8944 - val_accuracy: 0.8100\n",
      "71/71 [==============================] - 0s 2ms/step - loss: 0.9601 - accuracy: 0.7841\n"
     ]
    }
   ],
   "source": [
    "model = models.Sequential()\n",
    "model.add(layers.Dense(64, activation='relu', input_shape=(10000,)))\n",
    "model.add(layers.Dense(64, activation='relu'))\n",
    "model.add(layers.Dense(46, activation='softmax'))\n",
    "model.compile(optimizer='rmsprop',\n",
    "              loss='categorical_crossentropy',\n",
    "              metrics=['accuracy'])\n",
    "model.fit(partial_x_train,\n",
    "          partial_y_train,\n",
    "          epochs=9,\n",
    "          batch_size=512,\n",
    "          validation_data=(x_val, y_val))\n",
    "results = model.evaluate(x_test, one_hot_test_labels)"
   ]
  },
  {
   "cell_type": "markdown",
   "id": "fc2f0e3f",
   "metadata": {},
   "source": [
    "<Strong> Loss and Accuracy </Strong>"
   ]
  },
  {
   "cell_type": "code",
   "execution_count": 170,
   "id": "a10eea11",
   "metadata": {},
   "outputs": [],
   "source": [
    "predicts= model.predict(x_test)"
   ]
  },
  {
   "cell_type": "markdown",
   "id": "6c97dc0d",
   "metadata": {},
   "source": [
    "<Strong> For first example , whats index is the biggest (strongest probability , class). </Strong>"
   ]
  },
  {
   "cell_type": "code",
   "execution_count": 189,
   "id": "1210246c",
   "metadata": {},
   "outputs": [
    {
     "name": "stdout",
     "output_type": "stream",
     "text": [
      "3\n",
      "0.88241637\n"
     ]
    }
   ],
   "source": [
    "#print(np.argmax(predicts[0]))\n",
    "#print(predicts[0][3])"
   ]
  },
  {
   "cell_type": "code",
   "execution_count": null,
   "id": "e1edfe2a",
   "metadata": {},
   "outputs": [],
   "source": [
    "print(predicts)"
   ]
  },
  {
   "cell_type": "code",
   "execution_count": null,
   "id": "69dd1a2b",
   "metadata": {},
   "outputs": [],
   "source": []
  },
  {
   "cell_type": "code",
   "execution_count": null,
   "id": "b0c790e8",
   "metadata": {},
   "outputs": [],
   "source": []
  }
 ],
 "metadata": {
  "kernelspec": {
   "display_name": "Python 3 (ipykernel)",
   "language": "python",
   "name": "python3"
  },
  "language_info": {
   "codemirror_mode": {
    "name": "ipython",
    "version": 3
   },
   "file_extension": ".py",
   "mimetype": "text/x-python",
   "name": "python",
   "nbconvert_exporter": "python",
   "pygments_lexer": "ipython3",
   "version": "3.9.10"
  }
 },
 "nbformat": 4,
 "nbformat_minor": 5
}
