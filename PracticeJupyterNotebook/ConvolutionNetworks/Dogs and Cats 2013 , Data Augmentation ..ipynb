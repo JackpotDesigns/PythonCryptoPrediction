{
 "cells": [
  {
   "cell_type": "markdown",
   "id": "663543e2",
   "metadata": {},
   "source": [
    "<Strong> Dogs and Cats Few Examples , CNN </Strong>"
   ]
  },
  {
   "cell_type": "code",
   "execution_count": 102,
   "id": "0117c338",
   "metadata": {},
   "outputs": [],
   "source": [
    "import os, shutil\n",
    "import matplotlib.pyplot as plt\n",
    "from tensorflow.keras.preprocessing import image"
   ]
  },
  {
   "cell_type": "code",
   "execution_count": 103,
   "id": "f42abd26",
   "metadata": {},
   "outputs": [],
   "source": [
    "#original_dataset_dir = '/Users/jackyboy/Downloads/kaggle_original_data/train'"
   ]
  },
  {
   "cell_type": "code",
   "execution_count": 104,
   "id": "4b734dcb",
   "metadata": {},
   "outputs": [],
   "source": [
    "#base_dir = '/Users/jackyboy/Downloads/cats_and_dogs_small'\n",
    "#os.mkdir(base_dir)"
   ]
  },
  {
   "cell_type": "code",
   "execution_count": 105,
   "id": "7fd1b03d",
   "metadata": {},
   "outputs": [],
   "source": [
    "#train_dir = os.path.join(base_dir, 'train')\n",
    "#os.mkdir(train_dir)\n",
    "\n",
    "validation_dir = '/Users/jackyboy/Downloads/cats_and_dogs_small/validation'\n",
    "#validation_dir = os.path.join(base_dir, 'validation')\n",
    "#os.mkdir(validation_dir)\n",
    "\n",
    "#test_dir = os.path.join(base_dir, 'test')\n",
    "#os.mkdir(test_dir)"
   ]
  },
  {
   "cell_type": "code",
   "execution_count": 106,
   "id": "d8f0bdbb",
   "metadata": {},
   "outputs": [],
   "source": [
    "train_cats_dir = '/Users/jackyboy/Downloads/cats_and_dogs_small/train/cats'\n",
    "#os.mkdir(train_cats_dir)\n",
    "\n",
    "train_dogs_dir = '/Users/jackyboy/Downloads/cats_and_dogs_small/train/dogs'\n",
    "#train_dogs_dir = os.path.join(train_dir, 'dogs')\n",
    "#os.mkdir(train_dogs_dir)"
   ]
  },
  {
   "cell_type": "code",
   "execution_count": 107,
   "id": "1367a164",
   "metadata": {},
   "outputs": [],
   "source": [
    "validation_cats_dir = '/Users/jackyboy/Downloads/cats_and_dogs_small/validation/cats'\n",
    "#validation_cats_dir = os.path.join(validation_dir, 'cats')\n",
    "#os.mkdir(validation_cats_dir)\n",
    "\n",
    "validation_dogs_dir ='/Users/jackyboy/Downloads/cats_and_dogs_small/validation/dogs'\n",
    "#validation_dogs_dir = os.path.join(validation_dir, 'dogs')\n",
    "#os.mkdir(validation_dogs_dir)"
   ]
  },
  {
   "cell_type": "code",
   "execution_count": 108,
   "id": "532e7430",
   "metadata": {},
   "outputs": [],
   "source": [
    "test_cats_dir = '/Users/jackyboy/Downloads/cats_and_dogs_small/test/cats'\n",
    "#test_cats_dir = os.path.join(test_dir, 'cats')\n",
    "#os.mkdir(test_cats_dir)\n",
    "\n",
    "test_dogs_dir = '/Users/jackyboy/Downloads/cats_and_dogs_small/test/dogs'\n",
    "#test_dogs_dir = os.path.join(test_dir, 'dogs')\n",
    "#os.mkdir(test_dogs_dir)"
   ]
  },
  {
   "cell_type": "markdown",
   "id": "13c59580",
   "metadata": {},
   "source": [
    "<Strong> First 1000 cat images to train folder. </Strong>"
   ]
  },
  {
   "cell_type": "code",
   "execution_count": 109,
   "id": "f138e2a4",
   "metadata": {},
   "outputs": [],
   "source": [
    "#fnames = ['cat.{}.jpg'.format(i) for i in range(1000)]\n",
    "#for fname in fnames:\n",
    "#    src = os.path.join(original_dataset_dir, fname)\n",
    "#    dst = os.path.join(train_cats_dir, fname)\n",
    "#    shutil.copyfile(src, dst)"
   ]
  },
  {
   "cell_type": "markdown",
   "id": "5832b621",
   "metadata": {},
   "source": [
    "<Strong> 500 Images to the validation set for cats . </Strong>"
   ]
  },
  {
   "cell_type": "code",
   "execution_count": 110,
   "id": "899b0e16",
   "metadata": {},
   "outputs": [],
   "source": [
    "#fnames = ['cat.{}.jpg'.format(i) for i in range(1000, 1500)]\n",
    "#for fname in fnames:\n",
    "#    src = os.path.join(original_dataset_dir , fname)\n",
    "#    dst = os.path.join(validation_cats_dir, fname)\n",
    "#    shutil.copyfile(src, dst)"
   ]
  },
  {
   "cell_type": "markdown",
   "id": "9f5cb9c1",
   "metadata": {},
   "source": [
    "<Strong> 500 images for testing. </Strong>"
   ]
  },
  {
   "cell_type": "code",
   "execution_count": 111,
   "id": "2039fbca",
   "metadata": {},
   "outputs": [],
   "source": [
    "#fnames = ['cat.{}.jpg'.format(i) for i in range(1500, 2000)]\n",
    "#for fname in fnames:\n",
    "#    src = os.path.join(original_dataset_dir, fname)\n",
    "#    dst = os.path.join(test_cats_dir, fname)\n",
    "#    shutil.copyfile(src, dst)"
   ]
  },
  {
   "cell_type": "markdown",
   "id": "2f24247c",
   "metadata": {},
   "source": [
    "<Strong> Dog 1000 train images. <Strong>"
   ]
  },
  {
   "cell_type": "code",
   "execution_count": 112,
   "id": "04281d56",
   "metadata": {},
   "outputs": [],
   "source": [
    "#fnames = ['dog.{}.jpg'.format(i) for i in range(1000)]\n",
    "#for fname in fnames:\n",
    "#    src = os.path.join(original_dataset_dir, fname)\n",
    "#    dst = os.path.join(train_dogs_dir, fname)\n",
    "#    shutil.copyfile(src, dst)"
   ]
  },
  {
   "cell_type": "code",
   "execution_count": 113,
   "id": "7986cc42",
   "metadata": {},
   "outputs": [],
   "source": [
    "#fnames = ['dog.{}.jpg'.format(i) for i in range(1000, 1500)]\n",
    "#for fname in fnames:\n",
    "#    src = os.path.join(original_dataset_dir, fname)\n",
    "#    dst = os.path.join(validation_dogs_dir, fname)\n",
    "#    shutil.copyfile(src, dst)"
   ]
  },
  {
   "cell_type": "code",
   "execution_count": 114,
   "id": "83007e25",
   "metadata": {},
   "outputs": [],
   "source": [
    "#fnames = ['dog.{}.jpg'.format(i) for i in range(1500, 2000)]\n",
    "#for fname in fnames:\n",
    "#    src = os.path.join(original_dataset_dir, fname)\n",
    "#    dst = os.path.join(test_dogs_dir, fname)\n",
    "#   shutil.copyfile(src, dst)"
   ]
  },
  {
   "cell_type": "code",
   "execution_count": 115,
   "id": "32ede72f",
   "metadata": {},
   "outputs": [
    {
     "name": "stdout",
     "output_type": "stream",
     "text": [
      "1000\n",
      "500\n",
      "500\n",
      "1000\n",
      "500\n",
      "500\n"
     ]
    }
   ],
   "source": [
    "print(len(os.listdir(train_cats_dir)))\n",
    "print(len(os.listdir(validation_cats_dir)))\n",
    "print(len(os.listdir(test_cats_dir)))\n",
    "\n",
    "print(len(os.listdir(train_dogs_dir)))\n",
    "print(len(os.listdir(validation_dogs_dir)))\n",
    "print(len(os.listdir(test_dogs_dir)))"
   ]
  },
  {
   "cell_type": "markdown",
   "id": "86652817",
   "metadata": {},
   "source": [
    "<Strong> Because the sample images are bigger and problem is more complex , the network will be bigger. </Strong>"
   ]
  },
  {
   "cell_type": "markdown",
   "id": "6052c909",
   "metadata": {},
   "source": [
    "<Strong> The debth of feature map increases , whereas the size of feature map decreases. </Strong>"
   ]
  },
  {
   "cell_type": "markdown",
   "id": "a4e592c0",
   "metadata": {},
   "source": [
    "<Strong> Binary classification , so sigmoid activation as output. </Strong>"
   ]
  },
  {
   "cell_type": "code",
   "execution_count": 116,
   "id": "275d73e5",
   "metadata": {},
   "outputs": [],
   "source": [
    "from tensorflow.keras import layers\n",
    "from tensorflow.keras import models\n",
    "from tensorflow.keras import optimizers\n",
    "from tensorflow.keras.preprocessing.image import ImageDataGenerator"
   ]
  },
  {
   "cell_type": "code",
   "execution_count": 117,
   "id": "6d7859fe",
   "metadata": {},
   "outputs": [],
   "source": [
    "model = models.Sequential()\n",
    "model.add(layers.Conv2D(32, (3, 3), activation='relu',input_shape=(150, 150, 3)))\n",
    "model.add(layers.MaxPooling2D((2, 2)))\n",
    "model.add(layers.Conv2D(64, (3, 3), activation='relu'))\n",
    "model.add(layers.MaxPooling2D((2, 2)))\n",
    "model.add(layers.Conv2D(128, (3, 3), activation='relu'))\n",
    "model.add(layers.MaxPooling2D((2, 2)))\n",
    "model.add(layers.Conv2D(128, (3, 3), activation='relu'))\n",
    "model.add(layers.MaxPooling2D((2, 2)))\n",
    "model.add(layers.Flatten())\n",
    "model.add(layers.Dense(512, activation='relu'))\n",
    "model.add(layers.Dense(1, activation='sigmoid'))"
   ]
  },
  {
   "cell_type": "code",
   "execution_count": 118,
   "id": "c364f1d5",
   "metadata": {},
   "outputs": [
    {
     "name": "stdout",
     "output_type": "stream",
     "text": [
      "Model: \"sequential_2\"\n",
      "_________________________________________________________________\n",
      " Layer (type)                Output Shape              Param #   \n",
      "=================================================================\n",
      " conv2d_8 (Conv2D)           (None, 148, 148, 32)      896       \n",
      "                                                                 \n",
      " max_pooling2d_8 (MaxPooling  (None, 74, 74, 32)       0         \n",
      " 2D)                                                             \n",
      "                                                                 \n",
      " conv2d_9 (Conv2D)           (None, 72, 72, 64)        18496     \n",
      "                                                                 \n",
      " max_pooling2d_9 (MaxPooling  (None, 36, 36, 64)       0         \n",
      " 2D)                                                             \n",
      "                                                                 \n",
      " conv2d_10 (Conv2D)          (None, 34, 34, 128)       73856     \n",
      "                                                                 \n",
      " max_pooling2d_10 (MaxPoolin  (None, 17, 17, 128)      0         \n",
      " g2D)                                                            \n",
      "                                                                 \n",
      " conv2d_11 (Conv2D)          (None, 15, 15, 128)       147584    \n",
      "                                                                 \n",
      " max_pooling2d_11 (MaxPoolin  (None, 7, 7, 128)        0         \n",
      " g2D)                                                            \n",
      "                                                                 \n",
      " flatten_2 (Flatten)         (None, 6272)              0         \n",
      "                                                                 \n",
      " dense_4 (Dense)             (None, 512)               3211776   \n",
      "                                                                 \n",
      " dense_5 (Dense)             (None, 1)                 513       \n",
      "                                                                 \n",
      "=================================================================\n",
      "Total params: 3,453,121\n",
      "Trainable params: 3,453,121\n",
      "Non-trainable params: 0\n",
      "_________________________________________________________________\n"
     ]
    }
   ],
   "source": [
    "model.summary()"
   ]
  },
  {
   "cell_type": "code",
   "execution_count": 119,
   "id": "7719a5a6",
   "metadata": {},
   "outputs": [],
   "source": [
    "model.compile(loss='binary_crossentropy',\n",
    "    optimizer=optimizers.RMSprop(lr=1e-4),\n",
    "    metrics=['acc'])"
   ]
  },
  {
   "cell_type": "markdown",
   "id": "ddedb212",
   "metadata": {},
   "source": [
    "<Strong> \n",
    "    1.Decode the JPEG content to RGB grids of pixels.\n",
    "    2.Convert these into floating-point tensors.\n",
    "    3.Rescale the pixel values (between 0 and 255) to the [0, 1] interval (as you know,\n",
    "neural networks prefer to deal with small input values). \n",
    "\n",
    "</Strong>"
   ]
  },
  {
   "cell_type": "markdown",
   "id": "d667a0f1",
   "metadata": {},
   "source": [
    "<Strong> Using image generator to convert Images to Matrix </Strong>"
   ]
  },
  {
   "cell_type": "code",
   "execution_count": 120,
   "id": "57a06755",
   "metadata": {},
   "outputs": [],
   "source": [
    "train_datagen = ImageDataGenerator(rescale=1./255)\n",
    "test_datagen = ImageDataGenerator(rescale=1./255)"
   ]
  },
  {
   "cell_type": "code",
   "execution_count": 121,
   "id": "c3e67713",
   "metadata": {},
   "outputs": [
    {
     "name": "stdout",
     "output_type": "stream",
     "text": [
      "Found 2000 images belonging to 2 classes.\n"
     ]
    }
   ],
   "source": [
    "train_generator = train_datagen.flow_from_directory(\n",
    "    train_dir,\n",
    "    target_size=(150, 150),\n",
    "    batch_size=20,\n",
    "    class_mode='binary')"
   ]
  },
  {
   "cell_type": "code",
   "execution_count": 122,
   "id": "ee02c952",
   "metadata": {},
   "outputs": [
    {
     "name": "stdout",
     "output_type": "stream",
     "text": [
      "Found 1000 images belonging to 2 classes.\n"
     ]
    }
   ],
   "source": [
    "validation_generator = test_datagen.flow_from_directory(\n",
    "    validation_dir,\n",
    "    target_size=(150, 150),\n",
    "    batch_size=20,\n",
    "    class_mode='binary')"
   ]
  },
  {
   "cell_type": "markdown",
   "id": "17aaafed",
   "metadata": {},
   "source": [
    "<Strong> 20 samples per batch , infinite loop we need to break.</Strong>"
   ]
  },
  {
   "cell_type": "code",
   "execution_count": 123,
   "id": "45b0326b",
   "metadata": {},
   "outputs": [
    {
     "name": "stdout",
     "output_type": "stream",
     "text": [
      "data batch shape: (20, 150, 150, 3) labels batch shape: (20,)\n"
     ]
    }
   ],
   "source": [
    "for data_batch, labels_batch in train_generator:\n",
    "     print('data batch shape:', data_batch.shape ,'labels batch shape:', labels_batch.shape )\n",
    "     break"
   ]
  },
  {
   "cell_type": "markdown",
   "id": "85bd33a2",
   "metadata": {},
   "source": [
    "<Strong> Fitting the Model using generator  </Strong>"
   ]
  },
  {
   "cell_type": "markdown",
   "id": "070f1f57",
   "metadata": {},
   "source": [
    "<Strong> How many batches to take out of generator before declaring epoch over. \n",
    "         steps_per_epoch = Gradient Descent steps . Batches are 20 and there are 2000 samples so 20 * 100(steps_per_epoch)</Strong>"
   ]
  },
  {
   "cell_type": "code",
   "execution_count": 50,
   "id": "bdfef5a6",
   "metadata": {},
   "outputs": [
    {
     "name": "stdout",
     "output_type": "stream",
     "text": [
      "Epoch 1/30\n"
     ]
    },
    {
     "name": "stderr",
     "output_type": "stream",
     "text": [
      "/var/folders/_f/jpr9q2w52wzg1v439ryj1bk00000gn/T/ipykernel_73388/3259228942.py:1: UserWarning: `Model.fit_generator` is deprecated and will be removed in a future version. Please use `Model.fit`, which supports generators.\n",
      "  history = model.fit_generator(\n"
     ]
    },
    {
     "name": "stdout",
     "output_type": "stream",
     "text": [
      "100/100 [==============================] - 38s 377ms/step - loss: 0.6903 - acc: 0.5375 - val_loss: 0.6761 - val_acc: 0.5200\n",
      "Epoch 2/30\n",
      "100/100 [==============================] - 34s 341ms/step - loss: 0.6568 - acc: 0.6105 - val_loss: 0.6429 - val_acc: 0.6320\n",
      "Epoch 3/30\n",
      "100/100 [==============================] - 36s 365ms/step - loss: 0.6136 - acc: 0.6610 - val_loss: 0.6220 - val_acc: 0.6440\n",
      "Epoch 4/30\n",
      "100/100 [==============================] - 35s 352ms/step - loss: 0.5774 - acc: 0.6895 - val_loss: 0.6117 - val_acc: 0.6470\n",
      "Epoch 5/30\n",
      "100/100 [==============================] - 35s 350ms/step - loss: 0.5363 - acc: 0.7260 - val_loss: 0.6573 - val_acc: 0.6280\n",
      "Epoch 6/30\n",
      "100/100 [==============================] - 35s 354ms/step - loss: 0.5046 - acc: 0.7495 - val_loss: 0.5886 - val_acc: 0.6900\n",
      "Epoch 7/30\n",
      "100/100 [==============================] - 37s 375ms/step - loss: 0.4731 - acc: 0.7775 - val_loss: 0.6126 - val_acc: 0.6970\n",
      "Epoch 8/30\n",
      "100/100 [==============================] - 35s 349ms/step - loss: 0.4479 - acc: 0.7900 - val_loss: 0.5714 - val_acc: 0.7110\n",
      "Epoch 9/30\n",
      "100/100 [==============================] - 35s 349ms/step - loss: 0.4145 - acc: 0.8060 - val_loss: 0.5746 - val_acc: 0.7120\n",
      "Epoch 10/30\n",
      "100/100 [==============================] - 36s 358ms/step - loss: 0.3828 - acc: 0.8220 - val_loss: 0.5652 - val_acc: 0.7120\n",
      "Epoch 11/30\n",
      "100/100 [==============================] - 37s 372ms/step - loss: 0.3566 - acc: 0.8455 - val_loss: 0.5838 - val_acc: 0.7040\n",
      "Epoch 12/30\n",
      "100/100 [==============================] - 39s 393ms/step - loss: 0.3281 - acc: 0.8650 - val_loss: 0.6041 - val_acc: 0.7150\n",
      "Epoch 13/30\n",
      "100/100 [==============================] - 38s 383ms/step - loss: 0.3056 - acc: 0.8800 - val_loss: 0.5701 - val_acc: 0.7250\n",
      "Epoch 14/30\n",
      "100/100 [==============================] - 39s 389ms/step - loss: 0.2688 - acc: 0.8900 - val_loss: 0.6977 - val_acc: 0.7030\n",
      "Epoch 15/30\n",
      "100/100 [==============================] - 38s 384ms/step - loss: 0.2462 - acc: 0.8980 - val_loss: 0.6212 - val_acc: 0.7250\n",
      "Epoch 16/30\n",
      "100/100 [==============================] - 39s 389ms/step - loss: 0.2210 - acc: 0.9170 - val_loss: 0.6530 - val_acc: 0.7260\n",
      "Epoch 17/30\n",
      "100/100 [==============================] - 39s 386ms/step - loss: 0.1916 - acc: 0.9235 - val_loss: 0.7273 - val_acc: 0.7180\n",
      "Epoch 18/30\n",
      "100/100 [==============================] - 38s 376ms/step - loss: 0.1732 - acc: 0.9340 - val_loss: 0.7153 - val_acc: 0.7160\n",
      "Epoch 19/30\n",
      "100/100 [==============================] - 37s 369ms/step - loss: 0.1539 - acc: 0.9490 - val_loss: 0.7855 - val_acc: 0.7160\n",
      "Epoch 20/30\n",
      "100/100 [==============================] - 37s 375ms/step - loss: 0.1362 - acc: 0.9525 - val_loss: 0.8048 - val_acc: 0.7200\n",
      "Epoch 21/30\n",
      "100/100 [==============================] - 39s 387ms/step - loss: 0.1093 - acc: 0.9680 - val_loss: 0.7909 - val_acc: 0.7260\n",
      "Epoch 22/30\n",
      "100/100 [==============================] - 38s 384ms/step - loss: 0.0950 - acc: 0.9715 - val_loss: 0.9761 - val_acc: 0.7020\n",
      "Epoch 23/30\n",
      "100/100 [==============================] - 39s 391ms/step - loss: 0.0850 - acc: 0.9720 - val_loss: 0.9686 - val_acc: 0.7060\n",
      "Epoch 24/30\n",
      "100/100 [==============================] - 38s 383ms/step - loss: 0.0688 - acc: 0.9810 - val_loss: 0.9633 - val_acc: 0.7150\n",
      "Epoch 25/30\n",
      "100/100 [==============================] - 37s 369ms/step - loss: 0.0601 - acc: 0.9845 - val_loss: 1.0233 - val_acc: 0.7060\n",
      "Epoch 26/30\n",
      "100/100 [==============================] - 38s 376ms/step - loss: 0.0500 - acc: 0.9880 - val_loss: 1.1165 - val_acc: 0.7010\n",
      "Epoch 27/30\n",
      "100/100 [==============================] - 37s 374ms/step - loss: 0.0401 - acc: 0.9900 - val_loss: 1.3727 - val_acc: 0.6990\n",
      "Epoch 28/30\n",
      "100/100 [==============================] - 38s 377ms/step - loss: 0.0369 - acc: 0.9920 - val_loss: 1.1866 - val_acc: 0.7120\n",
      "Epoch 29/30\n",
      "100/100 [==============================] - 38s 377ms/step - loss: 0.0293 - acc: 0.9930 - val_loss: 1.3491 - val_acc: 0.7010\n",
      "Epoch 30/30\n",
      "100/100 [==============================] - 39s 389ms/step - loss: 0.0260 - acc: 0.9925 - val_loss: 1.2491 - val_acc: 0.7120\n"
     ]
    }
   ],
   "source": [
    "history = model.fit_generator(\n",
    "      train_generator,\n",
    "      steps_per_epoch=100,\n",
    "      epochs=30,\n",
    "      validation_data=validation_generator,\n",
    "      validation_steps=50)"
   ]
  },
  {
   "cell_type": "code",
   "execution_count": 58,
   "id": "719245b6",
   "metadata": {},
   "outputs": [],
   "source": [
    "model.save('cats_and_dogs_small_1.h5')\n"
   ]
  },
  {
   "cell_type": "markdown",
   "id": "6a8ee3a4",
   "metadata": {},
   "source": [
    "<Strong> Plotting Loss and accuracy over the validation and training set. </Strong>"
   ]
  },
  {
   "cell_type": "code",
   "execution_count": 61,
   "id": "7cd2e4a3",
   "metadata": {},
   "outputs": [],
   "source": [
    "acc = history.history['acc']\n",
    "val_acc = history.history['val_acc']\n",
    "loss = history.history['loss']\n",
    "val_loss = history.history['val_loss']\n",
    "\n",
    "epochs = range(1, len(acc) + 1)"
   ]
  },
  {
   "cell_type": "code",
   "execution_count": 62,
   "id": "8a3b42af",
   "metadata": {},
   "outputs": [
    {
     "data": {
      "image/png": "[encoded data removed]",
      "text/plain": [
       "<Figure size 432x288 with 1 Axes>"
      ]
     },
     "metadata": {
      "needs_background": "light"
     },
     "output_type": "display_data"
    },
    {
     "data": {
      "image/png": "[encoded data removed]",
      "text/plain": [
       "<Figure size 432x288 with 1 Axes>"
      ]
     },
     "metadata": {
      "needs_background": "light"
     },
     "output_type": "display_data"
    }
   ],
   "source": [
    "plt.plot(epochs, acc, 'bo', label='Training acc')\n",
    "plt.plot(epochs, val_acc, 'b', label='Validation acc')\n",
    "plt.title('Training and validation accuracy')\n",
    "plt.legend()\n",
    "plt.figure()\n",
    "\n",
    "plt.plot(epochs, loss, 'bo', label='Training loss')\n",
    "plt.plot(epochs, val_loss, 'b', label='Validation loss')\n",
    "plt.title('Training and validation loss')\n",
    "plt.legend()\n",
    "plt.show()"
   ]
  },
  {
   "cell_type": "markdown",
   "id": "ced0347f",
   "metadata": {},
   "source": [
    "<Strong> Overfitting. The training accuracy increases linearly over time, until it reaches nearly 100%, whereas the validation accuracy stalls at 70–72%. The validation loss reaches its minimum after only five epochs and then stalls, whereas the training loss keeps decreasing linearly until it reaches nearly 0.\n",
    "Because you have relatively few training samples (2,000), overfitting will be your number-one concern. </Strong>"
   ]
  },
  {
   "cell_type": "markdown",
   "id": "ac89dfae",
   "metadata": {},
   "source": [
    "<Strong> Data Augmentation </Strong>"
   ]
  },
  {
   "cell_type": "markdown",
   "id": "b7b56f6c",
   "metadata": {},
   "source": [
    "<Strong> Adding a drop-out layer. - overcome overfitting. </Strong>"
   ]
  },
  {
   "cell_type": "code",
   "execution_count": 127,
   "id": "1016870a",
   "metadata": {},
   "outputs": [],
   "source": [
    "model = models.Sequential()\n",
    "model.add(layers.Conv2D(32, (3, 3), activation='relu',\n",
    "                        input_shape=(150, 150, 3)))\n",
    "model.add(layers.MaxPooling2D((2, 2)))\n",
    "model.add(layers.Conv2D(64, (3, 3), activation='relu'))\n",
    "model.add(layers.MaxPooling2D((2, 2)))\n",
    "model.add(layers.Conv2D(128, (3, 3), activation='relu'))\n",
    "model.add(layers.MaxPooling2D((2, 2)))\n",
    "model.add(layers.Conv2D(128, (3, 3), activation='relu'))\n",
    "model.add(layers.MaxPooling2D((2, 2)))\n",
    "model.add(layers.Flatten())\n",
    "model.add(layers.Dropout(0.5))\n",
    "model.add(layers.Dense(512, activation='relu'))\n",
    "model.add(layers.Dense(1, activation='sigmoid'))\n",
    "model.compile(loss='binary_crossentropy',\n",
    "              optimizer=optimizers.RMSprop(lr=1e-4),\n",
    "              metrics=['acc'])\n"
   ]
  },
  {
   "cell_type": "code",
   "execution_count": null,
   "id": "309bb80e",
   "metadata": {},
   "outputs": [],
   "source": [
    "from keras.preprocessing import image\n",
    "from keras.preprocessing.image import ImageDataGenerator\n",
    "\n",
    "#ImageDataGenerator to scale data then input to our custom generators \n",
    "\n",
    "train_datagen = ImageDataGenerator(\n",
    "    rescale=1./255,\n",
    "    rotation_range=40,\n",
    "    width_shift_range=0.2,\n",
    "    height_shift_range=0.2,\n",
    "    shear_range=0.2,\n",
    "    zoom_range=0.2,\n",
    "    horizontal_flip=True,)\n",
    "\n",
    "# Test and vali shouldn't be augmented.\n",
    "test_datagen = ImageDataGenerator(rescale=1./255)\n",
    "\n",
    "train_generator = train_datagen.flow_from_directory(\n",
    "    train_dir,\n",
    "    target_size=(150, 150),\n",
    "    batch_size=20,\n",
    "    class_mode='binary')\n",
    "\n",
    "validation_generator = test_datagen.flow_from_directory(\n",
    "        validation_dir,\n",
    "        target_size=(150, 150),\n",
    "        batch_size=20,\n",
    "        class_mode='binary')\n",
    "\n",
    "history = model.fit_generator(\n",
    "      train_generator,\n",
    "      steps_per_epoch=100,\n",
    "      epochs=100,\n",
    "      validation_data=validation_generator,\n",
    "      validation_steps=50)"
   ]
  },
  {
   "cell_type": "code",
   "execution_count": null,
   "id": "a7bd2e6c",
   "metadata": {},
   "outputs": [],
   "source": [
    "model.save('cats_and_dogs_small_2.h5')"
   ]
  }
 ],
 "metadata": {
  "kernelspec": {
   "display_name": "Python 3 (ipykernel)",
   "language": "python",
   "name": "python3"
  },
  "language_info": {
   "codemirror_mode": {
    "name": "ipython",
    "version": 3
   },
   "file_extension": ".py",
   "mimetype": "text/x-python",
   "name": "python",
   "nbconvert_exporter": "python",
   "pygments_lexer": "ipython3",
   "version": "3.10.0"
  }
 },
 "nbformat": 4,
 "nbformat_minor": 5
}
