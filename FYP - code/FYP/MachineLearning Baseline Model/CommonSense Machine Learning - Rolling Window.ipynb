{
 "cells": [
  {
   "cell_type": "code",
   "execution_count": 302,
   "id": "62ccdbe6",
   "metadata": {},
   "outputs": [],
   "source": [
    "from tensorflow.keras.models import Sequential \n",
    "from tensorflow.keras import layers\n",
    "from tensorflow.keras.optimizers import RMSprop\n",
    "from sklearn.model_selection import train_test_split\n",
    "from sktime.forecasting.model_selection import temporal_train_test_split\n",
    "from sklearn.metrics import mean_absolute_error\n",
    "import tensorflow as tf\n",
    "from tensorflow import keras\n",
    "from tensorflow.keras import layers"
   ]
  },
  {
   "cell_type": "markdown",
   "id": "0b4a8e95",
   "metadata": {},
   "source": [
    "<Strong> A basic machine learning approach. </Strong>"
   ]
  },
  {
   "cell_type": "markdown",
   "id": "da4e772c",
   "metadata": {},
   "source": [
    "<p> I am going to look into cheap machine learning models such as this small densley connected netowrk before looking into complicated and computationally expensive TCN models. </p>"
   ]
  },
  {
   "cell_type": "code",
   "execution_count": 303,
   "id": "decfe364",
   "metadata": {},
   "outputs": [],
   "source": [
    "import pandas as pd\n",
    "import numpy as np"
   ]
  },
  {
   "cell_type": "code",
   "execution_count": 304,
   "id": "5db0bfc2",
   "metadata": {},
   "outputs": [],
   "source": [
    "df = pd.read_csv(\"../../../cryptoData/BTC_15m_data.csv\")"
   ]
  },
  {
   "cell_type": "code",
   "execution_count": 305,
   "id": "b130ccf5",
   "metadata": {},
   "outputs": [
    {
     "data": {
      "text/html": [
       "<div>\n",
       "<style scoped>\n",
       "    .dataframe tbody tr th:only-of-type {\n",
       "        vertical-align: middle;\n",
       "    }\n",
       "\n",
       "    .dataframe tbody tr th {\n",
       "        vertical-align: top;\n",
       "    }\n",
       "\n",
       "    .dataframe thead th {\n",
       "        text-align: right;\n",
       "    }\n",
       "</style>\n",
       "<table border=\"1\" class=\"dataframe\">\n",
       "  <thead>\n",
       "    <tr style=\"text-align: right;\">\n",
       "      <th></th>\n",
       "      <th>date</th>\n",
       "      <th>open</th>\n",
       "      <th>high</th>\n",
       "      <th>low</th>\n",
       "      <th>close</th>\n",
       "      <th>volume</th>\n",
       "    </tr>\n",
       "  </thead>\n",
       "  <tbody>\n",
       "    <tr>\n",
       "      <th>0</th>\n",
       "      <td>2017-08-17 04:00:00</td>\n",
       "      <td>4261.48</td>\n",
       "      <td>4280.56</td>\n",
       "      <td>4261.48</td>\n",
       "      <td>4261.48</td>\n",
       "      <td>2.189061</td>\n",
       "    </tr>\n",
       "    <tr>\n",
       "      <th>1</th>\n",
       "      <td>2017-08-17 04:15:00</td>\n",
       "      <td>4261.48</td>\n",
       "      <td>4270.41</td>\n",
       "      <td>4261.32</td>\n",
       "      <td>4261.45</td>\n",
       "      <td>9.119865</td>\n",
       "    </tr>\n",
       "    <tr>\n",
       "      <th>2</th>\n",
       "      <td>2017-08-17 04:30:00</td>\n",
       "      <td>4280.00</td>\n",
       "      <td>4310.07</td>\n",
       "      <td>4267.99</td>\n",
       "      <td>4310.07</td>\n",
       "      <td>21.923552</td>\n",
       "    </tr>\n",
       "    <tr>\n",
       "      <th>3</th>\n",
       "      <td>2017-08-17 04:45:00</td>\n",
       "      <td>4310.07</td>\n",
       "      <td>4313.62</td>\n",
       "      <td>4291.37</td>\n",
       "      <td>4308.83</td>\n",
       "      <td>13.948531</td>\n",
       "    </tr>\n",
       "    <tr>\n",
       "      <th>4</th>\n",
       "      <td>2017-08-17 05:00:00</td>\n",
       "      <td>4308.83</td>\n",
       "      <td>4328.69</td>\n",
       "      <td>4304.31</td>\n",
       "      <td>4304.31</td>\n",
       "      <td>5.101153</td>\n",
       "    </tr>\n",
       "    <tr>\n",
       "      <th>...</th>\n",
       "      <td>...</td>\n",
       "      <td>...</td>\n",
       "      <td>...</td>\n",
       "      <td>...</td>\n",
       "      <td>...</td>\n",
       "      <td>...</td>\n",
       "    </tr>\n",
       "    <tr>\n",
       "      <th>155486</th>\n",
       "      <td>2022-01-28 14:45:00</td>\n",
       "      <td>36684.11</td>\n",
       "      <td>36828.38</td>\n",
       "      <td>36600.00</td>\n",
       "      <td>36759.65</td>\n",
       "      <td>560.007760</td>\n",
       "    </tr>\n",
       "    <tr>\n",
       "      <th>155487</th>\n",
       "      <td>2022-01-28 15:00:00</td>\n",
       "      <td>36759.65</td>\n",
       "      <td>37198.00</td>\n",
       "      <td>36682.24</td>\n",
       "      <td>37149.99</td>\n",
       "      <td>649.317780</td>\n",
       "    </tr>\n",
       "    <tr>\n",
       "      <th>155488</th>\n",
       "      <td>2022-01-28 15:15:00</td>\n",
       "      <td>37150.00</td>\n",
       "      <td>37300.00</td>\n",
       "      <td>36925.89</td>\n",
       "      <td>36988.91</td>\n",
       "      <td>1061.113920</td>\n",
       "    </tr>\n",
       "    <tr>\n",
       "      <th>155489</th>\n",
       "      <td>2022-01-28 15:30:00</td>\n",
       "      <td>36985.43</td>\n",
       "      <td>37115.32</td>\n",
       "      <td>36874.46</td>\n",
       "      <td>37022.42</td>\n",
       "      <td>452.420950</td>\n",
       "    </tr>\n",
       "    <tr>\n",
       "      <th>155490</th>\n",
       "      <td>2022-01-28 15:45:00</td>\n",
       "      <td>37023.86</td>\n",
       "      <td>37271.54</td>\n",
       "      <td>37000.34</td>\n",
       "      <td>37231.02</td>\n",
       "      <td>254.796250</td>\n",
       "    </tr>\n",
       "  </tbody>\n",
       "</table>\n",
       "<p>155491 rows × 6 columns</p>\n",
       "</div>"
      ],
      "text/plain": [
       "                       date      open      high       low     close  \\\n",
       "0       2017-08-17 04:00:00   4261.48   4280.56   4261.48   4261.48   \n",
       "1       2017-08-17 04:15:00   4261.48   4270.41   4261.32   4261.45   \n",
       "2       2017-08-17 04:30:00   4280.00   4310.07   4267.99   4310.07   \n",
       "3       2017-08-17 04:45:00   4310.07   4313.62   4291.37   4308.83   \n",
       "4       2017-08-17 05:00:00   4308.83   4328.69   4304.31   4304.31   \n",
       "...                     ...       ...       ...       ...       ...   \n",
       "155486  2022-01-28 14:45:00  36684.11  36828.38  36600.00  36759.65   \n",
       "155487  2022-01-28 15:00:00  36759.65  37198.00  36682.24  37149.99   \n",
       "155488  2022-01-28 15:15:00  37150.00  37300.00  36925.89  36988.91   \n",
       "155489  2022-01-28 15:30:00  36985.43  37115.32  36874.46  37022.42   \n",
       "155490  2022-01-28 15:45:00  37023.86  37271.54  37000.34  37231.02   \n",
       "\n",
       "             volume  \n",
       "0          2.189061  \n",
       "1          9.119865  \n",
       "2         21.923552  \n",
       "3         13.948531  \n",
       "4          5.101153  \n",
       "...             ...  \n",
       "155486   560.007760  \n",
       "155487   649.317780  \n",
       "155488  1061.113920  \n",
       "155489   452.420950  \n",
       "155490   254.796250  \n",
       "\n",
       "[155491 rows x 6 columns]"
      ]
     },
     "execution_count": 305,
     "metadata": {},
     "output_type": "execute_result"
    }
   ],
   "source": [
    "df"
   ]
  },
  {
   "cell_type": "code",
   "execution_count": 306,
   "id": "051d84a3",
   "metadata": {},
   "outputs": [],
   "source": [
    "float_data = df.values[:, 1: ,].astype(float)\n",
    "closing_data = float_data[:,3,]"
   ]
  },
  {
   "cell_type": "markdown",
   "id": "82697646",
   "metadata": {},
   "source": [
    "<Strong> Just grabbing the Closing price , using Omnivariable Prediction.</Strong>"
   ]
  },
  {
   "cell_type": "code",
   "execution_count": 307,
   "id": "b2df6e67",
   "metadata": {},
   "outputs": [
    {
     "name": "stdout",
     "output_type": "stream",
     "text": [
      "155491\n"
     ]
    }
   ],
   "source": [
    "mean = closing_data[:200000].mean(axis=0)\n",
    "closing_data -= mean\n",
    "std = closing_data[:200000].std(axis=0)\n",
    "closing_data /= std\n",
    "\n",
    "print(closing_data.shape[-1])"
   ]
  },
  {
   "cell_type": "markdown",
   "id": "2a1f679b",
   "metadata": {},
   "source": [
    "<Strong> Temporal so doesn't shuffle (avoids leakage). </Strong>"
   ]
  },
  {
   "cell_type": "code",
   "execution_count": 308,
   "id": "09187aaa",
   "metadata": {},
   "outputs": [],
   "source": [
    "train, test = temporal_train_test_split(closing_data, test_size = 25491)"
   ]
  },
  {
   "cell_type": "markdown",
   "id": "031314f8",
   "metadata": {},
   "source": [
    "<p> Implementing my rolling window technique as suggested in towardsdatascience article. </p>"
   ]
  },
  {
   "cell_type": "code",
   "execution_count": 309,
   "id": "8335af6f",
   "metadata": {},
   "outputs": [],
   "source": [
    "#Found this code on Kaggle "
   ]
  },
  {
   "cell_type": "code",
   "execution_count": 310,
   "id": "b5399209",
   "metadata": {},
   "outputs": [
    {
     "data": {
      "text/plain": [
       "array([    1,     2,     3, ..., 25489, 25490, 25491])"
      ]
     },
     "execution_count": 310,
     "metadata": {},
     "output_type": "execute_result"
    }
   ],
   "source": [
    "fh = np.arange(1 , len(test) + 1)\n",
    "fh"
   ]
  },
  {
   "cell_type": "code",
   "execution_count": 311,
   "id": "313ce63f",
   "metadata": {},
   "outputs": [],
   "source": [
    "#Takes in single series , window length , and forecasting horizon\n",
    "def split_into_train_test(data , in_num , fh):\n",
    "    train,test = data[:-fh] , data[-(fh+ in_num):]\n",
    "    x_train,y_train = train[:-1] , np.roll(train , -in_num)[:-in_num]\n",
    "    x_test , y_test = test[:-1] , np.roll(test,-in_num)[:-in_num]\n",
    "    \n",
    "    x_train = np.reshape(x_train , (-1 ,1))\n",
    "    x_test = np.reshape(x_test , (-1 , 1))\n",
    "    temp_test = np.roll(x_test , -1)\n",
    "    temp_train = np.roll(x_train , -1)\n",
    "    \n",
    "    for x in range (1 , in_num):\n",
    "        x_train = np.concatenate((x_train[:-1] , temp_train[:-1]) , 1)\n",
    "        x_test = np.concatenate((x_test[:-1] , temp_test[:-1]) , 1)\n",
    "        temp_test = np.roll(temp_test, -1)[:-1]\n",
    "        temp_train=np.roll(temp_train , -1)[:-1]\n",
    "        \n",
    "    return x_train , y_train , x_test , y_test"
   ]
  },
  {
   "cell_type": "code",
   "execution_count": 312,
   "id": "7862ec17",
   "metadata": {},
   "outputs": [],
   "source": [
    "x_train , y_train , x_test , y_test = split_into_train_test(closing_data , 10 , len(fh))"
   ]
  },
  {
   "cell_type": "code",
   "execution_count": 313,
   "id": "25b634a3",
   "metadata": {},
   "outputs": [
    {
     "name": "stdout",
     "output_type": "stream",
     "text": [
      "(129990, 10) (129990,)\n",
      "(25491, 10) (25491,)\n"
     ]
    }
   ],
   "source": [
    "print(x_train.shape , y_train.shape)\n",
    "print(x_test.shape , y_test.shape)"
   ]
  },
  {
   "cell_type": "code",
   "execution_count": 314,
   "id": "dc754aee",
   "metadata": {},
   "outputs": [],
   "source": [
    "model = keras.Sequential(\n",
    "    [\n",
    "        layers.Dense(2, activation=\"relu\"),\n",
    "        layers.Dense(3, activation=\"relu\"),\n",
    "        layers.Dense(4),\n",
    "    ]\n",
    ")\n",
    "\n",
    "model.build((None , 10))"
   ]
  },
  {
   "cell_type": "code",
   "execution_count": 315,
   "id": "239e1a1d",
   "metadata": {},
   "outputs": [
    {
     "name": "stdout",
     "output_type": "stream",
     "text": [
      "Model: \"sequential_31\"\n",
      "_________________________________________________________________\n",
      " Layer (type)                Output Shape              Param #   \n",
      "=================================================================\n",
      " dense_77 (Dense)            (None, 2)                 22        \n",
      "                                                                 \n",
      " dense_78 (Dense)            (None, 3)                 9         \n",
      "                                                                 \n",
      " dense_79 (Dense)            (None, 4)                 16        \n",
      "                                                                 \n",
      "=================================================================\n",
      "Total params: 47\n",
      "Trainable params: 47\n",
      "Non-trainable params: 0\n",
      "_________________________________________________________________\n"
     ]
    }
   ],
   "source": [
    "model.summary()"
   ]
  },
  {
   "cell_type": "code",
   "execution_count": 316,
   "id": "334ec7ba",
   "metadata": {},
   "outputs": [],
   "source": [
    "model.compile(optimizer=RMSprop() , loss = 'mae')"
   ]
  },
  {
   "cell_type": "code",
   "execution_count": 318,
   "id": "96db9d87",
   "metadata": {},
   "outputs": [
    {
     "name": "stdout",
     "output_type": "stream",
     "text": [
      "4063/4063 [==============================] - 3s 824us/step - loss: 0.0073 0s - loss: 0.0\n"
     ]
    }
   ],
   "source": [
    "history = model.fit(x_train , y_train)"
   ]
  },
  {
   "cell_type": "code",
   "execution_count": 320,
   "id": "411de9d3",
   "metadata": {},
   "outputs": [
    {
     "data": {
      "text/plain": [
       "{'loss': [0.007331273052841425]}"
      ]
     },
     "execution_count": 320,
     "metadata": {},
     "output_type": "execute_result"
    }
   ],
   "source": [
    "history.history"
   ]
  },
  {
   "cell_type": "code",
   "execution_count": null,
   "id": "79612c23",
   "metadata": {},
   "outputs": [],
   "source": [
    "predictions = []\n",
    "last_window = x_train[-1,:].reshape(1,-1)\n",
    "\n",
    "last_prediction = model.predict(last_window)[0]\n",
    "\n",
    "for i in range(len(fh)):\n",
    "    \n",
    "    predictions.append(last_prediction)\n",
    "    last_window[0] = np.roll(last_window[0], -1)    \n",
    "    last_window[0 , (len(last_window[0]) -1)] = last_prediction\n",
    "    last_prediction = model.predict(last_window)[0]\n",
    "    \n",
    "y_prec_rec = pd.Series(predictions , index = y_test.index)\n",
    "smape_loss(y_pred_rec , y_test)\n",
    "    "
   ]
  },
  {
   "cell_type": "code",
   "execution_count": 184,
   "id": "b5e73a21",
   "metadata": {},
   "outputs": [],
   "source": [
    "def rolling_window(train_data , window_size , predict_future_steps):\n",
    "    \n",
    "    for i in range (len(train_data) - window_size - predict_future_steps + 1):\n",
    "        \n",
    "        split_train = train_data[i:window_size+i]\n",
    "        split_val = train_data[i+window_size:window_size+i+predict_future_steps]\n",
    "        \n",
    "        yield split_train , split_val"
   ]
  },
  {
   "cell_type": "code",
   "execution_count": 185,
   "id": "0e11e859",
   "metadata": {},
   "outputs": [],
   "source": [
    "window_size = 10\n",
    "size_of_prediction = 1\n",
    "rolling = rolling_window(train , window_size , size_of_prediction)"
   ]
  },
  {
   "cell_type": "code",
   "execution_count": 186,
   "id": "af963b61",
   "metadata": {},
   "outputs": [],
   "source": [
    "for train , val in rolling:\n",
    "    print(train.shape)\n"
   ]
  },
  {
   "cell_type": "code",
   "execution_count": null,
   "id": "4659f815",
   "metadata": {},
   "outputs": [],
   "source": []
  },
  {
   "cell_type": "code",
   "execution_count": null,
   "id": "b794c91e",
   "metadata": {},
   "outputs": [],
   "source": []
  }
 ],
 "metadata": {
  "kernelspec": {
   "display_name": "Python 3 (ipykernel)",
   "language": "python",
   "name": "python3"
  },
  "language_info": {
   "codemirror_mode": {
    "name": "ipython",
    "version": 3
   },
   "file_extension": ".py",
   "mimetype": "text/x-python",
   "name": "python",
   "nbconvert_exporter": "python",
   "pygments_lexer": "ipython3",
   "version": "3.9.10"
  }
 },
 "nbformat": 4,
 "nbformat_minor": 5
}
