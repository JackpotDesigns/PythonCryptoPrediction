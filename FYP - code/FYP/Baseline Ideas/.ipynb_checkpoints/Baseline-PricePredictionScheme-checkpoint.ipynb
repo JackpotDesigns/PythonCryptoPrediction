{
 "cells": [
  {
   "cell_type": "markdown",
   "id": "3f687d6f",
   "metadata": {},
   "source": [
    "<Strong> ** From my reading of Deep Learning-Based Cryptocurrency Price Prediction Scheme For Financial Institutions. ** </Strong>"
   ]
  },
  {
   "cell_type": "markdown",
   "id": "27711d8f",
   "metadata": {},
   "source": [
    "<Strong> Abstract </Strong>"
   ]
  },
  {
   "cell_type": "markdown",
   "id": "26ebbde5",
   "metadata": {},
   "source": [
    "<ul>\n",
    "    <li> Brief description of cryptocurrency , blockchain. </li>\n",
    "    <li> Why it gained so much popularity. </li>\n",
    "    <li> The fact its volitile. </li>\n",
    "    <li> Emergence of Crypto Price Prediction. Examples of deep learning algorithms.</li>\n",
    "    <li> What the paper is going to use. (LSTM / GRU combined)</li>\n",
    "    <li> Results.</li>\n",
    "</ul>"
   ]
  },
  {
   "cell_type": "markdown",
   "id": "3cffd3fc",
   "metadata": {},
   "source": [
    "<Strong> Introduction </Strong>"
   ]
  },
  {
   "cell_type": "markdown",
   "id": "265aa59e",
   "metadata": {},
   "source": [
    "<ul>\n",
    "    <li> Background on blockchain and Crypto and what issues it fixes. </li>\n",
    "    <li> 3 types of crypto (Currency , Platform - eleminate middlemen Eth smart contracts , Application - used in specific industries). </li>\n",
    "    <li> Why is crypto so volitile. - why this is a problem .</li>\n",
    "    <li> What network we are proposing in this network.</li>\n",
    "</ul>\n",
    "\n",
    "\n"
   ]
  },
  {
   "cell_type": "markdown",
   "id": "a29914f1",
   "metadata": {},
   "source": [
    "<Strong> Sub-Heading : Motivation </Strong>"
   ]
  },
  {
   "cell_type": "markdown",
   "id": "742b8ff3",
   "metadata": {},
   "source": [
    "<ul>\n",
    "    <li> Use Cases of crypto. </li>\n",
    "    <li> What other papers you have read have focused on. </li>\n",
    "    <li> What you are going to do different to these ^.</li>\n",
    "    <li> Figure to show growth of users inversting in Crypto. Figure showing capitalization</li>\n",
    "    <li> Crypto we are going to use and why.</li>\n",
    "</ul>"
   ]
  },
  {
   "cell_type": "markdown",
   "id": "d339211d",
   "metadata": {},
   "source": [
    "<Strong> Sub-Heading : Aims </Strong>"
   ]
  },
  {
   "cell_type": "markdown",
   "id": "bae46657",
   "metadata": {},
   "source": [
    "<ul>\n",
    "    <li> Comprehensive study on various existing scheme to predict crypto prices. </li>\n",
    "    <li> The model you will be using to predict forementioned prices , window size 1,3,7.</li>\n",
    "</ul>"
   ]
  },
  {
   "cell_type": "markdown",
   "id": "c27752da",
   "metadata": {},
   "source": [
    "<Strong> State-Of-The-Art </Strong>"
   ]
  },
  {
   "cell_type": "markdown",
   "id": "e3b3b2d4",
   "metadata": {},
   "source": [
    "<ul>\n",
    "    <li> More in-debth look at similar work carried out on prediction - example of papers . </li>\n",
    "    <li> Examples of Models using different metrics .</li>\n",
    "    <li> Table showing existing techniques for crypto-currency price prediction .</li>    \n",
    "</ul>"
   ]
  },
  {
   "cell_type": "markdown",
   "id": "9d34add8",
   "metadata": {},
   "source": [
    "<Strong> The problem </Strong>"
   ]
  },
  {
   "cell_type": "markdown",
   "id": "6e6004ba",
   "metadata": {},
   "source": [
    "<ul>\n",
    "    <li> Time-series data on a <Strong> Daily Basis </Strong>. </li>\n",
    "    <li> Your own diagram of how we are going to train and predict using sliding window method. -multiple input/output pairs</li> \n",
    "</ul>"
   ]
  },
  {
   "cell_type": "markdown",
   "id": "6eba443b",
   "metadata": {},
   "source": [
    "<Strong>Sub Heading : System Model </Strong>"
   ]
  },
  {
   "cell_type": "markdown",
   "id": "75df68c6",
   "metadata": {},
   "source": [
    "<ul>\n",
    "    <li> <Strong> Min-Max Normalization </Strong>. </li>\n",
    "    <li> Diagram of the model </li> \n",
    "    <li> Exaplain the forecasting procedure.  - predicted price fed in again if want numerous days in advance .</li> \n",
    "    <li> Test used to assess performance after prices forecasted.</li> \n",
    "</ul>"
   ]
  },
  {
   "cell_type": "markdown",
   "id": "5cc49074",
   "metadata": {},
   "source": [
    "<Strong>Sub Heading : RNN </Strong>"
   ]
  },
  {
   "cell_type": "markdown",
   "id": "c81547a2",
   "metadata": {},
   "source": [
    "<ul>\n",
    "    <li> Feed forward neural network with internal memory. - In contrast with other networks where inputs and outputs are independent </li>\n",
    "    <li> Outputs at one stage become inputs at another. - can extract temporal information</li> \n",
    "    <li> Exaplain how they work with weight matrices. - including back propergation .</li> \n",
    "    <li> Test used to assess performance after prices forecasted.</li> \n",
    "</ul>"
   ]
  },
  {
   "cell_type": "markdown",
   "id": "81dd1e5b",
   "metadata": {},
   "source": [
    "<Strong>Sub Heading : LSTM </Strong>"
   ]
  },
  {
   "cell_type": "markdown",
   "id": "7ea5fb26",
   "metadata": {},
   "source": [
    "<ul>\n",
    "    <li> Differences compared to RNNs. </li>\n",
    "    <li> Diagram showing how it works. </li> \n",
    "    <li> Equation with weight matrices.</li> \n",
    "</ul>"
   ]
  },
  {
   "cell_type": "markdown",
   "id": "746dcb30",
   "metadata": {},
   "source": [
    "<Strong> Proposed Scheme </Strong>"
   ]
  },
  {
   "cell_type": "markdown",
   "id": "5aec1a2f",
   "metadata": {},
   "source": [
    "<ul>\n",
    "    <li> Figure of hybrid-model. </li>\n",
    "    <li> How it handles time-series data. </li> \n",
    "    <li> How this model is better than typical RNN - vanishing gradient.</li> \n",
    "    <li> <Strong> Length of window = hyper-param </Strong>. </li>\n",
    "    <li> <Strong> Sliding Window </Strong>. </li> \n",
    "    <li> Explaining arch from figure.</li> \n",
    "</ul>"
   ]
  },
  {
   "cell_type": "markdown",
   "id": "b34d9a36",
   "metadata": {},
   "source": [
    "<Strong> Performance Evaluation </Strong>"
   ]
  },
  {
   "cell_type": "markdown",
   "id": "f2c6de25",
   "metadata": {},
   "source": [
    "<ul>\n",
    "    <li> Features of dataset used. - where collected / amount of timeslots / dates/ how many cryptocurrencies. </li>\n",
    "    <li> <Strong> Normalization used. </Strong> </li> \n",
    "    <li> Figure of LSTM. Figure of Closing price Litecoin </li> \n",
    "    <li> <Strong> We select price as primary feature </Strong>. </li>\n",
    "    <li> Convert suitable form for input model. - Divide data into input and output samples - ex {30 days - 1 output}</li> \n",
    "</ul>"
   ]
  },
  {
   "cell_type": "markdown",
   "id": "2910923b",
   "metadata": {},
   "source": [
    "<Strong> Sub-heading : Evalutation Metrics </Strong>"
   ]
  },
  {
   "cell_type": "markdown",
   "id": "69d50f49",
   "metadata": {},
   "source": [
    "<ul>\n",
    "    <li> MAE , MSE , MAPE , RMSE. - Figure of each  </li>\n",
    "</ul>"
   ]
  },
  {
   "cell_type": "markdown",
   "id": "a3dd7cc7",
   "metadata": {},
   "source": [
    "<Strong> Sub-heading : Results </Strong>"
   ]
  },
  {
   "cell_type": "markdown",
   "id": "1ac18bc9",
   "metadata": {},
   "source": [
    "<ul>\n",
    "    <li> Price-prediction horizon = 1,3,7 days - figure  </li>\n",
    "    <li> LSTM VS Combined - what can be drawn from results  </li>\n",
    "</ul>"
   ]
  },
  {
   "cell_type": "markdown",
   "id": "05130848",
   "metadata": {},
   "source": [
    "<Strong> Open Issues and Reseach Challenges </Strong>"
   ]
  },
  {
   "cell_type": "markdown",
   "id": "82daebf6",
   "metadata": {},
   "source": [
    "<ul>\n",
    "    <li> The amount of new crypto , so a model to capture the patterns of all will be hard  </li>\n",
    "    <li> Volitlity greatly effected by external changes  </li>\n",
    "    <li> way public perceives a currency effects price , sentiment analysis in real time. - future project</li>\n",
    "    <li> Legal Issues  </li>\n",
    "</ul>"
   ]
  },
  {
   "cell_type": "markdown",
   "id": "85b8ec20",
   "metadata": {},
   "source": [
    "<Strong> Conclusion </Strong>"
   ]
  },
  {
   "cell_type": "markdown",
   "id": "199f82c1",
   "metadata": {},
   "source": [
    "<ul>\n",
    "    <li> In the past LSTMS where the best , as can remember and extract temporal info  </li>\n",
    "</ul>"
   ]
  },
  {
   "cell_type": "code",
   "execution_count": null,
   "id": "c2e71b56",
   "metadata": {},
   "outputs": [],
   "source": []
  }
 ],
 "metadata": {
  "kernelspec": {
   "display_name": "Python 3 (ipykernel)",
   "language": "python",
   "name": "python3"
  },
  "language_info": {
   "codemirror_mode": {
    "name": "ipython",
    "version": 3
   },
   "file_extension": ".py",
   "mimetype": "text/x-python",
   "name": "python",
   "nbconvert_exporter": "python",
   "pygments_lexer": "ipython3",
   "version": "3.9.10"
  }
 },
 "nbformat": 4,
 "nbformat_minor": 5
}
