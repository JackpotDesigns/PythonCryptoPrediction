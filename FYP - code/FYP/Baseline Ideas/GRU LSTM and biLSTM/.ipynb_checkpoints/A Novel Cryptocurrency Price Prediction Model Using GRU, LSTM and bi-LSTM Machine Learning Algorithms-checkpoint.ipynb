{
 "cells": [
  {
   "cell_type": "markdown",
   "id": "8db76700",
   "metadata": {},
   "source": [
    "<Strong> Citations = 1 , Year of Publish = 26/01/2021 </Strong>"
   ]
  },
  {
   "cell_type": "markdown",
   "id": "cb6ead0b",
   "metadata": {},
   "source": [
    "<li> LSTM , GRU and BI-LSTM'S. </li>\n",
    "<li> Training and Testing data (80% , 20%). </li>\n",
    "<li> Correlation matrix for the cryptocurrencies BTC, LTC, and ETH.</li>\n",
    "<li> Looks like it uses multi-variate to predict .</li>"
   ]
  },
  {
   "cell_type": "code",
   "execution_count": null,
   "id": "84a76c23",
   "metadata": {},
   "outputs": [],
   "source": []
  }
 ],
 "metadata": {
  "kernelspec": {
   "display_name": "Python 3 (ipykernel)",
   "language": "python",
   "name": "python3"
  },
  "language_info": {
   "codemirror_mode": {
    "name": "ipython",
    "version": 3
   },
   "file_extension": ".py",
   "mimetype": "text/x-python",
   "name": "python",
   "nbconvert_exporter": "python",
   "pygments_lexer": "ipython3",
   "version": "3.9.10"
  }
 },
 "nbformat": 4,
 "nbformat_minor": 5
}
