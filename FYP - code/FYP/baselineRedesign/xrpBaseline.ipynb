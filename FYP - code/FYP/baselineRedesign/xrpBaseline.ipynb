{
 "cells": [
  {
   "cell_type": "markdown",
   "id": "2b5d95d4",
   "metadata": {},
   "source": [
    "# Goals of this page :\n",
    "\n",
    "    # Baseline : A Deep Learning-based Cryptocurrency Price Prediction Scheme for Financial Institutions\n",
    "    # In keras redesign the model with ( 1 hr ) data points and compare the results we get.\n",
    "    # Duplicated the model from baseline although couldnt train as took too long.\\\n",
    "    # Created first TCN - v.minimal \n",
    "    \n",
    "    -- TO Do --\n",
    "    # Once we have duplicated model in the baseline article , we can then experiment :\n",
    "        # Add more LSTM layers.\n",
    "        # Try multi-variate.\n",
    "        # TCN instead of LSTM Layers."
   ]
  },
  {
   "cell_type": "code",
   "execution_count": 48,
   "id": "95674502",
   "metadata": {},
   "outputs": [],
   "source": [
    "# Pulling BTC , XRP , ETH (1 hour) data "
   ]
  },
  {
   "cell_type": "code",
   "execution_count": 49,
   "id": "b515bbc2",
   "metadata": {},
   "outputs": [],
   "source": [
    "import pandas as pd\n",
    "import numpy as np\n",
    "import tensorflow as tf\n",
    "from tensorflow.keras.utils import plot_model\n",
    "from matplotlib import pyplot as plt\n",
    "from tensorflow.keras.models import Sequential \n",
    "from tensorflow.keras import layers\n",
    "from tensorflow.keras.optimizers import RMSprop\n",
    "import os\n",
    "from sklearn.preprocessing import MinMaxScaler\n",
    "from tensorflow.keras.preprocessing.sequence import TimeseriesGenerator\n",
    "from tensorflow.keras.layers import LSTM , Dense , Dropout , GRU , Concatenate , Input , Conv1D , InputLayer\n",
    "from tensorflow.keras import models"
   ]
  },
  {
   "cell_type": "code",
   "execution_count": 50,
   "id": "7c335b0b",
   "metadata": {},
   "outputs": [],
   "source": [
    "df_btc = pd.read_csv(\"../../../cryptoData/BTC_1h_data.csv\")\n",
    "df_xrp = pd.read_csv(\"../../../cryptoData/XRP_1h_data.csv\")\n",
    "df_eth = pd.read_csv(\"../../../cryptoData/ETH_1h_data.csv\")"
   ]
  },
  {
   "cell_type": "code",
   "execution_count": 51,
   "id": "1342f0f1",
   "metadata": {},
   "outputs": [
    {
     "data": {
      "text/html": [
       "<div>\n",
       "<style scoped>\n",
       "    .dataframe tbody tr th:only-of-type {\n",
       "        vertical-align: middle;\n",
       "    }\n",
       "\n",
       "    .dataframe tbody tr th {\n",
       "        vertical-align: top;\n",
       "    }\n",
       "\n",
       "    .dataframe thead th {\n",
       "        text-align: right;\n",
       "    }\n",
       "</style>\n",
       "<table border=\"1\" class=\"dataframe\">\n",
       "  <thead>\n",
       "    <tr style=\"text-align: right;\">\n",
       "      <th></th>\n",
       "      <th>date</th>\n",
       "      <th>open</th>\n",
       "      <th>high</th>\n",
       "      <th>low</th>\n",
       "      <th>close</th>\n",
       "      <th>volume</th>\n",
       "    </tr>\n",
       "  </thead>\n",
       "  <tbody>\n",
       "    <tr>\n",
       "      <th>0</th>\n",
       "      <td>2017-08-17 04:00:00.000</td>\n",
       "      <td>4261.48</td>\n",
       "      <td>4313.62</td>\n",
       "      <td>4261.32</td>\n",
       "      <td>4308.83</td>\n",
       "      <td>47.181009</td>\n",
       "    </tr>\n",
       "    <tr>\n",
       "      <th>1</th>\n",
       "      <td>2017-08-17 05:00:00.000</td>\n",
       "      <td>4308.83</td>\n",
       "      <td>4328.69</td>\n",
       "      <td>4291.37</td>\n",
       "      <td>4315.32</td>\n",
       "      <td>23.234916</td>\n",
       "    </tr>\n",
       "    <tr>\n",
       "      <th>2</th>\n",
       "      <td>2017-08-17 06:00:00.000</td>\n",
       "      <td>4330.29</td>\n",
       "      <td>4345.45</td>\n",
       "      <td>4309.37</td>\n",
       "      <td>4324.35</td>\n",
       "      <td>7.229691</td>\n",
       "    </tr>\n",
       "    <tr>\n",
       "      <th>3</th>\n",
       "      <td>2017-08-17 07:00:00.000</td>\n",
       "      <td>4316.62</td>\n",
       "      <td>4349.99</td>\n",
       "      <td>4287.41</td>\n",
       "      <td>4349.99</td>\n",
       "      <td>4.443249</td>\n",
       "    </tr>\n",
       "    <tr>\n",
       "      <th>4</th>\n",
       "      <td>2017-08-17 08:00:00.000</td>\n",
       "      <td>4333.32</td>\n",
       "      <td>4377.85</td>\n",
       "      <td>4333.32</td>\n",
       "      <td>4360.69</td>\n",
       "      <td>0.972807</td>\n",
       "    </tr>\n",
       "    <tr>\n",
       "      <th>...</th>\n",
       "      <td>...</td>\n",
       "      <td>...</td>\n",
       "      <td>...</td>\n",
       "      <td>...</td>\n",
       "      <td>...</td>\n",
       "      <td>...</td>\n",
       "    </tr>\n",
       "    <tr>\n",
       "      <th>39216</th>\n",
       "      <td>2022-02-11 10:00:00</td>\n",
       "      <td>43492.63</td>\n",
       "      <td>43569.67</td>\n",
       "      <td>43233.67</td>\n",
       "      <td>43443.77</td>\n",
       "      <td>1305.626920</td>\n",
       "    </tr>\n",
       "    <tr>\n",
       "      <th>39217</th>\n",
       "      <td>2022-02-11 11:00:00</td>\n",
       "      <td>43443.78</td>\n",
       "      <td>43523.42</td>\n",
       "      <td>43320.00</td>\n",
       "      <td>43357.53</td>\n",
       "      <td>744.524180</td>\n",
       "    </tr>\n",
       "    <tr>\n",
       "      <th>39218</th>\n",
       "      <td>2022-02-11 12:00:00</td>\n",
       "      <td>43357.53</td>\n",
       "      <td>43700.78</td>\n",
       "      <td>43253.31</td>\n",
       "      <td>43570.77</td>\n",
       "      <td>1317.546940</td>\n",
       "    </tr>\n",
       "    <tr>\n",
       "      <th>39219</th>\n",
       "      <td>2022-02-11 13:00:00</td>\n",
       "      <td>43570.77</td>\n",
       "      <td>43826.00</td>\n",
       "      <td>43503.01</td>\n",
       "      <td>43765.14</td>\n",
       "      <td>1564.251800</td>\n",
       "    </tr>\n",
       "    <tr>\n",
       "      <th>39220</th>\n",
       "      <td>2022-02-11 14:00:00</td>\n",
       "      <td>43765.15</td>\n",
       "      <td>43814.17</td>\n",
       "      <td>43450.01</td>\n",
       "      <td>43534.54</td>\n",
       "      <td>880.790640</td>\n",
       "    </tr>\n",
       "  </tbody>\n",
       "</table>\n",
       "<p>39221 rows × 6 columns</p>\n",
       "</div>"
      ],
      "text/plain": [
       "                          date      open      high       low     close  \\\n",
       "0      2017-08-17 04:00:00.000   4261.48   4313.62   4261.32   4308.83   \n",
       "1      2017-08-17 05:00:00.000   4308.83   4328.69   4291.37   4315.32   \n",
       "2      2017-08-17 06:00:00.000   4330.29   4345.45   4309.37   4324.35   \n",
       "3      2017-08-17 07:00:00.000   4316.62   4349.99   4287.41   4349.99   \n",
       "4      2017-08-17 08:00:00.000   4333.32   4377.85   4333.32   4360.69   \n",
       "...                        ...       ...       ...       ...       ...   \n",
       "39216      2022-02-11 10:00:00  43492.63  43569.67  43233.67  43443.77   \n",
       "39217      2022-02-11 11:00:00  43443.78  43523.42  43320.00  43357.53   \n",
       "39218      2022-02-11 12:00:00  43357.53  43700.78  43253.31  43570.77   \n",
       "39219      2022-02-11 13:00:00  43570.77  43826.00  43503.01  43765.14   \n",
       "39220      2022-02-11 14:00:00  43765.15  43814.17  43450.01  43534.54   \n",
       "\n",
       "            volume  \n",
       "0        47.181009  \n",
       "1        23.234916  \n",
       "2         7.229691  \n",
       "3         4.443249  \n",
       "4         0.972807  \n",
       "...            ...  \n",
       "39216  1305.626920  \n",
       "39217   744.524180  \n",
       "39218  1317.546940  \n",
       "39219  1564.251800  \n",
       "39220   880.790640  \n",
       "\n",
       "[39221 rows x 6 columns]"
      ]
     },
     "execution_count": 51,
     "metadata": {},
     "output_type": "execute_result"
    }
   ],
   "source": [
    "df_btc"
   ]
  },
  {
   "cell_type": "code",
   "execution_count": 52,
   "id": "91c4b1b0",
   "metadata": {},
   "outputs": [],
   "source": [
    "df_headers = df_btc.columns"
   ]
  },
  {
   "cell_type": "code",
   "execution_count": 53,
   "id": "83028602",
   "metadata": {},
   "outputs": [
    {
     "data": {
      "text/plain": [
       "39221"
      ]
     },
     "execution_count": 53,
     "metadata": {},
     "output_type": "execute_result"
    }
   ],
   "source": [
    "# Removing everything but the closing price\n",
    "btc_data = df_btc.values[:, 4 ,].astype(float)\n",
    "eth_data = df_eth.values[:, 4 ,].astype(float)\n",
    "xrp_data = df_xrp.values[:, 4 ,].astype(float)\n",
    "\n",
    "len(btc_data)"
   ]
  },
  {
   "cell_type": "code",
   "execution_count": 54,
   "id": "90bf5f11",
   "metadata": {},
   "outputs": [],
   "source": [
    "# Splitting off training , validation ,  test sets , 70% , 20% , 10%\n",
    "\n",
    "def splitting_train_test(data , percTrain , percVal):\n",
    "    onePercent = len(data) // 100\n",
    "    \n",
    "    numberTraining = onePercent * percTrain\n",
    "    numberValidation = onePercent * percVal\n",
    "    \n",
    "    trainingData = data[:numberTraining]\n",
    "    validationData = data[numberTraining : numberTraining + numberValidation]\n",
    "    testData = data[numberTraining + numberValidation:] \n",
    "    \n",
    "    return trainingData.reshape(-1,1) , validationData.reshape(-1,1) , testData.reshape(-1,1)"
   ]
  },
  {
   "cell_type": "code",
   "execution_count": 55,
   "id": "6e12b21b",
   "metadata": {},
   "outputs": [
    {
     "data": {
      "text/plain": [
       "((27440, 1), (7840, 1), (3941, 1))"
      ]
     },
     "execution_count": 55,
     "metadata": {},
     "output_type": "execute_result"
    }
   ],
   "source": [
    "#Reshaping the data so we can use min-max a\n",
    "btc_train , btc_val ,  btc_test = splitting_train_test(btc_data , 70 , 20 )\n",
    "eth_train , eth_val , eth_test = splitting_train_test(eth_data , 70 , 20 )\n",
    "xrp_train , xrp_val , xrp_test = splitting_train_test(xrp_data , 70 , 20 )\n",
    "\n",
    "(btc_train.shape , btc_val.shape , btc_test.shape)"
   ]
  },
  {
   "cell_type": "code",
   "execution_count": 56,
   "id": "60807f5d",
   "metadata": {},
   "outputs": [],
   "source": [
    "def scaling_data(train , validation , test):\n",
    "\n",
    "    scaler = MinMaxScaler()\n",
    "    scaler.fit(train)\n",
    "    \n",
    "    return scaler.transform(train) , scaler.transform(validation) , scaler.transform(test)"
   ]
  },
  {
   "cell_type": "code",
   "execution_count": 57,
   "id": "6aa4a6df",
   "metadata": {},
   "outputs": [],
   "source": [
    "# Scaling the data after we split to avoid leakage, transforming validation and test from training set for the same reason.\n",
    "\n",
    "scaled_train_btc , scaled_val_btc , scaled_test_btc = scaling_data(btc_train , btc_val , btc_test)\n",
    "scaled_train_eth , scaled_val_eth , scaled_test_eth = scaling_data(eth_train , eth_val , eth_test)\n",
    "scaled_train_xrp , scaled_val_xrp , scaled_test_xrp = scaling_data(xrp_train , xrp_val , xrp_test) "
   ]
  },
  {
   "cell_type": "code",
   "execution_count": 58,
   "id": "260106e4",
   "metadata": {},
   "outputs": [],
   "source": [
    "def sliding_window(elements, window_size):\n",
    "    \n",
    "    data = [] \n",
    "    targets = []\n",
    "    \n",
    "    if len(elements) <= window_size:\n",
    "        return elements\n",
    "    \n",
    "    \n",
    "    for i in range(len(elements) - window_size ):\n",
    "        \n",
    "        data.append(elements[i:i+window_size])\n",
    "        targets.append(elements[i+window_size])\n",
    "        \n",
    "    return np.array(data) , np.array(targets)"
   ]
  },
  {
   "cell_type": "code",
   "execution_count": 59,
   "id": "b67e5367",
   "metadata": {},
   "outputs": [],
   "source": [
    "window_length = 24\n",
    "features = 1\n",
    "\n",
    "sliding_winda_train = sliding_window(scaled_train_btc , window_length)\n",
    "sliding_winda_val = sliding_window(scaled_val_btc, window_length)\n",
    "sliding_winda_test = sliding_window(scaled_test_btc , window_length)"
   ]
  },
  {
   "cell_type": "code",
   "execution_count": 60,
   "id": "59d323ce",
   "metadata": {},
   "outputs": [],
   "source": [
    "data , targets = sliding_winda_train\n",
    "validation_data = sliding_winda_val"
   ]
  },
  {
   "cell_type": "code",
   "execution_count": 61,
   "id": "a67f9229",
   "metadata": {},
   "outputs": [
    {
     "name": "stdout",
     "output_type": "stream",
     "text": [
      "27416\n",
      "7816\n",
      "3917\n"
     ]
    }
   ],
   "source": [
    "print(len(data))\n",
    "print(len(validation_data[0]))\n",
    "print(len(sliding_winda_test[0]))"
   ]
  },
  {
   "cell_type": "markdown",
   "id": "453cf27e",
   "metadata": {},
   "source": [
    "<Strong> Here I am testing using a standard split.<Strong>"
   ]
  },
  {
   "cell_type": "markdown",
   "id": "8558dd96",
   "metadata": {},
   "source": [
    "<Strong> Creating the Hybrid Model. Dense Layer 16 </Strong>"
   ]
  },
  {
   "cell_type": "code",
   "execution_count": 62,
   "id": "383e9035",
   "metadata": {},
   "outputs": [
    {
     "name": "stderr",
     "output_type": "stream",
     "text": [
      "2022-02-25 15:48:19.417198: I tensorflow/core/platform/cpu_feature_guard.cc:151] This TensorFlow binary is optimized with oneAPI Deep Neural Network Library (oneDNN) to use the following CPU instructions in performance-critical operations:  AVX2 FMA\n",
      "To enable them in other operations, rebuild TensorFlow with the appropriate compiler flags.\n"
     ]
    }
   ],
   "source": [
    "inputs = Input(shape = (window_length , features) )\n",
    "\n",
    "#From deep learning in python -- better to use recurrent dropout so error propergates correctly\n",
    "x = LSTM(30 , return_sequences = True)(inputs)\n",
    "x = Dropout(0.2)(x) \n",
    "x = LSTM(50)(x)\n",
    "x = Dropout(0.2)(x) \n",
    "x = Dense(16)(x)\n",
    "\n",
    "y = GRU(30 , input_shape=(window_length , features))(inputs)\n",
    "y = Dropout(0.5)(y)\n",
    "y = Dense(16)(y)\n",
    "\n",
    "final = Concatenate()([x,y])\n",
    "final = Dense(1)(final)\n",
    "\n",
    "model = tf.keras.Model(inputs=inputs, outputs= final)"
   ]
  },
  {
   "cell_type": "code",
   "execution_count": 63,
   "id": "47ac9075",
   "metadata": {},
   "outputs": [
    {
     "name": "stdout",
     "output_type": "stream",
     "text": [
      "Model: \"model\"\n",
      "__________________________________________________________________________________________________\n",
      " Layer (type)                   Output Shape         Param #     Connected to                     \n",
      "==================================================================================================\n",
      " input_1 (InputLayer)           [(None, 24, 1)]      0           []                               \n",
      "                                                                                                  \n",
      " lstm (LSTM)                    (None, 24, 30)       3840        ['input_1[0][0]']                \n",
      "                                                                                                  \n",
      " dropout (Dropout)              (None, 24, 30)       0           ['lstm[0][0]']                   \n",
      "                                                                                                  \n",
      " lstm_1 (LSTM)                  (None, 50)           16200       ['dropout[0][0]']                \n",
      "                                                                                                  \n",
      " gru (GRU)                      (None, 30)           2970        ['input_1[0][0]']                \n",
      "                                                                                                  \n",
      " dropout_1 (Dropout)            (None, 50)           0           ['lstm_1[0][0]']                 \n",
      "                                                                                                  \n",
      " dropout_2 (Dropout)            (None, 30)           0           ['gru[0][0]']                    \n",
      "                                                                                                  \n",
      " dense (Dense)                  (None, 16)           816         ['dropout_1[0][0]']              \n",
      "                                                                                                  \n",
      " dense_1 (Dense)                (None, 16)           496         ['dropout_2[0][0]']              \n",
      "                                                                                                  \n",
      " concatenate (Concatenate)      (None, 32)           0           ['dense[0][0]',                  \n",
      "                                                                  'dense_1[0][0]']                \n",
      "                                                                                                  \n",
      " dense_2 (Dense)                (None, 1)            33          ['concatenate[0][0]']            \n",
      "                                                                                                  \n",
      "==================================================================================================\n",
      "Total params: 24,355\n",
      "Trainable params: 24,355\n",
      "Non-trainable params: 0\n",
      "__________________________________________________________________________________________________\n"
     ]
    },
    {
     "data": {
      "image/png": "[encoded data removed]",
      "text/plain": [
       "<IPython.core.display.Image object>"
      ]
     },
     "execution_count": 63,
     "metadata": {},
     "output_type": "execute_result"
    }
   ],
   "source": [
    "model.summary()\n",
    "plot_model(model)"
   ]
  },
  {
   "cell_type": "code",
   "execution_count": 64,
   "id": "ce5e163e",
   "metadata": {},
   "outputs": [
    {
     "name": "stdout",
     "output_type": "stream",
     "text": [
      "Epoch 1/100\n",
      "17/54 [========>.....................] - ETA: 3s - loss: 0.0229"
     ]
    },
    {
     "ename": "KeyboardInterrupt",
     "evalue": "",
     "output_type": "error",
     "traceback": [
      "\u001b[0;31m---------------------------------------------------------------------------\u001b[0m",
      "\u001b[0;31mKeyboardInterrupt\u001b[0m                         Traceback (most recent call last)",
      "\u001b[0;32m/var/folders/cv/9wyhthmx21d7ylr5zx17lfmr0000gn/T/ipykernel_13621/2457356679.py\u001b[0m in \u001b[0;36m<module>\u001b[0;34m\u001b[0m\n\u001b[1;32m      4\u001b[0m \u001b[0mmodel\u001b[0m\u001b[0;34m.\u001b[0m\u001b[0mcompile\u001b[0m\u001b[0;34m(\u001b[0m\u001b[0moptimizer\u001b[0m\u001b[0;34m=\u001b[0m\u001b[0;34m'adam'\u001b[0m \u001b[0;34m,\u001b[0m \u001b[0mloss\u001b[0m \u001b[0;34m=\u001b[0m \u001b[0;34m'mse'\u001b[0m\u001b[0;34m)\u001b[0m\u001b[0;34m\u001b[0m\u001b[0m\n\u001b[1;32m      5\u001b[0m \u001b[0;34m\u001b[0m\u001b[0m\n\u001b[0;32m----> 6\u001b[0;31m \u001b[0mmodel\u001b[0m\u001b[0;34m.\u001b[0m\u001b[0mfit\u001b[0m\u001b[0;34m(\u001b[0m\u001b[0mdata\u001b[0m \u001b[0;34m,\u001b[0m \u001b[0mtargets\u001b[0m \u001b[0;34m,\u001b[0m \u001b[0mvalidation_data\u001b[0m \u001b[0;34m=\u001b[0m \u001b[0mvalidation_data\u001b[0m  \u001b[0;34m,\u001b[0m \u001b[0mbatch_size\u001b[0m \u001b[0;34m=\u001b[0m \u001b[0;36m512\u001b[0m  \u001b[0;34m,\u001b[0m \u001b[0mepochs\u001b[0m \u001b[0;34m=\u001b[0m\u001b[0;36m100\u001b[0m \u001b[0;34m,\u001b[0m \u001b[0mverbose\u001b[0m \u001b[0;34m=\u001b[0m \u001b[0;36m1\u001b[0m \u001b[0;34m)\u001b[0m\u001b[0;34m\u001b[0m\u001b[0m\n\u001b[0m",
      "\u001b[0;32m/Library/Frameworks/Python.framework/Versions/3.7/lib/python3.7/site-packages/keras/utils/traceback_utils.py\u001b[0m in \u001b[0;36merror_handler\u001b[0;34m(*args, **kwargs)\u001b[0m\n\u001b[1;32m     62\u001b[0m     \u001b[0mfiltered_tb\u001b[0m \u001b[0;34m=\u001b[0m \u001b[0;32mNone\u001b[0m\u001b[0;34m\u001b[0m\u001b[0m\n\u001b[1;32m     63\u001b[0m     \u001b[0;32mtry\u001b[0m\u001b[0;34m:\u001b[0m\u001b[0;34m\u001b[0m\u001b[0m\n\u001b[0;32m---> 64\u001b[0;31m       \u001b[0;32mreturn\u001b[0m \u001b[0mfn\u001b[0m\u001b[0;34m(\u001b[0m\u001b[0;34m*\u001b[0m\u001b[0margs\u001b[0m\u001b[0;34m,\u001b[0m \u001b[0;34m**\u001b[0m\u001b[0mkwargs\u001b[0m\u001b[0;34m)\u001b[0m\u001b[0;34m\u001b[0m\u001b[0m\n\u001b[0m\u001b[1;32m     65\u001b[0m     \u001b[0;32mexcept\u001b[0m \u001b[0mException\u001b[0m \u001b[0;32mas\u001b[0m \u001b[0me\u001b[0m\u001b[0;34m:\u001b[0m  \u001b[0;31m# pylint: disable=broad-except\u001b[0m\u001b[0;34m\u001b[0m\u001b[0m\n\u001b[1;32m     66\u001b[0m       \u001b[0mfiltered_tb\u001b[0m \u001b[0;34m=\u001b[0m \u001b[0m_process_traceback_frames\u001b[0m\u001b[0;34m(\u001b[0m\u001b[0me\u001b[0m\u001b[0;34m.\u001b[0m\u001b[0m__traceback__\u001b[0m\u001b[0;34m)\u001b[0m\u001b[0;34m\u001b[0m\u001b[0m\n",
      "\u001b[0;32m/Library/Frameworks/Python.framework/Versions/3.7/lib/python3.7/site-packages/keras/engine/training.py\u001b[0m in \u001b[0;36mfit\u001b[0;34m(self, x, y, batch_size, epochs, verbose, callbacks, validation_split, validation_data, shuffle, class_weight, sample_weight, initial_epoch, steps_per_epoch, validation_steps, validation_batch_size, validation_freq, max_queue_size, workers, use_multiprocessing)\u001b[0m\n\u001b[1;32m   1382\u001b[0m                 _r=1):\n\u001b[1;32m   1383\u001b[0m               \u001b[0mcallbacks\u001b[0m\u001b[0;34m.\u001b[0m\u001b[0mon_train_batch_begin\u001b[0m\u001b[0;34m(\u001b[0m\u001b[0mstep\u001b[0m\u001b[0;34m)\u001b[0m\u001b[0;34m\u001b[0m\u001b[0m\n\u001b[0;32m-> 1384\u001b[0;31m               \u001b[0mtmp_logs\u001b[0m \u001b[0;34m=\u001b[0m \u001b[0mself\u001b[0m\u001b[0;34m.\u001b[0m\u001b[0mtrain_function\u001b[0m\u001b[0;34m(\u001b[0m\u001b[0miterator\u001b[0m\u001b[0;34m)\u001b[0m\u001b[0;34m\u001b[0m\u001b[0m\n\u001b[0m\u001b[1;32m   1385\u001b[0m               \u001b[0;32mif\u001b[0m \u001b[0mdata_handler\u001b[0m\u001b[0;34m.\u001b[0m\u001b[0mshould_sync\u001b[0m\u001b[0;34m:\u001b[0m\u001b[0;34m\u001b[0m\u001b[0m\n\u001b[1;32m   1386\u001b[0m                 \u001b[0mcontext\u001b[0m\u001b[0;34m.\u001b[0m\u001b[0masync_wait\u001b[0m\u001b[0;34m(\u001b[0m\u001b[0;34m)\u001b[0m\u001b[0;34m\u001b[0m\u001b[0m\n",
      "\u001b[0;32m/Library/Frameworks/Python.framework/Versions/3.7/lib/python3.7/site-packages/tensorflow/python/util/traceback_utils.py\u001b[0m in \u001b[0;36merror_handler\u001b[0;34m(*args, **kwargs)\u001b[0m\n\u001b[1;32m    148\u001b[0m     \u001b[0mfiltered_tb\u001b[0m \u001b[0;34m=\u001b[0m \u001b[0;32mNone\u001b[0m\u001b[0;34m\u001b[0m\u001b[0m\n\u001b[1;32m    149\u001b[0m     \u001b[0;32mtry\u001b[0m\u001b[0;34m:\u001b[0m\u001b[0;34m\u001b[0m\u001b[0m\n\u001b[0;32m--> 150\u001b[0;31m       \u001b[0;32mreturn\u001b[0m \u001b[0mfn\u001b[0m\u001b[0;34m(\u001b[0m\u001b[0;34m*\u001b[0m\u001b[0margs\u001b[0m\u001b[0;34m,\u001b[0m \u001b[0;34m**\u001b[0m\u001b[0mkwargs\u001b[0m\u001b[0;34m)\u001b[0m\u001b[0;34m\u001b[0m\u001b[0m\n\u001b[0m\u001b[1;32m    151\u001b[0m     \u001b[0;32mexcept\u001b[0m \u001b[0mException\u001b[0m \u001b[0;32mas\u001b[0m \u001b[0me\u001b[0m\u001b[0;34m:\u001b[0m\u001b[0;34m\u001b[0m\u001b[0m\n\u001b[1;32m    152\u001b[0m       \u001b[0mfiltered_tb\u001b[0m \u001b[0;34m=\u001b[0m \u001b[0m_process_traceback_frames\u001b[0m\u001b[0;34m(\u001b[0m\u001b[0me\u001b[0m\u001b[0;34m.\u001b[0m\u001b[0m__traceback__\u001b[0m\u001b[0;34m)\u001b[0m\u001b[0;34m\u001b[0m\u001b[0m\n",
      "\u001b[0;32m/Library/Frameworks/Python.framework/Versions/3.7/lib/python3.7/site-packages/tensorflow/python/eager/def_function.py\u001b[0m in \u001b[0;36m__call__\u001b[0;34m(self, *args, **kwds)\u001b[0m\n\u001b[1;32m    913\u001b[0m \u001b[0;34m\u001b[0m\u001b[0m\n\u001b[1;32m    914\u001b[0m       \u001b[0;32mwith\u001b[0m \u001b[0mOptionalXlaContext\u001b[0m\u001b[0;34m(\u001b[0m\u001b[0mself\u001b[0m\u001b[0;34m.\u001b[0m\u001b[0m_jit_compile\u001b[0m\u001b[0;34m)\u001b[0m\u001b[0;34m:\u001b[0m\u001b[0;34m\u001b[0m\u001b[0m\n\u001b[0;32m--> 915\u001b[0;31m         \u001b[0mresult\u001b[0m \u001b[0;34m=\u001b[0m \u001b[0mself\u001b[0m\u001b[0;34m.\u001b[0m\u001b[0m_call\u001b[0m\u001b[0;34m(\u001b[0m\u001b[0;34m*\u001b[0m\u001b[0margs\u001b[0m\u001b[0;34m,\u001b[0m \u001b[0;34m**\u001b[0m\u001b[0mkwds\u001b[0m\u001b[0;34m)\u001b[0m\u001b[0;34m\u001b[0m\u001b[0m\n\u001b[0m\u001b[1;32m    916\u001b[0m \u001b[0;34m\u001b[0m\u001b[0m\n\u001b[1;32m    917\u001b[0m       \u001b[0mnew_tracing_count\u001b[0m \u001b[0;34m=\u001b[0m \u001b[0mself\u001b[0m\u001b[0;34m.\u001b[0m\u001b[0mexperimental_get_tracing_count\u001b[0m\u001b[0;34m(\u001b[0m\u001b[0;34m)\u001b[0m\u001b[0;34m\u001b[0m\u001b[0m\n",
      "\u001b[0;32m/Library/Frameworks/Python.framework/Versions/3.7/lib/python3.7/site-packages/tensorflow/python/eager/def_function.py\u001b[0m in \u001b[0;36m_call\u001b[0;34m(self, *args, **kwds)\u001b[0m\n\u001b[1;32m    945\u001b[0m       \u001b[0;31m# In this case we have created variables on the first call, so we run the\u001b[0m\u001b[0;34m\u001b[0m\u001b[0;34m\u001b[0m\u001b[0m\n\u001b[1;32m    946\u001b[0m       \u001b[0;31m# defunned version which is guaranteed to never create variables.\u001b[0m\u001b[0;34m\u001b[0m\u001b[0;34m\u001b[0m\u001b[0m\n\u001b[0;32m--> 947\u001b[0;31m       \u001b[0;32mreturn\u001b[0m \u001b[0mself\u001b[0m\u001b[0;34m.\u001b[0m\u001b[0m_stateless_fn\u001b[0m\u001b[0;34m(\u001b[0m\u001b[0;34m*\u001b[0m\u001b[0margs\u001b[0m\u001b[0;34m,\u001b[0m \u001b[0;34m**\u001b[0m\u001b[0mkwds\u001b[0m\u001b[0;34m)\u001b[0m  \u001b[0;31m# pylint: disable=not-callable\u001b[0m\u001b[0;34m\u001b[0m\u001b[0m\n\u001b[0m\u001b[1;32m    948\u001b[0m     \u001b[0;32melif\u001b[0m \u001b[0mself\u001b[0m\u001b[0;34m.\u001b[0m\u001b[0m_stateful_fn\u001b[0m \u001b[0;32mis\u001b[0m \u001b[0;32mnot\u001b[0m \u001b[0;32mNone\u001b[0m\u001b[0;34m:\u001b[0m\u001b[0;34m\u001b[0m\u001b[0m\n\u001b[1;32m    949\u001b[0m       \u001b[0;31m# Release the lock early so that multiple threads can perform the call\u001b[0m\u001b[0;34m\u001b[0m\u001b[0;34m\u001b[0m\u001b[0m\n",
      "\u001b[0;32m/Library/Frameworks/Python.framework/Versions/3.7/lib/python3.7/site-packages/tensorflow/python/eager/function.py\u001b[0m in \u001b[0;36m__call__\u001b[0;34m(self, *args, **kwargs)\u001b[0m\n\u001b[1;32m   2955\u001b[0m        filtered_flat_args) = self._maybe_define_function(args, kwargs)\n\u001b[1;32m   2956\u001b[0m     return graph_function._call_flat(\n\u001b[0;32m-> 2957\u001b[0;31m         filtered_flat_args, captured_inputs=graph_function.captured_inputs)  # pylint: disable=protected-access\n\u001b[0m\u001b[1;32m   2958\u001b[0m \u001b[0;34m\u001b[0m\u001b[0m\n\u001b[1;32m   2959\u001b[0m   \u001b[0;34m@\u001b[0m\u001b[0mproperty\u001b[0m\u001b[0;34m\u001b[0m\u001b[0m\n",
      "\u001b[0;32m/Library/Frameworks/Python.framework/Versions/3.7/lib/python3.7/site-packages/tensorflow/python/eager/function.py\u001b[0m in \u001b[0;36m_call_flat\u001b[0;34m(self, args, captured_inputs, cancellation_manager)\u001b[0m\n\u001b[1;32m   1852\u001b[0m       \u001b[0;31m# No tape is watching; skip to running the function.\u001b[0m\u001b[0;34m\u001b[0m\u001b[0;34m\u001b[0m\u001b[0m\n\u001b[1;32m   1853\u001b[0m       return self._build_call_outputs(self._inference_function.call(\n\u001b[0;32m-> 1854\u001b[0;31m           ctx, args, cancellation_manager=cancellation_manager))\n\u001b[0m\u001b[1;32m   1855\u001b[0m     forward_backward = self._select_forward_and_backward_functions(\n\u001b[1;32m   1856\u001b[0m         \u001b[0margs\u001b[0m\u001b[0;34m,\u001b[0m\u001b[0;34m\u001b[0m\u001b[0m\n",
      "\u001b[0;32m/Library/Frameworks/Python.framework/Versions/3.7/lib/python3.7/site-packages/tensorflow/python/eager/function.py\u001b[0m in \u001b[0;36mcall\u001b[0;34m(self, ctx, args, cancellation_manager)\u001b[0m\n\u001b[1;32m    502\u001b[0m               \u001b[0minputs\u001b[0m\u001b[0;34m=\u001b[0m\u001b[0margs\u001b[0m\u001b[0;34m,\u001b[0m\u001b[0;34m\u001b[0m\u001b[0m\n\u001b[1;32m    503\u001b[0m               \u001b[0mattrs\u001b[0m\u001b[0;34m=\u001b[0m\u001b[0mattrs\u001b[0m\u001b[0;34m,\u001b[0m\u001b[0;34m\u001b[0m\u001b[0m\n\u001b[0;32m--> 504\u001b[0;31m               ctx=ctx)\n\u001b[0m\u001b[1;32m    505\u001b[0m         \u001b[0;32melse\u001b[0m\u001b[0;34m:\u001b[0m\u001b[0;34m\u001b[0m\u001b[0m\n\u001b[1;32m    506\u001b[0m           outputs = execute.execute_with_cancellation(\n",
      "\u001b[0;32m/Library/Frameworks/Python.framework/Versions/3.7/lib/python3.7/site-packages/tensorflow/python/eager/execute.py\u001b[0m in \u001b[0;36mquick_execute\u001b[0;34m(op_name, num_outputs, inputs, attrs, ctx, name)\u001b[0m\n\u001b[1;32m     53\u001b[0m     \u001b[0mctx\u001b[0m\u001b[0;34m.\u001b[0m\u001b[0mensure_initialized\u001b[0m\u001b[0;34m(\u001b[0m\u001b[0;34m)\u001b[0m\u001b[0;34m\u001b[0m\u001b[0m\n\u001b[1;32m     54\u001b[0m     tensors = pywrap_tfe.TFE_Py_Execute(ctx._handle, device_name, op_name,\n\u001b[0;32m---> 55\u001b[0;31m                                         inputs, attrs, num_outputs)\n\u001b[0m\u001b[1;32m     56\u001b[0m   \u001b[0;32mexcept\u001b[0m \u001b[0mcore\u001b[0m\u001b[0;34m.\u001b[0m\u001b[0m_NotOkStatusException\u001b[0m \u001b[0;32mas\u001b[0m \u001b[0me\u001b[0m\u001b[0;34m:\u001b[0m\u001b[0;34m\u001b[0m\u001b[0m\n\u001b[1;32m     57\u001b[0m     \u001b[0;32mif\u001b[0m \u001b[0mname\u001b[0m \u001b[0;32mis\u001b[0m \u001b[0;32mnot\u001b[0m \u001b[0;32mNone\u001b[0m\u001b[0;34m:\u001b[0m\u001b[0;34m\u001b[0m\u001b[0m\n",
      "\u001b[0;31mKeyboardInterrupt\u001b[0m: "
     ]
    }
   ],
   "source": [
    "#If use validation in this part , then leakage as we are using the normalized values of the training set which in this case would include validation set.\n",
    "#Validation set needs to be in a tuple with x , y\n",
    "\n",
    "model.compile(optimizer='adam' , loss = 'mse')\n",
    "\n",
    "model.fit(data , targets , validation_data = validation_data  , batch_size = 512  , epochs =100 , verbose = 1 )"
   ]
  },
  {
   "cell_type": "markdown",
   "id": "1e8f0411",
   "metadata": {},
   "source": [
    "<Strong> Temporal Neural Network </Strong>"
   ]
  },
  {
   "cell_type": "markdown",
   "id": "3989e663",
   "metadata": {},
   "source": [
    "<Strong> Padding=\"causal\" ( pads the layer's input with zeros in the front so that we can also predict the values of early time steps in the frame ) </Strong>"
   ]
  },
  {
   "cell_type": "code",
   "execution_count": null,
   "id": "3dce3954",
   "metadata": {},
   "outputs": [],
   "source": [
    "# Full Converage = 1 + (kernel_size-1) . dilation_base^n - 1 / dilation_base - 1 >= l\n",
    "# Number of required layers = log (dilation_base) ( ((input_length - 1) . (dilation_base - 1) / (k - 1) ) + 1 )\n",
    "# Padding for each layer dilation_base ^ layers below our current . (kernel_size - 1) below = input\n",
    "\n",
    "# For full coverage we need 4 layers (we are using a base of 2)\n",
    "\n",
    "\n",
    "model = models.Sequential()\n",
    "\n",
    "# Casual adds padding to the start of input sequence\n",
    "model.add(Conv1D(filters=4, kernel_size=3, activation='relu', input_shape=(window_length, 1), dilation_rate=1 , padding = 'causal'))\n",
    "\n",
    "model.add(Conv1D(filters=4, kernel_size=3, activation='relu' , padding = 'causal', dilation_rate=2))\n",
    "\n",
    "# For full coverage we need 4 layers \n",
    "model.add(Conv1D(filters=4, kernel_size=3, activation='relu' , padding = 'causal' , dilation_rate=4))\n",
    "\n",
    "# For full coverage we need 4 layers \n",
    "model.add(Conv1D(filters=4, kernel_size=3, activation='relu' , padding = 'causal', dilation_rate= 8))\n",
    "\n",
    "\n",
    "model.summary()"
   ]
  },
  {
   "cell_type": "code",
   "execution_count": null,
   "id": "b1778914",
   "metadata": {},
   "outputs": [],
   "source": []
  },
  {
   "cell_type": "code",
   "execution_count": null,
   "id": "d09b757f",
   "metadata": {},
   "outputs": [],
   "source": []
  },
  {
   "cell_type": "code",
   "execution_count": null,
   "id": "424c8662",
   "metadata": {},
   "outputs": [],
   "source": []
  },
  {
   "cell_type": "code",
   "execution_count": null,
   "id": "47299cb1",
   "metadata": {},
   "outputs": [],
   "source": []
  }
 ],
 "metadata": {
  "kernelspec": {
   "display_name": "Python 3 (ipykernel)",
   "language": "python",
   "name": "python3"
  },
  "language_info": {
   "codemirror_mode": {
    "name": "ipython",
    "version": 3
   },
   "file_extension": ".py",
   "mimetype": "text/x-python",
   "name": "python",
   "nbconvert_exporter": "python",
   "pygments_lexer": "ipython3",
   "version": "3.7.0"
  }
 },
 "nbformat": 4,
 "nbformat_minor": 5
}
