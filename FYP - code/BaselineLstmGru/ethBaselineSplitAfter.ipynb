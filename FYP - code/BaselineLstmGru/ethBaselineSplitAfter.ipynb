{
 "cells": [
  {
   "cell_type": "code",
   "execution_count": 6,
   "id": "56f0a547",
   "metadata": {},
   "outputs": [],
   "source": [
    "import pandas as pd\n",
    "import numpy as np\n",
    "import tensorflow as tf\n",
    "import math\n",
    "from tensorflow.keras.utils import plot_model\n",
    "from matplotlib import pyplot as plt\n",
    "from tensorflow.keras.models import Sequential \n",
    "from tensorflow.keras import layers\n",
    "from tensorflow.keras.optimizers import RMSprop\n",
    "import os\n",
    "from sklearn.metrics import mean_squared_error , mean_absolute_error , mean_absolute_percentage_error\n",
    "from sklearn.preprocessing import MinMaxScaler\n",
    "from tensorflow.keras.preprocessing.sequence import TimeseriesGenerator\n",
    "from tensorflow.keras.layers import LSTM , Dense , Dropout , GRU , Concatenate , Input , Conv1D , InputLayer\n",
    "from tensorflow.keras import models\n",
    "from tensorflow.keras.callbacks import EarlyStopping"
   ]
  },
  {
   "cell_type": "markdown",
   "id": "947652df",
   "metadata": {},
   "source": [
    "<Strong> Grabbing the data from stored files (originally pulled from Binance) </Strong>"
   ]
  },
  {
   "cell_type": "code",
   "execution_count": 8,
   "id": "1fe63049",
   "metadata": {},
   "outputs": [],
   "source": [
    "df_eth = pd.read_csv(\"ETH_1h_data.csv\")"
   ]
  },
  {
   "cell_type": "code",
   "execution_count": 9,
   "id": "63c93ce3",
   "metadata": {},
   "outputs": [
    {
     "data": {
      "text/html": [
       "<div>\n",
       "<style scoped>\n",
       "    .dataframe tbody tr th:only-of-type {\n",
       "        vertical-align: middle;\n",
       "    }\n",
       "\n",
       "    .dataframe tbody tr th {\n",
       "        vertical-align: top;\n",
       "    }\n",
       "\n",
       "    .dataframe thead th {\n",
       "        text-align: right;\n",
       "    }\n",
       "</style>\n",
       "<table border=\"1\" class=\"dataframe\">\n",
       "  <thead>\n",
       "    <tr style=\"text-align: right;\">\n",
       "      <th></th>\n",
       "      <th>date</th>\n",
       "      <th>open</th>\n",
       "      <th>high</th>\n",
       "      <th>low</th>\n",
       "      <th>close</th>\n",
       "      <th>volume</th>\n",
       "    </tr>\n",
       "  </thead>\n",
       "  <tbody>\n",
       "    <tr>\n",
       "      <th>0</th>\n",
       "      <td>2017-08-17 04:00:00.000</td>\n",
       "      <td>301.13</td>\n",
       "      <td>302.57</td>\n",
       "      <td>298.00</td>\n",
       "      <td>301.61</td>\n",
       "      <td>125.66877</td>\n",
       "    </tr>\n",
       "    <tr>\n",
       "      <th>1</th>\n",
       "      <td>2017-08-17 05:00:00.000</td>\n",
       "      <td>301.61</td>\n",
       "      <td>303.28</td>\n",
       "      <td>300.00</td>\n",
       "      <td>303.10</td>\n",
       "      <td>377.67246</td>\n",
       "    </tr>\n",
       "    <tr>\n",
       "      <th>2</th>\n",
       "      <td>2017-08-17 06:00:00.000</td>\n",
       "      <td>302.40</td>\n",
       "      <td>304.44</td>\n",
       "      <td>301.90</td>\n",
       "      <td>302.68</td>\n",
       "      <td>303.86672</td>\n",
       "    </tr>\n",
       "    <tr>\n",
       "      <th>3</th>\n",
       "      <td>2017-08-17 07:00:00.000</td>\n",
       "      <td>302.68</td>\n",
       "      <td>307.96</td>\n",
       "      <td>302.60</td>\n",
       "      <td>307.96</td>\n",
       "      <td>754.74510</td>\n",
       "    </tr>\n",
       "    <tr>\n",
       "      <th>4</th>\n",
       "      <td>2017-08-17 08:00:00.000</td>\n",
       "      <td>307.95</td>\n",
       "      <td>309.97</td>\n",
       "      <td>307.00</td>\n",
       "      <td>308.62</td>\n",
       "      <td>150.75029</td>\n",
       "    </tr>\n",
       "    <tr>\n",
       "      <th>...</th>\n",
       "      <td>...</td>\n",
       "      <td>...</td>\n",
       "      <td>...</td>\n",
       "      <td>...</td>\n",
       "      <td>...</td>\n",
       "      <td>...</td>\n",
       "    </tr>\n",
       "    <tr>\n",
       "      <th>39216</th>\n",
       "      <td>2022-02-11 10:00:00</td>\n",
       "      <td>3102.22</td>\n",
       "      <td>3115.98</td>\n",
       "      <td>3075.24</td>\n",
       "      <td>3106.33</td>\n",
       "      <td>12865.43100</td>\n",
       "    </tr>\n",
       "    <tr>\n",
       "      <th>39217</th>\n",
       "      <td>2022-02-11 11:00:00</td>\n",
       "      <td>3106.34</td>\n",
       "      <td>3109.86</td>\n",
       "      <td>3083.93</td>\n",
       "      <td>3088.30</td>\n",
       "      <td>7796.24450</td>\n",
       "    </tr>\n",
       "    <tr>\n",
       "      <th>39218</th>\n",
       "      <td>2022-02-11 12:00:00</td>\n",
       "      <td>3088.30</td>\n",
       "      <td>3122.00</td>\n",
       "      <td>3079.16</td>\n",
       "      <td>3102.23</td>\n",
       "      <td>13475.38960</td>\n",
       "    </tr>\n",
       "    <tr>\n",
       "      <th>39219</th>\n",
       "      <td>2022-02-11 13:00:00</td>\n",
       "      <td>3102.22</td>\n",
       "      <td>3127.00</td>\n",
       "      <td>3095.00</td>\n",
       "      <td>3121.64</td>\n",
       "      <td>13585.96880</td>\n",
       "    </tr>\n",
       "    <tr>\n",
       "      <th>39220</th>\n",
       "      <td>2022-02-11 14:00:00</td>\n",
       "      <td>3121.65</td>\n",
       "      <td>3128.20</td>\n",
       "      <td>3104.56</td>\n",
       "      <td>3110.51</td>\n",
       "      <td>5450.64810</td>\n",
       "    </tr>\n",
       "  </tbody>\n",
       "</table>\n",
       "<p>39221 rows × 6 columns</p>\n",
       "</div>"
      ],
      "text/plain": [
       "                          date     open     high      low    close  \\\n",
       "0      2017-08-17 04:00:00.000   301.13   302.57   298.00   301.61   \n",
       "1      2017-08-17 05:00:00.000   301.61   303.28   300.00   303.10   \n",
       "2      2017-08-17 06:00:00.000   302.40   304.44   301.90   302.68   \n",
       "3      2017-08-17 07:00:00.000   302.68   307.96   302.60   307.96   \n",
       "4      2017-08-17 08:00:00.000   307.95   309.97   307.00   308.62   \n",
       "...                        ...      ...      ...      ...      ...   \n",
       "39216      2022-02-11 10:00:00  3102.22  3115.98  3075.24  3106.33   \n",
       "39217      2022-02-11 11:00:00  3106.34  3109.86  3083.93  3088.30   \n",
       "39218      2022-02-11 12:00:00  3088.30  3122.00  3079.16  3102.23   \n",
       "39219      2022-02-11 13:00:00  3102.22  3127.00  3095.00  3121.64   \n",
       "39220      2022-02-11 14:00:00  3121.65  3128.20  3104.56  3110.51   \n",
       "\n",
       "            volume  \n",
       "0        125.66877  \n",
       "1        377.67246  \n",
       "2        303.86672  \n",
       "3        754.74510  \n",
       "4        150.75029  \n",
       "...            ...  \n",
       "39216  12865.43100  \n",
       "39217   7796.24450  \n",
       "39218  13475.38960  \n",
       "39219  13585.96880  \n",
       "39220   5450.64810  \n",
       "\n",
       "[39221 rows x 6 columns]"
      ]
     },
     "execution_count": 9,
     "metadata": {},
     "output_type": "execute_result"
    }
   ],
   "source": [
    "df_eth"
   ]
  },
  {
   "cell_type": "code",
   "execution_count": 10,
   "id": "9bde6969",
   "metadata": {},
   "outputs": [],
   "source": [
    "df_headers = df_eth.columns"
   ]
  },
  {
   "cell_type": "markdown",
   "id": "c68634f1",
   "metadata": {},
   "source": [
    "<Strong> Grabbing the closing price (univariate) </Strong>"
   ]
  },
  {
   "cell_type": "code",
   "execution_count": 11,
   "id": "512d2ff6",
   "metadata": {},
   "outputs": [
    {
     "data": {
      "text/plain": [
       "39221"
      ]
     },
     "execution_count": 11,
     "metadata": {},
     "output_type": "execute_result"
    }
   ],
   "source": [
    "# Removing everything but the closing price\n",
    "eth_data = df_eth.values[:, 4 ,].astype(float)\n",
    "\n",
    "len(eth_data)"
   ]
  },
  {
   "cell_type": "markdown",
   "id": "0ff079aa",
   "metadata": {},
   "source": [
    "<Strong> Scaling the data  </Strong>"
   ]
  },
  {
   "cell_type": "code",
   "execution_count": 12,
   "id": "81b6f812",
   "metadata": {},
   "outputs": [],
   "source": [
    "percTrain = 70\n",
    "percVal = 20\n",
    "\n",
    "onePercent = len(eth_data) // 100\n",
    "numberTraining = onePercent * percTrain\n",
    "\n",
    "scaler = MinMaxScaler()\n",
    "reshaped_data = eth_data.reshape(-1,1)\n",
    "\n",
    "#Just scaling on training data otherwise it would be leakage\n",
    "scaler.fit(reshaped_data[:numberTraining])\n",
    "scaled_eth = scaler.transform(reshaped_data)"
   ]
  },
  {
   "cell_type": "markdown",
   "id": "2a6a4ccd",
   "metadata": {},
   "source": [
    "<Strong> Creating Matrix in Sliding window form <Strong>"
   ]
  },
  {
   "cell_type": "code",
   "execution_count": 13,
   "id": "ddf6b3da",
   "metadata": {},
   "outputs": [],
   "source": [
    "def sliding_window(elements, window_size):\n",
    "    \n",
    "    data = [] \n",
    "    targets = []\n",
    "    \n",
    "    if len(elements) <= window_size:\n",
    "        return elements\n",
    "    \n",
    "    for i in range(len(elements) - window_size ):\n",
    "        \n",
    "        data.append(elements[i:i+window_size])\n",
    "        targets.append(elements[i+window_size])\n",
    "        \n",
    "    return np.array(data) , np.array(targets)"
   ]
  },
  {
   "cell_type": "code",
   "execution_count": 14,
   "id": "71ddaa81",
   "metadata": {},
   "outputs": [],
   "source": [
    "window_length = 24\n",
    "features = 1\n",
    "\n",
    "\n",
    "sliding_winda_eth = sliding_window(scaled_eth , window_length)"
   ]
  },
  {
   "cell_type": "markdown",
   "id": "82fef525",
   "metadata": {},
   "source": [
    "<Strong> Splitting the data after we create Sliding Window matrix (more data) </Strong>"
   ]
  },
  {
   "cell_type": "code",
   "execution_count": 15,
   "id": "1731b98f",
   "metadata": {},
   "outputs": [],
   "source": [
    "# Splitting the data after creating the sliding window data\n",
    "\n",
    "def splitting_train_test(data):\n",
    "        \n",
    "    onePercent = len(data[1]) // 100\n",
    "    \n",
    "    numberTraining = onePercent * percTrain\n",
    "    numberValidation = onePercent * percVal\n",
    "    \n",
    "    trainingData = data[0][:numberTraining] , data[1][:numberTraining]\n",
    "    validationData = data[0][numberTraining : numberTraining + numberValidation] , data[1][numberTraining : numberTraining + numberValidation]\n",
    "    testData = data[0][numberTraining + numberValidation:] , data[1][numberTraining + numberValidation:] \n",
    "    \n",
    "    #Returning tuples of (sliding-window , target_values)\n",
    "    return trainingData , validationData , testData"
   ]
  },
  {
   "cell_type": "code",
   "execution_count": 16,
   "id": "05f85f5e",
   "metadata": {},
   "outputs": [
    {
     "name": "stdout",
     "output_type": "stream",
     "text": [
      "(27370, 24, 1)\n"
     ]
    }
   ],
   "source": [
    "#Reshaping the data so we can use min-max a\n",
    "eth_train , eth_val , eth_test = splitting_train_test(sliding_winda_eth)\n",
    "\n",
    "print(eth_train[0].shape)"
   ]
  },
  {
   "cell_type": "markdown",
   "id": "c9a800f1",
   "metadata": {},
   "source": [
    "<Strong> Creating the model </Strong>"
   ]
  },
  {
   "cell_type": "code",
   "execution_count": 17,
   "id": "844b2b39",
   "metadata": {},
   "outputs": [
    {
     "name": "stderr",
     "output_type": "stream",
     "text": [
      "2022-03-14 21:58:22.570658: I tensorflow/core/platform/cpu_feature_guard.cc:151] This TensorFlow binary is optimized with oneAPI Deep Neural Network Library (oneDNN) to use the following CPU instructions in performance-critical operations:  AVX2 FMA\n",
      "To enable them in other operations, rebuild TensorFlow with the appropriate compiler flags.\n"
     ]
    },
    {
     "name": "stdout",
     "output_type": "stream",
     "text": [
      "Model: \"model\"\n",
      "__________________________________________________________________________________________________\n",
      " Layer (type)                   Output Shape         Param #     Connected to                     \n",
      "==================================================================================================\n",
      " input_1 (InputLayer)           [(None, 24, 1)]      0           []                               \n",
      "                                                                                                  \n",
      " lstm (LSTM)                    (None, 24, 30)       3840        ['input_1[0][0]']                \n",
      "                                                                                                  \n",
      " dropout (Dropout)              (None, 24, 30)       0           ['lstm[0][0]']                   \n",
      "                                                                                                  \n",
      " gru (GRU)                      (None, 30)           2970        ['input_1[0][0]']                \n",
      "                                                                                                  \n",
      " lstm_1 (LSTM)                  (None, 50)           16200       ['dropout[0][0]']                \n",
      "                                                                                                  \n",
      " dropout_1 (Dropout)            (None, 30)           0           ['gru[0][0]']                    \n",
      "                                                                                                  \n",
      " dense (Dense)                  (None, 128)          6528        ['lstm_1[0][0]']                 \n",
      "                                                                                                  \n",
      " dense_1 (Dense)                (None, 128)          3968        ['dropout_1[0][0]']              \n",
      "                                                                                                  \n",
      " concatenate (Concatenate)      (None, 256)          0           ['dense[0][0]',                  \n",
      "                                                                  'dense_1[0][0]']                \n",
      "                                                                                                  \n",
      " dense_2 (Dense)                (None, 1)            257         ['concatenate[0][0]']            \n",
      "                                                                                                  \n",
      "==================================================================================================\n",
      "Total params: 33,763\n",
      "Trainable params: 33,763\n",
      "Non-trainable params: 0\n",
      "__________________________________________________________________________________________________\n"
     ]
    },
    {
     "data": {
      "image/png": "[encoded data removed]",
      "text/plain": [
       "<IPython.core.display.Image object>"
      ]
     },
     "execution_count": 17,
     "metadata": {},
     "output_type": "execute_result"
    }
   ],
   "source": [
    "inputs = Input(shape = (window_length , features) )\n",
    "\n",
    "#From deep learning in python -- better to use recurrent dropout so error propergates correctly\n",
    "x = LSTM(30 , return_sequences = True )(inputs)\n",
    "x = Dropout(0.01)(x) \n",
    "x = LSTM(50)(x)\n",
    "x = Dense(128 , activation=layers.LeakyReLU(alpha=0.01))(x)\n",
    "\n",
    "y = GRU(30,input_shape=(window_length , features))(inputs)\n",
    "y = Dropout(0.01)(y)\n",
    "y = Dense(128 , activation=layers.LeakyReLU(alpha=0.01))(y)\n",
    "\n",
    "final = Concatenate()([x,y])\n",
    "final = Dense(1)(final)\n",
    "\n",
    "model = tf.keras.Model(inputs=inputs, outputs= final)\n",
    "\n",
    "model.summary()\n",
    "plot_model(model)"
   ]
  },
  {
   "cell_type": "markdown",
   "id": "89e8d01a",
   "metadata": {},
   "source": [
    "<Strong> Compiling the model </Strong>"
   ]
  },
  {
   "cell_type": "code",
   "execution_count": 18,
   "id": "bb0a256f",
   "metadata": {},
   "outputs": [],
   "source": [
    "model.compile(optimizer='adam' , loss = 'mse')"
   ]
  },
  {
   "cell_type": "markdown",
   "id": "1cee5682",
   "metadata": {},
   "source": [
    "<Strong> Creating a callback to avail of early stopping </Strong>"
   ]
  },
  {
   "cell_type": "code",
   "execution_count": 19,
   "id": "dc75089d",
   "metadata": {},
   "outputs": [],
   "source": [
    "earlyStopping = EarlyStopping(monitor = 'val_loss' , patience = 30 , mode = 'min' , verbose = 1)"
   ]
  },
  {
   "cell_type": "markdown",
   "id": "8641f8de",
   "metadata": {},
   "source": [
    "<Strong> Training the model and storing the epoch where training stopped </Strong>"
   ]
  },
  {
   "cell_type": "code",
   "execution_count": 20,
   "id": "924e1f60",
   "metadata": {},
   "outputs": [
    {
     "name": "stdout",
     "output_type": "stream",
     "text": [
      "Epoch 1/300\n",
      "54/54 [==============================] - 11s 123ms/step - loss: 0.0037 - val_loss: 0.0418\n",
      "Epoch 2/300\n",
      "47/54 [=========================>....] - ETA: 0s - loss: 6.5615e-05"
     ]
    },
    {
     "ename": "KeyboardInterrupt",
     "evalue": "",
     "output_type": "error",
     "traceback": [
      "\u001b[0;31m---------------------------------------------------------------------------\u001b[0m",
      "\u001b[0;31mKeyboardInterrupt\u001b[0m                         Traceback (most recent call last)",
      "\u001b[0;32m/var/folders/cv/9wyhthmx21d7ylr5zx17lfmr0000gn/T/ipykernel_15773/3749631476.py\u001b[0m in \u001b[0;36m<module>\u001b[0;34m\u001b[0m\n\u001b[1;32m      1\u001b[0m \u001b[0;31m#Validation set needs to be in a tuple with x , y\u001b[0m\u001b[0;34m\u001b[0m\u001b[0;34m\u001b[0m\u001b[0m\n\u001b[0;32m----> 2\u001b[0;31m \u001b[0mhistory\u001b[0m \u001b[0;34m=\u001b[0m \u001b[0mmodel\u001b[0m\u001b[0;34m.\u001b[0m\u001b[0mfit\u001b[0m\u001b[0;34m(\u001b[0m\u001b[0meth_train\u001b[0m\u001b[0;34m[\u001b[0m\u001b[0;36m0\u001b[0m\u001b[0;34m]\u001b[0m \u001b[0;34m,\u001b[0m \u001b[0meth_train\u001b[0m\u001b[0;34m[\u001b[0m\u001b[0;36m1\u001b[0m\u001b[0;34m]\u001b[0m \u001b[0;34m,\u001b[0m \u001b[0mvalidation_data\u001b[0m \u001b[0;34m=\u001b[0m \u001b[0meth_val\u001b[0m  \u001b[0;34m,\u001b[0m \u001b[0mbatch_size\u001b[0m \u001b[0;34m=\u001b[0m \u001b[0;36m512\u001b[0m  \u001b[0;34m,\u001b[0m \u001b[0mepochs\u001b[0m \u001b[0;34m=\u001b[0m\u001b[0;36m300\u001b[0m \u001b[0;34m,\u001b[0m \u001b[0mverbose\u001b[0m \u001b[0;34m=\u001b[0m \u001b[0;36m1\u001b[0m \u001b[0;34m,\u001b[0m \u001b[0mcallbacks\u001b[0m \u001b[0;34m=\u001b[0m \u001b[0;34m[\u001b[0m\u001b[0mearlyStopping\u001b[0m\u001b[0;34m]\u001b[0m \u001b[0;34m)\u001b[0m\u001b[0;34m\u001b[0m\u001b[0m\n\u001b[0m\u001b[1;32m      3\u001b[0m \u001b[0mnum_epochs\u001b[0m \u001b[0;34m=\u001b[0m \u001b[0mearlyStopping\u001b[0m\u001b[0;34m.\u001b[0m\u001b[0mstopped_epoch\u001b[0m\u001b[0;34m\u001b[0m\u001b[0m\n",
      "\u001b[0;32m/Library/Frameworks/Python.framework/Versions/3.7/lib/python3.7/site-packages/keras/utils/traceback_utils.py\u001b[0m in \u001b[0;36merror_handler\u001b[0;34m(*args, **kwargs)\u001b[0m\n\u001b[1;32m     62\u001b[0m     \u001b[0mfiltered_tb\u001b[0m \u001b[0;34m=\u001b[0m \u001b[0;32mNone\u001b[0m\u001b[0;34m\u001b[0m\u001b[0m\n\u001b[1;32m     63\u001b[0m     \u001b[0;32mtry\u001b[0m\u001b[0;34m:\u001b[0m\u001b[0;34m\u001b[0m\u001b[0m\n\u001b[0;32m---> 64\u001b[0;31m       \u001b[0;32mreturn\u001b[0m \u001b[0mfn\u001b[0m\u001b[0;34m(\u001b[0m\u001b[0;34m*\u001b[0m\u001b[0margs\u001b[0m\u001b[0;34m,\u001b[0m \u001b[0;34m**\u001b[0m\u001b[0mkwargs\u001b[0m\u001b[0;34m)\u001b[0m\u001b[0;34m\u001b[0m\u001b[0m\n\u001b[0m\u001b[1;32m     65\u001b[0m     \u001b[0;32mexcept\u001b[0m \u001b[0mException\u001b[0m \u001b[0;32mas\u001b[0m \u001b[0me\u001b[0m\u001b[0;34m:\u001b[0m  \u001b[0;31m# pylint: disable=broad-except\u001b[0m\u001b[0;34m\u001b[0m\u001b[0m\n\u001b[1;32m     66\u001b[0m       \u001b[0mfiltered_tb\u001b[0m \u001b[0;34m=\u001b[0m \u001b[0m_process_traceback_frames\u001b[0m\u001b[0;34m(\u001b[0m\u001b[0me\u001b[0m\u001b[0;34m.\u001b[0m\u001b[0m__traceback__\u001b[0m\u001b[0;34m)\u001b[0m\u001b[0;34m\u001b[0m\u001b[0m\n",
      "\u001b[0;32m/Library/Frameworks/Python.framework/Versions/3.7/lib/python3.7/site-packages/keras/engine/training.py\u001b[0m in \u001b[0;36mfit\u001b[0;34m(self, x, y, batch_size, epochs, verbose, callbacks, validation_split, validation_data, shuffle, class_weight, sample_weight, initial_epoch, steps_per_epoch, validation_steps, validation_batch_size, validation_freq, max_queue_size, workers, use_multiprocessing)\u001b[0m\n\u001b[1;32m   1382\u001b[0m                 _r=1):\n\u001b[1;32m   1383\u001b[0m               \u001b[0mcallbacks\u001b[0m\u001b[0;34m.\u001b[0m\u001b[0mon_train_batch_begin\u001b[0m\u001b[0;34m(\u001b[0m\u001b[0mstep\u001b[0m\u001b[0;34m)\u001b[0m\u001b[0;34m\u001b[0m\u001b[0m\n\u001b[0;32m-> 1384\u001b[0;31m               \u001b[0mtmp_logs\u001b[0m \u001b[0;34m=\u001b[0m \u001b[0mself\u001b[0m\u001b[0;34m.\u001b[0m\u001b[0mtrain_function\u001b[0m\u001b[0;34m(\u001b[0m\u001b[0miterator\u001b[0m\u001b[0;34m)\u001b[0m\u001b[0;34m\u001b[0m\u001b[0m\n\u001b[0m\u001b[1;32m   1385\u001b[0m               \u001b[0;32mif\u001b[0m \u001b[0mdata_handler\u001b[0m\u001b[0;34m.\u001b[0m\u001b[0mshould_sync\u001b[0m\u001b[0;34m:\u001b[0m\u001b[0;34m\u001b[0m\u001b[0m\n\u001b[1;32m   1386\u001b[0m                 \u001b[0mcontext\u001b[0m\u001b[0;34m.\u001b[0m\u001b[0masync_wait\u001b[0m\u001b[0;34m(\u001b[0m\u001b[0;34m)\u001b[0m\u001b[0;34m\u001b[0m\u001b[0m\n",
      "\u001b[0;32m/Library/Frameworks/Python.framework/Versions/3.7/lib/python3.7/site-packages/tensorflow/python/util/traceback_utils.py\u001b[0m in \u001b[0;36merror_handler\u001b[0;34m(*args, **kwargs)\u001b[0m\n\u001b[1;32m    148\u001b[0m     \u001b[0mfiltered_tb\u001b[0m \u001b[0;34m=\u001b[0m \u001b[0;32mNone\u001b[0m\u001b[0;34m\u001b[0m\u001b[0m\n\u001b[1;32m    149\u001b[0m     \u001b[0;32mtry\u001b[0m\u001b[0;34m:\u001b[0m\u001b[0;34m\u001b[0m\u001b[0m\n\u001b[0;32m--> 150\u001b[0;31m       \u001b[0;32mreturn\u001b[0m \u001b[0mfn\u001b[0m\u001b[0;34m(\u001b[0m\u001b[0;34m*\u001b[0m\u001b[0margs\u001b[0m\u001b[0;34m,\u001b[0m \u001b[0;34m**\u001b[0m\u001b[0mkwargs\u001b[0m\u001b[0;34m)\u001b[0m\u001b[0;34m\u001b[0m\u001b[0m\n\u001b[0m\u001b[1;32m    151\u001b[0m     \u001b[0;32mexcept\u001b[0m \u001b[0mException\u001b[0m \u001b[0;32mas\u001b[0m \u001b[0me\u001b[0m\u001b[0;34m:\u001b[0m\u001b[0;34m\u001b[0m\u001b[0m\n\u001b[1;32m    152\u001b[0m       \u001b[0mfiltered_tb\u001b[0m \u001b[0;34m=\u001b[0m \u001b[0m_process_traceback_frames\u001b[0m\u001b[0;34m(\u001b[0m\u001b[0me\u001b[0m\u001b[0;34m.\u001b[0m\u001b[0m__traceback__\u001b[0m\u001b[0;34m)\u001b[0m\u001b[0;34m\u001b[0m\u001b[0m\n",
      "\u001b[0;32m/Library/Frameworks/Python.framework/Versions/3.7/lib/python3.7/site-packages/tensorflow/python/eager/def_function.py\u001b[0m in \u001b[0;36m__call__\u001b[0;34m(self, *args, **kwds)\u001b[0m\n\u001b[1;32m    913\u001b[0m \u001b[0;34m\u001b[0m\u001b[0m\n\u001b[1;32m    914\u001b[0m       \u001b[0;32mwith\u001b[0m \u001b[0mOptionalXlaContext\u001b[0m\u001b[0;34m(\u001b[0m\u001b[0mself\u001b[0m\u001b[0;34m.\u001b[0m\u001b[0m_jit_compile\u001b[0m\u001b[0;34m)\u001b[0m\u001b[0;34m:\u001b[0m\u001b[0;34m\u001b[0m\u001b[0m\n\u001b[0;32m--> 915\u001b[0;31m         \u001b[0mresult\u001b[0m \u001b[0;34m=\u001b[0m \u001b[0mself\u001b[0m\u001b[0;34m.\u001b[0m\u001b[0m_call\u001b[0m\u001b[0;34m(\u001b[0m\u001b[0;34m*\u001b[0m\u001b[0margs\u001b[0m\u001b[0;34m,\u001b[0m \u001b[0;34m**\u001b[0m\u001b[0mkwds\u001b[0m\u001b[0;34m)\u001b[0m\u001b[0;34m\u001b[0m\u001b[0m\n\u001b[0m\u001b[1;32m    916\u001b[0m \u001b[0;34m\u001b[0m\u001b[0m\n\u001b[1;32m    917\u001b[0m       \u001b[0mnew_tracing_count\u001b[0m \u001b[0;34m=\u001b[0m \u001b[0mself\u001b[0m\u001b[0;34m.\u001b[0m\u001b[0mexperimental_get_tracing_count\u001b[0m\u001b[0;34m(\u001b[0m\u001b[0;34m)\u001b[0m\u001b[0;34m\u001b[0m\u001b[0m\n",
      "\u001b[0;32m/Library/Frameworks/Python.framework/Versions/3.7/lib/python3.7/site-packages/tensorflow/python/eager/def_function.py\u001b[0m in \u001b[0;36m_call\u001b[0;34m(self, *args, **kwds)\u001b[0m\n\u001b[1;32m    945\u001b[0m       \u001b[0;31m# In this case we have created variables on the first call, so we run the\u001b[0m\u001b[0;34m\u001b[0m\u001b[0;34m\u001b[0m\u001b[0m\n\u001b[1;32m    946\u001b[0m       \u001b[0;31m# defunned version which is guaranteed to never create variables.\u001b[0m\u001b[0;34m\u001b[0m\u001b[0;34m\u001b[0m\u001b[0m\n\u001b[0;32m--> 947\u001b[0;31m       \u001b[0;32mreturn\u001b[0m \u001b[0mself\u001b[0m\u001b[0;34m.\u001b[0m\u001b[0m_stateless_fn\u001b[0m\u001b[0;34m(\u001b[0m\u001b[0;34m*\u001b[0m\u001b[0margs\u001b[0m\u001b[0;34m,\u001b[0m \u001b[0;34m**\u001b[0m\u001b[0mkwds\u001b[0m\u001b[0;34m)\u001b[0m  \u001b[0;31m# pylint: disable=not-callable\u001b[0m\u001b[0;34m\u001b[0m\u001b[0m\n\u001b[0m\u001b[1;32m    948\u001b[0m     \u001b[0;32melif\u001b[0m \u001b[0mself\u001b[0m\u001b[0;34m.\u001b[0m\u001b[0m_stateful_fn\u001b[0m \u001b[0;32mis\u001b[0m \u001b[0;32mnot\u001b[0m \u001b[0;32mNone\u001b[0m\u001b[0;34m:\u001b[0m\u001b[0;34m\u001b[0m\u001b[0m\n\u001b[1;32m    949\u001b[0m       \u001b[0;31m# Release the lock early so that multiple threads can perform the call\u001b[0m\u001b[0;34m\u001b[0m\u001b[0;34m\u001b[0m\u001b[0m\n",
      "\u001b[0;32m/Library/Frameworks/Python.framework/Versions/3.7/lib/python3.7/site-packages/tensorflow/python/eager/function.py\u001b[0m in \u001b[0;36m__call__\u001b[0;34m(self, *args, **kwargs)\u001b[0m\n\u001b[1;32m   2955\u001b[0m        filtered_flat_args) = self._maybe_define_function(args, kwargs)\n\u001b[1;32m   2956\u001b[0m     return graph_function._call_flat(\n\u001b[0;32m-> 2957\u001b[0;31m         filtered_flat_args, captured_inputs=graph_function.captured_inputs)  # pylint: disable=protected-access\n\u001b[0m\u001b[1;32m   2958\u001b[0m \u001b[0;34m\u001b[0m\u001b[0m\n\u001b[1;32m   2959\u001b[0m   \u001b[0;34m@\u001b[0m\u001b[0mproperty\u001b[0m\u001b[0;34m\u001b[0m\u001b[0m\n",
      "\u001b[0;32m/Library/Frameworks/Python.framework/Versions/3.7/lib/python3.7/site-packages/tensorflow/python/eager/function.py\u001b[0m in \u001b[0;36m_call_flat\u001b[0;34m(self, args, captured_inputs, cancellation_manager)\u001b[0m\n\u001b[1;32m   1852\u001b[0m       \u001b[0;31m# No tape is watching; skip to running the function.\u001b[0m\u001b[0;34m\u001b[0m\u001b[0;34m\u001b[0m\u001b[0m\n\u001b[1;32m   1853\u001b[0m       return self._build_call_outputs(self._inference_function.call(\n\u001b[0;32m-> 1854\u001b[0;31m           ctx, args, cancellation_manager=cancellation_manager))\n\u001b[0m\u001b[1;32m   1855\u001b[0m     forward_backward = self._select_forward_and_backward_functions(\n\u001b[1;32m   1856\u001b[0m         \u001b[0margs\u001b[0m\u001b[0;34m,\u001b[0m\u001b[0;34m\u001b[0m\u001b[0m\n",
      "\u001b[0;32m/Library/Frameworks/Python.framework/Versions/3.7/lib/python3.7/site-packages/tensorflow/python/eager/function.py\u001b[0m in \u001b[0;36mcall\u001b[0;34m(self, ctx, args, cancellation_manager)\u001b[0m\n\u001b[1;32m    502\u001b[0m               \u001b[0minputs\u001b[0m\u001b[0;34m=\u001b[0m\u001b[0margs\u001b[0m\u001b[0;34m,\u001b[0m\u001b[0;34m\u001b[0m\u001b[0m\n\u001b[1;32m    503\u001b[0m               \u001b[0mattrs\u001b[0m\u001b[0;34m=\u001b[0m\u001b[0mattrs\u001b[0m\u001b[0;34m,\u001b[0m\u001b[0;34m\u001b[0m\u001b[0m\n\u001b[0;32m--> 504\u001b[0;31m               ctx=ctx)\n\u001b[0m\u001b[1;32m    505\u001b[0m         \u001b[0;32melse\u001b[0m\u001b[0;34m:\u001b[0m\u001b[0;34m\u001b[0m\u001b[0m\n\u001b[1;32m    506\u001b[0m           outputs = execute.execute_with_cancellation(\n",
      "\u001b[0;32m/Library/Frameworks/Python.framework/Versions/3.7/lib/python3.7/site-packages/tensorflow/python/eager/execute.py\u001b[0m in \u001b[0;36mquick_execute\u001b[0;34m(op_name, num_outputs, inputs, attrs, ctx, name)\u001b[0m\n\u001b[1;32m     53\u001b[0m     \u001b[0mctx\u001b[0m\u001b[0;34m.\u001b[0m\u001b[0mensure_initialized\u001b[0m\u001b[0;34m(\u001b[0m\u001b[0;34m)\u001b[0m\u001b[0;34m\u001b[0m\u001b[0m\n\u001b[1;32m     54\u001b[0m     tensors = pywrap_tfe.TFE_Py_Execute(ctx._handle, device_name, op_name,\n\u001b[0;32m---> 55\u001b[0;31m                                         inputs, attrs, num_outputs)\n\u001b[0m\u001b[1;32m     56\u001b[0m   \u001b[0;32mexcept\u001b[0m \u001b[0mcore\u001b[0m\u001b[0;34m.\u001b[0m\u001b[0m_NotOkStatusException\u001b[0m \u001b[0;32mas\u001b[0m \u001b[0me\u001b[0m\u001b[0;34m:\u001b[0m\u001b[0;34m\u001b[0m\u001b[0m\n\u001b[1;32m     57\u001b[0m     \u001b[0;32mif\u001b[0m \u001b[0mname\u001b[0m \u001b[0;32mis\u001b[0m \u001b[0;32mnot\u001b[0m \u001b[0;32mNone\u001b[0m\u001b[0;34m:\u001b[0m\u001b[0;34m\u001b[0m\u001b[0m\n",
      "\u001b[0;31mKeyboardInterrupt\u001b[0m: "
     ]
    }
   ],
   "source": [
    "#Validation set needs to be in a tuple with x , y\n",
    "history = model.fit(eth_train[0] , eth_train[1] , validation_data = eth_val  , batch_size = 512  , epochs =300 , verbose = 1 , callbacks = [earlyStopping] )\n",
    "num_epochs = earlyStopping.stopped_epoch\n"
   ]
  },
  {
   "cell_type": "code",
   "execution_count": 16,
   "id": "429869ae",
   "metadata": {},
   "outputs": [
    {
     "data": {
      "image/png": "[encoded data removed]",
      "text/plain": [
       "<Figure size 432x288 with 1 Axes>"
      ]
     },
     "metadata": {
      "needs_background": "light"
     },
     "output_type": "display_data"
    }
   ],
   "source": [
    "plt.plot(history.history['loss'])\n",
    "plt.plot(history.history['val_loss'])\n",
    "plt.title('model loss')\n",
    "plt.ylabel('loss')\n",
    "plt.xlabel('epoch')\n",
    "plt.legend(['train', 'val'], loc='upper left')\n",
    "plt.ylim([0,0.02])\n",
    "plt.show()"
   ]
  },
  {
   "cell_type": "markdown",
   "id": "562b1eed",
   "metadata": {},
   "source": [
    "<Strong> Testing on the validation data once again , hyper-parameter adjustment. <Strong>"
   ]
  },
  {
   "cell_type": "code",
   "execution_count": 17,
   "id": "4efa5083",
   "metadata": {},
   "outputs": [
    {
     "data": {
      "text/plain": [
       "56.87838546599425"
      ]
     },
     "execution_count": 17,
     "metadata": {},
     "output_type": "execute_result"
    }
   ],
   "source": [
    "validation_predict = model.predict(eth_val[0])\n",
    "validation_predict = scaler.inverse_transform(validation_predict)\n",
    "\n",
    "validation_actual = scaler.inverse_transform(eth_val[1])\n",
    "math.sqrt(mean_squared_error(validation_actual , validation_predict))"
   ]
  },
  {
   "cell_type": "markdown",
   "id": "04397524",
   "metadata": {},
   "source": [
    "<Strong> Combining the train and validation set when perfected hyper-parameters and training on fresh model. </Strong>"
   ]
  },
  {
   "cell_type": "code",
   "execution_count": 18,
   "id": "a6d4669e",
   "metadata": {},
   "outputs": [
    {
     "name": "stdout",
     "output_type": "stream",
     "text": [
      "Epoch 1/173\n",
      "69/69 [==============================] - 4s 8ms/step - loss: 3.0992e-04\n",
      "Epoch 2/173\n",
      "69/69 [==============================] - 0s 7ms/step - loss: 1.5651e-04\n",
      "Epoch 3/173\n",
      "69/69 [==============================] - 0s 7ms/step - loss: 1.6212e-04\n",
      "Epoch 4/173\n",
      "69/69 [==============================] - 0s 7ms/step - loss: 1.7087e-04\n",
      "Epoch 5/173\n",
      "69/69 [==============================] - 0s 7ms/step - loss: 1.5618e-04\n",
      "Epoch 6/173\n",
      "69/69 [==============================] - 0s 7ms/step - loss: 1.5204e-04\n",
      "Epoch 7/173\n",
      "69/69 [==============================] - 0s 7ms/step - loss: 1.5821e-04\n",
      "Epoch 8/173\n",
      "69/69 [==============================] - 0s 7ms/step - loss: 1.4816e-04\n",
      "Epoch 9/173\n",
      "69/69 [==============================] - 0s 7ms/step - loss: 1.6338e-04\n",
      "Epoch 10/173\n",
      "69/69 [==============================] - 0s 7ms/step - loss: 1.5366e-04\n",
      "Epoch 11/173\n",
      "69/69 [==============================] - 0s 7ms/step - loss: 1.6077e-04\n",
      "Epoch 12/173\n",
      "69/69 [==============================] - 0s 7ms/step - loss: 1.4553e-04\n",
      "Epoch 13/173\n",
      "69/69 [==============================] - 0s 7ms/step - loss: 1.4822e-04\n",
      "Epoch 14/173\n",
      "69/69 [==============================] - 0s 7ms/step - loss: 1.5220e-04\n",
      "Epoch 15/173\n",
      "69/69 [==============================] - 0s 7ms/step - loss: 1.7674e-04\n",
      "Epoch 16/173\n",
      "69/69 [==============================] - 0s 7ms/step - loss: 1.4181e-04\n",
      "Epoch 17/173\n",
      "69/69 [==============================] - 0s 7ms/step - loss: 1.3821e-04\n",
      "Epoch 18/173\n",
      "69/69 [==============================] - 0s 7ms/step - loss: 1.9555e-04\n",
      "Epoch 19/173\n",
      "69/69 [==============================] - 0s 7ms/step - loss: 1.5035e-04\n",
      "Epoch 20/173\n",
      "69/69 [==============================] - 0s 7ms/step - loss: 1.6216e-04\n",
      "Epoch 21/173\n",
      "69/69 [==============================] - 0s 7ms/step - loss: 1.5063e-04\n",
      "Epoch 22/173\n",
      "69/69 [==============================] - 0s 7ms/step - loss: 1.7276e-04\n",
      "Epoch 23/173\n",
      "69/69 [==============================] - 0s 7ms/step - loss: 1.5111e-04\n",
      "Epoch 24/173\n",
      "69/69 [==============================] - 0s 7ms/step - loss: 1.4207e-04\n",
      "Epoch 25/173\n",
      "69/69 [==============================] - 0s 7ms/step - loss: 1.6248e-04\n",
      "Epoch 26/173\n",
      "69/69 [==============================] - 0s 7ms/step - loss: 1.3741e-04\n",
      "Epoch 27/173\n",
      "69/69 [==============================] - 0s 7ms/step - loss: 1.4331e-04\n",
      "Epoch 28/173\n",
      "69/69 [==============================] - 0s 7ms/step - loss: 1.4151e-04\n",
      "Epoch 29/173\n",
      "69/69 [==============================] - 0s 7ms/step - loss: 1.4772e-04\n",
      "Epoch 30/173\n",
      "69/69 [==============================] - 0s 7ms/step - loss: 1.5875e-04\n",
      "Epoch 31/173\n",
      "69/69 [==============================] - 0s 7ms/step - loss: 1.4402e-04\n",
      "Epoch 32/173\n",
      "69/69 [==============================] - 0s 7ms/step - loss: 1.5157e-04\n",
      "Epoch 33/173\n",
      "69/69 [==============================] - 0s 7ms/step - loss: 1.5264e-04\n",
      "Epoch 34/173\n",
      "69/69 [==============================] - 0s 7ms/step - loss: 1.6831e-04\n",
      "Epoch 35/173\n",
      "69/69 [==============================] - 0s 7ms/step - loss: 1.5125e-04\n",
      "Epoch 36/173\n",
      "69/69 [==============================] - 0s 7ms/step - loss: 1.5292e-04\n",
      "Epoch 37/173\n",
      "69/69 [==============================] - 0s 7ms/step - loss: 1.4999e-04\n",
      "Epoch 38/173\n",
      "69/69 [==============================] - 0s 7ms/step - loss: 1.4381e-04\n",
      "Epoch 39/173\n",
      "69/69 [==============================] - 0s 7ms/step - loss: 1.4927e-04\n",
      "Epoch 40/173\n",
      "69/69 [==============================] - 0s 7ms/step - loss: 1.3650e-04\n",
      "Epoch 41/173\n",
      "69/69 [==============================] - 0s 7ms/step - loss: 1.3118e-04\n",
      "Epoch 42/173\n",
      "69/69 [==============================] - 0s 7ms/step - loss: 1.3024e-04\n",
      "Epoch 43/173\n",
      "69/69 [==============================] - 0s 7ms/step - loss: 1.3853e-04\n",
      "Epoch 44/173\n",
      "69/69 [==============================] - 0s 7ms/step - loss: 1.3753e-04\n",
      "Epoch 45/173\n",
      "69/69 [==============================] - 0s 7ms/step - loss: 1.3714e-04\n",
      "Epoch 46/173\n",
      "69/69 [==============================] - 0s 7ms/step - loss: 1.2731e-04\n",
      "Epoch 47/173\n",
      "69/69 [==============================] - 0s 7ms/step - loss: 1.4046e-04\n",
      "Epoch 48/173\n",
      "69/69 [==============================] - 0s 7ms/step - loss: 1.3429e-04\n",
      "Epoch 49/173\n",
      "69/69 [==============================] - 0s 7ms/step - loss: 1.5526e-04\n",
      "Epoch 50/173\n",
      "69/69 [==============================] - 0s 7ms/step - loss: 1.5534e-04\n",
      "Epoch 51/173\n",
      "69/69 [==============================] - 0s 7ms/step - loss: 1.5215e-04\n",
      "Epoch 52/173\n",
      "69/69 [==============================] - 0s 7ms/step - loss: 1.2937e-04\n",
      "Epoch 53/173\n",
      "69/69 [==============================] - 0s 7ms/step - loss: 1.3094e-04\n",
      "Epoch 54/173\n",
      "69/69 [==============================] - 0s 7ms/step - loss: 1.4465e-04\n",
      "Epoch 55/173\n",
      "69/69 [==============================] - 0s 7ms/step - loss: 1.3373e-04\n",
      "Epoch 56/173\n",
      "69/69 [==============================] - 0s 7ms/step - loss: 1.4708e-04\n",
      "Epoch 57/173\n",
      "69/69 [==============================] - 0s 7ms/step - loss: 1.3726e-04\n",
      "Epoch 58/173\n",
      "69/69 [==============================] - 0s 7ms/step - loss: 1.3815e-04\n",
      "Epoch 59/173\n",
      "69/69 [==============================] - 0s 7ms/step - loss: 1.3941e-04\n",
      "Epoch 60/173\n",
      "69/69 [==============================] - 0s 7ms/step - loss: 1.3583e-04\n",
      "Epoch 61/173\n",
      "69/69 [==============================] - 0s 7ms/step - loss: 1.2491e-04\n",
      "Epoch 62/173\n",
      "69/69 [==============================] - 0s 7ms/step - loss: 1.3962e-04\n",
      "Epoch 63/173\n",
      "69/69 [==============================] - 0s 7ms/step - loss: 1.5265e-04\n",
      "Epoch 64/173\n",
      "69/69 [==============================] - 0s 7ms/step - loss: 1.3048e-04\n",
      "Epoch 65/173\n",
      "69/69 [==============================] - 1s 7ms/step - loss: 1.4218e-04\n",
      "Epoch 66/173\n",
      "69/69 [==============================] - 0s 7ms/step - loss: 1.4284e-04\n",
      "Epoch 67/173\n",
      "69/69 [==============================] - 0s 7ms/step - loss: 1.4799e-04\n",
      "Epoch 68/173\n",
      "69/69 [==============================] - 0s 7ms/step - loss: 1.4035e-04\n",
      "Epoch 69/173\n",
      "69/69 [==============================] - 0s 7ms/step - loss: 1.2661e-04\n",
      "Epoch 70/173\n",
      "69/69 [==============================] - 0s 7ms/step - loss: 1.2196e-04\n",
      "Epoch 71/173\n",
      "69/69 [==============================] - 0s 7ms/step - loss: 1.3284e-04\n",
      "Epoch 72/173\n",
      "69/69 [==============================] - 0s 7ms/step - loss: 1.2291e-04\n",
      "Epoch 73/173\n",
      "69/69 [==============================] - 0s 7ms/step - loss: 1.3114e-04\n",
      "Epoch 74/173\n",
      "69/69 [==============================] - 0s 7ms/step - loss: 1.3542e-04\n",
      "Epoch 75/173\n",
      "69/69 [==============================] - 1s 8ms/step - loss: 1.2333e-04\n",
      "Epoch 76/173\n",
      "69/69 [==============================] - 1s 12ms/step - loss: 1.3062e-04\n",
      "Epoch 77/173\n",
      "69/69 [==============================] - 0s 7ms/step - loss: 1.3435e-04\n",
      "Epoch 78/173\n",
      "69/69 [==============================] - 0s 7ms/step - loss: 1.3572e-04\n",
      "Epoch 79/173\n",
      "69/69 [==============================] - 0s 7ms/step - loss: 1.3246e-04\n",
      "Epoch 80/173\n",
      "69/69 [==============================] - 0s 7ms/step - loss: 1.2812e-04\n",
      "Epoch 81/173\n",
      "69/69 [==============================] - 0s 7ms/step - loss: 1.2830e-04\n",
      "Epoch 82/173\n",
      "69/69 [==============================] - 0s 7ms/step - loss: 1.4356e-04\n",
      "Epoch 83/173\n",
      "69/69 [==============================] - 0s 7ms/step - loss: 1.3019e-04\n",
      "Epoch 84/173\n",
      "69/69 [==============================] - 0s 7ms/step - loss: 1.3410e-04\n",
      "Epoch 85/173\n",
      "69/69 [==============================] - 0s 7ms/step - loss: 1.3129e-04\n",
      "Epoch 86/173\n",
      "69/69 [==============================] - 0s 7ms/step - loss: 1.3056e-04\n",
      "Epoch 87/173\n",
      "69/69 [==============================] - 0s 7ms/step - loss: 1.3035e-04\n",
      "Epoch 88/173\n",
      "69/69 [==============================] - 0s 7ms/step - loss: 1.2537e-04\n",
      "Epoch 89/173\n",
      "69/69 [==============================] - 0s 7ms/step - loss: 1.3098e-04\n",
      "Epoch 90/173\n",
      "69/69 [==============================] - 0s 7ms/step - loss: 1.2450e-04\n",
      "Epoch 91/173\n",
      "69/69 [==============================] - 0s 7ms/step - loss: 1.2712e-04\n",
      "Epoch 92/173\n",
      "69/69 [==============================] - 0s 7ms/step - loss: 1.2465e-04\n",
      "Epoch 93/173\n",
      "69/69 [==============================] - 0s 7ms/step - loss: 1.3190e-04\n",
      "Epoch 94/173\n",
      "69/69 [==============================] - 0s 7ms/step - loss: 1.3410e-04\n",
      "Epoch 95/173\n",
      "69/69 [==============================] - 0s 7ms/step - loss: 1.5914e-04\n",
      "Epoch 96/173\n",
      "69/69 [==============================] - 0s 7ms/step - loss: 1.3546e-04\n",
      "Epoch 97/173\n",
      "69/69 [==============================] - 0s 7ms/step - loss: 1.4060e-04\n",
      "Epoch 98/173\n",
      "69/69 [==============================] - 0s 7ms/step - loss: 1.2068e-04\n",
      "Epoch 99/173\n",
      "69/69 [==============================] - 0s 7ms/step - loss: 1.2604e-04\n",
      "Epoch 100/173\n",
      "69/69 [==============================] - 0s 7ms/step - loss: 1.2648e-04\n",
      "Epoch 101/173\n",
      "69/69 [==============================] - 0s 7ms/step - loss: 1.2941e-04\n",
      "Epoch 102/173\n",
      "69/69 [==============================] - 0s 7ms/step - loss: 1.3428e-04\n",
      "Epoch 103/173\n",
      "69/69 [==============================] - 0s 7ms/step - loss: 1.5235e-04\n",
      "Epoch 104/173\n",
      "69/69 [==============================] - 0s 7ms/step - loss: 1.2241e-04\n",
      "Epoch 105/173\n",
      "69/69 [==============================] - 0s 7ms/step - loss: 1.2545e-04\n",
      "Epoch 106/173\n",
      "69/69 [==============================] - 0s 7ms/step - loss: 1.2987e-04\n",
      "Epoch 107/173\n",
      "69/69 [==============================] - 0s 7ms/step - loss: 1.3786e-04\n",
      "Epoch 108/173\n",
      "69/69 [==============================] - 0s 7ms/step - loss: 1.3519e-04\n",
      "Epoch 109/173\n",
      "69/69 [==============================] - 0s 7ms/step - loss: 1.3703e-04\n",
      "Epoch 110/173\n",
      "69/69 [==============================] - 0s 7ms/step - loss: 1.1734e-04\n",
      "Epoch 111/173\n",
      "69/69 [==============================] - 0s 7ms/step - loss: 1.3525e-04\n",
      "Epoch 112/173\n",
      "69/69 [==============================] - 0s 7ms/step - loss: 1.3213e-04\n",
      "Epoch 113/173\n",
      "69/69 [==============================] - 0s 7ms/step - loss: 1.2018e-04\n",
      "Epoch 114/173\n",
      "69/69 [==============================] - 0s 7ms/step - loss: 1.2315e-04\n",
      "Epoch 115/173\n",
      "69/69 [==============================] - 0s 7ms/step - loss: 1.6489e-04\n",
      "Epoch 116/173\n",
      "69/69 [==============================] - 0s 7ms/step - loss: 1.2097e-04\n",
      "Epoch 117/173\n",
      "69/69 [==============================] - 0s 7ms/step - loss: 1.2711e-04\n",
      "Epoch 118/173\n",
      "69/69 [==============================] - 0s 7ms/step - loss: 1.2692e-04\n",
      "Epoch 119/173\n",
      "69/69 [==============================] - 0s 7ms/step - loss: 1.2956e-04\n",
      "Epoch 120/173\n",
      "69/69 [==============================] - 0s 7ms/step - loss: 1.3777e-04\n",
      "Epoch 121/173\n",
      "69/69 [==============================] - 0s 7ms/step - loss: 1.1985e-04\n",
      "Epoch 122/173\n",
      "69/69 [==============================] - 0s 7ms/step - loss: 1.2114e-04\n",
      "Epoch 123/173\n",
      "69/69 [==============================] - 0s 7ms/step - loss: 1.2189e-04\n",
      "Epoch 124/173\n",
      "69/69 [==============================] - 0s 7ms/step - loss: 1.2609e-04\n",
      "Epoch 125/173\n",
      "69/69 [==============================] - 0s 7ms/step - loss: 1.2377e-04\n",
      "Epoch 126/173\n",
      "69/69 [==============================] - 0s 7ms/step - loss: 1.2288e-04\n",
      "Epoch 127/173\n",
      "69/69 [==============================] - 0s 7ms/step - loss: 1.3499e-04\n",
      "Epoch 128/173\n",
      "69/69 [==============================] - 0s 7ms/step - loss: 1.2707e-04\n",
      "Epoch 129/173\n",
      "69/69 [==============================] - 0s 7ms/step - loss: 1.1564e-04\n",
      "Epoch 130/173\n",
      "69/69 [==============================] - 0s 7ms/step - loss: 1.2440e-04\n",
      "Epoch 131/173\n",
      "69/69 [==============================] - 0s 7ms/step - loss: 1.1712e-04\n",
      "Epoch 132/173\n",
      "69/69 [==============================] - 0s 7ms/step - loss: 1.2748e-04\n",
      "Epoch 133/173\n",
      "69/69 [==============================] - 0s 7ms/step - loss: 1.2508e-04\n",
      "Epoch 134/173\n",
      "69/69 [==============================] - 0s 7ms/step - loss: 1.3208e-04\n",
      "Epoch 135/173\n",
      "69/69 [==============================] - 0s 7ms/step - loss: 1.3740e-04\n",
      "Epoch 136/173\n",
      "69/69 [==============================] - 0s 7ms/step - loss: 1.2357e-04\n",
      "Epoch 137/173\n",
      "69/69 [==============================] - 0s 7ms/step - loss: 1.1503e-04\n",
      "Epoch 138/173\n",
      "69/69 [==============================] - 0s 7ms/step - loss: 1.3103e-04\n",
      "Epoch 139/173\n",
      "69/69 [==============================] - 0s 7ms/step - loss: 1.1932e-04\n",
      "Epoch 140/173\n",
      "69/69 [==============================] - 0s 7ms/step - loss: 1.2237e-04\n",
      "Epoch 141/173\n",
      "69/69 [==============================] - 0s 7ms/step - loss: 1.3574e-04\n",
      "Epoch 142/173\n",
      "69/69 [==============================] - 0s 7ms/step - loss: 1.3239e-04\n",
      "Epoch 143/173\n",
      "69/69 [==============================] - 0s 7ms/step - loss: 1.2602e-04\n",
      "Epoch 144/173\n",
      "69/69 [==============================] - 0s 7ms/step - loss: 1.1653e-04\n",
      "Epoch 145/173\n",
      "69/69 [==============================] - 0s 7ms/step - loss: 1.1784e-04\n",
      "Epoch 146/173\n",
      "69/69 [==============================] - 0s 7ms/step - loss: 1.2848e-04\n",
      "Epoch 147/173\n",
      "69/69 [==============================] - 0s 7ms/step - loss: 1.4605e-04\n",
      "Epoch 148/173\n",
      "69/69 [==============================] - 0s 7ms/step - loss: 1.3009e-04\n",
      "Epoch 149/173\n",
      "69/69 [==============================] - 0s 7ms/step - loss: 1.1652e-04\n",
      "Epoch 150/173\n",
      "69/69 [==============================] - 0s 7ms/step - loss: 1.3530e-04\n",
      "Epoch 151/173\n",
      "69/69 [==============================] - 0s 7ms/step - loss: 1.2687e-04\n",
      "Epoch 152/173\n",
      "69/69 [==============================] - 0s 7ms/step - loss: 1.3202e-04\n",
      "Epoch 153/173\n",
      "69/69 [==============================] - 0s 7ms/step - loss: 1.3217e-04\n",
      "Epoch 154/173\n",
      "69/69 [==============================] - 0s 7ms/step - loss: 1.1851e-04\n",
      "Epoch 155/173\n",
      "69/69 [==============================] - 0s 7ms/step - loss: 1.3515e-04\n",
      "Epoch 156/173\n",
      "69/69 [==============================] - 0s 7ms/step - loss: 1.2217e-04\n",
      "Epoch 157/173\n",
      "69/69 [==============================] - 0s 7ms/step - loss: 1.1915e-04\n",
      "Epoch 158/173\n",
      "69/69 [==============================] - 0s 7ms/step - loss: 1.2928e-04\n",
      "Epoch 159/173\n",
      "69/69 [==============================] - 0s 7ms/step - loss: 1.1687e-04\n",
      "Epoch 160/173\n",
      "69/69 [==============================] - 0s 7ms/step - loss: 1.2497e-04\n",
      "Epoch 161/173\n",
      "69/69 [==============================] - 0s 7ms/step - loss: 1.4887e-04\n",
      "Epoch 162/173\n",
      "69/69 [==============================] - 0s 7ms/step - loss: 1.1271e-04\n",
      "Epoch 163/173\n",
      "69/69 [==============================] - 0s 7ms/step - loss: 1.1803e-04\n",
      "Epoch 164/173\n",
      "69/69 [==============================] - 0s 7ms/step - loss: 1.2929e-04\n",
      "Epoch 165/173\n",
      "69/69 [==============================] - 0s 7ms/step - loss: 1.1944e-04\n",
      "Epoch 166/173\n",
      "69/69 [==============================] - 0s 7ms/step - loss: 1.1855e-04\n",
      "Epoch 167/173\n",
      "69/69 [==============================] - 0s 7ms/step - loss: 1.2536e-04\n",
      "Epoch 168/173\n",
      "69/69 [==============================] - 0s 7ms/step - loss: 1.1833e-04\n",
      "Epoch 169/173\n",
      "69/69 [==============================] - 0s 7ms/step - loss: 1.1824e-04\n",
      "Epoch 170/173\n",
      "69/69 [==============================] - 0s 7ms/step - loss: 1.2875e-04\n",
      "Epoch 171/173\n",
      "69/69 [==============================] - 0s 7ms/step - loss: 1.4575e-04\n",
      "Epoch 172/173\n",
      "69/69 [==============================] - 0s 7ms/step - loss: 1.1967e-04\n",
      "Epoch 173/173\n",
      "69/69 [==============================] - 0s 7ms/step - loss: 1.2639e-04\n"
     ]
    }
   ],
   "source": [
    "train_and_val = np.concatenate([eth_train[0] , eth_val[0]] )\n",
    "train_and_val_targets = np.concatenate([eth_train[1] , eth_val[1] ])\n",
    "\n",
    "freshModel = tf.keras.Model(inputs=inputs, outputs= final)\n",
    "freshModel.compile(optimizer='adam' , loss = 'mse')\n",
    "\n",
    "final = freshModel.fit(train_and_val , train_and_val_targets , batch_size = 512  , epochs = num_epochs , verbose = 1 )"
   ]
  },
  {
   "cell_type": "markdown",
   "id": "8d8f5321",
   "metadata": {},
   "source": [
    "<Strong> Finally testing on test set and grabbing evaluation metrics </Strong>"
   ]
  },
  {
   "cell_type": "code",
   "execution_count": 19,
   "id": "ac71a0cd",
   "metadata": {},
   "outputs": [],
   "source": [
    "test_predict = freshModel.predict(eth_test[0])\n",
    "test_predict = scaler.inverse_transform(test_predict)\n",
    "test_actual = scaler.inverse_transform(eth_test[1])"
   ]
  },
  {
   "cell_type": "code",
   "execution_count": 20,
   "id": "1f959fd2",
   "metadata": {},
   "outputs": [
    {
     "name": "stdout",
     "output_type": "stream",
     "text": [
      "6.862579127527321\n",
      "0.11235363078672028\n",
      "7.450655145008023\n",
      "55.512262089834515\n"
     ]
    }
   ],
   "source": [
    "print(math.sqrt(mean_absolute_error(test_actual , test_predict)))\n",
    "print(math.sqrt(mean_absolute_percentage_error(test_actual , test_predict)))\n",
    "print(math.sqrt(mean_squared_error(test_actual , test_predict , squared = False)))\n",
    "print(math.sqrt(mean_squared_error(test_actual , test_predict)))"
   ]
  },
  {
   "cell_type": "markdown",
   "id": "518ca691",
   "metadata": {},
   "source": [
    "<Strong> For Predicting more than 1 day in the future - Test Set. </Strong>"
   ]
  },
  {
   "cell_type": "code",
   "execution_count": 21,
   "id": "96f06ef5",
   "metadata": {},
   "outputs": [],
   "source": [
    "def steps_in_future(hours_in_future , data):\n",
    "    \n",
    "    #All the hours_in_future time predictions\n",
    "    predictions = []\n",
    "    \n",
    "    # Have to cut off the (hours_in_future - 1) off the test set to avoid out of bounds error\n",
    "    test_data = data[0][:-(hours_in_future - 1)]\n",
    "    \n",
    "    for x in range (len(test_data)):\n",
    "        #Going through all the windows\n",
    "        last_window = test_data[x].reshape(1,-1)\n",
    "    \n",
    "            # Make as many predictions as hours_in_future\n",
    "        for i in range(hours_in_future):\n",
    "            \n",
    "            # Take the predicted value from the last window in training set\n",
    "            last_prediction = model.predict(last_window)[0]\n",
    "\n",
    "            #shifting the window size one step down\n",
    "            last_window[0] = np.roll(last_window[0], -1)\n",
    "\n",
    "            #replacing the old value with new prediction\n",
    "            last_window[0 , (len(last_window[0]) - 1)] = last_prediction\n",
    "\n",
    "        #append prediction\n",
    "        predictions.append(last_prediction)\n",
    "    \n",
    "    return predictions"
   ]
  },
  {
   "cell_type": "code",
   "execution_count": 22,
   "id": "369753c7",
   "metadata": {},
   "outputs": [],
   "source": [
    "three_day_predictions = steps_in_future(3, eth_test)\n",
    "seven_day_predictions = steps_in_future( 7, eth_test)"
   ]
  },
  {
   "cell_type": "code",
   "execution_count": 23,
   "id": "f446fddc",
   "metadata": {},
   "outputs": [],
   "source": [
    "scaled_three_day_predictions = scaler.inverse_transform(three_day_predictions)\n",
    "scaled_seven_day_predictions = scaler.inverse_transform(seven_day_predictions)"
   ]
  },
  {
   "cell_type": "code",
   "execution_count": 25,
   "id": "161a0f93",
   "metadata": {},
   "outputs": [],
   "source": [
    "# Targets to compare  \n",
    "targets_in_future_three = eth_test[1][(3 - 1):]\n",
    "targets_in_future_three = scaler.inverse_transform(targets_in_future_three)\n",
    "\n",
    "targets_in_future_seven = eth_test[1][(7 - 1):]\n",
    "targets_in_future_seven = scaler.inverse_transform(targets_in_future_seven)"
   ]
  },
  {
   "cell_type": "code",
   "execution_count": 28,
   "id": "a2d58c61",
   "metadata": {},
   "outputs": [
    {
     "name": "stdout",
     "output_type": "stream",
     "text": [
      "10.966559132813941\n",
      "133.87429421036944\n",
      "11.570405965668163\n",
      "0.17923261223487785\n"
     ]
    }
   ],
   "source": [
    "print(math.sqrt(mean_absolute_error(targets_in_future_three , scaled_three_day_predictions)))\n",
    "#print(math.sqrt(mean_absolute_error(targets_in_future_seven , scaled_seven_day_predictions)))\n",
    "\n",
    "print(math.sqrt(mean_squared_error(targets_in_future_three , scaled_three_day_predictions )))\n",
    "#print(math.sqrt(mean_squared_error(targets_in_future_seven , scaled_seven_day_predictions )))\n",
    "\n",
    "print(math.sqrt(mean_squared_error(targets_in_future_three , scaled_three_day_predictions , squared = False)))\n",
    "#print(math.sqrt(mean_squared_error(targets_in_future_seven , scaled_seven_day_predictions , squared = False)))\n",
    "\n",
    "print(math.sqrt(mean_absolute_percentage_error(targets_in_future_three , scaled_three_day_predictions)))\n",
    "#print(math.sqrt(mean_absolute_percentage_error(targets_in_future_seven , scaled_seven_day_predictions)))"
   ]
  },
  {
   "cell_type": "code",
   "execution_count": null,
   "id": "b1478380",
   "metadata": {},
   "outputs": [],
   "source": []
  }
 ],
 "metadata": {
  "kernelspec": {
   "display_name": "Python 3 (ipykernel)",
   "language": "python",
   "name": "python3"
  },
  "language_info": {
   "codemirror_mode": {
    "name": "ipython",
    "version": 3
   },
   "file_extension": ".py",
   "mimetype": "text/x-python",
   "name": "python",
   "nbconvert_exporter": "python",
   "pygments_lexer": "ipython3",
   "version": "3.7.0"
  }
 },
 "nbformat": 4,
 "nbformat_minor": 5
}
