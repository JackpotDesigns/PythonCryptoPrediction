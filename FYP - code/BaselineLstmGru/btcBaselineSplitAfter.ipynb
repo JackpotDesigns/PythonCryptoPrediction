{
 "cells": [
  {
   "cell_type": "code",
   "execution_count": 2,
   "id": "56f0a547",
   "metadata": {},
   "outputs": [],
   "source": [
    "import pandas as pd\n",
    "import numpy as np\n",
    "import tensorflow as tf\n",
    "from tensorflow.keras.utils import plot_model\n",
    "from matplotlib import pyplot as plt\n",
    "from tensorflow.keras.models import Sequential \n",
    "from tensorflow.keras import layers\n",
    "from tensorflow.keras.optimizers import RMSprop\n",
    "import os\n",
    "from sklearn.preprocessing import MinMaxScaler\n",
    "from sklearn.metrics import mean_squared_error , mean_absolute_error , mean_absolute_percentage_error\n",
    "from tensorflow.keras.preprocessing.sequence import TimeseriesGenerator\n",
    "from tensorflow.keras.layers import LSTM , Dense , Dropout , GRU , Concatenate , Input , Conv1D , InputLayer\n",
    "from tensorflow.keras import models\n",
    "from tensorflow.keras.callbacks import EarlyStopping\n",
    "import math"
   ]
  },
  {
   "cell_type": "markdown",
   "id": "947652df",
   "metadata": {},
   "source": [
    "<Strong> Grabbing the data from stored files (originally pulled from Binance) </Strong>"
   ]
  },
  {
   "cell_type": "code",
   "execution_count": 3,
   "id": "1fe63049",
   "metadata": {},
   "outputs": [],
   "source": [
    "df_btc = pd.read_csv(\"BTC_1h_data.csv\")"
   ]
  },
  {
   "cell_type": "code",
   "execution_count": 4,
   "id": "63c93ce3",
   "metadata": {},
   "outputs": [
    {
     "data": {
      "text/html": [
       "<div>\n",
       "<style scoped>\n",
       "    .dataframe tbody tr th:only-of-type {\n",
       "        vertical-align: middle;\n",
       "    }\n",
       "\n",
       "    .dataframe tbody tr th {\n",
       "        vertical-align: top;\n",
       "    }\n",
       "\n",
       "    .dataframe thead th {\n",
       "        text-align: right;\n",
       "    }\n",
       "</style>\n",
       "<table border=\"1\" class=\"dataframe\">\n",
       "  <thead>\n",
       "    <tr style=\"text-align: right;\">\n",
       "      <th></th>\n",
       "      <th>date</th>\n",
       "      <th>open</th>\n",
       "      <th>high</th>\n",
       "      <th>low</th>\n",
       "      <th>close</th>\n",
       "      <th>volume</th>\n",
       "    </tr>\n",
       "  </thead>\n",
       "  <tbody>\n",
       "    <tr>\n",
       "      <th>0</th>\n",
       "      <td>2017-08-17 04:00:00.000</td>\n",
       "      <td>4261.48</td>\n",
       "      <td>4313.62</td>\n",
       "      <td>4261.32</td>\n",
       "      <td>4308.83</td>\n",
       "      <td>47.181009</td>\n",
       "    </tr>\n",
       "    <tr>\n",
       "      <th>1</th>\n",
       "      <td>2017-08-17 05:00:00.000</td>\n",
       "      <td>4308.83</td>\n",
       "      <td>4328.69</td>\n",
       "      <td>4291.37</td>\n",
       "      <td>4315.32</td>\n",
       "      <td>23.234916</td>\n",
       "    </tr>\n",
       "    <tr>\n",
       "      <th>2</th>\n",
       "      <td>2017-08-17 06:00:00.000</td>\n",
       "      <td>4330.29</td>\n",
       "      <td>4345.45</td>\n",
       "      <td>4309.37</td>\n",
       "      <td>4324.35</td>\n",
       "      <td>7.229691</td>\n",
       "    </tr>\n",
       "    <tr>\n",
       "      <th>3</th>\n",
       "      <td>2017-08-17 07:00:00.000</td>\n",
       "      <td>4316.62</td>\n",
       "      <td>4349.99</td>\n",
       "      <td>4287.41</td>\n",
       "      <td>4349.99</td>\n",
       "      <td>4.443249</td>\n",
       "    </tr>\n",
       "    <tr>\n",
       "      <th>4</th>\n",
       "      <td>2017-08-17 08:00:00.000</td>\n",
       "      <td>4333.32</td>\n",
       "      <td>4377.85</td>\n",
       "      <td>4333.32</td>\n",
       "      <td>4360.69</td>\n",
       "      <td>0.972807</td>\n",
       "    </tr>\n",
       "    <tr>\n",
       "      <th>...</th>\n",
       "      <td>...</td>\n",
       "      <td>...</td>\n",
       "      <td>...</td>\n",
       "      <td>...</td>\n",
       "      <td>...</td>\n",
       "      <td>...</td>\n",
       "    </tr>\n",
       "    <tr>\n",
       "      <th>39216</th>\n",
       "      <td>2022-02-11 10:00:00</td>\n",
       "      <td>43492.63</td>\n",
       "      <td>43569.67</td>\n",
       "      <td>43233.67</td>\n",
       "      <td>43443.77</td>\n",
       "      <td>1305.626920</td>\n",
       "    </tr>\n",
       "    <tr>\n",
       "      <th>39217</th>\n",
       "      <td>2022-02-11 11:00:00</td>\n",
       "      <td>43443.78</td>\n",
       "      <td>43523.42</td>\n",
       "      <td>43320.00</td>\n",
       "      <td>43357.53</td>\n",
       "      <td>744.524180</td>\n",
       "    </tr>\n",
       "    <tr>\n",
       "      <th>39218</th>\n",
       "      <td>2022-02-11 12:00:00</td>\n",
       "      <td>43357.53</td>\n",
       "      <td>43700.78</td>\n",
       "      <td>43253.31</td>\n",
       "      <td>43570.77</td>\n",
       "      <td>1317.546940</td>\n",
       "    </tr>\n",
       "    <tr>\n",
       "      <th>39219</th>\n",
       "      <td>2022-02-11 13:00:00</td>\n",
       "      <td>43570.77</td>\n",
       "      <td>43826.00</td>\n",
       "      <td>43503.01</td>\n",
       "      <td>43765.14</td>\n",
       "      <td>1564.251800</td>\n",
       "    </tr>\n",
       "    <tr>\n",
       "      <th>39220</th>\n",
       "      <td>2022-02-11 14:00:00</td>\n",
       "      <td>43765.15</td>\n",
       "      <td>43814.17</td>\n",
       "      <td>43450.01</td>\n",
       "      <td>43534.54</td>\n",
       "      <td>880.790640</td>\n",
       "    </tr>\n",
       "  </tbody>\n",
       "</table>\n",
       "<p>39221 rows × 6 columns</p>\n",
       "</div>"
      ],
      "text/plain": [
       "                          date      open      high       low     close  \\\n",
       "0      2017-08-17 04:00:00.000   4261.48   4313.62   4261.32   4308.83   \n",
       "1      2017-08-17 05:00:00.000   4308.83   4328.69   4291.37   4315.32   \n",
       "2      2017-08-17 06:00:00.000   4330.29   4345.45   4309.37   4324.35   \n",
       "3      2017-08-17 07:00:00.000   4316.62   4349.99   4287.41   4349.99   \n",
       "4      2017-08-17 08:00:00.000   4333.32   4377.85   4333.32   4360.69   \n",
       "...                        ...       ...       ...       ...       ...   \n",
       "39216      2022-02-11 10:00:00  43492.63  43569.67  43233.67  43443.77   \n",
       "39217      2022-02-11 11:00:00  43443.78  43523.42  43320.00  43357.53   \n",
       "39218      2022-02-11 12:00:00  43357.53  43700.78  43253.31  43570.77   \n",
       "39219      2022-02-11 13:00:00  43570.77  43826.00  43503.01  43765.14   \n",
       "39220      2022-02-11 14:00:00  43765.15  43814.17  43450.01  43534.54   \n",
       "\n",
       "            volume  \n",
       "0        47.181009  \n",
       "1        23.234916  \n",
       "2         7.229691  \n",
       "3         4.443249  \n",
       "4         0.972807  \n",
       "...            ...  \n",
       "39216  1305.626920  \n",
       "39217   744.524180  \n",
       "39218  1317.546940  \n",
       "39219  1564.251800  \n",
       "39220   880.790640  \n",
       "\n",
       "[39221 rows x 6 columns]"
      ]
     },
     "execution_count": 4,
     "metadata": {},
     "output_type": "execute_result"
    }
   ],
   "source": [
    "df_btc"
   ]
  },
  {
   "cell_type": "code",
   "execution_count": 5,
   "id": "9bde6969",
   "metadata": {},
   "outputs": [],
   "source": [
    "df_headers = df_btc.columns"
   ]
  },
  {
   "cell_type": "markdown",
   "id": "c68634f1",
   "metadata": {},
   "source": [
    "<Strong> Grabbing the closing price (univariate) </Strong>"
   ]
  },
  {
   "cell_type": "code",
   "execution_count": 6,
   "id": "512d2ff6",
   "metadata": {},
   "outputs": [
    {
     "data": {
      "text/plain": [
       "43534.54"
      ]
     },
     "execution_count": 6,
     "metadata": {},
     "output_type": "execute_result"
    }
   ],
   "source": [
    "# Removing everything but the closing price\n",
    "btc_data = df_btc.values[:, 4 ,].astype(float)\n",
    "\n",
    "btc_data[-1]"
   ]
  },
  {
   "cell_type": "markdown",
   "id": "0ff079aa",
   "metadata": {},
   "source": [
    "<Strong> Scaling the data  </Strong>"
   ]
  },
  {
   "cell_type": "code",
   "execution_count": 7,
   "id": "d604e42f",
   "metadata": {},
   "outputs": [],
   "source": [
    "percTrain = 70\n",
    "percVal = 20 "
   ]
  },
  {
   "cell_type": "code",
   "execution_count": 8,
   "id": "81b6f812",
   "metadata": {},
   "outputs": [],
   "source": [
    "scaler = MinMaxScaler()\n",
    "    \n",
    "onePercent = len(btc_data) // 100\n",
    "numberTraining = onePercent * percTrain\n",
    "\n",
    "reshaped_data = btc_data.reshape(-1,1)\n",
    "\n",
    "#Just scaling on training data otherwise it would be leakage\n",
    "scaler.fit(reshaped_data[:numberTraining])\n",
    "scaled_btc = scaler.transform(reshaped_data)"
   ]
  },
  {
   "cell_type": "markdown",
   "id": "2a6a4ccd",
   "metadata": {},
   "source": [
    "<Strong> Creating Matrix in Sliding window form <Strong>"
   ]
  },
  {
   "cell_type": "code",
   "execution_count": 9,
   "id": "ddf6b3da",
   "metadata": {},
   "outputs": [],
   "source": [
    "def sliding_window(elements, window_size):\n",
    "    \n",
    "    data = [] \n",
    "    targets = []\n",
    "    \n",
    "    if len(elements) <= window_size:\n",
    "        return elements\n",
    "    \n",
    "    for i in range(len(elements) - window_size ):\n",
    "        \n",
    "        data.append(elements[i:i+window_size])\n",
    "        targets.append(elements[i+window_size])\n",
    "        \n",
    "    return np.array(data) , np.array(targets)"
   ]
  },
  {
   "cell_type": "code",
   "execution_count": 10,
   "id": "fea806bf",
   "metadata": {},
   "outputs": [],
   "source": [
    "# Using 24 datapoints to predict the 25th\n",
    "\n",
    "window_length = 24\n",
    "features = 1\n",
    "\n",
    "sliding_winda_btc = sliding_window(scaled_btc , window_length)"
   ]
  },
  {
   "cell_type": "markdown",
   "id": "82fef525",
   "metadata": {},
   "source": [
    "<Strong> Splitting the data after we create Sliding Window matrix (more data) </Strong>"
   ]
  },
  {
   "cell_type": "code",
   "execution_count": 11,
   "id": "1731b98f",
   "metadata": {},
   "outputs": [],
   "source": [
    "# Splitting the data after creating the sliding window data\n",
    "def splitting_train_test(data):\n",
    "        \n",
    "    onePercent = len(data[1]) // 100\n",
    "    \n",
    "    numberTraining = onePercent * percTrain\n",
    "    numberValidation = onePercent * percVal\n",
    "    \n",
    "    trainingData = data[0][:numberTraining] , data[1][:numberTraining]\n",
    "    validationData = data[0][numberTraining : numberTraining + numberValidation] , data[1][numberTraining : numberTraining + numberValidation]\n",
    "    testData = data[0][numberTraining + numberValidation:] , data[1][numberTraining + numberValidation:] \n",
    "    \n",
    "    #Returning tuples of (sliding-window , target_values)\n",
    "    return trainingData , validationData , testData"
   ]
  },
  {
   "cell_type": "code",
   "execution_count": 12,
   "id": "05f85f5e",
   "metadata": {},
   "outputs": [
    {
     "name": "stdout",
     "output_type": "stream",
     "text": [
      "(27370, 24, 1)\n"
     ]
    }
   ],
   "source": [
    "#Reshaping the data so we can use min-max a\n",
    "btc_train , btc_val , btc_test = splitting_train_test(sliding_winda_btc)\n",
    "\n",
    "print(btc_train[0].shape)"
   ]
  },
  {
   "cell_type": "markdown",
   "id": "c9a800f1",
   "metadata": {},
   "source": [
    "<Strong> Creating the model </Strong>"
   ]
  },
  {
   "cell_type": "code",
   "execution_count": 15,
   "id": "f90ddefa",
   "metadata": {},
   "outputs": [
    {
     "name": "stdout",
     "output_type": "stream",
     "text": [
      "Model: \"model\"\n",
      "__________________________________________________________________________________________________\n",
      " Layer (type)                   Output Shape         Param #     Connected to                     \n",
      "==================================================================================================\n",
      " input_3 (InputLayer)           [(None, 24, 1)]      0           []                               \n",
      "                                                                                                  \n",
      " lstm_4 (LSTM)                  (None, 24, 30)       3840        ['input_3[0][0]']                \n",
      "                                                                                                  \n",
      " dropout_2 (Dropout)            (None, 24, 30)       0           ['lstm_4[0][0]']                 \n",
      "                                                                                                  \n",
      " gru (GRU)                      (None, 30)           2970        ['input_3[0][0]']                \n",
      "                                                                                                  \n",
      " lstm_5 (LSTM)                  (None, 50)           16200       ['dropout_2[0][0]']              \n",
      "                                                                                                  \n",
      " dropout_3 (Dropout)            (None, 30)           0           ['gru[0][0]']                    \n",
      "                                                                                                  \n",
      " dense (Dense)                  (None, 128)          6528        ['lstm_5[0][0]']                 \n",
      "                                                                                                  \n",
      " dense_1 (Dense)                (None, 128)          3968        ['dropout_3[0][0]']              \n",
      "                                                                                                  \n",
      " concatenate (Concatenate)      (None, 256)          0           ['dense[0][0]',                  \n",
      "                                                                  'dense_1[0][0]']                \n",
      "                                                                                                  \n",
      " dense_2 (Dense)                (None, 1)            257         ['concatenate[0][0]']            \n",
      "                                                                                                  \n",
      "==================================================================================================\n",
      "Total params: 33,763\n",
      "Trainable params: 33,763\n",
      "Non-trainable params: 0\n",
      "__________________________________________________________________________________________________\n"
     ]
    },
    {
     "data": {
      "image/png": "[encoded data removed]",
      "text/plain": [
       "<IPython.core.display.Image object>"
      ]
     },
     "execution_count": 15,
     "metadata": {},
     "output_type": "execute_result"
    }
   ],
   "source": [
    "inputs = Input(shape = (window_length , features) )\n",
    "\n",
    "x = LSTM(30 , return_sequences = True )(inputs)\n",
    "x = Dropout(0.01)(x) \n",
    "x = LSTM(50)(x)\n",
    "x = Dense(128 , activation=layers.LeakyReLU(alpha=0.01))(x)\n",
    "\n",
    "y = GRU(30,input_shape=(window_length , features))(inputs)\n",
    "y = Dropout(0.01)(y)\n",
    "y = Dense(128 , activation=layers.LeakyReLU(alpha=0.01))(y)\n",
    "\n",
    "final = Concatenate()([x,y])\n",
    "final = Dense(1)(final)\n",
    "\n",
    "model = tf.keras.Model(inputs=inputs, outputs= final)\n",
    "\n",
    "model.summary()\n",
    "plot_model(model)"
   ]
  },
  {
   "cell_type": "markdown",
   "id": "59fd00e1",
   "metadata": {},
   "source": [
    "<Strong> Compiling the model </Strong>"
   ]
  },
  {
   "cell_type": "code",
   "execution_count": 14,
   "id": "155372fd",
   "metadata": {},
   "outputs": [],
   "source": [
    "#Validation set needs to be in a tuple with x , y\n",
    "\n",
    "model.compile(optimizer='adam' , loss = 'mse')"
   ]
  },
  {
   "cell_type": "markdown",
   "id": "7b41e499",
   "metadata": {},
   "source": [
    "<Strong> Creating a callback , so we can avail of early stopping </Strong>"
   ]
  },
  {
   "cell_type": "code",
   "execution_count": 15,
   "id": "96fbfb57",
   "metadata": {},
   "outputs": [],
   "source": [
    "earlyStopping = EarlyStopping(monitor = 'val_loss' , patience = 30 , mode = 'min' , verbose = 1)"
   ]
  },
  {
   "cell_type": "markdown",
   "id": "0f705867",
   "metadata": {},
   "source": [
    "<Strong> Fitting the Model , and storing the epoch training stopped on </Strong>"
   ]
  },
  {
   "cell_type": "code",
   "execution_count": 16,
   "id": "924e1f60",
   "metadata": {},
   "outputs": [
    {
     "name": "stdout",
     "output_type": "stream",
     "text": [
      "Epoch 1/300\n",
      "54/54 [==============================] - 9s 87ms/step - loss: 0.0055 - val_loss: 0.1205\n",
      "Epoch 2/300\n",
      "53/54 [============================>.] - ETA: 0s - loss: 9.7452e-05"
     ]
    },
    {
     "ename": "KeyboardInterrupt",
     "evalue": "",
     "output_type": "error",
     "traceback": [
      "\u001b[0;31m---------------------------------------------------------------------------\u001b[0m",
      "\u001b[0;31mKeyboardInterrupt\u001b[0m                         Traceback (most recent call last)",
      "\u001b[0;32m/tmp/ipykernel_6857/3430685893.py\u001b[0m in \u001b[0;36m<module>\u001b[0;34m\u001b[0m\n\u001b[0;32m----> 1\u001b[0;31m \u001b[0mhistory\u001b[0m \u001b[0;34m=\u001b[0m \u001b[0mmodel\u001b[0m\u001b[0;34m.\u001b[0m\u001b[0mfit\u001b[0m\u001b[0;34m(\u001b[0m\u001b[0mbtc_train\u001b[0m\u001b[0;34m[\u001b[0m\u001b[0;36m0\u001b[0m\u001b[0;34m]\u001b[0m \u001b[0;34m,\u001b[0m \u001b[0mbtc_train\u001b[0m\u001b[0;34m[\u001b[0m\u001b[0;36m1\u001b[0m\u001b[0;34m]\u001b[0m \u001b[0;34m,\u001b[0m \u001b[0mvalidation_data\u001b[0m \u001b[0;34m=\u001b[0m \u001b[0mbtc_val\u001b[0m  \u001b[0;34m,\u001b[0m \u001b[0mbatch_size\u001b[0m \u001b[0;34m=\u001b[0m \u001b[0;36m512\u001b[0m  \u001b[0;34m,\u001b[0m \u001b[0mepochs\u001b[0m \u001b[0;34m=\u001b[0m\u001b[0;36m300\u001b[0m \u001b[0;34m,\u001b[0m \u001b[0mverbose\u001b[0m \u001b[0;34m=\u001b[0m \u001b[0;36m1\u001b[0m \u001b[0;34m,\u001b[0m \u001b[0mcallbacks\u001b[0m\u001b[0;34m=\u001b[0m\u001b[0;34m[\u001b[0m\u001b[0mearlyStopping\u001b[0m\u001b[0;34m]\u001b[0m\u001b[0;34m)\u001b[0m\u001b[0;34m\u001b[0m\u001b[0;34m\u001b[0m\u001b[0m\n\u001b[0m\u001b[1;32m      2\u001b[0m \u001b[0mnum_epochs\u001b[0m \u001b[0;34m=\u001b[0m \u001b[0mearlyStopping\u001b[0m\u001b[0;34m.\u001b[0m\u001b[0mstopped_epoch\u001b[0m\u001b[0;34m\u001b[0m\u001b[0;34m\u001b[0m\u001b[0m\n",
      "\u001b[0;32m/opt/conda/lib/python3.7/site-packages/keras/utils/traceback_utils.py\u001b[0m in \u001b[0;36merror_handler\u001b[0;34m(*args, **kwargs)\u001b[0m\n\u001b[1;32m     62\u001b[0m     \u001b[0mfiltered_tb\u001b[0m \u001b[0;34m=\u001b[0m \u001b[0;32mNone\u001b[0m\u001b[0;34m\u001b[0m\u001b[0;34m\u001b[0m\u001b[0m\n\u001b[1;32m     63\u001b[0m     \u001b[0;32mtry\u001b[0m\u001b[0;34m:\u001b[0m\u001b[0;34m\u001b[0m\u001b[0;34m\u001b[0m\u001b[0m\n\u001b[0;32m---> 64\u001b[0;31m       \u001b[0;32mreturn\u001b[0m \u001b[0mfn\u001b[0m\u001b[0;34m(\u001b[0m\u001b[0;34m*\u001b[0m\u001b[0margs\u001b[0m\u001b[0;34m,\u001b[0m \u001b[0;34m**\u001b[0m\u001b[0mkwargs\u001b[0m\u001b[0;34m)\u001b[0m\u001b[0;34m\u001b[0m\u001b[0;34m\u001b[0m\u001b[0m\n\u001b[0m\u001b[1;32m     65\u001b[0m     \u001b[0;32mexcept\u001b[0m \u001b[0mException\u001b[0m \u001b[0;32mas\u001b[0m \u001b[0me\u001b[0m\u001b[0;34m:\u001b[0m  \u001b[0;31m# pylint: disable=broad-except\u001b[0m\u001b[0;34m\u001b[0m\u001b[0;34m\u001b[0m\u001b[0m\n\u001b[1;32m     66\u001b[0m       \u001b[0mfiltered_tb\u001b[0m \u001b[0;34m=\u001b[0m \u001b[0m_process_traceback_frames\u001b[0m\u001b[0;34m(\u001b[0m\u001b[0me\u001b[0m\u001b[0;34m.\u001b[0m\u001b[0m__traceback__\u001b[0m\u001b[0;34m)\u001b[0m\u001b[0;34m\u001b[0m\u001b[0;34m\u001b[0m\u001b[0m\n",
      "\u001b[0;32m/opt/conda/lib/python3.7/site-packages/keras/engine/training.py\u001b[0m in \u001b[0;36mfit\u001b[0;34m(self, x, y, batch_size, epochs, verbose, callbacks, validation_split, validation_data, shuffle, class_weight, sample_weight, initial_epoch, steps_per_epoch, validation_steps, validation_batch_size, validation_freq, max_queue_size, workers, use_multiprocessing)\u001b[0m\n\u001b[1;32m   1429\u001b[0m               \u001b[0muse_multiprocessing\u001b[0m\u001b[0;34m=\u001b[0m\u001b[0muse_multiprocessing\u001b[0m\u001b[0;34m,\u001b[0m\u001b[0;34m\u001b[0m\u001b[0;34m\u001b[0m\u001b[0m\n\u001b[1;32m   1430\u001b[0m               \u001b[0mreturn_dict\u001b[0m\u001b[0;34m=\u001b[0m\u001b[0;32mTrue\u001b[0m\u001b[0;34m,\u001b[0m\u001b[0;34m\u001b[0m\u001b[0;34m\u001b[0m\u001b[0m\n\u001b[0;32m-> 1431\u001b[0;31m               _use_cached_eval_dataset=True)\n\u001b[0m\u001b[1;32m   1432\u001b[0m           \u001b[0mval_logs\u001b[0m \u001b[0;34m=\u001b[0m \u001b[0;34m{\u001b[0m\u001b[0;34m'val_'\u001b[0m \u001b[0;34m+\u001b[0m \u001b[0mname\u001b[0m\u001b[0;34m:\u001b[0m \u001b[0mval\u001b[0m \u001b[0;32mfor\u001b[0m \u001b[0mname\u001b[0m\u001b[0;34m,\u001b[0m \u001b[0mval\u001b[0m \u001b[0;32min\u001b[0m \u001b[0mval_logs\u001b[0m\u001b[0;34m.\u001b[0m\u001b[0mitems\u001b[0m\u001b[0;34m(\u001b[0m\u001b[0;34m)\u001b[0m\u001b[0;34m}\u001b[0m\u001b[0;34m\u001b[0m\u001b[0;34m\u001b[0m\u001b[0m\n\u001b[1;32m   1433\u001b[0m           \u001b[0mepoch_logs\u001b[0m\u001b[0;34m.\u001b[0m\u001b[0mupdate\u001b[0m\u001b[0;34m(\u001b[0m\u001b[0mval_logs\u001b[0m\u001b[0;34m)\u001b[0m\u001b[0;34m\u001b[0m\u001b[0;34m\u001b[0m\u001b[0m\n",
      "\u001b[0;32m/opt/conda/lib/python3.7/site-packages/keras/utils/traceback_utils.py\u001b[0m in \u001b[0;36merror_handler\u001b[0;34m(*args, **kwargs)\u001b[0m\n\u001b[1;32m     62\u001b[0m     \u001b[0mfiltered_tb\u001b[0m \u001b[0;34m=\u001b[0m \u001b[0;32mNone\u001b[0m\u001b[0;34m\u001b[0m\u001b[0;34m\u001b[0m\u001b[0m\n\u001b[1;32m     63\u001b[0m     \u001b[0;32mtry\u001b[0m\u001b[0;34m:\u001b[0m\u001b[0;34m\u001b[0m\u001b[0;34m\u001b[0m\u001b[0m\n\u001b[0;32m---> 64\u001b[0;31m       \u001b[0;32mreturn\u001b[0m \u001b[0mfn\u001b[0m\u001b[0;34m(\u001b[0m\u001b[0;34m*\u001b[0m\u001b[0margs\u001b[0m\u001b[0;34m,\u001b[0m \u001b[0;34m**\u001b[0m\u001b[0mkwargs\u001b[0m\u001b[0;34m)\u001b[0m\u001b[0;34m\u001b[0m\u001b[0;34m\u001b[0m\u001b[0m\n\u001b[0m\u001b[1;32m     65\u001b[0m     \u001b[0;32mexcept\u001b[0m \u001b[0mException\u001b[0m \u001b[0;32mas\u001b[0m \u001b[0me\u001b[0m\u001b[0;34m:\u001b[0m  \u001b[0;31m# pylint: disable=broad-except\u001b[0m\u001b[0;34m\u001b[0m\u001b[0;34m\u001b[0m\u001b[0m\n\u001b[1;32m     66\u001b[0m       \u001b[0mfiltered_tb\u001b[0m \u001b[0;34m=\u001b[0m \u001b[0m_process_traceback_frames\u001b[0m\u001b[0;34m(\u001b[0m\u001b[0me\u001b[0m\u001b[0;34m.\u001b[0m\u001b[0m__traceback__\u001b[0m\u001b[0;34m)\u001b[0m\u001b[0;34m\u001b[0m\u001b[0;34m\u001b[0m\u001b[0m\n",
      "\u001b[0;32m/opt/conda/lib/python3.7/site-packages/keras/engine/training.py\u001b[0m in \u001b[0;36mevaluate\u001b[0;34m(self, x, y, batch_size, verbose, sample_weight, steps, callbacks, max_queue_size, workers, use_multiprocessing, return_dict, **kwargs)\u001b[0m\n\u001b[1;32m   1714\u001b[0m             \u001b[0;32mwith\u001b[0m \u001b[0mtf\u001b[0m\u001b[0;34m.\u001b[0m\u001b[0mprofiler\u001b[0m\u001b[0;34m.\u001b[0m\u001b[0mexperimental\u001b[0m\u001b[0;34m.\u001b[0m\u001b[0mTrace\u001b[0m\u001b[0;34m(\u001b[0m\u001b[0;34m'test'\u001b[0m\u001b[0;34m,\u001b[0m \u001b[0mstep_num\u001b[0m\u001b[0;34m=\u001b[0m\u001b[0mstep\u001b[0m\u001b[0;34m,\u001b[0m \u001b[0m_r\u001b[0m\u001b[0;34m=\u001b[0m\u001b[0;36m1\u001b[0m\u001b[0;34m)\u001b[0m\u001b[0;34m:\u001b[0m\u001b[0;34m\u001b[0m\u001b[0;34m\u001b[0m\u001b[0m\n\u001b[1;32m   1715\u001b[0m               \u001b[0mcallbacks\u001b[0m\u001b[0;34m.\u001b[0m\u001b[0mon_test_batch_begin\u001b[0m\u001b[0;34m(\u001b[0m\u001b[0mstep\u001b[0m\u001b[0;34m)\u001b[0m\u001b[0;34m\u001b[0m\u001b[0;34m\u001b[0m\u001b[0m\n\u001b[0;32m-> 1716\u001b[0;31m               \u001b[0mtmp_logs\u001b[0m \u001b[0;34m=\u001b[0m \u001b[0mself\u001b[0m\u001b[0;34m.\u001b[0m\u001b[0mtest_function\u001b[0m\u001b[0;34m(\u001b[0m\u001b[0miterator\u001b[0m\u001b[0;34m)\u001b[0m\u001b[0;34m\u001b[0m\u001b[0;34m\u001b[0m\u001b[0m\n\u001b[0m\u001b[1;32m   1717\u001b[0m               \u001b[0;32mif\u001b[0m \u001b[0mdata_handler\u001b[0m\u001b[0;34m.\u001b[0m\u001b[0mshould_sync\u001b[0m\u001b[0;34m:\u001b[0m\u001b[0;34m\u001b[0m\u001b[0;34m\u001b[0m\u001b[0m\n\u001b[1;32m   1718\u001b[0m                 \u001b[0mcontext\u001b[0m\u001b[0;34m.\u001b[0m\u001b[0masync_wait\u001b[0m\u001b[0;34m(\u001b[0m\u001b[0;34m)\u001b[0m\u001b[0;34m\u001b[0m\u001b[0;34m\u001b[0m\u001b[0m\n",
      "\u001b[0;32m/opt/conda/lib/python3.7/site-packages/tensorflow/python/util/traceback_utils.py\u001b[0m in \u001b[0;36merror_handler\u001b[0;34m(*args, **kwargs)\u001b[0m\n\u001b[1;32m    148\u001b[0m     \u001b[0mfiltered_tb\u001b[0m \u001b[0;34m=\u001b[0m \u001b[0;32mNone\u001b[0m\u001b[0;34m\u001b[0m\u001b[0;34m\u001b[0m\u001b[0m\n\u001b[1;32m    149\u001b[0m     \u001b[0;32mtry\u001b[0m\u001b[0;34m:\u001b[0m\u001b[0;34m\u001b[0m\u001b[0;34m\u001b[0m\u001b[0m\n\u001b[0;32m--> 150\u001b[0;31m       \u001b[0;32mreturn\u001b[0m \u001b[0mfn\u001b[0m\u001b[0;34m(\u001b[0m\u001b[0;34m*\u001b[0m\u001b[0margs\u001b[0m\u001b[0;34m,\u001b[0m \u001b[0;34m**\u001b[0m\u001b[0mkwargs\u001b[0m\u001b[0;34m)\u001b[0m\u001b[0;34m\u001b[0m\u001b[0;34m\u001b[0m\u001b[0m\n\u001b[0m\u001b[1;32m    151\u001b[0m     \u001b[0;32mexcept\u001b[0m \u001b[0mException\u001b[0m \u001b[0;32mas\u001b[0m \u001b[0me\u001b[0m\u001b[0;34m:\u001b[0m\u001b[0;34m\u001b[0m\u001b[0;34m\u001b[0m\u001b[0m\n\u001b[1;32m    152\u001b[0m       \u001b[0mfiltered_tb\u001b[0m \u001b[0;34m=\u001b[0m \u001b[0m_process_traceback_frames\u001b[0m\u001b[0;34m(\u001b[0m\u001b[0me\u001b[0m\u001b[0;34m.\u001b[0m\u001b[0m__traceback__\u001b[0m\u001b[0;34m)\u001b[0m\u001b[0;34m\u001b[0m\u001b[0;34m\u001b[0m\u001b[0m\n",
      "\u001b[0;32m/opt/conda/lib/python3.7/site-packages/tensorflow/python/eager/def_function.py\u001b[0m in \u001b[0;36m__call__\u001b[0;34m(self, *args, **kwds)\u001b[0m\n\u001b[1;32m    913\u001b[0m \u001b[0;34m\u001b[0m\u001b[0m\n\u001b[1;32m    914\u001b[0m       \u001b[0;32mwith\u001b[0m \u001b[0mOptionalXlaContext\u001b[0m\u001b[0;34m(\u001b[0m\u001b[0mself\u001b[0m\u001b[0;34m.\u001b[0m\u001b[0m_jit_compile\u001b[0m\u001b[0;34m)\u001b[0m\u001b[0;34m:\u001b[0m\u001b[0;34m\u001b[0m\u001b[0;34m\u001b[0m\u001b[0m\n\u001b[0;32m--> 915\u001b[0;31m         \u001b[0mresult\u001b[0m \u001b[0;34m=\u001b[0m \u001b[0mself\u001b[0m\u001b[0;34m.\u001b[0m\u001b[0m_call\u001b[0m\u001b[0;34m(\u001b[0m\u001b[0;34m*\u001b[0m\u001b[0margs\u001b[0m\u001b[0;34m,\u001b[0m \u001b[0;34m**\u001b[0m\u001b[0mkwds\u001b[0m\u001b[0;34m)\u001b[0m\u001b[0;34m\u001b[0m\u001b[0;34m\u001b[0m\u001b[0m\n\u001b[0m\u001b[1;32m    916\u001b[0m \u001b[0;34m\u001b[0m\u001b[0m\n\u001b[1;32m    917\u001b[0m       \u001b[0mnew_tracing_count\u001b[0m \u001b[0;34m=\u001b[0m \u001b[0mself\u001b[0m\u001b[0;34m.\u001b[0m\u001b[0mexperimental_get_tracing_count\u001b[0m\u001b[0;34m(\u001b[0m\u001b[0;34m)\u001b[0m\u001b[0;34m\u001b[0m\u001b[0;34m\u001b[0m\u001b[0m\n",
      "\u001b[0;32m/opt/conda/lib/python3.7/site-packages/tensorflow/python/eager/def_function.py\u001b[0m in \u001b[0;36m_call\u001b[0;34m(self, *args, **kwds)\u001b[0m\n\u001b[1;32m    952\u001b[0m       \u001b[0;31m# In this case we have not created variables on the first call. So we can\u001b[0m\u001b[0;34m\u001b[0m\u001b[0;34m\u001b[0m\u001b[0;34m\u001b[0m\u001b[0m\n\u001b[1;32m    953\u001b[0m       \u001b[0;31m# run the first trace but we should fail if variables are created.\u001b[0m\u001b[0;34m\u001b[0m\u001b[0;34m\u001b[0m\u001b[0;34m\u001b[0m\u001b[0m\n\u001b[0;32m--> 954\u001b[0;31m       \u001b[0mresults\u001b[0m \u001b[0;34m=\u001b[0m \u001b[0mself\u001b[0m\u001b[0;34m.\u001b[0m\u001b[0m_stateful_fn\u001b[0m\u001b[0;34m(\u001b[0m\u001b[0;34m*\u001b[0m\u001b[0margs\u001b[0m\u001b[0;34m,\u001b[0m \u001b[0;34m**\u001b[0m\u001b[0mkwds\u001b[0m\u001b[0;34m)\u001b[0m\u001b[0;34m\u001b[0m\u001b[0;34m\u001b[0m\u001b[0m\n\u001b[0m\u001b[1;32m    955\u001b[0m       \u001b[0;32mif\u001b[0m \u001b[0mself\u001b[0m\u001b[0;34m.\u001b[0m\u001b[0m_created_variables\u001b[0m \u001b[0;32mand\u001b[0m \u001b[0;32mnot\u001b[0m \u001b[0mALLOW_DYNAMIC_VARIABLE_CREATION\u001b[0m\u001b[0;34m:\u001b[0m\u001b[0;34m\u001b[0m\u001b[0;34m\u001b[0m\u001b[0m\n\u001b[1;32m    956\u001b[0m         raise ValueError(\"Creating variables on a non-first call to a function\"\n",
      "\u001b[0;32m/opt/conda/lib/python3.7/site-packages/tensorflow/python/eager/function.py\u001b[0m in \u001b[0;36m__call__\u001b[0;34m(self, *args, **kwargs)\u001b[0m\n\u001b[1;32m   2953\u001b[0m     \u001b[0;32mwith\u001b[0m \u001b[0mself\u001b[0m\u001b[0;34m.\u001b[0m\u001b[0m_lock\u001b[0m\u001b[0;34m:\u001b[0m\u001b[0;34m\u001b[0m\u001b[0;34m\u001b[0m\u001b[0m\n\u001b[1;32m   2954\u001b[0m       (graph_function,\n\u001b[0;32m-> 2955\u001b[0;31m        filtered_flat_args) = self._maybe_define_function(args, kwargs)\n\u001b[0m\u001b[1;32m   2956\u001b[0m     return graph_function._call_flat(\n\u001b[1;32m   2957\u001b[0m         filtered_flat_args, captured_inputs=graph_function.captured_inputs)  # pylint: disable=protected-access\n",
      "\u001b[0;32m/opt/conda/lib/python3.7/site-packages/tensorflow/python/eager/function.py\u001b[0m in \u001b[0;36m_maybe_define_function\u001b[0;34m(self, args, kwargs)\u001b[0m\n\u001b[1;32m   3261\u001b[0m \u001b[0;34m\u001b[0m\u001b[0m\n\u001b[1;32m   3262\u001b[0m     graph_function = self._function_cache.lookup(cache_key,\n\u001b[0;32m-> 3263\u001b[0;31m                                                  USE_FUNCTION_SUBTYPING)\n\u001b[0m\u001b[1;32m   3264\u001b[0m     \u001b[0;32mif\u001b[0m \u001b[0mgraph_function\u001b[0m \u001b[0;32mis\u001b[0m \u001b[0;32mnot\u001b[0m \u001b[0;32mNone\u001b[0m\u001b[0;34m:\u001b[0m\u001b[0;34m\u001b[0m\u001b[0;34m\u001b[0m\u001b[0m\n\u001b[1;32m   3265\u001b[0m       \u001b[0;32mreturn\u001b[0m \u001b[0mgraph_function\u001b[0m\u001b[0;34m,\u001b[0m \u001b[0mfiltered_flat_args\u001b[0m\u001b[0;34m\u001b[0m\u001b[0;34m\u001b[0m\u001b[0m\n",
      "\u001b[0;32m/opt/conda/lib/python3.7/site-packages/tensorflow/python/eager/function_cache.py\u001b[0m in \u001b[0;36mlookup\u001b[0;34m(self, key, use_function_subtyping)\u001b[0m\n\u001b[1;32m    158\u001b[0m \u001b[0;34m\u001b[0m\u001b[0m\n\u001b[1;32m    159\u001b[0m     \u001b[0;32mif\u001b[0m \u001b[0mkey\u001b[0m \u001b[0;32min\u001b[0m \u001b[0mself\u001b[0m\u001b[0;34m.\u001b[0m\u001b[0m_primary\u001b[0m\u001b[0;34m:\u001b[0m\u001b[0;34m\u001b[0m\u001b[0;34m\u001b[0m\u001b[0m\n\u001b[0;32m--> 160\u001b[0;31m       \u001b[0;32mreturn\u001b[0m \u001b[0mself\u001b[0m\u001b[0;34m.\u001b[0m\u001b[0m_primary\u001b[0m\u001b[0;34m[\u001b[0m\u001b[0mkey\u001b[0m\u001b[0;34m]\u001b[0m\u001b[0;34m\u001b[0m\u001b[0;34m\u001b[0m\u001b[0m\n\u001b[0m\u001b[1;32m    161\u001b[0m \u001b[0;34m\u001b[0m\u001b[0m\n\u001b[1;32m    162\u001b[0m     \u001b[0;32mif\u001b[0m \u001b[0mkey\u001b[0m \u001b[0;32min\u001b[0m \u001b[0mself\u001b[0m\u001b[0;34m.\u001b[0m\u001b[0m_dispatch_cache\u001b[0m\u001b[0;34m:\u001b[0m\u001b[0;34m\u001b[0m\u001b[0;34m\u001b[0m\u001b[0m\n",
      "\u001b[0;32m/opt/conda/lib/python3.7/site-packages/tensorflow/python/eager/function_cache.py\u001b[0m in \u001b[0;36m__eq__\u001b[0;34m(self, other)\u001b[0m\n\u001b[1;32m    104\u001b[0m \u001b[0;34m\u001b[0m\u001b[0m\n\u001b[1;32m    105\u001b[0m     return (self.call_context == other.call_context and\n\u001b[0;32m--> 106\u001b[0;31m             self.function_signature == other.function_signature)\n\u001b[0m\u001b[1;32m    107\u001b[0m \u001b[0;34m\u001b[0m\u001b[0m\n\u001b[1;32m    108\u001b[0m   \u001b[0;32mdef\u001b[0m \u001b[0m__repr__\u001b[0m\u001b[0;34m(\u001b[0m\u001b[0mself\u001b[0m\u001b[0;34m)\u001b[0m \u001b[0;34m->\u001b[0m \u001b[0mstr\u001b[0m\u001b[0;34m:\u001b[0m\u001b[0;34m\u001b[0m\u001b[0;34m\u001b[0m\u001b[0m\n",
      "\u001b[0;32m/opt/conda/lib/python3.7/site-packages/tensorflow/python/eager/function_trace_type.py\u001b[0m in \u001b[0;36m__eq__\u001b[0;34m(self, other)\u001b[0m\n\u001b[1;32m    200\u001b[0m \u001b[0;34m\u001b[0m\u001b[0m\n\u001b[1;32m    201\u001b[0m   \u001b[0;32mdef\u001b[0m \u001b[0m__eq__\u001b[0m\u001b[0;34m(\u001b[0m\u001b[0mself\u001b[0m\u001b[0;34m,\u001b[0m \u001b[0mother\u001b[0m\u001b[0;34m)\u001b[0m \u001b[0;34m->\u001b[0m \u001b[0mbool\u001b[0m\u001b[0;34m:\u001b[0m\u001b[0;34m\u001b[0m\u001b[0;34m\u001b[0m\u001b[0m\n\u001b[0;32m--> 202\u001b[0;31m     \u001b[0;32mif\u001b[0m \u001b[0;32mnot\u001b[0m \u001b[0misinstance\u001b[0m\u001b[0;34m(\u001b[0m\u001b[0mother\u001b[0m\u001b[0;34m,\u001b[0m \u001b[0mtrace\u001b[0m\u001b[0;34m.\u001b[0m\u001b[0mTraceType\u001b[0m\u001b[0;34m)\u001b[0m\u001b[0;34m:\u001b[0m\u001b[0;34m\u001b[0m\u001b[0;34m\u001b[0m\u001b[0m\n\u001b[0m\u001b[1;32m    203\u001b[0m       \u001b[0;32mreturn\u001b[0m \u001b[0mNotImplemented\u001b[0m\u001b[0;34m\u001b[0m\u001b[0;34m\u001b[0m\u001b[0m\n\u001b[1;32m    204\u001b[0m \u001b[0;34m\u001b[0m\u001b[0m\n",
      "\u001b[0;32m/opt/conda/lib/python3.7/abc.py\u001b[0m in \u001b[0;36m__instancecheck__\u001b[0;34m(cls, instance)\u001b[0m\n\u001b[1;32m    135\u001b[0m             \u001b[0;32mreturn\u001b[0m \u001b[0m_abc_register\u001b[0m\u001b[0;34m(\u001b[0m\u001b[0mcls\u001b[0m\u001b[0;34m,\u001b[0m \u001b[0msubclass\u001b[0m\u001b[0;34m)\u001b[0m\u001b[0;34m\u001b[0m\u001b[0;34m\u001b[0m\u001b[0m\n\u001b[1;32m    136\u001b[0m \u001b[0;34m\u001b[0m\u001b[0m\n\u001b[0;32m--> 137\u001b[0;31m         \u001b[0;32mdef\u001b[0m \u001b[0m__instancecheck__\u001b[0m\u001b[0;34m(\u001b[0m\u001b[0mcls\u001b[0m\u001b[0;34m,\u001b[0m \u001b[0minstance\u001b[0m\u001b[0;34m)\u001b[0m\u001b[0;34m:\u001b[0m\u001b[0;34m\u001b[0m\u001b[0;34m\u001b[0m\u001b[0m\n\u001b[0m\u001b[1;32m    138\u001b[0m             \u001b[0;34m\"\"\"Override for isinstance(instance, cls).\"\"\"\u001b[0m\u001b[0;34m\u001b[0m\u001b[0;34m\u001b[0m\u001b[0m\n\u001b[1;32m    139\u001b[0m             \u001b[0;32mreturn\u001b[0m \u001b[0m_abc_instancecheck\u001b[0m\u001b[0;34m(\u001b[0m\u001b[0mcls\u001b[0m\u001b[0;34m,\u001b[0m \u001b[0minstance\u001b[0m\u001b[0;34m)\u001b[0m\u001b[0;34m\u001b[0m\u001b[0;34m\u001b[0m\u001b[0m\n",
      "\u001b[0;31mKeyboardInterrupt\u001b[0m: "
     ]
    }
   ],
   "source": [
    "history = model.fit(btc_train[0] , btc_train[1] , validation_data = btc_val  , batch_size = 512  , epochs =300 , verbose = 1 , callbacks=[earlyStopping])\n",
    "num_epochs = earlyStopping.stopped_epoch\n"
   ]
  },
  {
   "cell_type": "code",
   "execution_count": 22,
   "id": "6b6928d5",
   "metadata": {},
   "outputs": [
    {
     "data": {
      "image/png": "[encoded data removed]",
      "text/plain": [
       "<Figure size 432x288 with 1 Axes>"
      ]
     },
     "metadata": {
      "needs_background": "light"
     },
     "output_type": "display_data"
    }
   ],
   "source": [
    "plt.plot(history.history['loss'])\n",
    "plt.plot(history.history['val_loss'])\n",
    "plt.title('model loss')\n",
    "plt.ylabel('loss')\n",
    "plt.xlabel('epoch')\n",
    "plt.legend(['train', 'val'], loc='upper left')\n",
    "plt.ylim([0,0.02])\n",
    "plt.show()"
   ]
  },
  {
   "cell_type": "markdown",
   "id": "5de2f3a6",
   "metadata": {},
   "source": [
    "<Strong> Testing our model on the validation data once again , hyper-parameter adjustment. <Strong>"
   ]
  },
  {
   "cell_type": "code",
   "execution_count": 84,
   "id": "ee10ac50",
   "metadata": {},
   "outputs": [
    {
     "data": {
      "text/plain": [
       "595.3376850238625"
      ]
     },
     "execution_count": 84,
     "metadata": {},
     "output_type": "execute_result"
    }
   ],
   "source": [
    "validation_predict = model.predict(btc_val[0])\n",
    "validation_predict = scaler.inverse_transform(validation_predict)\n",
    "\n",
    "validation_actual = scaler.inverse_transform(btc_val[1])\n",
    "math.sqrt(mean_squared_error(validation_actual , validation_predict))"
   ]
  },
  {
   "cell_type": "markdown",
   "id": "c681512a",
   "metadata": {},
   "source": [
    "<Strong> Combining the train and validation set when perfected hyper-parameters and training on fresh model. </Strong>"
   ]
  },
  {
   "cell_type": "code",
   "execution_count": 85,
   "id": "3b78d533",
   "metadata": {},
   "outputs": [
    {
     "name": "stdout",
     "output_type": "stream",
     "text": [
      "Epoch 1/187\n",
      "69/69 [==============================] - 4s 8ms/step - loss: 0.0010\n",
      "Epoch 2/187\n",
      "69/69 [==============================] - 0s 7ms/step - loss: 2.7126e-04\n",
      "Epoch 3/187\n",
      "69/69 [==============================] - 0s 7ms/step - loss: 2.5518e-04\n",
      "Epoch 4/187\n",
      "69/69 [==============================] - 0s 7ms/step - loss: 2.6567e-04\n",
      "Epoch 5/187\n",
      "69/69 [==============================] - 0s 7ms/step - loss: 2.6337e-04\n",
      "Epoch 6/187\n",
      "69/69 [==============================] - 0s 7ms/step - loss: 2.6258e-04\n",
      "Epoch 7/187\n",
      "69/69 [==============================] - 0s 7ms/step - loss: 2.4081e-04\n",
      "Epoch 8/187\n",
      "69/69 [==============================] - 0s 7ms/step - loss: 2.5022e-04\n",
      "Epoch 9/187\n",
      "69/69 [==============================] - 0s 7ms/step - loss: 2.4687e-04\n",
      "Epoch 10/187\n",
      "69/69 [==============================] - 0s 7ms/step - loss: 2.6865e-04\n",
      "Epoch 11/187\n",
      "69/69 [==============================] - 0s 7ms/step - loss: 2.7838e-04\n",
      "Epoch 12/187\n",
      "69/69 [==============================] - 0s 7ms/step - loss: 2.3424e-04\n",
      "Epoch 13/187\n",
      "69/69 [==============================] - 0s 7ms/step - loss: 2.4049e-04\n",
      "Epoch 14/187\n",
      "69/69 [==============================] - 0s 7ms/step - loss: 2.3707e-04\n",
      "Epoch 15/187\n",
      "69/69 [==============================] - 0s 7ms/step - loss: 2.1993e-04\n",
      "Epoch 16/187\n",
      "69/69 [==============================] - 0s 7ms/step - loss: 2.1857e-04\n",
      "Epoch 17/187\n",
      "69/69 [==============================] - 0s 7ms/step - loss: 2.4710e-04\n",
      "Epoch 18/187\n",
      "69/69 [==============================] - 0s 7ms/step - loss: 2.2931e-04\n",
      "Epoch 19/187\n",
      "69/69 [==============================] - 0s 7ms/step - loss: 2.2709e-04\n",
      "Epoch 20/187\n",
      "69/69 [==============================] - 0s 7ms/step - loss: 2.5313e-04\n",
      "Epoch 21/187\n",
      "69/69 [==============================] - 0s 7ms/step - loss: 2.0348e-04\n",
      "Epoch 22/187\n",
      "69/69 [==============================] - 0s 7ms/step - loss: 2.3634e-04\n",
      "Epoch 23/187\n",
      "69/69 [==============================] - 0s 7ms/step - loss: 2.4537e-04\n",
      "Epoch 24/187\n",
      "69/69 [==============================] - 0s 7ms/step - loss: 2.1275e-04\n",
      "Epoch 25/187\n",
      "69/69 [==============================] - 0s 7ms/step - loss: 2.2689e-04\n",
      "Epoch 26/187\n",
      "69/69 [==============================] - 0s 7ms/step - loss: 2.5929e-04\n",
      "Epoch 27/187\n",
      "69/69 [==============================] - 0s 7ms/step - loss: 2.0354e-04\n",
      "Epoch 28/187\n",
      "69/69 [==============================] - 0s 7ms/step - loss: 1.9828e-04\n",
      "Epoch 29/187\n",
      "69/69 [==============================] - 0s 7ms/step - loss: 2.2810e-04\n",
      "Epoch 30/187\n",
      "69/69 [==============================] - 0s 7ms/step - loss: 2.1467e-04\n",
      "Epoch 31/187\n",
      "69/69 [==============================] - 0s 7ms/step - loss: 2.2342e-04\n",
      "Epoch 32/187\n",
      "69/69 [==============================] - 0s 7ms/step - loss: 2.6740e-04\n",
      "Epoch 33/187\n",
      "69/69 [==============================] - 0s 7ms/step - loss: 1.9074e-04\n",
      "Epoch 34/187\n",
      "69/69 [==============================] - 1s 12ms/step - loss: 1.9808e-04\n",
      "Epoch 35/187\n",
      "69/69 [==============================] - 0s 7ms/step - loss: 1.9816e-04\n",
      "Epoch 36/187\n",
      "69/69 [==============================] - 0s 7ms/step - loss: 2.5217e-04\n",
      "Epoch 37/187\n",
      "69/69 [==============================] - 0s 7ms/step - loss: 1.9599e-04\n",
      "Epoch 38/187\n",
      "69/69 [==============================] - 0s 7ms/step - loss: 1.9612e-04\n",
      "Epoch 39/187\n",
      "69/69 [==============================] - 0s 7ms/step - loss: 2.1140e-04\n",
      "Epoch 40/187\n",
      "69/69 [==============================] - 0s 7ms/step - loss: 1.9788e-04\n",
      "Epoch 41/187\n",
      "69/69 [==============================] - 0s 7ms/step - loss: 2.1517e-04\n",
      "Epoch 42/187\n",
      "69/69 [==============================] - 0s 7ms/step - loss: 1.8680e-04\n",
      "Epoch 43/187\n",
      "69/69 [==============================] - 0s 7ms/step - loss: 2.0152e-04\n",
      "Epoch 44/187\n",
      "69/69 [==============================] - 0s 7ms/step - loss: 2.6660e-04\n",
      "Epoch 45/187\n",
      "69/69 [==============================] - 0s 7ms/step - loss: 2.1121e-04\n",
      "Epoch 46/187\n",
      "69/69 [==============================] - 0s 7ms/step - loss: 2.0561e-04\n",
      "Epoch 47/187\n",
      "69/69 [==============================] - 0s 7ms/step - loss: 1.9802e-04\n",
      "Epoch 48/187\n",
      "69/69 [==============================] - 0s 7ms/step - loss: 1.9666e-04\n",
      "Epoch 49/187\n",
      "69/69 [==============================] - 0s 7ms/step - loss: 1.9641e-04\n",
      "Epoch 50/187\n",
      "69/69 [==============================] - 0s 7ms/step - loss: 1.9539e-04\n",
      "Epoch 51/187\n",
      "69/69 [==============================] - 0s 7ms/step - loss: 1.8019e-04\n",
      "Epoch 52/187\n",
      "69/69 [==============================] - 0s 7ms/step - loss: 1.9680e-04\n",
      "Epoch 53/187\n",
      "69/69 [==============================] - 0s 7ms/step - loss: 1.8579e-04\n",
      "Epoch 54/187\n",
      "69/69 [==============================] - 0s 7ms/step - loss: 1.8650e-04\n",
      "Epoch 55/187\n",
      "69/69 [==============================] - 0s 7ms/step - loss: 1.7766e-04\n",
      "Epoch 56/187\n",
      "69/69 [==============================] - 0s 7ms/step - loss: 2.0687e-04\n",
      "Epoch 57/187\n",
      "69/69 [==============================] - 0s 7ms/step - loss: 2.0959e-04\n",
      "Epoch 58/187\n",
      "69/69 [==============================] - 0s 7ms/step - loss: 1.9305e-04\n",
      "Epoch 59/187\n",
      "69/69 [==============================] - 0s 7ms/step - loss: 1.9014e-04\n",
      "Epoch 60/187\n",
      "69/69 [==============================] - 0s 7ms/step - loss: 1.8388e-04\n",
      "Epoch 61/187\n",
      "69/69 [==============================] - 0s 7ms/step - loss: 2.0428e-04\n",
      "Epoch 62/187\n",
      "69/69 [==============================] - 0s 7ms/step - loss: 1.9393e-04\n",
      "Epoch 63/187\n",
      "69/69 [==============================] - 0s 7ms/step - loss: 1.9259e-04\n",
      "Epoch 64/187\n",
      "69/69 [==============================] - 0s 7ms/step - loss: 2.4395e-04\n",
      "Epoch 65/187\n",
      "69/69 [==============================] - 0s 7ms/step - loss: 1.9775e-04\n",
      "Epoch 66/187\n",
      "69/69 [==============================] - 0s 7ms/step - loss: 1.8464e-04\n",
      "Epoch 67/187\n",
      "69/69 [==============================] - 0s 7ms/step - loss: 2.1728e-04\n",
      "Epoch 68/187\n",
      "69/69 [==============================] - 0s 7ms/step - loss: 1.8995e-04\n",
      "Epoch 69/187\n",
      "69/69 [==============================] - 0s 7ms/step - loss: 2.0806e-04\n",
      "Epoch 70/187\n",
      "69/69 [==============================] - 0s 7ms/step - loss: 1.9221e-04\n",
      "Epoch 71/187\n",
      "69/69 [==============================] - 0s 7ms/step - loss: 1.9659e-04\n",
      "Epoch 72/187\n",
      "69/69 [==============================] - 0s 7ms/step - loss: 1.9263e-04\n",
      "Epoch 73/187\n",
      "69/69 [==============================] - 0s 7ms/step - loss: 2.0056e-04\n",
      "Epoch 74/187\n",
      "69/69 [==============================] - 0s 7ms/step - loss: 1.8894e-04\n",
      "Epoch 75/187\n",
      "69/69 [==============================] - 0s 7ms/step - loss: 1.7518e-04\n",
      "Epoch 76/187\n",
      "69/69 [==============================] - 0s 7ms/step - loss: 1.8087e-04\n",
      "Epoch 77/187\n",
      "69/69 [==============================] - 0s 7ms/step - loss: 1.7387e-04\n",
      "Epoch 78/187\n",
      "69/69 [==============================] - 0s 7ms/step - loss: 1.7506e-04\n",
      "Epoch 79/187\n",
      "69/69 [==============================] - 0s 7ms/step - loss: 1.7833e-04\n",
      "Epoch 80/187\n",
      "69/69 [==============================] - 0s 7ms/step - loss: 1.8722e-04\n",
      "Epoch 81/187\n",
      "69/69 [==============================] - 0s 7ms/step - loss: 1.7876e-04\n",
      "Epoch 82/187\n",
      "69/69 [==============================] - 0s 7ms/step - loss: 1.7843e-04\n",
      "Epoch 83/187\n",
      "69/69 [==============================] - 0s 7ms/step - loss: 1.9901e-04\n",
      "Epoch 84/187\n",
      "69/69 [==============================] - 0s 7ms/step - loss: 1.6971e-04\n",
      "Epoch 85/187\n",
      "69/69 [==============================] - 0s 7ms/step - loss: 1.9900e-04\n",
      "Epoch 86/187\n",
      "69/69 [==============================] - 0s 7ms/step - loss: 1.9120e-04\n",
      "Epoch 87/187\n",
      "69/69 [==============================] - 0s 7ms/step - loss: 1.8305e-04\n",
      "Epoch 88/187\n",
      "69/69 [==============================] - 0s 7ms/step - loss: 1.8678e-04\n",
      "Epoch 89/187\n",
      "69/69 [==============================] - 0s 7ms/step - loss: 1.6848e-04\n",
      "Epoch 90/187\n",
      "69/69 [==============================] - 0s 7ms/step - loss: 1.7630e-04\n",
      "Epoch 91/187\n",
      "69/69 [==============================] - 0s 7ms/step - loss: 2.2126e-04\n",
      "Epoch 92/187\n",
      "69/69 [==============================] - 0s 7ms/step - loss: 1.7368e-04\n",
      "Epoch 93/187\n",
      "69/69 [==============================] - 0s 7ms/step - loss: 1.8489e-04\n",
      "Epoch 94/187\n",
      "69/69 [==============================] - 0s 7ms/step - loss: 1.8631e-04\n",
      "Epoch 95/187\n",
      "69/69 [==============================] - 0s 7ms/step - loss: 2.0590e-04\n",
      "Epoch 96/187\n",
      "69/69 [==============================] - 0s 7ms/step - loss: 1.7307e-04\n",
      "Epoch 97/187\n",
      "69/69 [==============================] - 0s 7ms/step - loss: 1.7468e-04\n",
      "Epoch 98/187\n",
      "69/69 [==============================] - 0s 7ms/step - loss: 1.7437e-04\n",
      "Epoch 99/187\n",
      "69/69 [==============================] - 0s 7ms/step - loss: 1.7754e-04\n",
      "Epoch 100/187\n",
      "69/69 [==============================] - 0s 7ms/step - loss: 1.7219e-04\n",
      "Epoch 101/187\n",
      "69/69 [==============================] - 0s 7ms/step - loss: 1.9840e-04\n",
      "Epoch 102/187\n",
      "69/69 [==============================] - 0s 7ms/step - loss: 2.0281e-04\n",
      "Epoch 103/187\n",
      "69/69 [==============================] - 1s 7ms/step - loss: 1.9313e-04\n",
      "Epoch 104/187\n",
      "69/69 [==============================] - 1s 7ms/step - loss: 1.9176e-04\n",
      "Epoch 105/187\n",
      "69/69 [==============================] - 0s 7ms/step - loss: 1.7874e-04\n",
      "Epoch 106/187\n",
      "69/69 [==============================] - 1s 7ms/step - loss: 1.6953e-04\n",
      "Epoch 107/187\n",
      "69/69 [==============================] - 0s 7ms/step - loss: 1.6129e-04\n",
      "Epoch 108/187\n",
      "69/69 [==============================] - 1s 7ms/step - loss: 1.9292e-04\n",
      "Epoch 109/187\n",
      "69/69 [==============================] - 0s 7ms/step - loss: 1.9064e-04\n",
      "Epoch 110/187\n",
      "69/69 [==============================] - 0s 7ms/step - loss: 1.7912e-04\n",
      "Epoch 111/187\n",
      "69/69 [==============================] - 0s 7ms/step - loss: 1.6743e-04\n",
      "Epoch 112/187\n",
      "69/69 [==============================] - 0s 7ms/step - loss: 1.6691e-04\n",
      "Epoch 113/187\n",
      "69/69 [==============================] - 0s 7ms/step - loss: 1.6581e-04\n",
      "Epoch 114/187\n",
      "69/69 [==============================] - 0s 7ms/step - loss: 1.8051e-04\n",
      "Epoch 115/187\n",
      "69/69 [==============================] - 0s 7ms/step - loss: 1.8529e-04\n",
      "Epoch 116/187\n",
      "69/69 [==============================] - 0s 7ms/step - loss: 1.8485e-04\n",
      "Epoch 117/187\n",
      "69/69 [==============================] - 0s 7ms/step - loss: 1.6460e-04\n",
      "Epoch 118/187\n",
      "69/69 [==============================] - 0s 7ms/step - loss: 1.7520e-04\n",
      "Epoch 119/187\n",
      "69/69 [==============================] - 0s 7ms/step - loss: 1.6271e-04\n",
      "Epoch 120/187\n",
      "69/69 [==============================] - 0s 7ms/step - loss: 1.9510e-04\n",
      "Epoch 121/187\n",
      "69/69 [==============================] - 0s 7ms/step - loss: 1.6555e-04\n",
      "Epoch 122/187\n",
      "69/69 [==============================] - 0s 7ms/step - loss: 1.8254e-04\n",
      "Epoch 123/187\n",
      "69/69 [==============================] - 0s 7ms/step - loss: 1.9097e-04\n",
      "Epoch 124/187\n",
      "69/69 [==============================] - 0s 7ms/step - loss: 1.9745e-04\n",
      "Epoch 125/187\n",
      "69/69 [==============================] - 0s 7ms/step - loss: 1.7609e-04\n",
      "Epoch 126/187\n",
      "69/69 [==============================] - 0s 7ms/step - loss: 1.6772e-04\n",
      "Epoch 127/187\n",
      "69/69 [==============================] - 0s 7ms/step - loss: 1.8605e-04\n",
      "Epoch 128/187\n",
      "69/69 [==============================] - 0s 7ms/step - loss: 2.0191e-04\n",
      "Epoch 129/187\n",
      "69/69 [==============================] - 0s 7ms/step - loss: 2.0547e-04\n",
      "Epoch 130/187\n",
      "69/69 [==============================] - 0s 7ms/step - loss: 1.6684e-04\n",
      "Epoch 131/187\n",
      "69/69 [==============================] - 0s 7ms/step - loss: 1.9944e-04\n",
      "Epoch 132/187\n",
      "69/69 [==============================] - 0s 7ms/step - loss: 1.5849e-04\n",
      "Epoch 133/187\n",
      "69/69 [==============================] - 0s 7ms/step - loss: 1.6848e-04\n",
      "Epoch 134/187\n",
      "69/69 [==============================] - 0s 7ms/step - loss: 1.7034e-04\n",
      "Epoch 135/187\n",
      "69/69 [==============================] - 0s 7ms/step - loss: 1.6734e-04\n",
      "Epoch 136/187\n",
      "69/69 [==============================] - 0s 7ms/step - loss: 1.7500e-04\n",
      "Epoch 137/187\n",
      "69/69 [==============================] - 0s 7ms/step - loss: 1.5985e-04\n",
      "Epoch 138/187\n",
      "69/69 [==============================] - 0s 7ms/step - loss: 1.6420e-04\n",
      "Epoch 139/187\n",
      "69/69 [==============================] - 0s 7ms/step - loss: 1.8109e-04\n",
      "Epoch 140/187\n",
      "69/69 [==============================] - 0s 7ms/step - loss: 1.7428e-04\n",
      "Epoch 141/187\n",
      "69/69 [==============================] - 0s 7ms/step - loss: 1.8568e-04\n",
      "Epoch 142/187\n",
      "69/69 [==============================] - 0s 7ms/step - loss: 1.5871e-04\n",
      "Epoch 143/187\n",
      "69/69 [==============================] - 0s 7ms/step - loss: 1.6245e-04\n",
      "Epoch 144/187\n",
      "69/69 [==============================] - 0s 7ms/step - loss: 1.8632e-04\n",
      "Epoch 145/187\n",
      "69/69 [==============================] - 0s 7ms/step - loss: 1.9321e-04\n",
      "Epoch 146/187\n",
      "69/69 [==============================] - 0s 7ms/step - loss: 1.6589e-04\n",
      "Epoch 147/187\n",
      "69/69 [==============================] - 0s 7ms/step - loss: 1.6208e-04\n",
      "Epoch 148/187\n",
      "69/69 [==============================] - 0s 7ms/step - loss: 1.6290e-04\n",
      "Epoch 149/187\n",
      "69/69 [==============================] - 0s 7ms/step - loss: 1.8397e-04\n",
      "Epoch 150/187\n",
      "69/69 [==============================] - 0s 7ms/step - loss: 1.6972e-04\n",
      "Epoch 151/187\n",
      "69/69 [==============================] - 0s 7ms/step - loss: 2.1485e-04\n",
      "Epoch 152/187\n",
      "69/69 [==============================] - 0s 7ms/step - loss: 1.6682e-04\n",
      "Epoch 153/187\n",
      "69/69 [==============================] - 0s 7ms/step - loss: 1.6891e-04\n",
      "Epoch 154/187\n",
      "69/69 [==============================] - 0s 7ms/step - loss: 1.5826e-04\n",
      "Epoch 155/187\n",
      "69/69 [==============================] - 0s 7ms/step - loss: 1.7437e-04\n",
      "Epoch 156/187\n",
      "69/69 [==============================] - 0s 7ms/step - loss: 1.5738e-04\n",
      "Epoch 157/187\n",
      "69/69 [==============================] - 1s 7ms/step - loss: 2.0034e-04\n",
      "Epoch 158/187\n",
      "69/69 [==============================] - 1s 11ms/step - loss: 1.7701e-04\n",
      "Epoch 159/187\n",
      "69/69 [==============================] - 0s 7ms/step - loss: 1.6437e-04\n",
      "Epoch 160/187\n",
      "69/69 [==============================] - 0s 7ms/step - loss: 1.6310e-04\n",
      "Epoch 161/187\n",
      "69/69 [==============================] - 0s 7ms/step - loss: 1.9236e-04\n",
      "Epoch 162/187\n",
      "69/69 [==============================] - 0s 7ms/step - loss: 1.6384e-04\n",
      "Epoch 163/187\n",
      "69/69 [==============================] - 0s 7ms/step - loss: 1.6109e-04\n",
      "Epoch 164/187\n",
      "69/69 [==============================] - 0s 7ms/step - loss: 1.8298e-04\n",
      "Epoch 165/187\n",
      "69/69 [==============================] - 0s 7ms/step - loss: 1.8304e-04\n",
      "Epoch 166/187\n",
      "69/69 [==============================] - 0s 7ms/step - loss: 1.7439e-04\n",
      "Epoch 167/187\n",
      "69/69 [==============================] - 0s 7ms/step - loss: 1.7214e-04\n",
      "Epoch 168/187\n",
      "69/69 [==============================] - 0s 7ms/step - loss: 1.6553e-04\n",
      "Epoch 169/187\n",
      "69/69 [==============================] - 0s 7ms/step - loss: 1.7001e-04\n",
      "Epoch 170/187\n",
      "69/69 [==============================] - 0s 7ms/step - loss: 1.6766e-04\n",
      "Epoch 171/187\n",
      "69/69 [==============================] - 0s 7ms/step - loss: 1.5852e-04\n",
      "Epoch 172/187\n",
      "69/69 [==============================] - 0s 7ms/step - loss: 1.6675e-04\n",
      "Epoch 173/187\n",
      "69/69 [==============================] - 0s 7ms/step - loss: 1.9027e-04\n",
      "Epoch 174/187\n",
      "69/69 [==============================] - 0s 7ms/step - loss: 1.6637e-04\n",
      "Epoch 175/187\n",
      "69/69 [==============================] - 0s 7ms/step - loss: 1.6968e-04\n",
      "Epoch 176/187\n",
      "69/69 [==============================] - 0s 7ms/step - loss: 1.6645e-04\n",
      "Epoch 177/187\n",
      "69/69 [==============================] - 0s 7ms/step - loss: 1.9087e-04\n",
      "Epoch 178/187\n",
      "69/69 [==============================] - 0s 7ms/step - loss: 1.6547e-04\n",
      "Epoch 179/187\n",
      "69/69 [==============================] - 0s 7ms/step - loss: 1.6788e-04\n",
      "Epoch 180/187\n",
      "69/69 [==============================] - 0s 7ms/step - loss: 1.7681e-04\n",
      "Epoch 181/187\n",
      "69/69 [==============================] - 0s 7ms/step - loss: 1.7744e-04\n",
      "Epoch 182/187\n",
      "69/69 [==============================] - 0s 7ms/step - loss: 1.8469e-04\n",
      "Epoch 183/187\n",
      "69/69 [==============================] - 0s 7ms/step - loss: 1.6882e-04\n",
      "Epoch 184/187\n",
      "69/69 [==============================] - 0s 7ms/step - loss: 1.6314e-04\n",
      "Epoch 185/187\n",
      "69/69 [==============================] - 0s 7ms/step - loss: 1.6295e-04\n",
      "Epoch 186/187\n",
      "69/69 [==============================] - 0s 7ms/step - loss: 1.7283e-04\n",
      "Epoch 187/187\n",
      "69/69 [==============================] - 0s 7ms/step - loss: 1.5847e-04\n"
     ]
    }
   ],
   "source": [
    "train_and_val = np.concatenate([btc_train[0] , btc_val[0]] )\n",
    "train_and_val_targets = np.concatenate([btc_train[1] , btc_val[1] ])\n",
    "\n",
    "freshModel = tf.keras.Model(inputs=inputs, outputs= final)\n",
    "freshModel.compile(optimizer='adam' , loss = 'mse')\n",
    "\n",
    "final = freshModel.fit(train_and_val , train_and_val_targets , batch_size = 512  , epochs = num_epochs )"
   ]
  },
  {
   "cell_type": "markdown",
   "id": "3476d1d1",
   "metadata": {},
   "source": [
    "<Strong> Finally testing on test set and grabbing evaluation metrics - 1 day </Strong>"
   ]
  },
  {
   "cell_type": "code",
   "execution_count": 87,
   "id": "2b1273fd",
   "metadata": {},
   "outputs": [],
   "source": [
    "test_predict = freshModel.predict(btc_test[0])\n",
    "test_predict = scaler.inverse_transform(test_predict)\n",
    "test_actual = scaler.inverse_transform(btc_test[1])"
   ]
  },
  {
   "cell_type": "code",
   "execution_count": 88,
   "id": "9ab2e832",
   "metadata": {},
   "outputs": [
    {
     "name": "stdout",
     "output_type": "stream",
     "text": [
      "16.046399497859213\n",
      "0.07206857953008987\n",
      "19.12155739876382\n",
      "365.6339573542193\n"
     ]
    }
   ],
   "source": [
    "print(math.sqrt(mean_absolute_error(test_actual , test_predict)))\n",
    "print(math.sqrt(mean_absolute_percentage_error(test_actual , test_predict)))\n",
    "print(math.sqrt(mean_squared_error(test_actual , test_predict , squared = False)))\n",
    "print(math.sqrt(mean_squared_error(test_actual , test_predict)))"
   ]
  },
  {
   "cell_type": "markdown",
   "id": "d132f852",
   "metadata": {},
   "source": [
    "<Strong> For Predicting more than 1 day in the future - Test Set. </Strong>"
   ]
  },
  {
   "cell_type": "code",
   "execution_count": 137,
   "id": "c9b3a5d9",
   "metadata": {},
   "outputs": [],
   "source": [
    "def steps_in_future(hours_in_future , data):\n",
    "    \n",
    "    #All the hours_in_future time predictions\n",
    "    predictions = []\n",
    "    \n",
    "    # Have to cut off the (hours_in_future - 1) off the test set to avoid out of bounds error\n",
    "    test_data = data[0][:-(hours_in_future - 1)]\n",
    "    \n",
    "    for x in range (len(test_data)):\n",
    "        #Going through all the windows\n",
    "        last_window = test_data[x].reshape(1,-1)\n",
    "    \n",
    "            # Make as many predictions as hours_in_future\n",
    "        for i in range(hours_in_future):\n",
    "            \n",
    "            # Take the predicted value from the last window in training set\n",
    "            last_prediction = model.predict(last_window)[0]\n",
    "\n",
    "            #shifting the window size one step down\n",
    "            last_window[0] = np.roll(last_window[0], -1)\n",
    "\n",
    "            #replacing the old value with new prediction\n",
    "            last_window[0 , (len(last_window[0]) - 1)] = last_prediction\n",
    "\n",
    "        #append prediction\n",
    "        predictions.append(last_prediction)\n",
    "    \n",
    "    return predictions"
   ]
  },
  {
   "cell_type": "code",
   "execution_count": 153,
   "id": "e4f6151e",
   "metadata": {},
   "outputs": [],
   "source": [
    "#three_day_predictions = steps_in_future(3, btc_test)\n",
    "seven_day_predictions = steps_in_future( 7, btc_test)"
   ]
  },
  {
   "cell_type": "code",
   "execution_count": 155,
   "id": "8e06ede2",
   "metadata": {},
   "outputs": [
    {
     "name": "stdout",
     "output_type": "stream",
     "text": [
      "[array([2.9957883], dtype=float32), array([2.9848106], dtype=float32), array([2.9936342], dtype=float32), array([3.0028572], dtype=float32), array([3.0061724], dtype=float32), array([2.9942398], dtype=float32), array([2.987292], dtype=float32), array([2.9912996], dtype=float32), array([3.0027912], dtype=float32), array([2.9889307], dtype=float32), array([2.9999175], dtype=float32), array([3.035621], dtype=float32), array([3.025803], dtype=float32), array([2.9842572], dtype=float32), array([2.9644713], dtype=float32), array([2.9606185], dtype=float32), array([2.9687662], dtype=float32), array([2.9718208], dtype=float32), array([2.9744396], dtype=float32), array([2.9750822], dtype=float32), array([2.9800696], dtype=float32), array([2.9783604], dtype=float32), array([2.9583573], dtype=float32), array([2.9702516], dtype=float32), array([2.968211], dtype=float32), array([2.9640875], dtype=float32), array([2.9770818], dtype=float32), array([2.9886055], dtype=float32), array([2.9957185], dtype=float32), array([2.993725], dtype=float32), array([2.997158], dtype=float32), array([3.0020537], dtype=float32), array([3.0024364], dtype=float32), array([3.0137835], dtype=float32), array([2.9946597], dtype=float32), array([2.9528737], dtype=float32), array([2.9564462], dtype=float32), array([2.9509332], dtype=float32), array([2.9246616], dtype=float32), array([2.916901], dtype=float32), array([2.909199], dtype=float32), array([2.8977988], dtype=float32), array([2.896058], dtype=float32), array([2.9054534], dtype=float32), array([2.8973165], dtype=float32), array([2.9039927], dtype=float32), array([2.8980846], dtype=float32), array([2.880123], dtype=float32), array([2.8920732], dtype=float32), array([2.8872695], dtype=float32), array([2.9086084], dtype=float32), array([2.9169066], dtype=float32), array([2.9272223], dtype=float32), array([2.9381065], dtype=float32), array([2.9465907], dtype=float32), array([2.9468162], dtype=float32), array([2.9329383], dtype=float32), array([2.8862636], dtype=float32), array([2.8468986], dtype=float32), array([2.8360398], dtype=float32), array([2.8352952], dtype=float32), array([2.8404763], dtype=float32), array([2.8455014], dtype=float32), array([2.8384867], dtype=float32), array([2.8445], dtype=float32), array([2.8359969], dtype=float32), array([2.8885756], dtype=float32), array([2.8887227], dtype=float32), array([2.8697941], dtype=float32), array([2.8714337], dtype=float32), array([2.9104006], dtype=float32), array([2.901047], dtype=float32), array([2.9040709], dtype=float32), array([2.8637424], dtype=float32), array([2.873307], dtype=float32), array([2.8682346], dtype=float32), array([2.8501441], dtype=float32), array([2.8591387], dtype=float32), array([2.8581457], dtype=float32), array([2.8377082], dtype=float32), array([2.8308837], dtype=float32), array([2.8430705], dtype=float32), array([2.8447907], dtype=float32), array([2.8218782], dtype=float32), array([2.8290238], dtype=float32), array([2.8314776], dtype=float32), array([2.8438473], dtype=float32), array([2.850648], dtype=float32), array([2.8701408], dtype=float32), array([2.863159], dtype=float32), array([2.8553176], dtype=float32), array([2.8667989], dtype=float32), array([2.8871877], dtype=float32), array([2.8785298], dtype=float32), array([2.8904235], dtype=float32), array([2.8897917], dtype=float32), array([2.8751929], dtype=float32), array([2.861177], dtype=float32), array([2.8741255], dtype=float32), array([2.9365299], dtype=float32), array([2.9522262], dtype=float32), array([2.9475956], dtype=float32), array([2.9162695], dtype=float32), array([2.9243712], dtype=float32), array([2.934495], dtype=float32), array([2.9324021], dtype=float32), array([2.9540668], dtype=float32), array([2.9523802], dtype=float32), array([3.006168], dtype=float32), array([2.9974394], dtype=float32), array([2.997837], dtype=float32), array([2.986032], dtype=float32), array([2.9914684], dtype=float32), array([3.0170298], dtype=float32), array([3.0105462], dtype=float32), array([3.0221322], dtype=float32), array([3.0069442], dtype=float32), array([3.0184746], dtype=float32), array([3.019374], dtype=float32), array([3.0165186], dtype=float32), array([3.0202088], dtype=float32), array([2.990265], dtype=float32), array([2.9904401], dtype=float32), array([2.992426], dtype=float32), array([2.9892933], dtype=float32), array([2.9798925], dtype=float32), array([2.9787629], dtype=float32), array([2.9907105], dtype=float32), array([3.006081], dtype=float32), array([2.999944], dtype=float32), array([2.9771054], dtype=float32), array([2.9409204], dtype=float32), array([2.9178433], dtype=float32), array([2.9420798], dtype=float32), array([2.971415], dtype=float32), array([2.9836304], dtype=float32), array([2.969616], dtype=float32), array([2.9674215], dtype=float32), array([2.9634106], dtype=float32), array([3.0026455], dtype=float32), array([3.0081558], dtype=float32), array([2.994814], dtype=float32), array([3.0104523], dtype=float32), array([3.0371718], dtype=float32), array([3.0403194], dtype=float32), array([3.0371425], dtype=float32), array([3.02895], dtype=float32), array([3.0252976], dtype=float32), array([3.0191505], dtype=float32), array([3.0207176], dtype=float32), array([3.0227518], dtype=float32), array([3.00124], dtype=float32), array([3.0060294], dtype=float32), array([2.9768717], dtype=float32), array([2.9940133], dtype=float32), array([2.9885583], dtype=float32), array([2.977766], dtype=float32), array([3.000615], dtype=float32), array([3.0110836], dtype=float32), array([3.015373], dtype=float32), array([3.0131102], dtype=float32), array([3.0173922], dtype=float32), array([3.011179], dtype=float32), array([3.006444], dtype=float32), array([3.0232472], dtype=float32), array([2.98982], dtype=float32), array([2.994977], dtype=float32), array([3.0111492], dtype=float32), array([3.0096745], dtype=float32), array([2.9957752], dtype=float32), array([2.9902413], dtype=float32), array([2.987809], dtype=float32), array([2.9953887], dtype=float32), array([2.9906492], dtype=float32), array([2.9961307], dtype=float32), array([3.0062935], dtype=float32), array([3.0102816], dtype=float32), array([2.9918392], dtype=float32), array([2.99477], dtype=float32), array([3.0086436], dtype=float32), array([3.0055513], dtype=float32), array([3.0038571], dtype=float32), array([2.9805214], dtype=float32), array([2.9903107], dtype=float32), array([2.9815092], dtype=float32), array([2.990685], dtype=float32), array([2.989221], dtype=float32), array([3.0060797], dtype=float32), array([3.0045648], dtype=float32), array([2.9986506], dtype=float32), array([3.0091813], dtype=float32), array([3.00545], dtype=float32), array([3.0088878], dtype=float32), array([3.011929], dtype=float32), array([3.0111756], dtype=float32), array([3.0187395], dtype=float32), array([3.0148787], dtype=float32), array([3.017613], dtype=float32), array([3.0342665], dtype=float32), array([3.0833766], dtype=float32), array([3.0862658], dtype=float32), array([3.0918956], dtype=float32), array([3.0879924], dtype=float32), array([3.0884485], dtype=float32), array([3.0898874], dtype=float32), array([3.0820909], dtype=float32), array([3.0770807], dtype=float32), array([3.0799785], dtype=float32), array([3.0824616], dtype=float32), array([3.0853062], dtype=float32), array([3.0823255], dtype=float32), array([3.076654], dtype=float32), array([3.0837479], dtype=float32), array([3.0835261], dtype=float32), array([3.0657752], dtype=float32), array([3.064673], dtype=float32), array([3.0710433], dtype=float32), array([3.083011], dtype=float32), array([3.0782764], dtype=float32), array([3.0765219], dtype=float32), array([3.0831585], dtype=float32), array([3.0918133], dtype=float32), array([3.0861888], dtype=float32), array([3.095738], dtype=float32), array([3.1041842], dtype=float32), array([3.1271667], dtype=float32), array([3.1297545], dtype=float32), array([3.12259], dtype=float32), array([3.1215072], dtype=float32), array([3.1308212], dtype=float32), array([3.1281126], dtype=float32), array([3.1209106], dtype=float32), array([3.1261523], dtype=float32), array([3.1116047], dtype=float32), array([3.1114242], dtype=float32), array([3.0588613], dtype=float32), array([3.0439749], dtype=float32), array([3.0554621], dtype=float32), array([3.047424], dtype=float32), array([3.0473466], dtype=float32), array([3.0277243], dtype=float32), array([2.866446], dtype=float32), array([2.8285406], dtype=float32), array([2.8678954], dtype=float32), array([2.8156264], dtype=float32), array([2.8215973], dtype=float32), array([2.8003552], dtype=float32), array([2.809649], dtype=float32), array([2.7890234], dtype=float32), array([2.8063107], dtype=float32), array([2.8134098], dtype=float32), array([2.8292768], dtype=float32), array([2.8410459], dtype=float32), array([2.8352723], dtype=float32), array([2.7960284], dtype=float32), array([2.7947433], dtype=float32), array([2.769773], dtype=float32), array([2.7070057], dtype=float32), array([2.6966302], dtype=float32), array([2.7545013], dtype=float32), array([2.7709162], dtype=float32), array([2.7808456], dtype=float32), array([2.7740045], dtype=float32), array([2.7675865], dtype=float32), array([2.7732449], dtype=float32), array([2.7409265], dtype=float32), array([2.7598503], dtype=float32), array([2.7832897], dtype=float32), array([2.769267], dtype=float32), array([2.7878404], dtype=float32), array([2.783786], dtype=float32), array([2.757542], dtype=float32), array([2.7550662], dtype=float32), array([2.7930434], dtype=float32), array([2.7546396], dtype=float32), array([2.7728024], dtype=float32), array([2.7546318], dtype=float32), array([2.7327743], dtype=float32), array([2.7475705], dtype=float32), array([2.760137], dtype=float32), array([2.770094], dtype=float32), array([2.7582867], dtype=float32), array([2.7683249], dtype=float32), array([2.7687955], dtype=float32), array([2.7620873], dtype=float32), array([2.7609272], dtype=float32), array([2.771329], dtype=float32), array([2.7981234], dtype=float32), array([2.8126845], dtype=float32), array([2.8169577], dtype=float32), array([2.8220434], dtype=float32), array([2.8366935], dtype=float32), array([2.8074343], dtype=float32), array([2.7976873], dtype=float32), array([2.7923336], dtype=float32), array([2.7706234], dtype=float32), array([2.7830553], dtype=float32), array([2.7830997], dtype=float32), array([2.7745976], dtype=float32), array([2.7850811], dtype=float32), array([2.8076844], dtype=float32), array([2.793677], dtype=float32), array([2.7967715], dtype=float32), array([2.7871425], dtype=float32), array([2.7981448], dtype=float32), array([2.7773001], dtype=float32), array([2.762417], dtype=float32), array([2.7506096], dtype=float32), array([2.7658024], dtype=float32), array([2.7659893], dtype=float32), array([2.771333], dtype=float32), array([2.7416973], dtype=float32), array([2.737506], dtype=float32), array([2.690097], dtype=float32), array([2.7083032], dtype=float32), array([2.7097716], dtype=float32), array([2.7276914], dtype=float32), array([2.7253876], dtype=float32), array([2.7233498], dtype=float32), array([2.6833978], dtype=float32), array([2.6523104], dtype=float32), array([2.6433332], dtype=float32), array([2.6693954], dtype=float32), array([2.6943214], dtype=float32), array([2.7021484], dtype=float32), array([2.6980245], dtype=float32), array([2.6933281], dtype=float32), array([2.7029562], dtype=float32), array([2.706797], dtype=float32), array([2.702337], dtype=float32), array([2.6865737], dtype=float32), array([2.692634], dtype=float32), array([2.717254], dtype=float32), array([2.7310092], dtype=float32), array([2.722009], dtype=float32), array([2.7227275], dtype=float32), array([2.7268445], dtype=float32), array([2.7309616], dtype=float32), array([2.7227488], dtype=float32), array([2.7420878], dtype=float32), array([2.725763], dtype=float32), array([2.7272747], dtype=float32), array([2.705637], dtype=float32), array([2.7023664], dtype=float32), array([2.7061367], dtype=float32), array([2.6855965], dtype=float32), array([2.689774], dtype=float32), array([2.6734574], dtype=float32), array([2.6733909], dtype=float32), array([2.6971486], dtype=float32), array([2.6991718], dtype=float32), array([2.7008054], dtype=float32), array([2.7036984], dtype=float32), array([2.6907394], dtype=float32), array([2.7061868], dtype=float32), array([2.762387], dtype=float32), array([2.7451506], dtype=float32), array([2.7515304], dtype=float32), array([2.761363], dtype=float32), array([2.757814], dtype=float32), array([2.7509623], dtype=float32), array([2.7461567], dtype=float32), array([2.7466183], dtype=float32), array([2.7446518], dtype=float32), array([2.7464907], dtype=float32), array([2.7427309], dtype=float32), array([2.7423716], dtype=float32), array([2.6859696], dtype=float32), array([2.6983082], dtype=float32), array([2.7318635], dtype=float32), array([2.7503712], dtype=float32), array([2.7497149], dtype=float32), array([2.6904125], dtype=float32), array([2.6772172], dtype=float32), array([2.6539118], dtype=float32), array([2.6604333], dtype=float32), array([2.6592798], dtype=float32), array([2.663719], dtype=float32), array([2.6380115], dtype=float32), array([2.632699], dtype=float32), array([2.6402571], dtype=float32), array([2.6543703], dtype=float32), array([2.6665215], dtype=float32), array([2.6511784], dtype=float32), array([2.7662253], dtype=float32), array([2.609452], dtype=float32), array([2.6402369], dtype=float32), array([2.6407547], dtype=float32), array([2.6509273], dtype=float32), array([2.6591086], dtype=float32), array([2.663268], dtype=float32), array([2.694561], dtype=float32), array([2.689381], dtype=float32), array([2.6863978], dtype=float32), array([2.6776297], dtype=float32), array([2.6956687], dtype=float32), array([2.6929176], dtype=float32), array([2.6853297], dtype=float32), array([2.6959505], dtype=float32), array([2.6890864], dtype=float32), array([2.6995397], dtype=float32), array([2.7248898], dtype=float32), array([2.7341075], dtype=float32), array([2.7512968], dtype=float32), array([2.7423534], dtype=float32), array([2.756944], dtype=float32), array([2.7527158], dtype=float32), array([2.79319], dtype=float32), array([2.7843347], dtype=float32), array([2.7953596], dtype=float32), array([2.806904], dtype=float32), array([2.7967331], dtype=float32), array([2.805193], dtype=float32), array([2.7882135], dtype=float32), array([2.785305], dtype=float32), array([2.804597], dtype=float32), array([2.793103], dtype=float32), array([2.8295407], dtype=float32), array([2.8238938], dtype=float32), array([2.8284025], dtype=float32), array([2.82004], dtype=float32), array([2.8303864], dtype=float32), array([2.8232098], dtype=float32), array([2.8096797], dtype=float32), array([2.810321], dtype=float32), array([2.811847], dtype=float32), array([2.828547], dtype=float32), array([2.819814], dtype=float32), array([2.824527], dtype=float32), array([2.8565633], dtype=float32), array([2.8550606], dtype=float32), array([2.8443377], dtype=float32), array([2.8660388], dtype=float32), array([2.8764377], dtype=float32), array([2.9046211], dtype=float32), array([2.8889718], dtype=float32), array([2.885058], dtype=float32), array([2.8871775], dtype=float32), array([2.8905704], dtype=float32), array([2.878698], dtype=float32), array([2.8928335], dtype=float32), array([2.8988369], dtype=float32), array([2.8887062], dtype=float32), array([2.8729007], dtype=float32), array([2.8777003], dtype=float32), array([2.874371], dtype=float32), array([2.8550737], dtype=float32), array([2.896695], dtype=float32), array([2.8959522], dtype=float32), array([2.9031785], dtype=float32), array([2.9012527], dtype=float32), array([2.888001], dtype=float32), array([2.8769338], dtype=float32), array([2.8718104], dtype=float32), array([2.8761961], dtype=float32), array([2.8843055], dtype=float32), array([2.8469276], dtype=float32), array([2.854624], dtype=float32), array([2.8816485], dtype=float32), array([2.8784916], dtype=float32), array([2.841597], dtype=float32), array([2.8582475], dtype=float32), array([2.8453603], dtype=float32), array([2.8278258], dtype=float32), array([2.8592987], dtype=float32), array([2.859038], dtype=float32), array([2.8661304], dtype=float32), array([2.849696], dtype=float32), array([2.8861868], dtype=float32), array([2.8680243], dtype=float32), array([2.8790178], dtype=float32), array([2.8884041], dtype=float32), array([2.8890278], dtype=float32), array([2.8884], dtype=float32), array([2.8669763], dtype=float32), array([2.8790812], dtype=float32), array([2.8657699], dtype=float32), array([2.8484318], dtype=float32), array([2.842729], dtype=float32), array([2.8466566], dtype=float32), array([2.8311276], dtype=float32), array([2.8460443], dtype=float32), array([2.8482928], dtype=float32), array([2.8556132], dtype=float32), array([2.8311553], dtype=float32), array([2.8293698], dtype=float32), array([2.8498425], dtype=float32), array([2.8166397], dtype=float32), array([2.8353689], dtype=float32), array([2.8152456], dtype=float32), array([2.8391838], dtype=float32), array([2.84237], dtype=float32), array([2.8585694], dtype=float32), array([2.861102], dtype=float32), array([2.880679], dtype=float32), array([2.9072855], dtype=float32), array([2.9309392], dtype=float32), array([2.9254518], dtype=float32), array([2.9274921], dtype=float32), array([2.9293516], dtype=float32), array([2.9264405], dtype=float32), array([2.9223094], dtype=float32), array([2.90741], dtype=float32), array([2.9050813], dtype=float32), array([2.9082084], dtype=float32), array([2.9083543], dtype=float32), array([2.9030159], dtype=float32), array([2.8891463], dtype=float32), array([2.8974383], dtype=float32), array([2.8954334], dtype=float32), array([2.8942862], dtype=float32), array([2.8762379], dtype=float32), array([2.8714597], dtype=float32), array([2.8821077], dtype=float32), array([2.8990529], dtype=float32), array([2.8764856], dtype=float32), array([2.8731253], dtype=float32), array([2.8820744], dtype=float32), array([2.8733652], dtype=float32), array([2.8723853], dtype=float32), array([2.8821633], dtype=float32), array([2.8911648], dtype=float32), array([2.8928626], dtype=float32), array([2.8994024], dtype=float32), array([2.8911142], dtype=float32), array([2.8881235], dtype=float32), array([2.8420107], dtype=float32), array([2.8382745], dtype=float32), array([2.8396156], dtype=float32), array([2.855789], dtype=float32), array([2.8572059], dtype=float32), array([2.8506026], dtype=float32), array([2.8387175], dtype=float32), array([2.859232], dtype=float32), array([2.8415668], dtype=float32), array([2.856459], dtype=float32), array([2.847181], dtype=float32), array([2.8225188], dtype=float32), array([2.8341534], dtype=float32), array([2.8176668], dtype=float32), array([2.8335037], dtype=float32), array([2.7482846], dtype=float32), array([2.7230313], dtype=float32), array([2.7261882], dtype=float32), array([2.7314289], dtype=float32), array([2.7199101], dtype=float32), array([2.6629045], dtype=float32), array([2.67741], dtype=float32), array([2.663121], dtype=float32), array([2.6461732], dtype=float32), array([2.586817], dtype=float32), array([2.5742524], dtype=float32), array([2.6087136], dtype=float32), array([2.5913842], dtype=float32), array([2.5918705], dtype=float32), array([2.5916748], dtype=float32), array([2.6089883], dtype=float32), array([2.5640209], dtype=float32), array([2.596479], dtype=float32), array([2.5750332], dtype=float32), array([2.5763345], dtype=float32), array([2.5615997], dtype=float32), array([2.5411344], dtype=float32), array([2.452639], dtype=float32), array([2.522406], dtype=float32), array([2.5294163], dtype=float32), array([2.514526], dtype=float32), array([2.4904263], dtype=float32), array([2.50256], dtype=float32), array([2.5265522], dtype=float32), array([2.5573525], dtype=float32), array([2.555837], dtype=float32), array([2.5501325], dtype=float32), array([2.5742202], dtype=float32), array([2.5655231], dtype=float32), array([2.5539908], dtype=float32), array([2.5542486], dtype=float32), array([2.506396], dtype=float32), array([2.549077], dtype=float32), array([2.50252], dtype=float32), array([2.452282], dtype=float32), array([2.4793823], dtype=float32), array([2.4671443], dtype=float32), array([2.3969073], dtype=float32), array([2.4184632], dtype=float32), array([2.3639917], dtype=float32), array([2.3777435], dtype=float32), array([2.3908007], dtype=float32), array([2.4782472], dtype=float32), array([2.464521], dtype=float32), array([2.4700356], dtype=float32), array([2.460019], dtype=float32), array([2.4758658], dtype=float32), array([2.4996028], dtype=float32), array([2.5183215], dtype=float32), array([2.5012226], dtype=float32), array([2.5089257], dtype=float32), array([2.4916399], dtype=float32), array([2.4752955], dtype=float32), array([2.4895482], dtype=float32), array([2.501192], dtype=float32), array([2.4948578], dtype=float32), array([2.5594664], dtype=float32), array([2.5684862], dtype=float32), array([2.553847], dtype=float32), array([2.5525231], dtype=float32), array([2.5738952], dtype=float32), array([2.577653], dtype=float32), array([2.564421], dtype=float32), array([2.5827687], dtype=float32), array([2.5853608], dtype=float32), array([2.558641], dtype=float32), array([2.5877385], dtype=float32), array([2.5926602], dtype=float32), array([2.6200788], dtype=float32), array([2.6146002], dtype=float32), array([2.605025], dtype=float32), array([2.6341538], dtype=float32), array([2.6300776], dtype=float32), array([2.6033564], dtype=float32), array([2.610766], dtype=float32), array([2.5962722], dtype=float32), array([2.5870247], dtype=float32), array([2.5744672], dtype=float32), array([2.6106842], dtype=float32), array([2.617438], dtype=float32), array([2.5892634], dtype=float32), array([2.5906706], dtype=float32), array([2.6686602], dtype=float32), array([2.6646826], dtype=float32), array([2.667626], dtype=float32), array([2.660977], dtype=float32), array([2.6644382], dtype=float32), array([2.6726303], dtype=float32), array([2.6782753], dtype=float32), array([2.6619596], dtype=float32), array([2.6473236], dtype=float32), array([2.6444845], dtype=float32), array([2.6315322], dtype=float32), array([2.627536], dtype=float32), array([2.621553], dtype=float32), array([2.6139574], dtype=float32), array([2.6634865], dtype=float32), array([2.6416743], dtype=float32), array([2.498947], dtype=float32), array([2.483939], dtype=float32), array([2.4457471], dtype=float32), array([2.4229345], dtype=float32), array([2.4531384], dtype=float32), array([2.492614], dtype=float32), array([2.4533381], dtype=float32), array([2.4673917], dtype=float32), array([2.454806], dtype=float32), array([2.4706044], dtype=float32), array([2.4870777], dtype=float32), array([2.5341063], dtype=float32), array([2.5362504], dtype=float32), array([2.5466466], dtype=float32), array([2.5353527], dtype=float32), array([2.532353], dtype=float32), array([2.508105], dtype=float32), array([2.5032966], dtype=float32), array([2.519507], dtype=float32), array([2.5234392], dtype=float32), array([2.5025344], dtype=float32), array([2.520865], dtype=float32), array([2.493539], dtype=float32), array([2.5122943], dtype=float32), array([2.5110137], dtype=float32), array([2.515326], dtype=float32), array([2.500551], dtype=float32), array([2.49219], dtype=float32), array([2.5029216], dtype=float32), array([2.4926476], dtype=float32), array([2.5155106], dtype=float32), array([2.5123217], dtype=float32), array([2.5112944], dtype=float32), array([2.509203], dtype=float32), array([2.5163012], dtype=float32), array([2.5147758], dtype=float32), array([2.5170696], dtype=float32), array([2.5199826], dtype=float32), array([2.5172124], dtype=float32), array([2.510403], dtype=float32), array([2.49685], dtype=float32), array([2.474589], dtype=float32), array([2.4837916], dtype=float32), array([2.483493], dtype=float32), array([2.4721463], dtype=float32), array([2.4631083], dtype=float32), array([2.4150245], dtype=float32), array([2.4386892], dtype=float32), array([2.5586066], dtype=float32), array([2.5419369], dtype=float32), array([2.5462866], dtype=float32), array([2.5616212], dtype=float32), array([2.5657318], dtype=float32), array([2.5729594], dtype=float32), array([2.5752754], dtype=float32), array([2.5667794], dtype=float32), array([2.5608163], dtype=float32), array([2.5623672], dtype=float32), array([2.5647035], dtype=float32), array([2.5904865], dtype=float32), array([2.58261], dtype=float32), array([2.5335894], dtype=float32), array([2.5496855], dtype=float32), array([2.601272], dtype=float32), array([2.632572], dtype=float32), array([2.6235895], dtype=float32), array([2.6146164], dtype=float32), array([2.6150408], dtype=float32), array([2.621787], dtype=float32), array([2.5957754], dtype=float32), array([2.5920153], dtype=float32), array([2.6011453], dtype=float32), array([2.5807114], dtype=float32), array([2.593242], dtype=float32), array([2.5896773], dtype=float32), array([2.5752409], dtype=float32), array([2.5705688], dtype=float32), array([2.5486085], dtype=float32), array([2.5553575], dtype=float32), array([2.538652], dtype=float32), array([2.5378664], dtype=float32), array([2.5356078], dtype=float32), array([2.535083], dtype=float32), array([2.511384], dtype=float32), array([2.53932], dtype=float32), array([2.546498], dtype=float32), array([2.4778986], dtype=float32), array([2.4885337], dtype=float32), array([2.4976358], dtype=float32), array([2.4975834], dtype=float32), array([2.5029979], dtype=float32), array([2.5095532], dtype=float32), array([2.4950507], dtype=float32), array([2.481518], dtype=float32), array([2.4523332], dtype=float32), array([2.4573116], dtype=float32), array([2.4597285], dtype=float32), array([2.4548109], dtype=float32), array([2.4727583], dtype=float32), array([2.4541104], dtype=float32), array([2.4665775], dtype=float32), array([2.4350522], dtype=float32), array([2.4301891], dtype=float32), array([2.4168243], dtype=float32), array([2.4274902], dtype=float32), array([2.4380362], dtype=float32), array([2.4401915], dtype=float32), array([2.451693], dtype=float32), array([2.4583824], dtype=float32), array([2.4404635], dtype=float32), array([2.4046474], dtype=float32), array([2.4429555], dtype=float32), array([2.4405012], dtype=float32), array([2.4515996], dtype=float32), array([2.4852269], dtype=float32), array([2.4915009], dtype=float32), array([2.4958663], dtype=float32), array([2.5069838], dtype=float32), array([2.4945545], dtype=float32), array([2.507525], dtype=float32), array([2.504788], dtype=float32), array([2.480535], dtype=float32), array([2.4849715], dtype=float32), array([2.4892335], dtype=float32), array([2.4526126], dtype=float32), array([2.43642], dtype=float32), array([2.4164367], dtype=float32), array([2.4209316], dtype=float32), array([2.411171], dtype=float32), array([2.404546], dtype=float32), array([2.4099119], dtype=float32), array([2.418663], dtype=float32), array([2.4304597], dtype=float32), array([2.4903624], dtype=float32), array([2.543209], dtype=float32), array([2.5832896], dtype=float32), array([2.6009364], dtype=float32), array([2.5982835], dtype=float32), array([2.6007366], dtype=float32), array([2.5899074], dtype=float32), array([2.5820584], dtype=float32), array([2.5623682], dtype=float32), array([2.5645897], dtype=float32), array([2.5370133], dtype=float32), array([2.5497785], dtype=float32), array([2.5697367], dtype=float32), array([2.5432458], dtype=float32), array([2.5423942], dtype=float32), array([2.5435271], dtype=float32), array([2.5308244], dtype=float32), array([2.5571938], dtype=float32), array([2.6079078], dtype=float32), array([2.576335], dtype=float32), array([2.5700746], dtype=float32), array([2.59427], dtype=float32), array([2.5971231], dtype=float32), array([2.6021383], dtype=float32), array([2.59194], dtype=float32), array([2.5961556], dtype=float32), array([2.569138], dtype=float32), array([2.586363], dtype=float32), array([2.5836449], dtype=float32), array([2.6000614], dtype=float32), array([2.6085007], dtype=float32), array([2.6697745], dtype=float32), array([2.6825006], dtype=float32), array([2.6815794], dtype=float32), array([2.851718], dtype=float32), array([2.8883588], dtype=float32), array([2.869855], dtype=float32), array([2.847516], dtype=float32), array([2.8597314], dtype=float32), array([2.8710308], dtype=float32), array([2.8772995], dtype=float32), array([2.8741927], dtype=float32), array([2.8761647], dtype=float32), array([2.8911107], dtype=float32), array([2.8906908], dtype=float32), array([2.9032524], dtype=float32), array([2.8787985], dtype=float32), array([2.886642], dtype=float32), array([2.8647478], dtype=float32), array([2.8601885], dtype=float32), array([2.8565614], dtype=float32), array([2.8457267], dtype=float32), array([2.8481054], dtype=float32), array([2.8599179], dtype=float32), array([2.864248], dtype=float32), array([2.859747], dtype=float32), array([2.8606112], dtype=float32), array([2.8609483], dtype=float32), array([2.85543], dtype=float32), array([2.8609097], dtype=float32), array([2.8646996], dtype=float32), array([2.8717604], dtype=float32), array([2.8843997], dtype=float32), array([2.8728697], dtype=float32), array([2.8843193], dtype=float32), array([2.8762865], dtype=float32), array([2.875856], dtype=float32), array([2.8983202], dtype=float32), array([2.883382], dtype=float32), array([2.890944], dtype=float32), array([2.8851988], dtype=float32), array([2.860382], dtype=float32), array([2.835923], dtype=float32), array([2.8507757], dtype=float32), array([2.8568254], dtype=float32), array([2.8737938], dtype=float32), array([2.872026], dtype=float32), array([2.8799038], dtype=float32), array([2.879435], dtype=float32), array([2.8760717], dtype=float32), array([2.8717756], dtype=float32), array([2.8729286], dtype=float32), array([2.8719742], dtype=float32), array([2.882141], dtype=float32), array([2.8810992], dtype=float32), array([2.8866267], dtype=float32), array([2.8806033], dtype=float32), array([2.8753963], dtype=float32), array([2.884529], dtype=float32), array([2.9399996], dtype=float32), array([2.934616], dtype=float32), array([2.9318204], dtype=float32), array([2.9098756], dtype=float32), array([2.871846], dtype=float32), array([2.8837597], dtype=float32), array([2.8956802], dtype=float32), array([2.8733897], dtype=float32), array([2.8671274], dtype=float32), array([2.8584309], dtype=float32), array([2.8456194], dtype=float32), array([2.862013], dtype=float32), array([2.863756], dtype=float32), array([2.8603466], dtype=float32), array([2.868739], dtype=float32), array([2.8591485], dtype=float32), array([2.8652742], dtype=float32), array([2.8589842], dtype=float32), array([2.8577466], dtype=float32), array([2.8652816], dtype=float32), array([2.8923748], dtype=float32), array([2.8496494], dtype=float32), array([2.8688731], dtype=float32), array([2.9214685], dtype=float32), array([2.9687753], dtype=float32), array([2.9681315], dtype=float32), array([2.9721043], dtype=float32), array([2.951087], dtype=float32), array([2.9470305], dtype=float32), array([2.9434373], dtype=float32), array([2.9597683], dtype=float32), array([2.9746034], dtype=float32), array([2.9563313], dtype=float32), array([2.959054], dtype=float32), array([2.9570441], dtype=float32), array([2.9491072], dtype=float32), array([2.9562526], dtype=float32), array([2.9545603], dtype=float32), array([2.9652913], dtype=float32), array([2.9905193], dtype=float32), array([3.011502], dtype=float32), array([2.9973776], dtype=float32), array([2.9913568], dtype=float32), array([2.9989538], dtype=float32), array([3.0112557], dtype=float32), array([2.9903073], dtype=float32), array([2.986545], dtype=float32), array([3.0026116], dtype=float32), array([3.0052018], dtype=float32), array([3.0287347], dtype=float32), array([3.0586662], dtype=float32), array([3.0737603], dtype=float32), array([3.086214], dtype=float32), array([3.0684712], dtype=float32), array([3.0746264], dtype=float32), array([3.0665138], dtype=float32), array([3.0640094], dtype=float32), array([3.074305], dtype=float32), array([3.0721989], dtype=float32), array([3.0619147], dtype=float32), array([3.069715], dtype=float32), array([3.0697048], dtype=float32), array([3.0667262], dtype=float32), array([3.0294218], dtype=float32), array([3.0305746], dtype=float32), array([3.0538225], dtype=float32), array([3.062478], dtype=float32), array([3.131218], dtype=float32), array([3.1893945], dtype=float32), array([3.2130075], dtype=float32), array([3.2313857], dtype=float32), array([3.2279916], dtype=float32), array([3.215125], dtype=float32), array([3.2093902], dtype=float32), array([3.2254424], dtype=float32), array([3.2168012], dtype=float32), array([3.21901], dtype=float32), array([3.2187424], dtype=float32), array([3.224871], dtype=float32), array([3.2041888], dtype=float32), array([3.2042031], dtype=float32), array([3.2160192], dtype=float32), array([3.2085495], dtype=float32), array([3.219617], dtype=float32), array([3.2093625], dtype=float32), array([3.2054853], dtype=float32), array([3.2158694], dtype=float32), array([3.2107673], dtype=float32), array([3.2031026], dtype=float32), array([3.1888583], dtype=float32), array([3.2059417], dtype=float32), array([3.193589], dtype=float32), array([3.2167125], dtype=float32), array([3.1855402], dtype=float32), array([3.1916206], dtype=float32), array([3.2005477], dtype=float32), array([3.2029955], dtype=float32), array([3.1904378], dtype=float32), array([3.1931274], dtype=float32), array([3.2014232], dtype=float32), array([3.2055855], dtype=float32), array([3.189611], dtype=float32), array([3.184701], dtype=float32), array([3.1972322], dtype=float32), array([3.2045636], dtype=float32), array([3.1853223], dtype=float32), array([3.1833513], dtype=float32), array([3.1860263], dtype=float32), array([3.198107], dtype=float32), array([3.1942563], dtype=float32), array([3.2223322], dtype=float32), array([3.2598476], dtype=float32), array([3.2394104], dtype=float32), array([3.2475436], dtype=float32), array([3.238618], dtype=float32), array([3.225196], dtype=float32), array([3.1979425], dtype=float32), array([3.2121527], dtype=float32), array([3.2017615], dtype=float32), array([3.2001169], dtype=float32), array([3.1981046], dtype=float32), array([3.2078762], dtype=float32), array([3.2153435], dtype=float32), array([3.1897178], dtype=float32), array([3.196889], dtype=float32), array([3.1943529], dtype=float32), array([3.191973], dtype=float32), array([3.2033536], dtype=float32), array([3.1945758], dtype=float32), array([3.2009196], dtype=float32), array([3.2164254], dtype=float32), array([3.2219968], dtype=float32), array([3.2176943], dtype=float32), array([3.226229], dtype=float32), array([3.2291625], dtype=float32), array([3.2214618], dtype=float32), array([3.2268124], dtype=float32), array([3.225787], dtype=float32), array([3.221868], dtype=float32), array([3.2277703], dtype=float32), array([3.2376285], dtype=float32), array([3.2335513], dtype=float32), array([3.227147], dtype=float32), array([3.2206836], dtype=float32), array([3.2255898], dtype=float32), array([3.2250943], dtype=float32), array([3.2161212], dtype=float32), array([3.2165155], dtype=float32), array([3.2244725], dtype=float32), array([3.2270632], dtype=float32), array([3.229175], dtype=float32), array([3.2280197], dtype=float32), array([3.2091885], dtype=float32), array([3.2189393], dtype=float32), array([3.2348971], dtype=float32), array([3.2665994], dtype=float32), array([3.2574272], dtype=float32), array([3.256204], dtype=float32), array([3.258432], dtype=float32), array([3.2558644], dtype=float32), array([3.2329097], dtype=float32), array([3.2332141], dtype=float32), array([3.2378385], dtype=float32), array([3.230117], dtype=float32), array([3.2393115], dtype=float32), array([3.2355614], dtype=float32), array([3.2459426], dtype=float32), array([3.2495172], dtype=float32), array([3.2459369], dtype=float32), array([3.245181], dtype=float32), array([3.2512608], dtype=float32), array([3.2511501], dtype=float32), array([3.2279978], dtype=float32), array([3.2320313], dtype=float32), array([3.2228355], dtype=float32), array([3.2420158], dtype=float32), array([3.2470229], dtype=float32), array([3.2650597], dtype=float32), array([3.2906437], dtype=float32), array([3.29012], dtype=float32), array([3.292424], dtype=float32), array([3.297834], dtype=float32), array([3.302653], dtype=float32), array([3.2934432], dtype=float32), array([3.2903712], dtype=float32), array([3.2787285], dtype=float32), array([3.2867196], dtype=float32), array([3.2878914], dtype=float32), array([3.3157127], dtype=float32), array([3.323969], dtype=float32), array([3.3271189], dtype=float32), array([3.320232], dtype=float32), array([3.3275287], dtype=float32), array([3.3261447], dtype=float32), array([3.3325267], dtype=float32), array([3.3273687], dtype=float32), array([3.3227944], dtype=float32), array([3.3238912], dtype=float32), array([3.3358436], dtype=float32), array([3.3174515], dtype=float32), array([3.322052], dtype=float32), array([3.3120315], dtype=float32), array([3.3115935], dtype=float32), array([3.3202], dtype=float32), array([3.3377118], dtype=float32), array([3.3306735], dtype=float32), array([3.3365164], dtype=float32), array([3.3417978], dtype=float32), array([3.3246984], dtype=float32), array([3.3323936], dtype=float32), array([3.3345563], dtype=float32), array([3.3221424], dtype=float32), array([3.322668], dtype=float32), array([3.3030722], dtype=float32), array([3.299581], dtype=float32), array([3.2839699], dtype=float32), array([3.284513], dtype=float32), array([3.2710547], dtype=float32), array([3.262254], dtype=float32), array([3.2625747], dtype=float32), array([3.289432], dtype=float32), array([3.3010406], dtype=float32), array([3.2864532], dtype=float32), array([3.3028557], dtype=float32), array([3.2975805], dtype=float32), array([3.3025713], dtype=float32), array([3.2949467], dtype=float32), array([3.287489], dtype=float32), array([3.2475538], dtype=float32), array([3.2585287], dtype=float32), array([3.229308], dtype=float32), array([3.228539], dtype=float32), array([3.2352064], dtype=float32), array([3.2274022], dtype=float32), array([3.2468653], dtype=float32), array([3.2412324], dtype=float32), array([3.2365625], dtype=float32), array([3.2694182], dtype=float32), array([3.285491], dtype=float32), array([3.314213], dtype=float32), array([3.3114545], dtype=float32), array([3.3152766], dtype=float32), array([3.3240912], dtype=float32), array([3.3136039], dtype=float32), array([3.3298044], dtype=float32), array([3.3230796], dtype=float32), array([3.322109], dtype=float32), array([3.3329341], dtype=float32), array([3.3545353], dtype=float32), array([3.351561], dtype=float32), array([3.3471096], dtype=float32), array([3.3459425], dtype=float32), array([3.3480804], dtype=float32), array([3.3393664], dtype=float32), array([3.3301451], dtype=float32), array([3.3350716], dtype=float32), array([3.336074], dtype=float32), array([3.3465967], dtype=float32), array([3.3466907], dtype=float32), array([3.3467531], dtype=float32), array([3.3421657], dtype=float32), array([3.343236], dtype=float32), array([3.34199], dtype=float32), array([3.3348007], dtype=float32), array([3.3374581], dtype=float32), array([3.3685324], dtype=float32), array([3.3619576], dtype=float32), array([3.3468728], dtype=float32), array([3.357257], dtype=float32), array([3.353222], dtype=float32), array([3.3437014], dtype=float32), array([3.3310895], dtype=float32), array([3.3385413], dtype=float32), array([3.4063578], dtype=float32), array([3.4206884], dtype=float32), array([3.4273906], dtype=float32), array([3.425384], dtype=float32), array([3.433093], dtype=float32), array([3.4170332], dtype=float32), array([3.4056168], dtype=float32), array([3.4203048], dtype=float32), array([3.4185147], dtype=float32), array([3.4274042], dtype=float32), array([3.4179263], dtype=float32), array([3.4471755], dtype=float32), array([3.4539933], dtype=float32), array([3.4557047], dtype=float32), array([3.5166326], dtype=float32), array([3.537137], dtype=float32), array([3.5367243], dtype=float32), array([3.5295906], dtype=float32), array([3.5874593], dtype=float32), array([3.5302386], dtype=float32), array([3.534607], dtype=float32), array([3.551746], dtype=float32), array([3.5485556], dtype=float32), array([3.5444422], dtype=float32), array([3.5569568], dtype=float32), array([3.5635524], dtype=float32), array([3.5713992], dtype=float32), array([3.5936172], dtype=float32), array([3.5859172], dtype=float32), array([3.584239], dtype=float32), array([3.5778174], dtype=float32), array([3.5767593], dtype=float32), array([3.583568], dtype=float32), array([3.5884728], dtype=float32), array([3.5473006], dtype=float32), array([3.5618227], dtype=float32), array([3.556331], dtype=float32), array([3.5592933], dtype=float32), array([3.5427506], dtype=float32), array([3.5408394], dtype=float32), array([3.5608916], dtype=float32), array([3.551128], dtype=float32), array([3.5585842], dtype=float32), array([3.5415695], dtype=float32), array([3.5472732], dtype=float32), array([3.5489192], dtype=float32), array([3.550213], dtype=float32), array([3.5551848], dtype=float32), array([3.5554185], dtype=float32), array([3.5550313], dtype=float32), array([3.544508], dtype=float32), array([3.5317302], dtype=float32), array([3.5312853], dtype=float32), array([3.5156767], dtype=float32), array([3.5288992], dtype=float32), array([3.5528502], dtype=float32), array([3.5500236], dtype=float32), array([3.540664], dtype=float32), array([3.5376382], dtype=float32), array([3.5459685], dtype=float32), array([3.5459785], dtype=float32), array([3.5341663], dtype=float32), array([3.5427442], dtype=float32), array([3.54595], dtype=float32), array([3.5437815], dtype=float32), array([3.5227757], dtype=float32), array([3.4767349], dtype=float32), array([3.525757], dtype=float32), array([3.5559297], dtype=float32), array([3.5689378], dtype=float32), array([3.6127126], dtype=float32), array([3.6002927], dtype=float32), array([3.6030679], dtype=float32), array([3.6037054], dtype=float32), array([3.6189244], dtype=float32), array([3.6185248], dtype=float32), array([3.6131139], dtype=float32), array([3.5949316], dtype=float32), array([3.5918803], dtype=float32), array([3.565973], dtype=float32), array([3.5693436], dtype=float32), array([3.5521526], dtype=float32), array([3.5394835], dtype=float32), array([3.5958087], dtype=float32), array([3.6134856], dtype=float32), array([3.6119308], dtype=float32), array([3.603579], dtype=float32), array([3.6044712], dtype=float32), array([3.6118941], dtype=float32), array([3.5916977], dtype=float32), array([3.5857477], dtype=float32), array([3.6062872], dtype=float32), array([3.620729], dtype=float32), array([3.615787], dtype=float32), array([3.6067643], dtype=float32), array([3.6054862], dtype=float32), array([3.6015308], dtype=float32), array([3.6441708], dtype=float32), array([3.6368012], dtype=float32), array([3.6404076], dtype=float32), array([3.6259146], dtype=float32), array([3.6343699], dtype=float32), array([3.6476402], dtype=float32), array([3.62848], dtype=float32), array([3.6337729], dtype=float32), array([3.6287272], dtype=float32), array([3.635211], dtype=float32), array([3.655011], dtype=float32), array([3.6534495], dtype=float32), array([3.6474261], dtype=float32), array([3.692086], dtype=float32), array([3.7111692], dtype=float32), array([3.7154691], dtype=float32), array([3.7639766], dtype=float32), array([3.7671187], dtype=float32), array([3.7674139], dtype=float32), array([3.7691875], dtype=float32), array([3.78738], dtype=float32), array([3.7758143], dtype=float32), array([3.76179], dtype=float32), array([3.7617574], dtype=float32), array([3.7687292], dtype=float32), array([3.7849183], dtype=float32), array([3.7716928], dtype=float32), array([3.77785], dtype=float32), array([3.7953029], dtype=float32), array([3.804014], dtype=float32), array([3.806802], dtype=float32), array([3.798327], dtype=float32), array([3.7994385], dtype=float32), array([3.843615], dtype=float32), array([3.9869351], dtype=float32), array([4.061428], dtype=float32), array([4.0908804], dtype=float32), array([4.0557857], dtype=float32), array([4.0565715], dtype=float32), array([4.0878243], dtype=float32), array([4.067933], dtype=float32), array([4.030657], dtype=float32), array([4.0149817], dtype=float32), array([4.0302563], dtype=float32), array([4.046414], dtype=float32), array([4.0185537], dtype=float32), array([3.9694958], dtype=float32), array([3.97095], dtype=float32), array([3.9899204], dtype=float32), array([3.9942613], dtype=float32), array([3.9786885], dtype=float32), array([3.9702404], dtype=float32), array([4.011899], dtype=float32), array([4.092573], dtype=float32), array([4.12982], dtype=float32), array([4.0709], dtype=float32), array([3.9960063], dtype=float32), array([4.010941], dtype=float32), array([3.9785616], dtype=float32), array([3.8793612], dtype=float32), array([3.8179028], dtype=float32), array([3.7991114], dtype=float32), array([3.7716398], dtype=float32), array([3.7776403], dtype=float32), array([3.7749066], dtype=float32), array([3.7621808], dtype=float32), array([3.7618413], dtype=float32), array([3.7385995], dtype=float32), array([3.7187147], dtype=float32), array([3.7491207], dtype=float32), array([3.7313676], dtype=float32), array([3.7417045], dtype=float32), array([3.7601938], dtype=float32), array([3.74469], dtype=float32), array([3.7354822], dtype=float32), array([3.7116551], dtype=float32), array([3.7458897], dtype=float32), array([3.7536883], dtype=float32), array([3.732919], dtype=float32), array([3.7216578], dtype=float32), array([3.7330842], dtype=float32), array([3.7500334], dtype=float32), array([3.6772902], dtype=float32), array([3.6306148], dtype=float32), array([3.586678], dtype=float32), array([3.6076367], dtype=float32), array([3.5761414], dtype=float32), array([3.57575], dtype=float32), array([3.5908782], dtype=float32), array([3.5781527], dtype=float32), array([3.5597217], dtype=float32), array([3.5679626], dtype=float32), array([3.5693202], dtype=float32), array([3.5894718], dtype=float32), array([3.578781], dtype=float32), array([3.5810533], dtype=float32), array([3.582045], dtype=float32), array([3.5754986], dtype=float32), array([3.5628946], dtype=float32), array([3.5612268], dtype=float32), array([3.5499341], dtype=float32), array([3.5550842], dtype=float32), array([3.5336761], dtype=float32), array([3.5082633], dtype=float32), array([3.568843], dtype=float32), array([3.5701156], dtype=float32), array([3.5604482], dtype=float32), array([3.5452282], dtype=float32), array([3.5682435], dtype=float32), array([3.5549717], dtype=float32), array([3.558998], dtype=float32), array([3.5614104], dtype=float32), array([3.5498118], dtype=float32), array([3.5540652], dtype=float32), array([3.5501385], dtype=float32), array([3.5499249], dtype=float32), array([3.5614495], dtype=float32), array([3.5531268], dtype=float32), array([3.5490096], dtype=float32), array([3.557095], dtype=float32), array([3.5609071], dtype=float32), array([3.5503092], dtype=float32), array([3.5457134], dtype=float32), array([3.5373654], dtype=float32), array([3.536711], dtype=float32), array([3.528764], dtype=float32), array([3.540163], dtype=float32), array([3.5453467], dtype=float32), array([3.5169177], dtype=float32), array([3.519799], dtype=float32), array([3.5254283], dtype=float32), array([3.5079515], dtype=float32), array([3.494702], dtype=float32), array([3.51472], dtype=float32), array([3.5131238], dtype=float32), array([3.50309], dtype=float32), array([3.5236373], dtype=float32), array([3.5484872], dtype=float32), array([3.5401616], dtype=float32), array([3.5356512], dtype=float32), array([3.5327067], dtype=float32), array([3.5776849], dtype=float32), array([3.5739841], dtype=float32), array([3.5841475], dtype=float32), array([3.589905], dtype=float32), array([3.592309], dtype=float32), array([3.581224], dtype=float32), array([3.5905936], dtype=float32), array([3.62441], dtype=float32), array([3.6312227], dtype=float32), array([3.6336837], dtype=float32), array([3.6393752], dtype=float32), array([3.6438932], dtype=float32), array([3.6458213], dtype=float32), array([3.6772516], dtype=float32), array([3.6888545], dtype=float32), array([3.7100527], dtype=float32), array([3.715535], dtype=float32), array([3.6912146], dtype=float32), array([3.6961122], dtype=float32), array([3.6752975], dtype=float32), array([3.670957], dtype=float32), array([3.6863039], dtype=float32), array([3.7010136], dtype=float32), array([3.7070827], dtype=float32), array([3.7109494], dtype=float32), array([3.6915107], dtype=float32), array([3.6946614], dtype=float32), array([3.6976018], dtype=float32), array([3.6820295], dtype=float32), array([3.6773882], dtype=float32), array([3.6753397], dtype=float32), array([3.6787362], dtype=float32), array([3.6996365], dtype=float32), array([3.690761], dtype=float32), array([3.7088304], dtype=float32), array([3.694042], dtype=float32), array([3.679338], dtype=float32), array([3.661159], dtype=float32), array([3.6449676], dtype=float32), array([3.6739333], dtype=float32), array([3.6489892], dtype=float32), array([3.668048], dtype=float32), array([3.6593087], dtype=float32), array([3.6433742], dtype=float32), array([3.64503], dtype=float32), array([3.581503], dtype=float32), array([3.5546327], dtype=float32), array([3.5521255], dtype=float32), array([3.5670881], dtype=float32), array([3.5550086], dtype=float32), array([3.5472524], dtype=float32), array([3.5587656], dtype=float32), array([3.58114], dtype=float32), array([3.5664027], dtype=float32), array([3.5531683], dtype=float32), array([3.5178454], dtype=float32), array([3.485457], dtype=float32), array([3.468496], dtype=float32), array([3.4650888], dtype=float32), array([3.445558], dtype=float32), array([3.4589858], dtype=float32), array([3.4549897], dtype=float32), array([3.4587827], dtype=float32), array([3.4416926], dtype=float32), array([3.4420433], dtype=float32), array([3.4402514], dtype=float32), array([3.4326286], dtype=float32), array([3.4423885], dtype=float32), array([3.4334867], dtype=float32), array([3.4268541], dtype=float32), array([3.4241586], dtype=float32), array([3.4100509], dtype=float32), array([3.401175], dtype=float32), array([3.4238539], dtype=float32), array([3.4226582], dtype=float32), array([3.4175057], dtype=float32), array([3.413694], dtype=float32), array([3.4244905], dtype=float32), array([3.4234102], dtype=float32), array([3.4212267], dtype=float32), array([3.4834738], dtype=float32), array([3.5073047], dtype=float32), array([3.5077834], dtype=float32), array([3.5040145], dtype=float32), array([3.5131173], dtype=float32), array([3.5360734], dtype=float32), array([3.534399], dtype=float32), array([3.5171096], dtype=float32), array([3.5192094], dtype=float32), array([3.520389], dtype=float32), array([3.4805698], dtype=float32), array([3.5294707], dtype=float32), array([3.5380175], dtype=float32), array([3.5141168], dtype=float32), array([3.5050614], dtype=float32), array([3.513847], dtype=float32), array([3.5539484], dtype=float32), array([3.557043], dtype=float32), array([3.5690618], dtype=float32), array([3.5750103], dtype=float32), array([3.5738487], dtype=float32), array([3.5504425], dtype=float32), array([3.5676079], dtype=float32), array([3.5321915], dtype=float32), array([3.547811], dtype=float32), array([3.541655], dtype=float32), array([3.5507612], dtype=float32), array([3.544557], dtype=float32), array([3.5471838], dtype=float32), array([3.561381], dtype=float32), array([3.5605714], dtype=float32), array([3.612901], dtype=float32), array([3.6317983], dtype=float32), array([3.6245317], dtype=float32), array([3.6077583], dtype=float32), array([3.6339746], dtype=float32), array([3.6266108], dtype=float32), array([3.625313], dtype=float32), array([3.6221921], dtype=float32), array([3.621586], dtype=float32), array([3.6049147], dtype=float32), array([3.6098561], dtype=float32), array([3.6045952], dtype=float32), array([3.5972092], dtype=float32), array([3.5884476], dtype=float32), array([3.5938835], dtype=float32), array([3.6071272], dtype=float32), array([3.6001303], dtype=float32), array([3.5881834], dtype=float32), array([3.5929837], dtype=float32), array([3.6140237], dtype=float32), array([3.6035726], dtype=float32), array([3.6041784], dtype=float32), array([3.6000402], dtype=float32), array([3.5812743], dtype=float32), array([3.587758], dtype=float32), array([3.5804846], dtype=float32), array([3.5864081], dtype=float32), array([3.5913005], dtype=float32), array([3.5994833], dtype=float32), array([3.5941489], dtype=float32), array([3.5833592], dtype=float32), array([3.5878167], dtype=float32), array([3.6034596], dtype=float32), array([3.6300187], dtype=float32), array([3.6197119], dtype=float32), array([3.598586], dtype=float32), array([3.596261], dtype=float32), array([3.583208], dtype=float32), array([3.5758166], dtype=float32), array([3.575251], dtype=float32), array([3.5785174], dtype=float32), array([3.551974], dtype=float32), array([3.5452914], dtype=float32), array([3.550096], dtype=float32), array([3.5366702], dtype=float32), array([3.5267684], dtype=float32), array([3.5291965], dtype=float32), array([3.5324836], dtype=float32), array([3.5323143], dtype=float32), array([3.5401223], dtype=float32), array([3.5369623], dtype=float32), array([3.5399108], dtype=float32), array([3.5375278], dtype=float32), array([3.546719], dtype=float32), array([3.569129], dtype=float32), array([3.5646205], dtype=float32), array([3.5596805], dtype=float32), array([3.5704176], dtype=float32), array([3.5584574], dtype=float32), array([3.523924], dtype=float32), array([3.4957023], dtype=float32), array([3.5188453], dtype=float32), array([3.5236425], dtype=float32), array([3.527982], dtype=float32), array([3.5946631], dtype=float32), array([3.586783], dtype=float32), array([3.5915065], dtype=float32), array([3.6069236], dtype=float32), array([3.5909996], dtype=float32), array([3.592003], dtype=float32), array([3.5969348], dtype=float32), array([3.5751214], dtype=float32), array([3.5782647], dtype=float32), array([3.554689], dtype=float32), array([3.5430264], dtype=float32), array([3.5323083], dtype=float32), array([3.572921], dtype=float32), array([3.5392613], dtype=float32), array([3.5412283], dtype=float32), array([3.5567436], dtype=float32), array([3.5532699], dtype=float32), array([3.5534425], dtype=float32), array([3.5714328], dtype=float32), array([3.5545318], dtype=float32), array([3.561092], dtype=float32), array([3.5756643], dtype=float32), array([3.593013], dtype=float32), array([3.5917835], dtype=float32), array([3.578802], dtype=float32), array([3.579945], dtype=float32), array([3.6564994], dtype=float32), array([3.667574], dtype=float32), array([3.6524844], dtype=float32), array([3.656454], dtype=float32), array([3.6844602], dtype=float32), array([3.684092], dtype=float32), array([3.72571], dtype=float32), array([3.7084618], dtype=float32), array([3.7013576], dtype=float32), array([3.6920342], dtype=float32), array([3.7169461], dtype=float32), array([3.6929302], dtype=float32), array([3.6907349], dtype=float32), array([3.690001], dtype=float32), array([3.7132645], dtype=float32), array([3.733607], dtype=float32), array([3.7174027], dtype=float32), array([3.7226985], dtype=float32), array([3.7303402], dtype=float32), array([3.7077155], dtype=float32), array([3.723803], dtype=float32), array([3.712232], dtype=float32), array([3.7489634], dtype=float32), array([3.722108], dtype=float32), array([3.7417407], dtype=float32), array([3.73015], dtype=float32), array([3.7312384], dtype=float32), array([3.6905441], dtype=float32), array([3.6535635], dtype=float32), array([3.6569297], dtype=float32), array([3.6679108], dtype=float32), array([3.662364], dtype=float32), array([3.6778731], dtype=float32), array([3.7182722], dtype=float32), array([3.699731], dtype=float32), array([3.6938016], dtype=float32), array([3.715447], dtype=float32), array([3.6989896], dtype=float32), array([3.7017627], dtype=float32), array([3.6955576], dtype=float32), array([3.667646], dtype=float32), array([3.6756525], dtype=float32), array([3.6679208], dtype=float32), array([3.681137], dtype=float32), array([3.6626081], dtype=float32), array([3.666224], dtype=float32), array([3.6339936], dtype=float32), array([3.6212876], dtype=float32), array([3.6281636], dtype=float32), array([3.6342645], dtype=float32), array([3.6102576], dtype=float32), array([3.629931], dtype=float32), array([3.642539], dtype=float32), array([3.6257777], dtype=float32), array([3.5868611], dtype=float32), array([3.5909877], dtype=float32), array([3.575193], dtype=float32), array([3.5661144], dtype=float32), array([3.585158], dtype=float32), array([3.587821], dtype=float32), array([3.5870385], dtype=float32), array([3.5749016], dtype=float32), array([3.585892], dtype=float32), array([3.5600457], dtype=float32), array([3.60111], dtype=float32), array([3.5917258], dtype=float32), array([3.6209466], dtype=float32), array([3.6124947], dtype=float32), array([3.6193404], dtype=float32), array([3.6174388], dtype=float32), array([3.6160922], dtype=float32), array([3.6179748], dtype=float32), array([3.593816], dtype=float32), array([3.586883], dtype=float32), array([3.571846], dtype=float32), array([3.5834632], dtype=float32), array([3.5965204], dtype=float32), array([3.5736704], dtype=float32), array([3.5519264], dtype=float32), array([3.5574849], dtype=float32), array([3.5628812], dtype=float32), array([3.572834], dtype=float32), array([3.5672507], dtype=float32), array([3.560454], dtype=float32), array([3.5669785], dtype=float32), array([3.5661747], dtype=float32), array([3.5593648], dtype=float32), array([3.5681348], dtype=float32), array([3.5673132], dtype=float32), array([3.5565085], dtype=float32), array([3.5603883], dtype=float32), array([3.5633545], dtype=float32), array([3.5728345], dtype=float32), array([3.5634847], dtype=float32), array([3.5419803], dtype=float32), array([3.550622], dtype=float32), array([3.5465765], dtype=float32), array([3.526781], dtype=float32), array([3.5174994], dtype=float32), array([3.5147145], dtype=float32), array([3.526629], dtype=float32), array([3.528069], dtype=float32), array([3.5299394], dtype=float32), array([3.5287158], dtype=float32), array([3.5324645], dtype=float32), array([3.534802], dtype=float32), array([3.5534277], dtype=float32), array([3.5520675], dtype=float32), array([3.563009], dtype=float32), array([3.5614238], dtype=float32), array([3.567041], dtype=float32), array([3.5877252], dtype=float32), array([3.5852737], dtype=float32), array([3.5880556], dtype=float32), array([3.5989475], dtype=float32), array([3.6035118], dtype=float32), array([3.5924044], dtype=float32), array([3.5870728], dtype=float32), array([3.586127], dtype=float32), array([3.5844872], dtype=float32), array([3.5995502], dtype=float32), array([3.5997276], dtype=float32), array([3.6017125], dtype=float32), array([3.5966802], dtype=float32), array([3.6031485], dtype=float32), array([3.6020136], dtype=float32), array([3.611588], dtype=float32), array([3.6182227], dtype=float32), array([3.641367], dtype=float32), array([3.642718], dtype=float32), array([3.6354442], dtype=float32), array([3.6566236], dtype=float32), array([3.6692114], dtype=float32), array([3.6699066], dtype=float32), array([3.6953154], dtype=float32), array([3.811945], dtype=float32), array([3.8267035], dtype=float32), array([3.831096], dtype=float32), array([3.843348], dtype=float32), array([3.852017], dtype=float32), array([3.8774037], dtype=float32), array([3.9207697], dtype=float32), array([3.9313223], dtype=float32), array([3.9651418], dtype=float32), array([3.9631076], dtype=float32), array([3.9719834], dtype=float32), array([3.9847746], dtype=float32), array([3.9778843], dtype=float32), array([3.9533281], dtype=float32), array([3.9591386], dtype=float32), array([4.0681944], dtype=float32), array([4.0434937], dtype=float32), array([4.05788], dtype=float32), array([4.0632505], dtype=float32), array([4.072937], dtype=float32), array([4.0988774], dtype=float32), array([4.1156616], dtype=float32), array([4.1634197], dtype=float32), array([4.287621], dtype=float32), array([4.3117933], dtype=float32), array([4.308899], dtype=float32), array([4.3278046], dtype=float32), array([4.4531913], dtype=float32), array([4.434656], dtype=float32), array([4.4197507], dtype=float32), array([4.4139776], dtype=float32), array([4.4061627], dtype=float32), array([4.4397364], dtype=float32), array([4.470293], dtype=float32), array([4.432127], dtype=float32), array([4.4121947], dtype=float32), array([4.4180646], dtype=float32), array([4.501874], dtype=float32), array([4.417116], dtype=float32), array([4.3512716], dtype=float32), array([4.343799], dtype=float32), array([4.367912], dtype=float32), array([4.3325295], dtype=float32), array([4.36387], dtype=float32), array([4.4366646], dtype=float32), array([4.493519], dtype=float32), array([4.4363236], dtype=float32), array([4.3871017], dtype=float32), array([4.38809], dtype=float32), array([4.386794], dtype=float32), array([4.3508697], dtype=float32), array([4.2996087], dtype=float32), array([4.309273], dtype=float32), array([4.268319], dtype=float32), array([4.2801833], dtype=float32), array([4.261897], dtype=float32), array([4.2805996], dtype=float32), array([4.2846465], dtype=float32), array([4.295266], dtype=float32), array([4.264955], dtype=float32), array([4.2448435], dtype=float32), array([4.4390345], dtype=float32), array([4.506733], dtype=float32), array([4.5098124], dtype=float32), array([4.533582], dtype=float32), array([4.5637393], dtype=float32), array([4.455044], dtype=float32), array([4.304165], dtype=float32), array([4.2020655], dtype=float32), array([4.0383906], dtype=float32), array([4.1061783], dtype=float32), array([4.075594], dtype=float32), array([4.0778546], dtype=float32), array([4.048289], dtype=float32), array([4.031247], dtype=float32), array([4.0477924], dtype=float32), array([4.0320797], dtype=float32), array([4.032001], dtype=float32), array([4.037933], dtype=float32), array([4.0717854], dtype=float32), array([4.077187], dtype=float32), array([4.069028], dtype=float32), array([4.0447187], dtype=float32), array([4.035048], dtype=float32), array([3.9987397], dtype=float32), array([3.9636912], dtype=float32), array([3.9863973], dtype=float32), array([3.9494338], dtype=float32), array([3.961816], dtype=float32), array([3.9480188], dtype=float32), array([3.9340823], dtype=float32), array([3.9632735], dtype=float32), array([3.939212], dtype=float32), array([3.9594138], dtype=float32), array([3.9706411], dtype=float32), array([3.9415517], dtype=float32), array([3.9419458], dtype=float32), array([3.9681458], dtype=float32), array([3.96249], dtype=float32), array([3.9448035], dtype=float32), array([3.9561205], dtype=float32), array([3.9318705], dtype=float32), array([3.9152138], dtype=float32), array([3.9103658], dtype=float32), array([3.9430983], dtype=float32), array([3.8566246], dtype=float32), array([3.840641], dtype=float32), array([3.8442717], dtype=float32), array([3.8499584], dtype=float32), array([3.8562355], dtype=float32), array([3.8170867], dtype=float32), array([3.7930079], dtype=float32), array([3.7843559], dtype=float32), array([3.8153548], dtype=float32), array([3.8326647], dtype=float32), array([3.8278768], dtype=float32), array([3.8445396], dtype=float32), array([3.8405023], dtype=float32), array([3.826932], dtype=float32), array([3.837131], dtype=float32), array([3.8518355], dtype=float32), array([3.8133004], dtype=float32), array([3.7984648], dtype=float32), array([3.8004444], dtype=float32), array([3.7952378], dtype=float32), array([3.784649], dtype=float32), array([3.7995448], dtype=float32), array([3.8136795], dtype=float32), array([3.799798], dtype=float32), array([3.775782], dtype=float32), array([3.7929263], dtype=float32), array([3.7845535], dtype=float32), array([3.782578], dtype=float32), array([3.7854455], dtype=float32), array([3.869367], dtype=float32), array([3.8708715], dtype=float32), array([3.8668861], dtype=float32), array([3.8692157], dtype=float32), array([3.8351874], dtype=float32), array([3.8189182], dtype=float32), array([3.846237], dtype=float32), array([3.8482537], dtype=float32), array([3.840777], dtype=float32), array([3.84793], dtype=float32), array([3.8975992], dtype=float32), array([3.8879514], dtype=float32), array([3.8775923], dtype=float32), array([3.8798704], dtype=float32), array([3.8939157], dtype=float32), array([3.9079828], dtype=float32), array([3.9024363], dtype=float32), array([3.891342], dtype=float32), array([3.8686342], dtype=float32), array([3.8659809], dtype=float32), array([3.8761652], dtype=float32), array([3.8822792], dtype=float32), array([3.8945577], dtype=float32), array([3.8982522], dtype=float32), array([3.8784235], dtype=float32), array([3.8568423], dtype=float32), array([3.8298798], dtype=float32), array([3.8642013], dtype=float32), array([3.8518748], dtype=float32), array([3.8610575], dtype=float32), array([3.8626392], dtype=float32), array([3.8711996], dtype=float32), array([3.8859448], dtype=float32), array([3.9698894], dtype=float32), array([4.0067554], dtype=float32), array([4.01252], dtype=float32), array([3.9931984], dtype=float32), array([4.000037], dtype=float32), array([4.00628], dtype=float32), array([4.000684], dtype=float32), array([3.9978664], dtype=float32), array([3.9928732], dtype=float32), array([4.010451], dtype=float32), array([4.0374684], dtype=float32), array([4.039257], dtype=float32), array([4.0275545], dtype=float32), array([4.0274906], dtype=float32), array([4.018951], dtype=float32), array([3.9675555], dtype=float32), array([3.9220214], dtype=float32), array([3.9211173], dtype=float32), array([3.9032955], dtype=float32), array([3.8835268], dtype=float32), array([3.9156], dtype=float32), array([3.887624], dtype=float32), array([3.8821971], dtype=float32), array([3.8854322], dtype=float32), array([3.854867], dtype=float32), array([3.7741141], dtype=float32), array([3.738559], dtype=float32), array([3.7024055], dtype=float32), array([3.6551127], dtype=float32), array([3.6593556], dtype=float32), array([3.636382], dtype=float32), array([3.6234272], dtype=float32), array([3.6126785], dtype=float32), array([3.616788], dtype=float32), array([3.57112], dtype=float32), array([3.5618188], dtype=float32), array([3.5741258], dtype=float32), array([3.5451972], dtype=float32), array([3.5593603], dtype=float32), array([3.5711403], dtype=float32), array([3.5572095], dtype=float32), array([3.549158], dtype=float32), array([3.5364232], dtype=float32), array([3.5083497], dtype=float32), array([3.5153491], dtype=float32), array([3.490992], dtype=float32), array([3.518082], dtype=float32), array([3.5195403], dtype=float32), array([3.4975781], dtype=float32), array([3.4799995], dtype=float32), array([3.4642935], dtype=float32), array([3.46528], dtype=float32), array([3.4500005], dtype=float32), array([3.4629493], dtype=float32), array([3.4686866], dtype=float32), array([3.4693358], dtype=float32), array([3.4709454], dtype=float32), array([3.4670875], dtype=float32), array([3.4407716], dtype=float32), array([3.503071], dtype=float32), array([3.5147438], dtype=float32), array([3.5016997], dtype=float32), array([3.4831424], dtype=float32), array([3.4654808], dtype=float32), array([3.4662452], dtype=float32), array([3.493629], dtype=float32), array([3.4865346], dtype=float32), array([3.4952884], dtype=float32), array([3.4846172], dtype=float32), array([3.493991], dtype=float32), array([3.481567], dtype=float32), array([3.477333], dtype=float32), array([3.492611], dtype=float32), array([3.5009239], dtype=float32), array([3.5051005], dtype=float32), array([3.509569], dtype=float32), array([3.4778543], dtype=float32), array([3.4714665], dtype=float32), array([3.4763064], dtype=float32), array([3.4782932], dtype=float32), array([3.4729888], dtype=float32), array([3.469738], dtype=float32), array([3.454746], dtype=float32), array([3.474866], dtype=float32), array([3.4518619], dtype=float32), array([3.4480681], dtype=float32), array([3.4490137], dtype=float32), array([3.439097], dtype=float32), array([3.4065897], dtype=float32), array([3.375082], dtype=float32), array([3.382863], dtype=float32), array([3.3980827], dtype=float32), array([3.392924], dtype=float32), array([3.3910282], dtype=float32), array([3.3751311], dtype=float32), array([3.340854], dtype=float32), array([3.3480558], dtype=float32), array([3.367787], dtype=float32), array([3.3371503], dtype=float32), array([3.3120885], dtype=float32), array([3.3030505], dtype=float32), array([3.315258], dtype=float32), array([3.317263], dtype=float32), array([3.309796], dtype=float32), array([3.2968895], dtype=float32), array([3.333747], dtype=float32), array([3.3313246], dtype=float32), array([3.325825], dtype=float32), array([3.3267417], dtype=float32), array([3.323378], dtype=float32), array([3.3479486], dtype=float32), array([3.3605423], dtype=float32), array([3.3558855], dtype=float32), array([3.3635392], dtype=float32), array([3.3570113], dtype=float32), array([3.353139], dtype=float32), array([3.3570888], dtype=float32), array([3.3477592], dtype=float32), array([3.3488266], dtype=float32), array([3.3491206], dtype=float32), array([3.358999], dtype=float32), array([3.3664048], dtype=float32), array([3.388906], dtype=float32), array([3.3907297], dtype=float32), array([3.383003], dtype=float32), array([3.3833272], dtype=float32), array([3.382504], dtype=float32), array([3.3922145], dtype=float32), array([3.3832617], dtype=float32), array([3.38709], dtype=float32), array([3.388753], dtype=float32), array([3.3898664], dtype=float32), array([3.3953333], dtype=float32), array([3.3938954], dtype=float32), array([3.3911576], dtype=float32), array([3.3869653], dtype=float32), array([3.3606482], dtype=float32), array([3.3672204], dtype=float32), array([3.372616], dtype=float32), array([3.4304514], dtype=float32), array([3.4312677], dtype=float32), array([3.4320822], dtype=float32), array([3.4390986], dtype=float32), array([3.4461408], dtype=float32), array([3.44656], dtype=float32), array([3.4320247], dtype=float32), array([3.4306583], dtype=float32), array([3.419687], dtype=float32), array([3.4058702], dtype=float32), array([3.4019718], dtype=float32), array([3.4179745], dtype=float32), array([3.4257507], dtype=float32), array([3.417922], dtype=float32), array([3.4092264], dtype=float32), array([3.4175358], dtype=float32), array([3.4157872], dtype=float32), array([3.4119587], dtype=float32), array([3.4259858], dtype=float32), array([3.41909], dtype=float32), array([3.4218595], dtype=float32), array([3.433075], dtype=float32), array([3.4601803], dtype=float32), array([3.4444084], dtype=float32), array([3.442315], dtype=float32), array([3.4370341], dtype=float32), array([3.448468], dtype=float32), array([3.4426003], dtype=float32), array([3.4283235], dtype=float32), array([3.4093125], dtype=float32), array([3.3912303], dtype=float32), array([3.3875265], dtype=float32), array([3.3742156], dtype=float32), array([3.3625798], dtype=float32), array([3.3495235], dtype=float32), array([3.364369], dtype=float32), array([3.3586137], dtype=float32), array([3.3565538], dtype=float32), array([3.3584871], dtype=float32), array([3.3516273], dtype=float32), array([3.3589592], dtype=float32), array([3.3511336], dtype=float32), array([3.3492494], dtype=float32), array([3.4103944], dtype=float32), array([3.38697], dtype=float32), array([3.3827696], dtype=float32), array([3.3620248], dtype=float32), array([3.353448], dtype=float32), array([3.314496], dtype=float32), array([3.2964072], dtype=float32), array([3.2884822], dtype=float32), array([3.3015096], dtype=float32), array([3.3158364], dtype=float32), array([3.2985878], dtype=float32), array([3.3111691], dtype=float32), array([3.3223162], dtype=float32), array([3.3258858], dtype=float32), array([3.3258147], dtype=float32), array([3.320711], dtype=float32), array([3.312374], dtype=float32), array([3.3056273], dtype=float32), array([3.2906778], dtype=float32), array([3.298618], dtype=float32), array([3.3094974], dtype=float32), array([3.2979116], dtype=float32), array([3.2890806], dtype=float32), array([3.2942226], dtype=float32), array([3.311665], dtype=float32), array([3.343565], dtype=float32), array([3.3145723], dtype=float32), array([3.335357], dtype=float32), array([3.328308], dtype=float32), array([3.336742], dtype=float32), array([3.3470798], dtype=float32), array([3.350219], dtype=float32), array([3.3438332], dtype=float32), array([3.339517], dtype=float32), array([3.3389251], dtype=float32), array([3.3372505], dtype=float32), array([3.3208284], dtype=float32), array([3.293437], dtype=float32), array([3.298819], dtype=float32), array([3.3055017], dtype=float32), array([3.3074741], dtype=float32), array([3.307473], dtype=float32), array([3.3051844], dtype=float32), array([3.319439], dtype=float32), array([3.314416], dtype=float32), array([3.3058743], dtype=float32), array([3.3122287], dtype=float32), array([3.3065581], dtype=float32), array([3.2911074], dtype=float32), array([3.2934618], dtype=float32), array([3.3145196], dtype=float32), array([3.309466], dtype=float32), array([3.30542], dtype=float32), array([3.313512], dtype=float32), array([3.315044], dtype=float32), array([3.3344498], dtype=float32), array([3.3307347], dtype=float32), array([3.319428], dtype=float32), array([3.3238332], dtype=float32), array([3.3560762], dtype=float32), array([3.3464594], dtype=float32), array([3.3447392], dtype=float32), array([3.3454936], dtype=float32), array([3.3292184], dtype=float32), array([3.3235712], dtype=float32), array([3.328387], dtype=float32), array([3.3436294], dtype=float32), array([3.3407598], dtype=float32), array([3.3483903], dtype=float32), array([3.3579888], dtype=float32), array([3.361097], dtype=float32), array([3.3856735], dtype=float32), array([3.3833988], dtype=float32), array([3.3908885], dtype=float32), array([3.403845], dtype=float32), array([3.4037125], dtype=float32), array([3.4101634], dtype=float32), array([3.4091573], dtype=float32), array([3.4004495], dtype=float32), array([3.4008112], dtype=float32), array([3.399602], dtype=float32), array([3.40279], dtype=float32), array([3.4064546], dtype=float32), array([3.3981633], dtype=float32), array([3.395699], dtype=float32), array([3.382318], dtype=float32), array([3.37357], dtype=float32), array([3.3712924], dtype=float32), array([3.3731527], dtype=float32), array([3.364312], dtype=float32), array([3.3419445], dtype=float32), array([3.280927], dtype=float32), array([3.2687683], dtype=float32), array([3.2500472], dtype=float32), array([3.223237], dtype=float32), array([3.2402897], dtype=float32), array([3.2500548], dtype=float32), array([3.2503686], dtype=float32), array([3.2356038], dtype=float32), array([3.2329073], dtype=float32), array([3.2297568], dtype=float32), array([3.2232428], dtype=float32), array([3.2298627], dtype=float32), array([3.2348056], dtype=float32), array([3.211437], dtype=float32), array([3.2114663], dtype=float32), array([3.195642], dtype=float32), array([3.2073123], dtype=float32), array([3.205607], dtype=float32), array([3.212659], dtype=float32), array([3.2086482], dtype=float32), array([3.2128668], dtype=float32), array([3.2026844], dtype=float32), array([3.2017388], dtype=float32), array([3.2070704], dtype=float32), array([3.2326815], dtype=float32), array([3.2140555], dtype=float32), array([3.219024], dtype=float32), array([3.213823], dtype=float32), array([3.219625], dtype=float32), array([3.2274895], dtype=float32), array([3.2177289], dtype=float32), array([3.2240553], dtype=float32), array([3.224268], dtype=float32), array([3.2248647], dtype=float32), array([3.227068], dtype=float32), array([3.2261136], dtype=float32), array([3.2007535], dtype=float32), array([3.2129846], dtype=float32), array([3.2234354], dtype=float32), array([3.2199552], dtype=float32), array([3.216387], dtype=float32), array([3.2006657], dtype=float32), array([3.2070394], dtype=float32), array([3.1985345], dtype=float32), array([3.1955652], dtype=float32), array([3.2076807], dtype=float32), array([3.2124758], dtype=float32), array([3.2139244], dtype=float32), array([3.2091403], dtype=float32), array([3.207554], dtype=float32), array([3.2223597], dtype=float32), array([3.2136478], dtype=float32), array([3.2078717], dtype=float32), array([3.2038863], dtype=float32), array([3.2078836], dtype=float32), array([3.2042298], dtype=float32), array([3.199344], dtype=float32), array([3.187399], dtype=float32), array([3.1958256], dtype=float32), array([3.2155032], dtype=float32), array([3.2272487], dtype=float32), array([3.278557], dtype=float32), array([3.2700827], dtype=float32), array([3.3169708], dtype=float32), array([3.3345757], dtype=float32), array([3.3322043], dtype=float32), array([3.3173099], dtype=float32), array([3.3189726], dtype=float32), array([3.3139343], dtype=float32), array([3.3148108], dtype=float32), array([3.3165362], dtype=float32), array([3.3199387], dtype=float32), array([3.3109365], dtype=float32), array([3.2987516], dtype=float32), array([3.3112097], dtype=float32), array([3.3037505], dtype=float32), array([3.306778], dtype=float32), array([3.3229663], dtype=float32), array([3.3176212], dtype=float32), array([3.323307], dtype=float32), array([3.3378956], dtype=float32), array([3.3838778], dtype=float32), array([3.3860652], dtype=float32), array([3.3596902], dtype=float32), array([3.365035], dtype=float32), array([3.3744864], dtype=float32), array([3.366943], dtype=float32), array([3.3546104], dtype=float32), array([3.351894], dtype=float32), array([3.3365161], dtype=float32), array([3.3395133], dtype=float32), array([3.329575], dtype=float32), array([3.3343382], dtype=float32), array([3.3014317], dtype=float32), array([3.3113413], dtype=float32), array([3.3106532], dtype=float32), array([3.3216648], dtype=float32), array([3.319243], dtype=float32), array([3.3357334], dtype=float32), array([3.3530726], dtype=float32), array([3.362032], dtype=float32), array([3.3798618], dtype=float32), array([3.383061], dtype=float32), array([3.3410435], dtype=float32), array([3.322682], dtype=float32), array([3.3419774], dtype=float32), array([3.3760023], dtype=float32), array([3.3477895], dtype=float32), array([3.337503], dtype=float32), array([3.3270206], dtype=float32), array([3.3351796], dtype=float32), array([3.3222492], dtype=float32), array([3.3449063], dtype=float32), array([3.3243947], dtype=float32), array([3.3356414], dtype=float32), array([3.3389788], dtype=float32), array([3.3305893], dtype=float32), array([3.3199916], dtype=float32), array([3.3261375], dtype=float32), array([3.3349156], dtype=float32), array([3.3250456], dtype=float32), array([3.3310544], dtype=float32), array([3.326025], dtype=float32), array([3.3331878], dtype=float32), array([3.3298433], dtype=float32), array([3.3497117], dtype=float32), array([3.3823946], dtype=float32), array([3.3863475], dtype=float32), array([3.3788927], dtype=float32), array([3.363029], dtype=float32), array([3.3448234], dtype=float32), array([3.3426223], dtype=float32), array([3.319064], dtype=float32), array([3.324983], dtype=float32), array([3.3264227], dtype=float32), array([3.3317862], dtype=float32), array([3.3246908], dtype=float32), array([3.3329024], dtype=float32), array([3.3249302], dtype=float32), array([3.303041], dtype=float32), array([3.3092084], dtype=float32), array([3.3259091], dtype=float32), array([3.3171089], dtype=float32), array([3.3215027], dtype=float32), array([3.3264608], dtype=float32), array([3.3179374], dtype=float32), array([3.31175], dtype=float32), array([3.3022578], dtype=float32), array([3.3088574], dtype=float32), array([3.3046556], dtype=float32), array([3.3269002], dtype=float32), array([3.304892], dtype=float32), array([3.2979693], dtype=float32), array([3.3055682], dtype=float32), array([3.3120134], dtype=float32), array([3.3068402], dtype=float32), array([3.3208692], dtype=float32), array([3.3151064], dtype=float32), array([3.3146825], dtype=float32), array([3.3008184], dtype=float32), array([3.3024921], dtype=float32), array([3.3011653], dtype=float32), array([3.2927268], dtype=float32), array([3.2940671], dtype=float32), array([3.3037028], dtype=float32), array([3.3089805], dtype=float32), array([3.313068], dtype=float32), array([3.3091812], dtype=float32), array([3.3043838], dtype=float32), array([3.3129842], dtype=float32), array([3.3136744], dtype=float32), array([3.3182695], dtype=float32), array([3.3116703], dtype=float32), array([3.3146014], dtype=float32), array([3.2921271], dtype=float32), array([3.282708], dtype=float32), array([3.24709], dtype=float32), array([3.2465596], dtype=float32), array([3.2412157], dtype=float32), array([3.2021012], dtype=float32), array([3.1852548], dtype=float32), array([3.1916704], dtype=float32), array([3.1843586], dtype=float32), array([3.1904244], dtype=float32), array([3.1670027], dtype=float32), array([3.1659408], dtype=float32), array([3.1709323], dtype=float32), array([3.1246705], dtype=float32), array([3.046544], dtype=float32), array([2.9206808], dtype=float32), array([2.914924], dtype=float32), array([2.890874], dtype=float32), array([2.8932445], dtype=float32), array([2.8729997], dtype=float32), array([2.8600006], dtype=float32), array([2.7969987], dtype=float32), array([2.8321233], dtype=float32), array([2.8534641], dtype=float32), array([2.8867002], dtype=float32), array([2.9114988], dtype=float32), array([2.8927581], dtype=float32), array([2.920895], dtype=float32), array([2.96189], dtype=float32), array([2.9865203], dtype=float32), array([2.9831572], dtype=float32), array([2.9478636], dtype=float32), array([2.973647], dtype=float32), array([2.965787], dtype=float32), array([2.948748], dtype=float32), array([2.9460003], dtype=float32), array([2.946137], dtype=float32), array([2.950042], dtype=float32), array([2.934543], dtype=float32), array([2.9614184], dtype=float32), array([2.9635484], dtype=float32), array([2.9543703], dtype=float32), array([2.9642015], dtype=float32), array([2.9386065], dtype=float32), array([2.9535005], dtype=float32), array([2.9535537], dtype=float32), array([2.9632592], dtype=float32), array([2.957101], dtype=float32), array([2.93691], dtype=float32), array([2.880357], dtype=float32), array([2.911082], dtype=float32), array([2.9569564], dtype=float32), array([2.9469545], dtype=float32), array([2.9330828], dtype=float32), array([2.9295888], dtype=float32), array([2.95313], dtype=float32), array([2.9564016], dtype=float32), array([2.9672189], dtype=float32), array([2.9294174], dtype=float32), array([2.9341853], dtype=float32), array([2.936631], dtype=float32), array([2.9464538], dtype=float32), array([2.9414232], dtype=float32), array([2.9235635], dtype=float32), array([2.892768], dtype=float32), array([2.9069598], dtype=float32), array([2.890668], dtype=float32), array([2.8456233], dtype=float32), array([2.8464162], dtype=float32), array([2.916231], dtype=float32), array([2.9098825], dtype=float32), array([2.8995204], dtype=float32), array([2.892773], dtype=float32), array([2.9440765], dtype=float32), array([2.9561994], dtype=float32), array([2.9466527], dtype=float32), array([2.958567], dtype=float32), array([2.9563994], dtype=float32), array([2.940207], dtype=float32), array([3.0087419], dtype=float32), array([3.0463762], dtype=float32), array([3.0294547], dtype=float32), array([3.0359437], dtype=float32), array([3.035286], dtype=float32), array([3.035778], dtype=float32), array([3.0478096], dtype=float32), array([3.0446043], dtype=float32), array([3.040874], dtype=float32), array([3.0528815], dtype=float32), array([3.0403402], dtype=float32), array([3.0541701], dtype=float32), array([3.055965], dtype=float32), array([3.0591507], dtype=float32), array([3.0654442], dtype=float32), array([3.0398557], dtype=float32), array([3.040268], dtype=float32), array([3.0675995], dtype=float32), array([3.0822368], dtype=float32), array([3.0635748], dtype=float32), array([3.0465674], dtype=float32), array([3.0444207], dtype=float32), array([3.0437274], dtype=float32), array([3.0207036], dtype=float32), array([3.022304], dtype=float32), array([3.0098429], dtype=float32), array([3.0284476], dtype=float32), array([3.0344603], dtype=float32), array([3.020361], dtype=float32), array([3.0155144], dtype=float32), array([3.0056067], dtype=float32), array([3.0134208], dtype=float32), array([3.0220597], dtype=float32), array([3.0336354], dtype=float32), array([3.0266318], dtype=float32), array([3.0235987], dtype=float32), array([3.0083075], dtype=float32), array([2.9612699], dtype=float32), array([2.9578962], dtype=float32), array([2.9595034], dtype=float32), array([2.9476266], dtype=float32), array([3.039616], dtype=float32), array([3.0348916], dtype=float32), array([3.0257492], dtype=float32), array([3.0144815], dtype=float32), array([3.0343935], dtype=float32), array([3.02726], dtype=float32), array([3.040152], dtype=float32), array([3.0334754], dtype=float32), array([3.0148587], dtype=float32), array([3.0253773], dtype=float32), array([3.0208297], dtype=float32), array([3.0082061], dtype=float32), array([2.9900985], dtype=float32), array([2.9698749], dtype=float32), array([2.9853535], dtype=float32), array([2.9817982], dtype=float32), array([2.9734976], dtype=float32), array([2.994937], dtype=float32), array([2.969257], dtype=float32), array([2.9537256], dtype=float32), array([2.9596143], dtype=float32), array([2.9536052], dtype=float32), array([2.9670672], dtype=float32), array([2.9627175], dtype=float32), array([2.9196408], dtype=float32), array([2.9128914], dtype=float32), array([2.9154696], dtype=float32), array([2.8957453], dtype=float32), array([2.8677862], dtype=float32), array([2.8583574], dtype=float32), array([2.8627024], dtype=float32), array([2.8806262], dtype=float32), array([2.8775187], dtype=float32), array([2.8526845], dtype=float32), array([2.8837688], dtype=float32), array([2.9111516], dtype=float32), array([2.9205983], dtype=float32), array([2.9102297], dtype=float32), array([2.8991783], dtype=float32), array([2.9050555], dtype=float32), array([2.8799915], dtype=float32), array([2.8688555], dtype=float32), array([2.8912003], dtype=float32), array([2.9080188], dtype=float32), array([2.8959823], dtype=float32), array([2.925712], dtype=float32), array([2.9495738], dtype=float32), array([2.9827304], dtype=float32), array([2.902156], dtype=float32), array([2.8851836], dtype=float32), array([2.8572814], dtype=float32), array([2.8695383], dtype=float32), array([2.8700912], dtype=float32), array([2.8862991], dtype=float32), array([2.9053862], dtype=float32), array([2.8741035], dtype=float32), array([2.8493428], dtype=float32), array([2.8253067], dtype=float32), array([2.8653154], dtype=float32), array([2.8756747], dtype=float32), array([2.897656], dtype=float32), array([2.9004042], dtype=float32), array([2.9186857], dtype=float32), array([2.906596], dtype=float32), array([2.8905053], dtype=float32), array([2.8884828], dtype=float32), array([2.9116008], dtype=float32), array([2.918839], dtype=float32), array([2.9082217], dtype=float32), array([2.8977358], dtype=float32), array([2.9146829], dtype=float32), array([2.904241], dtype=float32), array([2.91024], dtype=float32), array([2.926386], dtype=float32), array([2.9420557], dtype=float32), array([2.9243357], dtype=float32), array([2.9225626], dtype=float32), array([2.9069462], dtype=float32), array([2.9171448], dtype=float32), array([2.9290278], dtype=float32), array([2.9319658], dtype=float32), array([2.9648943], dtype=float32), array([2.9616432], dtype=float32), array([2.953875], dtype=float32), array([2.9377017], dtype=float32), array([2.9099035], dtype=float32), array([2.8820696], dtype=float32), array([2.8882852], dtype=float32), array([2.8978715], dtype=float32), array([2.907694], dtype=float32), array([2.8847547], dtype=float32), array([2.8749533], dtype=float32), array([2.8818412], dtype=float32), array([2.8954945], dtype=float32), array([2.919018], dtype=float32), array([2.9366958], dtype=float32), array([2.9418454], dtype=float32), array([2.9279344], dtype=float32), array([2.944235], dtype=float32), array([2.967596], dtype=float32), array([2.980733], dtype=float32), array([2.9641666], dtype=float32), array([2.9663947], dtype=float32), array([2.9469867], dtype=float32), array([2.9649415], dtype=float32), array([2.9493544], dtype=float32), array([2.9240918], dtype=float32), array([2.8621686], dtype=float32), array([2.8723881], dtype=float32), array([2.8767245], dtype=float32), array([2.885444], dtype=float32), array([2.8954198], dtype=float32), array([2.8788688], dtype=float32), array([2.8688185], dtype=float32), array([2.887999], dtype=float32), array([2.881081], dtype=float32), array([2.8716388], dtype=float32), array([2.8820794], dtype=float32), array([2.8680508], dtype=float32), array([2.8578396], dtype=float32), array([2.8282168], dtype=float32), array([2.7851317], dtype=float32), array([2.776266], dtype=float32), array([2.797866], dtype=float32), array([2.7912352], dtype=float32), array([2.743049], dtype=float32), array([2.7368126], dtype=float32), array([2.7462997], dtype=float32), array([2.7536736], dtype=float32), array([2.7398891], dtype=float32), array([2.7612224], dtype=float32), array([2.7545345], dtype=float32), array([2.767742], dtype=float32), array([2.762539], dtype=float32), array([2.7674906], dtype=float32), array([2.748104], dtype=float32), array([2.7467434], dtype=float32), array([2.7678418], dtype=float32), array([2.799573], dtype=float32), array([2.7555351], dtype=float32), array([2.7890153], dtype=float32), array([2.8075118], dtype=float32), array([2.8020787], dtype=float32), array([2.7760468], dtype=float32), array([2.784417], dtype=float32), array([2.7565174], dtype=float32), array([2.7478917], dtype=float32), array([2.7374094], dtype=float32), array([2.7389648], dtype=float32), array([2.7508447], dtype=float32), array([2.8140194], dtype=float32), array([2.849374], dtype=float32), array([2.8498445], dtype=float32), array([2.855582], dtype=float32), array([2.8448737], dtype=float32), array([2.8419986], dtype=float32), array([2.8357642], dtype=float32), array([2.8519895], dtype=float32), array([2.8485556], dtype=float32), array([2.8386831], dtype=float32), array([2.831821], dtype=float32), array([2.840413], dtype=float32), array([2.8623543], dtype=float32), array([2.8558578], dtype=float32), array([2.8392224], dtype=float32), array([2.8318052], dtype=float32), array([2.798761], dtype=float32), array([2.8026197], dtype=float32), array([2.7837734], dtype=float32), array([2.7379882], dtype=float32), array([2.7592504], dtype=float32), array([2.7645326], dtype=float32), array([2.814897], dtype=float32), array([2.8714695], dtype=float32), array([2.9125185], dtype=float32), array([2.9112346], dtype=float32), array([2.8863578], dtype=float32), array([2.8956366], dtype=float32), array([2.9080207], dtype=float32), array([2.9047506], dtype=float32), array([2.8996243], dtype=float32), array([2.8851757], dtype=float32), array([2.877841], dtype=float32), array([2.8601003], dtype=float32), array([2.8809068], dtype=float32), array([2.8666024], dtype=float32), array([2.8688617], dtype=float32), array([2.878632], dtype=float32), array([2.8932118], dtype=float32), array([2.8973718], dtype=float32), array([2.866539], dtype=float32), array([2.8879743], dtype=float32), array([2.860419], dtype=float32), array([2.8649936], dtype=float32), array([2.8578763], dtype=float32), array([2.8332498], dtype=float32), array([2.824786], dtype=float32), array([2.8169127], dtype=float32), array([2.8205895], dtype=float32), array([2.8295398], dtype=float32), array([2.8124514], dtype=float32), array([2.8006794], dtype=float32), array([2.81158], dtype=float32), array([2.8171644], dtype=float32), array([2.8151739], dtype=float32), array([2.812698], dtype=float32), array([2.8238916], dtype=float32), array([2.8111367], dtype=float32), array([2.793085], dtype=float32), array([2.7661145], dtype=float32), array([2.774484], dtype=float32), array([2.7791028], dtype=float32), array([2.7600045], dtype=float32), array([2.768322], dtype=float32), array([2.7635756], dtype=float32), array([2.7584012], dtype=float32), array([2.6940997], dtype=float32), array([2.7306259], dtype=float32), array([2.7672958], dtype=float32), array([2.747733], dtype=float32), array([2.7600381], dtype=float32), array([2.7472858], dtype=float32), array([2.7119095], dtype=float32), array([2.7550373], dtype=float32), array([2.7358572], dtype=float32), array([2.7082431], dtype=float32), array([2.7171283], dtype=float32), array([2.6760373], dtype=float32), array([2.6768801], dtype=float32), array([2.7133777], dtype=float32), array([2.7224765], dtype=float32), array([2.734614], dtype=float32), array([2.7169275], dtype=float32), array([2.7218373], dtype=float32), array([2.7205524], dtype=float32), array([2.7570257], dtype=float32), array([2.789807], dtype=float32), array([2.7745914], dtype=float32), array([2.7718678], dtype=float32), array([2.7459383], dtype=float32), array([2.771193], dtype=float32), array([2.7584453], dtype=float32), array([2.7535448], dtype=float32), array([2.74115], dtype=float32), array([2.7452905], dtype=float32), array([2.7377927], dtype=float32), array([2.751658], dtype=float32), array([2.756337], dtype=float32), array([2.745351], dtype=float32), array([2.7492542], dtype=float32), array([2.7390487], dtype=float32), array([2.7343795], dtype=float32), array([2.7726147], dtype=float32), array([2.8128505], dtype=float32), array([2.826308], dtype=float32), array([2.8064046], dtype=float32), array([2.8001842], dtype=float32), array([2.8031874], dtype=float32), array([2.8001583], dtype=float32), array([2.7736688], dtype=float32), array([2.7733033], dtype=float32), array([2.7735665], dtype=float32), array([2.7792284], dtype=float32), array([2.801666], dtype=float32), array([2.7855127], dtype=float32), array([2.775491], dtype=float32), array([2.7702553], dtype=float32), array([2.7705758], dtype=float32), array([2.76893], dtype=float32), array([2.7396977], dtype=float32), array([2.7464316], dtype=float32), array([2.7433774], dtype=float32), array([2.78229], dtype=float32), array([2.7396598], dtype=float32), array([2.7541294], dtype=float32), array([2.7358432], dtype=float32), array([2.74634], dtype=float32), array([2.7407455], dtype=float32), array([2.7612896], dtype=float32), array([2.7249014], dtype=float32), array([2.7341251], dtype=float32), array([2.7247171], dtype=float32), array([2.71681], dtype=float32), array([2.6852577], dtype=float32), array([2.6882138], dtype=float32), array([2.7011542], dtype=float32), array([2.6759846], dtype=float32), array([2.6736197], dtype=float32), array([2.7141397], dtype=float32), array([2.6930463], dtype=float32), array([2.7232556], dtype=float32), array([2.7030795], dtype=float32), array([2.717517], dtype=float32), array([2.7384508], dtype=float32), array([2.7720711], dtype=float32), array([2.7674658], dtype=float32), array([2.7542307], dtype=float32), array([2.7647772], dtype=float32), array([2.7571347], dtype=float32), array([2.7660732], dtype=float32), array([2.7632973], dtype=float32), array([2.8307023], dtype=float32), array([2.873211], dtype=float32), array([2.8766303], dtype=float32), array([2.8707912], dtype=float32), array([2.8740842], dtype=float32), array([2.8730824], dtype=float32), array([2.872449], dtype=float32), array([2.8739083], dtype=float32), array([2.8851285], dtype=float32), array([2.8744256], dtype=float32), array([2.883195], dtype=float32), array([2.8632464], dtype=float32), array([2.8498607], dtype=float32), array([2.864563], dtype=float32), array([2.8628755], dtype=float32), array([2.8486369], dtype=float32), array([2.8591554], dtype=float32), array([2.8600483], dtype=float32), array([2.891686], dtype=float32), array([2.905017], dtype=float32), array([2.882056], dtype=float32), array([2.8672671], dtype=float32), array([2.8797116], dtype=float32), array([2.9125743], dtype=float32), array([2.9064345], dtype=float32), array([2.9093847], dtype=float32), array([2.887665], dtype=float32), array([2.8945966], dtype=float32), array([2.9023721], dtype=float32), array([2.9055016], dtype=float32), array([2.8842473], dtype=float32), array([2.8928895], dtype=float32), array([2.8864455], dtype=float32), array([2.8619225], dtype=float32), array([2.8592439], dtype=float32), array([2.8750105], dtype=float32), array([2.880037], dtype=float32), array([2.8867662], dtype=float32), array([2.8685844], dtype=float32), array([2.8623154], dtype=float32), array([2.8851779], dtype=float32), array([2.889], dtype=float32), array([2.893549], dtype=float32), array([2.888864], dtype=float32), array([2.8662121], dtype=float32), array([2.8476348], dtype=float32), array([2.8582623], dtype=float32), array([2.8505223], dtype=float32), array([2.8598604], dtype=float32), array([2.8480623], dtype=float32), array([2.850279], dtype=float32), array([2.8550074], dtype=float32), array([2.8344448], dtype=float32), array([2.8476272], dtype=float32), array([2.8504548], dtype=float32), array([2.8556013], dtype=float32), array([2.8497186], dtype=float32), array([2.8678463], dtype=float32), array([2.8681352], dtype=float32), array([2.8677576], dtype=float32), array([2.8811736], dtype=float32), array([2.8993866], dtype=float32), array([2.961805], dtype=float32), array([2.9968667], dtype=float32), array([3.0269513], dtype=float32), array([3.0140004], dtype=float32), array([3.0074127], dtype=float32), array([3.0008965], dtype=float32), array([3.0028758], dtype=float32), array([3.0002863], dtype=float32), array([3.0229025], dtype=float32), array([3.002047], dtype=float32), array([2.9988883], dtype=float32), array([2.9918523], dtype=float32), array([2.9957187], dtype=float32), array([2.9868684], dtype=float32), array([2.993334], dtype=float32), array([2.9979243], dtype=float32), array([3.0107205], dtype=float32), array([3.006768], dtype=float32), array([2.9982517], dtype=float32), array([3.0015476], dtype=float32), array([3.0042496], dtype=float32), array([2.9894333], dtype=float32), array([3.0003943], dtype=float32), array([2.9990492], dtype=float32), array([3.0101364], dtype=float32), array([3.036592], dtype=float32), array([3.0109391], dtype=float32), array([3.0100954], dtype=float32), array([2.9972203], dtype=float32), array([2.9926696], dtype=float32), array([2.994138], dtype=float32), array([3.0067587], dtype=float32), array([3.003136], dtype=float32), array([2.990349], dtype=float32), array([2.994625], dtype=float32), array([2.9978983], dtype=float32), array([2.9981668], dtype=float32), array([3.002074], dtype=float32), array([2.999961], dtype=float32), array([2.9985676], dtype=float32), array([2.994166], dtype=float32), array([2.9854183], dtype=float32), array([2.9874926], dtype=float32), array([2.994235], dtype=float32), array([2.9966884], dtype=float32), array([2.9903207], dtype=float32), array([2.9855103], dtype=float32), array([2.9823687], dtype=float32), array([2.9928687], dtype=float32), array([3.004293], dtype=float32), array([2.9987502], dtype=float32), array([2.9965887], dtype=float32), array([3.0030837], dtype=float32), array([2.9839094], dtype=float32), array([2.9716077], dtype=float32), array([2.9698021], dtype=float32), array([2.9785247], dtype=float32), array([2.9490004], dtype=float32), array([2.9281135], dtype=float32), array([2.9388943], dtype=float32), array([2.9396389], dtype=float32), array([2.941258], dtype=float32), array([2.9421768], dtype=float32), array([2.941138], dtype=float32), array([2.950068], dtype=float32), array([2.955117], dtype=float32), array([2.9364357], dtype=float32), array([2.944117], dtype=float32), array([2.9429965], dtype=float32), array([2.9472115], dtype=float32), array([2.9545345], dtype=float32), array([2.9660826], dtype=float32), array([2.9663339], dtype=float32), array([2.9715014], dtype=float32), array([2.9704835], dtype=float32), array([2.9660957], dtype=float32), array([2.99477], dtype=float32), array([3.0058727], dtype=float32), array([2.9938004], dtype=float32), array([2.98352], dtype=float32), array([2.9933443], dtype=float32), array([2.9946928], dtype=float32), array([3.00415], dtype=float32), array([3.0021656], dtype=float32), array([2.9937797], dtype=float32), array([2.9977326], dtype=float32), array([2.98419], dtype=float32), array([2.9761508], dtype=float32), array([2.986837], dtype=float32), array([2.9894924], dtype=float32), array([2.9874997], dtype=float32), array([3.0078788], dtype=float32), array([3.0193758], dtype=float32), array([3.0316033], dtype=float32), array([3.0285468], dtype=float32), array([3.0306344], dtype=float32), array([3.0519013], dtype=float32), array([3.043055], dtype=float32), array([3.0158572], dtype=float32), array([3.0157056], dtype=float32), array([3.002273], dtype=float32), array([3.0036664], dtype=float32), array([2.9836345], dtype=float32), array([2.9642324], dtype=float32), array([2.9336848], dtype=float32), array([2.9317691], dtype=float32), array([2.9342875], dtype=float32), array([2.8895428], dtype=float32), array([2.897815], dtype=float32), array([2.8999758], dtype=float32), array([2.903378], dtype=float32), array([2.9117122], dtype=float32), array([2.8927698], dtype=float32), array([2.895314], dtype=float32), array([2.9068046], dtype=float32), array([2.9024477], dtype=float32), array([2.8973258], dtype=float32), array([2.90079], dtype=float32), array([2.8925653], dtype=float32), array([2.8726273], dtype=float32), array([2.8347464], dtype=float32), array([2.8192701], dtype=float32), array([2.8109982], dtype=float32), array([2.8162556], dtype=float32), array([2.7974176], dtype=float32), array([2.8043637], dtype=float32), array([2.7949488], dtype=float32), array([2.8111663], dtype=float32), array([2.8087752], dtype=float32), array([2.8277845], dtype=float32), array([2.8295987], dtype=float32), array([2.8175828], dtype=float32), array([2.8257494], dtype=float32), array([2.8239431], dtype=float32), array([2.8058894], dtype=float32), array([2.8142822], dtype=float32), array([2.8278267], dtype=float32), array([2.8114693], dtype=float32), array([2.8120198], dtype=float32), array([2.7527573], dtype=float32), array([2.7897058], dtype=float32), array([2.8154676], dtype=float32), array([2.8258955], dtype=float32), array([2.8071485], dtype=float32), array([2.798235], dtype=float32), array([2.7982142], dtype=float32), array([2.7742], dtype=float32), array([2.7877636], dtype=float32), array([2.778017], dtype=float32), array([2.7814744], dtype=float32), array([2.72715], dtype=float32), array([2.7421541], dtype=float32), array([2.7319033], dtype=float32), array([2.7393203], dtype=float32), array([2.725388], dtype=float32), array([2.7415264], dtype=float32), array([2.7440357], dtype=float32), array([2.755091], dtype=float32), array([2.76109], dtype=float32), array([2.7508137], dtype=float32), array([2.7489762], dtype=float32), array([2.7634315], dtype=float32), array([2.8030653], dtype=float32), array([2.802897], dtype=float32), array([2.7896628], dtype=float32), array([2.7906377], dtype=float32), array([2.7792013], dtype=float32), array([2.8060036], dtype=float32), array([2.8097134], dtype=float32), array([2.8225963], dtype=float32), array([2.8005347], dtype=float32), array([2.7778075], dtype=float32), array([2.782683], dtype=float32), array([2.76852], dtype=float32), array([2.7693338], dtype=float32), array([2.764239], dtype=float32), array([2.767721], dtype=float32), array([2.7584016], dtype=float32), array([2.7724936], dtype=float32), array([2.782324], dtype=float32), array([2.7794094], dtype=float32), array([2.7868345], dtype=float32), array([2.7754831], dtype=float32), array([2.8615763], dtype=float32), array([2.852423], dtype=float32), array([2.8364885], dtype=float32), array([2.8306272], dtype=float32), array([2.8345037], dtype=float32), array([2.8299968], dtype=float32), array([2.8301013], dtype=float32), array([2.8300848], dtype=float32), array([2.794518], dtype=float32), array([2.7637727], dtype=float32), array([2.7410297], dtype=float32), array([2.6806636], dtype=float32), array([2.6865668], dtype=float32), array([2.7125516], dtype=float32), array([2.709701], dtype=float32), array([2.7006235], dtype=float32), array([2.7318687], dtype=float32), array([2.744289], dtype=float32), array([2.7496774], dtype=float32), array([2.7517571], dtype=float32), array([2.748948], dtype=float32), array([2.7842643], dtype=float32), array([2.7707717], dtype=float32), array([2.7858567], dtype=float32), array([2.7794852], dtype=float32), array([2.781662], dtype=float32), array([2.7605283], dtype=float32), array([2.7518597], dtype=float32), array([2.770184], dtype=float32), array([2.7653677], dtype=float32), array([2.7567334], dtype=float32), array([2.7747576], dtype=float32), array([2.7790582], dtype=float32), array([2.8125205], dtype=float32), array([2.7993784], dtype=float32), array([2.7859144], dtype=float32), array([2.789742], dtype=float32), array([2.7867424], dtype=float32), array([2.793961], dtype=float32), array([2.8114867], dtype=float32), array([2.8050563], dtype=float32), array([2.7881067], dtype=float32), array([2.7869232], dtype=float32), array([2.7844617], dtype=float32), array([2.7564707], dtype=float32), array([2.766025], dtype=float32), array([2.768152], dtype=float32), array([2.7719157], dtype=float32), array([2.7736483], dtype=float32), array([2.7782092], dtype=float32), array([2.7734568], dtype=float32), array([2.777455], dtype=float32), array([2.782015], dtype=float32), array([2.7727067], dtype=float32), array([2.7711449], dtype=float32), array([2.7865336], dtype=float32), array([2.8176556], dtype=float32), array([2.7911758], dtype=float32), array([2.7684662], dtype=float32), array([2.7582915], dtype=float32), array([2.7658818], dtype=float32), array([2.7645879], dtype=float32), array([2.778844], dtype=float32), array([2.7801185], dtype=float32), array([2.764949], dtype=float32), array([2.7690265], dtype=float32), array([2.762066], dtype=float32), array([2.7490716], dtype=float32), array([2.7501752], dtype=float32), array([2.7677507], dtype=float32), array([2.7575095], dtype=float32), array([2.7656798], dtype=float32), array([2.7607965], dtype=float32), array([2.7626734], dtype=float32), array([2.7715983], dtype=float32), array([2.7895133], dtype=float32), array([2.777305], dtype=float32), array([2.7747617], dtype=float32), array([2.7562265], dtype=float32), array([2.7449784], dtype=float32), array([2.729711], dtype=float32), array([2.7352781], dtype=float32), array([2.7267737], dtype=float32), array([2.7184026], dtype=float32), array([2.6881344], dtype=float32), array([2.6917374], dtype=float32), array([2.7069285], dtype=float32), array([2.723096], dtype=float32), array([2.7087123], dtype=float32), array([2.6972253], dtype=float32), array([2.7020006], dtype=float32), array([2.7183096], dtype=float32), array([2.7041638], dtype=float32), array([2.7078898], dtype=float32), array([2.7230914], dtype=float32), array([2.737224], dtype=float32), array([2.7324605], dtype=float32), array([2.7233005], dtype=float32), array([2.7418938], dtype=float32), array([2.7496932], dtype=float32), array([2.7430272], dtype=float32), array([2.7633293], dtype=float32), array([2.7900825], dtype=float32), array([2.762536], dtype=float32), array([2.7506964], dtype=float32), array([2.7361212], dtype=float32), array([2.6847253], dtype=float32), array([2.7011204], dtype=float32), array([2.7128034], dtype=float32), array([2.7091222], dtype=float32), array([2.701074], dtype=float32), array([2.6796796], dtype=float32), array([2.7101579], dtype=float32), array([2.6996145], dtype=float32), array([2.7137601], dtype=float32), array([2.7221906], dtype=float32), array([2.7252524], dtype=float32), array([2.718071], dtype=float32), array([2.7294989], dtype=float32), array([2.7275262], dtype=float32), array([2.7441328], dtype=float32), array([2.7584262], dtype=float32), array([2.7561724], dtype=float32), array([2.7183576], dtype=float32), array([2.7149732], dtype=float32), array([2.728063], dtype=float32), array([2.7444587], dtype=float32), array([2.7373815], dtype=float32), array([2.7152548], dtype=float32), array([2.6960397], dtype=float32), array([2.6901639], dtype=float32), array([2.6107855], dtype=float32), array([2.5653284], dtype=float32), array([2.5400295], dtype=float32), array([2.527161], dtype=float32), array([2.5208197], dtype=float32), array([2.530498], dtype=float32), array([2.5180876], dtype=float32), array([2.498079], dtype=float32), array([2.4704132], dtype=float32), array([2.484881], dtype=float32), array([2.4878535], dtype=float32), array([2.4937048], dtype=float32), array([2.5046082], dtype=float32), array([2.4950733], dtype=float32), array([2.4667923], dtype=float32), array([2.486453], dtype=float32), array([2.4876523], dtype=float32), array([2.5009232], dtype=float32), array([2.5052178], dtype=float32), array([2.4827356], dtype=float32), array([2.4917927], dtype=float32), array([2.4870028], dtype=float32), array([2.4958415], dtype=float32), array([2.5198822], dtype=float32), array([2.5259748], dtype=float32), array([2.5111456], dtype=float32), array([2.504309], dtype=float32), array([2.5091214], dtype=float32), array([2.5025613], dtype=float32), array([2.4819212], dtype=float32), array([2.495569], dtype=float32), array([2.4809837], dtype=float32), array([2.4168525], dtype=float32), array([2.4077826], dtype=float32), array([2.415689], dtype=float32), array([2.3939912], dtype=float32), array([2.4008775], dtype=float32), array([2.4244785], dtype=float32), array([2.448545], dtype=float32), array([2.4312098], dtype=float32), array([2.4387374], dtype=float32), array([2.4511507], dtype=float32), array([2.395257], dtype=float32), array([2.421856], dtype=float32), array([2.3857806], dtype=float32), array([2.4416173], dtype=float32), array([2.428096], dtype=float32), array([2.4112859], dtype=float32), array([2.4119537], dtype=float32), array([2.4236586], dtype=float32), array([2.4196975], dtype=float32), array([2.3968592], dtype=float32), array([2.3982365], dtype=float32), array([2.426932], dtype=float32), array([2.4201632], dtype=float32), array([2.4197648], dtype=float32), array([2.4150078], dtype=float32), array([2.422907], dtype=float32), array([2.427525], dtype=float32), array([2.424594], dtype=float32), array([2.4238436], dtype=float32), array([2.4274654], dtype=float32), array([2.4410646], dtype=float32), array([2.4243708], dtype=float32), array([2.4256566], dtype=float32), array([2.4209945], dtype=float32), array([2.4235773], dtype=float32), array([2.4115639], dtype=float32), array([2.4029608], dtype=float32), array([2.3849254], dtype=float32), array([2.3532195], dtype=float32), array([2.341849], dtype=float32), array([2.3496306], dtype=float32), array([2.3574226], dtype=float32), array([2.4090436], dtype=float32), array([2.4188113], dtype=float32), array([2.4045842], dtype=float32), array([2.411577], dtype=float32), array([2.4177866], dtype=float32), array([2.4402466], dtype=float32), array([2.4231458], dtype=float32), array([2.4414048], dtype=float32), array([2.420371], dtype=float32), array([2.4284315], dtype=float32), array([2.4204226], dtype=float32), array([2.4120433], dtype=float32), array([2.3989563], dtype=float32), array([2.4063878], dtype=float32), array([2.4187157], dtype=float32), array([2.4101453], dtype=float32), array([2.390758], dtype=float32), array([2.394767], dtype=float32), array([2.4009836], dtype=float32), array([2.4369736], dtype=float32), array([2.433778], dtype=float32), array([2.4266517], dtype=float32), array([2.4778802], dtype=float32), array([2.4625542], dtype=float32), array([2.4539888], dtype=float32), array([2.4463596], dtype=float32), array([2.4263043], dtype=float32), array([2.411287], dtype=float32), array([2.4197688], dtype=float32), array([2.425647], dtype=float32), array([2.426192], dtype=float32), array([2.4388778], dtype=float32), array([2.4278386], dtype=float32), array([2.4206953], dtype=float32), array([2.4281237], dtype=float32), array([2.414401], dtype=float32), array([2.413266], dtype=float32), array([2.4120557], dtype=float32), array([2.3992248], dtype=float32), array([2.3589375], dtype=float32), array([2.3488517], dtype=float32), array([2.3484797], dtype=float32), array([2.359844], dtype=float32), array([2.4193566], dtype=float32), array([2.369923], dtype=float32), array([2.3982654], dtype=float32), array([2.377452], dtype=float32), array([2.4104984], dtype=float32), array([2.4090815], dtype=float32), array([2.4057662], dtype=float32), array([2.4203017], dtype=float32), array([2.4073167], dtype=float32), array([2.4302008], dtype=float32), array([2.4463885], dtype=float32), array([2.4546635], dtype=float32), array([2.4550004], dtype=float32), array([2.441755], dtype=float32), array([2.4409633], dtype=float32), array([2.4472294], dtype=float32), array([2.431869], dtype=float32), array([2.4299076], dtype=float32), array([2.4056532], dtype=float32), array([2.4167097], dtype=float32), array([2.4148924], dtype=float32), array([2.407232], dtype=float32), array([2.4012518], dtype=float32), array([2.4072623], dtype=float32), array([2.4747913], dtype=float32), array([2.464407], dtype=float32), array([2.480579], dtype=float32), array([2.4963794], dtype=float32), array([2.489221], dtype=float32), array([2.479481], dtype=float32), array([2.4837494], dtype=float32), array([2.485484], dtype=float32), array([2.480724], dtype=float32), array([2.4754026], dtype=float32), array([2.469264], dtype=float32), array([2.4704983], dtype=float32), array([2.4701922], dtype=float32), array([2.473827], dtype=float32), array([2.4705951], dtype=float32), array([2.462586], dtype=float32), array([2.465147], dtype=float32), array([2.4786818], dtype=float32), array([2.4771538], dtype=float32), array([2.4893148], dtype=float32), array([2.5146291], dtype=float32), array([2.563025], dtype=float32), array([2.5589676], dtype=float32), array([2.5395398], dtype=float32), array([2.5432582], dtype=float32), array([2.5610366], dtype=float32), array([2.5428514], dtype=float32), array([2.551426], dtype=float32), array([2.555181], dtype=float32), array([2.551753], dtype=float32), array([2.553801], dtype=float32), array([2.5568256], dtype=float32), array([2.5434165], dtype=float32), array([2.5305765], dtype=float32), array([2.532262], dtype=float32), array([2.5266883], dtype=float32), array([2.53356], dtype=float32), array([2.5354955], dtype=float32), array([2.5391603], dtype=float32), array([2.5385575], dtype=float32), array([2.553019], dtype=float32), array([2.5528176], dtype=float32), array([2.5466895], dtype=float32), array([2.5346773], dtype=float32), array([2.5491626], dtype=float32), array([2.5576816], dtype=float32), array([2.5740812], dtype=float32), array([2.5087945], dtype=float32), array([2.5121658], dtype=float32), array([2.4829116], dtype=float32), array([2.4762275], dtype=float32), array([2.4706697], dtype=float32), array([2.476344], dtype=float32), array([2.4749475], dtype=float32), array([2.459684], dtype=float32), array([2.4569495], dtype=float32), array([2.4703002], dtype=float32), array([2.460195], dtype=float32), array([2.469905], dtype=float32), array([2.4649324], dtype=float32), array([2.4711323], dtype=float32), array([2.4863012], dtype=float32), array([2.4822936], dtype=float32), array([2.4727147], dtype=float32), array([2.4636555], dtype=float32), array([2.466189], dtype=float32), array([2.4346747], dtype=float32), array([2.4295542], dtype=float32), array([2.430569], dtype=float32), array([2.4372668], dtype=float32), array([2.4913247], dtype=float32), array([2.501073], dtype=float32), array([2.5090742], dtype=float32), array([2.4892037], dtype=float32), array([2.5019732], dtype=float32), array([2.5047898], dtype=float32), array([2.5079005], dtype=float32), array([2.5205748], dtype=float32), array([2.518129], dtype=float32), array([2.504502], dtype=float32), array([2.5057592], dtype=float32), array([2.495868], dtype=float32), array([2.5027409], dtype=float32), array([2.4895997], dtype=float32), array([2.4873521], dtype=float32), array([2.4909077], dtype=float32), array([2.4965167], dtype=float32), array([2.4972022], dtype=float32), array([2.4902785], dtype=float32), array([2.4961574], dtype=float32), array([2.4993582], dtype=float32), array([2.4947946], dtype=float32), array([2.474588], dtype=float32), array([2.4875643], dtype=float32), array([2.506802], dtype=float32), array([2.522365], dtype=float32), array([2.5172334], dtype=float32), array([2.521166], dtype=float32), array([2.5186331], dtype=float32), array([2.5329645], dtype=float32), array([2.529727], dtype=float32), array([2.5172496], dtype=float32), array([2.512538], dtype=float32), array([2.5022674], dtype=float32), array([2.5004318], dtype=float32), array([2.493969], dtype=float32), array([2.4881086], dtype=float32), array([2.4902804], dtype=float32), array([2.4926598], dtype=float32), array([2.4877625], dtype=float32), array([2.5039146], dtype=float32), array([2.5046005], dtype=float32), array([2.496696], dtype=float32), array([2.4972386], dtype=float32), array([2.486929], dtype=float32), array([2.492238], dtype=float32), array([2.4946246], dtype=float32), array([2.5035887], dtype=float32), array([2.5149183], dtype=float32), array([2.5097392], dtype=float32), array([2.5210114], dtype=float32), array([2.4999652], dtype=float32), array([2.5001576], dtype=float32), array([2.4830458], dtype=float32), array([2.497241], dtype=float32), array([2.4903963], dtype=float32), array([2.5068507], dtype=float32), array([2.4973607], dtype=float32), array([2.485959], dtype=float32), array([2.4851887], dtype=float32), array([2.4875646], dtype=float32), array([2.469225], dtype=float32), array([2.4669979], dtype=float32), array([2.4694378], dtype=float32), array([2.4754813], dtype=float32), array([2.4684076], dtype=float32), array([2.4775753], dtype=float32), array([2.4812317], dtype=float32), array([2.479219], dtype=float32), array([2.4708266], dtype=float32), array([2.4634757], dtype=float32), array([2.4702759], dtype=float32), array([2.4714594], dtype=float32), array([2.4590633], dtype=float32), array([2.4414146], dtype=float32), array([2.4343538], dtype=float32), array([2.4380627], dtype=float32), array([2.4414074], dtype=float32), array([2.4301317], dtype=float32), array([2.4062517], dtype=float32), array([2.428917], dtype=float32), array([2.437446], dtype=float32), array([2.449059], dtype=float32), array([2.441554], dtype=float32), array([2.444458], dtype=float32), array([2.4300447], dtype=float32), array([2.430894], dtype=float32), array([2.4350896], dtype=float32), array([2.4452534], dtype=float32), array([2.4330673], dtype=float32), array([2.4104671], dtype=float32), array([2.4217997], dtype=float32), array([2.4230595], dtype=float32), array([2.4178548], dtype=float32), array([2.413113], dtype=float32), array([2.4033523], dtype=float32), array([2.3900192], dtype=float32), array([2.3984196], dtype=float32), array([2.4061882], dtype=float32), array([2.392076], dtype=float32), array([2.3993793], dtype=float32), array([2.4060564], dtype=float32), array([2.4130297], dtype=float32), array([2.4535196], dtype=float32), array([2.4630132], dtype=float32), array([2.455751], dtype=float32), array([2.449274], dtype=float32), array([2.4627695], dtype=float32), array([2.4574966], dtype=float32), array([2.4158382], dtype=float32), array([2.4146514], dtype=float32), array([2.4167063], dtype=float32), array([2.4120042], dtype=float32), array([2.3811142], dtype=float32), array([2.3843837], dtype=float32), array([2.3959928], dtype=float32), array([2.3908677], dtype=float32), array([2.4246883], dtype=float32), array([2.4297698], dtype=float32), array([2.4389877], dtype=float32), array([2.4610455], dtype=float32), array([2.4294295], dtype=float32), array([2.426497], dtype=float32), array([2.4429276], dtype=float32), array([2.435176], dtype=float32), array([2.4249063], dtype=float32), array([2.4076784], dtype=float32), array([2.412315], dtype=float32), array([2.4278574], dtype=float32), array([2.405343], dtype=float32), array([2.4146051], dtype=float32), array([2.409832], dtype=float32), array([2.425179], dtype=float32), array([2.4202023], dtype=float32), array([2.418858], dtype=float32), array([2.4187908], dtype=float32), array([2.4290862], dtype=float32), array([2.4329867], dtype=float32), array([2.4274638], dtype=float32), array([2.4334855], dtype=float32), array([2.4374125], dtype=float32), array([2.4392717], dtype=float32), array([2.432254], dtype=float32), array([2.4554062], dtype=float32), array([2.4976892], dtype=float32), array([2.5235648], dtype=float32), array([2.5212085], dtype=float32), array([2.504322], dtype=float32), array([2.4922419], dtype=float32), array([2.4980276], dtype=float32), array([2.4839764], dtype=float32), array([2.3946636], dtype=float32), array([2.3823304], dtype=float32), array([2.3501766], dtype=float32), array([2.3596666], dtype=float32), array([2.2853224], dtype=float32), array([2.2854123], dtype=float32), array([2.2055643], dtype=float32), array([2.223857], dtype=float32), array([2.2199736], dtype=float32), array([2.2063596], dtype=float32), array([2.2281644], dtype=float32), array([2.231114], dtype=float32), array([2.2217324], dtype=float32), array([2.224361], dtype=float32), array([2.2253897], dtype=float32), array([2.1886647], dtype=float32), array([2.2092407], dtype=float32), array([2.2080636], dtype=float32), array([2.2371018], dtype=float32), array([2.227364], dtype=float32), array([2.2084649], dtype=float32), array([2.2005892], dtype=float32), array([2.18505], dtype=float32), array([2.2065375], dtype=float32), array([2.1133919], dtype=float32), array([2.085547], dtype=float32), array([2.0992575], dtype=float32), array([2.1016774], dtype=float32), array([2.0958042], dtype=float32), array([2.0911908], dtype=float32), array([2.0832071], dtype=float32), array([2.0791316], dtype=float32), array([2.0501044], dtype=float32), array([2.0508962], dtype=float32), array([2.0357351], dtype=float32), array([2.049499], dtype=float32), array([2.0083652], dtype=float32), array([2.047091], dtype=float32), array([2.0421102], dtype=float32), array([2.0657568], dtype=float32), array([2.0525022], dtype=float32), array([2.0234656], dtype=float32), array([2.0144293], dtype=float32), array([2.0306182], dtype=float32), array([2.00489], dtype=float32), array([1.9934549], dtype=float32), array([2.000402], dtype=float32), array([2.045166], dtype=float32), array([2.050095], dtype=float32), array([2.019697], dtype=float32), array([2.0303283], dtype=float32), array([2.0512886], dtype=float32), array([2.0480459], dtype=float32), array([2.023104], dtype=float32), array([2.0342073], dtype=float32), array([2.0451655], dtype=float32), array([2.06], dtype=float32), array([2.0484157], dtype=float32), array([2.0655253], dtype=float32), array([2.081385], dtype=float32), array([2.0836926], dtype=float32), array([2.0835032], dtype=float32), array([2.0707083], dtype=float32), array([2.0777388], dtype=float32), array([2.0872178], dtype=float32), array([2.0504706], dtype=float32), array([2.0476418], dtype=float32), array([2.0433838], dtype=float32), array([2.0492566], dtype=float32), array([2.0255568], dtype=float32), array([2.0144622], dtype=float32), array([2.0420814], dtype=float32), array([2.0441954], dtype=float32), array([2.0527546], dtype=float32), array([2.0967846], dtype=float32), array([2.073874], dtype=float32), array([2.0641708], dtype=float32), array([2.0394735], dtype=float32), array([2.0504813], dtype=float32), array([2.0388117], dtype=float32), array([2.0430555], dtype=float32), array([2.046092], dtype=float32), array([2.0245214], dtype=float32), array([2.026423], dtype=float32), array([2.0002043], dtype=float32), array([1.9367373], dtype=float32), array([1.9561447], dtype=float32), array([1.924758], dtype=float32), array([1.9356873], dtype=float32), array([1.9465387], dtype=float32), array([1.9823551], dtype=float32), array([1.9911102], dtype=float32), array([2.0515723], dtype=float32), array([2.1083658], dtype=float32), array([2.1050105], dtype=float32), array([2.186893], dtype=float32), array([2.1609087], dtype=float32), array([2.135834], dtype=float32), array([2.1507273], dtype=float32), array([2.1144855], dtype=float32), array([2.1163433], dtype=float32), array([2.1218405], dtype=float32), array([2.1244557], dtype=float32), array([2.0893965], dtype=float32), array([2.089911], dtype=float32), array([2.0730858], dtype=float32), array([2.0818214], dtype=float32), array([2.079671], dtype=float32), array([2.0993085], dtype=float32), array([2.0998108], dtype=float32), array([2.0997794], dtype=float32), array([2.1073067], dtype=float32), array([2.1084087], dtype=float32), array([2.0985377], dtype=float32), array([2.1130702], dtype=float32), array([2.1325662], dtype=float32), array([2.1604438], dtype=float32), array([2.1625805], dtype=float32), array([2.1467748], dtype=float32), array([2.1338387], dtype=float32), array([2.1164765], dtype=float32), array([2.1295612], dtype=float32), array([2.1381648], dtype=float32), array([2.1184945], dtype=float32), array([2.1287725], dtype=float32), array([2.1252134], dtype=float32), array([2.1598632], dtype=float32), array([2.1833997], dtype=float32), array([2.1720428], dtype=float32), array([2.1524768], dtype=float32), array([2.156395], dtype=float32), array([2.1728945], dtype=float32), array([2.176896], dtype=float32), array([2.1945384], dtype=float32), array([2.2026725], dtype=float32), array([2.182782], dtype=float32), array([2.2090182], dtype=float32), array([2.210231], dtype=float32), array([2.1955113], dtype=float32), array([2.210296], dtype=float32), array([2.1965895], dtype=float32), array([2.1913598], dtype=float32), array([2.16714], dtype=float32), array([2.1357007], dtype=float32), array([2.0976896], dtype=float32), array([2.1060696], dtype=float32), array([2.1199834], dtype=float32), array([2.1286273], dtype=float32), array([2.0626566], dtype=float32), array([2.0683212], dtype=float32), array([2.0531864], dtype=float32), array([2.0650747], dtype=float32), array([2.065415], dtype=float32), array([2.0771005], dtype=float32), array([2.0798988], dtype=float32), array([2.0985107], dtype=float32), array([2.1049473], dtype=float32), array([2.0955756], dtype=float32), array([2.1190257], dtype=float32), array([2.120838], dtype=float32), array([2.1328673], dtype=float32), array([2.1359892], dtype=float32), array([2.1228566], dtype=float32), array([2.115954], dtype=float32), array([2.1014354], dtype=float32), array([2.097096], dtype=float32), array([2.0950563], dtype=float32), array([2.0592296], dtype=float32), array([2.090863], dtype=float32), array([2.1195204], dtype=float32), array([2.1479132], dtype=float32), array([2.1448965], dtype=float32), array([2.1289706], dtype=float32), array([2.1332674], dtype=float32), array([2.1606002], dtype=float32), array([2.1544363], dtype=float32), array([2.1541808], dtype=float32), array([2.1366994], dtype=float32), array([2.131383], dtype=float32), array([2.121867], dtype=float32), array([2.1110156], dtype=float32), array([2.116027], dtype=float32), array([2.1043723], dtype=float32), array([2.0928023], dtype=float32), array([2.1273265], dtype=float32), array([2.1175585], dtype=float32), array([2.1433885], dtype=float32), array([2.1372645], dtype=float32), array([2.1247663], dtype=float32), array([2.1372595], dtype=float32), array([2.1501248], dtype=float32), array([2.1851192], dtype=float32), array([2.1873488], dtype=float32), array([2.1799054], dtype=float32), array([2.1831663], dtype=float32), array([2.188167], dtype=float32), array([2.17228], dtype=float32), array([2.1706758], dtype=float32), array([2.1818295], dtype=float32), array([2.185618], dtype=float32), array([2.173847], dtype=float32), array([2.1773577], dtype=float32), array([2.182311], dtype=float32), array([2.1786976], dtype=float32), array([2.172653], dtype=float32), array([2.175556], dtype=float32), array([2.1744466], dtype=float32), array([2.1810522], dtype=float32), array([2.2000546], dtype=float32), array([2.1676645], dtype=float32), array([2.1646132], dtype=float32), array([2.162504], dtype=float32), array([2.17017], dtype=float32), array([2.1782596], dtype=float32), array([2.1808922], dtype=float32), array([2.2109008], dtype=float32), array([2.212089], dtype=float32), array([2.1991117], dtype=float32), array([2.2004566], dtype=float32), array([2.1810164], dtype=float32), array([2.188423], dtype=float32), array([2.1889567], dtype=float32), array([2.1872647], dtype=float32), array([2.1967003], dtype=float32), array([2.1985781], dtype=float32), array([2.1953406], dtype=float32), array([2.2032769], dtype=float32), array([2.18836], dtype=float32), array([2.1818566], dtype=float32), array([2.1990967], dtype=float32), array([2.1952765], dtype=float32), array([2.1848304], dtype=float32), array([2.1857462], dtype=float32), array([2.1791472], dtype=float32), array([2.1875021], dtype=float32), array([2.178039], dtype=float32), array([2.187681], dtype=float32), array([2.1767817], dtype=float32), array([2.159254], dtype=float32), array([2.1684072], dtype=float32), array([2.1714466], dtype=float32), array([2.174955], dtype=float32), array([2.179994], dtype=float32), array([2.1206536], dtype=float32), array([2.120483], dtype=float32), array([2.1293898], dtype=float32), array([2.1324272], dtype=float32), array([2.1232529], dtype=float32), array([2.1279373], dtype=float32), array([2.122981], dtype=float32), array([2.1352477], dtype=float32), array([2.136623], dtype=float32), array([2.1420863], dtype=float32), array([2.1481898], dtype=float32), array([2.148009], dtype=float32), array([2.1384726], dtype=float32), array([2.1496427], dtype=float32), array([2.1663067], dtype=float32), array([2.1802404], dtype=float32), array([2.2198317], dtype=float32), array([2.2287676], dtype=float32), array([2.2288394], dtype=float32), array([2.2245603], dtype=float32), array([2.227406], dtype=float32), array([2.2243633], dtype=float32), array([2.2237425], dtype=float32), array([2.2258062], dtype=float32), array([2.216873], dtype=float32), array([2.208615], dtype=float32), array([2.221221], dtype=float32), array([2.2266784], dtype=float32), array([2.2224398], dtype=float32), array([2.2142208], dtype=float32), array([2.203627], dtype=float32), array([2.2126594], dtype=float32), array([2.2219663], dtype=float32), array([2.201411], dtype=float32), array([2.2009614], dtype=float32), array([2.2114496], dtype=float32), array([2.2262871], dtype=float32), array([2.2396774], dtype=float32), array([2.2172065], dtype=float32), array([2.2249627], dtype=float32), array([2.25548], dtype=float32), array([2.2413647], dtype=float32), array([2.2203615], dtype=float32), array([2.2108853], dtype=float32), array([2.2199914], dtype=float32), array([2.236008], dtype=float32), array([2.2294006], dtype=float32), array([2.2282462], dtype=float32), array([2.2191987], dtype=float32), array([2.2122278], dtype=float32), array([2.222453], dtype=float32), array([2.218141], dtype=float32), array([2.2102952], dtype=float32), array([2.2094064], dtype=float32), array([2.2016423], dtype=float32), array([2.20206], dtype=float32), array([2.2115445], dtype=float32), array([2.2169633], dtype=float32), array([2.219068], dtype=float32), array([2.2144537], dtype=float32), array([2.2294898], dtype=float32), array([2.2078633], dtype=float32), array([2.170659], dtype=float32), array([2.1551285], dtype=float32), array([2.1504447], dtype=float32), array([2.1570084], dtype=float32), array([2.1555786], dtype=float32), array([2.158574], dtype=float32), array([2.157027], dtype=float32), array([2.119958], dtype=float32), array([2.1245418], dtype=float32), array([2.1187253], dtype=float32), array([2.119524], dtype=float32), array([2.1171541], dtype=float32), array([2.1251686], dtype=float32), array([2.1179333], dtype=float32), array([2.1239636], dtype=float32), array([2.1295393], dtype=float32), array([2.1271152], dtype=float32), array([2.1335912], dtype=float32), array([2.1377563], dtype=float32), array([2.112084], dtype=float32), array([2.0993097], dtype=float32), array([2.1226816], dtype=float32), array([2.1180747], dtype=float32), array([2.111227], dtype=float32), array([2.105448], dtype=float32), array([2.1298537], dtype=float32), array([2.1161315], dtype=float32), array([2.124609], dtype=float32), array([2.119898], dtype=float32), array([2.1094298], dtype=float32), array([2.0986962], dtype=float32), array([2.1334405], dtype=float32), array([2.132868], dtype=float32), array([2.1565175], dtype=float32), array([2.147319], dtype=float32), array([2.1482825], dtype=float32), array([2.1571136], dtype=float32), array([2.1565652], dtype=float32), array([2.155889], dtype=float32), array([2.1713374], dtype=float32), array([2.1993628], dtype=float32), array([2.191321], dtype=float32), array([2.196004], dtype=float32), array([2.198724], dtype=float32), array([2.1909294], dtype=float32), array([2.1854148], dtype=float32), array([2.1935074], dtype=float32), array([2.161201], dtype=float32), array([2.191429], dtype=float32), array([2.2923896], dtype=float32), array([2.3523064], dtype=float32), array([2.3697], dtype=float32), array([2.3642132], dtype=float32), array([2.3845074], dtype=float32), array([2.3739073], dtype=float32), array([2.3747144], dtype=float32), array([2.3725681], dtype=float32), array([2.436621], dtype=float32), array([2.4246683], dtype=float32), array([2.406762], dtype=float32), array([2.4064286], dtype=float32), array([2.4101868], dtype=float32), array([2.4067614], dtype=float32), array([2.4064226], dtype=float32), array([2.4019637], dtype=float32), array([2.392054], dtype=float32), array([2.3938105], dtype=float32), array([2.4000525], dtype=float32), array([2.4007833], dtype=float32), array([2.3911831], dtype=float32), array([2.387734], dtype=float32), array([2.3963888], dtype=float32), array([2.3929255], dtype=float32), array([2.412791], dtype=float32), array([2.3809912], dtype=float32), array([2.401342], dtype=float32), array([2.407322], dtype=float32), array([2.4001434], dtype=float32), array([2.405105], dtype=float32), array([2.4050353], dtype=float32), array([2.4024315], dtype=float32), array([2.388922], dtype=float32), array([2.395227], dtype=float32), array([2.4033787], dtype=float32), array([2.398649], dtype=float32), array([2.3918014], dtype=float32), array([2.3982253], dtype=float32), array([2.400464], dtype=float32), array([2.3923519], dtype=float32), array([2.402596], dtype=float32), array([2.4048364], dtype=float32), array([2.4060278], dtype=float32), array([2.401], dtype=float32), array([2.397914], dtype=float32), array([2.403896], dtype=float32), array([2.409475], dtype=float32), array([2.3840868], dtype=float32), array([2.3975282], dtype=float32), array([2.405279], dtype=float32), array([2.4062686], dtype=float32), array([2.3957205], dtype=float32), array([2.4100342], dtype=float32), array([2.400487], dtype=float32), array([2.4061503], dtype=float32), array([2.4015005], dtype=float32), array([2.4571238], dtype=float32), array([2.419], dtype=float32), array([2.438234], dtype=float32), array([2.4530115], dtype=float32), array([2.4916816], dtype=float32), array([2.48976], dtype=float32), array([2.4897866], dtype=float32), array([2.4862442], dtype=float32), array([2.4855404], dtype=float32), array([2.4756463], dtype=float32), array([2.4619646], dtype=float32), array([2.4701865], dtype=float32), array([2.479418], dtype=float32), array([2.4722471], dtype=float32), array([2.481034], dtype=float32), array([2.523552], dtype=float32), array([2.5554724], dtype=float32), array([2.5531545], dtype=float32), array([2.5835996], dtype=float32), array([2.5758379], dtype=float32), array([2.5913622], dtype=float32), array([2.581785], dtype=float32), array([2.5795379], dtype=float32), array([2.5762315], dtype=float32), array([2.559463], dtype=float32), array([2.5572844], dtype=float32), array([2.5676913], dtype=float32), array([2.5595303], dtype=float32), array([2.5723925], dtype=float32), array([2.5837445], dtype=float32), array([2.6217449], dtype=float32), array([2.6151333], dtype=float32), array([2.6213222], dtype=float32), array([2.5639167], dtype=float32), array([2.556259], dtype=float32), array([2.554578], dtype=float32), array([2.5637984], dtype=float32), array([2.5248265], dtype=float32), array([2.534047], dtype=float32), array([2.5288608], dtype=float32), array([2.5187051], dtype=float32), array([2.4885335], dtype=float32), array([2.4844205], dtype=float32), array([2.4855645], dtype=float32), array([2.4871018], dtype=float32), array([2.5770164], dtype=float32), array([2.5725112], dtype=float32), array([2.5673687], dtype=float32), array([2.56619], dtype=float32), array([2.5864606], dtype=float32), array([2.5605202], dtype=float32), array([2.525661], dtype=float32), array([2.5244184], dtype=float32), array([2.5310893], dtype=float32), array([2.5371575], dtype=float32), array([2.5413008], dtype=float32), array([2.5471833], dtype=float32), array([2.5184233], dtype=float32), array([2.5168343], dtype=float32), array([2.5316882], dtype=float32), array([2.5398846], dtype=float32), array([2.5695753], dtype=float32), array([2.5563514], dtype=float32), array([2.5692549], dtype=float32), array([2.554325], dtype=float32), array([2.571231], dtype=float32), array([2.5697198], dtype=float32), array([2.577858], dtype=float32), array([2.5972724], dtype=float32), array([2.6194906], dtype=float32), array([2.5967612], dtype=float32), array([2.6035748], dtype=float32), array([2.5903764], dtype=float32), array([2.5727105], dtype=float32), array([2.580408], dtype=float32), array([2.5494423], dtype=float32), array([2.5463152], dtype=float32), array([2.5441327], dtype=float32), array([2.55044], dtype=float32), array([2.547789], dtype=float32), array([2.5625854], dtype=float32), array([2.571442], dtype=float32), array([2.5859678], dtype=float32), array([2.604443], dtype=float32), array([2.6205256], dtype=float32), array([2.620632], dtype=float32), array([2.5434742], dtype=float32), array([2.5911584], dtype=float32), array([2.6324701], dtype=float32), array([2.6662426], dtype=float32), array([2.6572835], dtype=float32), array([2.650866], dtype=float32), array([2.5935104], dtype=float32), array([2.575172], dtype=float32), array([2.5494874], dtype=float32), array([2.5613856], dtype=float32), array([2.526272], dtype=float32), array([2.4947593], dtype=float32), array([2.4990013], dtype=float32), array([2.4952142], dtype=float32), array([2.507394], dtype=float32), array([2.488608], dtype=float32), array([2.4738472], dtype=float32), array([2.501199], dtype=float32), array([2.5115116], dtype=float32)]\n"
     ]
    }
   ],
   "source": [
    "print(seven_day_predictions)"
   ]
  },
  {
   "cell_type": "code",
   "execution_count": 143,
   "id": "9c3f82f4",
   "metadata": {},
   "outputs": [],
   "source": [
    "scaled_three_day_predictions = scaler.inverse_transform(three_day_predictions)"
   ]
  },
  {
   "cell_type": "code",
   "execution_count": 156,
   "id": "5eb85518",
   "metadata": {},
   "outputs": [],
   "source": [
    "scaled_seven_day_predictions = scaler.inverse_transform(seven_day_predictions)"
   ]
  },
  {
   "cell_type": "code",
   "execution_count": 157,
   "id": "380b8906",
   "metadata": {},
   "outputs": [
    {
     "name": "stdout",
     "output_type": "stream",
     "text": [
      "[[52393.09400678]\n",
      " [52195.99807203]\n",
      " [52354.73565912]\n",
      " ...\n",
      " [44546.86637223]\n",
      " [44550.05689645]\n",
      " [44505.88995326]]\n",
      "[[53219.78405225]\n",
      " [53035.46222389]\n",
      " [53183.61543703]\n",
      " ...\n",
      " [44456.13058555]\n",
      " [44915.38192761]\n",
      " [45088.53491962]]\n"
     ]
    }
   ],
   "source": [
    "print(scaled_three_day_predictions)\n",
    "print(scaled_seven_day_predictions)"
   ]
  },
  {
   "cell_type": "code",
   "execution_count": 139,
   "id": "7240acea",
   "metadata": {},
   "outputs": [
    {
     "name": "stdout",
     "output_type": "stream",
     "text": [
      "[48956.39]\n"
     ]
    }
   ],
   "source": [
    "# Targets to compare  \n",
    "targets_in_future_three = btc_test[1][(3 - 1):]\n",
    "targets_in_future_three = scaler.inverse_transform(targets_in_future_three)\n",
    "\n",
    "targets_in_future_seven = btc_test[1][(7 - 1):]\n",
    "targets_in_future_seven = scaler.inverse_transform(targets_in_future_seven)"
   ]
  },
  {
   "cell_type": "code",
   "execution_count": 159,
   "id": "79683480",
   "metadata": {},
   "outputs": [
    {
     "name": "stdout",
     "output_type": "stream",
     "text": [
      "[[48721.41]\n",
      " [48929.59]\n",
      " [48686.01]\n",
      " ...\n",
      " [43570.77]\n",
      " [43765.14]\n",
      " [43534.54]]\n"
     ]
    }
   ],
   "source": [
    "print(targets_in_future_seven)\n",
    "#print(targets_in_future_three)"
   ]
  },
  {
   "cell_type": "code",
   "execution_count": 161,
   "id": "bcdc7082",
   "metadata": {},
   "outputs": [
    {
     "name": "stdout",
     "output_type": "stream",
     "text": [
      "49.77291570850026\n",
      "2862.5306011223647\n",
      "53.50262237612625\n",
      "0.22378378125815537\n"
     ]
    }
   ],
   "source": [
    "#print(math.sqrt(mean_absolute_error(targets_in_future_three , scaled_three_day_predictions)))\n",
    "print(math.sqrt(mean_absolute_error(targets_in_future_seven , scaled_seven_day_predictions)))\n",
    "\n",
    "#print(math.sqrt(mean_squared_error(targets_in_future_three , scaled_three_day_predictions )))\n",
    "print(math.sqrt(mean_squared_error(targets_in_future_seven , scaled_seven_day_predictions )))\n",
    "\n",
    "#print(math.sqrt(mean_squared_error(targets_in_future_three , scaled_three_day_predictions , squared = False)))\n",
    "print(math.sqrt(mean_squared_error(targets_in_future_seven , scaled_seven_day_predictions , squared = False)))\n",
    "\n",
    "#print(math.sqrt(mean_absolute_percentage_error(targets_in_future_three , scaled_three_day_predictions)))\n",
    "print(math.sqrt(mean_absolute_percentage_error(targets_in_future_seven , scaled_seven_day_predictions)))"
   ]
  },
  {
   "cell_type": "code",
   "execution_count": null,
   "id": "7b91b48c",
   "metadata": {},
   "outputs": [],
   "source": []
  }
 ],
 "metadata": {
  "kernelspec": {
   "display_name": "Python 3 (ipykernel)",
   "language": "python",
   "name": "python3"
  },
  "language_info": {
   "codemirror_mode": {
    "name": "ipython",
    "version": 3
   },
   "file_extension": ".py",
   "mimetype": "text/x-python",
   "name": "python",
   "nbconvert_exporter": "python",
   "pygments_lexer": "ipython3",
   "version": "3.7.0"
  }
 },
 "nbformat": 4,
 "nbformat_minor": 5
}
