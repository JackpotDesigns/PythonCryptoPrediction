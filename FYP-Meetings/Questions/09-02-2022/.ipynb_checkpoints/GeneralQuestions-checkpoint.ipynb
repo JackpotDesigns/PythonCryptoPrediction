{
 "cells": [
  {
   "cell_type": "markdown",
   "id": "3a982cc3",
   "metadata": {},
   "source": [
    "<p> Should 5 page just be an abridged version on fyp?? </p>"
   ]
  },
  {
   "cell_type": "markdown",
   "id": "cddc32dc",
   "metadata": {},
   "source": [
    "<p> Training and splitting was done in an 80 - 20 split for Eth price prediction . For the Price Prediction scheme , it was done using one test example . what do i choose ? </p>"
   ]
  },
  {
   "cell_type": "code",
   "execution_count": null,
   "id": "9457fcd7",
   "metadata": {},
   "outputs": [],
   "source": []
  }
 ],
 "metadata": {
  "kernelspec": {
   "display_name": "Python 3 (ipykernel)",
   "language": "python",
   "name": "python3"
  },
  "language_info": {
   "codemirror_mode": {
    "name": "ipython",
    "version": 3
   },
   "file_extension": ".py",
   "mimetype": "text/x-python",
   "name": "python",
   "nbconvert_exporter": "python",
   "pygments_lexer": "ipython3",
   "version": "3.9.10"
  }
 },
 "nbformat": 4,
 "nbformat_minor": 5
}
