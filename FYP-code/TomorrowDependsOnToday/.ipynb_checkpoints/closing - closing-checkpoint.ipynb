{
 "cells": [
  {
   "cell_type": "code",
   "execution_count": 1,
   "id": "4c5ffa71",
   "metadata": {},
   "outputs": [],
   "source": [
    "import pandas as pd\n",
    "import numpy as np\n",
    "from matplotlib import pyplot as plt\n",
    "import os\n",
    "from sklearn.metrics import mean_squared_error , mean_absolute_error , mean_absolute_percentage_error"
   ]
  },
  {
   "cell_type": "markdown",
   "id": "d2534026",
   "metadata": {},
   "source": [
    "<Strong> Reading in the data as a DataFrame grabbing the headers , then , converting to a numpy array.</Strong>"
   ]
  },
  {
   "cell_type": "code",
   "execution_count": 2,
   "id": "10565e37",
   "metadata": {},
   "outputs": [],
   "source": [
    "df_xrp = pd.read_csv(\"XRP_1h_data.csv\")\n",
    "df_btc = pd.read_csv(\"BTC_1h_data.csv\")\n",
    "df_eth = pd.read_csv(\"ETH_1h_data.csv\")"
   ]
  },
  {
   "cell_type": "code",
   "execution_count": 3,
   "id": "4926c003",
   "metadata": {},
   "outputs": [
    {
     "data": {
      "text/html": [
       "<div>\n",
       "<style scoped>\n",
       "    .dataframe tbody tr th:only-of-type {\n",
       "        vertical-align: middle;\n",
       "    }\n",
       "\n",
       "    .dataframe tbody tr th {\n",
       "        vertical-align: top;\n",
       "    }\n",
       "\n",
       "    .dataframe thead th {\n",
       "        text-align: right;\n",
       "    }\n",
       "</style>\n",
       "<table border=\"1\" class=\"dataframe\">\n",
       "  <thead>\n",
       "    <tr style=\"text-align: right;\">\n",
       "      <th></th>\n",
       "      <th>date</th>\n",
       "      <th>open</th>\n",
       "      <th>high</th>\n",
       "      <th>low</th>\n",
       "      <th>close</th>\n",
       "      <th>volume</th>\n",
       "    </tr>\n",
       "  </thead>\n",
       "  <tbody>\n",
       "    <tr>\n",
       "      <th>0</th>\n",
       "      <td>2017-08-17 04:00:00.000</td>\n",
       "      <td>4261.48</td>\n",
       "      <td>4313.62</td>\n",
       "      <td>4261.32</td>\n",
       "      <td>4308.83</td>\n",
       "      <td>47.181009</td>\n",
       "    </tr>\n",
       "    <tr>\n",
       "      <th>1</th>\n",
       "      <td>2017-08-17 05:00:00.000</td>\n",
       "      <td>4308.83</td>\n",
       "      <td>4328.69</td>\n",
       "      <td>4291.37</td>\n",
       "      <td>4315.32</td>\n",
       "      <td>23.234916</td>\n",
       "    </tr>\n",
       "    <tr>\n",
       "      <th>2</th>\n",
       "      <td>2017-08-17 06:00:00.000</td>\n",
       "      <td>4330.29</td>\n",
       "      <td>4345.45</td>\n",
       "      <td>4309.37</td>\n",
       "      <td>4324.35</td>\n",
       "      <td>7.229691</td>\n",
       "    </tr>\n",
       "    <tr>\n",
       "      <th>3</th>\n",
       "      <td>2017-08-17 07:00:00.000</td>\n",
       "      <td>4316.62</td>\n",
       "      <td>4349.99</td>\n",
       "      <td>4287.41</td>\n",
       "      <td>4349.99</td>\n",
       "      <td>4.443249</td>\n",
       "    </tr>\n",
       "    <tr>\n",
       "      <th>4</th>\n",
       "      <td>2017-08-17 08:00:00.000</td>\n",
       "      <td>4333.32</td>\n",
       "      <td>4377.85</td>\n",
       "      <td>4333.32</td>\n",
       "      <td>4360.69</td>\n",
       "      <td>0.972807</td>\n",
       "    </tr>\n",
       "    <tr>\n",
       "      <th>...</th>\n",
       "      <td>...</td>\n",
       "      <td>...</td>\n",
       "      <td>...</td>\n",
       "      <td>...</td>\n",
       "      <td>...</td>\n",
       "      <td>...</td>\n",
       "    </tr>\n",
       "    <tr>\n",
       "      <th>39216</th>\n",
       "      <td>2022-02-11 10:00:00</td>\n",
       "      <td>43492.63</td>\n",
       "      <td>43569.67</td>\n",
       "      <td>43233.67</td>\n",
       "      <td>43443.77</td>\n",
       "      <td>1305.626920</td>\n",
       "    </tr>\n",
       "    <tr>\n",
       "      <th>39217</th>\n",
       "      <td>2022-02-11 11:00:00</td>\n",
       "      <td>43443.78</td>\n",
       "      <td>43523.42</td>\n",
       "      <td>43320.00</td>\n",
       "      <td>43357.53</td>\n",
       "      <td>744.524180</td>\n",
       "    </tr>\n",
       "    <tr>\n",
       "      <th>39218</th>\n",
       "      <td>2022-02-11 12:00:00</td>\n",
       "      <td>43357.53</td>\n",
       "      <td>43700.78</td>\n",
       "      <td>43253.31</td>\n",
       "      <td>43570.77</td>\n",
       "      <td>1317.546940</td>\n",
       "    </tr>\n",
       "    <tr>\n",
       "      <th>39219</th>\n",
       "      <td>2022-02-11 13:00:00</td>\n",
       "      <td>43570.77</td>\n",
       "      <td>43826.00</td>\n",
       "      <td>43503.01</td>\n",
       "      <td>43765.14</td>\n",
       "      <td>1564.251800</td>\n",
       "    </tr>\n",
       "    <tr>\n",
       "      <th>39220</th>\n",
       "      <td>2022-02-11 14:00:00</td>\n",
       "      <td>43765.15</td>\n",
       "      <td>43814.17</td>\n",
       "      <td>43450.01</td>\n",
       "      <td>43534.54</td>\n",
       "      <td>880.790640</td>\n",
       "    </tr>\n",
       "  </tbody>\n",
       "</table>\n",
       "<p>39221 rows × 6 columns</p>\n",
       "</div>"
      ],
      "text/plain": [
       "                          date      open      high       low     close  \\\n",
       "0      2017-08-17 04:00:00.000   4261.48   4313.62   4261.32   4308.83   \n",
       "1      2017-08-17 05:00:00.000   4308.83   4328.69   4291.37   4315.32   \n",
       "2      2017-08-17 06:00:00.000   4330.29   4345.45   4309.37   4324.35   \n",
       "3      2017-08-17 07:00:00.000   4316.62   4349.99   4287.41   4349.99   \n",
       "4      2017-08-17 08:00:00.000   4333.32   4377.85   4333.32   4360.69   \n",
       "...                        ...       ...       ...       ...       ...   \n",
       "39216      2022-02-11 10:00:00  43492.63  43569.67  43233.67  43443.77   \n",
       "39217      2022-02-11 11:00:00  43443.78  43523.42  43320.00  43357.53   \n",
       "39218      2022-02-11 12:00:00  43357.53  43700.78  43253.31  43570.77   \n",
       "39219      2022-02-11 13:00:00  43570.77  43826.00  43503.01  43765.14   \n",
       "39220      2022-02-11 14:00:00  43765.15  43814.17  43450.01  43534.54   \n",
       "\n",
       "            volume  \n",
       "0        47.181009  \n",
       "1        23.234916  \n",
       "2         7.229691  \n",
       "3         4.443249  \n",
       "4         0.972807  \n",
       "...            ...  \n",
       "39216  1305.626920  \n",
       "39217   744.524180  \n",
       "39218  1317.546940  \n",
       "39219  1564.251800  \n",
       "39220   880.790640  \n",
       "\n",
       "[39221 rows x 6 columns]"
      ]
     },
     "execution_count": 3,
     "metadata": {},
     "output_type": "execute_result"
    }
   ],
   "source": [
    "df_btc"
   ]
  },
  {
   "cell_type": "code",
   "execution_count": 4,
   "id": "fa5299e5",
   "metadata": {},
   "outputs": [],
   "source": [
    "df_btc_headers = df_btc.columns"
   ]
  },
  {
   "cell_type": "code",
   "execution_count": 5,
   "id": "a21a1392",
   "metadata": {},
   "outputs": [],
   "source": [
    "btc_float_data = df_btc.values[:, 1: ,].astype(float)\n",
    "eth_float_data = df_eth.values[:, 1: ,].astype(float)\n",
    "xrp_float_data = df_xrp.values[:, 1: ,].astype(float)"
   ]
  },
  {
   "cell_type": "markdown",
   "id": "f9f0eaaa",
   "metadata": {},
   "source": [
    "<Strong> Creating a plot with open price </Strong>"
   ]
  },
  {
   "cell_type": "code",
   "execution_count": 6,
   "id": "209291e0",
   "metadata": {},
   "outputs": [
    {
     "data": {
      "text/plain": [
       "[<matplotlib.lines.Line2D at 0x12a6208e0>]"
      ]
     },
     "execution_count": 6,
     "metadata": {},
     "output_type": "execute_result"
    },
    {
     "data": {
      "image/png": "[encoded data removed]",
      "text/plain": [
       "<Figure size 432x288 with 1 Axes>"
      ]
     },
     "metadata": {
      "needs_background": "light"
     },
     "output_type": "display_data"
    }
   ],
   "source": [
    "closingPrice_btc = btc_float_data[:,3]\n",
    "closingPrice_eth = eth_float_data[:,3]\n",
    "closingPrice_xrp = xrp_float_data[:,3]\n",
    "\n",
    "\n",
    "plt.plot( range ( len (closingPrice_btc) ) , closingPrice_btc )"
   ]
  },
  {
   "cell_type": "markdown",
   "id": "6cd24d7d",
   "metadata": {},
   "source": [
    "<Strong> Create another column if dataframe 0 if downswing today , 1 upswing today </Strong>"
   ]
  },
  {
   "cell_type": "code",
   "execution_count": 7,
   "id": "c91b4605",
   "metadata": {},
   "outputs": [
    {
     "data": {
      "text/plain": [
       "0         4308.83\n",
       "1         4315.32\n",
       "2         4324.35\n",
       "3         4349.99\n",
       "4         4360.69\n",
       "           ...   \n",
       "39216    43443.77\n",
       "39217    43357.53\n",
       "39218    43570.77\n",
       "39219    43765.14\n",
       "39220    43534.54\n",
       "Name: close, Length: 39221, dtype: float64"
      ]
     },
     "execution_count": 7,
     "metadata": {},
     "output_type": "execute_result"
    }
   ],
   "source": [
    "df_btc['close']"
   ]
  },
  {
   "cell_type": "code",
   "execution_count": 8,
   "id": "718a585d",
   "metadata": {},
   "outputs": [],
   "source": [
    "df_btc['tomorrows prediction'] = df_btc['close']\n",
    "df_eth['tomorrows prediction'] = df_eth['close']\n",
    "df_xrp['tomorrows prediction'] = df_xrp['close']"
   ]
  },
  {
   "cell_type": "markdown",
   "id": "9546b772",
   "metadata": {},
   "source": [
    "<p> Here i am creating a tomorrows prediction column and pushing it down one , (guessing tomorrows closing price based off todays closing price) , I am getting rid of the first row as we have no prediction for first row as no rows came before (prediction).  </p>"
   ]
  },
  {
   "cell_type": "code",
   "execution_count": 9,
   "id": "60d61c06",
   "metadata": {},
   "outputs": [],
   "source": [
    "def shift_df(df): \n",
    "    \n",
    "    df['tomorrows prediction'] = df['tomorrows prediction'].shift(1)\n",
    "    df.dropna(inplace=True)\n",
    "    df = df[1:]\n",
    "    \n",
    "    actual = df[['close']].to_numpy()\n",
    "    predictions = df[['tomorrows prediction']].to_numpy()\n",
    "    \n",
    "    return actual , predictions\n",
    "    "
   ]
  },
  {
   "cell_type": "code",
   "execution_count": 10,
   "id": "598d7178",
   "metadata": {},
   "outputs": [],
   "source": [
    "btc_actual , btc_predictions = shift_df(df_btc)\n",
    "eth_actual , eth_predictions = shift_df(df_eth)\n",
    "xrp_actual , xrp_predictions = shift_df(df_xrp)"
   ]
  },
  {
   "cell_type": "code",
   "execution_count": 11,
   "id": "da1edbb4",
   "metadata": {},
   "outputs": [],
   "source": [
    "def get_eval_metrics(crypto , actual , results):\n",
    "    \n",
    "    mae = mean_absolute_error(actual , results)\n",
    "    mse = mean_squared_error(actual , results )\n",
    "    rmse = mean_squared_error(actual , results , squared = False)\n",
    "    mape = mean_absolute_percentage_error(actual , results)\n",
    "    \n",
    "    print(crypto , \"MAE :\" , mae ,\"MSE :\" , mse , \"RMSE :\" , rmse , \"MAPE :\" , mape)\n",
    "\n",
    "    return mae , mse , rmse , mape"
   ]
  },
  {
   "cell_type": "code",
   "execution_count": 12,
   "id": "a310518b",
   "metadata": {},
   "outputs": [
    {
     "name": "stdout",
     "output_type": "stream",
     "text": [
      "BTC MAE : 103.58467324511078 MSE : 46011.6838247329 RMSE : 214.5033422227563 MAPE : 0.005522657928688118\n",
      "ETH MAE : 7.000144572783601 MSE : 253.6607800275376 RMSE : 15.92673161786616 MAPE : 0.007037284989099586\n",
      "XRP MAE : 0.003993649250340753 MSE : 7.679370445252158e-05 RMSE : 0.008763201723829115 MAPE : 0.00722176109096731\n"
     ]
    }
   ],
   "source": [
    "btc_mae , btc_mse , btc_rmse , btc_mape = get_eval_metrics(\"BTC\" , btc_actual , btc_predictions)\n",
    "eth_mae , eth_mse , eth_rmse , eth_mape = get_eval_metrics(\"ETH\" , eth_actual , eth_predictions)\n",
    "xrp_mae , xrp_mse , xrp_rmse , xrp_mape = get_eval_metrics(\"XRP\" , xrp_actual , xrp_predictions)"
   ]
  },
  {
   "cell_type": "code",
   "execution_count": null,
   "id": "34ad19d9",
   "metadata": {},
   "outputs": [],
   "source": []
  }
 ],
 "metadata": {
  "kernelspec": {
   "display_name": "Python 3 (ipykernel)",
   "language": "python",
   "name": "python3"
  },
  "language_info": {
   "codemirror_mode": {
    "name": "ipython",
    "version": 3
   },
   "file_extension": ".py",
   "mimetype": "text/x-python",
   "name": "python",
   "nbconvert_exporter": "python",
   "pygments_lexer": "ipython3",
   "version": "3.10.0"
  }
 },
 "nbformat": 4,
 "nbformat_minor": 5
}
