{
 "cells": [
  {
   "cell_type": "markdown",
   "id": "dd552705",
   "metadata": {},
   "source": [
    "<p> Model is overfitting. </p>"
   ]
  },
  {
   "cell_type": "markdown",
   "id": "c962ca58",
   "metadata": {},
   "source": [
    "<Strong> Clean-up code </Strong>\n",
    "<p> Done </p>"
   ]
  },
  {
   "cell_type": "markdown",
   "id": "fe52e516",
   "metadata": {},
   "source": [
    "<Strong> FYP - 1 page </Strong>\n",
    "<p> Done </p>"
   ]
  },
  {
   "cell_type": "markdown",
   "id": "32dbf1c3",
   "metadata": {},
   "source": [
    "<Strong> Work on 3 layer network and see changes <Strong>"
   ]
  },
  {
   "cell_type": "markdown",
   "id": "c0fa6418",
   "metadata": {},
   "source": [
    "<Strong> Create all models with 3 layers and compare with baseline </Strong>"
   ]
  },
  {
   "cell_type": "markdown",
   "id": "c5542330",
   "metadata": {},
   "source": [
    "<Strong> 100 window size </Strong>"
   ]
  },
  {
   "cell_type": "markdown",
   "id": "76b9073b",
   "metadata": {},
   "source": [
    "<Strong> Dropout </Strong>"
   ]
  },
  {
   "cell_type": "markdown",
   "id": "14266f30",
   "metadata": {},
   "source": [
    "<Strong> Decrease filter size </Strong>"
   ]
  },
  {
   "cell_type": "markdown",
   "id": "3af7ac12",
   "metadata": {},
   "source": [
    "<Strong> Decrease network size </Strong>"
   ]
  },
  {
   "cell_type": "markdown",
   "id": "a3ad5019",
   "metadata": {},
   "source": [
    "<Strong> Google Collab </Strong>"
   ]
  },
  {
   "cell_type": "code",
   "execution_count": null,
   "id": "d5534f0c",
   "metadata": {},
   "outputs": [],
   "source": []
  }
 ],
 "metadata": {
  "kernelspec": {
   "display_name": "Python 3 (ipykernel)",
   "language": "python",
   "name": "python3"
  },
  "language_info": {
   "codemirror_mode": {
    "name": "ipython",
    "version": 3
   },
   "file_extension": ".py",
   "mimetype": "text/x-python",
   "name": "python",
   "nbconvert_exporter": "python",
   "pygments_lexer": "ipython3",
   "version": "3.7.0"
  }
 },
 "nbformat": 4,
 "nbformat_minor": 5
}
