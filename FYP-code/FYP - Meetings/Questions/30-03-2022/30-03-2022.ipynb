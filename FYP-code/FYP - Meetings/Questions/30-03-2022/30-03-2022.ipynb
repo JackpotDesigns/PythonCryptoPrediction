{
 "cells": [
  {
   "cell_type": "markdown",
   "id": "a5895980",
   "metadata": {},
   "source": [
    "<Strong> 1-Page : FYP </Strong>"
   ]
  },
  {
   "cell_type": "markdown",
   "id": "48f18fca",
   "metadata": {},
   "source": [
    "<Strong> Get baseline again </Strong>"
   ]
  },
  {
   "cell_type": "markdown",
   "id": "0468f396",
   "metadata": {},
   "source": [
    "<Strong> Tune the 4(i) , 5 , 3(i) (ii) </Strong>"
   ]
  },
  {
   "cell_type": "markdown",
   "id": "e46db325",
   "metadata": {},
   "source": [
    "<Strong> plot each tunes <Strong>"
   ]
  },
  {
   "cell_type": "markdown",
   "id": "6e0f223c",
   "metadata": {},
   "source": [
    "<Strong> Pick the best model and compare with evaluation metrics from baseline. </Strong>"
   ]
  }
 ],
 "metadata": {
  "kernelspec": {
   "display_name": "Python 3 (ipykernel)",
   "language": "python",
   "name": "python3"
  },
  "language_info": {
   "codemirror_mode": {
    "name": "ipython",
    "version": 3
   },
   "file_extension": ".py",
   "mimetype": "text/x-python",
   "name": "python",
   "nbconvert_exporter": "python",
   "pygments_lexer": "ipython3",
   "version": "3.7.0"
  }
 },
 "nbformat": 4,
 "nbformat_minor": 5
}
