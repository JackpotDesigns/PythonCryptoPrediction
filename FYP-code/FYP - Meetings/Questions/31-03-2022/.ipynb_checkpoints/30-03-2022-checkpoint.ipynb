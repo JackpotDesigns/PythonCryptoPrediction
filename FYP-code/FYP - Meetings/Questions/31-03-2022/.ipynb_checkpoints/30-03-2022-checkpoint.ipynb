{
 "cells": [
  {
   "cell_type": "markdown",
   "id": "bd3f6717",
   "metadata": {},
   "source": [
    "<Strong> Tune the 4(i) , 5 , 3(i) (ii) </Strong>"
   ]
  },
  {
   "cell_type": "markdown",
   "id": "1f71664c",
   "metadata": {},
   "source": [
    "<Strong> plot each tunes <Strong>"
   ]
  },
  {
   "cell_type": "markdown",
   "id": "c1af31c5",
   "metadata": {},
   "source": [
    "<Strong> Pick the best model and compare with evaluation metrics from baseline. </Strong>"
   ]
  }
 ],
 "metadata": {
  "kernelspec": {
   "display_name": "Python 3 (ipykernel)",
   "language": "python",
   "name": "python3"
  },
  "language_info": {
   "codemirror_mode": {
    "name": "ipython",
    "version": 3
   },
   "file_extension": ".py",
   "mimetype": "text/x-python",
   "name": "python",
   "nbconvert_exporter": "python",
   "pygments_lexer": "ipython3",
   "version": "3.7.0"
  }
 },
 "nbformat": 4,
 "nbformat_minor": 5
}
