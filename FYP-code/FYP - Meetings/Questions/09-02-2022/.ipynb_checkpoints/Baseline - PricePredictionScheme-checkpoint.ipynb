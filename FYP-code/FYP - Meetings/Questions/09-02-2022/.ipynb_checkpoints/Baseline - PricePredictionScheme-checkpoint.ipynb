{
 "cells": [
  {
   "cell_type": "markdown",
   "id": "1fe52788",
   "metadata": {},
   "source": [
    "<Strong> Questions From A Deep Learning-Based Cryptocurrency Price Prediction Scheme , first article read </Strong>"
   ]
  },
  {
   "cell_type": "markdown",
   "id": "b0dc1973",
   "metadata": {},
   "source": [
    "<ul>\n",
    "    <li>It says in Data Pre-processing that they select price as their primrary feature , and then go on to say they normalized.Again why are they doing this? </li>\n",
    "        <li> Only Used one training example ?! <Strong> 5.1 dataset = Litecoin(1279 timeseries data) </Strong> For Litecoin, the model has been trained using the data of period August 24, 2016-February 22, 2020. <Strong> The data contains 1278 data points.</Strong></li>\n",
    "</ul>"
   ]
  },
  {
   "cell_type": "code",
   "execution_count": null,
   "id": "2b5f34d1",
   "metadata": {},
   "outputs": [],
   "source": []
  }
 ],
 "metadata": {
  "kernelspec": {
   "display_name": "Python 3 (ipykernel)",
   "language": "python",
   "name": "python3"
  },
  "language_info": {
   "codemirror_mode": {
    "name": "ipython",
    "version": 3
   },
   "file_extension": ".py",
   "mimetype": "text/x-python",
   "name": "python",
   "nbconvert_exporter": "python",
   "pygments_lexer": "ipython3",
   "version": "3.9.10"
  }
 },
 "nbformat": 4,
 "nbformat_minor": 5
}
