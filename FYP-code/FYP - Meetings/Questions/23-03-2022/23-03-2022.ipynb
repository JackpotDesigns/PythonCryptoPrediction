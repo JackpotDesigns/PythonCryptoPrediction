{
 "cells": [
  {
   "cell_type": "markdown",
   "id": "2260706b",
   "metadata": {},
   "source": [
    "<Strong> Finish TCN fyp page <Strong>"
   ]
  },
  {
   "cell_type": "markdown",
   "id": "6694aea0",
   "metadata": {},
   "source": [
    "<p> Done </p>"
   ]
  },
  {
   "cell_type": "markdown",
   "id": "1c5e7f63",
   "metadata": {},
   "source": [
    "<Strong> Calculate our network - picture it  </Strong>"
   ]
  },
  {
   "cell_type": "markdown",
   "id": "c58a5afe",
   "metadata": {},
   "source": [
    "<p> Done </p>"
   ]
  },
  {
   "cell_type": "markdown",
   "id": "bc40987a",
   "metadata": {},
   "source": [
    "<Strong> Input a feature to create network if change kernel , base. </Strong>"
   ]
  },
  {
   "cell_type": "markdown",
   "id": "e956002f",
   "metadata": {},
   "source": [
    "<p> Done </p>"
   ]
  },
  {
   "cell_type": "markdown",
   "id": "701adbb6",
   "metadata": {},
   "source": [
    "<Strong> Understand where weights come from in network. </Strong>"
   ]
  },
  {
   "cell_type": "markdown",
   "id": "39d4ff07",
   "metadata": {},
   "source": [
    "<p> Done </p>"
   ]
  },
  {
   "cell_type": "markdown",
   "id": "4c69b66a",
   "metadata": {},
   "source": [
    "<Strong> Update with with cloud and git </Strong>"
   ]
  },
  {
   "cell_type": "markdown",
   "id": "806ba017",
   "metadata": {},
   "source": [
    "<p> Done </p>"
   ]
  },
  {
   "cell_type": "markdown",
   "id": "a7cb0d4f",
   "metadata": {},
   "source": [
    "<Strong> Update baseline metrics. </Strong>"
   ]
  },
  {
   "cell_type": "markdown",
   "id": "ba015e88",
   "metadata": {},
   "source": [
    "<p> Done </p>"
   ]
  },
  {
   "cell_type": "markdown",
   "id": "08d14e39",
   "metadata": {},
   "source": [
    "<p> I calculated the number of layers for each variation of dilation and kernel hyper-parameters  </p>"
   ]
  },
  {
   "cell_type": "markdown",
   "id": "9b4de816",
   "metadata": {},
   "source": [
    "<Strong> I used a range of dilation_factors and kernel_sizes to produce a TCN of different of different size layers  </Strong>"
   ]
  },
  {
   "cell_type": "markdown",
   "id": "a02021b2",
   "metadata": {},
   "source": [
    "<p> created 3 seperate networks and used the keras tuner and tuned hyper-parameters (learning_rate , no. filters) </p>"
   ]
  },
  {
   "cell_type": "code",
   "execution_count": null,
   "id": "2547f77d",
   "metadata": {},
   "outputs": [],
   "source": [
    "<p> I changed each network (no) </p>"
   ]
  }
 ],
 "metadata": {
  "kernelspec": {
   "display_name": "Python 3 (ipykernel)",
   "language": "python",
   "name": "python3"
  },
  "language_info": {
   "codemirror_mode": {
    "name": "ipython",
    "version": 3
   },
   "file_extension": ".py",
   "mimetype": "text/x-python",
   "name": "python",
   "nbconvert_exporter": "python",
   "pygments_lexer": "ipython3",
   "version": "3.7.0"
  }
 },
 "nbformat": 4,
 "nbformat_minor": 5
}
