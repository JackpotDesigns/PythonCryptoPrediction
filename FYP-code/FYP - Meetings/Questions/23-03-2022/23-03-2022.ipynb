{
 "cells": [
  {
   "cell_type": "markdown",
   "id": "9b4de816",
   "metadata": {},
   "source": [
    "<Strong> I used a range of dilation_factors and kernel_sizes to produce a TCN of different of different size layers  </Strong>"
   ]
  },
  {
   "cell_type": "markdown",
   "id": "a02021b2",
   "metadata": {},
   "source": [
    "<p> created 3 seperate networks and used the keras tuner and tuned hyper-parameters (learning_rate , no. filters) </p>"
   ]
  },
  {
   "cell_type": "markdown",
   "id": "75e7ae51",
   "metadata": {},
   "source": [
    "<p> I changed each network (no. of dense layers , and max-pooling layers) </p>"
   ]
  },
  {
   "cell_type": "markdown",
   "id": "acda2ab6",
   "metadata": {},
   "source": [
    "<p> Nothing is efficeint at learning , it goes down , but then it fluctauates all over the place. </p>"
   ]
  },
  {
   "cell_type": "code",
   "execution_count": null,
   "id": "d09d95c1",
   "metadata": {},
   "outputs": [],
   "source": []
  }
 ],
 "metadata": {
  "kernelspec": {
   "display_name": "Python 3 (ipykernel)",
   "language": "python",
   "name": "python3"
  },
  "language_info": {
   "codemirror_mode": {
    "name": "ipython",
    "version": 3
   },
   "file_extension": ".py",
   "mimetype": "text/x-python",
   "name": "python",
   "nbconvert_exporter": "python",
   "pygments_lexer": "ipython3",
   "version": "3.7.0"
  }
 },
 "nbformat": 4,
 "nbformat_minor": 5
}
