{
 "cells": [
  {
   "cell_type": "markdown",
   "id": "2260706b",
   "metadata": {},
   "source": [
    "<Strong> Finish TCN fyp page <Strong>"
   ]
  },
  {
   "cell_type": "markdown",
   "id": "6694aea0",
   "metadata": {},
   "source": [
    "<p> Done </p>"
   ]
  },
  {
   "cell_type": "markdown",
   "id": "1c5e7f63",
   "metadata": {},
   "source": [
    "<Strong> Calculate our network - picture it  </Strong>"
   ]
  },
  {
   "cell_type": "markdown",
   "id": "c58a5afe",
   "metadata": {},
   "source": [
    "<p> Done </p>"
   ]
  },
  {
   "cell_type": "markdown",
   "id": "bc40987a",
   "metadata": {},
   "source": [
    "<Strong> Input a feature to create network if change kernel , base. </Strong>"
   ]
  },
  {
   "cell_type": "markdown",
   "id": "e956002f",
   "metadata": {},
   "source": [
    "<p> Done </p>"
   ]
  },
  {
   "cell_type": "markdown",
   "id": "701adbb6",
   "metadata": {},
   "source": [
    "<Strong> Understand where weights come from in network. </Strong>"
   ]
  },
  {
   "cell_type": "markdown",
   "id": "39d4ff07",
   "metadata": {},
   "source": [
    "<p> Done </p>"
   ]
  },
  {
   "cell_type": "markdown",
   "id": "4c69b66a",
   "metadata": {},
   "source": [
    "<Strong> Update with with cloud and git </Strong>"
   ]
  },
  {
   "cell_type": "markdown",
   "id": "29ff76be",
   "metadata": {},
   "source": [
    "<p> Done </p>"
   ]
  },
  {
   "cell_type": "markdown",
   "id": "dd3297b7",
   "metadata": {},
   "source": [
    "<Strong> Update baseline metrics. </Strong>"
   ]
  },
  {
   "cell_type": "markdown",
   "id": "6eb2f406",
   "metadata": {},
   "source": [
    "<p> Done </p>"
   ]
  }
 ],
 "metadata": {
  "kernelspec": {
   "display_name": "Python 3 (ipykernel)",
   "language": "python",
   "name": "python3"
  },
  "language_info": {
   "codemirror_mode": {
    "name": "ipython",
    "version": 3
   },
   "file_extension": ".py",
   "mimetype": "text/x-python",
   "name": "python",
   "nbconvert_exporter": "python",
   "pygments_lexer": "ipython3",
   "version": "3.7.0"
  }
 },
 "nbformat": 4,
 "nbformat_minor": 5
}
