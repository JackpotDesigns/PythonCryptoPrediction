{
 "cells": [
  {
   "cell_type": "markdown",
   "id": "ac622ed7",
   "metadata": {},
   "source": [
    "<Strong> Develop a TCN model that overfits , then do some regularization , then do some tuning. </Strong>"
   ]
  },
  {
   "cell_type": "code",
   "execution_count": 1,
   "id": "44717bd9",
   "metadata": {},
   "outputs": [],
   "source": [
    "import pandas as pd\n",
    "import numpy as np\n",
    "import tensorflow as tf\n",
    "from keras_tuner.tuners import RandomSearch\n",
    "from tensorflow.keras.utils import plot_model\n",
    "from matplotlib import pyplot as plt\n",
    "from tensorflow.keras.models import Sequential \n",
    "from tensorflow.keras import layers\n",
    "from tensorflow.keras.optimizers import RMSprop , Adam\n",
    "import os\n",
    "from sklearn.preprocessing import MinMaxScaler\n",
    "from sklearn.metrics import mean_squared_error , mean_absolute_error , mean_absolute_percentage_error\n",
    "from tensorflow.keras.preprocessing.sequence import TimeseriesGenerator\n",
    "from tensorflow.keras.layers import LSTM , Dense , Dropout , GRU , Concatenate , Input , Conv1D , InputLayer\n",
    "from tensorflow.keras import models\n",
    "from tensorflow.keras.callbacks import EarlyStopping\n",
    "import math"
   ]
  },
  {
   "cell_type": "code",
   "execution_count": 2,
   "id": "1f7bdf7b",
   "metadata": {},
   "outputs": [],
   "source": [
    "#df_btc = pd.read_csv(\"../../cryptoData/BTC_1h_data.csv\")\n",
    "df_btc = pd.read_csv(\"BTC_1h_data.csv\")"
   ]
  },
  {
   "cell_type": "markdown",
   "id": "b04a0817",
   "metadata": {},
   "source": [
    "<Strong> Grabbing the closing price (univariate) </Strong>"
   ]
  },
  {
   "cell_type": "code",
   "execution_count": 3,
   "id": "bf871789",
   "metadata": {},
   "outputs": [
    {
     "data": {
      "text/plain": [
       "43534.54"
      ]
     },
     "execution_count": 3,
     "metadata": {},
     "output_type": "execute_result"
    }
   ],
   "source": [
    "# Removing everything but the closing price\n",
    "btc_data = df_btc.values[:, 4 ,].astype(float)\n",
    "\n",
    "btc_data[-1]"
   ]
  },
  {
   "cell_type": "markdown",
   "id": "0cd9b282",
   "metadata": {},
   "source": [
    "<Strong> Scaling the data  </Strong>"
   ]
  },
  {
   "cell_type": "code",
   "execution_count": 4,
   "id": "b5026d24",
   "metadata": {},
   "outputs": [],
   "source": [
    "percTrain = 70\n",
    "percVal = 20 "
   ]
  },
  {
   "cell_type": "code",
   "execution_count": 5,
   "id": "b14cf325",
   "metadata": {},
   "outputs": [],
   "source": [
    "scaler = MinMaxScaler()\n",
    "    \n",
    "onePercent = len(btc_data) // 100\n",
    "numberTraining = onePercent * percTrain\n",
    "\n",
    "reshaped_data = btc_data.reshape(-1,1)\n",
    "\n",
    "#Just scaling on training data otherwise it would be leakage\n",
    "scaler.fit(reshaped_data[:numberTraining])\n",
    "scaled_btc = scaler.transform(reshaped_data)"
   ]
  },
  {
   "cell_type": "markdown",
   "id": "5850e82f",
   "metadata": {},
   "source": [
    "<Strong> Creating Matrix in Sliding window form <Strong>"
   ]
  },
  {
   "cell_type": "code",
   "execution_count": 6,
   "id": "c11d0ede",
   "metadata": {},
   "outputs": [],
   "source": [
    "def sliding_window(elements, window_size):\n",
    "    \n",
    "    data = [] \n",
    "    targets = []\n",
    "    \n",
    "    if len(elements) <= window_size:\n",
    "        return elements\n",
    "    \n",
    "    for i in range(len(elements) - window_size ):\n",
    "        \n",
    "        data.append(elements[i:i+window_size])\n",
    "        targets.append(elements[i+window_size])\n",
    "        \n",
    "    return np.array(data) , np.array(targets)"
   ]
  },
  {
   "cell_type": "code",
   "execution_count": 7,
   "id": "6d9b3c60",
   "metadata": {},
   "outputs": [],
   "source": [
    "# Using 24 datapoints to predict the 25th\n",
    "\n",
    "window_length = 24\n",
    "features = 1\n",
    "\n",
    "sliding_winda_btc = sliding_window(scaled_btc , window_length)"
   ]
  },
  {
   "cell_type": "markdown",
   "id": "c33395fb",
   "metadata": {},
   "source": [
    "<Strong> Splitting the data into train , val , test </Strong>"
   ]
  },
  {
   "cell_type": "code",
   "execution_count": 8,
   "id": "b06e1637",
   "metadata": {},
   "outputs": [],
   "source": [
    "# Splitting the data after creating the sliding window data\n",
    "def splitting_train_test(data):\n",
    "        \n",
    "    onePercent = len(data[1]) // 100\n",
    "    \n",
    "    numberTraining = onePercent * percTrain\n",
    "    numberValidation = onePercent * percVal\n",
    "    \n",
    "    trainingData = data[0][:numberTraining] , data[1][:numberTraining]\n",
    "    validationData = data[0][numberTraining : numberTraining + numberValidation] , data[1][numberTraining : numberTraining + numberValidation]\n",
    "    testData = data[0][numberTraining + numberValidation:] , data[1][numberTraining + numberValidation:] \n",
    "    \n",
    "    #Returning tuples of (sliding-window , target_values)\n",
    "    return trainingData , validationData , testData"
   ]
  },
  {
   "cell_type": "code",
   "execution_count": 9,
   "id": "6fc3e459",
   "metadata": {},
   "outputs": [
    {
     "name": "stdout",
     "output_type": "stream",
     "text": [
      "(27370, 24, 1)\n"
     ]
    }
   ],
   "source": [
    "btc_train , btc_val , btc_test = splitting_train_test(sliding_winda_btc)\n",
    "\n",
    "print(btc_train[0].shape)"
   ]
  },
  {
   "cell_type": "code",
   "execution_count": 45,
   "id": "4081f91b",
   "metadata": {},
   "outputs": [],
   "source": [
    "# Hyper Parameters To Overfit \n",
    "\n",
    "# Add Layers \n",
    "# Train longer\n"
   ]
  },
  {
   "cell_type": "code",
   "execution_count": 17,
   "id": "c52144c0",
   "metadata": {},
   "outputs": [
    {
     "name": "stdout",
     "output_type": "stream",
     "text": [
      "Model: \"sequential_2\"\n",
      "_________________________________________________________________\n",
      " Layer (type)                Output Shape              Param #   \n",
      "=================================================================\n",
      " conv1d_8 (Conv1D)           (None, 24, 32)            128       \n",
      "                                                                 \n",
      " conv1d_9 (Conv1D)           (None, 24, 64)            6208      \n",
      "                                                                 \n",
      " conv1d_10 (Conv1D)          (None, 24, 128)           24704     \n",
      "                                                                 \n",
      " conv1d_11 (Conv1D)          (None, 24, 128)           49280     \n",
      "                                                                 \n",
      " dense_2 (Dense)             (None, 24, 128)           16512     \n",
      "                                                                 \n",
      " dense_3 (Dense)             (None, 24, 1)             129       \n",
      "                                                                 \n",
      "=================================================================\n",
      "Total params: 96,961\n",
      "Trainable params: 96,961\n",
      "Non-trainable params: 0\n",
      "_________________________________________________________________\n"
     ]
    }
   ],
   "source": [
    "# Full Converage = 1 + (kernel_size-1) . dilation_base^n - 1 / dilation_base - 1 >= l\n",
    "# Number of required layers = log (dilation_base) ( ((input_length - 1) . (dilation_base - 1) / (k - 1) ) + 1 )\n",
    "# Padding for each layer dilation_base ^ layers below our current . (kernel_size - 1) below = input\n",
    "\n",
    "# For full coverage we need 4 layers (we are using a base of 2)\n",
    "\n",
    "\n",
    "model1 = models.Sequential()\n",
    "\n",
    "# Casual adds padding to the start of input sequence\n",
    "model1.add(Conv1D(filters=32, kernel_size=3, activation='relu', input_shape=(window_length, 1), dilation_rate=1 , padding = 'causal'))\n",
    "\n",
    "model1.add(Conv1D(filters=64, kernel_size=3, activation='relu' , padding = 'causal', dilation_rate=2))\n",
    "\n",
    "# For full coverage we need 4 layers \n",
    "model1.add(Conv1D(filters=128, kernel_size=3, activation='relu' , padding = 'causal' , dilation_rate=4))\n",
    "\n",
    "# For full coverage we need 4 layers \n",
    "model1.add(Conv1D(filters=128, kernel_size=3, activation='relu' , padding = 'causal', dilation_rate= 8))\n",
    "\n",
    "model1.add(Dense(128))\n",
    "\n",
    "model1.add(Dense(1))\n",
    "\n",
    "\n",
    "model1.summary()"
   ]
  },
  {
   "cell_type": "code",
   "execution_count": 18,
   "id": "b2d2cad4",
   "metadata": {},
   "outputs": [],
   "source": [
    "opt = Adam(0.008)\n",
    "model1.compile(optimizer=opt , loss = 'mse')"
   ]
  },
  {
   "cell_type": "code",
   "execution_count": 19,
   "id": "945e8820",
   "metadata": {},
   "outputs": [
    {
     "name": "stdout",
     "output_type": "stream",
     "text": [
      "Epoch 1/300\n",
      "54/54 [==============================] - 2s 18ms/step - loss: 0.0311 - val_loss: 0.0722\n",
      "Epoch 2/300\n",
      "54/54 [==============================] - 1s 12ms/step - loss: 5.3316e-04 - val_loss: 0.0142\n",
      "Epoch 3/300\n",
      "54/54 [==============================] - 1s 12ms/step - loss: 4.1318e-04 - val_loss: 0.0090\n",
      "Epoch 4/300\n",
      "54/54 [==============================] - 1s 12ms/step - loss: 3.4430e-04 - val_loss: 0.0106\n",
      "Epoch 5/300\n",
      "54/54 [==============================] - 1s 12ms/step - loss: 3.3926e-04 - val_loss: 0.0073\n",
      "Epoch 6/300\n",
      "54/54 [==============================] - 1s 12ms/step - loss: 3.7281e-04 - val_loss: 0.0069\n",
      "Epoch 7/300\n",
      "54/54 [==============================] - 1s 12ms/step - loss: 3.3621e-04 - val_loss: 0.0100\n",
      "Epoch 8/300\n",
      "54/54 [==============================] - 1s 12ms/step - loss: 3.3572e-04 - val_loss: 0.0065\n",
      "Epoch 9/300\n",
      "54/54 [==============================] - 1s 12ms/step - loss: 3.2296e-04 - val_loss: 0.0092\n",
      "Epoch 10/300\n",
      "54/54 [==============================] - 1s 12ms/step - loss: 3.3518e-04 - val_loss: 0.0066\n",
      "Epoch 11/300\n",
      "54/54 [==============================] - 1s 12ms/step - loss: 3.3673e-04 - val_loss: 0.0073\n",
      "Epoch 12/300\n",
      "54/54 [==============================] - 1s 12ms/step - loss: 3.2916e-04 - val_loss: 0.0093\n",
      "Epoch 13/300\n",
      "54/54 [==============================] - 1s 12ms/step - loss: 3.0867e-04 - val_loss: 0.0087\n",
      "Epoch 14/300\n",
      "54/54 [==============================] - 1s 12ms/step - loss: 3.5305e-04 - val_loss: 0.0103\n",
      "Epoch 15/300\n",
      "54/54 [==============================] - 1s 12ms/step - loss: 3.6584e-04 - val_loss: 0.0085\n",
      "Epoch 16/300\n",
      "54/54 [==============================] - 1s 12ms/step - loss: 3.4157e-04 - val_loss: 0.0080\n",
      "Epoch 17/300\n",
      "54/54 [==============================] - 1s 12ms/step - loss: 3.1487e-04 - val_loss: 0.0068\n",
      "Epoch 18/300\n",
      "54/54 [==============================] - 1s 12ms/step - loss: 3.1578e-04 - val_loss: 0.0069\n",
      "Epoch 19/300\n",
      "54/54 [==============================] - 1s 12ms/step - loss: 3.4769e-04 - val_loss: 0.0143\n",
      "Epoch 20/300\n",
      "54/54 [==============================] - 1s 12ms/step - loss: 3.3371e-04 - val_loss: 0.0072\n",
      "Epoch 21/300\n",
      "54/54 [==============================] - 1s 12ms/step - loss: 3.3025e-04 - val_loss: 0.0125\n",
      "Epoch 22/300\n",
      "54/54 [==============================] - 1s 12ms/step - loss: 3.4868e-04 - val_loss: 0.0066\n",
      "Epoch 23/300\n",
      "54/54 [==============================] - 1s 12ms/step - loss: 2.9913e-04 - val_loss: 0.0069\n",
      "Epoch 24/300\n",
      "54/54 [==============================] - 1s 12ms/step - loss: 3.2490e-04 - val_loss: 0.0088\n",
      "Epoch 25/300\n",
      "54/54 [==============================] - 1s 12ms/step - loss: 4.0900e-04 - val_loss: 0.0113\n",
      "Epoch 26/300\n",
      "54/54 [==============================] - 1s 12ms/step - loss: 3.2327e-04 - val_loss: 0.0120\n",
      "Epoch 27/300\n",
      "54/54 [==============================] - 1s 12ms/step - loss: 3.5687e-04 - val_loss: 0.0097\n",
      "Epoch 28/300\n",
      "54/54 [==============================] - 1s 12ms/step - loss: 3.3364e-04 - val_loss: 0.0110\n",
      "Epoch 29/300\n",
      "54/54 [==============================] - 1s 12ms/step - loss: 3.2200e-04 - val_loss: 0.0076\n",
      "Epoch 30/300\n",
      "54/54 [==============================] - 1s 12ms/step - loss: 3.0523e-04 - val_loss: 0.0083\n",
      "Epoch 31/300\n",
      "54/54 [==============================] - 1s 12ms/step - loss: 2.9883e-04 - val_loss: 0.0079\n",
      "Epoch 32/300\n",
      "54/54 [==============================] - 1s 12ms/step - loss: 3.1255e-04 - val_loss: 0.0069\n",
      "Epoch 33/300\n",
      "54/54 [==============================] - 1s 12ms/step - loss: 3.5251e-04 - val_loss: 0.0070\n",
      "Epoch 34/300\n",
      "54/54 [==============================] - 1s 12ms/step - loss: 3.0958e-04 - val_loss: 0.0084\n",
      "Epoch 35/300\n",
      "54/54 [==============================] - 1s 12ms/step - loss: 3.1188e-04 - val_loss: 0.0081\n",
      "Epoch 36/300\n",
      "54/54 [==============================] - 1s 12ms/step - loss: 3.3277e-04 - val_loss: 0.0233\n",
      "Epoch 37/300\n",
      "54/54 [==============================] - 1s 12ms/step - loss: 3.1716e-04 - val_loss: 0.0101\n",
      "Epoch 38/300\n",
      "54/54 [==============================] - 1s 12ms/step - loss: 3.4756e-04 - val_loss: 0.0110\n",
      "Epoch 39/300\n",
      "54/54 [==============================] - 1s 12ms/step - loss: 3.3770e-04 - val_loss: 0.0172\n",
      "Epoch 40/300\n",
      "54/54 [==============================] - 1s 12ms/step - loss: 3.3222e-04 - val_loss: 0.0077\n",
      "Epoch 41/300\n",
      "54/54 [==============================] - 1s 12ms/step - loss: 2.9706e-04 - val_loss: 0.0131\n",
      "Epoch 42/300\n",
      "54/54 [==============================] - 1s 12ms/step - loss: 3.1627e-04 - val_loss: 0.0075\n",
      "Epoch 43/300\n",
      "54/54 [==============================] - 1s 12ms/step - loss: 3.2099e-04 - val_loss: 0.0116\n",
      "Epoch 44/300\n",
      "54/54 [==============================] - 1s 12ms/step - loss: 3.2943e-04 - val_loss: 0.0147\n",
      "Epoch 45/300\n",
      "54/54 [==============================] - 1s 12ms/step - loss: 3.7094e-04 - val_loss: 0.0088\n",
      "Epoch 46/300\n",
      "54/54 [==============================] - 1s 12ms/step - loss: 3.2101e-04 - val_loss: 0.0113\n",
      "Epoch 47/300\n",
      "54/54 [==============================] - 1s 12ms/step - loss: 3.0959e-04 - val_loss: 0.0114\n",
      "Epoch 48/300\n",
      "54/54 [==============================] - 1s 12ms/step - loss: 3.3909e-04 - val_loss: 0.0085\n",
      "Epoch 49/300\n",
      "54/54 [==============================] - 1s 12ms/step - loss: 3.2956e-04 - val_loss: 0.0096\n",
      "Epoch 50/300\n",
      "54/54 [==============================] - 1s 12ms/step - loss: 2.9593e-04 - val_loss: 0.0104\n",
      "Epoch 51/300\n",
      "54/54 [==============================] - 1s 12ms/step - loss: 3.2577e-04 - val_loss: 0.0089\n",
      "Epoch 52/300\n",
      "54/54 [==============================] - 1s 12ms/step - loss: 3.1107e-04 - val_loss: 0.0079\n",
      "Epoch 53/300\n",
      "54/54 [==============================] - 1s 12ms/step - loss: 2.9950e-04 - val_loss: 0.0086\n",
      "Epoch 54/300\n",
      "54/54 [==============================] - 1s 12ms/step - loss: 2.9935e-04 - val_loss: 0.0096\n",
      "Epoch 55/300\n",
      "54/54 [==============================] - 1s 12ms/step - loss: 3.0881e-04 - val_loss: 0.0103\n",
      "Epoch 56/300\n",
      "54/54 [==============================] - 1s 12ms/step - loss: 3.0582e-04 - val_loss: 0.0087\n",
      "Epoch 57/300\n",
      "54/54 [==============================] - 1s 12ms/step - loss: 2.9748e-04 - val_loss: 0.0103\n",
      "Epoch 58/300\n",
      "54/54 [==============================] - 1s 12ms/step - loss: 3.1523e-04 - val_loss: 0.0151\n",
      "Epoch 59/300\n",
      "54/54 [==============================] - 1s 12ms/step - loss: 3.6240e-04 - val_loss: 0.0093\n",
      "Epoch 60/300\n",
      "54/54 [==============================] - 1s 12ms/step - loss: 3.2290e-04 - val_loss: 0.0115\n",
      "Epoch 61/300\n",
      "54/54 [==============================] - 1s 12ms/step - loss: 3.0602e-04 - val_loss: 0.0141\n",
      "Epoch 62/300\n",
      "54/54 [==============================] - 1s 12ms/step - loss: 3.3988e-04 - val_loss: 0.0089\n",
      "Epoch 63/300\n",
      "54/54 [==============================] - 1s 12ms/step - loss: 3.3313e-04 - val_loss: 0.0151\n",
      "Epoch 64/300\n",
      "54/54 [==============================] - 1s 12ms/step - loss: 3.7907e-04 - val_loss: 0.0146\n",
      "Epoch 65/300\n",
      "54/54 [==============================] - 1s 20ms/step - loss: 3.7168e-04 - val_loss: 0.0153\n",
      "Epoch 66/300\n",
      "54/54 [==============================] - 1s 12ms/step - loss: 3.1616e-04 - val_loss: 0.0106\n",
      "Epoch 67/300\n",
      "54/54 [==============================] - 1s 12ms/step - loss: 3.3078e-04 - val_loss: 0.0098\n",
      "Epoch 68/300\n",
      "54/54 [==============================] - 1s 12ms/step - loss: 3.1794e-04 - val_loss: 0.0131\n",
      "Epoch 69/300\n",
      "54/54 [==============================] - 1s 12ms/step - loss: 3.0192e-04 - val_loss: 0.0222\n",
      "Epoch 70/300\n",
      "54/54 [==============================] - 1s 12ms/step - loss: 3.2902e-04 - val_loss: 0.0082\n",
      "Epoch 71/300\n",
      "54/54 [==============================] - 1s 12ms/step - loss: 3.3490e-04 - val_loss: 0.0150\n",
      "Epoch 72/300\n",
      "54/54 [==============================] - 1s 12ms/step - loss: 3.0352e-04 - val_loss: 0.0153\n",
      "Epoch 73/300\n",
      "54/54 [==============================] - 1s 12ms/step - loss: 3.3743e-04 - val_loss: 0.0107\n",
      "Epoch 74/300\n",
      "54/54 [==============================] - 1s 12ms/step - loss: 3.4695e-04 - val_loss: 0.0123\n",
      "Epoch 75/300\n",
      "54/54 [==============================] - 1s 12ms/step - loss: 2.9699e-04 - val_loss: 0.0169\n",
      "Epoch 76/300\n",
      "54/54 [==============================] - 1s 12ms/step - loss: 3.1962e-04 - val_loss: 0.0099\n",
      "Epoch 77/300\n",
      "54/54 [==============================] - 1s 12ms/step - loss: 3.2477e-04 - val_loss: 0.0106\n",
      "Epoch 78/300\n",
      "54/54 [==============================] - 1s 12ms/step - loss: 3.0588e-04 - val_loss: 0.0130\n",
      "Epoch 79/300\n",
      "54/54 [==============================] - 1s 12ms/step - loss: 3.1717e-04 - val_loss: 0.0097\n",
      "Epoch 80/300\n",
      "54/54 [==============================] - 1s 12ms/step - loss: 3.6664e-04 - val_loss: 0.0195\n",
      "Epoch 81/300\n",
      "54/54 [==============================] - 1s 12ms/step - loss: 3.2207e-04 - val_loss: 0.0160\n",
      "Epoch 82/300\n",
      "54/54 [==============================] - 1s 12ms/step - loss: 3.0584e-04 - val_loss: 0.0135\n",
      "Epoch 83/300\n",
      "54/54 [==============================] - 1s 12ms/step - loss: 3.2316e-04 - val_loss: 0.0127\n",
      "Epoch 84/300\n",
      "54/54 [==============================] - 1s 12ms/step - loss: 3.2733e-04 - val_loss: 0.0204\n",
      "Epoch 85/300\n",
      "54/54 [==============================] - 1s 12ms/step - loss: 3.5446e-04 - val_loss: 0.0277\n",
      "Epoch 86/300\n",
      "36/54 [===================>..........] - ETA: 0s - loss: 3.1095e-04"
     ]
    },
    {
     "ename": "KeyboardInterrupt",
     "evalue": "",
     "output_type": "error",
     "traceback": [
      "\u001b[0;31m---------------------------------------------------------------------------\u001b[0m",
      "\u001b[0;31mKeyboardInterrupt\u001b[0m                         Traceback (most recent call last)",
      "\u001b[0;32m/tmp/ipykernel_14749/3651973252.py\u001b[0m in \u001b[0;36m<module>\u001b[0;34m\u001b[0m\n\u001b[0;32m----> 1\u001b[0;31m \u001b[0mhistory\u001b[0m \u001b[0;34m=\u001b[0m \u001b[0mmodel1\u001b[0m\u001b[0;34m.\u001b[0m\u001b[0mfit\u001b[0m\u001b[0;34m(\u001b[0m\u001b[0mbtc_train\u001b[0m\u001b[0;34m[\u001b[0m\u001b[0;36m0\u001b[0m\u001b[0;34m]\u001b[0m \u001b[0;34m,\u001b[0m \u001b[0mbtc_train\u001b[0m\u001b[0;34m[\u001b[0m\u001b[0;36m1\u001b[0m\u001b[0;34m]\u001b[0m \u001b[0;34m,\u001b[0m \u001b[0mvalidation_data\u001b[0m \u001b[0;34m=\u001b[0m \u001b[0mbtc_val\u001b[0m  \u001b[0;34m,\u001b[0m \u001b[0mbatch_size\u001b[0m \u001b[0;34m=\u001b[0m \u001b[0;36m512\u001b[0m  \u001b[0;34m,\u001b[0m \u001b[0mepochs\u001b[0m \u001b[0;34m=\u001b[0m\u001b[0;36m300\u001b[0m \u001b[0;34m,\u001b[0m \u001b[0mverbose\u001b[0m \u001b[0;34m=\u001b[0m \u001b[0;36m1\u001b[0m \u001b[0;34m)\u001b[0m\u001b[0;34m\u001b[0m\u001b[0;34m\u001b[0m\u001b[0m\n\u001b[0m\u001b[1;32m      2\u001b[0m \u001b[0;34m\u001b[0m\u001b[0m\n\u001b[1;32m      3\u001b[0m \u001b[0mnum_epochs\u001b[0m \u001b[0;34m=\u001b[0m \u001b[0mearlyStopping\u001b[0m\u001b[0;34m.\u001b[0m\u001b[0mstopped_epoch\u001b[0m\u001b[0;34m\u001b[0m\u001b[0;34m\u001b[0m\u001b[0m\n",
      "\u001b[0;32m/opt/conda/lib/python3.7/site-packages/keras/utils/traceback_utils.py\u001b[0m in \u001b[0;36merror_handler\u001b[0;34m(*args, **kwargs)\u001b[0m\n\u001b[1;32m     62\u001b[0m     \u001b[0mfiltered_tb\u001b[0m \u001b[0;34m=\u001b[0m \u001b[0;32mNone\u001b[0m\u001b[0;34m\u001b[0m\u001b[0;34m\u001b[0m\u001b[0m\n\u001b[1;32m     63\u001b[0m     \u001b[0;32mtry\u001b[0m\u001b[0;34m:\u001b[0m\u001b[0;34m\u001b[0m\u001b[0;34m\u001b[0m\u001b[0m\n\u001b[0;32m---> 64\u001b[0;31m       \u001b[0;32mreturn\u001b[0m \u001b[0mfn\u001b[0m\u001b[0;34m(\u001b[0m\u001b[0;34m*\u001b[0m\u001b[0margs\u001b[0m\u001b[0;34m,\u001b[0m \u001b[0;34m**\u001b[0m\u001b[0mkwargs\u001b[0m\u001b[0;34m)\u001b[0m\u001b[0;34m\u001b[0m\u001b[0;34m\u001b[0m\u001b[0m\n\u001b[0m\u001b[1;32m     65\u001b[0m     \u001b[0;32mexcept\u001b[0m \u001b[0mException\u001b[0m \u001b[0;32mas\u001b[0m \u001b[0me\u001b[0m\u001b[0;34m:\u001b[0m  \u001b[0;31m# pylint: disable=broad-except\u001b[0m\u001b[0;34m\u001b[0m\u001b[0;34m\u001b[0m\u001b[0m\n\u001b[1;32m     66\u001b[0m       \u001b[0mfiltered_tb\u001b[0m \u001b[0;34m=\u001b[0m \u001b[0m_process_traceback_frames\u001b[0m\u001b[0;34m(\u001b[0m\u001b[0me\u001b[0m\u001b[0;34m.\u001b[0m\u001b[0m__traceback__\u001b[0m\u001b[0;34m)\u001b[0m\u001b[0;34m\u001b[0m\u001b[0;34m\u001b[0m\u001b[0m\n",
      "\u001b[0;32m/opt/conda/lib/python3.7/site-packages/keras/engine/training.py\u001b[0m in \u001b[0;36mfit\u001b[0;34m(self, x, y, batch_size, epochs, verbose, callbacks, validation_split, validation_data, shuffle, class_weight, sample_weight, initial_epoch, steps_per_epoch, validation_steps, validation_batch_size, validation_freq, max_queue_size, workers, use_multiprocessing)\u001b[0m\n\u001b[1;32m   1382\u001b[0m                 _r=1):\n\u001b[1;32m   1383\u001b[0m               \u001b[0mcallbacks\u001b[0m\u001b[0;34m.\u001b[0m\u001b[0mon_train_batch_begin\u001b[0m\u001b[0;34m(\u001b[0m\u001b[0mstep\u001b[0m\u001b[0;34m)\u001b[0m\u001b[0;34m\u001b[0m\u001b[0;34m\u001b[0m\u001b[0m\n\u001b[0;32m-> 1384\u001b[0;31m               \u001b[0mtmp_logs\u001b[0m \u001b[0;34m=\u001b[0m \u001b[0mself\u001b[0m\u001b[0;34m.\u001b[0m\u001b[0mtrain_function\u001b[0m\u001b[0;34m(\u001b[0m\u001b[0miterator\u001b[0m\u001b[0;34m)\u001b[0m\u001b[0;34m\u001b[0m\u001b[0;34m\u001b[0m\u001b[0m\n\u001b[0m\u001b[1;32m   1385\u001b[0m               \u001b[0;32mif\u001b[0m \u001b[0mdata_handler\u001b[0m\u001b[0;34m.\u001b[0m\u001b[0mshould_sync\u001b[0m\u001b[0;34m:\u001b[0m\u001b[0;34m\u001b[0m\u001b[0;34m\u001b[0m\u001b[0m\n\u001b[1;32m   1386\u001b[0m                 \u001b[0mcontext\u001b[0m\u001b[0;34m.\u001b[0m\u001b[0masync_wait\u001b[0m\u001b[0;34m(\u001b[0m\u001b[0;34m)\u001b[0m\u001b[0;34m\u001b[0m\u001b[0;34m\u001b[0m\u001b[0m\n",
      "\u001b[0;32m/opt/conda/lib/python3.7/site-packages/tensorflow/python/util/traceback_utils.py\u001b[0m in \u001b[0;36merror_handler\u001b[0;34m(*args, **kwargs)\u001b[0m\n\u001b[1;32m    148\u001b[0m     \u001b[0mfiltered_tb\u001b[0m \u001b[0;34m=\u001b[0m \u001b[0;32mNone\u001b[0m\u001b[0;34m\u001b[0m\u001b[0;34m\u001b[0m\u001b[0m\n\u001b[1;32m    149\u001b[0m     \u001b[0;32mtry\u001b[0m\u001b[0;34m:\u001b[0m\u001b[0;34m\u001b[0m\u001b[0;34m\u001b[0m\u001b[0m\n\u001b[0;32m--> 150\u001b[0;31m       \u001b[0;32mreturn\u001b[0m \u001b[0mfn\u001b[0m\u001b[0;34m(\u001b[0m\u001b[0;34m*\u001b[0m\u001b[0margs\u001b[0m\u001b[0;34m,\u001b[0m \u001b[0;34m**\u001b[0m\u001b[0mkwargs\u001b[0m\u001b[0;34m)\u001b[0m\u001b[0;34m\u001b[0m\u001b[0;34m\u001b[0m\u001b[0m\n\u001b[0m\u001b[1;32m    151\u001b[0m     \u001b[0;32mexcept\u001b[0m \u001b[0mException\u001b[0m \u001b[0;32mas\u001b[0m \u001b[0me\u001b[0m\u001b[0;34m:\u001b[0m\u001b[0;34m\u001b[0m\u001b[0;34m\u001b[0m\u001b[0m\n\u001b[1;32m    152\u001b[0m       \u001b[0mfiltered_tb\u001b[0m \u001b[0;34m=\u001b[0m \u001b[0m_process_traceback_frames\u001b[0m\u001b[0;34m(\u001b[0m\u001b[0me\u001b[0m\u001b[0;34m.\u001b[0m\u001b[0m__traceback__\u001b[0m\u001b[0;34m)\u001b[0m\u001b[0;34m\u001b[0m\u001b[0;34m\u001b[0m\u001b[0m\n",
      "\u001b[0;32m/opt/conda/lib/python3.7/site-packages/tensorflow/python/eager/def_function.py\u001b[0m in \u001b[0;36m__call__\u001b[0;34m(self, *args, **kwds)\u001b[0m\n\u001b[1;32m    913\u001b[0m \u001b[0;34m\u001b[0m\u001b[0m\n\u001b[1;32m    914\u001b[0m       \u001b[0;32mwith\u001b[0m \u001b[0mOptionalXlaContext\u001b[0m\u001b[0;34m(\u001b[0m\u001b[0mself\u001b[0m\u001b[0;34m.\u001b[0m\u001b[0m_jit_compile\u001b[0m\u001b[0;34m)\u001b[0m\u001b[0;34m:\u001b[0m\u001b[0;34m\u001b[0m\u001b[0;34m\u001b[0m\u001b[0m\n\u001b[0;32m--> 915\u001b[0;31m         \u001b[0mresult\u001b[0m \u001b[0;34m=\u001b[0m \u001b[0mself\u001b[0m\u001b[0;34m.\u001b[0m\u001b[0m_call\u001b[0m\u001b[0;34m(\u001b[0m\u001b[0;34m*\u001b[0m\u001b[0margs\u001b[0m\u001b[0;34m,\u001b[0m \u001b[0;34m**\u001b[0m\u001b[0mkwds\u001b[0m\u001b[0;34m)\u001b[0m\u001b[0;34m\u001b[0m\u001b[0;34m\u001b[0m\u001b[0m\n\u001b[0m\u001b[1;32m    916\u001b[0m \u001b[0;34m\u001b[0m\u001b[0m\n\u001b[1;32m    917\u001b[0m       \u001b[0mnew_tracing_count\u001b[0m \u001b[0;34m=\u001b[0m \u001b[0mself\u001b[0m\u001b[0;34m.\u001b[0m\u001b[0mexperimental_get_tracing_count\u001b[0m\u001b[0;34m(\u001b[0m\u001b[0;34m)\u001b[0m\u001b[0;34m\u001b[0m\u001b[0;34m\u001b[0m\u001b[0m\n",
      "\u001b[0;32m/opt/conda/lib/python3.7/site-packages/tensorflow/python/eager/def_function.py\u001b[0m in \u001b[0;36m_call\u001b[0;34m(self, *args, **kwds)\u001b[0m\n\u001b[1;32m    945\u001b[0m       \u001b[0;31m# In this case we have created variables on the first call, so we run the\u001b[0m\u001b[0;34m\u001b[0m\u001b[0;34m\u001b[0m\u001b[0;34m\u001b[0m\u001b[0m\n\u001b[1;32m    946\u001b[0m       \u001b[0;31m# defunned version which is guaranteed to never create variables.\u001b[0m\u001b[0;34m\u001b[0m\u001b[0;34m\u001b[0m\u001b[0;34m\u001b[0m\u001b[0m\n\u001b[0;32m--> 947\u001b[0;31m       \u001b[0;32mreturn\u001b[0m \u001b[0mself\u001b[0m\u001b[0;34m.\u001b[0m\u001b[0m_stateless_fn\u001b[0m\u001b[0;34m(\u001b[0m\u001b[0;34m*\u001b[0m\u001b[0margs\u001b[0m\u001b[0;34m,\u001b[0m \u001b[0;34m**\u001b[0m\u001b[0mkwds\u001b[0m\u001b[0;34m)\u001b[0m  \u001b[0;31m# pylint: disable=not-callable\u001b[0m\u001b[0;34m\u001b[0m\u001b[0;34m\u001b[0m\u001b[0m\n\u001b[0m\u001b[1;32m    948\u001b[0m     \u001b[0;32melif\u001b[0m \u001b[0mself\u001b[0m\u001b[0;34m.\u001b[0m\u001b[0m_stateful_fn\u001b[0m \u001b[0;32mis\u001b[0m \u001b[0;32mnot\u001b[0m \u001b[0;32mNone\u001b[0m\u001b[0;34m:\u001b[0m\u001b[0;34m\u001b[0m\u001b[0;34m\u001b[0m\u001b[0m\n\u001b[1;32m    949\u001b[0m       \u001b[0;31m# Release the lock early so that multiple threads can perform the call\u001b[0m\u001b[0;34m\u001b[0m\u001b[0;34m\u001b[0m\u001b[0;34m\u001b[0m\u001b[0m\n",
      "\u001b[0;32m/opt/conda/lib/python3.7/site-packages/tensorflow/python/eager/function.py\u001b[0m in \u001b[0;36m__call__\u001b[0;34m(self, *args, **kwargs)\u001b[0m\n\u001b[1;32m   2955\u001b[0m        filtered_flat_args) = self._maybe_define_function(args, kwargs)\n\u001b[1;32m   2956\u001b[0m     return graph_function._call_flat(\n\u001b[0;32m-> 2957\u001b[0;31m         filtered_flat_args, captured_inputs=graph_function.captured_inputs)  # pylint: disable=protected-access\n\u001b[0m\u001b[1;32m   2958\u001b[0m \u001b[0;34m\u001b[0m\u001b[0m\n\u001b[1;32m   2959\u001b[0m   \u001b[0;34m@\u001b[0m\u001b[0mproperty\u001b[0m\u001b[0;34m\u001b[0m\u001b[0;34m\u001b[0m\u001b[0m\n",
      "\u001b[0;32m/opt/conda/lib/python3.7/site-packages/tensorflow/python/eager/function.py\u001b[0m in \u001b[0;36m_call_flat\u001b[0;34m(self, args, captured_inputs, cancellation_manager)\u001b[0m\n\u001b[1;32m   1852\u001b[0m       \u001b[0;31m# No tape is watching; skip to running the function.\u001b[0m\u001b[0;34m\u001b[0m\u001b[0;34m\u001b[0m\u001b[0;34m\u001b[0m\u001b[0m\n\u001b[1;32m   1853\u001b[0m       return self._build_call_outputs(self._inference_function.call(\n\u001b[0;32m-> 1854\u001b[0;31m           ctx, args, cancellation_manager=cancellation_manager))\n\u001b[0m\u001b[1;32m   1855\u001b[0m     forward_backward = self._select_forward_and_backward_functions(\n\u001b[1;32m   1856\u001b[0m         \u001b[0margs\u001b[0m\u001b[0;34m,\u001b[0m\u001b[0;34m\u001b[0m\u001b[0;34m\u001b[0m\u001b[0m\n",
      "\u001b[0;32m/opt/conda/lib/python3.7/site-packages/tensorflow/python/eager/function.py\u001b[0m in \u001b[0;36mcall\u001b[0;34m(self, ctx, args, cancellation_manager)\u001b[0m\n\u001b[1;32m    502\u001b[0m               \u001b[0minputs\u001b[0m\u001b[0;34m=\u001b[0m\u001b[0margs\u001b[0m\u001b[0;34m,\u001b[0m\u001b[0;34m\u001b[0m\u001b[0;34m\u001b[0m\u001b[0m\n\u001b[1;32m    503\u001b[0m               \u001b[0mattrs\u001b[0m\u001b[0;34m=\u001b[0m\u001b[0mattrs\u001b[0m\u001b[0;34m,\u001b[0m\u001b[0;34m\u001b[0m\u001b[0;34m\u001b[0m\u001b[0m\n\u001b[0;32m--> 504\u001b[0;31m               ctx=ctx)\n\u001b[0m\u001b[1;32m    505\u001b[0m         \u001b[0;32melse\u001b[0m\u001b[0;34m:\u001b[0m\u001b[0;34m\u001b[0m\u001b[0;34m\u001b[0m\u001b[0m\n\u001b[1;32m    506\u001b[0m           outputs = execute.execute_with_cancellation(\n",
      "\u001b[0;32m/opt/conda/lib/python3.7/site-packages/tensorflow/python/eager/execute.py\u001b[0m in \u001b[0;36mquick_execute\u001b[0;34m(op_name, num_outputs, inputs, attrs, ctx, name)\u001b[0m\n\u001b[1;32m     53\u001b[0m     \u001b[0mctx\u001b[0m\u001b[0;34m.\u001b[0m\u001b[0mensure_initialized\u001b[0m\u001b[0;34m(\u001b[0m\u001b[0;34m)\u001b[0m\u001b[0;34m\u001b[0m\u001b[0;34m\u001b[0m\u001b[0m\n\u001b[1;32m     54\u001b[0m     tensors = pywrap_tfe.TFE_Py_Execute(ctx._handle, device_name, op_name,\n\u001b[0;32m---> 55\u001b[0;31m                                         inputs, attrs, num_outputs)\n\u001b[0m\u001b[1;32m     56\u001b[0m   \u001b[0;32mexcept\u001b[0m \u001b[0mcore\u001b[0m\u001b[0;34m.\u001b[0m\u001b[0m_NotOkStatusException\u001b[0m \u001b[0;32mas\u001b[0m \u001b[0me\u001b[0m\u001b[0;34m:\u001b[0m\u001b[0;34m\u001b[0m\u001b[0;34m\u001b[0m\u001b[0m\n\u001b[1;32m     57\u001b[0m     \u001b[0;32mif\u001b[0m \u001b[0mname\u001b[0m \u001b[0;32mis\u001b[0m \u001b[0;32mnot\u001b[0m \u001b[0;32mNone\u001b[0m\u001b[0;34m:\u001b[0m\u001b[0;34m\u001b[0m\u001b[0;34m\u001b[0m\u001b[0m\n",
      "\u001b[0;31mKeyboardInterrupt\u001b[0m: "
     ]
    }
   ],
   "source": [
    "history = model1.fit(btc_train[0] , btc_train[1] , validation_data = btc_val  , batch_size = 512  , epochs =300 , verbose = 1 )\n",
    "\n",
    "num_epochs = earlyStopping.stopped_epoch"
   ]
  },
  {
   "cell_type": "code",
   "execution_count": null,
   "id": "7a087eed",
   "metadata": {},
   "outputs": [],
   "source": []
  },
  {
   "cell_type": "code",
   "execution_count": null,
   "id": "de69f187",
   "metadata": {},
   "outputs": [],
   "source": []
  }
 ],
 "metadata": {
  "kernelspec": {
   "display_name": "Python 3",
   "language": "python",
   "name": "python3"
  },
  "language_info": {
   "codemirror_mode": {
    "name": "ipython",
    "version": 3
   },
   "file_extension": ".py",
   "mimetype": "text/x-python",
   "name": "python",
   "nbconvert_exporter": "python",
   "pygments_lexer": "ipython3",
   "version": "3.7.12"
  }
 },
 "nbformat": 4,
 "nbformat_minor": 5
}
