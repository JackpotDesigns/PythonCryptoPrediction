{
 "cells": [
  {
   "cell_type": "markdown",
   "id": "ac622ed7",
   "metadata": {},
   "source": [
    "\n",
    "\n",
    "<Strong> Develop a TCN model that overfits , then do some regularization , then do some tuning. </Strong>"
   ]
  },
  {
   "cell_type": "code",
   "execution_count": 17,
   "id": "44717bd9",
   "metadata": {},
   "outputs": [],
   "source": [
    "import pandas as pd\n",
    "import numpy as np\n",
    "import tensorflow as tf\n",
    "from keras_tuner.tuners import RandomSearch\n",
    "from tensorflow.keras.utils import plot_model\n",
    "from matplotlib import pyplot as plt\n",
    "from tensorflow.keras.models import Sequential \n",
    "from tensorflow.keras import layers\n",
    "from tensorflow.keras.optimizers import RMSprop , Adam\n",
    "import os\n",
    "from sklearn.preprocessing import MinMaxScaler\n",
    "from sklearn.metrics import mean_squared_error , mean_absolute_error , mean_absolute_percentage_error\n",
    "from tensorflow.keras.preprocessing.sequence import TimeseriesGenerator\n",
    "from tensorflow.keras.layers import LSTM , Dense , Dropout , GRU , Concatenate , Input , Conv1D , InputLayer , MaxPooling1D\n",
    "from tensorflow.keras import models\n",
    "from tensorflow.keras.callbacks import EarlyStopping\n",
    "import math"
   ]
  },
  {
   "cell_type": "code",
   "execution_count": 18,
   "id": "1f7bdf7b",
   "metadata": {},
   "outputs": [],
   "source": [
    "#df_btc = pd.read_csv(\"../../cryptoData/BTC_1h_data.csv\")\n",
    "df_btc = pd.read_csv(\"BTC_1h_data.csv\")"
   ]
  },
  {
   "cell_type": "markdown",
   "id": "b04a0817",
   "metadata": {},
   "source": [
    "<Strong> Grabbing the closing price (univariate) </Strong>"
   ]
  },
  {
   "cell_type": "code",
   "execution_count": 19,
   "id": "bf871789",
   "metadata": {},
   "outputs": [
    {
     "data": {
      "text/plain": [
       "43534.54"
      ]
     },
     "execution_count": 19,
     "metadata": {},
     "output_type": "execute_result"
    }
   ],
   "source": [
    "# Removing everything but the closing price\n",
    "btc_data = df_btc.values[:, 4 ,].astype(float)\n",
    "\n",
    "btc_data[-1]"
   ]
  },
  {
   "cell_type": "markdown",
   "id": "0cd9b282",
   "metadata": {},
   "source": [
    "<Strong> Scaling the data  </Strong>"
   ]
  },
  {
   "cell_type": "code",
   "execution_count": 20,
   "id": "b5026d24",
   "metadata": {},
   "outputs": [],
   "source": [
    "percTrain = 70\n",
    "percVal = 20 "
   ]
  },
  {
   "cell_type": "code",
   "execution_count": 21,
   "id": "b14cf325",
   "metadata": {},
   "outputs": [],
   "source": [
    "scaler = MinMaxScaler()\n",
    "    \n",
    "onePercent = len(btc_data) // 100\n",
    "numberTraining = onePercent * percTrain\n",
    "\n",
    "reshaped_data = btc_data.reshape(-1,1)\n",
    "\n",
    "#Just scaling on training data otherwise it would be leakage\n",
    "scaler.fit(reshaped_data[:numberTraining])\n",
    "scaled_btc = scaler.transform(reshaped_data)"
   ]
  },
  {
   "cell_type": "markdown",
   "id": "5850e82f",
   "metadata": {},
   "source": [
    "<Strong> Creating Matrix in Sliding window form <Strong>"
   ]
  },
  {
   "cell_type": "code",
   "execution_count": 22,
   "id": "c11d0ede",
   "metadata": {},
   "outputs": [],
   "source": [
    "def sliding_window(elements, window_size):\n",
    "    \n",
    "    data = [] \n",
    "    targets = []\n",
    "    \n",
    "    if len(elements) <= window_size:\n",
    "        return elements\n",
    "    \n",
    "    for i in range(len(elements) - window_size ):\n",
    "        \n",
    "        data.append(elements[i:i+window_size])\n",
    "        targets.append(elements[i+window_size])\n",
    "        \n",
    "    return np.array(data) , np.array(targets)"
   ]
  },
  {
   "cell_type": "code",
   "execution_count": 23,
   "id": "6d9b3c60",
   "metadata": {},
   "outputs": [],
   "source": [
    "# Using 24 datapoints to predict the 25th\n",
    "\n",
    "window_length = 24\n",
    "dilation_rate = 2\n",
    "kernel_size = 2\n",
    "\n",
    "features = 1\n",
    "\n",
    "sliding_winda_btc = sliding_window(scaled_btc , window_length)"
   ]
  },
  {
   "cell_type": "markdown",
   "id": "c33395fb",
   "metadata": {},
   "source": [
    "<Strong> Splitting the data into train , val , test </Strong>"
   ]
  },
  {
   "cell_type": "code",
   "execution_count": 24,
   "id": "b06e1637",
   "metadata": {},
   "outputs": [],
   "source": [
    "# Splitting the data after creating the sliding window data\n",
    "def splitting_train_test(data):\n",
    "        \n",
    "    onePercent = len(data[1]) // 100\n",
    "    \n",
    "    numberTraining = onePercent * percTrain\n",
    "    numberValidation = onePercent * percVal\n",
    "    \n",
    "    trainingData = data[0][:numberTraining] , data[1][:numberTraining]\n",
    "    validationData = data[0][numberTraining : numberTraining + numberValidation] , data[1][numberTraining : numberTraining + numberValidation]\n",
    "    testData = data[0][numberTraining + numberValidation:] , data[1][numberTraining + numberValidation:] \n",
    "    \n",
    "    #Returning tuples of (sliding-window , target_values)\n",
    "    return trainingData , validationData , testData"
   ]
  },
  {
   "cell_type": "code",
   "execution_count": 25,
   "id": "6fc3e459",
   "metadata": {},
   "outputs": [
    {
     "name": "stdout",
     "output_type": "stream",
     "text": [
      "(27370, 24, 1)\n"
     ]
    }
   ],
   "source": [
    "btc_train , btc_val , btc_test = splitting_train_test(sliding_winda_btc)\n",
    "\n",
    "print(btc_train[0].shape)"
   ]
  },
  {
   "cell_type": "code",
   "execution_count": 26,
   "id": "4081f91b",
   "metadata": {},
   "outputs": [],
   "source": [
    "# Hyper Parameters that are dependant on the number of layers \n",
    "\n",
    "# Dilation_rate\n",
    "# window_length \n",
    "# kernel_size\n",
    "\n",
    "# The rest of the hyper-parameter\n",
    "\n",
    "# learning_rate\n",
    "# Dense layer size\n",
    "# filters \n",
    "# batch_size"
   ]
  },
  {
   "cell_type": "markdown",
   "id": "f1f7d16e",
   "metadata": {},
   "source": [
    "<Strong> The number of layers while changing dilation_base , kernel_size or window_size. </Strong>"
   ]
  },
  {
   "cell_type": "code",
   "execution_count": 27,
   "id": "770c67fd",
   "metadata": {},
   "outputs": [],
   "source": [
    "def getLayers(dilation_rate , window_size , kernel_size):\n",
    "    \n",
    "    top = (dilation_rate - 1) * (window_size - 1)\n",
    "    bottom = (kernel_size - 1) \n",
    "    \n",
    "    division = (top / bottom) + 1 \n",
    "    log = math.ceil(math.log(division , dilation_rate))\n",
    "    \n",
    "    \n",
    "    # This inequality must hold true for full coverage\n",
    "    \n",
    "    first = 1 + (kernel_size - 1)\n",
    "    second = (dilation_rate ** log ) - 1\n",
    "    third = dilation_rate - 1\n",
    "    \n",
    "    inequality = (second / third) * first\n",
    "    \n",
    "    if ( (kernel_size < dilation_rate) or (inequality < window_size) ):\n",
    "        print(\"not going to have full coverage\")\n",
    "        return False\n",
    "    \n",
    "    else:\n",
    "        print(\"layers =\" , log , \"kernel size =\" , kernel_size , \"dilation rate =\" , dilation_rate )\n",
    "        return log , dilation_rate , kernel_size\n"
   ]
  },
  {
   "cell_type": "code",
   "execution_count": 28,
   "id": "50a517a9",
   "metadata": {},
   "outputs": [
    {
     "name": "stdout",
     "output_type": "stream",
     "text": [
      "layers = 2 kernel size = 4 dilation rate = 4\n"
     ]
    },
    {
     "data": {
      "text/plain": [
       "(2, 4, 4)"
      ]
     },
     "execution_count": 28,
     "metadata": {},
     "output_type": "execute_result"
    }
   ],
   "source": [
    "getLayers(4 , 12 , 4)"
   ]
  },
  {
   "cell_type": "markdown",
   "id": "69359a98",
   "metadata": {},
   "source": [
    "<Strong> Below I have created 3 models (5 , 4 , 3 layered TCN).  </Strong>"
   ]
  },
  {
   "cell_type": "markdown",
   "id": "d5320e8c",
   "metadata": {},
   "source": [
    "<p> The number for the dilation_rate , kernel_size and window_size for each layer where calculated with the getLayers function above. </p>"
   ]
  },
  {
   "cell_type": "markdown",
   "id": "0cef6a8b",
   "metadata": {},
   "source": [
    "<p> Here I am just adjusting necessary componenets. </p>"
   ]
  },
  {
   "cell_type": "code",
   "execution_count": 29,
   "id": "6a40179c",
   "metadata": {},
   "outputs": [],
   "source": [
    "def createModelFiveLayers(hp):\n",
    "    \n",
    "    num_layers = 5\n",
    "    dilation = 2\n",
    "\n",
    "    hp_kernel_size = hp.Choice('kernel_size' , values = [2,3,4])\n",
    "    hp_learning_rate = hp.Choice('learning_rate' , values = [0.002 , 0.004 , 0.006 , 0.008 , 0.01])\n",
    "    #hp_dense_layer = hp.Choice('dense_layer' , values = [64 , 128 , 256])\n",
    "    hp_filters = hp.Choice('filters' , values = [32, 64 , 128])\n",
    "    \n",
    "    model1 = models.Sequential()\n",
    "    \n",
    "    # Casual adds padding to the start of input sequence\n",
    "    model1.add(Conv1D(filters=hp_filters, kernel_size=hp_kernel_size, activation='relu', input_shape=(window_length, features), dilation_rate=1 , padding = 'causal'))\n",
    "\n",
    "    #minus one for the base conv1d layer ^\n",
    "    for i in range (1 , num_layers):\n",
    "        \n",
    "        # For full coverage we need 4 layers \n",
    "        model1.add(Conv1D(filters=hp_filters, kernel_size=hp_kernel_size, activation='relu' , padding = 'causal', dilation_rate= dilation**i))\n",
    "\n",
    "    #model1.add(Dense(hp_dense_layer, activation='relu'))\n",
    "\n",
    "    model1.add(Dense(1))\n",
    "\n",
    "    model1.summary()\n",
    "    \n",
    "    opt = Adam(learning_rate=hp_learning_rate)\n",
    "    model1.compile(optimizer=opt , loss = 'mse')\n",
    "    \n",
    "    return model1\n"
   ]
  },
  {
   "cell_type": "code",
   "execution_count": 30,
   "id": "df85eddf",
   "metadata": {},
   "outputs": [
    {
     "name": "stdout",
     "output_type": "stream",
     "text": [
      "Model: \"sequential_1\"\n",
      "_________________________________________________________________\n",
      " Layer (type)                Output Shape              Param #   \n",
      "=================================================================\n",
      " conv1d_5 (Conv1D)           (None, 24, 32)            96        \n",
      "                                                                 \n",
      " conv1d_6 (Conv1D)           (None, 24, 32)            2080      \n",
      "                                                                 \n",
      " conv1d_7 (Conv1D)           (None, 24, 32)            2080      \n",
      "                                                                 \n",
      " conv1d_8 (Conv1D)           (None, 24, 32)            2080      \n",
      "                                                                 \n",
      " conv1d_9 (Conv1D)           (None, 24, 32)            2080      \n",
      "                                                                 \n",
      " dense_1 (Dense)             (None, 24, 1)             33        \n",
      "                                                                 \n",
      "=================================================================\n",
      "Total params: 8,449\n",
      "Trainable params: 8,449\n",
      "Non-trainable params: 0\n",
      "_________________________________________________________________\n"
     ]
    }
   ],
   "source": [
    "tunerFiveLayers = RandomSearch (\n",
    "    createModelFiveLayers,\n",
    "    objective = \"val_loss\",\n",
    "    max_trials=20,\n",
    "    executions_per_trial=1,\n",
    "    directory = 'tcn',\n",
    "    project_name='tcn_five_layers'\n",
    ")"
   ]
  },
  {
   "cell_type": "code",
   "execution_count": null,
   "id": "c2dad3fe",
   "metadata": {},
   "outputs": [
    {
     "name": "stdout",
     "output_type": "stream",
     "text": [
      "\n",
      "Search: Running Trial #1\n",
      "\n",
      "Hyperparameter    |Value             |Best Value So Far \n",
      "kernel_size       |2                 |?                 \n",
      "learning_rate     |0.008             |?                 \n",
      "filters           |128               |?                 \n",
      "\n",
      "Model: \"sequential\"\n",
      "_________________________________________________________________\n",
      " Layer (type)                Output Shape              Param #   \n",
      "=================================================================\n",
      " conv1d (Conv1D)             (None, 24, 128)           384       \n",
      "                                                                 \n",
      " conv1d_1 (Conv1D)           (None, 24, 128)           32896     \n",
      "                                                                 \n",
      " conv1d_2 (Conv1D)           (None, 24, 128)           32896     \n",
      "                                                                 \n",
      " conv1d_3 (Conv1D)           (None, 24, 128)           32896     \n",
      "                                                                 \n",
      " conv1d_4 (Conv1D)           (None, 24, 128)           32896     \n",
      "                                                                 \n",
      " dense (Dense)               (None, 24, 1)             129       \n",
      "                                                                 \n",
      "=================================================================\n",
      "Total params: 132,097\n",
      "Trainable params: 132,097\n",
      "Non-trainable params: 0\n",
      "_________________________________________________________________\n",
      "Epoch 1/300\n",
      "54/54 [==============================] - 13s 230ms/step - loss: 0.0384 - val_loss: 0.0788\n",
      "Epoch 2/300\n",
      "54/54 [==============================] - 12s 228ms/step - loss: 4.7177e-04 - val_loss: 0.0083\n",
      "Epoch 3/300\n",
      "54/54 [==============================] - 11s 209ms/step - loss: 3.3607e-04 - val_loss: 0.0090\n",
      "Epoch 4/300\n",
      "54/54 [==============================] - 11s 206ms/step - loss: 3.1918e-04 - val_loss: 0.0096\n",
      "Epoch 5/300\n",
      "54/54 [==============================] - 11s 212ms/step - loss: 3.0938e-04 - val_loss: 0.0117\n",
      "Epoch 6/300\n",
      "54/54 [==============================] - 11s 197ms/step - loss: 3.1489e-04 - val_loss: 0.0072\n",
      "Epoch 7/300\n",
      "54/54 [==============================] - 11s 198ms/step - loss: 3.2840e-04 - val_loss: 0.0076\n",
      "Epoch 8/300\n",
      "54/54 [==============================] - 11s 196ms/step - loss: 3.2353e-04 - val_loss: 0.0111\n",
      "Epoch 9/300\n",
      "54/54 [==============================] - 11s 196ms/step - loss: 3.4089e-04 - val_loss: 0.0081\n",
      "Epoch 10/300\n",
      "54/54 [==============================] - 11s 202ms/step - loss: 3.0941e-04 - val_loss: 0.0126\n",
      "Epoch 11/300\n",
      "54/54 [==============================] - 11s 197ms/step - loss: 3.1372e-04 - val_loss: 0.0223\n",
      "Epoch 12/300\n",
      "54/54 [==============================] - 10s 193ms/step - loss: 3.6248e-04 - val_loss: 0.0114\n",
      "Epoch 13/300\n",
      "54/54 [==============================] - 10s 193ms/step - loss: 3.0324e-04 - val_loss: 0.0076\n",
      "Epoch 14/300\n",
      "54/54 [==============================] - 10s 194ms/step - loss: 3.3914e-04 - val_loss: 0.0093\n",
      "Epoch 15/300\n",
      "54/54 [==============================] - 10s 193ms/step - loss: 3.1936e-04 - val_loss: 0.0114\n",
      "Epoch 16/300\n",
      "54/54 [==============================] - 10s 192ms/step - loss: 3.3018e-04 - val_loss: 0.0104\n",
      "Epoch 17/300\n",
      "54/54 [==============================] - 10s 194ms/step - loss: 3.1690e-04 - val_loss: 0.0172\n",
      "Epoch 18/300\n",
      "54/54 [==============================] - 11s 200ms/step - loss: 3.0262e-04 - val_loss: 0.0093\n",
      "Epoch 19/300\n",
      "54/54 [==============================] - 10s 190ms/step - loss: 3.1577e-04 - val_loss: 0.0096\n",
      "Epoch 20/300\n",
      "54/54 [==============================] - 523s 10s/step - loss: 3.2192e-04 - val_loss: 0.0105\n",
      "Epoch 21/300\n",
      " 4/54 [=>............................] - ETA: 9s - loss: 2.7962e-04 "
     ]
    }
   ],
   "source": [
    "tunerFiveLayers.search(btc_train[0] , btc_train[1] , epochs=300 , validation_data=btc_val , batch_size = 512, callbacks=[tf.keras.callbacks.EarlyStopping('val_loss', patience=30)])\n",
    "\n",
    "\n"
   ]
  },
  {
   "cell_type": "code",
   "execution_count": 160,
   "id": "2b7e2a10",
   "metadata": {},
   "outputs": [],
   "source": [
    "def createModelFourLayers(hp):\n",
    "    \n",
    "    num_layers = 4\n",
    "    \n",
    "    dilation=2\n",
    "    hp_kernel_size = hp.Choice('kernel_size' , values = [3,4,5])\n",
    "    hp_learning_rate = hp.Choice('learning_rate' , values = [0.002 , 0.004 , 0.006 , 0.008 , 0.01])\n",
    "    hp_dense_layer = hp.Choice('dense_layer' , values = [64 , 128 , 256])\n",
    "\n",
    "    \n",
    "    model1 = models.Sequential()\n",
    "    \n",
    "    # Casual adds padding to the start of input sequence\n",
    "    model1.add(Conv1D(filters=32, kernel_size=hp_kernel_size, activation='relu', input_shape=(window_length, features), dilation_rate=1 , padding = 'causal'))\n",
    "\n",
    "    #minus one for the base conv1d layer ^\n",
    "    for i in range (1 , num_layers):\n",
    "        \n",
    "        # For full coverage we need 4 layers \n",
    "        model1.add(Conv1D(filters=32, kernel_size=hp_kernel_size, activation='relu' , padding = 'causal', dilation_rate= dilation**i))\n",
    "\n",
    "    #model1.add(Dense(hp_dense_layer, activation='relu'))\n",
    "\n",
    "    model1.add(Dense(1))\n",
    "\n",
    "    model1.summary()\n",
    "    \n",
    "    opt = Adam(learning_rate=hp_learning_rate)\n",
    "    model1.compile(optimizer=opt , loss = 'mse')\n",
    "    \n",
    "    return model1\n",
    "    \n",
    "    "
   ]
  },
  {
   "cell_type": "code",
   "execution_count": 162,
   "id": "d2cb8f4e",
   "metadata": {},
   "outputs": [
    {
     "name": "stdout",
     "output_type": "stream",
     "text": [
      "Model: \"sequential_2\"\n",
      "_________________________________________________________________\n",
      " Layer (type)                Output Shape              Param #   \n",
      "=================================================================\n",
      " conv1d_8 (Conv1D)           (None, 24, 32)            128       \n",
      "                                                                 \n",
      " conv1d_9 (Conv1D)           (None, 24, 32)            3104      \n",
      "                                                                 \n",
      " conv1d_10 (Conv1D)          (None, 24, 32)            3104      \n",
      "                                                                 \n",
      " conv1d_11 (Conv1D)          (None, 24, 32)            3104      \n",
      "                                                                 \n",
      " dense_3 (Dense)             (None, 24, 1)             33        \n",
      "                                                                 \n",
      "=================================================================\n",
      "Total params: 9,473\n",
      "Trainable params: 9,473\n",
      "Non-trainable params: 0\n",
      "_________________________________________________________________\n"
     ]
    }
   ],
   "source": [
    "tunerFourLayers = RandomSearch (\n",
    "    createModelFourLayers,\n",
    "    objective = \"val_loss\",\n",
    "    max_trials=50,\n",
    "    executions_per_trial=1,\n",
    "    directory = 'tcn',\n",
    "    project_name='tcn_four_layers'\n",
    ")"
   ]
  },
  {
   "cell_type": "code",
   "execution_count": 163,
   "id": "0f532440",
   "metadata": {},
   "outputs": [
    {
     "name": "stdout",
     "output_type": "stream",
     "text": [
      "Trial 6 Complete [00h 02m 25s]\n",
      "val_loss: 0.009956913068890572\n",
      "\n",
      "Best val_loss So Far: 0.006215453613549471\n",
      "Total elapsed time: 00h 15m 16s\n",
      "\n",
      "Search: Running Trial #7\n",
      "\n",
      "Hyperparameter    |Value             |Best Value So Far \n",
      "kernel_size       |3                 |3                 \n",
      "learning_rate     |0.002             |0.006             \n",
      "dense_layer       |64                |256               \n",
      "\n",
      "Model: \"sequential\"\n",
      "_________________________________________________________________\n",
      " Layer (type)                Output Shape              Param #   \n",
      "=================================================================\n",
      " conv1d (Conv1D)             (None, 24, 32)            128       \n",
      "                                                                 \n",
      " conv1d_1 (Conv1D)           (None, 24, 32)            3104      \n",
      "                                                                 \n",
      " conv1d_2 (Conv1D)           (None, 24, 32)            3104      \n",
      "                                                                 \n",
      " conv1d_3 (Conv1D)           (None, 24, 32)            3104      \n",
      "                                                                 \n",
      " dense (Dense)               (None, 24, 1)             33        \n",
      "                                                                 \n",
      "=================================================================\n",
      "Total params: 9,473\n",
      "Trainable params: 9,473\n",
      "Non-trainable params: 0\n",
      "_________________________________________________________________\n",
      "Epoch 1/300\n",
      "54/54 [==============================] - 2s 36ms/step - loss: 0.0174 - val_loss: 0.1929\n",
      "Epoch 2/300\n",
      "54/54 [==============================] - 2s 34ms/step - loss: 7.7298e-04 - val_loss: 0.0534\n",
      "Epoch 3/300\n",
      "54/54 [==============================] - 2s 34ms/step - loss: 3.4838e-04 - val_loss: 0.0392\n",
      "Epoch 4/300\n",
      "54/54 [==============================] - 2s 34ms/step - loss: 3.4264e-04 - val_loss: 0.0362\n",
      "Epoch 5/300\n",
      "54/54 [==============================] - 2s 36ms/step - loss: 3.3265e-04 - val_loss: 0.0351\n",
      "Epoch 6/300\n",
      "54/54 [==============================] - 2s 34ms/step - loss: 3.2300e-04 - val_loss: 0.0365\n",
      "Epoch 7/300\n",
      "54/54 [==============================] - 2s 32ms/step - loss: 3.1887e-04 - val_loss: 0.0317\n",
      "Epoch 8/300\n",
      "54/54 [==============================] - 2s 33ms/step - loss: 3.2161e-04 - val_loss: 0.0335\n",
      "Epoch 9/300\n",
      "54/54 [==============================] - 2s 41ms/step - loss: 3.3299e-04 - val_loss: 0.0270\n",
      "Epoch 10/300\n",
      "54/54 [==============================] - 2s 40ms/step - loss: 3.2406e-04 - val_loss: 0.0301\n",
      "Epoch 11/300\n",
      "54/54 [==============================] - 2s 43ms/step - loss: 3.2571e-04 - val_loss: 0.0350\n",
      "Epoch 12/300\n",
      "54/54 [==============================] - 2s 34ms/step - loss: 3.1084e-04 - val_loss: 0.0338\n",
      "Epoch 13/300\n",
      "54/54 [==============================] - 2s 35ms/step - loss: 3.1333e-04 - val_loss: 0.0329\n",
      "Epoch 14/300\n",
      "54/54 [==============================] - 2s 35ms/step - loss: 3.1043e-04 - val_loss: 0.0305\n",
      "Epoch 15/300\n",
      " 9/54 [====>.........................] - ETA: 1s - loss: 3.3158e-04"
     ]
    },
    {
     "ename": "KeyboardInterrupt",
     "evalue": "",
     "output_type": "error",
     "traceback": [
      "\u001b[0;31m---------------------------------------------------------------------------\u001b[0m",
      "\u001b[0;31mKeyboardInterrupt\u001b[0m                         Traceback (most recent call last)",
      "\u001b[0;32m/var/folders/cv/9wyhthmx21d7ylr5zx17lfmr0000gn/T/ipykernel_70118/2146501925.py\u001b[0m in \u001b[0;36m<module>\u001b[0;34m\u001b[0m\n\u001b[0;32m----> 1\u001b[0;31m \u001b[0mtunerFourLayers\u001b[0m\u001b[0;34m.\u001b[0m\u001b[0msearch\u001b[0m\u001b[0;34m(\u001b[0m\u001b[0mbtc_train\u001b[0m\u001b[0;34m[\u001b[0m\u001b[0;36m0\u001b[0m\u001b[0;34m]\u001b[0m \u001b[0;34m,\u001b[0m \u001b[0mbtc_train\u001b[0m\u001b[0;34m[\u001b[0m\u001b[0;36m1\u001b[0m\u001b[0;34m]\u001b[0m \u001b[0;34m,\u001b[0m \u001b[0mepochs\u001b[0m\u001b[0;34m=\u001b[0m\u001b[0;36m300\u001b[0m \u001b[0;34m,\u001b[0m \u001b[0mvalidation_data\u001b[0m\u001b[0;34m=\u001b[0m\u001b[0mbtc_val\u001b[0m \u001b[0;34m,\u001b[0m \u001b[0mbatch_size\u001b[0m \u001b[0;34m=\u001b[0m \u001b[0;36m512\u001b[0m\u001b[0;34m,\u001b[0m \u001b[0mcallbacks\u001b[0m\u001b[0;34m=\u001b[0m\u001b[0;34m[\u001b[0m\u001b[0mtf\u001b[0m\u001b[0;34m.\u001b[0m\u001b[0mkeras\u001b[0m\u001b[0;34m.\u001b[0m\u001b[0mcallbacks\u001b[0m\u001b[0;34m.\u001b[0m\u001b[0mEarlyStopping\u001b[0m\u001b[0;34m(\u001b[0m\u001b[0;34m'val_loss'\u001b[0m\u001b[0;34m,\u001b[0m \u001b[0mpatience\u001b[0m\u001b[0;34m=\u001b[0m\u001b[0;36m30\u001b[0m\u001b[0;34m)\u001b[0m\u001b[0;34m]\u001b[0m\u001b[0;34m)\u001b[0m\u001b[0;34m\u001b[0m\u001b[0m\n\u001b[0m",
      "\u001b[0;32m/Library/Frameworks/Python.framework/Versions/3.7/lib/python3.7/site-packages/keras_tuner/engine/base_tuner.py\u001b[0m in \u001b[0;36msearch\u001b[0;34m(self, *fit_args, **fit_kwargs)\u001b[0m\n\u001b[1;32m    177\u001b[0m \u001b[0;34m\u001b[0m\u001b[0m\n\u001b[1;32m    178\u001b[0m             \u001b[0mself\u001b[0m\u001b[0;34m.\u001b[0m\u001b[0mon_trial_begin\u001b[0m\u001b[0;34m(\u001b[0m\u001b[0mtrial\u001b[0m\u001b[0;34m)\u001b[0m\u001b[0;34m\u001b[0m\u001b[0m\n\u001b[0;32m--> 179\u001b[0;31m             \u001b[0mresults\u001b[0m \u001b[0;34m=\u001b[0m \u001b[0mself\u001b[0m\u001b[0;34m.\u001b[0m\u001b[0mrun_trial\u001b[0m\u001b[0;34m(\u001b[0m\u001b[0mtrial\u001b[0m\u001b[0;34m,\u001b[0m \u001b[0;34m*\u001b[0m\u001b[0mfit_args\u001b[0m\u001b[0;34m,\u001b[0m \u001b[0;34m**\u001b[0m\u001b[0mfit_kwargs\u001b[0m\u001b[0;34m)\u001b[0m\u001b[0;34m\u001b[0m\u001b[0m\n\u001b[0m\u001b[1;32m    180\u001b[0m             \u001b[0;31m# `results` is None indicates user updated oracle in `run_trial()`.\u001b[0m\u001b[0;34m\u001b[0m\u001b[0;34m\u001b[0m\u001b[0m\n\u001b[1;32m    181\u001b[0m             \u001b[0;32mif\u001b[0m \u001b[0mresults\u001b[0m \u001b[0;32mis\u001b[0m \u001b[0;32mNone\u001b[0m\u001b[0;34m:\u001b[0m\u001b[0;34m\u001b[0m\u001b[0m\n",
      "\u001b[0;32m/Library/Frameworks/Python.framework/Versions/3.7/lib/python3.7/site-packages/keras_tuner/engine/tuner.py\u001b[0m in \u001b[0;36mrun_trial\u001b[0;34m(self, trial, *args, **kwargs)\u001b[0m\n\u001b[1;32m    302\u001b[0m             \u001b[0mcallbacks\u001b[0m\u001b[0;34m.\u001b[0m\u001b[0mappend\u001b[0m\u001b[0;34m(\u001b[0m\u001b[0mmodel_checkpoint\u001b[0m\u001b[0;34m)\u001b[0m\u001b[0;34m\u001b[0m\u001b[0m\n\u001b[1;32m    303\u001b[0m             \u001b[0mcopied_kwargs\u001b[0m\u001b[0;34m[\u001b[0m\u001b[0;34m\"callbacks\"\u001b[0m\u001b[0;34m]\u001b[0m \u001b[0;34m=\u001b[0m \u001b[0mcallbacks\u001b[0m\u001b[0;34m\u001b[0m\u001b[0m\n\u001b[0;32m--> 304\u001b[0;31m             \u001b[0mobj_value\u001b[0m \u001b[0;34m=\u001b[0m \u001b[0mself\u001b[0m\u001b[0;34m.\u001b[0m\u001b[0m_build_and_fit_model\u001b[0m\u001b[0;34m(\u001b[0m\u001b[0mtrial\u001b[0m\u001b[0;34m,\u001b[0m \u001b[0;34m*\u001b[0m\u001b[0margs\u001b[0m\u001b[0;34m,\u001b[0m \u001b[0;34m**\u001b[0m\u001b[0mcopied_kwargs\u001b[0m\u001b[0;34m)\u001b[0m\u001b[0;34m\u001b[0m\u001b[0m\n\u001b[0m\u001b[1;32m    305\u001b[0m \u001b[0;34m\u001b[0m\u001b[0m\n\u001b[1;32m    306\u001b[0m             \u001b[0;31m# objective left unspecified,\u001b[0m\u001b[0;34m\u001b[0m\u001b[0;34m\u001b[0m\u001b[0m\n",
      "\u001b[0;32m/Library/Frameworks/Python.framework/Versions/3.7/lib/python3.7/site-packages/keras_tuner/engine/tuner.py\u001b[0m in \u001b[0;36m_build_and_fit_model\u001b[0;34m(self, trial, *args, **kwargs)\u001b[0m\n\u001b[1;32m    232\u001b[0m         \u001b[0mhp\u001b[0m \u001b[0;34m=\u001b[0m \u001b[0mtrial\u001b[0m\u001b[0;34m.\u001b[0m\u001b[0mhyperparameters\u001b[0m\u001b[0;34m\u001b[0m\u001b[0m\n\u001b[1;32m    233\u001b[0m         \u001b[0mmodel\u001b[0m \u001b[0;34m=\u001b[0m \u001b[0mself\u001b[0m\u001b[0;34m.\u001b[0m\u001b[0m_try_build\u001b[0m\u001b[0;34m(\u001b[0m\u001b[0mhp\u001b[0m\u001b[0;34m)\u001b[0m\u001b[0;34m\u001b[0m\u001b[0m\n\u001b[0;32m--> 234\u001b[0;31m         \u001b[0;32mreturn\u001b[0m \u001b[0mself\u001b[0m\u001b[0;34m.\u001b[0m\u001b[0mhypermodel\u001b[0m\u001b[0;34m.\u001b[0m\u001b[0mfit\u001b[0m\u001b[0;34m(\u001b[0m\u001b[0mhp\u001b[0m\u001b[0;34m,\u001b[0m \u001b[0mmodel\u001b[0m\u001b[0;34m,\u001b[0m \u001b[0;34m*\u001b[0m\u001b[0margs\u001b[0m\u001b[0;34m,\u001b[0m \u001b[0;34m**\u001b[0m\u001b[0mkwargs\u001b[0m\u001b[0;34m)\u001b[0m\u001b[0;34m\u001b[0m\u001b[0m\n\u001b[0m\u001b[1;32m    235\u001b[0m \u001b[0;34m\u001b[0m\u001b[0m\n\u001b[1;32m    236\u001b[0m     \u001b[0;32mdef\u001b[0m \u001b[0mrun_trial\u001b[0m\u001b[0;34m(\u001b[0m\u001b[0mself\u001b[0m\u001b[0;34m,\u001b[0m \u001b[0mtrial\u001b[0m\u001b[0;34m,\u001b[0m \u001b[0;34m*\u001b[0m\u001b[0margs\u001b[0m\u001b[0;34m,\u001b[0m \u001b[0;34m**\u001b[0m\u001b[0mkwargs\u001b[0m\u001b[0;34m)\u001b[0m\u001b[0;34m:\u001b[0m\u001b[0;34m\u001b[0m\u001b[0m\n",
      "\u001b[0;32m/Library/Frameworks/Python.framework/Versions/3.7/lib/python3.7/site-packages/keras_tuner/engine/hypermodel.py\u001b[0m in \u001b[0;36mfit\u001b[0;34m(self, hp, model, *args, **kwargs)\u001b[0m\n\u001b[1;32m    135\u001b[0m             \u001b[0mIf\u001b[0m \u001b[0;32mreturn\u001b[0m \u001b[0ma\u001b[0m \u001b[0mfloat\u001b[0m\u001b[0;34m,\u001b[0m \u001b[0mit\u001b[0m \u001b[0mshould\u001b[0m \u001b[0mbe\u001b[0m \u001b[0mthe\u001b[0m\u001b[0;31m \u001b[0m\u001b[0;31m`\u001b[0m\u001b[0mobjective\u001b[0m\u001b[0;31m`\u001b[0m \u001b[0mvalue\u001b[0m\u001b[0;34m.\u001b[0m\u001b[0;34m\u001b[0m\u001b[0m\n\u001b[1;32m    136\u001b[0m         \"\"\"\n\u001b[0;32m--> 137\u001b[0;31m         \u001b[0;32mreturn\u001b[0m \u001b[0mmodel\u001b[0m\u001b[0;34m.\u001b[0m\u001b[0mfit\u001b[0m\u001b[0;34m(\u001b[0m\u001b[0;34m*\u001b[0m\u001b[0margs\u001b[0m\u001b[0;34m,\u001b[0m \u001b[0;34m**\u001b[0m\u001b[0mkwargs\u001b[0m\u001b[0;34m)\u001b[0m\u001b[0;34m\u001b[0m\u001b[0m\n\u001b[0m\u001b[1;32m    138\u001b[0m \u001b[0;34m\u001b[0m\u001b[0m\n\u001b[1;32m    139\u001b[0m \u001b[0;34m\u001b[0m\u001b[0m\n",
      "\u001b[0;32m/Library/Frameworks/Python.framework/Versions/3.7/lib/python3.7/site-packages/keras/utils/traceback_utils.py\u001b[0m in \u001b[0;36merror_handler\u001b[0;34m(*args, **kwargs)\u001b[0m\n\u001b[1;32m     62\u001b[0m     \u001b[0mfiltered_tb\u001b[0m \u001b[0;34m=\u001b[0m \u001b[0;32mNone\u001b[0m\u001b[0;34m\u001b[0m\u001b[0m\n\u001b[1;32m     63\u001b[0m     \u001b[0;32mtry\u001b[0m\u001b[0;34m:\u001b[0m\u001b[0;34m\u001b[0m\u001b[0m\n\u001b[0;32m---> 64\u001b[0;31m       \u001b[0;32mreturn\u001b[0m \u001b[0mfn\u001b[0m\u001b[0;34m(\u001b[0m\u001b[0;34m*\u001b[0m\u001b[0margs\u001b[0m\u001b[0;34m,\u001b[0m \u001b[0;34m**\u001b[0m\u001b[0mkwargs\u001b[0m\u001b[0;34m)\u001b[0m\u001b[0;34m\u001b[0m\u001b[0m\n\u001b[0m\u001b[1;32m     65\u001b[0m     \u001b[0;32mexcept\u001b[0m \u001b[0mException\u001b[0m \u001b[0;32mas\u001b[0m \u001b[0me\u001b[0m\u001b[0;34m:\u001b[0m  \u001b[0;31m# pylint: disable=broad-except\u001b[0m\u001b[0;34m\u001b[0m\u001b[0m\n\u001b[1;32m     66\u001b[0m       \u001b[0mfiltered_tb\u001b[0m \u001b[0;34m=\u001b[0m \u001b[0m_process_traceback_frames\u001b[0m\u001b[0;34m(\u001b[0m\u001b[0me\u001b[0m\u001b[0;34m.\u001b[0m\u001b[0m__traceback__\u001b[0m\u001b[0;34m)\u001b[0m\u001b[0;34m\u001b[0m\u001b[0m\n",
      "\u001b[0;32m/Library/Frameworks/Python.framework/Versions/3.7/lib/python3.7/site-packages/keras/engine/training.py\u001b[0m in \u001b[0;36mfit\u001b[0;34m(self, x, y, batch_size, epochs, verbose, callbacks, validation_split, validation_data, shuffle, class_weight, sample_weight, initial_epoch, steps_per_epoch, validation_steps, validation_batch_size, validation_freq, max_queue_size, workers, use_multiprocessing)\u001b[0m\n\u001b[1;32m   1382\u001b[0m                 _r=1):\n\u001b[1;32m   1383\u001b[0m               \u001b[0mcallbacks\u001b[0m\u001b[0;34m.\u001b[0m\u001b[0mon_train_batch_begin\u001b[0m\u001b[0;34m(\u001b[0m\u001b[0mstep\u001b[0m\u001b[0;34m)\u001b[0m\u001b[0;34m\u001b[0m\u001b[0m\n\u001b[0;32m-> 1384\u001b[0;31m               \u001b[0mtmp_logs\u001b[0m \u001b[0;34m=\u001b[0m \u001b[0mself\u001b[0m\u001b[0;34m.\u001b[0m\u001b[0mtrain_function\u001b[0m\u001b[0;34m(\u001b[0m\u001b[0miterator\u001b[0m\u001b[0;34m)\u001b[0m\u001b[0;34m\u001b[0m\u001b[0m\n\u001b[0m\u001b[1;32m   1385\u001b[0m               \u001b[0;32mif\u001b[0m \u001b[0mdata_handler\u001b[0m\u001b[0;34m.\u001b[0m\u001b[0mshould_sync\u001b[0m\u001b[0;34m:\u001b[0m\u001b[0;34m\u001b[0m\u001b[0m\n\u001b[1;32m   1386\u001b[0m                 \u001b[0mcontext\u001b[0m\u001b[0;34m.\u001b[0m\u001b[0masync_wait\u001b[0m\u001b[0;34m(\u001b[0m\u001b[0;34m)\u001b[0m\u001b[0;34m\u001b[0m\u001b[0m\n",
      "\u001b[0;32m/Library/Frameworks/Python.framework/Versions/3.7/lib/python3.7/site-packages/tensorflow/python/util/traceback_utils.py\u001b[0m in \u001b[0;36merror_handler\u001b[0;34m(*args, **kwargs)\u001b[0m\n\u001b[1;32m    148\u001b[0m     \u001b[0mfiltered_tb\u001b[0m \u001b[0;34m=\u001b[0m \u001b[0;32mNone\u001b[0m\u001b[0;34m\u001b[0m\u001b[0m\n\u001b[1;32m    149\u001b[0m     \u001b[0;32mtry\u001b[0m\u001b[0;34m:\u001b[0m\u001b[0;34m\u001b[0m\u001b[0m\n\u001b[0;32m--> 150\u001b[0;31m       \u001b[0;32mreturn\u001b[0m \u001b[0mfn\u001b[0m\u001b[0;34m(\u001b[0m\u001b[0;34m*\u001b[0m\u001b[0margs\u001b[0m\u001b[0;34m,\u001b[0m \u001b[0;34m**\u001b[0m\u001b[0mkwargs\u001b[0m\u001b[0;34m)\u001b[0m\u001b[0;34m\u001b[0m\u001b[0m\n\u001b[0m\u001b[1;32m    151\u001b[0m     \u001b[0;32mexcept\u001b[0m \u001b[0mException\u001b[0m \u001b[0;32mas\u001b[0m \u001b[0me\u001b[0m\u001b[0;34m:\u001b[0m\u001b[0;34m\u001b[0m\u001b[0m\n\u001b[1;32m    152\u001b[0m       \u001b[0mfiltered_tb\u001b[0m \u001b[0;34m=\u001b[0m \u001b[0m_process_traceback_frames\u001b[0m\u001b[0;34m(\u001b[0m\u001b[0me\u001b[0m\u001b[0;34m.\u001b[0m\u001b[0m__traceback__\u001b[0m\u001b[0;34m)\u001b[0m\u001b[0;34m\u001b[0m\u001b[0m\n",
      "\u001b[0;32m/Library/Frameworks/Python.framework/Versions/3.7/lib/python3.7/site-packages/tensorflow/python/eager/def_function.py\u001b[0m in \u001b[0;36m__call__\u001b[0;34m(self, *args, **kwds)\u001b[0m\n\u001b[1;32m    913\u001b[0m \u001b[0;34m\u001b[0m\u001b[0m\n\u001b[1;32m    914\u001b[0m       \u001b[0;32mwith\u001b[0m \u001b[0mOptionalXlaContext\u001b[0m\u001b[0;34m(\u001b[0m\u001b[0mself\u001b[0m\u001b[0;34m.\u001b[0m\u001b[0m_jit_compile\u001b[0m\u001b[0;34m)\u001b[0m\u001b[0;34m:\u001b[0m\u001b[0;34m\u001b[0m\u001b[0m\n\u001b[0;32m--> 915\u001b[0;31m         \u001b[0mresult\u001b[0m \u001b[0;34m=\u001b[0m \u001b[0mself\u001b[0m\u001b[0;34m.\u001b[0m\u001b[0m_call\u001b[0m\u001b[0;34m(\u001b[0m\u001b[0;34m*\u001b[0m\u001b[0margs\u001b[0m\u001b[0;34m,\u001b[0m \u001b[0;34m**\u001b[0m\u001b[0mkwds\u001b[0m\u001b[0;34m)\u001b[0m\u001b[0;34m\u001b[0m\u001b[0m\n\u001b[0m\u001b[1;32m    916\u001b[0m \u001b[0;34m\u001b[0m\u001b[0m\n\u001b[1;32m    917\u001b[0m       \u001b[0mnew_tracing_count\u001b[0m \u001b[0;34m=\u001b[0m \u001b[0mself\u001b[0m\u001b[0;34m.\u001b[0m\u001b[0mexperimental_get_tracing_count\u001b[0m\u001b[0;34m(\u001b[0m\u001b[0;34m)\u001b[0m\u001b[0;34m\u001b[0m\u001b[0m\n",
      "\u001b[0;32m/Library/Frameworks/Python.framework/Versions/3.7/lib/python3.7/site-packages/tensorflow/python/eager/def_function.py\u001b[0m in \u001b[0;36m_call\u001b[0;34m(self, *args, **kwds)\u001b[0m\n\u001b[1;32m    945\u001b[0m       \u001b[0;31m# In this case we have created variables on the first call, so we run the\u001b[0m\u001b[0;34m\u001b[0m\u001b[0;34m\u001b[0m\u001b[0m\n\u001b[1;32m    946\u001b[0m       \u001b[0;31m# defunned version which is guaranteed to never create variables.\u001b[0m\u001b[0;34m\u001b[0m\u001b[0;34m\u001b[0m\u001b[0m\n\u001b[0;32m--> 947\u001b[0;31m       \u001b[0;32mreturn\u001b[0m \u001b[0mself\u001b[0m\u001b[0;34m.\u001b[0m\u001b[0m_stateless_fn\u001b[0m\u001b[0;34m(\u001b[0m\u001b[0;34m*\u001b[0m\u001b[0margs\u001b[0m\u001b[0;34m,\u001b[0m \u001b[0;34m**\u001b[0m\u001b[0mkwds\u001b[0m\u001b[0;34m)\u001b[0m  \u001b[0;31m# pylint: disable=not-callable\u001b[0m\u001b[0;34m\u001b[0m\u001b[0m\n\u001b[0m\u001b[1;32m    948\u001b[0m     \u001b[0;32melif\u001b[0m \u001b[0mself\u001b[0m\u001b[0;34m.\u001b[0m\u001b[0m_stateful_fn\u001b[0m \u001b[0;32mis\u001b[0m \u001b[0;32mnot\u001b[0m \u001b[0;32mNone\u001b[0m\u001b[0;34m:\u001b[0m\u001b[0;34m\u001b[0m\u001b[0m\n\u001b[1;32m    949\u001b[0m       \u001b[0;31m# Release the lock early so that multiple threads can perform the call\u001b[0m\u001b[0;34m\u001b[0m\u001b[0;34m\u001b[0m\u001b[0m\n",
      "\u001b[0;32m/Library/Frameworks/Python.framework/Versions/3.7/lib/python3.7/site-packages/tensorflow/python/eager/function.py\u001b[0m in \u001b[0;36m__call__\u001b[0;34m(self, *args, **kwargs)\u001b[0m\n\u001b[1;32m   2955\u001b[0m        filtered_flat_args) = self._maybe_define_function(args, kwargs)\n\u001b[1;32m   2956\u001b[0m     return graph_function._call_flat(\n\u001b[0;32m-> 2957\u001b[0;31m         filtered_flat_args, captured_inputs=graph_function.captured_inputs)  # pylint: disable=protected-access\n\u001b[0m\u001b[1;32m   2958\u001b[0m \u001b[0;34m\u001b[0m\u001b[0m\n\u001b[1;32m   2959\u001b[0m   \u001b[0;34m@\u001b[0m\u001b[0mproperty\u001b[0m\u001b[0;34m\u001b[0m\u001b[0m\n",
      "\u001b[0;32m/Library/Frameworks/Python.framework/Versions/3.7/lib/python3.7/site-packages/tensorflow/python/eager/function.py\u001b[0m in \u001b[0;36m_call_flat\u001b[0;34m(self, args, captured_inputs, cancellation_manager)\u001b[0m\n\u001b[1;32m   1852\u001b[0m       \u001b[0;31m# No tape is watching; skip to running the function.\u001b[0m\u001b[0;34m\u001b[0m\u001b[0;34m\u001b[0m\u001b[0m\n\u001b[1;32m   1853\u001b[0m       return self._build_call_outputs(self._inference_function.call(\n\u001b[0;32m-> 1854\u001b[0;31m           ctx, args, cancellation_manager=cancellation_manager))\n\u001b[0m\u001b[1;32m   1855\u001b[0m     forward_backward = self._select_forward_and_backward_functions(\n\u001b[1;32m   1856\u001b[0m         \u001b[0margs\u001b[0m\u001b[0;34m,\u001b[0m\u001b[0;34m\u001b[0m\u001b[0m\n",
      "\u001b[0;32m/Library/Frameworks/Python.framework/Versions/3.7/lib/python3.7/site-packages/tensorflow/python/eager/function.py\u001b[0m in \u001b[0;36mcall\u001b[0;34m(self, ctx, args, cancellation_manager)\u001b[0m\n\u001b[1;32m    502\u001b[0m               \u001b[0minputs\u001b[0m\u001b[0;34m=\u001b[0m\u001b[0margs\u001b[0m\u001b[0;34m,\u001b[0m\u001b[0;34m\u001b[0m\u001b[0m\n\u001b[1;32m    503\u001b[0m               \u001b[0mattrs\u001b[0m\u001b[0;34m=\u001b[0m\u001b[0mattrs\u001b[0m\u001b[0;34m,\u001b[0m\u001b[0;34m\u001b[0m\u001b[0m\n\u001b[0;32m--> 504\u001b[0;31m               ctx=ctx)\n\u001b[0m\u001b[1;32m    505\u001b[0m         \u001b[0;32melse\u001b[0m\u001b[0;34m:\u001b[0m\u001b[0;34m\u001b[0m\u001b[0m\n\u001b[1;32m    506\u001b[0m           outputs = execute.execute_with_cancellation(\n",
      "\u001b[0;32m/Library/Frameworks/Python.framework/Versions/3.7/lib/python3.7/site-packages/tensorflow/python/eager/execute.py\u001b[0m in \u001b[0;36mquick_execute\u001b[0;34m(op_name, num_outputs, inputs, attrs, ctx, name)\u001b[0m\n\u001b[1;32m     53\u001b[0m     \u001b[0mctx\u001b[0m\u001b[0;34m.\u001b[0m\u001b[0mensure_initialized\u001b[0m\u001b[0;34m(\u001b[0m\u001b[0;34m)\u001b[0m\u001b[0;34m\u001b[0m\u001b[0m\n\u001b[1;32m     54\u001b[0m     tensors = pywrap_tfe.TFE_Py_Execute(ctx._handle, device_name, op_name,\n\u001b[0;32m---> 55\u001b[0;31m                                         inputs, attrs, num_outputs)\n\u001b[0m\u001b[1;32m     56\u001b[0m   \u001b[0;32mexcept\u001b[0m \u001b[0mcore\u001b[0m\u001b[0;34m.\u001b[0m\u001b[0m_NotOkStatusException\u001b[0m \u001b[0;32mas\u001b[0m \u001b[0me\u001b[0m\u001b[0;34m:\u001b[0m\u001b[0;34m\u001b[0m\u001b[0m\n\u001b[1;32m     57\u001b[0m     \u001b[0;32mif\u001b[0m \u001b[0mname\u001b[0m \u001b[0;32mis\u001b[0m \u001b[0;32mnot\u001b[0m \u001b[0;32mNone\u001b[0m\u001b[0;34m:\u001b[0m\u001b[0;34m\u001b[0m\u001b[0m\n",
      "\u001b[0;31mKeyboardInterrupt\u001b[0m: "
     ]
    }
   ],
   "source": [
    "tunerFourLayers.search(btc_train[0] , btc_train[1] , epochs=300 , validation_data=btc_val , batch_size = 512, callbacks=[tf.keras.callbacks.EarlyStopping('val_loss', patience=30)])\n"
   ]
  },
  {
   "cell_type": "code",
   "execution_count": 247,
   "id": "e22a0324",
   "metadata": {},
   "outputs": [],
   "source": [
    "def createModelThreeLayers(hp):\n",
    "    \n",
    "    num_layers = 3\n",
    "    \n",
    "    hp_dilation_rate = hp.Choice('dilation_rate', values = [2] ) \n",
    "    hp_kernel_size = hp.Choice('kernel_size' , values = [3,4,5])\n",
    "    hp_learning_rate = hp.Choice('learning_rate' , values = [0.002 , 0.004 , 0.006 , 0.008 , 0.01])\n",
    "    #hp_dense_layer = hp.Choice('dense_layer' , values = [64 , 128 , 256])\n",
    "\n",
    "    \n",
    "    model1 = models.Sequential()\n",
    "    \n",
    "    # Casual adds padding to the start of input sequence\n",
    "    model1.add(Conv1D(filters=32, kernel_size=hp_kernel_size, activation='relu', input_shape=(window_length, features), dilation_rate=1 , padding = 'causal'))\n",
    "\n",
    "    #minus one for the base conv1d layer ^\n",
    "    for i in range (1 , num_layers):\n",
    "        \n",
    "        # For full coverage we need 4 layers \n",
    "        model1.add(Conv1D(filters=32, kernel_size=hp_kernel_size, activation='relu' , padding = 'causal', dilation_rate= 2**i))\n",
    "\n",
    "    #model1.add(Dense(hp_dense_layer, activation='relu'))\n",
    "\n",
    "    model1.add(Dense(1))\n",
    "\n",
    "    model1.summary()\n",
    "    \n",
    "    opt = Adam(learning_rate=hp_learning_rate)\n",
    "    model1.compile(optimizer=opt , loss = 'mse')\n",
    "    \n",
    "    return model1\n",
    "    \n",
    "    "
   ]
  },
  {
   "cell_type": "code",
   "execution_count": 248,
   "id": "40cda79f",
   "metadata": {},
   "outputs": [
    {
     "name": "stdout",
     "output_type": "stream",
     "text": [
      "Model: \"sequential_1\"\n",
      "_________________________________________________________________\n",
      " Layer (type)                Output Shape              Param #   \n",
      "=================================================================\n",
      " conv1d_3 (Conv1D)           (None, 24, 32)            128       \n",
      "                                                                 \n",
      " conv1d_4 (Conv1D)           (None, 24, 32)            3104      \n",
      "                                                                 \n",
      " conv1d_5 (Conv1D)           (None, 24, 32)            3104      \n",
      "                                                                 \n",
      " dense_1 (Dense)             (None, 24, 1)             33        \n",
      "                                                                 \n",
      "=================================================================\n",
      "Total params: 6,369\n",
      "Trainable params: 6,369\n",
      "Non-trainable params: 0\n",
      "_________________________________________________________________\n"
     ]
    }
   ],
   "source": [
    "tunerThreeLayers = RandomSearch (\n",
    "    createModelThreeLayers,\n",
    "    objective = \"val_loss\",\n",
    "    max_trials=50,\n",
    "    executions_per_trial=1,\n",
    "    directory = 'tcn',\n",
    "    project_name='tcn_three_layers'\n",
    ")"
   ]
  },
  {
   "cell_type": "code",
   "execution_count": null,
   "id": "69bdf211",
   "metadata": {},
   "outputs": [
    {
     "name": "stdout",
     "output_type": "stream",
     "text": [
      "Trial 5 Complete [00h 02m 03s]\n",
      "val_loss: 0.0067231738939881325\n",
      "\n",
      "Best val_loss So Far: 0.0062348488718271255\n",
      "Total elapsed time: 00h 09m 30s\n",
      "\n",
      "Search: Running Trial #6\n",
      "\n",
      "Hyperparameter    |Value             |Best Value So Far \n",
      "dilation_rate     |2                 |2                 \n",
      "kernel_size       |3                 |4                 \n",
      "learning_rate     |0.006             |0.004             \n",
      "\n",
      "Model: \"sequential\"\n",
      "_________________________________________________________________\n",
      " Layer (type)                Output Shape              Param #   \n",
      "=================================================================\n",
      " conv1d (Conv1D)             (None, 24, 32)            128       \n",
      "                                                                 \n",
      " conv1d_1 (Conv1D)           (None, 24, 32)            3104      \n",
      "                                                                 \n",
      " conv1d_2 (Conv1D)           (None, 24, 32)            3104      \n",
      "                                                                 \n",
      " dense (Dense)               (None, 24, 1)             33        \n",
      "                                                                 \n",
      "=================================================================\n",
      "Total params: 6,369\n",
      "Trainable params: 6,369\n",
      "Non-trainable params: 0\n",
      "_________________________________________________________________\n",
      "Epoch 1/300\n",
      "54/54 [==============================] - 2s 23ms/step - loss: 0.0095 - val_loss: 0.0077\n",
      "Epoch 2/300\n",
      "54/54 [==============================] - 1s 21ms/step - loss: 3.7194e-04 - val_loss: 0.0080\n",
      "Epoch 3/300\n",
      "54/54 [==============================] - 1s 25ms/step - loss: 3.3952e-04 - val_loss: 0.0086\n",
      "Epoch 4/300\n",
      "54/54 [==============================] - 1s 22ms/step - loss: 3.3094e-04 - val_loss: 0.0096\n",
      "Epoch 5/300\n",
      "54/54 [==============================] - 1s 21ms/step - loss: 3.2777e-04 - val_loss: 0.0093\n",
      "Epoch 6/300\n",
      "54/54 [==============================] - 1s 24ms/step - loss: 3.3373e-04 - val_loss: 0.0097\n",
      "Epoch 7/300\n",
      "54/54 [==============================] - 1s 23ms/step - loss: 3.3633e-04 - val_loss: 0.0107\n",
      "Epoch 8/300\n",
      "54/54 [==============================] - 1s 22ms/step - loss: 3.2095e-04 - val_loss: 0.0092\n",
      "Epoch 9/300\n",
      "54/54 [==============================] - 1s 22ms/step - loss: 3.3613e-04 - val_loss: 0.0090\n",
      "Epoch 10/300\n",
      "49/54 [==========================>...] - ETA: 0s - loss: 3.1476e-04"
     ]
    }
   ],
   "source": [
    "tunerThreeLayers.search(btc_train[0] , btc_train[1] , epochs=300 , validation_data=btc_val , batch_size = 512 , callbacks=[tf.keras.callbacks.EarlyStopping('val_loss', patience=30)])\n"
   ]
  },
  {
   "cell_type": "code",
   "execution_count": 102,
   "id": "945e8820",
   "metadata": {},
   "outputs": [
    {
     "name": "stdout",
     "output_type": "stream",
     "text": [
      "Epoch 1/30\n",
      "54/54 [==============================] - 3s 47ms/step - loss: 0.0251 - val_loss: 0.2865\n",
      "Epoch 2/30\n",
      "54/54 [==============================] - 2s 41ms/step - loss: 0.0011 - val_loss: 0.0555\n",
      "Epoch 3/30\n",
      "54/54 [==============================] - 2s 41ms/step - loss: 3.7039e-04 - val_loss: 0.0310\n",
      "Epoch 4/30\n",
      "54/54 [==============================] - 2s 42ms/step - loss: 3.2776e-04 - val_loss: 0.0276\n",
      "Epoch 5/30\n",
      "54/54 [==============================] - 2s 42ms/step - loss: 3.2388e-04 - val_loss: 0.0206\n",
      "Epoch 6/30\n",
      "54/54 [==============================] - 2s 44ms/step - loss: 3.1610e-04 - val_loss: 0.0197\n",
      "Epoch 7/30\n",
      "54/54 [==============================] - 2s 42ms/step - loss: 3.0893e-04 - val_loss: 0.0194\n",
      "Epoch 8/30\n",
      "54/54 [==============================] - 2s 41ms/step - loss: 3.0680e-04 - val_loss: 0.0202\n",
      "Epoch 9/30\n",
      "54/54 [==============================] - 2s 44ms/step - loss: 2.9869e-04 - val_loss: 0.0190\n",
      "Epoch 10/30\n",
      "54/54 [==============================] - 2s 42ms/step - loss: 2.9899e-04 - val_loss: 0.0205\n",
      "Epoch 11/30\n",
      "54/54 [==============================] - 2s 43ms/step - loss: 2.9642e-04 - val_loss: 0.0190\n",
      "Epoch 12/30\n",
      "54/54 [==============================] - 2s 42ms/step - loss: 2.9700e-04 - val_loss: 0.0205\n",
      "Epoch 13/30\n",
      "54/54 [==============================] - 2s 42ms/step - loss: 2.9841e-04 - val_loss: 0.0181\n",
      "Epoch 14/30\n",
      "54/54 [==============================] - 2s 43ms/step - loss: 3.0453e-04 - val_loss: 0.0182\n",
      "Epoch 15/30\n",
      "54/54 [==============================] - 2s 42ms/step - loss: 2.9286e-04 - val_loss: 0.0160\n",
      "Epoch 16/30\n",
      "54/54 [==============================] - 2s 42ms/step - loss: 2.8869e-04 - val_loss: 0.0153\n",
      "Epoch 17/30\n",
      "54/54 [==============================] - 2s 43ms/step - loss: 2.9881e-04 - val_loss: 0.0169\n",
      "Epoch 18/30\n",
      "54/54 [==============================] - 2s 45ms/step - loss: 3.1348e-04 - val_loss: 0.0159\n",
      "Epoch 19/30\n",
      "54/54 [==============================] - 2s 45ms/step - loss: 3.0576e-04 - val_loss: 0.0182\n",
      "Epoch 20/30\n",
      "54/54 [==============================] - 2s 42ms/step - loss: 2.9586e-04 - val_loss: 0.0206\n",
      "Epoch 21/30\n",
      "54/54 [==============================] - 2s 43ms/step - loss: 2.9489e-04 - val_loss: 0.0179\n",
      "Epoch 22/30\n",
      "54/54 [==============================] - 2s 45ms/step - loss: 2.9335e-04 - val_loss: 0.0219\n",
      "Epoch 23/30\n",
      "54/54 [==============================] - 2s 42ms/step - loss: 3.0054e-04 - val_loss: 0.0171\n",
      "Epoch 24/30\n",
      "54/54 [==============================] - 3s 46ms/step - loss: 2.8919e-04 - val_loss: 0.0152\n",
      "Epoch 25/30\n",
      "54/54 [==============================] - 3s 50ms/step - loss: 3.0936e-04 - val_loss: 0.0146\n",
      "Epoch 26/30\n",
      "54/54 [==============================] - 3s 50ms/step - loss: 3.0158e-04 - val_loss: 0.0152\n",
      "Epoch 27/30\n",
      "54/54 [==============================] - 3s 47ms/step - loss: 2.9473e-04 - val_loss: 0.0157\n",
      "Epoch 28/30\n",
      " 7/54 [==>...........................] - ETA: 2s - loss: 3.1344e-04"
     ]
    },
    {
     "ename": "KeyboardInterrupt",
     "evalue": "",
     "output_type": "error",
     "traceback": [
      "\u001b[0;31m---------------------------------------------------------------------------\u001b[0m",
      "\u001b[0;31mKeyboardInterrupt\u001b[0m                         Traceback (most recent call last)",
      "\u001b[0;32m/var/folders/cv/9wyhthmx21d7ylr5zx17lfmr0000gn/T/ipykernel_69479/3750286152.py\u001b[0m in \u001b[0;36m<module>\u001b[0;34m\u001b[0m\n\u001b[0;32m----> 1\u001b[0;31m \u001b[0mhistory\u001b[0m \u001b[0;34m=\u001b[0m \u001b[0mmodel1\u001b[0m\u001b[0;34m.\u001b[0m\u001b[0mfit\u001b[0m\u001b[0;34m(\u001b[0m\u001b[0mbtc_train\u001b[0m\u001b[0;34m[\u001b[0m\u001b[0;36m0\u001b[0m\u001b[0;34m]\u001b[0m \u001b[0;34m,\u001b[0m \u001b[0mbtc_train\u001b[0m\u001b[0;34m[\u001b[0m\u001b[0;36m1\u001b[0m\u001b[0;34m]\u001b[0m \u001b[0;34m,\u001b[0m \u001b[0mvalidation_data\u001b[0m \u001b[0;34m=\u001b[0m \u001b[0mbtc_val\u001b[0m  \u001b[0;34m,\u001b[0m \u001b[0mbatch_size\u001b[0m \u001b[0;34m=\u001b[0m \u001b[0;36m512\u001b[0m  \u001b[0;34m,\u001b[0m \u001b[0mepochs\u001b[0m \u001b[0;34m=\u001b[0m\u001b[0;36m30\u001b[0m \u001b[0;34m,\u001b[0m \u001b[0mverbose\u001b[0m \u001b[0;34m=\u001b[0m \u001b[0;36m1\u001b[0m \u001b[0;34m)\u001b[0m\u001b[0;34m\u001b[0m\u001b[0m\n\u001b[0m",
      "\u001b[0;32m/Library/Frameworks/Python.framework/Versions/3.7/lib/python3.7/site-packages/keras/utils/traceback_utils.py\u001b[0m in \u001b[0;36merror_handler\u001b[0;34m(*args, **kwargs)\u001b[0m\n\u001b[1;32m     62\u001b[0m     \u001b[0mfiltered_tb\u001b[0m \u001b[0;34m=\u001b[0m \u001b[0;32mNone\u001b[0m\u001b[0;34m\u001b[0m\u001b[0m\n\u001b[1;32m     63\u001b[0m     \u001b[0;32mtry\u001b[0m\u001b[0;34m:\u001b[0m\u001b[0;34m\u001b[0m\u001b[0m\n\u001b[0;32m---> 64\u001b[0;31m       \u001b[0;32mreturn\u001b[0m \u001b[0mfn\u001b[0m\u001b[0;34m(\u001b[0m\u001b[0;34m*\u001b[0m\u001b[0margs\u001b[0m\u001b[0;34m,\u001b[0m \u001b[0;34m**\u001b[0m\u001b[0mkwargs\u001b[0m\u001b[0;34m)\u001b[0m\u001b[0;34m\u001b[0m\u001b[0m\n\u001b[0m\u001b[1;32m     65\u001b[0m     \u001b[0;32mexcept\u001b[0m \u001b[0mException\u001b[0m \u001b[0;32mas\u001b[0m \u001b[0me\u001b[0m\u001b[0;34m:\u001b[0m  \u001b[0;31m# pylint: disable=broad-except\u001b[0m\u001b[0;34m\u001b[0m\u001b[0m\n\u001b[1;32m     66\u001b[0m       \u001b[0mfiltered_tb\u001b[0m \u001b[0;34m=\u001b[0m \u001b[0m_process_traceback_frames\u001b[0m\u001b[0;34m(\u001b[0m\u001b[0me\u001b[0m\u001b[0;34m.\u001b[0m\u001b[0m__traceback__\u001b[0m\u001b[0;34m)\u001b[0m\u001b[0;34m\u001b[0m\u001b[0m\n",
      "\u001b[0;32m/Library/Frameworks/Python.framework/Versions/3.7/lib/python3.7/site-packages/keras/engine/training.py\u001b[0m in \u001b[0;36mfit\u001b[0;34m(self, x, y, batch_size, epochs, verbose, callbacks, validation_split, validation_data, shuffle, class_weight, sample_weight, initial_epoch, steps_per_epoch, validation_steps, validation_batch_size, validation_freq, max_queue_size, workers, use_multiprocessing)\u001b[0m\n\u001b[1;32m   1382\u001b[0m                 _r=1):\n\u001b[1;32m   1383\u001b[0m               \u001b[0mcallbacks\u001b[0m\u001b[0;34m.\u001b[0m\u001b[0mon_train_batch_begin\u001b[0m\u001b[0;34m(\u001b[0m\u001b[0mstep\u001b[0m\u001b[0;34m)\u001b[0m\u001b[0;34m\u001b[0m\u001b[0m\n\u001b[0;32m-> 1384\u001b[0;31m               \u001b[0mtmp_logs\u001b[0m \u001b[0;34m=\u001b[0m \u001b[0mself\u001b[0m\u001b[0;34m.\u001b[0m\u001b[0mtrain_function\u001b[0m\u001b[0;34m(\u001b[0m\u001b[0miterator\u001b[0m\u001b[0;34m)\u001b[0m\u001b[0;34m\u001b[0m\u001b[0m\n\u001b[0m\u001b[1;32m   1385\u001b[0m               \u001b[0;32mif\u001b[0m \u001b[0mdata_handler\u001b[0m\u001b[0;34m.\u001b[0m\u001b[0mshould_sync\u001b[0m\u001b[0;34m:\u001b[0m\u001b[0;34m\u001b[0m\u001b[0m\n\u001b[1;32m   1386\u001b[0m                 \u001b[0mcontext\u001b[0m\u001b[0;34m.\u001b[0m\u001b[0masync_wait\u001b[0m\u001b[0;34m(\u001b[0m\u001b[0;34m)\u001b[0m\u001b[0;34m\u001b[0m\u001b[0m\n",
      "\u001b[0;32m/Library/Frameworks/Python.framework/Versions/3.7/lib/python3.7/site-packages/tensorflow/python/util/traceback_utils.py\u001b[0m in \u001b[0;36merror_handler\u001b[0;34m(*args, **kwargs)\u001b[0m\n\u001b[1;32m    148\u001b[0m     \u001b[0mfiltered_tb\u001b[0m \u001b[0;34m=\u001b[0m \u001b[0;32mNone\u001b[0m\u001b[0;34m\u001b[0m\u001b[0m\n\u001b[1;32m    149\u001b[0m     \u001b[0;32mtry\u001b[0m\u001b[0;34m:\u001b[0m\u001b[0;34m\u001b[0m\u001b[0m\n\u001b[0;32m--> 150\u001b[0;31m       \u001b[0;32mreturn\u001b[0m \u001b[0mfn\u001b[0m\u001b[0;34m(\u001b[0m\u001b[0;34m*\u001b[0m\u001b[0margs\u001b[0m\u001b[0;34m,\u001b[0m \u001b[0;34m**\u001b[0m\u001b[0mkwargs\u001b[0m\u001b[0;34m)\u001b[0m\u001b[0;34m\u001b[0m\u001b[0m\n\u001b[0m\u001b[1;32m    151\u001b[0m     \u001b[0;32mexcept\u001b[0m \u001b[0mException\u001b[0m \u001b[0;32mas\u001b[0m \u001b[0me\u001b[0m\u001b[0;34m:\u001b[0m\u001b[0;34m\u001b[0m\u001b[0m\n\u001b[1;32m    152\u001b[0m       \u001b[0mfiltered_tb\u001b[0m \u001b[0;34m=\u001b[0m \u001b[0m_process_traceback_frames\u001b[0m\u001b[0;34m(\u001b[0m\u001b[0me\u001b[0m\u001b[0;34m.\u001b[0m\u001b[0m__traceback__\u001b[0m\u001b[0;34m)\u001b[0m\u001b[0;34m\u001b[0m\u001b[0m\n",
      "\u001b[0;32m/Library/Frameworks/Python.framework/Versions/3.7/lib/python3.7/site-packages/tensorflow/python/eager/def_function.py\u001b[0m in \u001b[0;36m__call__\u001b[0;34m(self, *args, **kwds)\u001b[0m\n\u001b[1;32m    913\u001b[0m \u001b[0;34m\u001b[0m\u001b[0m\n\u001b[1;32m    914\u001b[0m       \u001b[0;32mwith\u001b[0m \u001b[0mOptionalXlaContext\u001b[0m\u001b[0;34m(\u001b[0m\u001b[0mself\u001b[0m\u001b[0;34m.\u001b[0m\u001b[0m_jit_compile\u001b[0m\u001b[0;34m)\u001b[0m\u001b[0;34m:\u001b[0m\u001b[0;34m\u001b[0m\u001b[0m\n\u001b[0;32m--> 915\u001b[0;31m         \u001b[0mresult\u001b[0m \u001b[0;34m=\u001b[0m \u001b[0mself\u001b[0m\u001b[0;34m.\u001b[0m\u001b[0m_call\u001b[0m\u001b[0;34m(\u001b[0m\u001b[0;34m*\u001b[0m\u001b[0margs\u001b[0m\u001b[0;34m,\u001b[0m \u001b[0;34m**\u001b[0m\u001b[0mkwds\u001b[0m\u001b[0;34m)\u001b[0m\u001b[0;34m\u001b[0m\u001b[0m\n\u001b[0m\u001b[1;32m    916\u001b[0m \u001b[0;34m\u001b[0m\u001b[0m\n\u001b[1;32m    917\u001b[0m       \u001b[0mnew_tracing_count\u001b[0m \u001b[0;34m=\u001b[0m \u001b[0mself\u001b[0m\u001b[0;34m.\u001b[0m\u001b[0mexperimental_get_tracing_count\u001b[0m\u001b[0;34m(\u001b[0m\u001b[0;34m)\u001b[0m\u001b[0;34m\u001b[0m\u001b[0m\n",
      "\u001b[0;32m/Library/Frameworks/Python.framework/Versions/3.7/lib/python3.7/site-packages/tensorflow/python/eager/def_function.py\u001b[0m in \u001b[0;36m_call\u001b[0;34m(self, *args, **kwds)\u001b[0m\n\u001b[1;32m    945\u001b[0m       \u001b[0;31m# In this case we have created variables on the first call, so we run the\u001b[0m\u001b[0;34m\u001b[0m\u001b[0;34m\u001b[0m\u001b[0m\n\u001b[1;32m    946\u001b[0m       \u001b[0;31m# defunned version which is guaranteed to never create variables.\u001b[0m\u001b[0;34m\u001b[0m\u001b[0;34m\u001b[0m\u001b[0m\n\u001b[0;32m--> 947\u001b[0;31m       \u001b[0;32mreturn\u001b[0m \u001b[0mself\u001b[0m\u001b[0;34m.\u001b[0m\u001b[0m_stateless_fn\u001b[0m\u001b[0;34m(\u001b[0m\u001b[0;34m*\u001b[0m\u001b[0margs\u001b[0m\u001b[0;34m,\u001b[0m \u001b[0;34m**\u001b[0m\u001b[0mkwds\u001b[0m\u001b[0;34m)\u001b[0m  \u001b[0;31m# pylint: disable=not-callable\u001b[0m\u001b[0;34m\u001b[0m\u001b[0m\n\u001b[0m\u001b[1;32m    948\u001b[0m     \u001b[0;32melif\u001b[0m \u001b[0mself\u001b[0m\u001b[0;34m.\u001b[0m\u001b[0m_stateful_fn\u001b[0m \u001b[0;32mis\u001b[0m \u001b[0;32mnot\u001b[0m \u001b[0;32mNone\u001b[0m\u001b[0;34m:\u001b[0m\u001b[0;34m\u001b[0m\u001b[0m\n\u001b[1;32m    949\u001b[0m       \u001b[0;31m# Release the lock early so that multiple threads can perform the call\u001b[0m\u001b[0;34m\u001b[0m\u001b[0;34m\u001b[0m\u001b[0m\n",
      "\u001b[0;32m/Library/Frameworks/Python.framework/Versions/3.7/lib/python3.7/site-packages/tensorflow/python/eager/function.py\u001b[0m in \u001b[0;36m__call__\u001b[0;34m(self, *args, **kwargs)\u001b[0m\n\u001b[1;32m   2955\u001b[0m        filtered_flat_args) = self._maybe_define_function(args, kwargs)\n\u001b[1;32m   2956\u001b[0m     return graph_function._call_flat(\n\u001b[0;32m-> 2957\u001b[0;31m         filtered_flat_args, captured_inputs=graph_function.captured_inputs)  # pylint: disable=protected-access\n\u001b[0m\u001b[1;32m   2958\u001b[0m \u001b[0;34m\u001b[0m\u001b[0m\n\u001b[1;32m   2959\u001b[0m   \u001b[0;34m@\u001b[0m\u001b[0mproperty\u001b[0m\u001b[0;34m\u001b[0m\u001b[0m\n",
      "\u001b[0;32m/Library/Frameworks/Python.framework/Versions/3.7/lib/python3.7/site-packages/tensorflow/python/eager/function.py\u001b[0m in \u001b[0;36m_call_flat\u001b[0;34m(self, args, captured_inputs, cancellation_manager)\u001b[0m\n\u001b[1;32m   1852\u001b[0m       \u001b[0;31m# No tape is watching; skip to running the function.\u001b[0m\u001b[0;34m\u001b[0m\u001b[0;34m\u001b[0m\u001b[0m\n\u001b[1;32m   1853\u001b[0m       return self._build_call_outputs(self._inference_function.call(\n\u001b[0;32m-> 1854\u001b[0;31m           ctx, args, cancellation_manager=cancellation_manager))\n\u001b[0m\u001b[1;32m   1855\u001b[0m     forward_backward = self._select_forward_and_backward_functions(\n\u001b[1;32m   1856\u001b[0m         \u001b[0margs\u001b[0m\u001b[0;34m,\u001b[0m\u001b[0;34m\u001b[0m\u001b[0m\n",
      "\u001b[0;32m/Library/Frameworks/Python.framework/Versions/3.7/lib/python3.7/site-packages/tensorflow/python/eager/function.py\u001b[0m in \u001b[0;36mcall\u001b[0;34m(self, ctx, args, cancellation_manager)\u001b[0m\n\u001b[1;32m    502\u001b[0m               \u001b[0minputs\u001b[0m\u001b[0;34m=\u001b[0m\u001b[0margs\u001b[0m\u001b[0;34m,\u001b[0m\u001b[0;34m\u001b[0m\u001b[0m\n\u001b[1;32m    503\u001b[0m               \u001b[0mattrs\u001b[0m\u001b[0;34m=\u001b[0m\u001b[0mattrs\u001b[0m\u001b[0;34m,\u001b[0m\u001b[0;34m\u001b[0m\u001b[0m\n\u001b[0;32m--> 504\u001b[0;31m               ctx=ctx)\n\u001b[0m\u001b[1;32m    505\u001b[0m         \u001b[0;32melse\u001b[0m\u001b[0;34m:\u001b[0m\u001b[0;34m\u001b[0m\u001b[0m\n\u001b[1;32m    506\u001b[0m           outputs = execute.execute_with_cancellation(\n",
      "\u001b[0;32m/Library/Frameworks/Python.framework/Versions/3.7/lib/python3.7/site-packages/tensorflow/python/eager/execute.py\u001b[0m in \u001b[0;36mquick_execute\u001b[0;34m(op_name, num_outputs, inputs, attrs, ctx, name)\u001b[0m\n\u001b[1;32m     53\u001b[0m     \u001b[0mctx\u001b[0m\u001b[0;34m.\u001b[0m\u001b[0mensure_initialized\u001b[0m\u001b[0;34m(\u001b[0m\u001b[0;34m)\u001b[0m\u001b[0;34m\u001b[0m\u001b[0m\n\u001b[1;32m     54\u001b[0m     tensors = pywrap_tfe.TFE_Py_Execute(ctx._handle, device_name, op_name,\n\u001b[0;32m---> 55\u001b[0;31m                                         inputs, attrs, num_outputs)\n\u001b[0m\u001b[1;32m     56\u001b[0m   \u001b[0;32mexcept\u001b[0m \u001b[0mcore\u001b[0m\u001b[0;34m.\u001b[0m\u001b[0m_NotOkStatusException\u001b[0m \u001b[0;32mas\u001b[0m \u001b[0me\u001b[0m\u001b[0;34m:\u001b[0m\u001b[0;34m\u001b[0m\u001b[0m\n\u001b[1;32m     57\u001b[0m     \u001b[0;32mif\u001b[0m \u001b[0mname\u001b[0m \u001b[0;32mis\u001b[0m \u001b[0;32mnot\u001b[0m \u001b[0;32mNone\u001b[0m\u001b[0;34m:\u001b[0m\u001b[0;34m\u001b[0m\u001b[0m\n",
      "\u001b[0;31mKeyboardInterrupt\u001b[0m: "
     ]
    }
   ],
   "source": [
    "history = model1.fit(btc_train[0] , btc_train[1] , validation_data = btc_val  , batch_size = 512  , epochs =30 , verbose = 1 ,callbacks=[tf.keras.callbacks.EarlyStopping('val_loss', patience=30)])\n",
    "\n"
   ]
  },
  {
   "cell_type": "code",
   "execution_count": 85,
   "id": "0f00e6b3",
   "metadata": {},
   "outputs": [
    {
     "data": {
      "image/png": "[encoded data removed]",
      "text/plain": [
       "<Figure size 432x288 with 1 Axes>"
      ]
     },
     "metadata": {
      "needs_background": "light"
     },
     "output_type": "display_data"
    }
   ],
   "source": [
    "plt.plot(history.history['loss'])\n",
    "plt.plot(history.history['val_loss'])\n",
    "plt.title('model loss')\n",
    "plt.ylabel('loss')\n",
    "plt.xlabel('epoch')\n",
    "plt.legend(['train', 'val'], loc='upper left')\n",
    "#plt.ylim([0,0.01])\n",
    "plt.show()"
   ]
  },
  {
   "cell_type": "code",
   "execution_count": null,
   "id": "a5ef8181",
   "metadata": {},
   "outputs": [],
   "source": []
  }
 ],
 "metadata": {
  "kernelspec": {
   "display_name": "Python 3 (ipykernel)",
   "language": "python",
   "name": "python3"
  },
  "language_info": {
   "codemirror_mode": {
    "name": "ipython",
    "version": 3
   },
   "file_extension": ".py",
   "mimetype": "text/x-python",
   "name": "python",
   "nbconvert_exporter": "python",
   "pygments_lexer": "ipython3",
   "version": "3.7.0"
  }
 },
 "nbformat": 4,
 "nbformat_minor": 5
}
