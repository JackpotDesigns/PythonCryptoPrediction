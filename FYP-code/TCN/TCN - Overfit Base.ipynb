{
 "cells": [
  {
   "cell_type": "markdown",
   "id": "ac622ed7",
   "metadata": {},
   "source": [
    "<Strong> Develop a TCN model that overfits , then do some regularization , then do some tuning. </Strong>"
   ]
  },
  {
   "cell_type": "code",
   "execution_count": 55,
   "id": "44717bd9",
   "metadata": {},
   "outputs": [],
   "source": [
    "import pandas as pd\n",
    "import numpy as np\n",
    "import tensorflow as tf\n",
    "from tensorflow.keras.optimizers import Adam\n",
    "from keras_tuner.tuners import RandomSearch\n",
    "from IPython.display import display, Image\n",
    "from tensorflow import keras\n",
    "from tensorflow.keras.utils import plot_model\n",
    "from matplotlib import pyplot as plt\n",
    "from tensorflow.keras.models import Sequential \n",
    "from tensorflow.keras import layers\n",
    "from tensorflow.keras.optimizers import RMSprop\n",
    "import os\n",
    "from sklearn.preprocessing import MinMaxScaler\n",
    "from sklearn.metrics import mean_squared_error , mean_absolute_error , mean_absolute_percentage_error\n",
    "from tensorflow.keras.preprocessing.sequence import TimeseriesGenerator\n",
    "from tensorflow.keras.layers import LSTM , Dense , Dropout , GRU , Concatenate , Flatten , Input , Conv1D , InputLayer , MaxPooling1D\n",
    "from tensorflow.keras import models\n",
    "from tensorflow.keras.callbacks import EarlyStopping\n",
    "import math"
   ]
  },
  {
   "cell_type": "code",
   "execution_count": 56,
   "id": "1f7bdf7b",
   "metadata": {},
   "outputs": [],
   "source": [
    "df_btc = pd.read_csv(\"BTC_1h_data.csv\")"
   ]
  },
  {
   "cell_type": "markdown",
   "id": "b04a0817",
   "metadata": {},
   "source": [
    "<Strong> Grabbing the closing price (univariate) </Strong>"
   ]
  },
  {
   "cell_type": "code",
   "execution_count": 57,
   "id": "bf871789",
   "metadata": {},
   "outputs": [],
   "source": [
    "btc_data = df_btc.values[:, 4 ,].astype(float)"
   ]
  },
  {
   "cell_type": "code",
   "execution_count": 58,
   "id": "54bba421",
   "metadata": {},
   "outputs": [
    {
     "data": {
      "text/html": [
       "<div>\n",
       "<style scoped>\n",
       "    .dataframe tbody tr th:only-of-type {\n",
       "        vertical-align: middle;\n",
       "    }\n",
       "\n",
       "    .dataframe tbody tr th {\n",
       "        vertical-align: top;\n",
       "    }\n",
       "\n",
       "    .dataframe thead th {\n",
       "        text-align: right;\n",
       "    }\n",
       "</style>\n",
       "<table border=\"1\" class=\"dataframe\">\n",
       "  <thead>\n",
       "    <tr style=\"text-align: right;\">\n",
       "      <th></th>\n",
       "      <th>date</th>\n",
       "      <th>open</th>\n",
       "      <th>high</th>\n",
       "      <th>low</th>\n",
       "      <th>close</th>\n",
       "      <th>volume</th>\n",
       "    </tr>\n",
       "  </thead>\n",
       "  <tbody>\n",
       "    <tr>\n",
       "      <th>0</th>\n",
       "      <td>2017-08-17 04:00:00.000</td>\n",
       "      <td>4261.48</td>\n",
       "      <td>4313.62</td>\n",
       "      <td>4261.32</td>\n",
       "      <td>4308.83</td>\n",
       "      <td>47.181009</td>\n",
       "    </tr>\n",
       "    <tr>\n",
       "      <th>1</th>\n",
       "      <td>2017-08-17 05:00:00.000</td>\n",
       "      <td>4308.83</td>\n",
       "      <td>4328.69</td>\n",
       "      <td>4291.37</td>\n",
       "      <td>4315.32</td>\n",
       "      <td>23.234916</td>\n",
       "    </tr>\n",
       "    <tr>\n",
       "      <th>2</th>\n",
       "      <td>2017-08-17 06:00:00.000</td>\n",
       "      <td>4330.29</td>\n",
       "      <td>4345.45</td>\n",
       "      <td>4309.37</td>\n",
       "      <td>4324.35</td>\n",
       "      <td>7.229691</td>\n",
       "    </tr>\n",
       "    <tr>\n",
       "      <th>3</th>\n",
       "      <td>2017-08-17 07:00:00.000</td>\n",
       "      <td>4316.62</td>\n",
       "      <td>4349.99</td>\n",
       "      <td>4287.41</td>\n",
       "      <td>4349.99</td>\n",
       "      <td>4.443249</td>\n",
       "    </tr>\n",
       "    <tr>\n",
       "      <th>4</th>\n",
       "      <td>2017-08-17 08:00:00.000</td>\n",
       "      <td>4333.32</td>\n",
       "      <td>4377.85</td>\n",
       "      <td>4333.32</td>\n",
       "      <td>4360.69</td>\n",
       "      <td>0.972807</td>\n",
       "    </tr>\n",
       "    <tr>\n",
       "      <th>...</th>\n",
       "      <td>...</td>\n",
       "      <td>...</td>\n",
       "      <td>...</td>\n",
       "      <td>...</td>\n",
       "      <td>...</td>\n",
       "      <td>...</td>\n",
       "    </tr>\n",
       "    <tr>\n",
       "      <th>39216</th>\n",
       "      <td>2022-02-11 10:00:00</td>\n",
       "      <td>43492.63</td>\n",
       "      <td>43569.67</td>\n",
       "      <td>43233.67</td>\n",
       "      <td>43443.77</td>\n",
       "      <td>1305.626920</td>\n",
       "    </tr>\n",
       "    <tr>\n",
       "      <th>39217</th>\n",
       "      <td>2022-02-11 11:00:00</td>\n",
       "      <td>43443.78</td>\n",
       "      <td>43523.42</td>\n",
       "      <td>43320.00</td>\n",
       "      <td>43357.53</td>\n",
       "      <td>744.524180</td>\n",
       "    </tr>\n",
       "    <tr>\n",
       "      <th>39218</th>\n",
       "      <td>2022-02-11 12:00:00</td>\n",
       "      <td>43357.53</td>\n",
       "      <td>43700.78</td>\n",
       "      <td>43253.31</td>\n",
       "      <td>43570.77</td>\n",
       "      <td>1317.546940</td>\n",
       "    </tr>\n",
       "    <tr>\n",
       "      <th>39219</th>\n",
       "      <td>2022-02-11 13:00:00</td>\n",
       "      <td>43570.77</td>\n",
       "      <td>43826.00</td>\n",
       "      <td>43503.01</td>\n",
       "      <td>43765.14</td>\n",
       "      <td>1564.251800</td>\n",
       "    </tr>\n",
       "    <tr>\n",
       "      <th>39220</th>\n",
       "      <td>2022-02-11 14:00:00</td>\n",
       "      <td>43765.15</td>\n",
       "      <td>43814.17</td>\n",
       "      <td>43450.01</td>\n",
       "      <td>43534.54</td>\n",
       "      <td>880.790640</td>\n",
       "    </tr>\n",
       "  </tbody>\n",
       "</table>\n",
       "<p>39221 rows × 6 columns</p>\n",
       "</div>"
      ],
      "text/plain": [
       "                          date      open      high       low     close  \\\n",
       "0      2017-08-17 04:00:00.000   4261.48   4313.62   4261.32   4308.83   \n",
       "1      2017-08-17 05:00:00.000   4308.83   4328.69   4291.37   4315.32   \n",
       "2      2017-08-17 06:00:00.000   4330.29   4345.45   4309.37   4324.35   \n",
       "3      2017-08-17 07:00:00.000   4316.62   4349.99   4287.41   4349.99   \n",
       "4      2017-08-17 08:00:00.000   4333.32   4377.85   4333.32   4360.69   \n",
       "...                        ...       ...       ...       ...       ...   \n",
       "39216      2022-02-11 10:00:00  43492.63  43569.67  43233.67  43443.77   \n",
       "39217      2022-02-11 11:00:00  43443.78  43523.42  43320.00  43357.53   \n",
       "39218      2022-02-11 12:00:00  43357.53  43700.78  43253.31  43570.77   \n",
       "39219      2022-02-11 13:00:00  43570.77  43826.00  43503.01  43765.14   \n",
       "39220      2022-02-11 14:00:00  43765.15  43814.17  43450.01  43534.54   \n",
       "\n",
       "            volume  \n",
       "0        47.181009  \n",
       "1        23.234916  \n",
       "2         7.229691  \n",
       "3         4.443249  \n",
       "4         0.972807  \n",
       "...            ...  \n",
       "39216  1305.626920  \n",
       "39217   744.524180  \n",
       "39218  1317.546940  \n",
       "39219  1564.251800  \n",
       "39220   880.790640  \n",
       "\n",
       "[39221 rows x 6 columns]"
      ]
     },
     "execution_count": 58,
     "metadata": {},
     "output_type": "execute_result"
    }
   ],
   "source": [
    "df_btc"
   ]
  },
  {
   "cell_type": "markdown",
   "id": "0cd9b282",
   "metadata": {},
   "source": [
    "<Strong> Scaling the data  </Strong>"
   ]
  },
  {
   "cell_type": "code",
   "execution_count": 59,
   "id": "b5026d24",
   "metadata": {},
   "outputs": [],
   "source": [
    "percTrain = 70\n",
    "percVal = 20 "
   ]
  },
  {
   "cell_type": "code",
   "execution_count": 60,
   "id": "b14cf325",
   "metadata": {},
   "outputs": [],
   "source": [
    "scaler = MinMaxScaler()\n",
    "    \n",
    "onePercent = len(btc_data) // 100\n",
    "numberTraining = onePercent * percTrain\n",
    "\n",
    "reshaped_data = btc_data.reshape(-1,1)\n",
    "\n",
    "#Just scaling on training data otherwise it would be leakage\n",
    "scaler.fit(reshaped_data[:numberTraining])\n",
    "scaled_btc = scaler.transform(reshaped_data)"
   ]
  },
  {
   "cell_type": "markdown",
   "id": "238cb093",
   "metadata": {},
   "source": [
    "<Strong> Hyper-parameters </Strong>"
   ]
  },
  {
   "cell_type": "code",
   "execution_count": 61,
   "id": "393c0427",
   "metadata": {},
   "outputs": [],
   "source": [
    "# Hyper Parameters that are dependant on the number of layers \n",
    "\n",
    "# Dilation_rate\n",
    "# window_length \n",
    "# kernel_size\n",
    "\n",
    "# The rest of the hyper-parameter\n",
    "\n",
    "# learning_rate\n",
    "# Dense layer size\n",
    "# filters \n",
    "# batch_size\n",
    "\n",
    "window_length = 24\n",
    "dilation_rate = 2\n",
    "kernel_size = 2\n",
    "features = 1"
   ]
  },
  {
   "cell_type": "markdown",
   "id": "5850e82f",
   "metadata": {},
   "source": [
    "<Strong> Creating Matrix in Sliding window form <Strong>"
   ]
  },
  {
   "cell_type": "code",
   "execution_count": 62,
   "id": "c11d0ede",
   "metadata": {},
   "outputs": [],
   "source": [
    "def sliding_window(elements, window_size):\n",
    "    \n",
    "    data = [] \n",
    "    targets = []\n",
    "    \n",
    "    if len(elements) <= window_size:\n",
    "        return elements\n",
    "    \n",
    "    for i in range(len(elements) - window_size ):\n",
    "        \n",
    "        data.append(elements[i:i+window_size])\n",
    "        targets.append(elements[i+window_size])\n",
    "        \n",
    "    return np.array(data) , np.array(targets)\n",
    "\n",
    "sliding_winda_btc = sliding_window(scaled_btc , window_length)"
   ]
  },
  {
   "cell_type": "markdown",
   "id": "c33395fb",
   "metadata": {},
   "source": [
    "<Strong> Splitting the data into train , val , test </Strong>"
   ]
  },
  {
   "cell_type": "code",
   "execution_count": 63,
   "id": "b06e1637",
   "metadata": {},
   "outputs": [],
   "source": [
    "# Splitting the data after creating the sliding window data\n",
    "def splitting_train_test(data):\n",
    "        \n",
    "    onePercent = len(data[1]) // 100\n",
    "    \n",
    "    numberTraining = onePercent * percTrain\n",
    "    numberValidation = onePercent * percVal\n",
    "    \n",
    "    trainingData = data[0][:numberTraining] , data[1][:numberTraining]\n",
    "    validationData = data[0][numberTraining : numberTraining + numberValidation] , data[1][numberTraining : numberTraining + numberValidation]\n",
    "    testData = data[0][numberTraining + numberValidation:] , data[1][numberTraining + numberValidation:] \n",
    "    \n",
    "    #Returning tuples of (sliding-window , target_values)\n",
    "    return trainingData , validationData , testData\n",
    "\n",
    "btc_train , btc_val , btc_test = splitting_train_test(sliding_winda_btc)\n"
   ]
  },
  {
   "cell_type": "code",
   "execution_count": 72,
   "id": "adfc8b76",
   "metadata": {},
   "outputs": [
    {
     "data": {
      "text/plain": [
       "24"
      ]
     },
     "execution_count": 72,
     "metadata": {},
     "output_type": "execute_result"
    }
   ],
   "source": [
    "len(btc_train[0][1])"
   ]
  },
  {
   "cell_type": "markdown",
   "id": "29dfcce2",
   "metadata": {},
   "source": [
    "<Strong> The number of layers while changing dilation_base , kernel_size or window_size. </Strong>"
   ]
  },
  {
   "cell_type": "code",
   "execution_count": 49,
   "id": "6c1cd3e7",
   "metadata": {},
   "outputs": [
    {
     "name": "stdout",
     "output_type": "stream",
     "text": [
      "layers = 5 kernel size = 2 dilation rate = 2\n"
     ]
    },
    {
     "data": {
      "text/plain": [
       "(5, 2, 2)"
      ]
     },
     "execution_count": 49,
     "metadata": {},
     "output_type": "execute_result"
    }
   ],
   "source": [
    "def getLayers(dilation_rate , window_size , kernel_size):\n",
    "    \n",
    "    top = (dilation_rate - 1) * (window_size - 1)\n",
    "    bottom = (kernel_size - 1) \n",
    "    \n",
    "    division = (top / bottom) + 1 \n",
    "    log = math.ceil(math.log(division , dilation_rate))\n",
    "    \n",
    "    \n",
    "    # This inequality must hold true for full coverage\n",
    "    \n",
    "    first = 1 + (kernel_size - 1)\n",
    "    second = (dilation_rate ** log ) - 1\n",
    "    third = dilation_rate - 1\n",
    "    \n",
    "    inequality = (second / third) * first\n",
    "    \n",
    "    if ( (kernel_size < dilation_rate) or (inequality < window_size) ):\n",
    "        print(\"not going to have full coverage\")\n",
    "        return False\n",
    "    \n",
    "    else:\n",
    "        print(\"layers =\" , log , \"kernel size =\" , kernel_size , \"dilation rate =\" , dilation_rate )\n",
    "        return log , dilation_rate , kernel_size\n",
    "\n",
    "getLayers(2 , 24 , 2)\n"
   ]
  },
  {
   "cell_type": "code",
   "execution_count": 50,
   "id": "4d135169",
   "metadata": {},
   "outputs": [
    {
     "name": "stdout",
     "output_type": "stream",
     "text": [
      "Model: \"sequential_3\"\n",
      "_________________________________________________________________\n",
      " Layer (type)                Output Shape              Param #   \n",
      "=================================================================\n",
      " conv1d_14 (Conv1D)          (None, 24, 32)            96        \n",
      "                                                                 \n",
      " conv1d_15 (Conv1D)          (None, 24, 32)            2080      \n",
      "                                                                 \n",
      " conv1d_16 (Conv1D)          (None, 24, 64)            4160      \n",
      "                                                                 \n",
      " conv1d_17 (Conv1D)          (None, 24, 64)            8256      \n",
      "                                                                 \n",
      " conv1d_18 (Conv1D)          (None, 24, 128)           16512     \n",
      "                                                                 \n",
      " flatten_1 (Flatten)         (None, 3072)              0         \n",
      "                                                                 \n",
      " dense_2 (Dense)             (None, 64)                196672    \n",
      "                                                                 \n",
      " dense_3 (Dense)             (None, 1)                 65        \n",
      "                                                                 \n",
      "=================================================================\n",
      "Total params: 227,841\n",
      "Trainable params: 227,841\n",
      "Non-trainable params: 0\n",
      "_________________________________________________________________\n"
     ]
    }
   ],
   "source": [
    "model = models.Sequential()\n",
    "\n",
    "model.add(Conv1D(filters=32, kernel_size=2, activation='relu', input_shape=(window_length, 1), dilation_rate=1 , padding = 'causal'))\n",
    "\n",
    "model.add(Conv1D(filters=32, kernel_size=2, activation='relu' , padding = 'causal', dilation_rate=2))\n",
    "\n",
    "model.add(Conv1D(filters=64, kernel_size=2, activation='relu' , padding = 'causal' , dilation_rate=4))\n",
    "\n",
    "model.add(Conv1D(filters=64, kernel_size=2, activation='relu' , padding = 'causal', dilation_rate= 8))\n",
    "\n",
    "model.add(Conv1D(filters=128, kernel_size=2, activation='relu' , padding = 'causal', dilation_rate= 16))\n",
    "\n",
    "model.add(Flatten())\n",
    "\n",
    "model.add(Dense(64))\n",
    "\n",
    "model.add(Dense(1))\n",
    "\n",
    "model.summary()\n",
    "\n",
    "opt = Adam(0.008)\n",
    "model.compile(optimizer=opt , loss = 'mse')"
   ]
  },
  {
   "cell_type": "markdown",
   "id": "1ace5414",
   "metadata": {},
   "source": [
    "<Strong> Training the model </Strong>"
   ]
  },
  {
   "cell_type": "code",
   "execution_count": 51,
   "id": "9df51bb1",
   "metadata": {},
   "outputs": [
    {
     "name": "stdout",
     "output_type": "stream",
     "text": [
      "Epoch 1/300\n"
     ]
    },
    {
     "name": "stderr",
     "output_type": "stream",
     "text": [
      "2022-03-28 10:09:53.628966: I tensorflow/stream_executor/cuda/cuda_dnn.cc:368] Loaded cuDNN version 8200\n"
     ]
    },
    {
     "name": "stdout",
     "output_type": "stream",
     "text": [
      "54/54 [==============================] - 10s 19ms/step - loss: 0.0383 - val_loss: 0.0829\n",
      "Epoch 2/300\n",
      "54/54 [==============================] - 1s 15ms/step - loss: 2.6335e-04 - val_loss: 0.0303\n",
      "Epoch 3/300\n",
      "54/54 [==============================] - 1s 12ms/step - loss: 2.4738e-04 - val_loss: 0.0150\n",
      "Epoch 4/300\n",
      "54/54 [==============================] - 1s 10ms/step - loss: 3.2001e-04 - val_loss: 0.0043\n",
      "Epoch 5/300\n",
      "54/54 [==============================] - 1s 10ms/step - loss: 1.6602e-04 - val_loss: 0.0100\n",
      "Epoch 6/300\n",
      "54/54 [==============================] - 1s 10ms/step - loss: 3.1120e-04 - val_loss: 0.0061\n",
      "Epoch 7/300\n",
      "54/54 [==============================] - 1s 10ms/step - loss: 1.7120e-04 - val_loss: 0.0202\n",
      "Epoch 8/300\n",
      "54/54 [==============================] - 1s 9ms/step - loss: 1.5460e-04 - val_loss: 0.0169\n",
      "Epoch 9/300\n",
      "54/54 [==============================] - 1s 10ms/step - loss: 2.1639e-04 - val_loss: 0.0548\n",
      "Epoch 10/300\n",
      "54/54 [==============================] - 1s 10ms/step - loss: 3.3866e-04 - val_loss: 0.0108\n",
      "Epoch 11/300\n",
      "54/54 [==============================] - 1s 9ms/step - loss: 1.2775e-04 - val_loss: 0.0218\n",
      "Epoch 12/300\n",
      "54/54 [==============================] - 1s 9ms/step - loss: 3.1417e-04 - val_loss: 0.0019\n",
      "Epoch 13/300\n",
      "54/54 [==============================] - 1s 10ms/step - loss: 1.0703e-04 - val_loss: 0.0018\n",
      "Epoch 14/300\n",
      "54/54 [==============================] - 1s 10ms/step - loss: 9.6977e-05 - val_loss: 0.0118\n",
      "Epoch 15/300\n",
      "54/54 [==============================] - 1s 10ms/step - loss: 1.4859e-04 - val_loss: 0.0178\n",
      "Epoch 16/300\n",
      "54/54 [==============================] - 1s 10ms/step - loss: 1.1519e-04 - val_loss: 0.0034\n",
      "Epoch 17/300\n",
      "54/54 [==============================] - 1s 10ms/step - loss: 1.2437e-04 - val_loss: 0.0215\n",
      "Epoch 18/300\n",
      "54/54 [==============================] - 1s 10ms/step - loss: 1.7409e-04 - val_loss: 0.0586\n",
      "Epoch 19/300\n",
      "54/54 [==============================] - 1s 10ms/step - loss: 1.1552e-04 - val_loss: 0.0073\n",
      "Epoch 20/300\n",
      "54/54 [==============================] - 1s 10ms/step - loss: 9.3073e-05 - val_loss: 0.0059\n",
      "Epoch 21/300\n",
      "54/54 [==============================] - 1s 10ms/step - loss: 1.0836e-04 - val_loss: 0.0515\n",
      "Epoch 22/300\n",
      "54/54 [==============================] - 1s 10ms/step - loss: 1.1333e-04 - val_loss: 0.0113\n",
      "Epoch 23/300\n",
      "54/54 [==============================] - 1s 10ms/step - loss: 9.3615e-05 - val_loss: 0.0587\n",
      "Epoch 24/300\n",
      "54/54 [==============================] - 1s 10ms/step - loss: 1.9915e-04 - val_loss: 0.1145\n",
      "Epoch 25/300\n",
      "54/54 [==============================] - 1s 10ms/step - loss: 1.0050e-04 - val_loss: 0.0676\n",
      "Epoch 26/300\n",
      "54/54 [==============================] - 1s 10ms/step - loss: 7.5773e-05 - val_loss: 0.0181\n",
      "Epoch 27/300\n",
      "54/54 [==============================] - 1s 10ms/step - loss: 1.2088e-04 - val_loss: 0.0077\n",
      "Epoch 28/300\n",
      "54/54 [==============================] - 1s 10ms/step - loss: 1.1622e-04 - val_loss: 0.0226\n",
      "Epoch 29/300\n",
      "54/54 [==============================] - 1s 10ms/step - loss: 1.2349e-04 - val_loss: 0.0352\n",
      "Epoch 30/300\n",
      "54/54 [==============================] - 1s 10ms/step - loss: 8.4821e-05 - val_loss: 0.0347\n",
      "Epoch 31/300\n",
      "54/54 [==============================] - 1s 10ms/step - loss: 9.9772e-05 - val_loss: 0.0143\n",
      "Epoch 32/300\n",
      "54/54 [==============================] - 1s 10ms/step - loss: 0.0165 - val_loss: 0.1402\n",
      "Epoch 33/300\n",
      "54/54 [==============================] - 1s 10ms/step - loss: 0.0012 - val_loss: 0.0044\n",
      "Epoch 34/300\n",
      "54/54 [==============================] - 1s 10ms/step - loss: 2.0470e-04 - val_loss: 0.0366\n",
      "Epoch 35/300\n",
      "54/54 [==============================] - 1s 10ms/step - loss: 1.7089e-04 - val_loss: 0.0512\n",
      "Epoch 36/300\n",
      "54/54 [==============================] - 1s 10ms/step - loss: 1.5141e-04 - val_loss: 0.0329\n",
      "Epoch 37/300\n",
      "54/54 [==============================] - 1s 10ms/step - loss: 1.3779e-04 - val_loss: 0.0036\n",
      "Epoch 38/300\n",
      "54/54 [==============================] - 1s 10ms/step - loss: 1.2745e-04 - val_loss: 0.0026\n",
      "Epoch 39/300\n",
      "54/54 [==============================] - 1s 10ms/step - loss: 1.2883e-04 - val_loss: 0.0038\n",
      "Epoch 40/300\n",
      "54/54 [==============================] - 1s 10ms/step - loss: 1.3275e-04 - val_loss: 0.0050\n",
      "Epoch 41/300\n",
      "54/54 [==============================] - 1s 10ms/step - loss: 1.2807e-04 - val_loss: 0.0411\n",
      "Epoch 42/300\n",
      "54/54 [==============================] - 1s 10ms/step - loss: 1.4948e-04 - val_loss: 0.0042\n",
      "Epoch 43/300\n",
      "54/54 [==============================] - 1s 10ms/step - loss: 1.1556e-04 - val_loss: 0.0038\n",
      "Epoch 43: early stopping\n"
     ]
    }
   ],
   "source": [
    "earlyStopping = EarlyStopping(monitor = 'val_loss' , patience = 30 , mode = 'min' , verbose = 1)\n",
    "history = model.fit(btc_train[0] , btc_train[1] , validation_data = btc_val  , batch_size = 512  , epochs =300 , verbose = 1 , callbacks=[earlyStopping])\n",
    "num_epochs = earlyStopping.stopped_epoch\n"
   ]
  },
  {
   "cell_type": "code",
   "execution_count": 54,
   "id": "ca8db48e",
   "metadata": {},
   "outputs": [
    {
     "data": {
      "image/png": "[encoded data removed]",
      "text/plain": [
       "<Figure size 432x288 with 1 Axes>"
      ]
     },
     "metadata": {
      "needs_background": "light"
     },
     "output_type": "display_data"
    }
   ],
   "source": [
    "plt.plot(history.history['loss'])\n",
    "plt.plot(history.history['val_loss'])\n",
    "plt.title('model loss')\n",
    "plt.ylabel('loss')\n",
    "plt.xlabel('epoch')\n",
    "plt.legend(['train', 'val'], loc='upper left')\n",
    "#plt.ylim([0,0.01])\n",
    "plt.show()"
   ]
  }
 ],
 "metadata": {
  "kernelspec": {
   "display_name": "Python 3 (ipykernel)",
   "language": "python",
   "name": "python3"
  },
  "language_info": {
   "codemirror_mode": {
    "name": "ipython",
    "version": 3
   },
   "file_extension": ".py",
   "mimetype": "text/x-python",
   "name": "python",
   "nbconvert_exporter": "python",
   "pygments_lexer": "ipython3",
   "version": "3.7.0"
  }
 },
 "nbformat": 4,
 "nbformat_minor": 5
}
