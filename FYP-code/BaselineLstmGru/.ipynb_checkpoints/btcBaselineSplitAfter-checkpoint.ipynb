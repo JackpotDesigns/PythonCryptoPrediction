{
 "cells": [
  {
   "cell_type": "code",
   "execution_count": 20,
   "id": "56f0a547",
   "metadata": {},
   "outputs": [],
   "source": [
    "import pandas as pd\n",
    "import numpy as np\n",
    "import tensorflow as tf\n",
    "from tensorflow.keras.utils import plot_model\n",
    "from matplotlib import pyplot as plt\n",
    "from tensorflow.keras.models import Sequential \n",
    "from tensorflow.keras import layers\n",
    "from tensorflow.keras.optimizers import RMSprop , Adam\n",
    "import os\n",
    "from sklearn.preprocessing import MinMaxScaler\n",
    "from sklearn.metrics import mean_squared_error , mean_absolute_error , mean_absolute_percentage_error\n",
    "from tensorflow.keras.preprocessing.sequence import TimeseriesGenerator\n",
    "from tensorflow.keras.layers import LSTM , Dense , Dropout , GRU , Concatenate , Input , Conv1D , InputLayer\n",
    "from tensorflow.keras import models\n",
    "from tensorflow.keras.callbacks import EarlyStopping\n",
    "import math"
   ]
  },
  {
   "cell_type": "markdown",
   "id": "947652df",
   "metadata": {},
   "source": [
    "<Strong> Grabbing the data from stored files (originally pulled from Binance) </Strong>"
   ]
  },
  {
   "cell_type": "code",
   "execution_count": 21,
   "id": "1fe63049",
   "metadata": {},
   "outputs": [],
   "source": [
    "#df_btc = pd.read_csv(\"../../cryptoData/BTC_1h_data.csv\")\n",
    "df_btc = pd.read_csv(\"BTC_1h_data.csv\")"
   ]
  },
  {
   "cell_type": "code",
   "execution_count": 22,
   "id": "63c93ce3",
   "metadata": {},
   "outputs": [
    {
     "data": {
      "text/html": [
       "<div>\n",
       "<style scoped>\n",
       "    .dataframe tbody tr th:only-of-type {\n",
       "        vertical-align: middle;\n",
       "    }\n",
       "\n",
       "    .dataframe tbody tr th {\n",
       "        vertical-align: top;\n",
       "    }\n",
       "\n",
       "    .dataframe thead th {\n",
       "        text-align: right;\n",
       "    }\n",
       "</style>\n",
       "<table border=\"1\" class=\"dataframe\">\n",
       "  <thead>\n",
       "    <tr style=\"text-align: right;\">\n",
       "      <th></th>\n",
       "      <th>date</th>\n",
       "      <th>open</th>\n",
       "      <th>high</th>\n",
       "      <th>low</th>\n",
       "      <th>close</th>\n",
       "      <th>volume</th>\n",
       "    </tr>\n",
       "  </thead>\n",
       "  <tbody>\n",
       "    <tr>\n",
       "      <th>0</th>\n",
       "      <td>2017-08-17 04:00:00.000</td>\n",
       "      <td>4261.48</td>\n",
       "      <td>4313.62</td>\n",
       "      <td>4261.32</td>\n",
       "      <td>4308.83</td>\n",
       "      <td>47.181009</td>\n",
       "    </tr>\n",
       "    <tr>\n",
       "      <th>1</th>\n",
       "      <td>2017-08-17 05:00:00.000</td>\n",
       "      <td>4308.83</td>\n",
       "      <td>4328.69</td>\n",
       "      <td>4291.37</td>\n",
       "      <td>4315.32</td>\n",
       "      <td>23.234916</td>\n",
       "    </tr>\n",
       "    <tr>\n",
       "      <th>2</th>\n",
       "      <td>2017-08-17 06:00:00.000</td>\n",
       "      <td>4330.29</td>\n",
       "      <td>4345.45</td>\n",
       "      <td>4309.37</td>\n",
       "      <td>4324.35</td>\n",
       "      <td>7.229691</td>\n",
       "    </tr>\n",
       "    <tr>\n",
       "      <th>3</th>\n",
       "      <td>2017-08-17 07:00:00.000</td>\n",
       "      <td>4316.62</td>\n",
       "      <td>4349.99</td>\n",
       "      <td>4287.41</td>\n",
       "      <td>4349.99</td>\n",
       "      <td>4.443249</td>\n",
       "    </tr>\n",
       "    <tr>\n",
       "      <th>4</th>\n",
       "      <td>2017-08-17 08:00:00.000</td>\n",
       "      <td>4333.32</td>\n",
       "      <td>4377.85</td>\n",
       "      <td>4333.32</td>\n",
       "      <td>4360.69</td>\n",
       "      <td>0.972807</td>\n",
       "    </tr>\n",
       "    <tr>\n",
       "      <th>...</th>\n",
       "      <td>...</td>\n",
       "      <td>...</td>\n",
       "      <td>...</td>\n",
       "      <td>...</td>\n",
       "      <td>...</td>\n",
       "      <td>...</td>\n",
       "    </tr>\n",
       "    <tr>\n",
       "      <th>39216</th>\n",
       "      <td>2022-02-11 10:00:00</td>\n",
       "      <td>43492.63</td>\n",
       "      <td>43569.67</td>\n",
       "      <td>43233.67</td>\n",
       "      <td>43443.77</td>\n",
       "      <td>1305.626920</td>\n",
       "    </tr>\n",
       "    <tr>\n",
       "      <th>39217</th>\n",
       "      <td>2022-02-11 11:00:00</td>\n",
       "      <td>43443.78</td>\n",
       "      <td>43523.42</td>\n",
       "      <td>43320.00</td>\n",
       "      <td>43357.53</td>\n",
       "      <td>744.524180</td>\n",
       "    </tr>\n",
       "    <tr>\n",
       "      <th>39218</th>\n",
       "      <td>2022-02-11 12:00:00</td>\n",
       "      <td>43357.53</td>\n",
       "      <td>43700.78</td>\n",
       "      <td>43253.31</td>\n",
       "      <td>43570.77</td>\n",
       "      <td>1317.546940</td>\n",
       "    </tr>\n",
       "    <tr>\n",
       "      <th>39219</th>\n",
       "      <td>2022-02-11 13:00:00</td>\n",
       "      <td>43570.77</td>\n",
       "      <td>43826.00</td>\n",
       "      <td>43503.01</td>\n",
       "      <td>43765.14</td>\n",
       "      <td>1564.251800</td>\n",
       "    </tr>\n",
       "    <tr>\n",
       "      <th>39220</th>\n",
       "      <td>2022-02-11 14:00:00</td>\n",
       "      <td>43765.15</td>\n",
       "      <td>43814.17</td>\n",
       "      <td>43450.01</td>\n",
       "      <td>43534.54</td>\n",
       "      <td>880.790640</td>\n",
       "    </tr>\n",
       "  </tbody>\n",
       "</table>\n",
       "<p>39221 rows × 6 columns</p>\n",
       "</div>"
      ],
      "text/plain": [
       "                          date      open      high       low     close  \\\n",
       "0      2017-08-17 04:00:00.000   4261.48   4313.62   4261.32   4308.83   \n",
       "1      2017-08-17 05:00:00.000   4308.83   4328.69   4291.37   4315.32   \n",
       "2      2017-08-17 06:00:00.000   4330.29   4345.45   4309.37   4324.35   \n",
       "3      2017-08-17 07:00:00.000   4316.62   4349.99   4287.41   4349.99   \n",
       "4      2017-08-17 08:00:00.000   4333.32   4377.85   4333.32   4360.69   \n",
       "...                        ...       ...       ...       ...       ...   \n",
       "39216      2022-02-11 10:00:00  43492.63  43569.67  43233.67  43443.77   \n",
       "39217      2022-02-11 11:00:00  43443.78  43523.42  43320.00  43357.53   \n",
       "39218      2022-02-11 12:00:00  43357.53  43700.78  43253.31  43570.77   \n",
       "39219      2022-02-11 13:00:00  43570.77  43826.00  43503.01  43765.14   \n",
       "39220      2022-02-11 14:00:00  43765.15  43814.17  43450.01  43534.54   \n",
       "\n",
       "            volume  \n",
       "0        47.181009  \n",
       "1        23.234916  \n",
       "2         7.229691  \n",
       "3         4.443249  \n",
       "4         0.972807  \n",
       "...            ...  \n",
       "39216  1305.626920  \n",
       "39217   744.524180  \n",
       "39218  1317.546940  \n",
       "39219  1564.251800  \n",
       "39220   880.790640  \n",
       "\n",
       "[39221 rows x 6 columns]"
      ]
     },
     "execution_count": 22,
     "metadata": {},
     "output_type": "execute_result"
    }
   ],
   "source": [
    "df_btc"
   ]
  },
  {
   "cell_type": "code",
   "execution_count": 23,
   "id": "9bde6969",
   "metadata": {},
   "outputs": [],
   "source": [
    "df_headers = df_btc.columns"
   ]
  },
  {
   "cell_type": "markdown",
   "id": "c68634f1",
   "metadata": {},
   "source": [
    "<Strong> Grabbing the closing price (univariate) </Strong>"
   ]
  },
  {
   "cell_type": "code",
   "execution_count": 24,
   "id": "512d2ff6",
   "metadata": {},
   "outputs": [
    {
     "data": {
      "text/plain": [
       "43534.54"
      ]
     },
     "execution_count": 24,
     "metadata": {},
     "output_type": "execute_result"
    }
   ],
   "source": [
    "# Removing everything but the closing price\n",
    "btc_data = df_btc.values[:, 4 ,].astype(float)\n",
    "\n",
    "btc_data[-1]"
   ]
  },
  {
   "cell_type": "markdown",
   "id": "0ff079aa",
   "metadata": {},
   "source": [
    "<Strong> Scaling the data  </Strong>"
   ]
  },
  {
   "cell_type": "code",
   "execution_count": 25,
   "id": "d604e42f",
   "metadata": {},
   "outputs": [],
   "source": [
    "percTrain = 70\n",
    "percVal = 20 "
   ]
  },
  {
   "cell_type": "code",
   "execution_count": 26,
   "id": "81b6f812",
   "metadata": {},
   "outputs": [],
   "source": [
    "scaler = MinMaxScaler()\n",
    "    \n",
    "onePercent = len(btc_data) // 100\n",
    "numberTraining = onePercent * percTrain\n",
    "\n",
    "reshaped_data = btc_data.reshape(-1,1)\n",
    "\n",
    "#Just scaling on training data otherwise it would be leakage\n",
    "scaler.fit(reshaped_data[:numberTraining])\n",
    "scaled_btc = scaler.transform(reshaped_data)"
   ]
  },
  {
   "cell_type": "markdown",
   "id": "2a6a4ccd",
   "metadata": {},
   "source": [
    "<Strong> Creating Matrix in Sliding window form <Strong>"
   ]
  },
  {
   "cell_type": "code",
   "execution_count": 27,
   "id": "ddf6b3da",
   "metadata": {},
   "outputs": [],
   "source": [
    "def sliding_window(elements, window_size):\n",
    "    \n",
    "    data = [] \n",
    "    targets = []\n",
    "    \n",
    "    if len(elements) <= window_size:\n",
    "        return elements\n",
    "    \n",
    "    for i in range(len(elements) - window_size ):\n",
    "        \n",
    "        data.append(elements[i:i+window_size])\n",
    "        targets.append(elements[i+window_size])\n",
    "        \n",
    "    return np.array(data) , np.array(targets)"
   ]
  },
  {
   "cell_type": "code",
   "execution_count": 28,
   "id": "fea806bf",
   "metadata": {},
   "outputs": [],
   "source": [
    "# Using 24 datapoints to predict the 25th\n",
    "\n",
    "window_length = 24\n",
    "features = 1\n",
    "\n",
    "sliding_winda_btc = sliding_window(scaled_btc , window_length)"
   ]
  },
  {
   "cell_type": "markdown",
   "id": "82fef525",
   "metadata": {},
   "source": [
    "<Strong> Splitting the data after we create Sliding Window matrix (more data) </Strong>"
   ]
  },
  {
   "cell_type": "code",
   "execution_count": 29,
   "id": "1731b98f",
   "metadata": {},
   "outputs": [],
   "source": [
    "# Splitting the data after creating the sliding window data\n",
    "def splitting_train_test(data):\n",
    "        \n",
    "    onePercent = len(data[1]) // 100\n",
    "    \n",
    "    numberTraining = onePercent * percTrain\n",
    "    numberValidation = onePercent * percVal\n",
    "    \n",
    "    trainingData = data[0][:numberTraining] , data[1][:numberTraining]\n",
    "    validationData = data[0][numberTraining : numberTraining + numberValidation] , data[1][numberTraining : numberTraining + numberValidation]\n",
    "    testData = data[0][numberTraining + numberValidation:] , data[1][numberTraining + numberValidation:] \n",
    "    \n",
    "    #Returning tuples of (sliding-window , target_values)\n",
    "    return trainingData , validationData , testData"
   ]
  },
  {
   "cell_type": "code",
   "execution_count": 30,
   "id": "05f85f5e",
   "metadata": {},
   "outputs": [
    {
     "name": "stdout",
     "output_type": "stream",
     "text": [
      "(27370, 24, 1)\n"
     ]
    }
   ],
   "source": [
    "#Reshaping the data so we can use min-max a\n",
    "btc_train , btc_val , btc_test = splitting_train_test(sliding_winda_btc)\n",
    "\n",
    "print(btc_train[0].shape)"
   ]
  },
  {
   "cell_type": "markdown",
   "id": "c9a800f1",
   "metadata": {},
   "source": [
    "<Strong> Creating the model </Strong>"
   ]
  },
  {
   "cell_type": "code",
   "execution_count": 31,
   "id": "f90ddefa",
   "metadata": {},
   "outputs": [
    {
     "name": "stdout",
     "output_type": "stream",
     "text": [
      "Model: \"model_2\"\n",
      "__________________________________________________________________________________________________\n",
      " Layer (type)                   Output Shape         Param #     Connected to                     \n",
      "==================================================================================================\n",
      " input_2 (InputLayer)           [(None, 24, 1)]      0           []                               \n",
      "                                                                                                  \n",
      " lstm_2 (LSTM)                  (None, 24, 30)       3840        ['input_2[0][0]']                \n",
      "                                                                                                  \n",
      " dropout_2 (Dropout)            (None, 24, 30)       0           ['lstm_2[0][0]']                 \n",
      "                                                                                                  \n",
      " gru_1 (GRU)                    (None, 30)           2970        ['input_2[0][0]']                \n",
      "                                                                                                  \n",
      " lstm_3 (LSTM)                  (None, 50)           16200       ['dropout_2[0][0]']              \n",
      "                                                                                                  \n",
      " dropout_3 (Dropout)            (None, 30)           0           ['gru_1[0][0]']                  \n",
      "                                                                                                  \n",
      " dense_3 (Dense)                (None, 128)          6528        ['lstm_3[0][0]']                 \n",
      "                                                                                                  \n",
      " dense_4 (Dense)                (None, 128)          3968        ['dropout_3[0][0]']              \n",
      "                                                                                                  \n",
      " concatenate_1 (Concatenate)    (None, 256)          0           ['dense_3[0][0]',                \n",
      "                                                                  'dense_4[0][0]']                \n",
      "                                                                                                  \n",
      " dense_5 (Dense)                (None, 1)            257         ['concatenate_1[0][0]']          \n",
      "                                                                                                  \n",
      "==================================================================================================\n",
      "Total params: 33,763\n",
      "Trainable params: 33,763\n",
      "Non-trainable params: 0\n",
      "__________________________________________________________________________________________________\n"
     ]
    },
    {
     "data": {
      "image/png": "[encoded data removed]",
      "text/plain": [
       "<IPython.core.display.Image object>"
      ]
     },
     "execution_count": 31,
     "metadata": {},
     "output_type": "execute_result"
    }
   ],
   "source": [
    "inputs = Input(shape = (window_length , features) )\n",
    "\n",
    "x = LSTM(30 , return_sequences = True )(inputs)\n",
    "x = Dropout(0.03)(x) \n",
    "x = LSTM(50)(x)\n",
    "x = Dense(128 , activation=layers.LeakyReLU(alpha=0.01))(x)\n",
    "#activation=layers.LeakyReLU(alpha=0.01)\n",
    "y = GRU(30,input_shape=(window_length , features))(inputs)\n",
    "y = Dropout(0.03)(y)\n",
    "y = Dense(128 , activation=layers.LeakyReLU(alpha=0.01))(y)\n",
    "\n",
    "final = Concatenate()([x,y])\n",
    "final = Dense(1)(final)\n",
    "\n",
    "model = tf.keras.Model(inputs=inputs, outputs= final)\n",
    "\n",
    "model.summary()\n",
    "plot_model(model)"
   ]
  },
  {
   "cell_type": "markdown",
   "id": "59fd00e1",
   "metadata": {},
   "source": [
    "<Strong> Compiling the model </Strong>"
   ]
  },
  {
   "cell_type": "code",
   "execution_count": 32,
   "id": "155372fd",
   "metadata": {},
   "outputs": [],
   "source": [
    "opt = Adam(0.008)\n",
    "model.compile(optimizer=opt , loss = 'mse')"
   ]
  },
  {
   "cell_type": "markdown",
   "id": "7b41e499",
   "metadata": {},
   "source": [
    "<Strong> Creating a callback , so we can avail of early stopping </Strong>"
   ]
  },
  {
   "cell_type": "code",
   "execution_count": 33,
   "id": "96fbfb57",
   "metadata": {},
   "outputs": [],
   "source": [
    "earlyStopping = EarlyStopping(monitor = 'val_loss' , patience = 30 , mode = 'min' , verbose = 1)"
   ]
  },
  {
   "cell_type": "markdown",
   "id": "0f705867",
   "metadata": {},
   "source": [
    "<Strong> Fitting the Model , and storing the epoch training stopped on </Strong>"
   ]
  },
  {
   "cell_type": "code",
   "execution_count": 34,
   "id": "924e1f60",
   "metadata": {},
   "outputs": [
    {
     "name": "stdout",
     "output_type": "stream",
     "text": [
      "Epoch 1/300\n",
      "54/54 [==============================] - 5s 26ms/step - loss: 0.0063 - val_loss: 0.1114\n",
      "Epoch 2/300\n",
      "54/54 [==============================] - 0s 8ms/step - loss: 1.3672e-04 - val_loss: 0.0950\n",
      "Epoch 3/300\n",
      "54/54 [==============================] - 0s 8ms/step - loss: 1.0944e-04 - val_loss: 0.0862\n",
      "Epoch 4/300\n",
      "54/54 [==============================] - 0s 8ms/step - loss: 9.4914e-05 - val_loss: 0.0810\n",
      "Epoch 5/300\n",
      "54/54 [==============================] - 0s 8ms/step - loss: 8.0392e-05 - val_loss: 0.0843\n",
      "Epoch 6/300\n",
      "54/54 [==============================] - 0s 8ms/step - loss: 7.4178e-05 - val_loss: 0.0715\n",
      "Epoch 7/300\n",
      "54/54 [==============================] - 0s 8ms/step - loss: 6.7877e-05 - val_loss: 0.0778\n",
      "Epoch 8/300\n",
      "54/54 [==============================] - 0s 8ms/step - loss: 6.1433e-05 - val_loss: 0.0818\n",
      "Epoch 9/300\n",
      "54/54 [==============================] - 0s 8ms/step - loss: 6.5186e-05 - val_loss: 0.0664\n",
      "Epoch 10/300\n",
      "54/54 [==============================] - 0s 8ms/step - loss: 5.8355e-05 - val_loss: 0.0616\n",
      "Epoch 11/300\n",
      "54/54 [==============================] - 0s 8ms/step - loss: 5.5053e-05 - val_loss: 0.0583\n",
      "Epoch 12/300\n",
      "54/54 [==============================] - 0s 8ms/step - loss: 5.1766e-05 - val_loss: 0.0491\n",
      "Epoch 13/300\n",
      "54/54 [==============================] - 0s 8ms/step - loss: 5.5800e-05 - val_loss: 0.0413\n",
      "Epoch 14/300\n",
      "54/54 [==============================] - 0s 8ms/step - loss: 5.1176e-05 - val_loss: 0.0403\n",
      "Epoch 15/300\n",
      "54/54 [==============================] - 0s 8ms/step - loss: 4.7903e-05 - val_loss: 0.0338\n",
      "Epoch 16/300\n",
      "54/54 [==============================] - 0s 8ms/step - loss: 4.8247e-05 - val_loss: 0.0293\n",
      "Epoch 17/300\n",
      "54/54 [==============================] - 0s 8ms/step - loss: 5.2553e-05 - val_loss: 0.0172\n",
      "Epoch 18/300\n",
      "54/54 [==============================] - 0s 8ms/step - loss: 5.1581e-05 - val_loss: 0.0208\n",
      "Epoch 19/300\n",
      "54/54 [==============================] - 0s 8ms/step - loss: 4.8048e-05 - val_loss: 0.0130\n",
      "Epoch 20/300\n",
      "54/54 [==============================] - 0s 8ms/step - loss: 5.1770e-05 - val_loss: 0.0152\n",
      "Epoch 21/300\n",
      "54/54 [==============================] - 0s 8ms/step - loss: 4.6373e-05 - val_loss: 0.0084\n",
      "Epoch 22/300\n",
      "54/54 [==============================] - 0s 8ms/step - loss: 4.6548e-05 - val_loss: 0.0064\n",
      "Epoch 23/300\n",
      "54/54 [==============================] - 0s 8ms/step - loss: 4.2648e-05 - val_loss: 0.0031\n",
      "Epoch 24/300\n",
      "54/54 [==============================] - 0s 8ms/step - loss: 4.4191e-05 - val_loss: 0.0026\n",
      "Epoch 25/300\n",
      "54/54 [==============================] - 0s 8ms/step - loss: 5.3142e-05 - val_loss: 0.0011\n",
      "Epoch 26/300\n",
      "54/54 [==============================] - 0s 8ms/step - loss: 4.7681e-05 - val_loss: 0.0010\n",
      "Epoch 27/300\n",
      "54/54 [==============================] - 0s 8ms/step - loss: 4.5908e-05 - val_loss: 0.0010\n",
      "Epoch 28/300\n",
      "54/54 [==============================] - 0s 8ms/step - loss: 4.4408e-05 - val_loss: 0.0018\n",
      "Epoch 29/300\n",
      "54/54 [==============================] - 0s 8ms/step - loss: 5.0030e-05 - val_loss: 0.0011\n",
      "Epoch 30/300\n",
      "54/54 [==============================] - 0s 8ms/step - loss: 4.6933e-05 - val_loss: 0.0010\n",
      "Epoch 31/300\n",
      "54/54 [==============================] - 0s 8ms/step - loss: 4.3389e-05 - val_loss: 0.0016\n",
      "Epoch 32/300\n",
      "54/54 [==============================] - 0s 8ms/step - loss: 5.0565e-05 - val_loss: 0.0036\n",
      "Epoch 33/300\n",
      "54/54 [==============================] - 0s 8ms/step - loss: 4.3993e-05 - val_loss: 0.0019\n",
      "Epoch 34/300\n",
      "54/54 [==============================] - 0s 8ms/step - loss: 4.5187e-05 - val_loss: 0.0016\n",
      "Epoch 35/300\n",
      "54/54 [==============================] - 0s 8ms/step - loss: 4.9127e-05 - val_loss: 0.0036\n",
      "Epoch 36/300\n",
      "54/54 [==============================] - 0s 8ms/step - loss: 4.4080e-05 - val_loss: 0.0070\n",
      "Epoch 37/300\n",
      "54/54 [==============================] - 0s 8ms/step - loss: 4.8866e-05 - val_loss: 0.0051\n",
      "Epoch 38/300\n",
      "54/54 [==============================] - 0s 8ms/step - loss: 4.1259e-05 - val_loss: 0.0042\n",
      "Epoch 39/300\n",
      "54/54 [==============================] - 0s 8ms/step - loss: 5.3562e-05 - val_loss: 0.0045\n",
      "Epoch 40/300\n",
      "54/54 [==============================] - 0s 8ms/step - loss: 5.7346e-05 - val_loss: 8.6304e-04\n",
      "Epoch 41/300\n",
      "54/54 [==============================] - 0s 8ms/step - loss: 4.3771e-05 - val_loss: 0.0035\n",
      "Epoch 42/300\n",
      "54/54 [==============================] - 0s 8ms/step - loss: 4.9915e-05 - val_loss: 0.0021\n",
      "Epoch 43/300\n",
      "54/54 [==============================] - 0s 8ms/step - loss: 5.5299e-05 - val_loss: 0.0010\n",
      "Epoch 44/300\n",
      "54/54 [==============================] - 0s 8ms/step - loss: 4.1382e-05 - val_loss: 0.0010\n",
      "Epoch 45/300\n",
      "54/54 [==============================] - 0s 8ms/step - loss: 5.2525e-05 - val_loss: 8.9879e-04\n",
      "Epoch 46/300\n",
      "54/54 [==============================] - 0s 8ms/step - loss: 5.1035e-05 - val_loss: 8.2665e-04\n",
      "Epoch 47/300\n",
      "54/54 [==============================] - 0s 8ms/step - loss: 4.5945e-05 - val_loss: 0.0018\n",
      "Epoch 48/300\n",
      "54/54 [==============================] - 0s 8ms/step - loss: 4.7948e-05 - val_loss: 9.3372e-04\n",
      "Epoch 49/300\n",
      "54/54 [==============================] - 0s 8ms/step - loss: 4.5445e-05 - val_loss: 0.0043\n",
      "Epoch 50/300\n",
      "54/54 [==============================] - 0s 8ms/step - loss: 4.5569e-05 - val_loss: 0.0025\n",
      "Epoch 51/300\n",
      "54/54 [==============================] - 0s 8ms/step - loss: 4.6691e-05 - val_loss: 0.0023\n",
      "Epoch 52/300\n",
      "54/54 [==============================] - 0s 8ms/step - loss: 5.3268e-05 - val_loss: 8.8119e-04\n",
      "Epoch 53/300\n",
      "54/54 [==============================] - 0s 8ms/step - loss: 5.4823e-05 - val_loss: 9.7026e-04\n",
      "Epoch 54/300\n",
      "54/54 [==============================] - 0s 8ms/step - loss: 5.3585e-05 - val_loss: 9.3051e-04\n",
      "Epoch 55/300\n",
      "54/54 [==============================] - 0s 8ms/step - loss: 4.0524e-05 - val_loss: 8.5925e-04\n",
      "Epoch 56/300\n",
      "54/54 [==============================] - 0s 8ms/step - loss: 4.9176e-05 - val_loss: 0.0011\n",
      "Epoch 57/300\n",
      "54/54 [==============================] - 0s 8ms/step - loss: 4.9364e-05 - val_loss: 0.0019\n",
      "Epoch 58/300\n",
      "54/54 [==============================] - 0s 8ms/step - loss: 4.5979e-05 - val_loss: 0.0014\n",
      "Epoch 59/300\n",
      "54/54 [==============================] - 0s 8ms/step - loss: 5.0711e-05 - val_loss: 0.0028\n",
      "Epoch 60/300\n",
      "54/54 [==============================] - 0s 8ms/step - loss: 4.9525e-05 - val_loss: 9.5797e-04\n",
      "Epoch 61/300\n",
      "54/54 [==============================] - 0s 8ms/step - loss: 4.5805e-05 - val_loss: 0.0015\n",
      "Epoch 62/300\n",
      "54/54 [==============================] - 0s 8ms/step - loss: 6.0355e-05 - val_loss: 0.0016\n",
      "Epoch 63/300\n",
      "54/54 [==============================] - 0s 8ms/step - loss: 7.6308e-05 - val_loss: 0.0023\n",
      "Epoch 64/300\n",
      "54/54 [==============================] - 0s 9ms/step - loss: 6.2944e-05 - val_loss: 0.0027\n",
      "Epoch 65/300\n",
      "54/54 [==============================] - 0s 8ms/step - loss: 6.3305e-05 - val_loss: 8.2565e-04\n",
      "Epoch 66/300\n",
      "54/54 [==============================] - 0s 8ms/step - loss: 5.4649e-05 - val_loss: 7.8773e-04\n",
      "Epoch 67/300\n",
      "54/54 [==============================] - 0s 8ms/step - loss: 4.7251e-05 - val_loss: 0.0010\n",
      "Epoch 68/300\n",
      "54/54 [==============================] - 0s 8ms/step - loss: 4.1876e-05 - val_loss: 7.1301e-04\n",
      "Epoch 69/300\n",
      "54/54 [==============================] - 0s 8ms/step - loss: 4.3608e-05 - val_loss: 8.0912e-04\n",
      "Epoch 70/300\n",
      "54/54 [==============================] - 0s 8ms/step - loss: 4.8205e-05 - val_loss: 8.2494e-04\n",
      "Epoch 71/300\n",
      "54/54 [==============================] - 0s 8ms/step - loss: 5.0489e-05 - val_loss: 0.0024\n",
      "Epoch 72/300\n",
      "54/54 [==============================] - 0s 8ms/step - loss: 4.4739e-05 - val_loss: 0.0039\n",
      "Epoch 73/300\n",
      "54/54 [==============================] - 0s 8ms/step - loss: 4.3253e-05 - val_loss: 0.0016\n",
      "Epoch 74/300\n",
      "54/54 [==============================] - 0s 8ms/step - loss: 4.4213e-05 - val_loss: 0.0011\n",
      "Epoch 75/300\n",
      "54/54 [==============================] - 0s 8ms/step - loss: 4.4239e-05 - val_loss: 0.0012\n",
      "Epoch 76/300\n",
      "54/54 [==============================] - 0s 8ms/step - loss: 4.2719e-05 - val_loss: 0.0028\n",
      "Epoch 77/300\n",
      "54/54 [==============================] - 0s 8ms/step - loss: 5.0626e-05 - val_loss: 0.0011\n",
      "Epoch 78/300\n",
      "54/54 [==============================] - 0s 8ms/step - loss: 4.5812e-05 - val_loss: 0.0090\n",
      "Epoch 79/300\n",
      "54/54 [==============================] - 0s 8ms/step - loss: 4.2053e-05 - val_loss: 0.0012\n",
      "Epoch 80/300\n",
      "54/54 [==============================] - 0s 8ms/step - loss: 4.1403e-05 - val_loss: 0.0022\n",
      "Epoch 81/300\n",
      "54/54 [==============================] - 0s 8ms/step - loss: 4.2348e-05 - val_loss: 0.0018\n",
      "Epoch 82/300\n",
      "54/54 [==============================] - 0s 8ms/step - loss: 4.5292e-05 - val_loss: 0.0031\n",
      "Epoch 83/300\n",
      "54/54 [==============================] - 0s 8ms/step - loss: 4.9127e-05 - val_loss: 0.0023\n",
      "Epoch 84/300\n",
      "54/54 [==============================] - 1s 17ms/step - loss: 4.7753e-05 - val_loss: 0.0011\n",
      "Epoch 85/300\n",
      "54/54 [==============================] - 0s 8ms/step - loss: 5.5345e-05 - val_loss: 0.0017\n",
      "Epoch 86/300\n",
      "54/54 [==============================] - 0s 8ms/step - loss: 4.7911e-05 - val_loss: 0.0011\n",
      "Epoch 87/300\n",
      "54/54 [==============================] - 0s 8ms/step - loss: 4.2482e-05 - val_loss: 0.0023\n",
      "Epoch 88/300\n",
      "54/54 [==============================] - 0s 9ms/step - loss: 5.3980e-05 - val_loss: 8.7048e-04\n",
      "Epoch 89/300\n",
      "54/54 [==============================] - 0s 8ms/step - loss: 4.5322e-05 - val_loss: 0.0010\n",
      "Epoch 90/300\n",
      "54/54 [==============================] - 0s 8ms/step - loss: 5.4732e-05 - val_loss: 0.0021\n",
      "Epoch 91/300\n",
      "54/54 [==============================] - 0s 9ms/step - loss: 5.0549e-05 - val_loss: 0.0022\n",
      "Epoch 92/300\n",
      "54/54 [==============================] - 0s 8ms/step - loss: 5.3033e-05 - val_loss: 0.0033\n",
      "Epoch 93/300\n",
      "54/54 [==============================] - 0s 8ms/step - loss: 4.2758e-05 - val_loss: 0.0025\n",
      "Epoch 94/300\n",
      "54/54 [==============================] - 0s 8ms/step - loss: 4.1611e-05 - val_loss: 0.0050\n",
      "Epoch 95/300\n",
      "54/54 [==============================] - 0s 8ms/step - loss: 4.2585e-05 - val_loss: 0.0012\n",
      "Epoch 96/300\n",
      "54/54 [==============================] - 0s 9ms/step - loss: 5.2161e-05 - val_loss: 9.8011e-04\n",
      "Epoch 97/300\n",
      "54/54 [==============================] - 0s 9ms/step - loss: 4.2908e-05 - val_loss: 0.0026\n",
      "Epoch 98/300\n",
      "54/54 [==============================] - 0s 8ms/step - loss: 4.1304e-05 - val_loss: 0.0013\n",
      "Epoch 98: early stopping\n"
     ]
    }
   ],
   "source": [
    "history = model.fit(btc_train[0] , btc_train[1] , validation_data = btc_val  , batch_size = 512  , epochs =300 , verbose = 1 , callbacks=[earlyStopping])\n",
    "num_epochs = earlyStopping.stopped_epoch\n"
   ]
  },
  {
   "cell_type": "code",
   "execution_count": 35,
   "id": "6b6928d5",
   "metadata": {},
   "outputs": [
    {
     "data": {
      "image/png": "[encoded data removed]",
      "text/plain": [
       "<Figure size 432x288 with 1 Axes>"
      ]
     },
     "metadata": {
      "needs_background": "light"
     },
     "output_type": "display_data"
    }
   ],
   "source": [
    "plt.plot(history.history['loss'])\n",
    "plt.plot(history.history['val_loss'])\n",
    "plt.title('model loss')\n",
    "plt.ylabel('loss')\n",
    "plt.xlabel('epoch')\n",
    "plt.legend(['train', 'val'], loc='upper left')\n",
    "plt.ylim([0,0.01])\n",
    "plt.show()"
   ]
  },
  {
   "cell_type": "markdown",
   "id": "5de2f3a6",
   "metadata": {},
   "source": [
    "<Strong> Testing our model on the validation data once again , hyper-parameter adjustment. <Strong>"
   ]
  },
  {
   "cell_type": "code",
   "execution_count": 36,
   "id": "ee10ac50",
   "metadata": {},
   "outputs": [
    {
     "data": {
      "text/plain": [
       "402.2532606547713"
      ]
     },
     "execution_count": 36,
     "metadata": {},
     "output_type": "execute_result"
    }
   ],
   "source": [
    "#If you wanted human readable could inverse the data : but we want to compare it with other model so we are not.\n",
    "#validation_predict = scaler.inverse_transform(validation_predict)\n",
    "#alidation_actual = scaler.inverse_transform(btc_val[1])\n",
    "\n",
    "validation_predict = model.predict(btc_val[0])\n",
    "validation_actual=btc_val[1]\n",
    "\n",
    "mean_absolute_error(validation_actual , validation_predict)"
   ]
  },
  {
   "cell_type": "markdown",
   "id": "c681512a",
   "metadata": {},
   "source": [
    "<Strong> Combining the train and validation set when perfected hyper-parameters and training on fresh model. </Strong>"
   ]
  },
  {
   "cell_type": "code",
   "execution_count": 38,
   "id": "3b78d533",
   "metadata": {},
   "outputs": [
    {
     "name": "stdout",
     "output_type": "stream",
     "text": [
      "Epoch 1/97\n",
      "69/69 [==============================] - 3s 8ms/step - loss: 0.1243\n",
      "Epoch 2/97\n",
      "69/69 [==============================] - 0s 7ms/step - loss: 0.0016\n",
      "Epoch 3/97\n",
      "69/69 [==============================] - 0s 7ms/step - loss: 9.6643e-04\n",
      "Epoch 4/97\n",
      "69/69 [==============================] - 0s 7ms/step - loss: 7.2581e-04\n",
      "Epoch 5/97\n",
      "69/69 [==============================] - 1s 13ms/step - loss: 5.9002e-04\n",
      "Epoch 6/97\n",
      "69/69 [==============================] - 0s 7ms/step - loss: 4.7760e-04\n",
      "Epoch 7/97\n",
      "69/69 [==============================] - 0s 7ms/step - loss: 4.5280e-04\n",
      "Epoch 8/97\n",
      "69/69 [==============================] - 0s 7ms/step - loss: 3.9395e-04\n",
      "Epoch 9/97\n",
      "69/69 [==============================] - 0s 7ms/step - loss: 4.1071e-04\n",
      "Epoch 10/97\n",
      "69/69 [==============================] - 0s 7ms/step - loss: 4.2548e-04\n",
      "Epoch 11/97\n",
      "69/69 [==============================] - 0s 7ms/step - loss: 3.6699e-04\n",
      "Epoch 12/97\n",
      "69/69 [==============================] - 0s 7ms/step - loss: 3.4108e-04\n",
      "Epoch 13/97\n",
      "69/69 [==============================] - 0s 7ms/step - loss: 3.6134e-04\n",
      "Epoch 14/97\n",
      "69/69 [==============================] - 0s 7ms/step - loss: 3.6658e-04\n",
      "Epoch 15/97\n",
      "69/69 [==============================] - 0s 7ms/step - loss: 3.5651e-04\n",
      "Epoch 16/97\n",
      "69/69 [==============================] - 0s 7ms/step - loss: 2.9073e-04\n",
      "Epoch 17/97\n",
      "69/69 [==============================] - 0s 7ms/step - loss: 3.0780e-04\n",
      "Epoch 18/97\n",
      "69/69 [==============================] - 0s 7ms/step - loss: 2.9524e-04\n",
      "Epoch 19/97\n",
      "69/69 [==============================] - 0s 7ms/step - loss: 2.6790e-04\n",
      "Epoch 20/97\n",
      "69/69 [==============================] - 0s 7ms/step - loss: 2.7133e-04\n",
      "Epoch 21/97\n",
      "69/69 [==============================] - 0s 7ms/step - loss: 2.9740e-04\n",
      "Epoch 22/97\n",
      "69/69 [==============================] - 0s 7ms/step - loss: 3.1069e-04\n",
      "Epoch 23/97\n",
      "69/69 [==============================] - 0s 7ms/step - loss: 3.1799e-04\n",
      "Epoch 24/97\n",
      "69/69 [==============================] - 0s 7ms/step - loss: 2.7015e-04\n",
      "Epoch 25/97\n",
      "69/69 [==============================] - 0s 7ms/step - loss: 2.8920e-04\n",
      "Epoch 26/97\n",
      "69/69 [==============================] - 0s 7ms/step - loss: 3.3207e-04\n",
      "Epoch 27/97\n",
      "69/69 [==============================] - 0s 7ms/step - loss: 2.6222e-04\n",
      "Epoch 28/97\n",
      "69/69 [==============================] - 1s 7ms/step - loss: 2.7631e-04\n",
      "Epoch 29/97\n",
      "69/69 [==============================] - 0s 7ms/step - loss: 2.6649e-04\n",
      "Epoch 30/97\n",
      "69/69 [==============================] - 1s 7ms/step - loss: 2.4655e-04\n",
      "Epoch 31/97\n",
      "69/69 [==============================] - 0s 7ms/step - loss: 3.0813e-04\n",
      "Epoch 32/97\n",
      "69/69 [==============================] - 1s 7ms/step - loss: 2.9192e-04\n",
      "Epoch 33/97\n",
      "69/69 [==============================] - 0s 7ms/step - loss: 2.4124e-04\n",
      "Epoch 34/97\n",
      "69/69 [==============================] - 0s 7ms/step - loss: 2.6777e-04\n",
      "Epoch 35/97\n",
      "69/69 [==============================] - 0s 7ms/step - loss: 2.8871e-04\n",
      "Epoch 36/97\n",
      "69/69 [==============================] - 0s 7ms/step - loss: 3.2254e-04\n",
      "Epoch 37/97\n",
      "69/69 [==============================] - 0s 7ms/step - loss: 2.7852e-04\n",
      "Epoch 38/97\n",
      "69/69 [==============================] - 0s 7ms/step - loss: 2.6407e-04\n",
      "Epoch 39/97\n",
      "69/69 [==============================] - 0s 7ms/step - loss: 2.6319e-04\n",
      "Epoch 40/97\n",
      "69/69 [==============================] - 0s 7ms/step - loss: 2.6989e-04\n",
      "Epoch 41/97\n",
      "69/69 [==============================] - 0s 7ms/step - loss: 2.4949e-04\n",
      "Epoch 42/97\n",
      "69/69 [==============================] - 0s 7ms/step - loss: 2.3079e-04\n",
      "Epoch 43/97\n",
      "69/69 [==============================] - 0s 7ms/step - loss: 2.4279e-04\n",
      "Epoch 44/97\n",
      "69/69 [==============================] - 0s 7ms/step - loss: 2.6543e-04\n",
      "Epoch 45/97\n",
      "69/69 [==============================] - 0s 7ms/step - loss: 2.8276e-04\n",
      "Epoch 46/97\n",
      "69/69 [==============================] - 0s 7ms/step - loss: 3.6785e-04\n",
      "Epoch 47/97\n",
      "69/69 [==============================] - 0s 7ms/step - loss: 2.6399e-04\n",
      "Epoch 48/97\n",
      "69/69 [==============================] - 0s 7ms/step - loss: 2.8207e-04\n",
      "Epoch 49/97\n",
      "69/69 [==============================] - 0s 7ms/step - loss: 2.6550e-04\n",
      "Epoch 50/97\n",
      "69/69 [==============================] - 0s 7ms/step - loss: 2.8908e-04\n",
      "Epoch 51/97\n",
      "69/69 [==============================] - 0s 7ms/step - loss: 2.1766e-04\n",
      "Epoch 52/97\n",
      "69/69 [==============================] - 0s 7ms/step - loss: 2.3961e-04\n",
      "Epoch 53/97\n",
      "69/69 [==============================] - 0s 7ms/step - loss: 2.4496e-04\n",
      "Epoch 54/97\n",
      "69/69 [==============================] - 0s 7ms/step - loss: 3.3393e-04\n",
      "Epoch 55/97\n",
      "69/69 [==============================] - 0s 7ms/step - loss: 2.4032e-04\n",
      "Epoch 56/97\n",
      "69/69 [==============================] - 0s 7ms/step - loss: 2.4032e-04\n",
      "Epoch 57/97\n",
      "69/69 [==============================] - 0s 7ms/step - loss: 2.2170e-04\n",
      "Epoch 58/97\n",
      "69/69 [==============================] - 0s 7ms/step - loss: 2.3980e-04\n",
      "Epoch 59/97\n",
      "69/69 [==============================] - 0s 7ms/step - loss: 2.6127e-04\n",
      "Epoch 60/97\n",
      "69/69 [==============================] - 0s 7ms/step - loss: 3.1454e-04\n",
      "Epoch 61/97\n",
      "69/69 [==============================] - 0s 7ms/step - loss: 2.0995e-04\n",
      "Epoch 62/97\n",
      "69/69 [==============================] - 0s 7ms/step - loss: 2.2740e-04\n",
      "Epoch 63/97\n",
      "69/69 [==============================] - 0s 7ms/step - loss: 2.9154e-04\n",
      "Epoch 64/97\n",
      "69/69 [==============================] - 0s 7ms/step - loss: 2.1205e-04\n",
      "Epoch 65/97\n",
      "69/69 [==============================] - 0s 7ms/step - loss: 2.5179e-04\n",
      "Epoch 66/97\n",
      "69/69 [==============================] - 0s 7ms/step - loss: 2.3074e-04\n",
      "Epoch 67/97\n",
      "69/69 [==============================] - 0s 7ms/step - loss: 3.7849e-04\n",
      "Epoch 68/97\n",
      "69/69 [==============================] - 0s 7ms/step - loss: 2.8053e-04\n",
      "Epoch 69/97\n",
      "69/69 [==============================] - 0s 7ms/step - loss: 2.0664e-04\n",
      "Epoch 70/97\n",
      "69/69 [==============================] - 0s 7ms/step - loss: 2.3839e-04\n",
      "Epoch 71/97\n",
      "69/69 [==============================] - 0s 7ms/step - loss: 2.1710e-04\n",
      "Epoch 72/97\n",
      "69/69 [==============================] - 0s 7ms/step - loss: 2.4709e-04\n",
      "Epoch 73/97\n",
      "69/69 [==============================] - 0s 7ms/step - loss: 2.6155e-04\n",
      "Epoch 74/97\n",
      "69/69 [==============================] - 0s 7ms/step - loss: 2.1605e-04\n",
      "Epoch 75/97\n",
      "69/69 [==============================] - 0s 7ms/step - loss: 2.0749e-04\n",
      "Epoch 76/97\n",
      "69/69 [==============================] - 0s 7ms/step - loss: 2.5136e-04\n",
      "Epoch 77/97\n",
      "69/69 [==============================] - 0s 7ms/step - loss: 2.0705e-04\n",
      "Epoch 78/97\n",
      "69/69 [==============================] - 0s 7ms/step - loss: 3.0805e-04\n",
      "Epoch 79/97\n",
      "69/69 [==============================] - 0s 7ms/step - loss: 3.3538e-04\n",
      "Epoch 80/97\n",
      "69/69 [==============================] - 0s 7ms/step - loss: 2.1242e-04\n",
      "Epoch 81/97\n",
      "69/69 [==============================] - 0s 7ms/step - loss: 2.3186e-04\n",
      "Epoch 82/97\n",
      "69/69 [==============================] - 0s 7ms/step - loss: 4.3788e-04\n",
      "Epoch 83/97\n",
      "69/69 [==============================] - 0s 7ms/step - loss: 2.0931e-04\n",
      "Epoch 84/97\n",
      "69/69 [==============================] - 0s 7ms/step - loss: 2.4196e-04\n",
      "Epoch 85/97\n",
      "69/69 [==============================] - 0s 7ms/step - loss: 2.0028e-04\n",
      "Epoch 86/97\n",
      "69/69 [==============================] - 0s 7ms/step - loss: 1.9404e-04\n",
      "Epoch 87/97\n",
      "69/69 [==============================] - 0s 7ms/step - loss: 2.1092e-04\n",
      "Epoch 88/97\n",
      "69/69 [==============================] - 0s 7ms/step - loss: 2.1473e-04\n",
      "Epoch 89/97\n",
      "69/69 [==============================] - 0s 7ms/step - loss: 2.3064e-04\n",
      "Epoch 90/97\n",
      "69/69 [==============================] - 0s 7ms/step - loss: 2.8866e-04\n",
      "Epoch 91/97\n",
      "69/69 [==============================] - 0s 7ms/step - loss: 1.8800e-04\n",
      "Epoch 92/97\n",
      "69/69 [==============================] - 0s 7ms/step - loss: 1.8994e-04\n",
      "Epoch 93/97\n",
      "69/69 [==============================] - 0s 7ms/step - loss: 1.8581e-04\n",
      "Epoch 94/97\n",
      "69/69 [==============================] - 0s 7ms/step - loss: 2.0672e-04\n",
      "Epoch 95/97\n",
      "69/69 [==============================] - 0s 7ms/step - loss: 2.1798e-04\n",
      "Epoch 96/97\n",
      "69/69 [==============================] - 0s 7ms/step - loss: 2.4860e-04\n",
      "Epoch 97/97\n",
      "69/69 [==============================] - 0s 7ms/step - loss: 2.0392e-04\n"
     ]
    }
   ],
   "source": [
    "train_and_val = np.concatenate([btc_train[0] , btc_val[0]] )\n",
    "train_and_val_targets = np.concatenate([btc_train[1] , btc_val[1] ])\n",
    "\n",
    "freshModel = tf.keras.Model(inputs=inputs, outputs= final)\n",
    "\n",
    "freshModel.compile(optimizer=opt , loss = 'mse')\n",
    "final = freshModel.fit(train_and_val , train_and_val_targets , batch_size = 512  , epochs = num_epochs )"
   ]
  },
  {
   "cell_type": "markdown",
   "id": "3476d1d1",
   "metadata": {},
   "source": [
    "<Strong> Finally testing on test set and grabbing evaluation metrics - 1 day </Strong>"
   ]
  },
  {
   "cell_type": "code",
   "execution_count": 39,
   "id": "2b1273fd",
   "metadata": {},
   "outputs": [],
   "source": [
    "#test_predict = scaler.inverse_transform(test_predict)\n",
    "#test_actual = scaler.inverse_transform(btc_test[1])\n",
    "\n",
    "test_predict = freshModel.predict(btc_test[0])\n",
    "test_actual = btc_test[1]"
   ]
  },
  {
   "cell_type": "code",
   "execution_count": 40,
   "id": "9ab2e832",
   "metadata": {},
   "outputs": [
    {
     "name": "stdout",
     "output_type": "stream",
     "text": [
      "718.1489084726728\n",
      "0.013606568978731784\n",
      "858.0253981839403\n",
      "736207.5839287094\n"
     ]
    }
   ],
   "source": [
    "print(mean_absolute_error(test_actual , test_predict))\n",
    "print(mean_absolute_percentage_error(test_actual , test_predict))\n",
    "print(mean_squared_error(test_actual , test_predict , squared = False))\n",
    "print(mean_squared_error(test_actual , test_predict))"
   ]
  },
  {
   "cell_type": "markdown",
   "id": "d132f852",
   "metadata": {},
   "source": [
    "<Strong> For Predicting more than 1 day in the future - Test Set. </Strong>"
   ]
  },
  {
   "cell_type": "code",
   "execution_count": 41,
   "id": "c9b3a5d9",
   "metadata": {},
   "outputs": [],
   "source": [
    "def steps_in_future(hours_in_future , data):\n",
    "    \n",
    "    #All the hours_in_future time predictions\n",
    "    predictions = []\n",
    "    \n",
    "    # Have to cut off the (hours_in_future - 1) off the test set to avoid out of bounds error\n",
    "    test_data = data[0][:-(hours_in_future - 1)]\n",
    "    \n",
    "    for x in range (len(test_data)):\n",
    "        #Going through all the windows\n",
    "        last_window = test_data[x].reshape(1,-1)\n",
    "    \n",
    "            # Make as many predictions as hours_in_future\n",
    "        for i in range(hours_in_future):\n",
    "            \n",
    "            # Take the predicted value from the last window in training set\n",
    "            last_prediction = model.predict(last_window)[0]\n",
    "\n",
    "            #shifting the window size one step down\n",
    "            last_window[0] = np.roll(last_window[0], -1)\n",
    "\n",
    "            #replacing the old value with new prediction\n",
    "            last_window[0 , (len(last_window[0]) - 1)] = last_prediction\n",
    "\n",
    "        #append prediction\n",
    "        predictions.append(last_prediction)\n",
    "    \n",
    "    return predictions"
   ]
  },
  {
   "cell_type": "code",
   "execution_count": 42,
   "id": "e4f6151e",
   "metadata": {},
   "outputs": [],
   "source": [
    "three_day_predictions = steps_in_future(3, btc_test)\n",
    "five_day_predictions = steps_in_future(5, btc_test)\n",
    "seven_day_predictions = steps_in_future( 7, btc_test)\n",
    "nine_day_predictions = steps_in_future( 9, btc_test)\n",
    "eleven_day_predictions = steps_in_future( 11, btc_test)"
   ]
  },
  {
   "cell_type": "code",
   "execution_count": 43,
   "id": "9c3f82f4",
   "metadata": {},
   "outputs": [],
   "source": [
    "#scaled_three_day_predictions = scaler.inverse_transform(three_day_predictions)\n",
    "#scaled_five_day_predictions = scaler.inverse_transform(five_day_predictions)\n",
    "#scaled_seven_day_predictions = scaler.inverse_transform(seven_day_predictions)\n",
    "#scaled_nine_day_predictions = scaler.inverse_transform(nine_day_predictions)\n",
    "#scaled_eleven_day_predictions = scaler.inverse_transform(eleven_day_predictions)"
   ]
  },
  {
   "cell_type": "code",
   "execution_count": 45,
   "id": "7240acea",
   "metadata": {},
   "outputs": [],
   "source": [
    "# Targets to compare  \n",
    "\n",
    "targets_in_future_three = btc_test[1][(3 - 1):]\n",
    "targets_in_future_five = btc_test[1][(5 - 1):]\n",
    "targets_in_future_seven = btc_test[1][(7 - 1):]\n",
    "targets_in_future_nine = btc_test[1][(9 - 1):]\n",
    "targets_in_future_eleven = btc_test[1][(11 - 1):]"
   ]
  },
  {
   "cell_type": "code",
   "execution_count": 46,
   "id": "19e956c8",
   "metadata": {},
   "outputs": [],
   "source": [
    "def get_eval_metrics(num_days , actual , results):\n",
    "    \n",
    "    mae = mean_absolute_error(actual , results)\n",
    "    mse = mean_squared_error(actual , results )\n",
    "    rmse = mean_squared_error(actual , results , squared = False)\n",
    "    mape = mean_absolute_percentage_error(actual , results)\n",
    "\n",
    "    print(num_days , \"MAE :\" , mae ,\"MSE :\" , mse , \"RMSE :\" , rmse , \"MAPE :\" , mape)\n",
    "\n",
    "    return mae , mse , rmse , mape"
   ]
  },
  {
   "cell_type": "code",
   "execution_count": 48,
   "id": "bcdc7082",
   "metadata": {},
   "outputs": [
    {
     "name": "stdout",
     "output_type": "stream",
     "text": [
      "Three Hour Forecast MAE : 1937.2873043323616 MSE : 4845596.209604324 RMSE : 2201.2714983854953 MAPE : 0.03678470048901299\n",
      "Five Hour Forecast MAE : 4371.369672436655 MSE : 22567175.544741116 RMSE : 4750.492137109703 MAPE : 0.08373141396933602\n",
      "Seven Hour Forecast MAE : 7073.570467178011 MSE : 57344070.114500284 RMSE : 7572.586751863611 MAPE : 0.1360690818063687\n",
      "Nine Hour Forecast MAE : 10019.666968514392 MSE : 112994088.44807273 RMSE : 10629.86775308483 MAPE : 0.19338272879582746\n",
      "Eleven Hour Forecast MAE : 13036.373492802204 MSE : 188914633.26915896 RMSE : 13744.62197621888 MAPE : 0.25222003058676495\n"
     ]
    }
   ],
   "source": [
    "three_days_mae , three_days_mse , three_days_rmse , three_days_mape = get_eval_metrics(\"Three Hour Forecast\" , targets_in_future_three , three_day_predictions)\n",
    "five_days_mae , five_days_mse , five_days_rmse , five_days_mape = get_eval_metrics(\"Five Hour Forecast\" , targets_in_future_five , five_day_predictions)\n",
    "seven_days_mae , seven_days_mse , seven_days_rmse , seven_days_mape = get_eval_metrics(\"Seven Hour Forecast\" , targets_in_future_seven , seven_day_predictions)\n",
    "nine_days_mae , nine_days_mse , nine_days_rmse , nine_days_mape = get_eval_metrics(\"Nine Hour Forecast\" , targets_in_future_nine , nine_day_predictions)\n",
    "eleven_days_mae , eleven_days_mse , eleven_days_rmse , eleven_days_mape = get_eval_metrics(\"Eleven Hour Forecast\" , targets_in_future_eleven , eleven_day_predictions)\n"
   ]
  },
  {
   "cell_type": "code",
   "execution_count": null,
   "id": "8af7d20a",
   "metadata": {},
   "outputs": [],
   "source": []
  }
 ],
 "metadata": {
  "kernelspec": {
   "display_name": "Python 3 (ipykernel)",
   "language": "python",
   "name": "python3"
  },
  "language_info": {
   "codemirror_mode": {
    "name": "ipython",
    "version": 3
   },
   "file_extension": ".py",
   "mimetype": "text/x-python",
   "name": "python",
   "nbconvert_exporter": "python",
   "pygments_lexer": "ipython3",
   "version": "3.7.0"
  }
 },
 "nbformat": 4,
 "nbformat_minor": 5
}
