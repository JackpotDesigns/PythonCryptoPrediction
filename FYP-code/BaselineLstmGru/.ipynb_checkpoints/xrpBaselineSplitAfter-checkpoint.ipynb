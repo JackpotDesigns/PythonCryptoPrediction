{
 "cells": [
  {
   "cell_type": "code",
   "execution_count": 30,
   "id": "56f0a547",
   "metadata": {},
   "outputs": [],
   "source": [
    "import pandas as pd\n",
    "import numpy as np\n",
    "import math\n",
    "import tensorflow as tf\n",
    "from tensorflow.keras.utils import plot_model\n",
    "from matplotlib import pyplot as plt\n",
    "from tensorflow.keras.models import Sequential \n",
    "from tensorflow.keras import layers\n",
    "from tensorflow.keras.optimizers import RMSprop , Adam\n",
    "import os\n",
    "from sklearn.metrics import mean_squared_error, mean_absolute_error , mean_absolute_percentage_error\n",
    "from sklearn.preprocessing import MinMaxScaler\n",
    "from tensorflow.keras.preprocessing.sequence import TimeseriesGenerator\n",
    "from tensorflow.keras.layers import LSTM , Dense , Dropout , GRU , Concatenate , Input , Conv1D , InputLayer\n",
    "from tensorflow.keras import models\n",
    "from tensorflow.keras.callbacks import EarlyStopping"
   ]
  },
  {
   "cell_type": "markdown",
   "id": "947652df",
   "metadata": {},
   "source": [
    "<Strong> Grabbing the data from stored files (originally pulled from Binance) </Strong>"
   ]
  },
  {
   "cell_type": "code",
   "execution_count": 31,
   "id": "1fe63049",
   "metadata": {},
   "outputs": [],
   "source": [
    "df_xrp = pd.read_csv(\"XRP_1h_data.csv\")"
   ]
  },
  {
   "cell_type": "code",
   "execution_count": 32,
   "id": "63c93ce3",
   "metadata": {},
   "outputs": [
    {
     "data": {
      "text/html": [
       "<div>\n",
       "<style scoped>\n",
       "    .dataframe tbody tr th:only-of-type {\n",
       "        vertical-align: middle;\n",
       "    }\n",
       "\n",
       "    .dataframe tbody tr th {\n",
       "        vertical-align: top;\n",
       "    }\n",
       "\n",
       "    .dataframe thead th {\n",
       "        text-align: right;\n",
       "    }\n",
       "</style>\n",
       "<table border=\"1\" class=\"dataframe\">\n",
       "  <thead>\n",
       "    <tr style=\"text-align: right;\">\n",
       "      <th></th>\n",
       "      <th>date</th>\n",
       "      <th>open</th>\n",
       "      <th>high</th>\n",
       "      <th>low</th>\n",
       "      <th>close</th>\n",
       "      <th>volume</th>\n",
       "    </tr>\n",
       "  </thead>\n",
       "  <tbody>\n",
       "    <tr>\n",
       "      <th>0</th>\n",
       "      <td>2018-05-04 08:00:00</td>\n",
       "      <td>0.50000</td>\n",
       "      <td>1.50000</td>\n",
       "      <td>0.5000</td>\n",
       "      <td>0.92300</td>\n",
       "      <td>5090857.33</td>\n",
       "    </tr>\n",
       "    <tr>\n",
       "      <th>1</th>\n",
       "      <td>2018-05-04 09:00:00</td>\n",
       "      <td>0.92300</td>\n",
       "      <td>0.92850</td>\n",
       "      <td>0.9010</td>\n",
       "      <td>0.90199</td>\n",
       "      <td>3326696.10</td>\n",
       "    </tr>\n",
       "    <tr>\n",
       "      <th>2</th>\n",
       "      <td>2018-05-04 10:00:00</td>\n",
       "      <td>0.90199</td>\n",
       "      <td>0.91027</td>\n",
       "      <td>0.8951</td>\n",
       "      <td>0.90128</td>\n",
       "      <td>1176810.48</td>\n",
       "    </tr>\n",
       "    <tr>\n",
       "      <th>3</th>\n",
       "      <td>2018-05-04 11:00:00</td>\n",
       "      <td>0.90128</td>\n",
       "      <td>0.92130</td>\n",
       "      <td>0.8800</td>\n",
       "      <td>0.91596</td>\n",
       "      <td>1714233.92</td>\n",
       "    </tr>\n",
       "    <tr>\n",
       "      <th>4</th>\n",
       "      <td>2018-05-04 12:00:00</td>\n",
       "      <td>0.91596</td>\n",
       "      <td>0.92450</td>\n",
       "      <td>0.9000</td>\n",
       "      <td>0.90098</td>\n",
       "      <td>1323800.17</td>\n",
       "    </tr>\n",
       "    <tr>\n",
       "      <th>...</th>\n",
       "      <td>...</td>\n",
       "      <td>...</td>\n",
       "      <td>...</td>\n",
       "      <td>...</td>\n",
       "      <td>...</td>\n",
       "      <td>...</td>\n",
       "    </tr>\n",
       "    <tr>\n",
       "      <th>33012</th>\n",
       "      <td>2022-02-11 10:00:00</td>\n",
       "      <td>0.81860</td>\n",
       "      <td>0.82180</td>\n",
       "      <td>0.8105</td>\n",
       "      <td>0.81860</td>\n",
       "      <td>13705481.00</td>\n",
       "    </tr>\n",
       "    <tr>\n",
       "      <th>33013</th>\n",
       "      <td>2022-02-11 11:00:00</td>\n",
       "      <td>0.81850</td>\n",
       "      <td>0.82080</td>\n",
       "      <td>0.8138</td>\n",
       "      <td>0.81510</td>\n",
       "      <td>7748847.00</td>\n",
       "    </tr>\n",
       "    <tr>\n",
       "      <th>33014</th>\n",
       "      <td>2022-02-11 12:00:00</td>\n",
       "      <td>0.81510</td>\n",
       "      <td>0.82120</td>\n",
       "      <td>0.8125</td>\n",
       "      <td>0.81660</td>\n",
       "      <td>16123801.00</td>\n",
       "    </tr>\n",
       "    <tr>\n",
       "      <th>33015</th>\n",
       "      <td>2022-02-11 13:00:00</td>\n",
       "      <td>0.81650</td>\n",
       "      <td>0.83390</td>\n",
       "      <td>0.8147</td>\n",
       "      <td>0.82320</td>\n",
       "      <td>24000643.00</td>\n",
       "    </tr>\n",
       "    <tr>\n",
       "      <th>33016</th>\n",
       "      <td>2022-02-11 14:00:00</td>\n",
       "      <td>0.82320</td>\n",
       "      <td>0.82750</td>\n",
       "      <td>0.8167</td>\n",
       "      <td>0.82160</td>\n",
       "      <td>9893424.00</td>\n",
       "    </tr>\n",
       "  </tbody>\n",
       "</table>\n",
       "<p>33017 rows × 6 columns</p>\n",
       "</div>"
      ],
      "text/plain": [
       "                      date     open     high     low    close       volume\n",
       "0      2018-05-04 08:00:00  0.50000  1.50000  0.5000  0.92300   5090857.33\n",
       "1      2018-05-04 09:00:00  0.92300  0.92850  0.9010  0.90199   3326696.10\n",
       "2      2018-05-04 10:00:00  0.90199  0.91027  0.8951  0.90128   1176810.48\n",
       "3      2018-05-04 11:00:00  0.90128  0.92130  0.8800  0.91596   1714233.92\n",
       "4      2018-05-04 12:00:00  0.91596  0.92450  0.9000  0.90098   1323800.17\n",
       "...                    ...      ...      ...     ...      ...          ...\n",
       "33012  2022-02-11 10:00:00  0.81860  0.82180  0.8105  0.81860  13705481.00\n",
       "33013  2022-02-11 11:00:00  0.81850  0.82080  0.8138  0.81510   7748847.00\n",
       "33014  2022-02-11 12:00:00  0.81510  0.82120  0.8125  0.81660  16123801.00\n",
       "33015  2022-02-11 13:00:00  0.81650  0.83390  0.8147  0.82320  24000643.00\n",
       "33016  2022-02-11 14:00:00  0.82320  0.82750  0.8167  0.82160   9893424.00\n",
       "\n",
       "[33017 rows x 6 columns]"
      ]
     },
     "execution_count": 32,
     "metadata": {},
     "output_type": "execute_result"
    }
   ],
   "source": [
    "df_xrp"
   ]
  },
  {
   "cell_type": "code",
   "execution_count": 33,
   "id": "9bde6969",
   "metadata": {},
   "outputs": [],
   "source": [
    "df_headers = df_xrp.columns"
   ]
  },
  {
   "cell_type": "markdown",
   "id": "c68634f1",
   "metadata": {},
   "source": [
    "<Strong> Grabbing the closing price (univariate) </Strong>"
   ]
  },
  {
   "cell_type": "code",
   "execution_count": 34,
   "id": "512d2ff6",
   "metadata": {},
   "outputs": [
    {
     "data": {
      "text/plain": [
       "33017"
      ]
     },
     "execution_count": 34,
     "metadata": {},
     "output_type": "execute_result"
    }
   ],
   "source": [
    "# Removing everything but the closing price\n",
    "xrp_data = df_xrp.values[:, 4 ,].astype(float)\n",
    "\n",
    "len(xrp_data)"
   ]
  },
  {
   "cell_type": "markdown",
   "id": "0ff079aa",
   "metadata": {},
   "source": [
    "<Strong> Scaling the data  </Strong>"
   ]
  },
  {
   "cell_type": "code",
   "execution_count": 35,
   "id": "d604e42f",
   "metadata": {},
   "outputs": [],
   "source": [
    "percTrain = 70\n",
    "percVal = 20 "
   ]
  },
  {
   "cell_type": "code",
   "execution_count": 36,
   "id": "81b6f812",
   "metadata": {},
   "outputs": [],
   "source": [
    "onePercent = len(xrp_data) // 100\n",
    "numberTraining = onePercent * percTrain\n",
    "\n",
    "scaler = MinMaxScaler()\n",
    "reshaped_data = xrp_data.reshape(-1,1)\n",
    "\n",
    "#Just scaling on training data otherwise it would be leakage\n",
    "scaler.fit(reshaped_data[:numberTraining])\n",
    "scaled_xrp = scaler.transform(reshaped_data)"
   ]
  },
  {
   "cell_type": "markdown",
   "id": "2a6a4ccd",
   "metadata": {},
   "source": [
    "<Strong> Creating Matrix in Sliding window form <Strong>"
   ]
  },
  {
   "cell_type": "code",
   "execution_count": 37,
   "id": "ddf6b3da",
   "metadata": {},
   "outputs": [],
   "source": [
    "def sliding_window(elements, window_size):\n",
    "    \n",
    "    data = [] \n",
    "    targets = []\n",
    "    \n",
    "    if len(elements) <= window_size:\n",
    "        return elements\n",
    "    \n",
    "    for i in range(len(elements) - window_size ):\n",
    "        \n",
    "        data.append(elements[i:i+window_size])\n",
    "        targets.append(elements[i+window_size])\n",
    "        \n",
    "    return np.array(data) , np.array(targets)"
   ]
  },
  {
   "cell_type": "code",
   "execution_count": 38,
   "id": "71ddaa81",
   "metadata": {},
   "outputs": [],
   "source": [
    "window_length = 24\n",
    "features = 1\n",
    "\n",
    "sliding_winda_xrp = sliding_window(scaled_xrp , window_length)"
   ]
  },
  {
   "cell_type": "markdown",
   "id": "82fef525",
   "metadata": {},
   "source": [
    "<Strong> Splitting the data after we create Sliding Window matrix (more data) </Strong>"
   ]
  },
  {
   "cell_type": "code",
   "execution_count": 39,
   "id": "1731b98f",
   "metadata": {},
   "outputs": [],
   "source": [
    "# Splitting the data after creating the sliding window data\n",
    "\n",
    "def splitting_train_test(data):\n",
    "        \n",
    "    onePercent = len(data[1]) // 100\n",
    "    \n",
    "    numberTraining = onePercent * percTrain\n",
    "    numberValidation = onePercent * percVal\n",
    "    \n",
    "    trainingData = data[0][:numberTraining] , data[1][:numberTraining]\n",
    "    validationData = data[0][numberTraining : numberTraining + numberValidation] , data[1][numberTraining : numberTraining + numberValidation]\n",
    "    testData = data[0][numberTraining + numberValidation:] , data[1][numberTraining + numberValidation:] \n",
    "    \n",
    "    #Returning tuples of (sliding-window , target_values)\n",
    "    return trainingData , validationData , testData"
   ]
  },
  {
   "cell_type": "code",
   "execution_count": 40,
   "id": "05f85f5e",
   "metadata": {},
   "outputs": [
    {
     "name": "stdout",
     "output_type": "stream",
     "text": [
      "(23030, 24, 1)\n"
     ]
    }
   ],
   "source": [
    "#Reshaping the data so we can use min-max a\n",
    "xrp_train , xrp_val , xrp_test = splitting_train_test(sliding_winda_xrp)\n",
    "\n",
    "print(xrp_train[0].shape)"
   ]
  },
  {
   "cell_type": "markdown",
   "id": "c9a800f1",
   "metadata": {},
   "source": [
    "<Strong> Creating the model </Strong>"
   ]
  },
  {
   "cell_type": "code",
   "execution_count": 41,
   "id": "844b2b39",
   "metadata": {},
   "outputs": [
    {
     "name": "stdout",
     "output_type": "stream",
     "text": [
      "Model: \"model_2\"\n",
      "__________________________________________________________________________________________________\n",
      " Layer (type)                   Output Shape         Param #     Connected to                     \n",
      "==================================================================================================\n",
      " input_3 (InputLayer)           [(None, 24, 1)]      0           []                               \n",
      "                                                                                                  \n",
      " lstm_4 (LSTM)                  (None, 24, 30)       3840        ['input_3[0][0]']                \n",
      "                                                                                                  \n",
      " dropout_4 (Dropout)            (None, 24, 30)       0           ['lstm_4[0][0]']                 \n",
      "                                                                                                  \n",
      " gru_2 (GRU)                    (None, 30)           2970        ['input_3[0][0]']                \n",
      "                                                                                                  \n",
      " lstm_5 (LSTM)                  (None, 50)           16200       ['dropout_4[0][0]']              \n",
      "                                                                                                  \n",
      " dropout_5 (Dropout)            (None, 30)           0           ['gru_2[0][0]']                  \n",
      "                                                                                                  \n",
      " dense_6 (Dense)                (None, 128)          6528        ['lstm_5[0][0]']                 \n",
      "                                                                                                  \n",
      " dense_7 (Dense)                (None, 128)          3968        ['dropout_5[0][0]']              \n",
      "                                                                                                  \n",
      " concatenate_2 (Concatenate)    (None, 256)          0           ['dense_6[0][0]',                \n",
      "                                                                  'dense_7[0][0]']                \n",
      "                                                                                                  \n",
      " dense_8 (Dense)                (None, 1)            257         ['concatenate_2[0][0]']          \n",
      "                                                                                                  \n",
      "==================================================================================================\n",
      "Total params: 33,763\n",
      "Trainable params: 33,763\n",
      "Non-trainable params: 0\n",
      "__________________________________________________________________________________________________\n"
     ]
    },
    {
     "data": {
      "image/png": "[encoded data removed]",
      "text/plain": [
       "<IPython.core.display.Image object>"
      ]
     },
     "execution_count": 41,
     "metadata": {},
     "output_type": "execute_result"
    }
   ],
   "source": [
    "inputs = Input(shape = (window_length , features) )\n",
    "\n",
    "#From deep learning in python -- better to use recurrent dropout so error propergates correctly\n",
    "x = LSTM(30 , return_sequences = True )(inputs)\n",
    "x = Dropout(0.03)(x) \n",
    "x = LSTM(50)(x)\n",
    "x = Dense(128 , activation=layers.LeakyReLU(alpha=0.01))(x)\n",
    "\n",
    "y = GRU(30,input_shape=(window_length , features))(inputs)\n",
    "y = Dropout(0.03)(y)\n",
    "y = Dense(128 , activation=layers.LeakyReLU(alpha=0.01))(y)\n",
    "\n",
    "final = Concatenate()([x,y])\n",
    "final = Dense(1)(final)\n",
    "\n",
    "model = tf.keras.Model(inputs=inputs, outputs= final)\n",
    "\n",
    "model.summary()\n",
    "plot_model(model)"
   ]
  },
  {
   "cell_type": "markdown",
   "id": "c74b3ee9",
   "metadata": {},
   "source": [
    "<Strong> Compiling the model </Strong>"
   ]
  },
  {
   "cell_type": "code",
   "execution_count": 42,
   "id": "1a6b9595",
   "metadata": {},
   "outputs": [],
   "source": [
    "opt = Adam(0.008)\n",
    "model.compile(optimizer=opt , loss = 'mse')"
   ]
  },
  {
   "cell_type": "markdown",
   "id": "9dc61f0c",
   "metadata": {},
   "source": [
    "<Strong> Creating a callback to avail of early stopping </Strong>"
   ]
  },
  {
   "cell_type": "code",
   "execution_count": 43,
   "id": "13e47c48",
   "metadata": {},
   "outputs": [],
   "source": [
    "earlyStopping = EarlyStopping(monitor = 'val_loss' , patience = 30 , mode = 'min' , verbose = 1)"
   ]
  },
  {
   "cell_type": "markdown",
   "id": "b11e13e2",
   "metadata": {},
   "source": [
    "<Strong> Training the model and storing the epoch training stopped on </Strong>"
   ]
  },
  {
   "cell_type": "code",
   "execution_count": 44,
   "id": "924e1f60",
   "metadata": {},
   "outputs": [
    {
     "name": "stdout",
     "output_type": "stream",
     "text": [
      "Epoch 1/300\n",
      "45/45 [==============================] - 5s 30ms/step - loss: 0.0091 - val_loss: 0.0020\n",
      "Epoch 2/300\n",
      "45/45 [==============================] - 0s 8ms/step - loss: 1.5187e-04 - val_loss: 9.9479e-04\n",
      "Epoch 3/300\n",
      "45/45 [==============================] - 0s 9ms/step - loss: 1.0334e-04 - val_loss: 0.0011\n",
      "Epoch 4/300\n",
      "45/45 [==============================] - 0s 9ms/step - loss: 8.2953e-05 - val_loss: 9.3991e-04\n",
      "Epoch 5/300\n",
      "45/45 [==============================] - 0s 8ms/step - loss: 7.1165e-05 - val_loss: 9.2176e-04\n",
      "Epoch 6/300\n",
      "45/45 [==============================] - 0s 8ms/step - loss: 6.0174e-05 - val_loss: 6.2323e-04\n",
      "Epoch 7/300\n",
      "45/45 [==============================] - 0s 9ms/step - loss: 5.7214e-05 - val_loss: 5.2941e-04\n",
      "Epoch 8/300\n",
      "45/45 [==============================] - 0s 9ms/step - loss: 5.7422e-05 - val_loss: 6.3288e-04\n",
      "Epoch 9/300\n",
      "45/45 [==============================] - 0s 8ms/step - loss: 5.2611e-05 - val_loss: 8.2150e-04\n",
      "Epoch 10/300\n",
      "45/45 [==============================] - 0s 8ms/step - loss: 5.2037e-05 - val_loss: 6.6059e-04\n",
      "Epoch 11/300\n",
      "45/45 [==============================] - 0s 8ms/step - loss: 4.7983e-05 - val_loss: 7.4144e-04\n",
      "Epoch 12/300\n",
      "45/45 [==============================] - 0s 8ms/step - loss: 4.7788e-05 - val_loss: 0.0014\n",
      "Epoch 13/300\n",
      "45/45 [==============================] - 0s 8ms/step - loss: 5.6255e-05 - val_loss: 0.0013\n",
      "Epoch 14/300\n",
      "45/45 [==============================] - 0s 9ms/step - loss: 4.5747e-05 - val_loss: 7.4651e-04\n",
      "Epoch 15/300\n",
      "45/45 [==============================] - 0s 8ms/step - loss: 4.6812e-05 - val_loss: 0.0012\n",
      "Epoch 16/300\n",
      "45/45 [==============================] - 0s 8ms/step - loss: 4.3934e-05 - val_loss: 0.0013\n",
      "Epoch 17/300\n",
      "45/45 [==============================] - 1s 14ms/step - loss: 4.3425e-05 - val_loss: 0.0012\n",
      "Epoch 18/300\n",
      "45/45 [==============================] - 1s 13ms/step - loss: 4.2681e-05 - val_loss: 0.0016\n",
      "Epoch 19/300\n",
      "45/45 [==============================] - 0s 9ms/step - loss: 4.2559e-05 - val_loss: 0.0013\n",
      "Epoch 20/300\n",
      "45/45 [==============================] - 0s 8ms/step - loss: 4.2489e-05 - val_loss: 0.0015\n",
      "Epoch 21/300\n",
      "45/45 [==============================] - 0s 8ms/step - loss: 4.2647e-05 - val_loss: 0.0015\n",
      "Epoch 22/300\n",
      "45/45 [==============================] - 0s 8ms/step - loss: 4.6132e-05 - val_loss: 0.0015\n",
      "Epoch 23/300\n",
      "45/45 [==============================] - 0s 9ms/step - loss: 4.1899e-05 - val_loss: 0.0018\n",
      "Epoch 24/300\n",
      "45/45 [==============================] - 0s 8ms/step - loss: 4.4138e-05 - val_loss: 0.0015\n",
      "Epoch 25/300\n",
      "45/45 [==============================] - 0s 8ms/step - loss: 4.0811e-05 - val_loss: 0.0016\n",
      "Epoch 26/300\n",
      "45/45 [==============================] - 0s 8ms/step - loss: 4.0806e-05 - val_loss: 0.0018\n",
      "Epoch 27/300\n",
      "45/45 [==============================] - 0s 9ms/step - loss: 3.8790e-05 - val_loss: 0.0012\n",
      "Epoch 28/300\n",
      "45/45 [==============================] - 0s 8ms/step - loss: 4.3208e-05 - val_loss: 0.0015\n",
      "Epoch 29/300\n",
      "45/45 [==============================] - 0s 8ms/step - loss: 4.3669e-05 - val_loss: 0.0012\n",
      "Epoch 30/300\n",
      "45/45 [==============================] - 0s 8ms/step - loss: 4.3583e-05 - val_loss: 0.0021\n",
      "Epoch 31/300\n",
      "45/45 [==============================] - 0s 8ms/step - loss: 4.5775e-05 - val_loss: 0.0018\n",
      "Epoch 32/300\n",
      "45/45 [==============================] - 0s 8ms/step - loss: 4.0106e-05 - val_loss: 0.0015\n",
      "Epoch 33/300\n",
      "45/45 [==============================] - 0s 8ms/step - loss: 4.4028e-05 - val_loss: 0.0015\n",
      "Epoch 34/300\n",
      "45/45 [==============================] - 0s 8ms/step - loss: 4.4177e-05 - val_loss: 0.0012\n",
      "Epoch 35/300\n",
      "45/45 [==============================] - 0s 8ms/step - loss: 5.7387e-05 - val_loss: 8.8842e-04\n",
      "Epoch 36/300\n",
      "45/45 [==============================] - 0s 8ms/step - loss: 4.8540e-05 - val_loss: 0.0014\n",
      "Epoch 37/300\n",
      "45/45 [==============================] - 0s 8ms/step - loss: 4.3972e-05 - val_loss: 0.0012\n",
      "Epoch 37: early stopping\n"
     ]
    }
   ],
   "source": [
    "#Validation set needs to be in a tuple with x , y\n",
    "\n",
    "history = model.fit(xrp_train[0] , xrp_train[1] , validation_data = xrp_val  , batch_size = 512  , epochs =300 , verbose = 1 , callbacks=[earlyStopping])\n",
    "num_epochs = earlyStopping.stopped_epoch\n"
   ]
  },
  {
   "cell_type": "code",
   "execution_count": 45,
   "id": "c1b6a246",
   "metadata": {},
   "outputs": [
    {
     "data": {
      "image/png": "[encoded data removed]",
      "text/plain": [
       "<Figure size 432x288 with 1 Axes>"
      ]
     },
     "metadata": {
      "needs_background": "light"
     },
     "output_type": "display_data"
    }
   ],
   "source": [
    "plt.plot(history.history['loss'])\n",
    "plt.plot(history.history['val_loss'])\n",
    "plt.title('model loss')\n",
    "plt.ylabel('loss')\n",
    "plt.xlabel('epoch')\n",
    "plt.legend(['train', 'val'], loc='upper left')\n",
    "plt.show()"
   ]
  },
  {
   "cell_type": "markdown",
   "id": "e5c0bac5",
   "metadata": {},
   "source": [
    "<Strong> Testing on the validation data once again , hyper-parameter adjustment. <Strong>"
   ]
  },
  {
   "cell_type": "code",
   "execution_count": 46,
   "id": "4bda98c7",
   "metadata": {},
   "outputs": [
    {
     "data": {
      "text/plain": [
       "0.0007636307954469593"
      ]
     },
     "execution_count": 46,
     "metadata": {},
     "output_type": "execute_result"
    }
   ],
   "source": [
    "validation_predict = model.predict(xrp_val[0])\n",
    "validation_predict = scaler.inverse_transform(validation_predict)\n",
    "\n",
    "#Transforming the targets back to original values\n",
    "validation_actual = scaler.inverse_transform(xrp_val[1])\n",
    "mean_squared_error(validation_actual , validation_predict)"
   ]
  },
  {
   "cell_type": "markdown",
   "id": "155877db",
   "metadata": {},
   "source": [
    "<Strong> Combining the train and validation set when perfected hyper-parameters and training on fresh model. </Strong>"
   ]
  },
  {
   "cell_type": "code",
   "execution_count": 47,
   "id": "6c405994",
   "metadata": {},
   "outputs": [
    {
     "name": "stdout",
     "output_type": "stream",
     "text": [
      "Epoch 1/36\n",
      "58/58 [==============================] - 3s 8ms/step - loss: 0.0039\n",
      "Epoch 2/36\n",
      "58/58 [==============================] - 0s 7ms/step - loss: 3.6878e-04\n",
      "Epoch 3/36\n",
      "58/58 [==============================] - 0s 7ms/step - loss: 2.6256e-04\n",
      "Epoch 4/36\n",
      "58/58 [==============================] - 0s 7ms/step - loss: 2.5985e-04\n",
      "Epoch 5/36\n",
      "58/58 [==============================] - 0s 7ms/step - loss: 2.2298e-04\n",
      "Epoch 6/36\n",
      "58/58 [==============================] - 0s 7ms/step - loss: 1.9266e-04\n",
      "Epoch 7/36\n",
      "58/58 [==============================] - 0s 7ms/step - loss: 1.9187e-04\n",
      "Epoch 8/36\n",
      "58/58 [==============================] - 0s 7ms/step - loss: 1.9519e-04\n",
      "Epoch 9/36\n",
      "58/58 [==============================] - 0s 7ms/step - loss: 1.8325e-04\n",
      "Epoch 10/36\n",
      "58/58 [==============================] - 0s 7ms/step - loss: 1.7567e-04\n",
      "Epoch 11/36\n",
      "58/58 [==============================] - 0s 7ms/step - loss: 1.9246e-04\n",
      "Epoch 12/36\n",
      "58/58 [==============================] - 0s 7ms/step - loss: 1.7991e-04\n",
      "Epoch 13/36\n",
      "58/58 [==============================] - 0s 7ms/step - loss: 1.6877e-04\n",
      "Epoch 14/36\n",
      "58/58 [==============================] - 0s 7ms/step - loss: 1.7958e-04\n",
      "Epoch 15/36\n",
      "58/58 [==============================] - 0s 7ms/step - loss: 1.6230e-04\n",
      "Epoch 16/36\n",
      "58/58 [==============================] - 0s 7ms/step - loss: 1.6942e-04\n",
      "Epoch 17/36\n",
      "58/58 [==============================] - 0s 7ms/step - loss: 1.8125e-04\n",
      "Epoch 18/36\n",
      "58/58 [==============================] - 0s 7ms/step - loss: 1.7537e-04\n",
      "Epoch 19/36\n",
      "58/58 [==============================] - 0s 7ms/step - loss: 1.7606e-04\n",
      "Epoch 20/36\n",
      "58/58 [==============================] - 1s 13ms/step - loss: 1.6436e-04\n",
      "Epoch 21/36\n",
      "58/58 [==============================] - 1s 10ms/step - loss: 1.7018e-04\n",
      "Epoch 22/36\n",
      "58/58 [==============================] - 0s 7ms/step - loss: 1.8495e-04\n",
      "Epoch 23/36\n",
      "58/58 [==============================] - 0s 7ms/step - loss: 1.8175e-04\n",
      "Epoch 24/36\n",
      "58/58 [==============================] - 0s 7ms/step - loss: 1.7092e-04\n",
      "Epoch 25/36\n",
      "58/58 [==============================] - 0s 7ms/step - loss: 1.6403e-04\n",
      "Epoch 26/36\n",
      "58/58 [==============================] - 0s 7ms/step - loss: 1.6327e-04\n",
      "Epoch 27/36\n",
      "58/58 [==============================] - 0s 7ms/step - loss: 1.5850e-04\n",
      "Epoch 28/36\n",
      "58/58 [==============================] - 0s 7ms/step - loss: 1.7322e-04\n",
      "Epoch 29/36\n",
      "58/58 [==============================] - 0s 7ms/step - loss: 1.7535e-04\n",
      "Epoch 30/36\n",
      "58/58 [==============================] - 0s 7ms/step - loss: 1.6112e-04\n",
      "Epoch 31/36\n",
      "58/58 [==============================] - 0s 7ms/step - loss: 1.9764e-04\n",
      "Epoch 32/36\n",
      "58/58 [==============================] - 0s 7ms/step - loss: 1.6828e-04\n",
      "Epoch 33/36\n",
      "58/58 [==============================] - 0s 7ms/step - loss: 1.6220e-04\n",
      "Epoch 34/36\n",
      "58/58 [==============================] - 0s 7ms/step - loss: 1.7855e-04\n",
      "Epoch 35/36\n",
      "58/58 [==============================] - 0s 7ms/step - loss: 1.6414e-04\n",
      "Epoch 36/36\n",
      "58/58 [==============================] - 0s 7ms/step - loss: 1.7333e-04\n"
     ]
    }
   ],
   "source": [
    "train_and_val = np.concatenate([xrp_train[0] , xrp_val[0]] )\n",
    "train_and_val_targets = np.concatenate([xrp_train[1] , xrp_val[1] ])\n",
    "\n",
    "freshModel = tf.keras.Model(inputs=inputs, outputs= final)\n",
    "freshModel.compile(optimizer=opt , loss = 'mse')\n",
    "\n",
    "final = freshModel.fit(train_and_val , train_and_val_targets , batch_size = 512  , epochs = num_epochs )"
   ]
  },
  {
   "cell_type": "markdown",
   "id": "e608afa5",
   "metadata": {},
   "source": [
    "<Strong> Finally testing on test set and grabbing evaluation metrics </Strong>"
   ]
  },
  {
   "cell_type": "code",
   "execution_count": 48,
   "id": "f632d93e",
   "metadata": {},
   "outputs": [],
   "source": [
    "test_predict = freshModel.predict(xrp_test[0])\n",
    "test_predict = scaler.inverse_transform(test_predict)\n",
    "test_actual = scaler.inverse_transform(xrp_test[1])"
   ]
  },
  {
   "cell_type": "code",
   "execution_count": 52,
   "id": "22395dfd",
   "metadata": {},
   "outputs": [
    {
     "name": "stdout",
     "output_type": "stream",
     "text": [
      "0.014027225142458365\n",
      "0.015233212985260947\n",
      "0.015993024135140612\n",
      "0.00025577682098719016\n"
     ]
    }
   ],
   "source": [
    "print(mean_absolute_error(test_actual , test_predict))\n",
    "print(mean_absolute_percentage_error(test_actual , test_predict))\n",
    "print(mean_squared_error(test_actual , test_predict , squared = False))\n",
    "print(mean_squared_error(test_actual , test_predict))"
   ]
  },
  {
   "cell_type": "markdown",
   "id": "ade3a96c",
   "metadata": {},
   "source": [
    "<Strong> For Predicting more than 1 day in the future - Test Set. </Strong>"
   ]
  },
  {
   "cell_type": "code",
   "execution_count": 54,
   "id": "45a94be6",
   "metadata": {},
   "outputs": [],
   "source": [
    "def steps_in_future(hours_in_future , data):\n",
    "    \n",
    "    #All the hours_in_future time predictions\n",
    "    predictions = []\n",
    "    \n",
    "    # Have to cut off the (hours_in_future - 1) off the test set to avoid out of bounds error\n",
    "    test_data = data[0][:-(hours_in_future - 1)]\n",
    "    \n",
    "    for x in range (len(test_data)):\n",
    "        #Going through all the windows\n",
    "        last_window = test_data[x].reshape(1,-1)\n",
    "    \n",
    "            # Make as many predictions as hours_in_future\n",
    "        for i in range(hours_in_future):\n",
    "            \n",
    "            # Take the predicted value from the last window in training set\n",
    "            last_prediction = model.predict(last_window)[0]\n",
    "\n",
    "            #shifting the window size one step down\n",
    "            last_window[0] = np.roll(last_window[0], -1)\n",
    "\n",
    "            #replacing the old value with new prediction\n",
    "            last_window[0 , (len(last_window[0]) - 1)] = last_prediction\n",
    "\n",
    "        #append prediction\n",
    "        predictions.append(last_prediction)\n",
    "    \n",
    "    return predictions"
   ]
  },
  {
   "cell_type": "code",
   "execution_count": 55,
   "id": "830b612c",
   "metadata": {},
   "outputs": [],
   "source": [
    "three_day_predictions = steps_in_future(3, xrp_test)\n",
    "five_day_predictions = steps_in_future(5, xrp_test)\n",
    "seven_day_predictions = steps_in_future( 7, xrp_test)\n",
    "nine_day_predictions = steps_in_future( 9, xrp_test)\n",
    "eleven_day_predictions = steps_in_future( 11, xrp_test)"
   ]
  },
  {
   "cell_type": "code",
   "execution_count": 59,
   "id": "beb67ed8",
   "metadata": {},
   "outputs": [],
   "source": [
    "scaled_three_day_predictions = scaler.inverse_transform(three_day_predictions)\n",
    "scaled_five_day_predictions = scaler.inverse_transform(five_day_predictions)\n",
    "scaled_seven_day_predictions = scaler.inverse_transform(seven_day_predictions)\n",
    "scaled_nine_day_predictions = scaler.inverse_transform(nine_day_predictions)\n",
    "scaled_eleven_day_predictions = scaler.inverse_transform(eleven_day_predictions)"
   ]
  },
  {
   "cell_type": "code",
   "execution_count": 56,
   "id": "a3b920eb",
   "metadata": {},
   "outputs": [],
   "source": [
    "# Targets to compare  \n",
    "\n",
    "targets_in_future_three = xrp_test[1][(3 - 1):]\n",
    "targets_in_future_three = scaler.inverse_transform(targets_in_future_three)\n",
    "\n",
    "targets_in_future_five = xrp_test[1][(5 - 1):]\n",
    "targets_in_future_five = scaler.inverse_transform(targets_in_future_five)\n",
    "\n",
    "targets_in_future_seven = xrp_test[1][(7 - 1):]\n",
    "targets_in_future_seven = scaler.inverse_transform(targets_in_future_seven)\n",
    "\n",
    "targets_in_future_nine = xrp_test[1][(9 - 1):]\n",
    "targets_in_future_nine = scaler.inverse_transform(targets_in_future_nine)\n",
    "\n",
    "targets_in_future_eleven = xrp_test[1][(11 - 1):]\n",
    "targets_in_future_eleven = scaler.inverse_transform(targets_in_future_eleven)"
   ]
  },
  {
   "cell_type": "code",
   "execution_count": 57,
   "id": "c69b8189",
   "metadata": {},
   "outputs": [],
   "source": [
    "def get_eval_metrics(num_days , actual , results):\n",
    "    \n",
    "    mae = mean_absolute_error(actual , results)\n",
    "    mse = mean_squared_error(actual , results )\n",
    "    rmse = mean_squared_error(actual , results , squared = False)\n",
    "    mape = mean_absolute_percentage_error(actual , results)\n",
    "\n",
    "    print(num_days , \"MAE :\" , mae ,\"MSE :\" , mse , \"RMSE :\" , rmse , \"MAPE :\" , mape)\n",
    "\n",
    "    return mae , mse , rmse , mape"
   ]
  },
  {
   "cell_type": "code",
   "execution_count": 60,
   "id": "f19ce84b",
   "metadata": {},
   "outputs": [
    {
     "name": "stdout",
     "output_type": "stream",
     "text": [
      "Three Hour Forecast MAE : 0.03789678169772169 MSE : 0.0016527945299050757 RMSE : 0.04065457575605821 MAPE : 0.04104134698859707\n",
      "Five Hour Forecast MAE : 0.09158905517492497 MSE : 0.008946075648486653 RMSE : 0.09458369652581068 MAPE : 0.09889768996488416\n",
      "Seven Hour Forecast MAE : 0.16397003827362056 MSE : 0.02827548613179255 RMSE : 0.16815316271718636 MAPE : 0.17628612351747075\n",
      "Nine Hour Forecast MAE : 0.2471989688421514 MSE : 0.06433412006994549 RMSE : 0.2536417159497733 MAPE : 0.264461590668468\n",
      "Eleven Hour Forecast MAE : 0.33384234761540016 MSE : 0.11786812696347396 RMSE : 0.34331927846171695 MAPE : 0.3559090763888624\n"
     ]
    }
   ],
   "source": [
    "three_days_mae , three_days_mse , three_days_rmse , three_days_mape = get_eval_metrics(\"Three Hour Forecast\" , targets_in_future_three , scaled_three_day_predictions)\n",
    "five_days_mae , five_days_mse , five_days_rmse , five_days_mape = get_eval_metrics(\"Five Hour Forecast\" , targets_in_future_five , scaled_five_day_predictions)\n",
    "seven_days_mae , seven_days_mse , seven_days_rmse , seven_days_mape = get_eval_metrics(\"Seven Hour Forecast\" , targets_in_future_seven , scaled_seven_day_predictions)\n",
    "nine_days_mae , nine_days_mse , nine_days_rmse , nine_days_mape = get_eval_metrics(\"Nine Hour Forecast\" , targets_in_future_nine , scaled_nine_day_predictions)\n",
    "eleven_days_mae , eleven_days_mse , eleven_days_rmse , eleven_days_mape = get_eval_metrics(\"Eleven Hour Forecast\" , targets_in_future_eleven , scaled_eleven_day_predictions)"
   ]
  },
  {
   "cell_type": "code",
   "execution_count": null,
   "id": "1a0b8da0",
   "metadata": {},
   "outputs": [],
   "source": []
  }
 ],
 "metadata": {
  "kernelspec": {
   "display_name": "Python 3 (ipykernel)",
   "language": "python",
   "name": "python3"
  },
  "language_info": {
   "codemirror_mode": {
    "name": "ipython",
    "version": 3
   },
   "file_extension": ".py",
   "mimetype": "text/x-python",
   "name": "python",
   "nbconvert_exporter": "python",
   "pygments_lexer": "ipython3",
   "version": "3.7.0"
  }
 },
 "nbformat": 4,
 "nbformat_minor": 5
}
