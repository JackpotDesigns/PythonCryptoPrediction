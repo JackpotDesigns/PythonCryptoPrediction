{
 "cells": [
  {
   "cell_type": "code",
   "execution_count": 2,
   "id": "ed5c3d10",
   "metadata": {},
   "outputs": [],
   "source": [
    "import os"
   ]
  },
  {
   "cell_type": "code",
   "execution_count": 3,
   "id": "bd82d91f",
   "metadata": {},
   "outputs": [],
   "source": [
    "imdb_dir = '/Users/jackyboy/Downloads/aclImdb'\n",
    "train_dir = os.path.join(imdb_dir, 'train')"
   ]
  },
  {
   "cell_type": "code",
   "execution_count": 4,
   "id": "a402c13b",
   "metadata": {},
   "outputs": [],
   "source": [
    "labels = []\n",
    "texts = []"
   ]
  },
  {
   "cell_type": "code",
   "execution_count": 5,
   "id": "8abf92c5",
   "metadata": {},
   "outputs": [],
   "source": [
    "#Sorting all training data\n",
    "\n",
    "for label_type in ['neg', 'pos']:\n",
    "    \n",
    "    #Directory of either the positive or negative reviews\n",
    "    dir_name = os.path.join(train_dir, label_type)\n",
    "    \n",
    "    #Lists all names in either positive or negative directory \n",
    "    for fname in os.listdir(dir_name):\n",
    "        \n",
    "        #If directory is a txt\n",
    "        if fname[-4:] == '.txt':\n",
    "            \n",
    "            #Read contents of each txt and appends to texts list\n",
    "            f = open(os.path.join(dir_name, fname))\n",
    "            texts.append(f.read())\n",
    "            f.close()\n",
    "            \n",
    "            #At the same time we are adding that reviews label to list\n",
    "            if label_type == 'neg':\n",
    "                labels.append(0)\n",
    "                \n",
    "            else:\n",
    "                labels.append(1)"
   ]
  },
  {
   "cell_type": "markdown",
   "id": "ab176b48",
   "metadata": {},
   "source": [
    "<Strong> Vectorizing The Data. </Strong>"
   ]
  },
  {
   "cell_type": "code",
   "execution_count": 6,
   "id": "28fcdb33",
   "metadata": {},
   "outputs": [],
   "source": [
    "from keras.preprocessing.text import Tokenizer\n",
    "from keras.preprocessing.sequence import pad_sequences\n",
    "import numpy as np"
   ]
  },
  {
   "cell_type": "code",
   "execution_count": 7,
   "id": "3b0df8d5",
   "metadata": {},
   "outputs": [],
   "source": [
    "#Cuts off reviews after 100 words\n",
    "maxlen = 100\n",
    "\n",
    "#Only training on 200 , overfitting due\n",
    "training_samples = 200\n",
    "\n",
    "#testing on the 10,000 samples\n",
    "validation_samples = 10000\n",
    "\n",
    "#Dictionary has max grammar words \n",
    "max_words = 10000"
   ]
  },
  {
   "cell_type": "code",
   "execution_count": 14,
   "id": "bd4d5020",
   "metadata": {},
   "outputs": [
    {
     "name": "stdout",
     "output_type": "stream",
     "text": [
      "[282, 171, 443, 6416, 45, 3585, 41, 3, 15, 17, 222, 1109, 72, 1803, 1171, 36, 1, 1353, 1366, 2127, 861, 4, 63, 46, 23, 52, 170, 9, 39, 115, 22, 460, 42, 99, 4, 1, 101, 87, 4, 180, 25, 3542, 8, 1, 4446, 2, 108, 23, 1660, 409, 20, 2, 91, 1508, 366, 71, 307, 31, 63, 56, 9, 115, 22, 460, 1, 108, 73, 143, 62, 460, 42, 6, 3, 52, 8448, 7753, 1, 459, 6, 28, 286, 121, 14, 551, 35, 1204, 237, 125, 72, 245, 331, 182, 85, 2, 269, 54, 3586, 4, 3, 4446, 24, 64, 739, 5, 27, 1920, 123, 6416, 428, 50, 73, 23, 69, 523, 1, 289, 95, 224, 4, 11, 3648, 6416, 741, 180, 30, 42, 3542, 73, 23, 562, 134, 7753, 6, 2108, 5, 27, 1, 118, 16, 54, 2538, 38, 54, 1490, 135, 10, 13, 30, 9, 98, 78, 5, 387, 36, 1629, 10, 121, 32, 522, 8]\n"
     ]
    }
   ],
   "source": [
    "tokenizer = Tokenizer(num_words=max_words)\n",
    "\n",
    "#Creates a dictionary of grammar , max = max_words\n",
    "#Changing list of texts to list of vecors with index of grammar , only 10,000 most frequent words returned .\n",
    "tokenizer.fit_on_texts(texts)\n",
    "\n",
    "sequences = tokenizer.texts_to_sequences(texts)\n",
    "\n",
    "#Prints total unique words , although only uses the 10,000 most common words based on frequency\n",
    "word_index = tokenizer.word_index\n",
    "\n",
    "print(sequences[0])\n"
   ]
  },
  {
   "cell_type": "code",
   "execution_count": 11,
   "id": "ebb2f3a8",
   "metadata": {},
   "outputs": [
    {
     "ename": "KeyError",
     "evalue": "12000",
     "output_type": "error",
     "traceback": [
      "\u001b[0;31m---------------------------------------------------------------------------\u001b[0m",
      "\u001b[0;31mKeyError\u001b[0m                                  Traceback (most recent call last)",
      "\u001b[0;32m/var/folders/_f/jpr9q2w52wzg1v439ryj1bk00000gn/T/ipykernel_60922/3408363837.py\u001b[0m in \u001b[0;36m<module>\u001b[0;34m\u001b[0m\n\u001b[0;32m----> 1\u001b[0;31m \u001b[0mprint\u001b[0m\u001b[0;34m(\u001b[0m\u001b[0mword_index\u001b[0m\u001b[0;34m[\u001b[0m\u001b[0;36m12000\u001b[0m\u001b[0;34m]\u001b[0m\u001b[0;34m)\u001b[0m\u001b[0;34m\u001b[0m\u001b[0;34m\u001b[0m\u001b[0m\n\u001b[0m",
      "\u001b[0;31mKeyError\u001b[0m: 12000"
     ]
    }
   ],
   "source": [
    "print(word_index[12000])"
   ]
  },
  {
   "cell_type": "code",
   "execution_count": 342,
   "id": "dbe9e7b3",
   "metadata": {},
   "outputs": [],
   "source": [
    "#Padding the data , so all the same length , because output of embedding layer has to be the same for each sample (group of words.).\n",
    "data = pad_sequences(sequences, maxlen=maxlen)\n",
    "labels = np.asarray(labels)"
   ]
  },
  {
   "cell_type": "code",
   "execution_count": 343,
   "id": "29de58f0",
   "metadata": {},
   "outputs": [],
   "source": [
    "#Shuffling the data before we split into train and validation\n",
    "indices = np.arange(data.shape[0])\n",
    "np.random.shuffle(indices)\n",
    "\n",
    "data = data[indices]\n",
    "labels = labels[indices]\n",
    "\n",
    "x_train = data[:training_samples]\n",
    "y_train = labels[:training_samples]\n",
    "\n",
    "x_val = data[training_samples: training_samples + validation_samples] \n",
    "y_val = labels[training_samples: training_samples + validation_samples]"
   ]
  },
  {
   "cell_type": "markdown",
   "id": "f34c654d",
   "metadata": {},
   "source": [
    "<Strong>Pre-Processing the Pre-Trained word embedding. </Strong>"
   ]
  },
  {
   "cell_type": "code",
   "execution_count": 344,
   "id": "3846d820",
   "metadata": {},
   "outputs": [],
   "source": [
    "glove_dir = '/Users/jackyboy/Downloads/glove.6B'\n",
    "\n",
    "#Grabbing each word with respective embedding vectors\n",
    "embeddings_index = {}\n",
    "\n",
    "f = open(os.path.join(glove_dir, 'glove.6B.100d.txt'))\n",
    "for line in f:\n",
    "    values = line.split()\n",
    "    \n",
    "    #Words are always first index on a line in the file\n",
    "    word = values[0]\n",
    "    \n",
    "    #Grabbing each word embedding vector\n",
    "    coefs = np.asarray(values[1:], dtype='float32')\n",
    "    \n",
    "    #Creating an object in the dictionary\n",
    "    embeddings_index[word] = coefs\n",
    "    \n",
    "f.close()"
   ]
  },
  {
   "cell_type": "markdown",
   "id": "b2e337b0",
   "metadata": {},
   "source": [
    "<Strong> Building the embedding matrix , so it can go into the embedding layer. (max_words, embedding_dim) </Strong>"
   ]
  },
  {
   "cell_type": "markdown",
   "id": "479421e6",
   "metadata": {},
   "source": [
    "<Strong> Note that index 0 isn’t supposed to stand for any word or token—it’s a placeholder. </Strong>"
   ]
  },
  {
   "cell_type": "code",
   "execution_count": 345,
   "id": "290e885e",
   "metadata": {},
   "outputs": [],
   "source": [
    "embedding_dim = 100\n",
    "\n",
    "#10,000 x 100\n",
    "embedding_matrix = np.zeros((max_words, embedding_dim))\n",
    "\n",
    "#Taking words from our dictionary with 10,000 words in reviews\n",
    "for word, i in word_index.items():\n",
    "        \n",
    "    #if index is smaller than max words in grammar (dont think this is necessary)\n",
    "    if i < max_words:\n",
    "        \n",
    "        #If a word from our 10,000 grammar (from reviews) is in the embedding vector we imported\n",
    "        embedding_vector = embeddings_index.get(word)\n",
    "        \n",
    "        if embedding_vector is not None:\n",
    "            \n",
    "            #Words not found in embedding index will be all zeros\n",
    "            #Embedding matrix indice's will be the same as word_index indic's\n",
    "            embedding_matrix[i] = embedding_vector"
   ]
  },
  {
   "cell_type": "code",
   "execution_count": 346,
   "id": "331e33cf",
   "metadata": {},
   "outputs": [
    {
     "data": {
      "text/plain": [
       "array([-0.038194  , -0.24487001,  0.72812003, -0.39961001,  0.083172  ,\n",
       "        0.043953  , -0.39140999,  0.3344    , -0.57545   ,  0.087459  ,\n",
       "        0.28786999, -0.06731   ,  0.30906001, -0.26383999, -0.13231   ,\n",
       "       -0.20757   ,  0.33395001, -0.33848   , -0.31742999, -0.48335999,\n",
       "        0.1464    , -0.37303999,  0.34577   ,  0.052041  ,  0.44946   ,\n",
       "       -0.46970999,  0.02628   , -0.54154998, -0.15518001, -0.14106999,\n",
       "       -0.039722  ,  0.28277001,  0.14393   ,  0.23464   , -0.31020999,\n",
       "        0.086173  ,  0.20397   ,  0.52623999,  0.17163999, -0.082378  ,\n",
       "       -0.71787   , -0.41531   ,  0.20334999, -0.12763   ,  0.41367   ,\n",
       "        0.55186999,  0.57907999, -0.33476999, -0.36559001, -0.54856998,\n",
       "       -0.062892  ,  0.26583999,  0.30204999,  0.99774998, -0.80480999,\n",
       "       -3.0243001 ,  0.01254   , -0.36941999,  2.21670008,  0.72201002,\n",
       "       -0.24978   ,  0.92136002,  0.034514  ,  0.46744999,  1.10790002,\n",
       "       -0.19358   , -0.074575  ,  0.23353   , -0.052062  , -0.22044   ,\n",
       "        0.057162  , -0.15806   , -0.30798   , -0.41624999,  0.37972   ,\n",
       "        0.15006   , -0.53211999, -0.20550001, -1.25259995,  0.071624  ,\n",
       "        0.70564997,  0.49744001, -0.42063001,  0.26148   , -1.53799999,\n",
       "       -0.30223   , -0.073438  , -0.28312001,  0.37103999, -0.25217   ,\n",
       "        0.016215  , -0.017099  , -0.38984001,  0.87423998, -0.72569001,\n",
       "       -0.51058   , -0.52028   , -0.1459    ,  0.82779998,  0.27061999])"
      ]
     },
     "execution_count": 346,
     "metadata": {},
     "output_type": "execute_result"
    }
   ],
   "source": [
    "embedding_matrix[1]"
   ]
  },
  {
   "cell_type": "code",
   "execution_count": 347,
   "id": "1fb2685e",
   "metadata": {},
   "outputs": [
    {
     "name": "stdout",
     "output_type": "stream",
     "text": [
      "Model: \"sequential_5\"\n",
      "_________________________________________________________________\n",
      " Layer (type)                Output Shape              Param #   \n",
      "=================================================================\n",
      " embedding_5 (Embedding)     (None, 100, 100)          1000000   \n",
      "                                                                 \n",
      " flatten_5 (Flatten)         (None, 10000)             0         \n",
      "                                                                 \n",
      " dense_10 (Dense)            (None, 32)                320032    \n",
      "                                                                 \n",
      " dense_11 (Dense)            (None, 1)                 33        \n",
      "                                                                 \n",
      "=================================================================\n",
      "Total params: 1,320,065\n",
      "Trainable params: 1,320,065\n",
      "Non-trainable params: 0\n",
      "_________________________________________________________________\n"
     ]
    }
   ],
   "source": [
    "from keras.models import Sequential\n",
    "from keras.layers import Embedding, Flatten, Dense\n",
    "\n",
    "model = Sequential()\n",
    "model.add(Embedding(max_words, embedding_dim, input_length=maxlen))\n",
    "model.add(Flatten())\n",
    "model.add(Dense(32, activation='relu'))\n",
    "model.add(Dense(1, activation='sigmoid'))\n",
    "model.summary()"
   ]
  },
  {
   "cell_type": "markdown",
   "id": "25113b75",
   "metadata": {},
   "source": [
    "<Strong>  the pretrained parts shouldn’t be updated during training, to avoid forgetting what they already know </Strong>"
   ]
  },
  {
   "cell_type": "code",
   "execution_count": 348,
   "id": "3a0810c2",
   "metadata": {},
   "outputs": [],
   "source": [
    "#Loading pretrained word embeddings into the Embedding layer\n",
    "model.layers[0].set_weights([embedding_matrix])\n",
    "model.layers[0].trainable = False"
   ]
  },
  {
   "cell_type": "code",
   "execution_count": 349,
   "id": "f1a04a2a",
   "metadata": {},
   "outputs": [
    {
     "name": "stdout",
     "output_type": "stream",
     "text": [
      "Epoch 1/10\n",
      "7/7 [==============================] - 1s 71ms/step - loss: 1.2859 - acc: 0.5400 - val_loss: 0.7200 - val_acc: 0.5010\n",
      "Epoch 2/10\n",
      "7/7 [==============================] - 0s 61ms/step - loss: 0.5786 - acc: 0.7200 - val_loss: 0.7144 - val_acc: 0.5295\n",
      "Epoch 3/10\n",
      "7/7 [==============================] - 0s 58ms/step - loss: 0.4646 - acc: 0.8200 - val_loss: 1.1879 - val_acc: 0.4992\n",
      "Epoch 4/10\n",
      "7/7 [==============================] - 0s 59ms/step - loss: 0.4318 - acc: 0.8400 - val_loss: 0.6944 - val_acc: 0.5713\n",
      "Epoch 5/10\n",
      "7/7 [==============================] - 0s 61ms/step - loss: 0.3120 - acc: 0.8500 - val_loss: 0.7822 - val_acc: 0.5297\n",
      "Epoch 6/10\n",
      "7/7 [==============================] - 0s 67ms/step - loss: 0.1741 - acc: 0.9800 - val_loss: 0.8864 - val_acc: 0.5226\n",
      "Epoch 7/10\n",
      "7/7 [==============================] - 0s 74ms/step - loss: 0.2189 - acc: 0.9200 - val_loss: 0.7311 - val_acc: 0.5729\n",
      "Epoch 8/10\n",
      "7/7 [==============================] - 0s 75ms/step - loss: 0.1401 - acc: 0.9700 - val_loss: 1.2959 - val_acc: 0.5155\n",
      "Epoch 9/10\n",
      "7/7 [==============================] - 0s 57ms/step - loss: 0.0682 - acc: 1.0000 - val_loss: 0.7947 - val_acc: 0.5592\n",
      "Epoch 10/10\n",
      "7/7 [==============================] - 0s 58ms/step - loss: 0.0955 - acc: 0.9900 - val_loss: 0.8665 - val_acc: 0.5460\n"
     ]
    }
   ],
   "source": [
    "model.compile(optimizer='rmsprop',\n",
    "              loss='binary_crossentropy',\n",
    "              metrics=['acc'])\n",
    "history = model.fit(x_train, y_train,\n",
    "                    epochs=10,\n",
    "                    batch_size=32,\n",
    "                    validation_data=(x_val, y_val))\n",
    "\n",
    "model.save_weights('pre_trained_glove_model.h5')"
   ]
  },
  {
   "cell_type": "code",
   "execution_count": 350,
   "id": "eda8492a",
   "metadata": {},
   "outputs": [
    {
     "data": {
      "image/png": "[encoded data removed]",
      "text/plain": [
       "<Figure size 432x288 with 1 Axes>"
      ]
     },
     "metadata": {
      "needs_background": "light"
     },
     "output_type": "display_data"
    },
    {
     "data": {
      "image/png": "[encoded data removed]",
      "text/plain": [
       "<Figure size 432x288 with 1 Axes>"
      ]
     },
     "metadata": {
      "needs_background": "light"
     },
     "output_type": "display_data"
    }
   ],
   "source": [
    "\n",
    "import matplotlib.pyplot as plt\n",
    "acc = history.history['acc']\n",
    "val_acc = history.history['val_acc']\n",
    "loss = history.history['loss']\n",
    "val_loss = history.history['val_loss']\n",
    "epochs = range(1, len(acc) + 1)\n",
    "plt.plot(epochs, acc, 'bo', label='Training acc')\n",
    "plt.plot(epochs, val_acc, 'b', label='Validation acc')\n",
    "plt.title('Training and validation accuracy')\n",
    "plt.legend()\n",
    "plt.figure()\n",
    "plt.plot(epochs, loss, 'bo', label='Training loss')\n",
    "plt.plot(epochs, val_loss, 'b', label='Validation loss')\n",
    "plt.title('Training and validation loss')\n",
    "plt.legend()\n",
    "plt.show()"
   ]
  },
  {
   "cell_type": "markdown",
   "id": "2d586bff",
   "metadata": {},
   "source": [
    "<Strong> Validation accuracy starts overfitting almost immediately , due to few training examples. </Strong>"
   ]
  },
  {
   "cell_type": "code",
   "execution_count": 351,
   "id": "7c7a3e99",
   "metadata": {},
   "outputs": [
    {
     "name": "stdout",
     "output_type": "stream",
     "text": [
      "[[0.5150679]]\n"
     ]
    }
   ],
   "source": [
    "input_array = np.random.randint(10000, size=(1, 100))\n",
    "output_array = model.predict(input_array)\n",
    "print(output_array)"
   ]
  },
  {
   "cell_type": "markdown",
   "id": "ab4c9127",
   "metadata": {},
   "source": [
    "<Strong> Trying to fit the model on our specific grammar , with few training examples. </Strong>"
   ]
  },
  {
   "cell_type": "code",
   "execution_count": 352,
   "id": "b4722e5f",
   "metadata": {},
   "outputs": [
    {
     "name": "stdout",
     "output_type": "stream",
     "text": [
      "Model: \"sequential_6\"\n",
      "_________________________________________________________________\n",
      " Layer (type)                Output Shape              Param #   \n",
      "=================================================================\n",
      " embedding_6 (Embedding)     (None, 100, 100)          1000000   \n",
      "                                                                 \n",
      " flatten_6 (Flatten)         (None, 10000)             0         \n",
      "                                                                 \n",
      " dense_12 (Dense)            (None, 32)                320032    \n",
      "                                                                 \n",
      " dense_13 (Dense)            (None, 1)                 33        \n",
      "                                                                 \n",
      "=================================================================\n",
      "Total params: 1,320,065\n",
      "Trainable params: 1,320,065\n",
      "Non-trainable params: 0\n",
      "_________________________________________________________________\n",
      "Epoch 1/10\n",
      "7/7 [==============================] - 1s 80ms/step - loss: 0.6895 - acc: 0.5400 - val_loss: 0.6925 - val_acc: 0.5223\n",
      "Epoch 2/10\n",
      "7/7 [==============================] - 0s 66ms/step - loss: 0.4778 - acc: 0.9850 - val_loss: 0.7032 - val_acc: 0.5293\n",
      "Epoch 3/10\n",
      "7/7 [==============================] - 0s 66ms/step - loss: 0.2554 - acc: 0.9900 - val_loss: 0.7050 - val_acc: 0.5366\n",
      "Epoch 4/10\n",
      "7/7 [==============================] - 0s 68ms/step - loss: 0.1098 - acc: 0.9950 - val_loss: 0.7063 - val_acc: 0.5413\n",
      "Epoch 5/10\n",
      "7/7 [==============================] - 0s 71ms/step - loss: 0.0504 - acc: 1.0000 - val_loss: 0.7262 - val_acc: 0.5380\n",
      "Epoch 6/10\n",
      "7/7 [==============================] - 1s 88ms/step - loss: 0.0265 - acc: 1.0000 - val_loss: 0.7343 - val_acc: 0.5417\n",
      "Epoch 7/10\n",
      "7/7 [==============================] - 0s 67ms/step - loss: 0.0145 - acc: 1.0000 - val_loss: 0.7398 - val_acc: 0.5433\n",
      "Epoch 8/10\n",
      "7/7 [==============================] - 0s 77ms/step - loss: 0.0084 - acc: 1.0000 - val_loss: 0.7413 - val_acc: 0.5452\n",
      "Epoch 9/10\n",
      "7/7 [==============================] - 0s 66ms/step - loss: 0.0051 - acc: 1.0000 - val_loss: 0.7455 - val_acc: 0.5444\n",
      "Epoch 10/10\n",
      "7/7 [==============================] - 0s 66ms/step - loss: 0.0031 - acc: 1.0000 - val_loss: 0.7560 - val_acc: 0.5464\n"
     ]
    }
   ],
   "source": [
    "from keras.models import Sequential\n",
    "from keras.layers import Embedding, Flatten, Dense\n",
    "\n",
    "model = Sequential()\n",
    "model.add(Embedding(max_words, embedding_dim, input_length=maxlen))\n",
    "model.add(Flatten())\n",
    "model.add(Dense(32, activation='relu'))\n",
    "model.add(Dense(1, activation='sigmoid'))\n",
    "model.summary()\n",
    "\n",
    "model.compile(optimizer='rmsprop',\n",
    "              loss='binary_crossentropy',\n",
    "              metrics=['acc'])\n",
    "\n",
    "history = model.fit(x_train, y_train,\n",
    "                    epochs=10,\n",
    "                    batch_size=32,\n",
    "                    validation_data=(x_val, y_val))"
   ]
  },
  {
   "cell_type": "code",
   "execution_count": 353,
   "id": "0c598ca6",
   "metadata": {},
   "outputs": [
    {
     "data": {
      "image/png": "[encoded data removed]",
      "text/plain": [
       "<Figure size 432x288 with 1 Axes>"
      ]
     },
     "metadata": {
      "needs_background": "light"
     },
     "output_type": "display_data"
    },
    {
     "data": {
      "image/png": "[encoded data removed]",
      "text/plain": [
       "<Figure size 432x288 with 1 Axes>"
      ]
     },
     "metadata": {
      "needs_background": "light"
     },
     "output_type": "display_data"
    }
   ],
   "source": [
    "import matplotlib.pyplot as plt\n",
    "acc = history.history['acc']\n",
    "val_acc = history.history['val_acc']\n",
    "loss = history.history['loss']\n",
    "val_loss = history.history['val_loss']\n",
    "epochs = range(1, len(acc) + 1)\n",
    "plt.plot(epochs, acc, 'bo', label='Training acc')\n",
    "plt.plot(epochs, val_acc, 'b', label='Validation acc')\n",
    "plt.title('Training and validation accuracy')\n",
    "plt.legend()\n",
    "plt.figure()\n",
    "plt.plot(epochs, loss, 'bo', label='Training loss')\n",
    "plt.plot(epochs, val_loss, 'b', label='Validation loss')\n",
    "plt.title('Training and validation loss')\n",
    "plt.legend()\n",
    "plt.show()"
   ]
  },
  {
   "cell_type": "markdown",
   "id": "051b5507",
   "metadata": {},
   "source": [
    "<Strong> Accuracy stalls in the low 50's , so are pre-trained matrix embeddment outperforms our grammar specific.</Strong>"
   ]
  },
  {
   "cell_type": "markdown",
   "id": "a8d9e396",
   "metadata": {},
   "source": [
    "<Strong> As we begin to increase the size of the training sets , things begin to flip. </Strong>"
   ]
  },
  {
   "cell_type": "markdown",
   "id": "c347aa16",
   "metadata": {},
   "source": [
    "<Strong> Testing on the Test Data. </Strong>"
   ]
  },
  {
   "cell_type": "markdown",
   "id": "1a80b256",
   "metadata": {},
   "source": [
    "<Strong> Tokenizing the data. </Strong>"
   ]
  },
  {
   "cell_type": "code",
   "execution_count": 12,
   "id": "aea724d6",
   "metadata": {},
   "outputs": [],
   "source": [
    "test_dir = os.path.join(imdb_dir, 'test')\n",
    "\n",
    "labels = []\n",
    "texts = []\n",
    "\n",
    "for label_type in ['neg', 'pos']:\n",
    "    \n",
    "    dir_name = os.path.join(test_dir, label_type)\n",
    "    \n",
    "    for fname in sorted(os.listdir(dir_name)):\n",
    "        if fname[-4:] == '.txt':\n",
    "            \n",
    "            f = open(os.path.join(dir_name, fname))\n",
    "            texts.append(f.read())\n",
    "            f.close()\n",
    "            \n",
    "            if label_type == 'neg':\n",
    "                labels.append(0)\n",
    "            else:\n",
    "                labels.append(1)\n",
    "\n",
    "#Use the same tokenizer as one in training otherwise it's leakage.\n",
    "sequences = tokenizer.texts_to_sequences(texts)"
   ]
  },
  {
   "cell_type": "code",
   "execution_count": 13,
   "id": "92ee0a56",
   "metadata": {},
   "outputs": [
    {
     "name": "stdout",
     "output_type": "stream",
     "text": [
      "[11, 6, 32, 459, 4, 135, 1, 2157, 4, 203, 105, 23, 1, 169, 4150, 2, 354, 222, 63, 161, 287, 146, 130, 3, 597, 434, 4, 1, 92, 1196, 1953, 4, 1903, 827, 2, 1903, 3284, 8157, 254, 108, 208, 117, 12, 33, 23, 2246, 4, 113, 2, 113, 70, 89, 1411, 16, 11, 28, 137, 64, 159, 715, 540, 39, 103, 159, 779, 8718, 15, 1903, 827, 39, 3349, 1, 3096, 1930, 2785, 39, 2548, 15, 1903, 3284, 2, 64, 1, 144, 852, 1903, 2356, 7048, 412, 581, 163, 11, 19, 30, 1, 2686, 2, 143, 128, 1528, 48, 1, 2302, 986, 5735, 13, 396, 8, 11, 19, 2, 135, 1, 2302, 124, 26, 207, 294, 1, 2588, 169, 106, 36, 2536, 172, 19, 204, 107, 16, 986, 5735, 44, 87, 393, 1, 2588, 169, 2220, 106, 2, 30, 219, 8, 2536, 24, 106, 1128, 60, 90, 9, 640, 7, 7, 441, 11, 6, 330, 966, 203, 1153, 47, 23, 3350, 125, 105, 5, 64, 2, 45, 22, 63, 178, 5, 64, 11, 28, 103, 8312, 311, 60, 6, 2200, 3, 1036, 18, 44, 125, 113, 2, 3, 125, 226, 1, 61, 151, 12, 90, 11, 30, 29, 287, 146, 13, 3, 539, 505, 20, 1, 367, 1, 625, 13, 217, 2427, 60, 263, 488, 5, 228, 53, 15, 1, 524, 19, 407, 18, 21, 176, 467, 155]\n"
     ]
    }
   ],
   "source": [
    "print(sequences[1])"
   ]
  },
  {
   "cell_type": "code",
   "execution_count": 355,
   "id": "97ea9fb8",
   "metadata": {},
   "outputs": [],
   "source": [
    "x_test = pad_sequences(sequences, maxlen=maxlen)\n",
    "y_test = np.asarray(labels)"
   ]
  },
  {
   "cell_type": "code",
   "execution_count": 356,
   "id": "75359456",
   "metadata": {},
   "outputs": [
    {
     "name": "stdout",
     "output_type": "stream",
     "text": [
      "782/782 [==============================] - 1s 1ms/step - loss: 0.8721 - acc: 0.5417\n"
     ]
    },
    {
     "data": {
      "text/plain": [
       "[0.8720967769622803, 0.5417199730873108]"
      ]
     },
     "execution_count": 356,
     "metadata": {},
     "output_type": "execute_result"
    }
   ],
   "source": [
    "model.load_weights('pre_trained_glove_model.h5')\n",
    "model.evaluate(x_test, y_test)"
   ]
  },
  {
   "cell_type": "code",
   "execution_count": null,
   "id": "be849074",
   "metadata": {},
   "outputs": [],
   "source": []
  }
 ],
 "metadata": {
  "kernelspec": {
   "display_name": "Python 3 (ipykernel)",
   "language": "python",
   "name": "python3"
  },
  "language_info": {
   "codemirror_mode": {
    "name": "ipython",
    "version": 3
   },
   "file_extension": ".py",
   "mimetype": "text/x-python",
   "name": "python",
   "nbconvert_exporter": "python",
   "pygments_lexer": "ipython3",
   "version": "3.10.0"
  }
 },
 "nbformat": 4,
 "nbformat_minor": 5
}
