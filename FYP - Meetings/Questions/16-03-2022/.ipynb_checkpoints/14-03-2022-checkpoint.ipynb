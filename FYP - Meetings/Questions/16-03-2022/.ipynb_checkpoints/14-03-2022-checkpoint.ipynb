{
 "cells": [
  {
   "cell_type": "markdown",
   "id": "58c49133",
   "metadata": {},
   "source": [
    "<Strong> TO DO : Talos as hyper-parameter picker .</Strong>"
   ]
  },
  {
   "cell_type": "markdown",
   "id": "e114739b",
   "metadata": {},
   "source": [
    "<Strong> TO DO : try leaky relu as activation function </Strong>"
   ]
  },
  {
   "cell_type": "markdown",
   "id": "de404e47",
   "metadata": {},
   "source": [
    "<Strong> TO DO : The same as today , baseline </Strong>"
   ]
  },
  {
   "cell_type": "markdown",
   "id": "8c651a1f",
   "metadata": {},
   "source": [
    "<Strong> TO DO : increase the window horizon and create a graph. </Strong>"
   ]
  },
  {
   "cell_type": "markdown",
   "id": "d6eaf2c1",
   "metadata": {},
   "source": [
    "<Strong> TO DO : Batch normalization on current. </Strong>"
   ]
  },
  {
   "cell_type": "markdown",
   "id": "4dbc284a",
   "metadata": {},
   "source": [
    "<Strong> TO DO : Mess around with learning rate. - 0.01 - 0.001 </Strong>"
   ]
  },
  {
   "cell_type": "markdown",
   "id": "1715e9f0",
   "metadata": {},
   "source": [
    "<Strong> TO DO : 4 pages of FYP </Strong>"
   ]
  },
  {
   "cell_type": "markdown",
   "id": "349c1f69",
   "metadata": {},
   "source": [
    "<Strong> TO DO : Work on TCN some more </Strong>"
   ]
  },
  {
   "cell_type": "markdown",
   "id": "830dfeb3",
   "metadata": {},
   "source": [
    "<Strong> Frank said it was alright that I cant attend in person , but he said ill still have to demonstrate to you and to the second reader. </Strong>"
   ]
  },
  {
   "cell_type": "markdown",
   "id": "4511eb58",
   "metadata": {},
   "source": [
    "<p> I was thinking I could demonstrate before I go ? And would you have any idea who the second reader is ? </p>"
   ]
  }
 ],
 "metadata": {
  "kernelspec": {
   "display_name": "Python 3 (ipykernel)",
   "language": "python",
   "name": "python3"
  },
  "language_info": {
   "codemirror_mode": {
    "name": "ipython",
    "version": 3
   },
   "file_extension": ".py",
   "mimetype": "text/x-python",
   "name": "python",
   "nbconvert_exporter": "python",
   "pygments_lexer": "ipython3",
   "version": "3.7.0"
  }
 },
 "nbformat": 4,
 "nbformat_minor": 5
}
