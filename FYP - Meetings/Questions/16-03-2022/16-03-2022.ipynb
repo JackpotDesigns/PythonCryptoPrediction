{
 "cells": [
  {
   "cell_type": "markdown",
   "id": "56d66034",
   "metadata": {},
   "source": [
    "<Strong> TO DO : 4 Pages of fyp </Strong>"
   ]
  },
  {
   "cell_type": "markdown",
   "id": "e5c9e6cc",
   "metadata": {},
   "source": [
    "<p> Done and have a format of the headings I used. </p>"
   ]
  },
  {
   "cell_type": "markdown",
   "id": "58c49133",
   "metadata": {},
   "source": [
    "<Strong> TO DO : Talos as hyper-parameter picker .</Strong>"
   ]
  },
  {
   "cell_type": "markdown",
   "id": "c3824931",
   "metadata": {},
   "source": [
    "<p> Done </p>"
   ]
  },
  {
   "cell_type": "markdown",
   "id": "e114739b",
   "metadata": {},
   "source": [
    "<Strong> TO DO : try leaky relu as activation function </Strong>"
   ]
  },
  {
   "cell_type": "markdown",
   "id": "00ace6d1",
   "metadata": {},
   "source": [
    "<p> \n",
    "\n",
    "relu and leaky relu dont suffer as much from vanishing gradient as it returns 1 if positive derivative§m. \n",
    "With relu if we got 0 as a derivative , the whole chain will become 0 , neuron will die. (Not update weights). Leaky relu solves this problem by if x < 0 output will be 0.01.\n",
    "\n",
    "More computationally expensive\n",
    "\n",
    "\n",
    "</p>"
   ]
  },
  {
   "cell_type": "markdown",
   "id": "de404e47",
   "metadata": {},
   "source": [
    "<Strong> TO DO : The same as today , baseline </Strong>"
   ]
  },
  {
   "cell_type": "markdown",
   "id": "8acc855e",
   "metadata": {},
   "source": [
    "<ol>\n",
    "<li> Done model that predicts tomorrows closing price based on todays closing price </li>\n",
    "<li> Done model that predicts todays closing price based on todays opening price </li>\n",
    "</ol>"
   ]
  },
  {
   "cell_type": "markdown",
   "id": "8c651a1f",
   "metadata": {},
   "source": [
    "<Strong> TO DO : increase the window horizon and create a graph. </Strong>"
   ]
  },
  {
   "cell_type": "code",
   "execution_count": null,
   "id": "efe27b2c",
   "metadata": {},
   "outputs": [],
   "source": [
    "<p>  </p>"
   ]
  },
  {
   "cell_type": "markdown",
   "id": "d6eaf2c1",
   "metadata": {},
   "source": [
    "<Strong> TO DO : Batch normalization on current. </Strong>"
   ]
  },
  {
   "cell_type": "markdown",
   "id": "176a2a3f",
   "metadata": {},
   "source": [
    "<p> Normalizing data flowing into each layer of the network. Regularization technique , allows for higher learning rates , faster. </p>"
   ]
  },
  {
   "cell_type": "markdown",
   "id": "349c1f69",
   "metadata": {},
   "source": [
    "<Strong> TO DO : Work on TCN some more </Strong>"
   ]
  },
  {
   "cell_type": "markdown",
   "id": "78b47450",
   "metadata": {},
   "source": [
    "<Strong> TO DO : updated evalutation method and git nice </Strong>"
   ]
  },
  {
   "cell_type": "markdown",
   "id": "830dfeb3",
   "metadata": {},
   "source": [
    "<Strong> Frank said it was alright that I cant attend in person , but he said ill still have to demonstrate to you and to the second reader. </Strong>"
   ]
  },
  {
   "cell_type": "markdown",
   "id": "4511eb58",
   "metadata": {},
   "source": [
    "<p> I was thinking I could demonstrate before I go ? And would you have any idea who the second reader is ? </p>"
   ]
  }
 ],
 "metadata": {
  "kernelspec": {
   "display_name": "Python 3 (ipykernel)",
   "language": "python",
   "name": "python3"
  },
  "language_info": {
   "codemirror_mode": {
    "name": "ipython",
    "version": 3
   },
   "file_extension": ".py",
   "mimetype": "text/x-python",
   "name": "python",
   "nbconvert_exporter": "python",
   "pygments_lexer": "ipython3",
   "version": "3.7.0"
  }
 },
 "nbformat": 4,
 "nbformat_minor": 5
}
