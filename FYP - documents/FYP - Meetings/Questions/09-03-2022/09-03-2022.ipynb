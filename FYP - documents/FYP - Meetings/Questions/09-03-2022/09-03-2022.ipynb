{
 "cells": [
  {
   "cell_type": "markdown",
   "id": "5e69cab0",
   "metadata": {},
   "source": [
    "<Strong> Ill be going on holiday , from the 2nd to the 11th of April ? </Strong>"
   ]
  },
  {
   "cell_type": "markdown",
   "id": "94166db0",
   "metadata": {},
   "source": [
    "<Strong> Why are the values that we save by using the window sized matrix instead of splitting first so influential? Is it not leakage , because some of the data points you used in trainnig are carried over in test ? </Strong>"
   ]
  },
  {
   "cell_type": "markdown",
   "id": "28a89e78",
   "metadata": {},
   "source": [
    "<p> Example : window_size 2 , 50 % training -  50 % test split , array : 16 timepoints </p>"
   ]
  },
  {
   "cell_type": "code",
   "execution_count": 3,
   "id": "b3f787f1",
   "metadata": {},
   "outputs": [],
   "source": [
    "#array = [1,2,3,4,5,6,7,8,9,10,11,12,13,14,15,16]\n",
    "\n",
    "#sliding window of array - window_size = 14\n",
    "\n",
    "#TRAINING\n",
    "\n",
    "#[1,2] y : 3\n",
    "#[2,3] y : 4\n",
    "#[3,4] Y : 5\n",
    "#[4,5] y : 6\n",
    "#[5,6] y : 7\n",
    "#[6,7] y : 8\n",
    "#[7,8] y : 9\n",
    "\n",
    "#TEST\n",
    "\n",
    "#LEAKAGE by using a timepoint from the training set in the test set ?\n",
    "#[8,9] y : 10\n",
    "#[9,10] y : 11\n",
    "\n",
    "#[10,11] y : 12 \n",
    "#[11,12] y : 13\n",
    "#[12,13] y : 14\n",
    "#[13,14] y : 15\n",
    "#[14,15] y : 16\n",
    "\n",
    "# Are the timepoints you save from creating matrix before splitting not leakage ?"
   ]
  },
  {
   "cell_type": "markdown",
   "id": "55281186",
   "metadata": {},
   "source": [
    "<Strong> How come when i used relu in gru as activation function , it was still underfitting because of vanishing gradient? </Strong>"
   ]
  },
  {
   "cell_type": "markdown",
   "id": "235d90e0",
   "metadata": {},
   "source": [
    "<Strong> Does Dropout prevent vanishing gradient by just reducing the amount of gradients that are multiplied as you do the back propergation through network? (reducing the layers in a way).</Strong>"
   ]
  },
  {
   "cell_type": "markdown",
   "id": "e8c14a89",
   "metadata": {},
   "source": [
    "<Strong> Could a model with not alot of training examples , go from overfitting to underfitting if you added more examples in the training set . Would this have to be a huge amount of data ? </Strong>"
   ]
  },
  {
   "cell_type": "markdown",
   "id": "ef8cfa40",
   "metadata": {},
   "source": [
    "<Strong> Doing a new model when combining training and validation set ? </Strong>"
   ]
  },
  {
   "cell_type": "markdown",
   "id": "e95aa7db",
   "metadata": {},
   "source": [
    "<Strong> TO DO : Multi step forecasting  </Strong>"
   ]
  },
  {
   "cell_type": "markdown",
   "id": "d7416ade",
   "metadata": {},
   "source": [
    "<Strong> TO DO : Rest of Abstract </Strong>"
   ]
  },
  {
   "cell_type": "markdown",
   "id": "4a1de702",
   "metadata": {},
   "source": [
    "<Strong> TO DO : Start on custom TCN model </Strong>"
   ]
  },
  {
   "cell_type": "markdown",
   "id": "2c624473",
   "metadata": {},
   "source": [
    "<Strong> TO DO : Describe what you have done on TCN - total </Strong>"
   ]
  },
  {
   "cell_type": "code",
   "execution_count": null,
   "id": "5b7903dd",
   "metadata": {},
   "outputs": [],
   "source": []
  }
 ],
 "metadata": {
  "kernelspec": {
   "display_name": "Python 3 (ipykernel)",
   "language": "python",
   "name": "python3"
  },
  "language_info": {
   "codemirror_mode": {
    "name": "ipython",
    "version": 3
   },
   "file_extension": ".py",
   "mimetype": "text/x-python",
   "name": "python",
   "nbconvert_exporter": "python",
   "pygments_lexer": "ipython3",
   "version": "3.7.0"
  }
 },
 "nbformat": 4,
 "nbformat_minor": 5
}
